{
 "cells": [
  {
   "cell_type": "code",
   "execution_count": 1,
   "id": "9fd840e2",
   "metadata": {},
   "outputs": [],
   "source": [
    "import dask.dataframe as dd\n",
    "from dask.distributed import Client"
   ]
  },
  {
   "cell_type": "code",
   "execution_count": 2,
   "id": "4777c7bd",
   "metadata": {},
   "outputs": [
    {
     "name": "stderr",
     "output_type": "stream",
     "text": [
      "c:\\Users\\dmitrii.druzhbin\\AppData\\Local\\miniconda3\\envs\\snowcast\\Lib\\site-packages\\distributed\\node.py:187: UserWarning: Port 8787 is already in use.\n",
      "Perhaps you already have a cluster running?\n",
      "Hosting the HTTP server on port 61797 instead\n",
      "  warnings.warn(\n"
     ]
    }
   ],
   "source": [
    "client = Client(\n",
    "    n_workers=4,\n",
    "    threads_per_worker=2,\n",
    "    memory_limit='32GB'\n",
    ")"
   ]
  },
  {
   "cell_type": "code",
   "execution_count": 3,
   "id": "2459da58",
   "metadata": {},
   "outputs": [],
   "source": [
    "data_repo = \"./data/raw/QUOT_SIM2_previous-2020-202507.csv.gz\"\n",
    "df = dd.read_csv(data_repo ,sep=\";\",  blocksize=None, assume_missing=True)"
   ]
  },
  {
   "cell_type": "code",
   "execution_count": 4,
   "id": "584b6942",
   "metadata": {},
   "outputs": [],
   "source": [
    "df[\"DATE\"] = dd.to_datetime(df[\"DATE\"], format=\"%Y%m%d\", errors=\"coerce\")"
   ]
  },
  {
   "cell_type": "code",
   "execution_count": 2,
   "id": "87017c5a",
   "metadata": {},
   "outputs": [],
   "source": [
    "import pandas as pd"
   ]
  },
  {
   "cell_type": "code",
   "execution_count": 3,
   "id": "51f6afd5",
   "metadata": {},
   "outputs": [],
   "source": [
    "df = pd.read_csv(\"./data/raw/QUOT_SIM2_previous-2020-202507.csv.gz\", sep=';', compression='gzip')"
   ]
  },
  {
   "cell_type": "code",
   "execution_count": 4,
   "id": "8b249953",
   "metadata": {},
   "outputs": [],
   "source": [
    "df = df[['LAMBX', 'LAMBY', 'DATE', 'HTEURNEIGE_Q']]"
   ]
  },
  {
   "cell_type": "code",
   "execution_count": 5,
   "id": "fdecc7a2",
   "metadata": {},
   "outputs": [],
   "source": [
    "df['DATE'] = pd.to_datetime(df['DATE'], format='%Y%m%d')"
   ]
  },
  {
   "cell_type": "code",
   "execution_count": 15,
   "id": "dbf55c9d",
   "metadata": {},
   "outputs": [
    {
     "name": "stderr",
     "output_type": "stream",
     "text": [
      "C:\\Users\\dmitrii.druzhbin\\AppData\\Local\\Temp\\ipykernel_14200\\845481309.py:1: SettingWithCopyWarning: \n",
      "A value is trying to be set on a copy of a slice from a DataFrame.\n",
      "Try using .loc[row_indexer,col_indexer] = value instead\n",
      "\n",
      "See the caveats in the documentation: https://pandas.pydata.org/pandas-docs/stable/user_guide/indexing.html#returning-a-view-versus-a-copy\n",
      "  df['coords'] = df['LAMBX'].astype(str)+' '+df['LAMBY'].astype(str)\n"
     ]
    }
   ],
   "source": [
    "df['coords'] = df['LAMBX'].astype(str)+' '+df['LAMBY'].astype(str)"
   ]
  },
  {
   "cell_type": "code",
   "execution_count": 6,
   "id": "4e629076",
   "metadata": {},
   "outputs": [],
   "source": [
    "coords_df = df[['LAMBX', 'LAMBY']]"
   ]
  },
  {
   "cell_type": "code",
   "execution_count": 7,
   "id": "277ad75d",
   "metadata": {},
   "outputs": [],
   "source": [
    "coords_df = coords_df.rename(columns={'LAMBX':'X','LAMBY':'Y'})"
   ]
  },
  {
   "cell_type": "code",
   "execution_count": 8,
   "id": "e8bee5fb",
   "metadata": {},
   "outputs": [
    {
     "data": {
      "text/html": [
       "<div>\n",
       "<style scoped>\n",
       "    .dataframe tbody tr th:only-of-type {\n",
       "        vertical-align: middle;\n",
       "    }\n",
       "\n",
       "    .dataframe tbody tr th {\n",
       "        vertical-align: top;\n",
       "    }\n",
       "\n",
       "    .dataframe thead th {\n",
       "        text-align: right;\n",
       "    }\n",
       "</style>\n",
       "<table border=\"1\" class=\"dataframe\">\n",
       "  <thead>\n",
       "    <tr style=\"text-align: right;\">\n",
       "      <th></th>\n",
       "      <th>X</th>\n",
       "      <th>Y</th>\n",
       "    </tr>\n",
       "  </thead>\n",
       "  <tbody>\n",
       "    <tr>\n",
       "      <th>0</th>\n",
       "      <td>600</td>\n",
       "      <td>24010</td>\n",
       "    </tr>\n",
       "    <tr>\n",
       "      <th>1</th>\n",
       "      <td>600</td>\n",
       "      <td>24010</td>\n",
       "    </tr>\n",
       "    <tr>\n",
       "      <th>2</th>\n",
       "      <td>600</td>\n",
       "      <td>24010</td>\n",
       "    </tr>\n",
       "    <tr>\n",
       "      <th>3</th>\n",
       "      <td>600</td>\n",
       "      <td>24010</td>\n",
       "    </tr>\n",
       "    <tr>\n",
       "      <th>4</th>\n",
       "      <td>600</td>\n",
       "      <td>24010</td>\n",
       "    </tr>\n",
       "    <tr>\n",
       "      <th>...</th>\n",
       "      <td>...</td>\n",
       "      <td>...</td>\n",
       "    </tr>\n",
       "    <tr>\n",
       "      <th>20169783</th>\n",
       "      <td>11960</td>\n",
       "      <td>17450</td>\n",
       "    </tr>\n",
       "    <tr>\n",
       "      <th>20169784</th>\n",
       "      <td>11960</td>\n",
       "      <td>17450</td>\n",
       "    </tr>\n",
       "    <tr>\n",
       "      <th>20169785</th>\n",
       "      <td>11960</td>\n",
       "      <td>17450</td>\n",
       "    </tr>\n",
       "    <tr>\n",
       "      <th>20169786</th>\n",
       "      <td>11960</td>\n",
       "      <td>17450</td>\n",
       "    </tr>\n",
       "    <tr>\n",
       "      <th>20169787</th>\n",
       "      <td>11960</td>\n",
       "      <td>17450</td>\n",
       "    </tr>\n",
       "  </tbody>\n",
       "</table>\n",
       "<p>20169788 rows × 2 columns</p>\n",
       "</div>"
      ],
      "text/plain": [
       "              X      Y\n",
       "0           600  24010\n",
       "1           600  24010\n",
       "2           600  24010\n",
       "3           600  24010\n",
       "4           600  24010\n",
       "...         ...    ...\n",
       "20169783  11960  17450\n",
       "20169784  11960  17450\n",
       "20169785  11960  17450\n",
       "20169786  11960  17450\n",
       "20169787  11960  17450\n",
       "\n",
       "[20169788 rows x 2 columns]"
      ]
     },
     "execution_count": 8,
     "metadata": {},
     "output_type": "execute_result"
    }
   ],
   "source": [
    "coords_df"
   ]
  },
  {
   "cell_type": "code",
   "execution_count": 9,
   "id": "5bf29eb1",
   "metadata": {},
   "outputs": [
    {
     "name": "stderr",
     "output_type": "stream",
     "text": [
      "C:\\Users\\dmitrii.druzhbin\\AppData\\Local\\Temp\\ipykernel_10196\\2276140119.py:14: DeprecationWarning: The 'unary_union' attribute is deprecated, use the 'union_all()' method instead.\n",
      "  gdf_coords_isere = gdf_coords[gdf_coords.within(isere.unary_union)]\n"
     ]
    },
    {
     "data": {
      "text/html": [
       "<div>\n",
       "<style scoped>\n",
       "    .dataframe tbody tr th:only-of-type {\n",
       "        vertical-align: middle;\n",
       "    }\n",
       "\n",
       "    .dataframe tbody tr th {\n",
       "        vertical-align: top;\n",
       "    }\n",
       "\n",
       "    .dataframe thead th {\n",
       "        text-align: right;\n",
       "    }\n",
       "</style>\n",
       "<table border=\"1\" class=\"dataframe\">\n",
       "  <thead>\n",
       "    <tr style=\"text-align: right;\">\n",
       "      <th></th>\n",
       "      <th>X</th>\n",
       "      <th>Y</th>\n",
       "    </tr>\n",
       "  </thead>\n",
       "  <tbody>\n",
       "    <tr>\n",
       "      <th>1249066</th>\n",
       "      <td>7960</td>\n",
       "      <td>20410</td>\n",
       "    </tr>\n",
       "    <tr>\n",
       "      <th>1249067</th>\n",
       "      <td>7960</td>\n",
       "      <td>20410</td>\n",
       "    </tr>\n",
       "    <tr>\n",
       "      <th>1249068</th>\n",
       "      <td>7960</td>\n",
       "      <td>20410</td>\n",
       "    </tr>\n",
       "    <tr>\n",
       "      <th>1249069</th>\n",
       "      <td>7960</td>\n",
       "      <td>20410</td>\n",
       "    </tr>\n",
       "    <tr>\n",
       "      <th>1249070</th>\n",
       "      <td>7960</td>\n",
       "      <td>20410</td>\n",
       "    </tr>\n",
       "  </tbody>\n",
       "</table>\n",
       "</div>"
      ],
      "text/plain": [
       "            X      Y\n",
       "1249066  7960  20410\n",
       "1249067  7960  20410\n",
       "1249068  7960  20410\n",
       "1249069  7960  20410\n",
       "1249070  7960  20410"
      ]
     },
     "execution_count": 9,
     "metadata": {},
     "output_type": "execute_result"
    }
   ],
   "source": [
    "import geopandas as gpd\n",
    "from shapely.geometry import Point\n",
    "\n",
    "# Load French departments GeoJSON and extract Isère (code 38)\n",
    "departments_url = \"https://france-geojson.gregoiredavid.fr/repo/departements.geojson\"\n",
    "departments = gpd.read_file(departments_url)\n",
    "isere = departments[departments[\"code\"] == \"38\"].to_crs(\"EPSG:27572\")  # Match Lambert II étendu\n",
    "\n",
    "# Create GeoDataFrame from coords\n",
    "geometry = [Point(x, y) for x, y in zip(coords_df['X']*100, coords_df['Y']*100)]\n",
    "gdf_coords = gpd.GeoDataFrame(coords_df, geometry=geometry, crs=\"EPSG:27572\")\n",
    "\n",
    "# Filter to keep only points within Isère\n",
    "gdf_coords_isere = gdf_coords[gdf_coords.within(isere.unary_union)]\n",
    "gdf_coords_isere = gdf_coords_isere.drop(columns=\"geometry\")\n",
    "\n",
    "gdf_coords_isere.head()"
   ]
  },
  {
   "cell_type": "code",
   "execution_count": 10,
   "id": "8bbbf125",
   "metadata": {},
   "outputs": [],
   "source": [
    "common_idx = df.index.intersection(gdf_coords_isere.index)\n",
    "big_filtered = df.loc[common_idx]"
   ]
  },
  {
   "cell_type": "code",
   "execution_count": 11,
   "id": "2ea753f8",
   "metadata": {},
   "outputs": [],
   "source": [
    "out = df.loc[common_idx].join(gdf_coords_isere, how='inner', lsuffix='_big', rsuffix='_small')\n"
   ]
  },
  {
   "cell_type": "code",
   "execution_count": 12,
   "id": "5b4e2d3b",
   "metadata": {},
   "outputs": [],
   "source": [
    "out = out.drop(columns=['LAMBX', 'LAMBY'])"
   ]
  },
  {
   "cell_type": "code",
   "execution_count": 13,
   "id": "ccef11a1",
   "metadata": {},
   "outputs": [],
   "source": [
    "out = out.set_index('DATE')"
   ]
  },
  {
   "cell_type": "code",
   "execution_count": 15,
   "id": "d02b5a8e",
   "metadata": {},
   "outputs": [],
   "source": [
    "from pyproj import Transformer\n",
    "from sklearn.neighbors import NearestNeighbors\n",
    "import numpy as np\n",
    "\n",
    "# Step 1: Convert Lambert II étendu (EPSG:27572) X/Y to WGS84 lat/lon\n",
    "transformer = Transformer.from_crs(\"EPSG:27572\", \"EPSG:4326\", always_xy=True)"
   ]
  },
  {
   "cell_type": "code",
   "execution_count": 16,
   "id": "153f1a20",
   "metadata": {},
   "outputs": [],
   "source": [
    "out['lon'], out['lat'] = transformer.transform((out['X']*100).values, (out['Y']*100).values)"
   ]
  },
  {
   "cell_type": "code",
   "execution_count": 17,
   "id": "c62b62f5",
   "metadata": {},
   "outputs": [],
   "source": [
    "out = out.reset_index()"
   ]
  },
  {
   "cell_type": "code",
   "execution_count": 18,
   "id": "89afad85",
   "metadata": {},
   "outputs": [],
   "source": [
    "out['month'] =  out['DATE'].dt.to_period('M')"
   ]
  },
  {
   "cell_type": "code",
   "execution_count": 19,
   "id": "b600f0ee",
   "metadata": {},
   "outputs": [
    {
     "data": {
      "text/html": [
       "<div>\n",
       "<style scoped>\n",
       "    .dataframe tbody tr th:only-of-type {\n",
       "        vertical-align: middle;\n",
       "    }\n",
       "\n",
       "    .dataframe tbody tr th {\n",
       "        vertical-align: top;\n",
       "    }\n",
       "\n",
       "    .dataframe thead th {\n",
       "        text-align: right;\n",
       "    }\n",
       "</style>\n",
       "<table border=\"1\" class=\"dataframe\">\n",
       "  <thead>\n",
       "    <tr style=\"text-align: right;\">\n",
       "      <th></th>\n",
       "      <th>DATE</th>\n",
       "      <th>HTEURNEIGE_Q</th>\n",
       "      <th>X</th>\n",
       "      <th>Y</th>\n",
       "      <th>lon</th>\n",
       "      <th>lat</th>\n",
       "      <th>month</th>\n",
       "    </tr>\n",
       "  </thead>\n",
       "  <tbody>\n",
       "    <tr>\n",
       "      <th>0</th>\n",
       "      <td>2020-01-01</td>\n",
       "      <td>0.000</td>\n",
       "      <td>7960</td>\n",
       "      <td>20410</td>\n",
       "      <td>4.837191</td>\n",
       "      <td>45.341433</td>\n",
       "      <td>2020-01</td>\n",
       "    </tr>\n",
       "    <tr>\n",
       "      <th>1</th>\n",
       "      <td>2020-01-02</td>\n",
       "      <td>0.000</td>\n",
       "      <td>7960</td>\n",
       "      <td>20410</td>\n",
       "      <td>4.837191</td>\n",
       "      <td>45.341433</td>\n",
       "      <td>2020-01</td>\n",
       "    </tr>\n",
       "    <tr>\n",
       "      <th>2</th>\n",
       "      <td>2020-01-03</td>\n",
       "      <td>0.000</td>\n",
       "      <td>7960</td>\n",
       "      <td>20410</td>\n",
       "      <td>4.837191</td>\n",
       "      <td>45.341433</td>\n",
       "      <td>2020-01</td>\n",
       "    </tr>\n",
       "    <tr>\n",
       "      <th>3</th>\n",
       "      <td>2020-01-04</td>\n",
       "      <td>0.000</td>\n",
       "      <td>7960</td>\n",
       "      <td>20410</td>\n",
       "      <td>4.837191</td>\n",
       "      <td>45.341433</td>\n",
       "      <td>2020-01</td>\n",
       "    </tr>\n",
       "    <tr>\n",
       "      <th>4</th>\n",
       "      <td>2020-01-05</td>\n",
       "      <td>0.000</td>\n",
       "      <td>7960</td>\n",
       "      <td>20410</td>\n",
       "      <td>4.837191</td>\n",
       "      <td>45.341433</td>\n",
       "      <td>2020-01</td>\n",
       "    </tr>\n",
       "    <tr>\n",
       "      <th>...</th>\n",
       "      <td>...</td>\n",
       "      <td>...</td>\n",
       "      <td>...</td>\n",
       "      <td>...</td>\n",
       "      <td>...</td>\n",
       "      <td>...</td>\n",
       "      <td>...</td>\n",
       "    </tr>\n",
       "    <tr>\n",
       "      <th>248753</th>\n",
       "      <td>2025-07-27</td>\n",
       "      <td>0.000</td>\n",
       "      <td>9160</td>\n",
       "      <td>20010</td>\n",
       "      <td>6.340070</td>\n",
       "      <td>44.937265</td>\n",
       "      <td>2025-07</td>\n",
       "    </tr>\n",
       "    <tr>\n",
       "      <th>248754</th>\n",
       "      <td>2025-07-28</td>\n",
       "      <td>0.001</td>\n",
       "      <td>9160</td>\n",
       "      <td>20010</td>\n",
       "      <td>6.340070</td>\n",
       "      <td>44.937265</td>\n",
       "      <td>2025-07</td>\n",
       "    </tr>\n",
       "    <tr>\n",
       "      <th>248755</th>\n",
       "      <td>2025-07-29</td>\n",
       "      <td>0.000</td>\n",
       "      <td>9160</td>\n",
       "      <td>20010</td>\n",
       "      <td>6.340070</td>\n",
       "      <td>44.937265</td>\n",
       "      <td>2025-07</td>\n",
       "    </tr>\n",
       "    <tr>\n",
       "      <th>248756</th>\n",
       "      <td>2025-07-30</td>\n",
       "      <td>0.000</td>\n",
       "      <td>9160</td>\n",
       "      <td>20010</td>\n",
       "      <td>6.340070</td>\n",
       "      <td>44.937265</td>\n",
       "      <td>2025-07</td>\n",
       "    </tr>\n",
       "    <tr>\n",
       "      <th>248757</th>\n",
       "      <td>2025-07-31</td>\n",
       "      <td>0.000</td>\n",
       "      <td>9160</td>\n",
       "      <td>20010</td>\n",
       "      <td>6.340070</td>\n",
       "      <td>44.937265</td>\n",
       "      <td>2025-07</td>\n",
       "    </tr>\n",
       "  </tbody>\n",
       "</table>\n",
       "<p>248758 rows × 7 columns</p>\n",
       "</div>"
      ],
      "text/plain": [
       "             DATE  HTEURNEIGE_Q     X      Y       lon        lat    month\n",
       "0      2020-01-01         0.000  7960  20410  4.837191  45.341433  2020-01\n",
       "1      2020-01-02         0.000  7960  20410  4.837191  45.341433  2020-01\n",
       "2      2020-01-03         0.000  7960  20410  4.837191  45.341433  2020-01\n",
       "3      2020-01-04         0.000  7960  20410  4.837191  45.341433  2020-01\n",
       "4      2020-01-05         0.000  7960  20410  4.837191  45.341433  2020-01\n",
       "...           ...           ...   ...    ...       ...        ...      ...\n",
       "248753 2025-07-27         0.000  9160  20010  6.340070  44.937265  2025-07\n",
       "248754 2025-07-28         0.001  9160  20010  6.340070  44.937265  2025-07\n",
       "248755 2025-07-29         0.000  9160  20010  6.340070  44.937265  2025-07\n",
       "248756 2025-07-30         0.000  9160  20010  6.340070  44.937265  2025-07\n",
       "248757 2025-07-31         0.000  9160  20010  6.340070  44.937265  2025-07\n",
       "\n",
       "[248758 rows x 7 columns]"
      ]
     },
     "execution_count": 19,
     "metadata": {},
     "output_type": "execute_result"
    }
   ],
   "source": [
    "out"
   ]
  },
  {
   "cell_type": "code",
   "execution_count": 20,
   "id": "fe479e8f",
   "metadata": {},
   "outputs": [],
   "source": [
    "monthly = out.groupby(['month', 'lon', 'lat'])['HTEURNEIGE_Q'].mean().reset_index()\n",
    "monthly['month'] = monthly['month'].astype(str)"
   ]
  },
  {
   "cell_type": "code",
   "execution_count": 21,
   "id": "eae53bd9",
   "metadata": {},
   "outputs": [
    {
     "data": {
      "text/html": [
       "<div>\n",
       "<style scoped>\n",
       "    .dataframe tbody tr th:only-of-type {\n",
       "        vertical-align: middle;\n",
       "    }\n",
       "\n",
       "    .dataframe tbody tr th {\n",
       "        vertical-align: top;\n",
       "    }\n",
       "\n",
       "    .dataframe thead th {\n",
       "        text-align: right;\n",
       "    }\n",
       "</style>\n",
       "<table border=\"1\" class=\"dataframe\">\n",
       "  <thead>\n",
       "    <tr style=\"text-align: right;\">\n",
       "      <th></th>\n",
       "      <th>month</th>\n",
       "      <th>lon</th>\n",
       "      <th>lat</th>\n",
       "      <th>HTEURNEIGE_Q</th>\n",
       "    </tr>\n",
       "  </thead>\n",
       "  <tbody>\n",
       "    <tr>\n",
       "      <th>0</th>\n",
       "      <td>2020-01</td>\n",
       "      <td>4.837191</td>\n",
       "      <td>45.341433</td>\n",
       "      <td>0.000000</td>\n",
       "    </tr>\n",
       "    <tr>\n",
       "      <th>1</th>\n",
       "      <td>2020-01</td>\n",
       "      <td>4.840441</td>\n",
       "      <td>45.413365</td>\n",
       "      <td>0.000000</td>\n",
       "    </tr>\n",
       "    <tr>\n",
       "      <th>2</th>\n",
       "      <td>2020-01</td>\n",
       "      <td>4.843699</td>\n",
       "      <td>45.485298</td>\n",
       "      <td>0.000000</td>\n",
       "    </tr>\n",
       "    <tr>\n",
       "      <th>3</th>\n",
       "      <td>2020-01</td>\n",
       "      <td>4.846966</td>\n",
       "      <td>45.557232</td>\n",
       "      <td>0.000000</td>\n",
       "    </tr>\n",
       "    <tr>\n",
       "      <th>4</th>\n",
       "      <td>2020-01</td>\n",
       "      <td>4.939185</td>\n",
       "      <td>45.339098</td>\n",
       "      <td>0.000000</td>\n",
       "    </tr>\n",
       "    <tr>\n",
       "      <th>...</th>\n",
       "      <td>...</td>\n",
       "      <td>...</td>\n",
       "      <td>...</td>\n",
       "      <td>...</td>\n",
       "    </tr>\n",
       "    <tr>\n",
       "      <th>8169</th>\n",
       "      <td>2025-07</td>\n",
       "      <td>6.167298</td>\n",
       "      <td>45.375680</td>\n",
       "      <td>0.000000</td>\n",
       "    </tr>\n",
       "    <tr>\n",
       "      <th>8170</th>\n",
       "      <td>2025-07</td>\n",
       "      <td>6.233863</td>\n",
       "      <td>44.869013</td>\n",
       "      <td>0.000387</td>\n",
       "    </tr>\n",
       "    <tr>\n",
       "      <th>8171</th>\n",
       "      <td>2025-07</td>\n",
       "      <td>6.238884</td>\n",
       "      <td>44.940882</td>\n",
       "      <td>0.000097</td>\n",
       "    </tr>\n",
       "    <tr>\n",
       "      <th>8172</th>\n",
       "      <td>2025-07</td>\n",
       "      <td>6.334919</td>\n",
       "      <td>44.865401</td>\n",
       "      <td>0.000710</td>\n",
       "    </tr>\n",
       "    <tr>\n",
       "      <th>8173</th>\n",
       "      <td>2025-07</td>\n",
       "      <td>6.340070</td>\n",
       "      <td>44.937265</td>\n",
       "      <td>0.001774</td>\n",
       "    </tr>\n",
       "  </tbody>\n",
       "</table>\n",
       "<p>8174 rows × 4 columns</p>\n",
       "</div>"
      ],
      "text/plain": [
       "        month       lon        lat  HTEURNEIGE_Q\n",
       "0     2020-01  4.837191  45.341433      0.000000\n",
       "1     2020-01  4.840441  45.413365      0.000000\n",
       "2     2020-01  4.843699  45.485298      0.000000\n",
       "3     2020-01  4.846966  45.557232      0.000000\n",
       "4     2020-01  4.939185  45.339098      0.000000\n",
       "...       ...       ...        ...           ...\n",
       "8169  2025-07  6.167298  45.375680      0.000000\n",
       "8170  2025-07  6.233863  44.869013      0.000387\n",
       "8171  2025-07  6.238884  44.940882      0.000097\n",
       "8172  2025-07  6.334919  44.865401      0.000710\n",
       "8173  2025-07  6.340070  44.937265      0.001774\n",
       "\n",
       "[8174 rows x 4 columns]"
      ]
     },
     "execution_count": 21,
     "metadata": {},
     "output_type": "execute_result"
    }
   ],
   "source": [
    "monthly"
   ]
  },
  {
   "cell_type": "code",
   "execution_count": 26,
   "id": "c0f5a3e1",
   "metadata": {},
   "outputs": [
    {
     "data": {
      "application/vnd.plotly.v1+json": {
       "config": {
        "plotlyServerURL": "https://plot.ly"
       },
       "data": [
        {
         "hovertemplate": "month=2020-01<br>HTEURNEIGE_Q=%{marker.color}<br>lat=%{lat}<br>lon=%{lon}<extra></extra>",
         "lat": {
          "bdata": "GNilFLSrRkCtqV0k6bRGQOjesz0evkZAm+q6X1PHRkD/GkaOZ6tGQABCMISctEZAAFKvg9G9RkDuttWLBsdGQG43+PgXq0ZAYvcM1Ey0RkAzxay4gb1GQKMF6qW2xkZATM7WmuvPRkC6Xg2gkKFGQB/o1lTFqkZAO5cOFPqzRkCvGMfcLr1GQMLJEq5jxkZAk7gDh5jPRkA/pKtmzdhGQAj9G0wC4kZAFh4O/dGORkBVnm99BphGQJR3Dgo7oUZA7u39oW+qRkDb9VBEpLNGQEI0GvDYvEZAt/5rpA3GRkCOW1hgQs9GQA0C8SJ32EZAllpH66vhRkACIx2VeY5GQJY+s/etl0ZAyc57ZuKgRkDfD4rgFqpGQGPu8GRLs0ZAUAfD8n+8RkApqBKJtMVGQEHP8SbpzkZAwStyyx3YRkDqHaV1UuFGQC+3mySH6kZA3hrDIR6ORkBDg4dlUpdGQJMcc7WGoEZA6RqZELupRkCoYgx277JGQI+I3+QjvEZA39EkXFjFRkCQNO7ajM5GQHNXTWDB10ZAWZJT6/XgRkCa1fWe72hGQIoROokjckZA8ApKg1d7RkBzLjqMi4RGQEmYHqO/jUZASRQLx/OWRkA2HhP3J6BGQMzhSTJcqUZA+TrCd5CyRkD6tY7GxLtGQIiPwR35xEZABbVsfC3ORkDuQieYjmhGQFMivWHCcUZALd8SO/Z6RkCi3TwjKoRGQGoxTxlejUZA1Z1dHJKWRkD9lXsrxp9GQAM9vEX6qEZAEmYyai6yRkCslPCXYrtGQLb8CM6WxEZAEOke8/ZeRkD75WKKKmhGQBPWRTJecUZAimXc6ZF6RkDX7zqwxYNGQOV/dYT5jEZAMtCfZS2WRkAHS81SYZ9GQIUKEUuVqEZA7dh9TcmxRkAD2jABkF5GQPr+yXXDZ0ZABYT1+vZwRkBkDMiPKnpGQJ7qVTNeg0ZAkyCz5JGMRkCzX/OixZVGQBcJKm35nkZAui1qQi2oRkCgjsYhYbFGQHTOflpZZ0ZAZ4Tuu4xwRkDWQ/gswHlGQAFWsKzzgkZAf7MqOieMRkBuBHvUWpVGQICgtHqOnkZAQo/qK8KnRkAuiC/n9bBGQNbylaspukZAbzBUdR9wRkCIfZDBUnlGQDu8bRyGgkZAndv/hLmLRkArelr67JRGQPXlkHsgnkZAyhy2B1SnRkBjzNydh7BGQP7hSievb0ZAkiy1TeJ4RkC8qbKCFYJGQME+V8VIi0ZAtGfzRRawRkCK8/fRO29GQE7Fi9FueEZA87+BdcVuRkA2vTpN+HdGQA==",
          "dtype": "f8"
         },
         "legendgroup": "",
         "lon": {
          "bdata": "fdMnuEhZE0DmL32SnFwTQNK/OqTyXxNAogWY70pjE0AzeK7LucETQMUBOFowxRNA6VQ7N6nIE0DN9QZlJMwTQPY8B5MoKhRAbH9508EtFEB2EnR5XTEUQPp2XIf7NBRAimCb/5s4FEAaU1yB244UQDZ+OveUkhRA+yYz51CWFED0eb9TD5oUQGbvWz/QnRRA01CIrJOhFEB/vsedWaUUQAi1oBUiqRRAQ1VZZnLvFECNhd5XSfMUQPaUWdUi9xRAgsBT4f76FED8o1l+3f4UQI0/+66+AhVAYP3LdaIGFUBWt2LViAoVQMC8WdBxDhVAKthOaV0SFUB4EihJclcVQH/upKBrWxVAiz3YmmdfFUCxzmE6ZmMVQKzt5IFnZxVAoWgIdGtrFUDtlXYTcm8VQBda3WJ7cxVAtS3uZId3FUBqI14clnsVQPDt5YunfxVA4jrdi2+/FUBga7VGi8MVQO0rAbupxxVA8td268rLFUBNZdDa7s8VQENqy4sV1BVAiSMpAT/YFUBTeq49a9wVQIkKJESa4BVA2ihWF8zkFUD/UhGUjRYWQNnzlIrAGhZA4N02RvYeFkACT7XJLiMWQCwl0hdqJxZALuRSM6grFkDNuwAf6S8WQN2NqN0sNBZAXfQacnM4FkCpRyzfvDwWQLSktCcJQRZATvOPTlhFFkDGxoG8/H0WQEAk7LZRghZAt8XRjKmGFkBw9AZBBIsWQJS2Y9ZhjxZAWtXDT8KTFkBG4wawJZgWQGlCEPqLnBZAwSrHMPWgFkCEsBZXYaUWQJvK7W/QqRZAUJ61//TgFkDQGUgMaeUWQHCiyAfg6RZAIrMd9VnuFkBWmjHX1vIWQEiA8rBW9xZAXm1Shdn7FkCVUEdXXwAXQOwFyynoBBdA+Fzb/3MJF0D6Vp54PEgXQFL1IG3STBdANS/RZmtRF0DFYatoB1YXQEzar3WmWhdAvdzikEhfF0BFqky97WMXQN6H+f2VaBdA8sT5VUFtF0AkwmHI73EXQLbPzMg4tBdA116wvfO4F0AXZw/Rsb0XQBYuAAZzwhdA+wydXzfHF0AZdwTh/ssXQMYAWY3J0BdAKGbBZ5fVF0AlkmhzaNoXQEGlfbM83xdAwbUU9nggGEAnT+IXWSUYQKUMpXE8KhhAzlWNBiMvGEBWyc/ZDDQYQBxEpe75OBhAGOhKSOo9GECDIwLq3UIYQCTFsPn6hxhAibnAJv2MGEAgByWiApIYQP8cJG8LlxhAcwlFFVCrGECRRzuyee8YQAN2S+ed9BhAfj1vCfVWGUBEoSdDO1wZQA==",
          "dtype": "f8"
         },
         "marker": {
          "color": {
           "bdata": "AAAAAAAAAAAAAAAAAAAAAAAAAAAAAAAAAAAAAAAAAAAAAAAAAAAAAAAAAAAAAAAAAAAAAAAAAAAAAAAAAAAAAAAAAAAAAAAAAAAAAAAAAAAAAAAAAAAAAAAAAAAAAAAAAAAAAAAAAAAAAAAAAAAAAAAAAAAAAAAAAAAAAAAAAAAAAAAAAAAAAAAAAAAAAAAAAAAAAAAAAAAAAAAAAAAAAAAAAAAAAAAAAAAAAAAAAAAAAAAAAAAAAAAAAAAAAAAAAAAAAAAAAAAAAAAAAAAAAAAAAAAAAAAAAAAAAAAAAAAAAAAAAAAAAAAAAAAAAAAAAAAAAAAAAAAAAAAAAAAAAAAAAAAAAAAAAAAAAAAAAAAAAAAAAAAAAAAAAAAAAAAAAAAAAAAAAAAAAAAAAAAAAAAAAAAAAAAAAAAAAAAAAAAAAAAAAAAAAAAAAAAAAAAAK+ZM/GdeGT8zt1mmzphdPwAAAAAAAAAAAAAAAAAAAAAAAAAAAAAAAAAAAAAAAAAAAAAAAAAAAAAAAAAAAAAAAAAAAAAAAAAAHUQzqJrpAD/kN6bkybDcP5OcKsmpktQ/yOSzf3Euyz/NijkT/5m3PyQVQFIBJDU/a/a6Zq9rtj8k/w6/vL2YPwAAAAAAAAAAAAAAAAAAAAAAAAAAAAAAAAAAAAAAAAAAAAAAAAAAAAAkFUBSASRlP0fE16riE6E/AAAAAAAAAACTPfSlECy3P6jcfMrNp7w/moNoBlUzrT8AAAAAAAAAAL9dh3UP8pA/AAAAAAAAAAAAAAAAAAAAAAAAAAAAAAAA+4xOaYIuwD8AAAAAAAAAADf3NkA80JA/DHeSPfSlcD+/R1biyouEPwAAAAAAAAAAAAAAAAAAAAC0Ys7Ef+aVP5HQ2dVpKtI/niJ8w1vRtT8+J3oNPHHmP7I3R66mF84/AAAAAAAAAADaAcxQ8z/IPymPY78Fw8g/G3jitFqBrj/psclRzk9YPwAAAAAAAAAATdAFOJCzxj/4U+Olm8TQP420EXxO9Ko/iVeReBWJxz9U3DPFPVPgPyc4eoKjJ+g/0ZdCsFw33j/+6ql8a5fwP6QYeb3ECr8/HUQzqJrpED8AAAAAAAAAAAAAAAAAAAAAZUJRJhRl4j9n+HCGD2fyPxFuakcN3do/KqwGKdH20D+e76fGSzfhP1XqF3JL7vE/cSfZQ18K0T+jq17tHQmCP+6gVHWwu/U/5o6PISxM8z84cxDNoGriP3iZr8os3u8/CO6vEzJu8D/55e3FRMX8P8WyupIRkvc/wFU6j9gm+j8p0fZ40/X7Pw==",
           "dtype": "f8"
          },
          "coloraxis": "coloraxis",
          "size": {
           "bdata": "AAAAAAAAAAAAAAAAAAAAAAAAAAAAAAAAAAAAAAAAAAAAAAAAAAAAAAAAAAAAAAAAAAAAAAAAAAAAAAAAAAAAAAAAAAAAAAAAAAAAAAAAAAAAAAAAAAAAAAAAAAAAAAAAAAAAAAAAAAAAAAAAAAAAAAAAAAAAAAAAAAAAAAAAAAAAAAAAAAAAAAAAAAAAAAAAAAAAAAAAAAAAAAAAAAAAAAAAAAAAAAAAAAAAAAAAAAAAAAAAAAAAAAAAAAAAAAAAAAAAAAAAAAAAAAAAAAAAAAAAAAAAAAAAAAAAAAAAAAAAAAAAAAAAAAAAAAAAAAAAAAAAAAAAAAAAAAAAAAAAAAAAAAAAAAAAAAAAAAAAAAAAAAAAAAAAAAAAAAAAAAAAAAAAAAAAAAAAAAAAAAAAAAAAAAAAAAAAAAAAAAAAAAAAAAAAAAAAAAAAAAAAAAAAK+ZM/GdeGT8zt1mmzphdPwAAAAAAAAAAAAAAAAAAAAAAAAAAAAAAAAAAAAAAAAAAAAAAAAAAAAAAAAAAAAAAAAAAAAAAAAAAHUQzqJrpAD/kN6bkybDcP5OcKsmpktQ/yOSzf3Euyz/NijkT/5m3PyQVQFIBJDU/a/a6Zq9rtj8k/w6/vL2YPwAAAAAAAAAAAAAAAAAAAAAAAAAAAAAAAAAAAAAAAAAAAAAAAAAAAAAkFUBSASRlP0fE16riE6E/AAAAAAAAAACTPfSlECy3P6jcfMrNp7w/moNoBlUzrT8AAAAAAAAAAL9dh3UP8pA/AAAAAAAAAAAAAAAAAAAAAAAAAAAAAAAA+4xOaYIuwD8AAAAAAAAAADf3NkA80JA/DHeSPfSlcD+/R1biyouEPwAAAAAAAAAAAAAAAAAAAAC0Ys7Ef+aVP5HQ2dVpKtI/niJ8w1vRtT8+J3oNPHHmP7I3R66mF84/AAAAAAAAAADaAcxQ8z/IPymPY78Fw8g/G3jitFqBrj/psclRzk9YPwAAAAAAAAAATdAFOJCzxj/4U+Olm8TQP420EXxO9Ko/iVeReBWJxz9U3DPFPVPgPyc4eoKjJ+g/0ZdCsFw33j/+6ql8a5fwP6QYeb3ECr8/HUQzqJrpED8AAAAAAAAAAAAAAAAAAAAAZUJRJhRl4j9n+HCGD2fyPxFuakcN3do/KqwGKdH20D+e76fGSzfhP1XqF3JL7vE/cSfZQ18K0T+jq17tHQmCP+6gVHWwu/U/5o6PISxM8z84cxDNoGriP3iZr8os3u8/CO6vEzJu8D/55e3FRMX8P8WyupIRkvc/wFU6j9gm+j8p0fZ40/X7Pw==",
           "dtype": "f8"
          },
          "sizemode": "area",
          "sizeref": 0.006043951612903227
         },
         "mode": "markers",
         "name": "",
         "showlegend": false,
         "subplot": "map",
         "type": "scattermap"
        }
       ],
       "frames": [
        {
         "data": [
          {
           "hovertemplate": "month=2020-01<br>HTEURNEIGE_Q=%{marker.color}<br>lat=%{lat}<br>lon=%{lon}<extra></extra>",
           "lat": {
            "bdata": "GNilFLSrRkCtqV0k6bRGQOjesz0evkZAm+q6X1PHRkD/GkaOZ6tGQABCMISctEZAAFKvg9G9RkDuttWLBsdGQG43+PgXq0ZAYvcM1Ey0RkAzxay4gb1GQKMF6qW2xkZATM7WmuvPRkC6Xg2gkKFGQB/o1lTFqkZAO5cOFPqzRkCvGMfcLr1GQMLJEq5jxkZAk7gDh5jPRkA/pKtmzdhGQAj9G0wC4kZAFh4O/dGORkBVnm99BphGQJR3Dgo7oUZA7u39oW+qRkDb9VBEpLNGQEI0GvDYvEZAt/5rpA3GRkCOW1hgQs9GQA0C8SJ32EZAllpH66vhRkACIx2VeY5GQJY+s/etl0ZAyc57ZuKgRkDfD4rgFqpGQGPu8GRLs0ZAUAfD8n+8RkApqBKJtMVGQEHP8SbpzkZAwStyyx3YRkDqHaV1UuFGQC+3mySH6kZA3hrDIR6ORkBDg4dlUpdGQJMcc7WGoEZA6RqZELupRkCoYgx277JGQI+I3+QjvEZA39EkXFjFRkCQNO7ajM5GQHNXTWDB10ZAWZJT6/XgRkCa1fWe72hGQIoROokjckZA8ApKg1d7RkBzLjqMi4RGQEmYHqO/jUZASRQLx/OWRkA2HhP3J6BGQMzhSTJcqUZA+TrCd5CyRkD6tY7GxLtGQIiPwR35xEZABbVsfC3ORkDuQieYjmhGQFMivWHCcUZALd8SO/Z6RkCi3TwjKoRGQGoxTxlejUZA1Z1dHJKWRkD9lXsrxp9GQAM9vEX6qEZAEmYyai6yRkCslPCXYrtGQLb8CM6WxEZAEOke8/ZeRkD75WKKKmhGQBPWRTJecUZAimXc6ZF6RkDX7zqwxYNGQOV/dYT5jEZAMtCfZS2WRkAHS81SYZ9GQIUKEUuVqEZA7dh9TcmxRkAD2jABkF5GQPr+yXXDZ0ZABYT1+vZwRkBkDMiPKnpGQJ7qVTNeg0ZAkyCz5JGMRkCzX/OixZVGQBcJKm35nkZAui1qQi2oRkCgjsYhYbFGQHTOflpZZ0ZAZ4Tuu4xwRkDWQ/gswHlGQAFWsKzzgkZAf7MqOieMRkBuBHvUWpVGQICgtHqOnkZAQo/qK8KnRkAuiC/n9bBGQNbylaspukZAbzBUdR9wRkCIfZDBUnlGQDu8bRyGgkZAndv/hLmLRkArelr67JRGQPXlkHsgnkZAyhy2B1SnRkBjzNydh7BGQP7hSievb0ZAkiy1TeJ4RkC8qbKCFYJGQME+V8VIi0ZAtGfzRRawRkCK8/fRO29GQE7Fi9FueEZA87+BdcVuRkA2vTpN+HdGQA==",
            "dtype": "f8"
           },
           "legendgroup": "",
           "lon": {
            "bdata": "fdMnuEhZE0DmL32SnFwTQNK/OqTyXxNAogWY70pjE0AzeK7LucETQMUBOFowxRNA6VQ7N6nIE0DN9QZlJMwTQPY8B5MoKhRAbH9508EtFEB2EnR5XTEUQPp2XIf7NBRAimCb/5s4FEAaU1yB244UQDZ+OveUkhRA+yYz51CWFED0eb9TD5oUQGbvWz/QnRRA01CIrJOhFEB/vsedWaUUQAi1oBUiqRRAQ1VZZnLvFECNhd5XSfMUQPaUWdUi9xRAgsBT4f76FED8o1l+3f4UQI0/+66+AhVAYP3LdaIGFUBWt2LViAoVQMC8WdBxDhVAKthOaV0SFUB4EihJclcVQH/upKBrWxVAiz3YmmdfFUCxzmE6ZmMVQKzt5IFnZxVAoWgIdGtrFUDtlXYTcm8VQBda3WJ7cxVAtS3uZId3FUBqI14clnsVQPDt5YunfxVA4jrdi2+/FUBga7VGi8MVQO0rAbupxxVA8td268rLFUBNZdDa7s8VQENqy4sV1BVAiSMpAT/YFUBTeq49a9wVQIkKJESa4BVA2ihWF8zkFUD/UhGUjRYWQNnzlIrAGhZA4N02RvYeFkACT7XJLiMWQCwl0hdqJxZALuRSM6grFkDNuwAf6S8WQN2NqN0sNBZAXfQacnM4FkCpRyzfvDwWQLSktCcJQRZATvOPTlhFFkDGxoG8/H0WQEAk7LZRghZAt8XRjKmGFkBw9AZBBIsWQJS2Y9ZhjxZAWtXDT8KTFkBG4wawJZgWQGlCEPqLnBZAwSrHMPWgFkCEsBZXYaUWQJvK7W/QqRZAUJ61//TgFkDQGUgMaeUWQHCiyAfg6RZAIrMd9VnuFkBWmjHX1vIWQEiA8rBW9xZAXm1Shdn7FkCVUEdXXwAXQOwFyynoBBdA+Fzb/3MJF0D6Vp54PEgXQFL1IG3STBdANS/RZmtRF0DFYatoB1YXQEzar3WmWhdAvdzikEhfF0BFqky97WMXQN6H+f2VaBdA8sT5VUFtF0AkwmHI73EXQLbPzMg4tBdA116wvfO4F0AXZw/Rsb0XQBYuAAZzwhdA+wydXzfHF0AZdwTh/ssXQMYAWY3J0BdAKGbBZ5fVF0AlkmhzaNoXQEGlfbM83xdAwbUU9nggGEAnT+IXWSUYQKUMpXE8KhhAzlWNBiMvGEBWyc/ZDDQYQBxEpe75OBhAGOhKSOo9GECDIwLq3UIYQCTFsPn6hxhAibnAJv2MGEAgByWiApIYQP8cJG8LlxhAcwlFFVCrGECRRzuyee8YQAN2S+ed9BhAfj1vCfVWGUBEoSdDO1wZQA==",
            "dtype": "f8"
           },
           "marker": {
            "color": {
             "bdata": "AAAAAAAAAAAAAAAAAAAAAAAAAAAAAAAAAAAAAAAAAAAAAAAAAAAAAAAAAAAAAAAAAAAAAAAAAAAAAAAAAAAAAAAAAAAAAAAAAAAAAAAAAAAAAAAAAAAAAAAAAAAAAAAAAAAAAAAAAAAAAAAAAAAAAAAAAAAAAAAAAAAAAAAAAAAAAAAAAAAAAAAAAAAAAAAAAAAAAAAAAAAAAAAAAAAAAAAAAAAAAAAAAAAAAAAAAAAAAAAAAAAAAAAAAAAAAAAAAAAAAAAAAAAAAAAAAAAAAAAAAAAAAAAAAAAAAAAAAAAAAAAAAAAAAAAAAAAAAAAAAAAAAAAAAAAAAAAAAAAAAAAAAAAAAAAAAAAAAAAAAAAAAAAAAAAAAAAAAAAAAAAAAAAAAAAAAAAAAAAAAAAAAAAAAAAAAAAAAAAAAAAAAAAAAAAAAAAAAAAAAAAAAAAAK+ZM/GdeGT8zt1mmzphdPwAAAAAAAAAAAAAAAAAAAAAAAAAAAAAAAAAAAAAAAAAAAAAAAAAAAAAAAAAAAAAAAAAAAAAAAAAAHUQzqJrpAD/kN6bkybDcP5OcKsmpktQ/yOSzf3Euyz/NijkT/5m3PyQVQFIBJDU/a/a6Zq9rtj8k/w6/vL2YPwAAAAAAAAAAAAAAAAAAAAAAAAAAAAAAAAAAAAAAAAAAAAAAAAAAAAAkFUBSASRlP0fE16riE6E/AAAAAAAAAACTPfSlECy3P6jcfMrNp7w/moNoBlUzrT8AAAAAAAAAAL9dh3UP8pA/AAAAAAAAAAAAAAAAAAAAAAAAAAAAAAAA+4xOaYIuwD8AAAAAAAAAADf3NkA80JA/DHeSPfSlcD+/R1biyouEPwAAAAAAAAAAAAAAAAAAAAC0Ys7Ef+aVP5HQ2dVpKtI/niJ8w1vRtT8+J3oNPHHmP7I3R66mF84/AAAAAAAAAADaAcxQ8z/IPymPY78Fw8g/G3jitFqBrj/psclRzk9YPwAAAAAAAAAATdAFOJCzxj/4U+Olm8TQP420EXxO9Ko/iVeReBWJxz9U3DPFPVPgPyc4eoKjJ+g/0ZdCsFw33j/+6ql8a5fwP6QYeb3ECr8/HUQzqJrpED8AAAAAAAAAAAAAAAAAAAAAZUJRJhRl4j9n+HCGD2fyPxFuakcN3do/KqwGKdH20D+e76fGSzfhP1XqF3JL7vE/cSfZQ18K0T+jq17tHQmCP+6gVHWwu/U/5o6PISxM8z84cxDNoGriP3iZr8os3u8/CO6vEzJu8D/55e3FRMX8P8WyupIRkvc/wFU6j9gm+j8p0fZ40/X7Pw==",
             "dtype": "f8"
            },
            "coloraxis": "coloraxis",
            "size": {
             "bdata": "AAAAAAAAAAAAAAAAAAAAAAAAAAAAAAAAAAAAAAAAAAAAAAAAAAAAAAAAAAAAAAAAAAAAAAAAAAAAAAAAAAAAAAAAAAAAAAAAAAAAAAAAAAAAAAAAAAAAAAAAAAAAAAAAAAAAAAAAAAAAAAAAAAAAAAAAAAAAAAAAAAAAAAAAAAAAAAAAAAAAAAAAAAAAAAAAAAAAAAAAAAAAAAAAAAAAAAAAAAAAAAAAAAAAAAAAAAAAAAAAAAAAAAAAAAAAAAAAAAAAAAAAAAAAAAAAAAAAAAAAAAAAAAAAAAAAAAAAAAAAAAAAAAAAAAAAAAAAAAAAAAAAAAAAAAAAAAAAAAAAAAAAAAAAAAAAAAAAAAAAAAAAAAAAAAAAAAAAAAAAAAAAAAAAAAAAAAAAAAAAAAAAAAAAAAAAAAAAAAAAAAAAAAAAAAAAAAAAAAAAAAAAAAAAK+ZM/GdeGT8zt1mmzphdPwAAAAAAAAAAAAAAAAAAAAAAAAAAAAAAAAAAAAAAAAAAAAAAAAAAAAAAAAAAAAAAAAAAAAAAAAAAHUQzqJrpAD/kN6bkybDcP5OcKsmpktQ/yOSzf3Euyz/NijkT/5m3PyQVQFIBJDU/a/a6Zq9rtj8k/w6/vL2YPwAAAAAAAAAAAAAAAAAAAAAAAAAAAAAAAAAAAAAAAAAAAAAAAAAAAAAkFUBSASRlP0fE16riE6E/AAAAAAAAAACTPfSlECy3P6jcfMrNp7w/moNoBlUzrT8AAAAAAAAAAL9dh3UP8pA/AAAAAAAAAAAAAAAAAAAAAAAAAAAAAAAA+4xOaYIuwD8AAAAAAAAAADf3NkA80JA/DHeSPfSlcD+/R1biyouEPwAAAAAAAAAAAAAAAAAAAAC0Ys7Ef+aVP5HQ2dVpKtI/niJ8w1vRtT8+J3oNPHHmP7I3R66mF84/AAAAAAAAAADaAcxQ8z/IPymPY78Fw8g/G3jitFqBrj/psclRzk9YPwAAAAAAAAAATdAFOJCzxj/4U+Olm8TQP420EXxO9Ko/iVeReBWJxz9U3DPFPVPgPyc4eoKjJ+g/0ZdCsFw33j/+6ql8a5fwP6QYeb3ECr8/HUQzqJrpED8AAAAAAAAAAAAAAAAAAAAAZUJRJhRl4j9n+HCGD2fyPxFuakcN3do/KqwGKdH20D+e76fGSzfhP1XqF3JL7vE/cSfZQ18K0T+jq17tHQmCP+6gVHWwu/U/5o6PISxM8z84cxDNoGriP3iZr8os3u8/CO6vEzJu8D/55e3FRMX8P8WyupIRkvc/wFU6j9gm+j8p0fZ40/X7Pw==",
             "dtype": "f8"
            },
            "sizemode": "area",
            "sizeref": 0.006043951612903227
           },
           "mode": "markers",
           "name": "",
           "showlegend": false,
           "subplot": "map",
           "type": "scattermap"
          }
         ],
         "name": "2020-01"
        },
        {
         "data": [
          {
           "hovertemplate": "month=2020-02<br>HTEURNEIGE_Q=%{marker.color}<br>lat=%{lat}<br>lon=%{lon}<extra></extra>",
           "lat": {
            "bdata": "GNilFLSrRkCtqV0k6bRGQOjesz0evkZAm+q6X1PHRkD/GkaOZ6tGQABCMISctEZAAFKvg9G9RkDuttWLBsdGQG43+PgXq0ZAYvcM1Ey0RkAzxay4gb1GQKMF6qW2xkZATM7WmuvPRkC6Xg2gkKFGQB/o1lTFqkZAO5cOFPqzRkCvGMfcLr1GQMLJEq5jxkZAk7gDh5jPRkA/pKtmzdhGQAj9G0wC4kZAFh4O/dGORkBVnm99BphGQJR3Dgo7oUZA7u39oW+qRkDb9VBEpLNGQEI0GvDYvEZAt/5rpA3GRkCOW1hgQs9GQA0C8SJ32EZAllpH66vhRkACIx2VeY5GQJY+s/etl0ZAyc57ZuKgRkDfD4rgFqpGQGPu8GRLs0ZAUAfD8n+8RkApqBKJtMVGQEHP8SbpzkZAwStyyx3YRkDqHaV1UuFGQC+3mySH6kZA3hrDIR6ORkBDg4dlUpdGQJMcc7WGoEZA6RqZELupRkCoYgx277JGQI+I3+QjvEZA39EkXFjFRkCQNO7ajM5GQHNXTWDB10ZAWZJT6/XgRkCa1fWe72hGQIoROokjckZA8ApKg1d7RkBzLjqMi4RGQEmYHqO/jUZASRQLx/OWRkA2HhP3J6BGQMzhSTJcqUZA+TrCd5CyRkD6tY7GxLtGQIiPwR35xEZABbVsfC3ORkDuQieYjmhGQFMivWHCcUZALd8SO/Z6RkCi3TwjKoRGQGoxTxlejUZA1Z1dHJKWRkD9lXsrxp9GQAM9vEX6qEZAEmYyai6yRkCslPCXYrtGQLb8CM6WxEZAEOke8/ZeRkD75WKKKmhGQBPWRTJecUZAimXc6ZF6RkDX7zqwxYNGQOV/dYT5jEZAMtCfZS2WRkAHS81SYZ9GQIUKEUuVqEZA7dh9TcmxRkAD2jABkF5GQPr+yXXDZ0ZABYT1+vZwRkBkDMiPKnpGQJ7qVTNeg0ZAkyCz5JGMRkCzX/OixZVGQBcJKm35nkZAui1qQi2oRkCgjsYhYbFGQHTOflpZZ0ZAZ4Tuu4xwRkDWQ/gswHlGQAFWsKzzgkZAf7MqOieMRkBuBHvUWpVGQICgtHqOnkZAQo/qK8KnRkAuiC/n9bBGQNbylaspukZAbzBUdR9wRkCIfZDBUnlGQDu8bRyGgkZAndv/hLmLRkArelr67JRGQPXlkHsgnkZAyhy2B1SnRkBjzNydh7BGQP7hSievb0ZAkiy1TeJ4RkC8qbKCFYJGQME+V8VIi0ZAtGfzRRawRkCK8/fRO29GQE7Fi9FueEZA87+BdcVuRkA2vTpN+HdGQA==",
            "dtype": "f8"
           },
           "legendgroup": "",
           "lon": {
            "bdata": "fdMnuEhZE0DmL32SnFwTQNK/OqTyXxNAogWY70pjE0AzeK7LucETQMUBOFowxRNA6VQ7N6nIE0DN9QZlJMwTQPY8B5MoKhRAbH9508EtFEB2EnR5XTEUQPp2XIf7NBRAimCb/5s4FEAaU1yB244UQDZ+OveUkhRA+yYz51CWFED0eb9TD5oUQGbvWz/QnRRA01CIrJOhFEB/vsedWaUUQAi1oBUiqRRAQ1VZZnLvFECNhd5XSfMUQPaUWdUi9xRAgsBT4f76FED8o1l+3f4UQI0/+66+AhVAYP3LdaIGFUBWt2LViAoVQMC8WdBxDhVAKthOaV0SFUB4EihJclcVQH/upKBrWxVAiz3YmmdfFUCxzmE6ZmMVQKzt5IFnZxVAoWgIdGtrFUDtlXYTcm8VQBda3WJ7cxVAtS3uZId3FUBqI14clnsVQPDt5YunfxVA4jrdi2+/FUBga7VGi8MVQO0rAbupxxVA8td268rLFUBNZdDa7s8VQENqy4sV1BVAiSMpAT/YFUBTeq49a9wVQIkKJESa4BVA2ihWF8zkFUD/UhGUjRYWQNnzlIrAGhZA4N02RvYeFkACT7XJLiMWQCwl0hdqJxZALuRSM6grFkDNuwAf6S8WQN2NqN0sNBZAXfQacnM4FkCpRyzfvDwWQLSktCcJQRZATvOPTlhFFkDGxoG8/H0WQEAk7LZRghZAt8XRjKmGFkBw9AZBBIsWQJS2Y9ZhjxZAWtXDT8KTFkBG4wawJZgWQGlCEPqLnBZAwSrHMPWgFkCEsBZXYaUWQJvK7W/QqRZAUJ61//TgFkDQGUgMaeUWQHCiyAfg6RZAIrMd9VnuFkBWmjHX1vIWQEiA8rBW9xZAXm1Shdn7FkCVUEdXXwAXQOwFyynoBBdA+Fzb/3MJF0D6Vp54PEgXQFL1IG3STBdANS/RZmtRF0DFYatoB1YXQEzar3WmWhdAvdzikEhfF0BFqky97WMXQN6H+f2VaBdA8sT5VUFtF0AkwmHI73EXQLbPzMg4tBdA116wvfO4F0AXZw/Rsb0XQBYuAAZzwhdA+wydXzfHF0AZdwTh/ssXQMYAWY3J0BdAKGbBZ5fVF0AlkmhzaNoXQEGlfbM83xdAwbUU9nggGEAnT+IXWSUYQKUMpXE8KhhAzlWNBiMvGEBWyc/ZDDQYQBxEpe75OBhAGOhKSOo9GECDIwLq3UIYQCTFsPn6hxhAibnAJv2MGEAgByWiApIYQP8cJG8LlxhAcwlFFVCrGECRRzuyee8YQAN2S+ed9BhAfj1vCfVWGUBEoSdDO1wZQA==",
            "dtype": "f8"
           },
           "marker": {
            "color": {
             "bdata": "AAAAAAAAAAAAAAAAAAAAAAAAAAAAAAAAAAAAAAAAAAAAAAAAAAAAAAAAAAAAAAAAAAAAAAAAAAAAAAAAAAAAAAAAAAAAAAAAAAAAAAAAAAAAAAAAAAAAAAAAAAAAAAAAAAAAAAAAAAAAAAAAAAAAAAAAAAAAAAAAAAAAAAAAAAAAAAAAAAAAAAAAAAAAAAAAAAAAAAAAAAAAAAAAAAAAAAAAAAAAAAAAAAAAAAAAAAAAAAAAAAAAAAAAAAAAAAAAAAAAAAAAAAAAAAAAAAAAAAAAAAAAAAAAAAAAAAAAAAAAAAAAAAAAAAAAAAAAAAAAAAAAAAAAAAAAAAAAAAAAAAAAAAAAAAAAAAAAAAAAAAAAAAAAAAAAAAAAAAAAAAAAAAAAAAAAAAAAAAAAAAAAAAAAAAAAAAAAAAAAAAAAAAAAAAAAAAAAAAAAAAAAAAAAqFzgv6uAcj8uIrzYSx5LPwAAAAAAAAAAAAAAAAAAAAAAAAAAAAAAAAAAAAAAAAAAAAAAAAAAAAAAAAAAAAAAAAAAAAAAAAAAH2x9kDIUAj+Ugm/N6+3XP3SHsiDJ4NE/DdYBdtFayj9TD8+sCZ+kP+dyHUep638/hJpUAsfOsD9YUiKK/MiSPwAAAAAAAAAAAAAAAAAAAAAAAAAAAAAAAAAAAAAAAAAAAAAAAAAAAACM9XOm01N1Pw54/OGAx48/qnSshsXbaD/xF+U02+CwP44HjfsmGLo/2nDyv5ISoT8fbH2QMhQSPwtgMBtnbIk/AAAAAAAAAAAAAAAAAAAAAB9sfZAyFBI/EwaaAwURtz/5fmq8dJNoP2xLtK8I/Xk/bEu0rwj9eT+L6Q3DRiaCPx9sfZAyFAI/AAAAAAAAAADjWlGAj5CZPw9M09A7SdM/1dyhLEgyuD9ag1wSnC7kP9IPIKq/9so/QAOCNz73az8oupRWRrzGPxITouH97cY/QAOCNz73qz/G2xignQhWPx9sfZAyFAI/WmQ730+Nxz+NTCTO8aDRP5yrsu7sXZ4/Avmqk825wT94sZc8NgDdPyx6DvvVGug/8/FulVz53T+3j0XPYb/wP/H4wwGPP7w/qnSshsXbOD8nx5w0P5lGP76A+fuQg2E/pHA9Ctej4D9GnYU8T27yPy+x+/Q7F9c/GVVTxIRo0D9/7ZWt9uPgPwvjCVTKN/I/TgQLxOggzj+IsiDJ4ClnP1nCQHOgIPY/hr8op9kG8z/Iu1Vy5bfgP5lInONB4+4/iJ9leSG28z9HvKZvmw//P5IfWcJAc/g/9qs1yCXB+z93c1XWnb39Pw==",
             "dtype": "f8"
            },
            "coloraxis": "coloraxis",
            "size": {
             "bdata": "AAAAAAAAAAAAAAAAAAAAAAAAAAAAAAAAAAAAAAAAAAAAAAAAAAAAAAAAAAAAAAAAAAAAAAAAAAAAAAAAAAAAAAAAAAAAAAAAAAAAAAAAAAAAAAAAAAAAAAAAAAAAAAAAAAAAAAAAAAAAAAAAAAAAAAAAAAAAAAAAAAAAAAAAAAAAAAAAAAAAAAAAAAAAAAAAAAAAAAAAAAAAAAAAAAAAAAAAAAAAAAAAAAAAAAAAAAAAAAAAAAAAAAAAAAAAAAAAAAAAAAAAAAAAAAAAAAAAAAAAAAAAAAAAAAAAAAAAAAAAAAAAAAAAAAAAAAAAAAAAAAAAAAAAAAAAAAAAAAAAAAAAAAAAAAAAAAAAAAAAAAAAAAAAAAAAAAAAAAAAAAAAAAAAAAAAAAAAAAAAAAAAAAAAAAAAAAAAAAAAAAAAAAAAAAAAAAAAAAAAAAAAAAAAqFzgv6uAcj8uIrzYSx5LPwAAAAAAAAAAAAAAAAAAAAAAAAAAAAAAAAAAAAAAAAAAAAAAAAAAAAAAAAAAAAAAAAAAAAAAAAAAH2x9kDIUAj+Ugm/N6+3XP3SHsiDJ4NE/DdYBdtFayj9TD8+sCZ+kP+dyHUep638/hJpUAsfOsD9YUiKK/MiSPwAAAAAAAAAAAAAAAAAAAAAAAAAAAAAAAAAAAAAAAAAAAAAAAAAAAACM9XOm01N1Pw54/OGAx48/qnSshsXbaD/xF+U02+CwP44HjfsmGLo/2nDyv5ISoT8fbH2QMhQSPwtgMBtnbIk/AAAAAAAAAAAAAAAAAAAAAB9sfZAyFBI/EwaaAwURtz/5fmq8dJNoP2xLtK8I/Xk/bEu0rwj9eT+L6Q3DRiaCPx9sfZAyFAI/AAAAAAAAAADjWlGAj5CZPw9M09A7SdM/1dyhLEgyuD9ag1wSnC7kP9IPIKq/9so/QAOCNz73az8oupRWRrzGPxITouH97cY/QAOCNz73qz/G2xignQhWPx9sfZAyFAI/WmQ730+Nxz+NTCTO8aDRP5yrsu7sXZ4/Avmqk825wT94sZc8NgDdPyx6DvvVGug/8/FulVz53T+3j0XPYb/wP/H4wwGPP7w/qnSshsXbOD8nx5w0P5lGP76A+fuQg2E/pHA9Ctej4D9GnYU8T27yPy+x+/Q7F9c/GVVTxIRo0D9/7ZWt9uPgPwvjCVTKN/I/TgQLxOggzj+IsiDJ4ClnP1nCQHOgIPY/hr8op9kG8z/Iu1Vy5bfgP5lInONB4+4/iJ9leSG28z9HvKZvmw//P5IfWcJAc/g/9qs1yCXB+z93c1XWnb39Pw==",
             "dtype": "f8"
            },
            "sizemode": "area",
            "sizeref": 0.006043951612903227
           },
           "mode": "markers",
           "name": "",
           "showlegend": false,
           "subplot": "map",
           "type": "scattermap"
          }
         ],
         "name": "2020-02"
        },
        {
         "data": [
          {
           "hovertemplate": "month=2020-03<br>HTEURNEIGE_Q=%{marker.color}<br>lat=%{lat}<br>lon=%{lon}<extra></extra>",
           "lat": {
            "bdata": "GNilFLSrRkCtqV0k6bRGQOjesz0evkZAm+q6X1PHRkD/GkaOZ6tGQABCMISctEZAAFKvg9G9RkDuttWLBsdGQG43+PgXq0ZAYvcM1Ey0RkAzxay4gb1GQKMF6qW2xkZATM7WmuvPRkC6Xg2gkKFGQB/o1lTFqkZAO5cOFPqzRkCvGMfcLr1GQMLJEq5jxkZAk7gDh5jPRkA/pKtmzdhGQAj9G0wC4kZAFh4O/dGORkBVnm99BphGQJR3Dgo7oUZA7u39oW+qRkDb9VBEpLNGQEI0GvDYvEZAt/5rpA3GRkCOW1hgQs9GQA0C8SJ32EZAllpH66vhRkACIx2VeY5GQJY+s/etl0ZAyc57ZuKgRkDfD4rgFqpGQGPu8GRLs0ZAUAfD8n+8RkApqBKJtMVGQEHP8SbpzkZAwStyyx3YRkDqHaV1UuFGQC+3mySH6kZA3hrDIR6ORkBDg4dlUpdGQJMcc7WGoEZA6RqZELupRkCoYgx277JGQI+I3+QjvEZA39EkXFjFRkCQNO7ajM5GQHNXTWDB10ZAWZJT6/XgRkCa1fWe72hGQIoROokjckZA8ApKg1d7RkBzLjqMi4RGQEmYHqO/jUZASRQLx/OWRkA2HhP3J6BGQMzhSTJcqUZA+TrCd5CyRkD6tY7GxLtGQIiPwR35xEZABbVsfC3ORkDuQieYjmhGQFMivWHCcUZALd8SO/Z6RkCi3TwjKoRGQGoxTxlejUZA1Z1dHJKWRkD9lXsrxp9GQAM9vEX6qEZAEmYyai6yRkCslPCXYrtGQLb8CM6WxEZAEOke8/ZeRkD75WKKKmhGQBPWRTJecUZAimXc6ZF6RkDX7zqwxYNGQOV/dYT5jEZAMtCfZS2WRkAHS81SYZ9GQIUKEUuVqEZA7dh9TcmxRkAD2jABkF5GQPr+yXXDZ0ZABYT1+vZwRkBkDMiPKnpGQJ7qVTNeg0ZAkyCz5JGMRkCzX/OixZVGQBcJKm35nkZAui1qQi2oRkCgjsYhYbFGQHTOflpZZ0ZAZ4Tuu4xwRkDWQ/gswHlGQAFWsKzzgkZAf7MqOieMRkBuBHvUWpVGQICgtHqOnkZAQo/qK8KnRkAuiC/n9bBGQNbylaspukZAbzBUdR9wRkCIfZDBUnlGQDu8bRyGgkZAndv/hLmLRkArelr67JRGQPXlkHsgnkZAyhy2B1SnRkBjzNydh7BGQP7hSievb0ZAkiy1TeJ4RkC8qbKCFYJGQME+V8VIi0ZAtGfzRRawRkCK8/fRO29GQE7Fi9FueEZA87+BdcVuRkA2vTpN+HdGQA==",
            "dtype": "f8"
           },
           "legendgroup": "",
           "lon": {
            "bdata": "fdMnuEhZE0DmL32SnFwTQNK/OqTyXxNAogWY70pjE0AzeK7LucETQMUBOFowxRNA6VQ7N6nIE0DN9QZlJMwTQPY8B5MoKhRAbH9508EtFEB2EnR5XTEUQPp2XIf7NBRAimCb/5s4FEAaU1yB244UQDZ+OveUkhRA+yYz51CWFED0eb9TD5oUQGbvWz/QnRRA01CIrJOhFEB/vsedWaUUQAi1oBUiqRRAQ1VZZnLvFECNhd5XSfMUQPaUWdUi9xRAgsBT4f76FED8o1l+3f4UQI0/+66+AhVAYP3LdaIGFUBWt2LViAoVQMC8WdBxDhVAKthOaV0SFUB4EihJclcVQH/upKBrWxVAiz3YmmdfFUCxzmE6ZmMVQKzt5IFnZxVAoWgIdGtrFUDtlXYTcm8VQBda3WJ7cxVAtS3uZId3FUBqI14clnsVQPDt5YunfxVA4jrdi2+/FUBga7VGi8MVQO0rAbupxxVA8td268rLFUBNZdDa7s8VQENqy4sV1BVAiSMpAT/YFUBTeq49a9wVQIkKJESa4BVA2ihWF8zkFUD/UhGUjRYWQNnzlIrAGhZA4N02RvYeFkACT7XJLiMWQCwl0hdqJxZALuRSM6grFkDNuwAf6S8WQN2NqN0sNBZAXfQacnM4FkCpRyzfvDwWQLSktCcJQRZATvOPTlhFFkDGxoG8/H0WQEAk7LZRghZAt8XRjKmGFkBw9AZBBIsWQJS2Y9ZhjxZAWtXDT8KTFkBG4wawJZgWQGlCEPqLnBZAwSrHMPWgFkCEsBZXYaUWQJvK7W/QqRZAUJ61//TgFkDQGUgMaeUWQHCiyAfg6RZAIrMd9VnuFkBWmjHX1vIWQEiA8rBW9xZAXm1Shdn7FkCVUEdXXwAXQOwFyynoBBdA+Fzb/3MJF0D6Vp54PEgXQFL1IG3STBdANS/RZmtRF0DFYatoB1YXQEzar3WmWhdAvdzikEhfF0BFqky97WMXQN6H+f2VaBdA8sT5VUFtF0AkwmHI73EXQLbPzMg4tBdA116wvfO4F0AXZw/Rsb0XQBYuAAZzwhdA+wydXzfHF0AZdwTh/ssXQMYAWY3J0BdAKGbBZ5fVF0AlkmhzaNoXQEGlfbM83xdAwbUU9nggGEAnT+IXWSUYQKUMpXE8KhhAzlWNBiMvGEBWyc/ZDDQYQBxEpe75OBhAGOhKSOo9GECDIwLq3UIYQCTFsPn6hxhAibnAJv2MGEAgByWiApIYQP8cJG8LlxhAcwlFFVCrGECRRzuyee8YQAN2S+ed9BhAfj1vCfVWGUBEoSdDO1wZQA==",
            "dtype": "f8"
           },
           "marker": {
            "color": {
             "bdata": "AAAAAAAAAAAAAAAAAAAAAAAAAAAAAAAAAAAAAAAAAAAAAAAAAAAAAAAAAAAAAAAAAAAAAAAAAAAAAAAAAAAAAAAAAAAAAAAAAAAAAAAAAAAAAAAAAAAAAAAAAAAAAAAAAAAAAAAAAAAAAAAAAAAAAAAAAAAAAAAAAAAAAAAAAAAAAAAAAAAAAAAAAAAAAAAAAAAAAAAAAAAAAAAAAAAAAAAAAAAAAAAAAAAAAAAAAAAAAAAAAAAAAAAAAAAAAAAAAAAAAAAAAAAAAAAAAAAAAAAAAAAAAAAAAAAAAAAAAAAAAAAAAAAAAAAAAAAAAAAAAAAAAAAAAAAAAAAAAAAAAAAAAAAAAAAAAAAAAAAAAAAAAAAAAAAAAAAAAAAAAAAAAAAAAAAAAAAAAAAAAAAAAAAAAAAAAAAAAAAAAAAAAAAAAAAAAAAAAAAAAAAAAAAAHUQzqJrpQD8zt1mmzpg9Px1EM6ia6QA/AAAAAAAAAAAAAAAAAAAAAAAAAAAAAAAAAAAAAAAAAAAAAAAAAAAAAAAAAAAAAAAAAAAAAAAAAAAx6wizjjDTPwePefCYB88/9ZZRbxn1xj8o/VifXMKWPz7edH3ncFE/swOYoeZ/oD8KeG1NpKOBPwAAAAAAAAAAAAAAAAAAAAAAAAAAAAAAAAAAAAAAAAAAAAAAAAAAAAAzt1mmzpg9P8gXiHyByFc/M7dZps6YLT9FxbK6khGiP8nylyx/ybI/sXnaZ3RKgz8AAAAAAAAAAEyAjtG05Wk/AAAAAAAAAAAAAAAAAAAAAAAAAAAAAAAA1pz+ZoMJoD8kFUBSASQlPyvmTPxnXkk/oaw5/c0GQz/BRnvSGo5jPwAAAAAAAAAAAAAAAAAAAACJtsebru98P9aVjJD8O9Q/ftixVOoXsj9TCJbrxh/hP6d21NCtc8M/HUQzqJrpMD+5CFRYDVLCPxyc9/SsgsI/jfakNRwnoD8kFUBSASQlPwAAAAAAAAAA1+UD99cJyT85a8PmaZ/RPxIdGNGBEW0/V4oGPwKKvT8LU339oaTcP/rHb0zJk+k/nq0UDX4E4D/ubYB4oCHzP1fMmfjPvLI/K+ZM/GdeGT8AAAAAAAAAAB1EM6ia6RA/HCAeaEjo4D9NLzxbKRr0PyJfIPIFItc/aJHtfD81zj9hd9tChPrgP8bPXfzcxfM/q0i8isSryD8kFUBSASQ1P4Wpvv5QUvg/cZXOI7YJ9T8h40ZloYfhP4Y7yR76UvA/tbm3AeKB9j+osBqkRNsBQGdBdhZkZ/s/ukkMAiuH/j8RoT5EHXcAQA==",
             "dtype": "f8"
            },
            "coloraxis": "coloraxis",
            "size": {
             "bdata": "AAAAAAAAAAAAAAAAAAAAAAAAAAAAAAAAAAAAAAAAAAAAAAAAAAAAAAAAAAAAAAAAAAAAAAAAAAAAAAAAAAAAAAAAAAAAAAAAAAAAAAAAAAAAAAAAAAAAAAAAAAAAAAAAAAAAAAAAAAAAAAAAAAAAAAAAAAAAAAAAAAAAAAAAAAAAAAAAAAAAAAAAAAAAAAAAAAAAAAAAAAAAAAAAAAAAAAAAAAAAAAAAAAAAAAAAAAAAAAAAAAAAAAAAAAAAAAAAAAAAAAAAAAAAAAAAAAAAAAAAAAAAAAAAAAAAAAAAAAAAAAAAAAAAAAAAAAAAAAAAAAAAAAAAAAAAAAAAAAAAAAAAAAAAAAAAAAAAAAAAAAAAAAAAAAAAAAAAAAAAAAAAAAAAAAAAAAAAAAAAAAAAAAAAAAAAAAAAAAAAAAAAAAAAAAAAAAAAAAAAAAAAAAAAHUQzqJrpQD8zt1mmzpg9Px1EM6ia6QA/AAAAAAAAAAAAAAAAAAAAAAAAAAAAAAAAAAAAAAAAAAAAAAAAAAAAAAAAAAAAAAAAAAAAAAAAAAAx6wizjjDTPwePefCYB88/9ZZRbxn1xj8o/VifXMKWPz7edH3ncFE/swOYoeZ/oD8KeG1NpKOBPwAAAAAAAAAAAAAAAAAAAAAAAAAAAAAAAAAAAAAAAAAAAAAAAAAAAAAzt1mmzpg9P8gXiHyByFc/M7dZps6YLT9FxbK6khGiP8nylyx/ybI/sXnaZ3RKgz8AAAAAAAAAAEyAjtG05Wk/AAAAAAAAAAAAAAAAAAAAAAAAAAAAAAAA1pz+ZoMJoD8kFUBSASQlPyvmTPxnXkk/oaw5/c0GQz/BRnvSGo5jPwAAAAAAAAAAAAAAAAAAAACJtsebru98P9aVjJD8O9Q/ftixVOoXsj9TCJbrxh/hP6d21NCtc8M/HUQzqJrpMD+5CFRYDVLCPxyc9/SsgsI/jfakNRwnoD8kFUBSASQlPwAAAAAAAAAA1+UD99cJyT85a8PmaZ/RPxIdGNGBEW0/V4oGPwKKvT8LU339oaTcP/rHb0zJk+k/nq0UDX4E4D/ubYB4oCHzP1fMmfjPvLI/K+ZM/GdeGT8AAAAAAAAAAB1EM6ia6RA/HCAeaEjo4D9NLzxbKRr0PyJfIPIFItc/aJHtfD81zj9hd9tChPrgP8bPXfzcxfM/q0i8isSryD8kFUBSASQ1P4Wpvv5QUvg/cZXOI7YJ9T8h40ZloYfhP4Y7yR76UvA/tbm3AeKB9j+osBqkRNsBQGdBdhZkZ/s/ukkMAiuH/j8RoT5EHXcAQA==",
             "dtype": "f8"
            },
            "sizemode": "area",
            "sizeref": 0.006043951612903227
           },
           "mode": "markers",
           "name": "",
           "showlegend": false,
           "subplot": "map",
           "type": "scattermap"
          }
         ],
         "name": "2020-03"
        },
        {
         "data": [
          {
           "hovertemplate": "month=2020-04<br>HTEURNEIGE_Q=%{marker.color}<br>lat=%{lat}<br>lon=%{lon}<extra></extra>",
           "lat": {
            "bdata": "GNilFLSrRkCtqV0k6bRGQOjesz0evkZAm+q6X1PHRkD/GkaOZ6tGQABCMISctEZAAFKvg9G9RkDuttWLBsdGQG43+PgXq0ZAYvcM1Ey0RkAzxay4gb1GQKMF6qW2xkZATM7WmuvPRkC6Xg2gkKFGQB/o1lTFqkZAO5cOFPqzRkCvGMfcLr1GQMLJEq5jxkZAk7gDh5jPRkA/pKtmzdhGQAj9G0wC4kZAFh4O/dGORkBVnm99BphGQJR3Dgo7oUZA7u39oW+qRkDb9VBEpLNGQEI0GvDYvEZAt/5rpA3GRkCOW1hgQs9GQA0C8SJ32EZAllpH66vhRkACIx2VeY5GQJY+s/etl0ZAyc57ZuKgRkDfD4rgFqpGQGPu8GRLs0ZAUAfD8n+8RkApqBKJtMVGQEHP8SbpzkZAwStyyx3YRkDqHaV1UuFGQC+3mySH6kZA3hrDIR6ORkBDg4dlUpdGQJMcc7WGoEZA6RqZELupRkCoYgx277JGQI+I3+QjvEZA39EkXFjFRkCQNO7ajM5GQHNXTWDB10ZAWZJT6/XgRkCa1fWe72hGQIoROokjckZA8ApKg1d7RkBzLjqMi4RGQEmYHqO/jUZASRQLx/OWRkA2HhP3J6BGQMzhSTJcqUZA+TrCd5CyRkD6tY7GxLtGQIiPwR35xEZABbVsfC3ORkDuQieYjmhGQFMivWHCcUZALd8SO/Z6RkCi3TwjKoRGQGoxTxlejUZA1Z1dHJKWRkD9lXsrxp9GQAM9vEX6qEZAEmYyai6yRkCslPCXYrtGQLb8CM6WxEZAEOke8/ZeRkD75WKKKmhGQBPWRTJecUZAimXc6ZF6RkDX7zqwxYNGQOV/dYT5jEZAMtCfZS2WRkAHS81SYZ9GQIUKEUuVqEZA7dh9TcmxRkAD2jABkF5GQPr+yXXDZ0ZABYT1+vZwRkBkDMiPKnpGQJ7qVTNeg0ZAkyCz5JGMRkCzX/OixZVGQBcJKm35nkZAui1qQi2oRkCgjsYhYbFGQHTOflpZZ0ZAZ4Tuu4xwRkDWQ/gswHlGQAFWsKzzgkZAf7MqOieMRkBuBHvUWpVGQICgtHqOnkZAQo/qK8KnRkAuiC/n9bBGQNbylaspukZAbzBUdR9wRkCIfZDBUnlGQDu8bRyGgkZAndv/hLmLRkArelr67JRGQPXlkHsgnkZAyhy2B1SnRkBjzNydh7BGQP7hSievb0ZAkiy1TeJ4RkC8qbKCFYJGQME+V8VIi0ZAtGfzRRawRkCK8/fRO29GQE7Fi9FueEZA87+BdcVuRkA2vTpN+HdGQA==",
            "dtype": "f8"
           },
           "legendgroup": "",
           "lon": {
            "bdata": "fdMnuEhZE0DmL32SnFwTQNK/OqTyXxNAogWY70pjE0AzeK7LucETQMUBOFowxRNA6VQ7N6nIE0DN9QZlJMwTQPY8B5MoKhRAbH9508EtFEB2EnR5XTEUQPp2XIf7NBRAimCb/5s4FEAaU1yB244UQDZ+OveUkhRA+yYz51CWFED0eb9TD5oUQGbvWz/QnRRA01CIrJOhFEB/vsedWaUUQAi1oBUiqRRAQ1VZZnLvFECNhd5XSfMUQPaUWdUi9xRAgsBT4f76FED8o1l+3f4UQI0/+66+AhVAYP3LdaIGFUBWt2LViAoVQMC8WdBxDhVAKthOaV0SFUB4EihJclcVQH/upKBrWxVAiz3YmmdfFUCxzmE6ZmMVQKzt5IFnZxVAoWgIdGtrFUDtlXYTcm8VQBda3WJ7cxVAtS3uZId3FUBqI14clnsVQPDt5YunfxVA4jrdi2+/FUBga7VGi8MVQO0rAbupxxVA8td268rLFUBNZdDa7s8VQENqy4sV1BVAiSMpAT/YFUBTeq49a9wVQIkKJESa4BVA2ihWF8zkFUD/UhGUjRYWQNnzlIrAGhZA4N02RvYeFkACT7XJLiMWQCwl0hdqJxZALuRSM6grFkDNuwAf6S8WQN2NqN0sNBZAXfQacnM4FkCpRyzfvDwWQLSktCcJQRZATvOPTlhFFkDGxoG8/H0WQEAk7LZRghZAt8XRjKmGFkBw9AZBBIsWQJS2Y9ZhjxZAWtXDT8KTFkBG4wawJZgWQGlCEPqLnBZAwSrHMPWgFkCEsBZXYaUWQJvK7W/QqRZAUJ61//TgFkDQGUgMaeUWQHCiyAfg6RZAIrMd9VnuFkBWmjHX1vIWQEiA8rBW9xZAXm1Shdn7FkCVUEdXXwAXQOwFyynoBBdA+Fzb/3MJF0D6Vp54PEgXQFL1IG3STBdANS/RZmtRF0DFYatoB1YXQEzar3WmWhdAvdzikEhfF0BFqky97WMXQN6H+f2VaBdA8sT5VUFtF0AkwmHI73EXQLbPzMg4tBdA116wvfO4F0AXZw/Rsb0XQBYuAAZzwhdA+wydXzfHF0AZdwTh/ssXQMYAWY3J0BdAKGbBZ5fVF0AlkmhzaNoXQEGlfbM83xdAwbUU9nggGEAnT+IXWSUYQKUMpXE8KhhAzlWNBiMvGEBWyc/ZDDQYQBxEpe75OBhAGOhKSOo9GECDIwLq3UIYQCTFsPn6hxhAibnAJv2MGEAgByWiApIYQP8cJG8LlxhAcwlFFVCrGECRRzuyee8YQAN2S+ed9BhAfj1vCfVWGUBEoSdDO1wZQA==",
            "dtype": "f8"
           },
           "marker": {
            "color": {
             "bdata": "AAAAAAAAAAAAAAAAAAAAAAAAAAAAAAAAAAAAAAAAAAAAAAAAAAAAAAAAAAAAAAAAAAAAAAAAAAAAAAAAAAAAAAAAAAAAAAAAAAAAAAAAAAAAAAAAAAAAAAAAAAAAAAAAAAAAAAAAAAAAAAAAAAAAAAAAAAAAAAAAAAAAAAAAAAAAAAAAAAAAAAAAAAAAAAAAAAAAAAAAAAAAAAAAAAAAAAAAAAAAAAAAAAAAAAAAAAAAAAAAAAAAAAAAAAAAAAAAAAAAAAAAAAAAAAAAAAAAAAAAAAAAAAAAAAAAAAAAAAAAAAAAAAAAAAAAAAAAAAAAAAAAAAAAAAAAAAAAAAAAAAAAAAAAAAAAAAAAAAAAAAAAAAAAAAAAAAAAAAAAAAAAAAAAAAAAAAAAAAAAAAAAAAAAAAAAAAAAAAAAAAAAAAAAAAAAAAAAAAAAAAAAAAAAAAAAAAAAAAAAAAAAAAAAAAAAAAAAAAAAAAAAAAAAAAAAAAAAAAAAAAAAAAAAAAAAAAAAAAAAAAAAAAAAAAAAAAAAAAAAAAAAAAAAAAAAAACqXSadW/uVP+LEagbL64s/NTmPncp8ej8AAAAAAAAAAAAAAAAAAAAAAAAAAAAAAAAAAAAAAAAAAAAAAAAAAAAAAAAAAAAAAAAAAAAAAAAAAAAAAAAAAAAAAAAAAAAAAAAAAAAAAAAAAAAAAAAAAAAAAAAAAAAAAAAAAAAAAAAAAE8b6LSBTks/AAAAAAAAAAAAAAAAAAAAAAAAAAAAAAAAAAAAAAAAAAAAAAAAAAAAAAAAAAAAAAAAAAAAAAAAAAAAAAAAAAAAAAAAAAAAAAAAAAAAAAAAAAAAAAAAAAAAAAAAAAAAAAAAAAAAAAAAAAAAAAAAAAAAACZ4ME/Uv6E/LUMc6+I2Oj/tMunc2q+4P9CwK0DuNXc/AAAAAAAAAAA3ZBa0o0tyP4vYOkuj3IA/AAAAAAAAAAAAAAAAAAAAAAAAAAAAAAAA16ae8tV7lz/s5WTPiwCkPwAAAAAAAAAA/Knx0k1iUD+Xkz0vAlCyP+bTUJDFI84/HA3gLZCguD/XNx3uEOzdPy1DHOviNho/AAAAAAAAAAAAAAAAAAAAAAAAAAAAAAAA/q9NPeWrtz/MpHNrv6LcP4tHvE9obLI/vjCZKhiVlD9bQj7o2ay6P7Q3+MJkqtw/cvbhM+wKgD8AAAAAAAAAAGcfPsOuAOU/Um7ILGhH4T+gP1qJZovBPxCfYVeA3Nc/USFEHxmY4D8+eVioNc3zP3fBzc/6geo/dd1uXNkY7j8g0m9fB87xPw==",
             "dtype": "f8"
            },
            "coloraxis": "coloraxis",
            "size": {
             "bdata": "AAAAAAAAAAAAAAAAAAAAAAAAAAAAAAAAAAAAAAAAAAAAAAAAAAAAAAAAAAAAAAAAAAAAAAAAAAAAAAAAAAAAAAAAAAAAAAAAAAAAAAAAAAAAAAAAAAAAAAAAAAAAAAAAAAAAAAAAAAAAAAAAAAAAAAAAAAAAAAAAAAAAAAAAAAAAAAAAAAAAAAAAAAAAAAAAAAAAAAAAAAAAAAAAAAAAAAAAAAAAAAAAAAAAAAAAAAAAAAAAAAAAAAAAAAAAAAAAAAAAAAAAAAAAAAAAAAAAAAAAAAAAAAAAAAAAAAAAAAAAAAAAAAAAAAAAAAAAAAAAAAAAAAAAAAAAAAAAAAAAAAAAAAAAAAAAAAAAAAAAAAAAAAAAAAAAAAAAAAAAAAAAAAAAAAAAAAAAAAAAAAAAAAAAAAAAAAAAAAAAAAAAAAAAAAAAAAAAAAAAAAAAAAAAAAAAAAAAAAAAAAAAAAAAAAAAAAAAAAAAAAAAAAAAAAAAAAAAAAAAAAAAAAAAAAAAAAAAAAAAAAAAAAAAAAAAAAAAAAAAAAAAAAAAAAAAAACqXSadW/uVP+LEagbL64s/NTmPncp8ej8AAAAAAAAAAAAAAAAAAAAAAAAAAAAAAAAAAAAAAAAAAAAAAAAAAAAAAAAAAAAAAAAAAAAAAAAAAAAAAAAAAAAAAAAAAAAAAAAAAAAAAAAAAAAAAAAAAAAAAAAAAAAAAAAAAAAAAAAAAE8b6LSBTks/AAAAAAAAAAAAAAAAAAAAAAAAAAAAAAAAAAAAAAAAAAAAAAAAAAAAAAAAAAAAAAAAAAAAAAAAAAAAAAAAAAAAAAAAAAAAAAAAAAAAAAAAAAAAAAAAAAAAAAAAAAAAAAAAAAAAAAAAAAAAAAAAAAAAACZ4ME/Uv6E/LUMc6+I2Oj/tMunc2q+4P9CwK0DuNXc/AAAAAAAAAAA3ZBa0o0tyP4vYOkuj3IA/AAAAAAAAAAAAAAAAAAAAAAAAAAAAAAAA16ae8tV7lz/s5WTPiwCkPwAAAAAAAAAA/Knx0k1iUD+Xkz0vAlCyP+bTUJDFI84/HA3gLZCguD/XNx3uEOzdPy1DHOviNho/AAAAAAAAAAAAAAAAAAAAAAAAAAAAAAAA/q9NPeWrtz/MpHNrv6LcP4tHvE9obLI/vjCZKhiVlD9bQj7o2ay6P7Q3+MJkqtw/cvbhM+wKgD8AAAAAAAAAAGcfPsOuAOU/Um7ILGhH4T+gP1qJZovBPxCfYVeA3Nc/USFEHxmY4D8+eVioNc3zP3fBzc/6geo/dd1uXNkY7j8g0m9fB87xPw==",
             "dtype": "f8"
            },
            "sizemode": "area",
            "sizeref": 0.006043951612903227
           },
           "mode": "markers",
           "name": "",
           "showlegend": false,
           "subplot": "map",
           "type": "scattermap"
          }
         ],
         "name": "2020-04"
        },
        {
         "data": [
          {
           "hovertemplate": "month=2020-05<br>HTEURNEIGE_Q=%{marker.color}<br>lat=%{lat}<br>lon=%{lon}<extra></extra>",
           "lat": {
            "bdata": "GNilFLSrRkCtqV0k6bRGQOjesz0evkZAm+q6X1PHRkD/GkaOZ6tGQABCMISctEZAAFKvg9G9RkDuttWLBsdGQG43+PgXq0ZAYvcM1Ey0RkAzxay4gb1GQKMF6qW2xkZATM7WmuvPRkC6Xg2gkKFGQB/o1lTFqkZAO5cOFPqzRkCvGMfcLr1GQMLJEq5jxkZAk7gDh5jPRkA/pKtmzdhGQAj9G0wC4kZAFh4O/dGORkBVnm99BphGQJR3Dgo7oUZA7u39oW+qRkDb9VBEpLNGQEI0GvDYvEZAt/5rpA3GRkCOW1hgQs9GQA0C8SJ32EZAllpH66vhRkACIx2VeY5GQJY+s/etl0ZAyc57ZuKgRkDfD4rgFqpGQGPu8GRLs0ZAUAfD8n+8RkApqBKJtMVGQEHP8SbpzkZAwStyyx3YRkDqHaV1UuFGQC+3mySH6kZA3hrDIR6ORkBDg4dlUpdGQJMcc7WGoEZA6RqZELupRkCoYgx277JGQI+I3+QjvEZA39EkXFjFRkCQNO7ajM5GQHNXTWDB10ZAWZJT6/XgRkCa1fWe72hGQIoROokjckZA8ApKg1d7RkBzLjqMi4RGQEmYHqO/jUZASRQLx/OWRkA2HhP3J6BGQMzhSTJcqUZA+TrCd5CyRkD6tY7GxLtGQIiPwR35xEZABbVsfC3ORkDuQieYjmhGQFMivWHCcUZALd8SO/Z6RkCi3TwjKoRGQGoxTxlejUZA1Z1dHJKWRkD9lXsrxp9GQAM9vEX6qEZAEmYyai6yRkCslPCXYrtGQLb8CM6WxEZAEOke8/ZeRkD75WKKKmhGQBPWRTJecUZAimXc6ZF6RkDX7zqwxYNGQOV/dYT5jEZAMtCfZS2WRkAHS81SYZ9GQIUKEUuVqEZA7dh9TcmxRkAD2jABkF5GQPr+yXXDZ0ZABYT1+vZwRkBkDMiPKnpGQJ7qVTNeg0ZAkyCz5JGMRkCzX/OixZVGQBcJKm35nkZAui1qQi2oRkCgjsYhYbFGQHTOflpZZ0ZAZ4Tuu4xwRkDWQ/gswHlGQAFWsKzzgkZAf7MqOieMRkBuBHvUWpVGQICgtHqOnkZAQo/qK8KnRkAuiC/n9bBGQNbylaspukZAbzBUdR9wRkCIfZDBUnlGQDu8bRyGgkZAndv/hLmLRkArelr67JRGQPXlkHsgnkZAyhy2B1SnRkBjzNydh7BGQP7hSievb0ZAkiy1TeJ4RkC8qbKCFYJGQME+V8VIi0ZAtGfzRRawRkCK8/fRO29GQE7Fi9FueEZA87+BdcVuRkA2vTpN+HdGQA==",
            "dtype": "f8"
           },
           "legendgroup": "",
           "lon": {
            "bdata": "fdMnuEhZE0DmL32SnFwTQNK/OqTyXxNAogWY70pjE0AzeK7LucETQMUBOFowxRNA6VQ7N6nIE0DN9QZlJMwTQPY8B5MoKhRAbH9508EtFEB2EnR5XTEUQPp2XIf7NBRAimCb/5s4FEAaU1yB244UQDZ+OveUkhRA+yYz51CWFED0eb9TD5oUQGbvWz/QnRRA01CIrJOhFEB/vsedWaUUQAi1oBUiqRRAQ1VZZnLvFECNhd5XSfMUQPaUWdUi9xRAgsBT4f76FED8o1l+3f4UQI0/+66+AhVAYP3LdaIGFUBWt2LViAoVQMC8WdBxDhVAKthOaV0SFUB4EihJclcVQH/upKBrWxVAiz3YmmdfFUCxzmE6ZmMVQKzt5IFnZxVAoWgIdGtrFUDtlXYTcm8VQBda3WJ7cxVAtS3uZId3FUBqI14clnsVQPDt5YunfxVA4jrdi2+/FUBga7VGi8MVQO0rAbupxxVA8td268rLFUBNZdDa7s8VQENqy4sV1BVAiSMpAT/YFUBTeq49a9wVQIkKJESa4BVA2ihWF8zkFUD/UhGUjRYWQNnzlIrAGhZA4N02RvYeFkACT7XJLiMWQCwl0hdqJxZALuRSM6grFkDNuwAf6S8WQN2NqN0sNBZAXfQacnM4FkCpRyzfvDwWQLSktCcJQRZATvOPTlhFFkDGxoG8/H0WQEAk7LZRghZAt8XRjKmGFkBw9AZBBIsWQJS2Y9ZhjxZAWtXDT8KTFkBG4wawJZgWQGlCEPqLnBZAwSrHMPWgFkCEsBZXYaUWQJvK7W/QqRZAUJ61//TgFkDQGUgMaeUWQHCiyAfg6RZAIrMd9VnuFkBWmjHX1vIWQEiA8rBW9xZAXm1Shdn7FkCVUEdXXwAXQOwFyynoBBdA+Fzb/3MJF0D6Vp54PEgXQFL1IG3STBdANS/RZmtRF0DFYatoB1YXQEzar3WmWhdAvdzikEhfF0BFqky97WMXQN6H+f2VaBdA8sT5VUFtF0AkwmHI73EXQLbPzMg4tBdA116wvfO4F0AXZw/Rsb0XQBYuAAZzwhdA+wydXzfHF0AZdwTh/ssXQMYAWY3J0BdAKGbBZ5fVF0AlkmhzaNoXQEGlfbM83xdAwbUU9nggGEAnT+IXWSUYQKUMpXE8KhhAzlWNBiMvGEBWyc/ZDDQYQBxEpe75OBhAGOhKSOo9GECDIwLq3UIYQCTFsPn6hxhAibnAJv2MGEAgByWiApIYQP8cJG8LlxhAcwlFFVCrGECRRzuyee8YQAN2S+ed9BhAfj1vCfVWGUBEoSdDO1wZQA==",
            "dtype": "f8"
           },
           "marker": {
            "color": {
             "bdata": "AAAAAAAAAAAAAAAAAAAAAAAAAAAAAAAAAAAAAAAAAAAAAAAAAAAAAAAAAAAAAAAAAAAAAAAAAAAAAAAAAAAAAAAAAAAAAAAAAAAAAAAAAAAAAAAAAAAAAAAAAAAAAAAAAAAAAAAAAAAAAAAAAAAAAAAAAAAAAAAAAAAAAAAAAAAAAAAAAAAAAAAAAAAAAAAAAAAAAAAAAAAAAAAAAAAAAAAAAAAAAAAAAAAAAAAAAAAAAAAAAAAAAAAAAAAAAAAAAAAAAAAAAAAAAAAAAAAAAAAAAAAAAAAAAAAAAAAAAAAAAAAAAAAAAAAAAAAAAAAAAAAAAAAAAAAAAAAAAAAAAAAAAAAAAAAAAAAAAAAAAAAAAAAAAAAAAAAAAAAAAAAAAAAAAAAAAAAAAAAAAAAAAAAAAAAAAAAAAAAAAAAAAAAAAAAAAAAAAAAAAAAAAAAAAAAAAAAAAAAAAAAAAAAAAAAAAAAAAAAAAAAAAAAAAAAAAAAAAAAAAAAAAAAAAAAAAAAAAAAAAAAAAAAAAAAAAAAAAAAAAAAAAAAAAAAAAAAAAAAAAAAAAAAAAAAAAAAAAAAAAAAAAAAAAAAAAAAAAAAAAAAAAAAAAAAAAAAAAAAAAAAAAAAAAAAAAAAAAAAAAAAAAAAAAAAAAAAAAAAAAAAAAAAAAAAAAAAAAAAAAAAAAAAAAAAAAAAAAAAAAAAAAAAAAAAAAAAAAAAAAAAAAAAAAAAAAAAAAAAAAAAAAAAAAAAAAAAAAAAAAAAAAAAAAAAAAAAAAAAAAAAAAAAAAAAAAAAAAAAAAAAAAAAAAAAAAAAAAAAAAAAAAAAAAAAAAAAAAAAAAAAAAAAAAAAAAAAAAAAAAAAAAAAAAAAAAAAAAAAAAAAAAAAAAAAAAAAAAAAAAAAAAACWhR4mtS5fPwAAAAAAAAAAAAAAAAAAAAAdRDOomukAPx1EM6ia6RA/AAAAAAAAAAAAAAAAAAAAAAAAAAAAAAAAAAAAAAAAAAAAAAAAAAAAAAAAAAAAAAAAK+ZM/GdeGT8De/58tJxkP2PrZ+mxyaE/huME0ue5Vj/6CQMGl8a2PwAAAAAAAAAAAAAAAAAAAAAAAAAAAAAAAAAAAAAAAAAAyBeIfIHIZz8bpETb4023P8gXiHyByGc/K+ZM/GdeKT93FmRnQXZmP+Wzf3EuS7o/HUQzqJrpED8AAAAAAAAAAIBb/bfVf8s/yLhRWehhwj/ZuMbAnj+PP6GWCGqJoLY/YLL8Jctfsj/xxGm1Ar3lP1z9t9V/W9U/XqQYeb3E2j8At/pvq//iPw==",
             "dtype": "f8"
            },
            "coloraxis": "coloraxis",
            "size": {
             "bdata": "AAAAAAAAAAAAAAAAAAAAAAAAAAAAAAAAAAAAAAAAAAAAAAAAAAAAAAAAAAAAAAAAAAAAAAAAAAAAAAAAAAAAAAAAAAAAAAAAAAAAAAAAAAAAAAAAAAAAAAAAAAAAAAAAAAAAAAAAAAAAAAAAAAAAAAAAAAAAAAAAAAAAAAAAAAAAAAAAAAAAAAAAAAAAAAAAAAAAAAAAAAAAAAAAAAAAAAAAAAAAAAAAAAAAAAAAAAAAAAAAAAAAAAAAAAAAAAAAAAAAAAAAAAAAAAAAAAAAAAAAAAAAAAAAAAAAAAAAAAAAAAAAAAAAAAAAAAAAAAAAAAAAAAAAAAAAAAAAAAAAAAAAAAAAAAAAAAAAAAAAAAAAAAAAAAAAAAAAAAAAAAAAAAAAAAAAAAAAAAAAAAAAAAAAAAAAAAAAAAAAAAAAAAAAAAAAAAAAAAAAAAAAAAAAAAAAAAAAAAAAAAAAAAAAAAAAAAAAAAAAAAAAAAAAAAAAAAAAAAAAAAAAAAAAAAAAAAAAAAAAAAAAAAAAAAAAAAAAAAAAAAAAAAAAAAAAAAAAAAAAAAAAAAAAAAAAAAAAAAAAAAAAAAAAAAAAAAAAAAAAAAAAAAAAAAAAAAAAAAAAAAAAAAAAAAAAAAAAAAAAAAAAAAAAAAAAAAAAAAAAAAAAAAAAAAAAAAAAAAAAAAAAAAAAAAAAAAAAAAAAAAAAAAAAAAAAAAAAAAAAAAAAAAAAAAAAAAAAAAAAAAAAAAAAAAAAAAAAAAAAAAAAAAAAAAAAAAAAAAAAAAAAAAAAAAAAAAAAAAAAAAAAAAAAAAAAAAAAAAAAAAAAAAAAAAAAAAAAAAAAAAAAAAAAAAAAAAAAAAAAAAAAAAAAAAAAAAAAAAAAAAAAAAAAAAAAAAAAAAAAAAAAAACWhR4mtS5fPwAAAAAAAAAAAAAAAAAAAAAdRDOomukAPx1EM6ia6RA/AAAAAAAAAAAAAAAAAAAAAAAAAAAAAAAAAAAAAAAAAAAAAAAAAAAAAAAAAAAAAAAAK+ZM/GdeGT8De/58tJxkP2PrZ+mxyaE/huME0ue5Vj/6CQMGl8a2PwAAAAAAAAAAAAAAAAAAAAAAAAAAAAAAAAAAAAAAAAAAyBeIfIHIZz8bpETb4023P8gXiHyByGc/K+ZM/GdeKT93FmRnQXZmP+Wzf3EuS7o/HUQzqJrpED8AAAAAAAAAAIBb/bfVf8s/yLhRWehhwj/ZuMbAnj+PP6GWCGqJoLY/YLL8Jctfsj/xxGm1Ar3lP1z9t9V/W9U/XqQYeb3E2j8At/pvq//iPw==",
             "dtype": "f8"
            },
            "sizemode": "area",
            "sizeref": 0.006043951612903227
           },
           "mode": "markers",
           "name": "",
           "showlegend": false,
           "subplot": "map",
           "type": "scattermap"
          }
         ],
         "name": "2020-05"
        },
        {
         "data": [
          {
           "hovertemplate": "month=2020-06<br>HTEURNEIGE_Q=%{marker.color}<br>lat=%{lat}<br>lon=%{lon}<extra></extra>",
           "lat": {
            "bdata": "GNilFLSrRkCtqV0k6bRGQOjesz0evkZAm+q6X1PHRkD/GkaOZ6tGQABCMISctEZAAFKvg9G9RkDuttWLBsdGQG43+PgXq0ZAYvcM1Ey0RkAzxay4gb1GQKMF6qW2xkZATM7WmuvPRkC6Xg2gkKFGQB/o1lTFqkZAO5cOFPqzRkCvGMfcLr1GQMLJEq5jxkZAk7gDh5jPRkA/pKtmzdhGQAj9G0wC4kZAFh4O/dGORkBVnm99BphGQJR3Dgo7oUZA7u39oW+qRkDb9VBEpLNGQEI0GvDYvEZAt/5rpA3GRkCOW1hgQs9GQA0C8SJ32EZAllpH66vhRkACIx2VeY5GQJY+s/etl0ZAyc57ZuKgRkDfD4rgFqpGQGPu8GRLs0ZAUAfD8n+8RkApqBKJtMVGQEHP8SbpzkZAwStyyx3YRkDqHaV1UuFGQC+3mySH6kZA3hrDIR6ORkBDg4dlUpdGQJMcc7WGoEZA6RqZELupRkCoYgx277JGQI+I3+QjvEZA39EkXFjFRkCQNO7ajM5GQHNXTWDB10ZAWZJT6/XgRkCa1fWe72hGQIoROokjckZA8ApKg1d7RkBzLjqMi4RGQEmYHqO/jUZASRQLx/OWRkA2HhP3J6BGQMzhSTJcqUZA+TrCd5CyRkD6tY7GxLtGQIiPwR35xEZABbVsfC3ORkDuQieYjmhGQFMivWHCcUZALd8SO/Z6RkCi3TwjKoRGQGoxTxlejUZA1Z1dHJKWRkD9lXsrxp9GQAM9vEX6qEZAEmYyai6yRkCslPCXYrtGQLb8CM6WxEZAEOke8/ZeRkD75WKKKmhGQBPWRTJecUZAimXc6ZF6RkDX7zqwxYNGQOV/dYT5jEZAMtCfZS2WRkAHS81SYZ9GQIUKEUuVqEZA7dh9TcmxRkAD2jABkF5GQPr+yXXDZ0ZABYT1+vZwRkBkDMiPKnpGQJ7qVTNeg0ZAkyCz5JGMRkCzX/OixZVGQBcJKm35nkZAui1qQi2oRkCgjsYhYbFGQHTOflpZZ0ZAZ4Tuu4xwRkDWQ/gswHlGQAFWsKzzgkZAf7MqOieMRkBuBHvUWpVGQICgtHqOnkZAQo/qK8KnRkAuiC/n9bBGQNbylaspukZAbzBUdR9wRkCIfZDBUnlGQDu8bRyGgkZAndv/hLmLRkArelr67JRGQPXlkHsgnkZAyhy2B1SnRkBjzNydh7BGQP7hSievb0ZAkiy1TeJ4RkC8qbKCFYJGQME+V8VIi0ZAtGfzRRawRkCK8/fRO29GQE7Fi9FueEZA87+BdcVuRkA2vTpN+HdGQA==",
            "dtype": "f8"
           },
           "legendgroup": "",
           "lon": {
            "bdata": "fdMnuEhZE0DmL32SnFwTQNK/OqTyXxNAogWY70pjE0AzeK7LucETQMUBOFowxRNA6VQ7N6nIE0DN9QZlJMwTQPY8B5MoKhRAbH9508EtFEB2EnR5XTEUQPp2XIf7NBRAimCb/5s4FEAaU1yB244UQDZ+OveUkhRA+yYz51CWFED0eb9TD5oUQGbvWz/QnRRA01CIrJOhFEB/vsedWaUUQAi1oBUiqRRAQ1VZZnLvFECNhd5XSfMUQPaUWdUi9xRAgsBT4f76FED8o1l+3f4UQI0/+66+AhVAYP3LdaIGFUBWt2LViAoVQMC8WdBxDhVAKthOaV0SFUB4EihJclcVQH/upKBrWxVAiz3YmmdfFUCxzmE6ZmMVQKzt5IFnZxVAoWgIdGtrFUDtlXYTcm8VQBda3WJ7cxVAtS3uZId3FUBqI14clnsVQPDt5YunfxVA4jrdi2+/FUBga7VGi8MVQO0rAbupxxVA8td268rLFUBNZdDa7s8VQENqy4sV1BVAiSMpAT/YFUBTeq49a9wVQIkKJESa4BVA2ihWF8zkFUD/UhGUjRYWQNnzlIrAGhZA4N02RvYeFkACT7XJLiMWQCwl0hdqJxZALuRSM6grFkDNuwAf6S8WQN2NqN0sNBZAXfQacnM4FkCpRyzfvDwWQLSktCcJQRZATvOPTlhFFkDGxoG8/H0WQEAk7LZRghZAt8XRjKmGFkBw9AZBBIsWQJS2Y9ZhjxZAWtXDT8KTFkBG4wawJZgWQGlCEPqLnBZAwSrHMPWgFkCEsBZXYaUWQJvK7W/QqRZAUJ61//TgFkDQGUgMaeUWQHCiyAfg6RZAIrMd9VnuFkBWmjHX1vIWQEiA8rBW9xZAXm1Shdn7FkCVUEdXXwAXQOwFyynoBBdA+Fzb/3MJF0D6Vp54PEgXQFL1IG3STBdANS/RZmtRF0DFYatoB1YXQEzar3WmWhdAvdzikEhfF0BFqky97WMXQN6H+f2VaBdA8sT5VUFtF0AkwmHI73EXQLbPzMg4tBdA116wvfO4F0AXZw/Rsb0XQBYuAAZzwhdA+wydXzfHF0AZdwTh/ssXQMYAWY3J0BdAKGbBZ5fVF0AlkmhzaNoXQEGlfbM83xdAwbUU9nggGEAnT+IXWSUYQKUMpXE8KhhAzlWNBiMvGEBWyc/ZDDQYQBxEpe75OBhAGOhKSOo9GECDIwLq3UIYQCTFsPn6hxhAibnAJv2MGEAgByWiApIYQP8cJG8LlxhAcwlFFVCrGECRRzuyee8YQAN2S+ed9BhAfj1vCfVWGUBEoSdDO1wZQA==",
            "dtype": "f8"
           },
           "marker": {
            "color": {
             "bdata": "AAAAAAAAAAAAAAAAAAAAAAAAAAAAAAAAAAAAAAAAAAAAAAAAAAAAAAAAAAAAAAAAAAAAAAAAAAAAAAAAAAAAAAAAAAAAAAAAAAAAAAAAAAAAAAAAAAAAAAAAAAAAAAAAAAAAAAAAAAAAAAAAAAAAAAAAAAAAAAAAAAAAAAAAAAAAAAAAAAAAAAAAAAAAAAAAAAAAAAAAAAAAAAAAAAAAAAAAAAAAAAAAAAAAAAAAAAAAAAAAAAAAAAAAAAAAAAAAAAAAAAAAAAAAAAAAAAAAAAAAAAAAAAAAAAAAAAAAAAAAAAAAAAAAAAAAAAAAAAAAAAAAAAAAAAAAAAAAAAAAAAAAAAAAAAAAAAAAAAAAAAAAAAAAAAAAAAAAAAAAAAAAAAAAAAAAAAAAAAAAAAAAAAAAAAAAAAAAAAAAAAAAAAAAAAAAAAAAAAAAAAAAAAAAAAAAAAAAAAAAAAAAAAAAAAAAAAAAAAAAAAAAAAAAAAAAAAAAAAAAAAAAAAAAAAAAAAAAAAAAAAAAAAAAAAAAAAAAAAAAAAAAAAAAAAAAAAAAAAAAAAAAAAAAAAAAAAAAAAAAAAAAAAAAAAAAAAAAAAAAAAAAAAAAAAAAAAAAAAAAAAAAAAAAAAAAAAAAAAAAAAAAAAAAAAAAAAAAAAAAAAAAAAAAAAAAAAAAAAAAAAAAAAAAAAAAAAAAAAAAAAAAAAAAAAAAAAAAAAAAAAAAAAAAAAAAAAAAAAAAAAAAAAAAAAAAAAAAAAAAAAAAAAAAAAAAAAAAAAAAAAAAAAAAAAAAAAAAAAAAAAAAAAAAAAAAAAAAAAAAAAAAAAAAAAAAAAAAAAAAAAAAAAAAAAAAAAAAAAAAAAAAAAAAAAAAAAAAAAAAAAAAAAAAAAAAAAAAAAAAAAAAAAAAAAAAAAAAAAAAAAAAAAAAAAAAAAAAAAAAAAAAAAAAAAAAAAAAAAAAAAAAAAAAAAAAAAAAAAAAAAAAAAAAAAAAAAAAAAAAAAAAAAAAAAAAAAAAAAAAAAAAAAAAAAAAAAAAAAAAAAAAAHDzs34gZkw/AAAAAAAAAAAvbqMBvAViPwAAAAAAAAAAAAAAAAAAAAAAAAAAAAAAAAAAAAAAAAAAAAAAAAAAAACDCiH6yMBUPwAAAAAAAAAAAAAAAAAAAAAAAAAAAAAAABWMSuoENGE/AAAAAAAAAAAAAAAAAAAAAMWPMXctIX8/HoK9nOx5YT8tQxzr4jYaP4MKIfrIwFQ/HoK9nOx5AT8AJSusQYXIPx6CvZzseaE/XgFyr7mQpD/7XG3F/rK7Pw==",
             "dtype": "f8"
            },
            "coloraxis": "coloraxis",
            "size": {
             "bdata": "AAAAAAAAAAAAAAAAAAAAAAAAAAAAAAAAAAAAAAAAAAAAAAAAAAAAAAAAAAAAAAAAAAAAAAAAAAAAAAAAAAAAAAAAAAAAAAAAAAAAAAAAAAAAAAAAAAAAAAAAAAAAAAAAAAAAAAAAAAAAAAAAAAAAAAAAAAAAAAAAAAAAAAAAAAAAAAAAAAAAAAAAAAAAAAAAAAAAAAAAAAAAAAAAAAAAAAAAAAAAAAAAAAAAAAAAAAAAAAAAAAAAAAAAAAAAAAAAAAAAAAAAAAAAAAAAAAAAAAAAAAAAAAAAAAAAAAAAAAAAAAAAAAAAAAAAAAAAAAAAAAAAAAAAAAAAAAAAAAAAAAAAAAAAAAAAAAAAAAAAAAAAAAAAAAAAAAAAAAAAAAAAAAAAAAAAAAAAAAAAAAAAAAAAAAAAAAAAAAAAAAAAAAAAAAAAAAAAAAAAAAAAAAAAAAAAAAAAAAAAAAAAAAAAAAAAAAAAAAAAAAAAAAAAAAAAAAAAAAAAAAAAAAAAAAAAAAAAAAAAAAAAAAAAAAAAAAAAAAAAAAAAAAAAAAAAAAAAAAAAAAAAAAAAAAAAAAAAAAAAAAAAAAAAAAAAAAAAAAAAAAAAAAAAAAAAAAAAAAAAAAAAAAAAAAAAAAAAAAAAAAAAAAAAAAAAAAAAAAAAAAAAAAAAAAAAAAAAAAAAAAAAAAAAAAAAAAAAAAAAAAAAAAAAAAAAAAAAAAAAAAAAAAAAAAAAAAAAAAAAAAAAAAAAAAAAAAAAAAAAAAAAAAAAAAAAAAAAAAAAAAAAAAAAAAAAAAAAAAAAAAAAAAAAAAAAAAAAAAAAAAAAAAAAAAAAAAAAAAAAAAAAAAAAAAAAAAAAAAAAAAAAAAAAAAAAAAAAAAAAAAAAAAAAAAAAAAAAAAAAAAAAAAAAAAAAAAAAAAAAAAAAAAAAAAAAAAAAAAAAAAAAAAAAAAAAAAAAAAAAAAAAAAAAAAAAAAAAAAAAAAAAAAAAAAAAAAAAAAAAAAAAAAAAAAAAAAAAAAAAAAAAAAAAAAAAAAAAAAAAAAAAAHDzs34gZkw/AAAAAAAAAAAvbqMBvAViPwAAAAAAAAAAAAAAAAAAAAAAAAAAAAAAAAAAAAAAAAAAAAAAAAAAAACDCiH6yMBUPwAAAAAAAAAAAAAAAAAAAAAAAAAAAAAAABWMSuoENGE/AAAAAAAAAAAAAAAAAAAAAMWPMXctIX8/HoK9nOx5YT8tQxzr4jYaP4MKIfrIwFQ/HoK9nOx5AT8AJSusQYXIPx6CvZzseaE/XgFyr7mQpD/7XG3F/rK7Pw==",
             "dtype": "f8"
            },
            "sizemode": "area",
            "sizeref": 0.006043951612903227
           },
           "mode": "markers",
           "name": "",
           "showlegend": false,
           "subplot": "map",
           "type": "scattermap"
          }
         ],
         "name": "2020-06"
        },
        {
         "data": [
          {
           "hovertemplate": "month=2020-07<br>HTEURNEIGE_Q=%{marker.color}<br>lat=%{lat}<br>lon=%{lon}<extra></extra>",
           "lat": {
            "bdata": "GNilFLSrRkCtqV0k6bRGQOjesz0evkZAm+q6X1PHRkD/GkaOZ6tGQABCMISctEZAAFKvg9G9RkDuttWLBsdGQG43+PgXq0ZAYvcM1Ey0RkAzxay4gb1GQKMF6qW2xkZATM7WmuvPRkC6Xg2gkKFGQB/o1lTFqkZAO5cOFPqzRkCvGMfcLr1GQMLJEq5jxkZAk7gDh5jPRkA/pKtmzdhGQAj9G0wC4kZAFh4O/dGORkBVnm99BphGQJR3Dgo7oUZA7u39oW+qRkDb9VBEpLNGQEI0GvDYvEZAt/5rpA3GRkCOW1hgQs9GQA0C8SJ32EZAllpH66vhRkACIx2VeY5GQJY+s/etl0ZAyc57ZuKgRkDfD4rgFqpGQGPu8GRLs0ZAUAfD8n+8RkApqBKJtMVGQEHP8SbpzkZAwStyyx3YRkDqHaV1UuFGQC+3mySH6kZA3hrDIR6ORkBDg4dlUpdGQJMcc7WGoEZA6RqZELupRkCoYgx277JGQI+I3+QjvEZA39EkXFjFRkCQNO7ajM5GQHNXTWDB10ZAWZJT6/XgRkCa1fWe72hGQIoROokjckZA8ApKg1d7RkBzLjqMi4RGQEmYHqO/jUZASRQLx/OWRkA2HhP3J6BGQMzhSTJcqUZA+TrCd5CyRkD6tY7GxLtGQIiPwR35xEZABbVsfC3ORkDuQieYjmhGQFMivWHCcUZALd8SO/Z6RkCi3TwjKoRGQGoxTxlejUZA1Z1dHJKWRkD9lXsrxp9GQAM9vEX6qEZAEmYyai6yRkCslPCXYrtGQLb8CM6WxEZAEOke8/ZeRkD75WKKKmhGQBPWRTJecUZAimXc6ZF6RkDX7zqwxYNGQOV/dYT5jEZAMtCfZS2WRkAHS81SYZ9GQIUKEUuVqEZA7dh9TcmxRkAD2jABkF5GQPr+yXXDZ0ZABYT1+vZwRkBkDMiPKnpGQJ7qVTNeg0ZAkyCz5JGMRkCzX/OixZVGQBcJKm35nkZAui1qQi2oRkCgjsYhYbFGQHTOflpZZ0ZAZ4Tuu4xwRkDWQ/gswHlGQAFWsKzzgkZAf7MqOieMRkBuBHvUWpVGQICgtHqOnkZAQo/qK8KnRkAuiC/n9bBGQNbylaspukZAbzBUdR9wRkCIfZDBUnlGQDu8bRyGgkZAndv/hLmLRkArelr67JRGQPXlkHsgnkZAyhy2B1SnRkBjzNydh7BGQP7hSievb0ZAkiy1TeJ4RkC8qbKCFYJGQME+V8VIi0ZAtGfzRRawRkCK8/fRO29GQE7Fi9FueEZA87+BdcVuRkA2vTpN+HdGQA==",
            "dtype": "f8"
           },
           "legendgroup": "",
           "lon": {
            "bdata": "fdMnuEhZE0DmL32SnFwTQNK/OqTyXxNAogWY70pjE0AzeK7LucETQMUBOFowxRNA6VQ7N6nIE0DN9QZlJMwTQPY8B5MoKhRAbH9508EtFEB2EnR5XTEUQPp2XIf7NBRAimCb/5s4FEAaU1yB244UQDZ+OveUkhRA+yYz51CWFED0eb9TD5oUQGbvWz/QnRRA01CIrJOhFEB/vsedWaUUQAi1oBUiqRRAQ1VZZnLvFECNhd5XSfMUQPaUWdUi9xRAgsBT4f76FED8o1l+3f4UQI0/+66+AhVAYP3LdaIGFUBWt2LViAoVQMC8WdBxDhVAKthOaV0SFUB4EihJclcVQH/upKBrWxVAiz3YmmdfFUCxzmE6ZmMVQKzt5IFnZxVAoWgIdGtrFUDtlXYTcm8VQBda3WJ7cxVAtS3uZId3FUBqI14clnsVQPDt5YunfxVA4jrdi2+/FUBga7VGi8MVQO0rAbupxxVA8td268rLFUBNZdDa7s8VQENqy4sV1BVAiSMpAT/YFUBTeq49a9wVQIkKJESa4BVA2ihWF8zkFUD/UhGUjRYWQNnzlIrAGhZA4N02RvYeFkACT7XJLiMWQCwl0hdqJxZALuRSM6grFkDNuwAf6S8WQN2NqN0sNBZAXfQacnM4FkCpRyzfvDwWQLSktCcJQRZATvOPTlhFFkDGxoG8/H0WQEAk7LZRghZAt8XRjKmGFkBw9AZBBIsWQJS2Y9ZhjxZAWtXDT8KTFkBG4wawJZgWQGlCEPqLnBZAwSrHMPWgFkCEsBZXYaUWQJvK7W/QqRZAUJ61//TgFkDQGUgMaeUWQHCiyAfg6RZAIrMd9VnuFkBWmjHX1vIWQEiA8rBW9xZAXm1Shdn7FkCVUEdXXwAXQOwFyynoBBdA+Fzb/3MJF0D6Vp54PEgXQFL1IG3STBdANS/RZmtRF0DFYatoB1YXQEzar3WmWhdAvdzikEhfF0BFqky97WMXQN6H+f2VaBdA8sT5VUFtF0AkwmHI73EXQLbPzMg4tBdA116wvfO4F0AXZw/Rsb0XQBYuAAZzwhdA+wydXzfHF0AZdwTh/ssXQMYAWY3J0BdAKGbBZ5fVF0AlkmhzaNoXQEGlfbM83xdAwbUU9nggGEAnT+IXWSUYQKUMpXE8KhhAzlWNBiMvGEBWyc/ZDDQYQBxEpe75OBhAGOhKSOo9GECDIwLq3UIYQCTFsPn6hxhAibnAJv2MGEAgByWiApIYQP8cJG8LlxhAcwlFFVCrGECRRzuyee8YQAN2S+ed9BhAfj1vCfVWGUBEoSdDO1wZQA==",
            "dtype": "f8"
           },
           "marker": {
            "color": {
             "bdata": "AAAAAAAAAAAAAAAAAAAAAAAAAAAAAAAAAAAAAAAAAAAAAAAAAAAAAAAAAAAAAAAAAAAAAAAAAAAAAAAAAAAAAAAAAAAAAAAAAAAAAAAAAAAAAAAAAAAAAAAAAAAAAAAAAAAAAAAAAAAAAAAAAAAAAAAAAAAAAAAAAAAAAAAAAAAAAAAAAAAAAAAAAAAAAAAAAAAAAAAAAAAAAAAAAAAAAAAAAAAAAAAAAAAAAAAAAAAAAAAAAAAAAAAAAAAAAAAAAAAAAAAAAAAAAAAAAAAAAAAAAAAAAAAAAAAAAAAAAAAAAAAAAAAAAAAAAAAAAAAAAAAAAAAAAAAAAAAAAAAAAAAAAAAAAAAAAAAAAAAAAAAAAAAAAAAAAAAAAAAAAAAAAAAAAAAAAAAAAAAAAAAAAAAAAAAAAAAAAAAAAAAAAAAAAAAAAAAAAAAAAAAAAAAAAAAAAAAAAAAAAAAAAAAAAAAAAAAAAAAAAAAAAAAAAAAAAAAAAAAAAAAAAAAAAAAAAAAAAAAAAAAAAAAAAAAAAAAAAAAAAAAAAAAAAAAAAAAAAAAAAAAAAAAAAAAAAAAAAAAAAAAAAAAAAAAAAAAAAAAAAAAAAAAAAAAAAAAAAAAAAAAAAAAAAAAAAAAAAAAAAAAAAAAAAAAAAAAAAAAAAAAAAAAAAAAAAAAAAAAAAAAAAAAAAAAAAAAAAAAAAAAAAAAAAAAAAAAAAAAAAAAAAAAAAAAAAAAAAAAAAAAAAAAAAAAAAAAAAAAAAAAAAAAAAAAAAAAAAAAAAAAAAAAAAAAAAAAAAAAAAAAAAAAAAAAAAAAAAAAAAAAAAAAAAAAAAAAAAAAAAAAAAAAAAAAAAAAAAAAAAAAAAAAAAAAAAAAAAAAAAAAAAAAAAAAAAAAAAAAAAAAAAAAAAAAAAAAAAAAAAAAAAAAAAAAAAAAAAAAAAAAAAAAAAAAAAAAAAAAAAAAAAAAAAAAAAAAAAAAAAAAAAAAAAAAAAAAAAAAAAAAAAAAAAAAAAAAAAAAAAAAAAAAAAAAAAAAAAAAAAAAAAAAAAAAAAAAAAAAAAAAAAAAAAAAAAAAAAAAAAAAAAAAAAAAAAAAAAAAAAAAAAAAAAAAAAAAAAAAAAAAAAAAAAAAAAAAAAAAAAAAAAAAAAAAAAAAAAAAAAAAAAAAAAAAAAAAAAAAAAAAAAAAAAAAAAAAAAAAAAAAAAAAAAAAAAAAAAAAAAAAAAAAAAAAAAAAAAAAAAAAAAAAAAAAAAAAAAAAUSJ/nWuBkP6GsOf3NBkM/th9g+wG2Pz/SExw9wdFjPw==",
             "dtype": "f8"
            },
            "coloraxis": "coloraxis",
            "size": {
             "bdata": "AAAAAAAAAAAAAAAAAAAAAAAAAAAAAAAAAAAAAAAAAAAAAAAAAAAAAAAAAAAAAAAAAAAAAAAAAAAAAAAAAAAAAAAAAAAAAAAAAAAAAAAAAAAAAAAAAAAAAAAAAAAAAAAAAAAAAAAAAAAAAAAAAAAAAAAAAAAAAAAAAAAAAAAAAAAAAAAAAAAAAAAAAAAAAAAAAAAAAAAAAAAAAAAAAAAAAAAAAAAAAAAAAAAAAAAAAAAAAAAAAAAAAAAAAAAAAAAAAAAAAAAAAAAAAAAAAAAAAAAAAAAAAAAAAAAAAAAAAAAAAAAAAAAAAAAAAAAAAAAAAAAAAAAAAAAAAAAAAAAAAAAAAAAAAAAAAAAAAAAAAAAAAAAAAAAAAAAAAAAAAAAAAAAAAAAAAAAAAAAAAAAAAAAAAAAAAAAAAAAAAAAAAAAAAAAAAAAAAAAAAAAAAAAAAAAAAAAAAAAAAAAAAAAAAAAAAAAAAAAAAAAAAAAAAAAAAAAAAAAAAAAAAAAAAAAAAAAAAAAAAAAAAAAAAAAAAAAAAAAAAAAAAAAAAAAAAAAAAAAAAAAAAAAAAAAAAAAAAAAAAAAAAAAAAAAAAAAAAAAAAAAAAAAAAAAAAAAAAAAAAAAAAAAAAAAAAAAAAAAAAAAAAAAAAAAAAAAAAAAAAAAAAAAAAAAAAAAAAAAAAAAAAAAAAAAAAAAAAAAAAAAAAAAAAAAAAAAAAAAAAAAAAAAAAAAAAAAAAAAAAAAAAAAAAAAAAAAAAAAAAAAAAAAAAAAAAAAAAAAAAAAAAAAAAAAAAAAAAAAAAAAAAAAAAAAAAAAAAAAAAAAAAAAAAAAAAAAAAAAAAAAAAAAAAAAAAAAAAAAAAAAAAAAAAAAAAAAAAAAAAAAAAAAAAAAAAAAAAAAAAAAAAAAAAAAAAAAAAAAAAAAAAAAAAAAAAAAAAAAAAAAAAAAAAAAAAAAAAAAAAAAAAAAAAAAAAAAAAAAAAAAAAAAAAAAAAAAAAAAAAAAAAAAAAAAAAAAAAAAAAAAAAAAAAAAAAAAAAAAAAAAAAAAAAAAAAAAAAAAAAAAAAAAAAAAAAAAAAAAAAAAAAAAAAAAAAAAAAAAAAAAAAAAAAAAAAAAAAAAAAAAAAAAAAAAAAAAAAAAAAAAAAAAAAAAAAAAAAAAAAAAAAAAAAAAAAAAAAAAAAAAAAAAAAAAAAAAAAAAAAAAAAAAAAAAAAAAAAAAAAAAAAAAAAAAAAAAAAAAAAAAAAAAAAAAAAAAAAAAUSJ/nWuBkP6GsOf3NBkM/th9g+wG2Pz/SExw9wdFjPw==",
             "dtype": "f8"
            },
            "sizemode": "area",
            "sizeref": 0.006043951612903227
           },
           "mode": "markers",
           "name": "",
           "showlegend": false,
           "subplot": "map",
           "type": "scattermap"
          }
         ],
         "name": "2020-07"
        },
        {
         "data": [
          {
           "hovertemplate": "month=2020-08<br>HTEURNEIGE_Q=%{marker.color}<br>lat=%{lat}<br>lon=%{lon}<extra></extra>",
           "lat": {
            "bdata": "GNilFLSrRkCtqV0k6bRGQOjesz0evkZAm+q6X1PHRkD/GkaOZ6tGQABCMISctEZAAFKvg9G9RkDuttWLBsdGQG43+PgXq0ZAYvcM1Ey0RkAzxay4gb1GQKMF6qW2xkZATM7WmuvPRkC6Xg2gkKFGQB/o1lTFqkZAO5cOFPqzRkCvGMfcLr1GQMLJEq5jxkZAk7gDh5jPRkA/pKtmzdhGQAj9G0wC4kZAFh4O/dGORkBVnm99BphGQJR3Dgo7oUZA7u39oW+qRkDb9VBEpLNGQEI0GvDYvEZAt/5rpA3GRkCOW1hgQs9GQA0C8SJ32EZAllpH66vhRkACIx2VeY5GQJY+s/etl0ZAyc57ZuKgRkDfD4rgFqpGQGPu8GRLs0ZAUAfD8n+8RkApqBKJtMVGQEHP8SbpzkZAwStyyx3YRkDqHaV1UuFGQC+3mySH6kZA3hrDIR6ORkBDg4dlUpdGQJMcc7WGoEZA6RqZELupRkCoYgx277JGQI+I3+QjvEZA39EkXFjFRkCQNO7ajM5GQHNXTWDB10ZAWZJT6/XgRkCa1fWe72hGQIoROokjckZA8ApKg1d7RkBzLjqMi4RGQEmYHqO/jUZASRQLx/OWRkA2HhP3J6BGQMzhSTJcqUZA+TrCd5CyRkD6tY7GxLtGQIiPwR35xEZABbVsfC3ORkDuQieYjmhGQFMivWHCcUZALd8SO/Z6RkCi3TwjKoRGQGoxTxlejUZA1Z1dHJKWRkD9lXsrxp9GQAM9vEX6qEZAEmYyai6yRkCslPCXYrtGQLb8CM6WxEZAEOke8/ZeRkD75WKKKmhGQBPWRTJecUZAimXc6ZF6RkDX7zqwxYNGQOV/dYT5jEZAMtCfZS2WRkAHS81SYZ9GQIUKEUuVqEZA7dh9TcmxRkAD2jABkF5GQPr+yXXDZ0ZABYT1+vZwRkBkDMiPKnpGQJ7qVTNeg0ZAkyCz5JGMRkCzX/OixZVGQBcJKm35nkZAui1qQi2oRkCgjsYhYbFGQHTOflpZZ0ZAZ4Tuu4xwRkDWQ/gswHlGQAFWsKzzgkZAf7MqOieMRkBuBHvUWpVGQICgtHqOnkZAQo/qK8KnRkAuiC/n9bBGQNbylaspukZAbzBUdR9wRkCIfZDBUnlGQDu8bRyGgkZAndv/hLmLRkArelr67JRGQPXlkHsgnkZAyhy2B1SnRkBjzNydh7BGQP7hSievb0ZAkiy1TeJ4RkC8qbKCFYJGQME+V8VIi0ZAtGfzRRawRkCK8/fRO29GQE7Fi9FueEZA87+BdcVuRkA2vTpN+HdGQA==",
            "dtype": "f8"
           },
           "legendgroup": "",
           "lon": {
            "bdata": "fdMnuEhZE0DmL32SnFwTQNK/OqTyXxNAogWY70pjE0AzeK7LucETQMUBOFowxRNA6VQ7N6nIE0DN9QZlJMwTQPY8B5MoKhRAbH9508EtFEB2EnR5XTEUQPp2XIf7NBRAimCb/5s4FEAaU1yB244UQDZ+OveUkhRA+yYz51CWFED0eb9TD5oUQGbvWz/QnRRA01CIrJOhFEB/vsedWaUUQAi1oBUiqRRAQ1VZZnLvFECNhd5XSfMUQPaUWdUi9xRAgsBT4f76FED8o1l+3f4UQI0/+66+AhVAYP3LdaIGFUBWt2LViAoVQMC8WdBxDhVAKthOaV0SFUB4EihJclcVQH/upKBrWxVAiz3YmmdfFUCxzmE6ZmMVQKzt5IFnZxVAoWgIdGtrFUDtlXYTcm8VQBda3WJ7cxVAtS3uZId3FUBqI14clnsVQPDt5YunfxVA4jrdi2+/FUBga7VGi8MVQO0rAbupxxVA8td268rLFUBNZdDa7s8VQENqy4sV1BVAiSMpAT/YFUBTeq49a9wVQIkKJESa4BVA2ihWF8zkFUD/UhGUjRYWQNnzlIrAGhZA4N02RvYeFkACT7XJLiMWQCwl0hdqJxZALuRSM6grFkDNuwAf6S8WQN2NqN0sNBZAXfQacnM4FkCpRyzfvDwWQLSktCcJQRZATvOPTlhFFkDGxoG8/H0WQEAk7LZRghZAt8XRjKmGFkBw9AZBBIsWQJS2Y9ZhjxZAWtXDT8KTFkBG4wawJZgWQGlCEPqLnBZAwSrHMPWgFkCEsBZXYaUWQJvK7W/QqRZAUJ61//TgFkDQGUgMaeUWQHCiyAfg6RZAIrMd9VnuFkBWmjHX1vIWQEiA8rBW9xZAXm1Shdn7FkCVUEdXXwAXQOwFyynoBBdA+Fzb/3MJF0D6Vp54PEgXQFL1IG3STBdANS/RZmtRF0DFYatoB1YXQEzar3WmWhdAvdzikEhfF0BFqky97WMXQN6H+f2VaBdA8sT5VUFtF0AkwmHI73EXQLbPzMg4tBdA116wvfO4F0AXZw/Rsb0XQBYuAAZzwhdA+wydXzfHF0AZdwTh/ssXQMYAWY3J0BdAKGbBZ5fVF0AlkmhzaNoXQEGlfbM83xdAwbUU9nggGEAnT+IXWSUYQKUMpXE8KhhAzlWNBiMvGEBWyc/ZDDQYQBxEpe75OBhAGOhKSOo9GECDIwLq3UIYQCTFsPn6hxhAibnAJv2MGEAgByWiApIYQP8cJG8LlxhAcwlFFVCrGECRRzuyee8YQAN2S+ed9BhAfj1vCfVWGUBEoSdDO1wZQA==",
            "dtype": "f8"
           },
           "marker": {
            "color": {
             "bdata": "AAAAAAAAAAAAAAAAAAAAAAAAAAAAAAAAAAAAAAAAAAAAAAAAAAAAAAAAAAAAAAAAAAAAAAAAAAAAAAAAAAAAAAAAAAAAAAAAAAAAAAAAAAAAAAAAAAAAAAAAAAAAAAAAAAAAAAAAAAAAAAAAAAAAAAAAAAAAAAAAAAAAAAAAAAAAAAAAAAAAAAAAAAAAAAAAAAAAAAAAAAAAAAAAAAAAAAAAAAAAAAAAAAAAAAAAAAAAAAAAAAAAAAAAAAAAAAAAAAAAAAAAAAAAAAAAAAAAAAAAAAAAAAAAAAAAAAAAAAAAAAAAAAAAAAAAAAAAAAAAAAAAAAAAAAAAAAAAAAAAAAAAAAAAAAAAAAAAAAAAAAAAAAAAAAAAAAAAAAAAAAAAAAAAAAAAAAAAAAAAAAAAAAAAAAAAAAAAAAAAAAAAAAAAAAAAAAAAAAAAAAAAAAAAAAAAAAAAAAAAAAAAAAAAAAAAAAAAAAAAAAAAAAAAAAAAAAAAAAAAAAAAAAAAAAAAAAAAAAAAAAAAAAAAAAAAAAAAAAAAAAAAAAAAAAAAAAAAAAAAAAAAAAAAAAAAAAAAAAAAAAAAAAAAAAAAAAAAAAAAAAAAAAAAAAAAAAAAAAAAAAAAAAAAAAAAAAAAAAAAAAAAAAAAAAAAAAAAAAAAAAAAAAAAAAAAAAAAAAAAAAAAAAAAAAAAAAAAAAAAAAAAAAAAAAAAAAAAAAAAAAAAAAAAAAAAAAAAAAAAAAAAAAAAAAAAAAAAAAAAAAAAAAAAAAAAAAAAAAAAAAAAAAAAAAAAAAAAAAAAAAAAAAAAAAAAAAAAAAAAAAAAAAAAAAAAAAAAAAAAAAAAAAAAAAAAAAAAAAAAAAAAAAAAAAAAAAAAAAAAAAAAAAAAAAAAAAAAAAAAAAAAAAAAAAAAAAAAAAAAAAAAAAAAAAAAAAAAAAAAAAAAAAAAAAAAAAAAAAAAAAAAAAAAAAAAAAAAAAAAAAAAAAAAAAAAAAAAAAAAAAAAAAAAAAAAAAAAAAAAAAAAAAAAAAAAAAAAAAAAAAAAAAAAAAAAAAAAAAAAAAAAAAAdRDOomukAPwAAAAAAAAAAAAAAAAAAAAAAAAAAAAAAAAAAAAAAAAAAAAAAAAAAAAAr5kz8Z14ZPwAAAAAAAAAAAAAAAAAAAAAAAAAAAAAAAB1EM6ia6QA/AAAAAAAAAAAAAAAAAAAAAKd9Rqc0QTc/K+ZM/GdeGT8AAAAAAAAAACvmTPxnXhk/HUQzqJrpAD/8US2GO8l+P2wa0KYBbUo/+Kun8q1dcj9yRHytKj6BPw==",
             "dtype": "f8"
            },
            "coloraxis": "coloraxis",
            "size": {
             "bdata": "AAAAAAAAAAAAAAAAAAAAAAAAAAAAAAAAAAAAAAAAAAAAAAAAAAAAAAAAAAAAAAAAAAAAAAAAAAAAAAAAAAAAAAAAAAAAAAAAAAAAAAAAAAAAAAAAAAAAAAAAAAAAAAAAAAAAAAAAAAAAAAAAAAAAAAAAAAAAAAAAAAAAAAAAAAAAAAAAAAAAAAAAAAAAAAAAAAAAAAAAAAAAAAAAAAAAAAAAAAAAAAAAAAAAAAAAAAAAAAAAAAAAAAAAAAAAAAAAAAAAAAAAAAAAAAAAAAAAAAAAAAAAAAAAAAAAAAAAAAAAAAAAAAAAAAAAAAAAAAAAAAAAAAAAAAAAAAAAAAAAAAAAAAAAAAAAAAAAAAAAAAAAAAAAAAAAAAAAAAAAAAAAAAAAAAAAAAAAAAAAAAAAAAAAAAAAAAAAAAAAAAAAAAAAAAAAAAAAAAAAAAAAAAAAAAAAAAAAAAAAAAAAAAAAAAAAAAAAAAAAAAAAAAAAAAAAAAAAAAAAAAAAAAAAAAAAAAAAAAAAAAAAAAAAAAAAAAAAAAAAAAAAAAAAAAAAAAAAAAAAAAAAAAAAAAAAAAAAAAAAAAAAAAAAAAAAAAAAAAAAAAAAAAAAAAAAAAAAAAAAAAAAAAAAAAAAAAAAAAAAAAAAAAAAAAAAAAAAAAAAAAAAAAAAAAAAAAAAAAAAAAAAAAAAAAAAAAAAAAAAAAAAAAAAAAAAAAAAAAAAAAAAAAAAAAAAAAAAAAAAAAAAAAAAAAAAAAAAAAAAAAAAAAAAAAAAAAAAAAAAAAAAAAAAAAAAAAAAAAAAAAAAAAAAAAAAAAAAAAAAAAAAAAAAAAAAAAAAAAAAAAAAAAAAAAAAAAAAAAAAAAAAAAAAAAAAAAAAAAAAAAAAAAAAAAAAAAAAAAAAAAAAAAAAAAAAAAAAAAAAAAAAAAAAAAAAAAAAAAAAAAAAAAAAAAAAAAAAAAAAAAAAAAAAAAAAAAAAAAAAAAAAAAAAAAAAAAAAAAAAAAAAAAAAAAAAAAAAAAAAAAAAAAAAAAAAAAAAAAAAAAAAAAAAAAAAAAAAAAAAAAAAAAAdRDOomukAPwAAAAAAAAAAAAAAAAAAAAAAAAAAAAAAAAAAAAAAAAAAAAAAAAAAAAAr5kz8Z14ZPwAAAAAAAAAAAAAAAAAAAAAAAAAAAAAAAB1EM6ia6QA/AAAAAAAAAAAAAAAAAAAAAKd9Rqc0QTc/K+ZM/GdeGT8AAAAAAAAAACvmTPxnXhk/HUQzqJrpAD/8US2GO8l+P2wa0KYBbUo/+Kun8q1dcj9yRHytKj6BPw==",
             "dtype": "f8"
            },
            "sizemode": "area",
            "sizeref": 0.006043951612903227
           },
           "mode": "markers",
           "name": "",
           "showlegend": false,
           "subplot": "map",
           "type": "scattermap"
          }
         ],
         "name": "2020-08"
        },
        {
         "data": [
          {
           "hovertemplate": "month=2020-09<br>HTEURNEIGE_Q=%{marker.color}<br>lat=%{lat}<br>lon=%{lon}<extra></extra>",
           "lat": {
            "bdata": "GNilFLSrRkCtqV0k6bRGQOjesz0evkZAm+q6X1PHRkD/GkaOZ6tGQABCMISctEZAAFKvg9G9RkDuttWLBsdGQG43+PgXq0ZAYvcM1Ey0RkAzxay4gb1GQKMF6qW2xkZATM7WmuvPRkC6Xg2gkKFGQB/o1lTFqkZAO5cOFPqzRkCvGMfcLr1GQMLJEq5jxkZAk7gDh5jPRkA/pKtmzdhGQAj9G0wC4kZAFh4O/dGORkBVnm99BphGQJR3Dgo7oUZA7u39oW+qRkDb9VBEpLNGQEI0GvDYvEZAt/5rpA3GRkCOW1hgQs9GQA0C8SJ32EZAllpH66vhRkACIx2VeY5GQJY+s/etl0ZAyc57ZuKgRkDfD4rgFqpGQGPu8GRLs0ZAUAfD8n+8RkApqBKJtMVGQEHP8SbpzkZAwStyyx3YRkDqHaV1UuFGQC+3mySH6kZA3hrDIR6ORkBDg4dlUpdGQJMcc7WGoEZA6RqZELupRkCoYgx277JGQI+I3+QjvEZA39EkXFjFRkCQNO7ajM5GQHNXTWDB10ZAWZJT6/XgRkCa1fWe72hGQIoROokjckZA8ApKg1d7RkBzLjqMi4RGQEmYHqO/jUZASRQLx/OWRkA2HhP3J6BGQMzhSTJcqUZA+TrCd5CyRkD6tY7GxLtGQIiPwR35xEZABbVsfC3ORkDuQieYjmhGQFMivWHCcUZALd8SO/Z6RkCi3TwjKoRGQGoxTxlejUZA1Z1dHJKWRkD9lXsrxp9GQAM9vEX6qEZAEmYyai6yRkCslPCXYrtGQLb8CM6WxEZAEOke8/ZeRkD75WKKKmhGQBPWRTJecUZAimXc6ZF6RkDX7zqwxYNGQOV/dYT5jEZAMtCfZS2WRkAHS81SYZ9GQIUKEUuVqEZA7dh9TcmxRkAD2jABkF5GQPr+yXXDZ0ZABYT1+vZwRkBkDMiPKnpGQJ7qVTNeg0ZAkyCz5JGMRkCzX/OixZVGQBcJKm35nkZAui1qQi2oRkCgjsYhYbFGQHTOflpZZ0ZAZ4Tuu4xwRkDWQ/gswHlGQAFWsKzzgkZAf7MqOieMRkBuBHvUWpVGQICgtHqOnkZAQo/qK8KnRkAuiC/n9bBGQNbylaspukZAbzBUdR9wRkCIfZDBUnlGQDu8bRyGgkZAndv/hLmLRkArelr67JRGQPXlkHsgnkZAyhy2B1SnRkBjzNydh7BGQP7hSievb0ZAkiy1TeJ4RkC8qbKCFYJGQME+V8VIi0ZAtGfzRRawRkCK8/fRO29GQE7Fi9FueEZA87+BdcVuRkA2vTpN+HdGQA==",
            "dtype": "f8"
           },
           "legendgroup": "",
           "lon": {
            "bdata": "fdMnuEhZE0DmL32SnFwTQNK/OqTyXxNAogWY70pjE0AzeK7LucETQMUBOFowxRNA6VQ7N6nIE0DN9QZlJMwTQPY8B5MoKhRAbH9508EtFEB2EnR5XTEUQPp2XIf7NBRAimCb/5s4FEAaU1yB244UQDZ+OveUkhRA+yYz51CWFED0eb9TD5oUQGbvWz/QnRRA01CIrJOhFEB/vsedWaUUQAi1oBUiqRRAQ1VZZnLvFECNhd5XSfMUQPaUWdUi9xRAgsBT4f76FED8o1l+3f4UQI0/+66+AhVAYP3LdaIGFUBWt2LViAoVQMC8WdBxDhVAKthOaV0SFUB4EihJclcVQH/upKBrWxVAiz3YmmdfFUCxzmE6ZmMVQKzt5IFnZxVAoWgIdGtrFUDtlXYTcm8VQBda3WJ7cxVAtS3uZId3FUBqI14clnsVQPDt5YunfxVA4jrdi2+/FUBga7VGi8MVQO0rAbupxxVA8td268rLFUBNZdDa7s8VQENqy4sV1BVAiSMpAT/YFUBTeq49a9wVQIkKJESa4BVA2ihWF8zkFUD/UhGUjRYWQNnzlIrAGhZA4N02RvYeFkACT7XJLiMWQCwl0hdqJxZALuRSM6grFkDNuwAf6S8WQN2NqN0sNBZAXfQacnM4FkCpRyzfvDwWQLSktCcJQRZATvOPTlhFFkDGxoG8/H0WQEAk7LZRghZAt8XRjKmGFkBw9AZBBIsWQJS2Y9ZhjxZAWtXDT8KTFkBG4wawJZgWQGlCEPqLnBZAwSrHMPWgFkCEsBZXYaUWQJvK7W/QqRZAUJ61//TgFkDQGUgMaeUWQHCiyAfg6RZAIrMd9VnuFkBWmjHX1vIWQEiA8rBW9xZAXm1Shdn7FkCVUEdXXwAXQOwFyynoBBdA+Fzb/3MJF0D6Vp54PEgXQFL1IG3STBdANS/RZmtRF0DFYatoB1YXQEzar3WmWhdAvdzikEhfF0BFqky97WMXQN6H+f2VaBdA8sT5VUFtF0AkwmHI73EXQLbPzMg4tBdA116wvfO4F0AXZw/Rsb0XQBYuAAZzwhdA+wydXzfHF0AZdwTh/ssXQMYAWY3J0BdAKGbBZ5fVF0AlkmhzaNoXQEGlfbM83xdAwbUU9nggGEAnT+IXWSUYQKUMpXE8KhhAzlWNBiMvGEBWyc/ZDDQYQBxEpe75OBhAGOhKSOo9GECDIwLq3UIYQCTFsPn6hxhAibnAJv2MGEAgByWiApIYQP8cJG8LlxhAcwlFFVCrGECRRzuyee8YQAN2S+ed9BhAfj1vCfVWGUBEoSdDO1wZQA==",
            "dtype": "f8"
           },
           "marker": {
            "color": {
             "bdata": "AAAAAAAAAAAAAAAAAAAAAAAAAAAAAAAAAAAAAAAAAAAAAAAAAAAAAAAAAAAAAAAAAAAAAAAAAAAAAAAAAAAAAAAAAAAAAAAAAAAAAAAAAAAAAAAAAAAAAAAAAAAAAAAAAAAAAAAAAAAAAAAAAAAAAAAAAAAAAAAAAAAAAAAAAAAAAAAAAAAAAAAAAAAAAAAAAAAAAAAAAAAAAAAAAAAAAAAAAAAAAAAAAAAAAAAAAAAAAAAAAAAAAAAAAAAAAAAAAAAAAAAAAAAAAAAAAAAAAAAAAAAAAAAAAAAAAAAAAAAAAAAAAAAAAAAAAAAAAAAAAAAAAAAAAAAAAAAAAAAAAAAAAAAAAAAAAAAAAAAAAAAAAAAAAAAAAAAAAAAAAAAAAAAAAAAAAAAAAAAAAAAAAAAAAAAAAAAAAAAAAAAAAAAAAAAAAAAAAAAAAAAAAAAAtKNLEl6VLj8egr2c7HkBPwAAAAAAAAAAAAAAAAAAAAAAAAAAAAAAAAAAAAAAAAAAAAAAAAAAAAAAAAAAAAAAAAAAAAAAAAAAAAAAAAAAAAD6fmq8dJN4P1XBqKROQHM/BaBkhTWocD9zHjuV+TRUP2IyVTAqqUM/pOLsw2fYVT8tQxzr4jYqPwAAAAAAAAAAAAAAAAAAAAAAAAAAAAAAAAAAAAAAAAAAAAAAAAAAAAAAAAAAAAAAAB6CvZzseRE/AAAAAAAAAACU9gZfmExVPz4vAlCywlo/HoK9nOx5QT8AAAAAAAAAAKXi7MNn2CU/AAAAAAAAAAAAAAAAAAAAAAAAAAAAAAAAHoK9nOx5MT8AAAAAAAAAAAAAAAAAAAAAAAAAAAAAAAAegr2c7HkhPwAAAAAAAAAAAAAAAAAAAADGuriNBvBGP2AHzhlR2os/VhFbZ2mUaz/FjzF3LSFfP1FGb8taHVM/AAAAAAAAAABlrY4JHsxzP1k84n1CY3M/6ZKEV6UHWD8egr2c7HkBPwAAAAAAAAAA33S4Q7CXgz9vy1odEzyIPx6CvZzseRE/SVD8GHPXYj/8qfHSTWKAP2PuWkI+6Jk/ERERERERkT9h6P7Xpp6iP18HzhlR2ls/AAAAAAAAAAAAAAAAAAAAAAAAAAAAAAAAM+nc2q8ogj/tDb4wmSqYPxNhw9MrZXk/K/NpKMjigT/mP6Tfvg6MPyvzaSjI4qE/gwoh+sjAdD8egr2c7HkhP0+vlGWIY50/noAmwoanlz9iMlUwKqmDP0DuNReSppQ/slOZT0NBlj8PnDOitDeoP4buf23qKZ8/gCOU0duylj8t18ib6UucPw==",
             "dtype": "f8"
            },
            "coloraxis": "coloraxis",
            "size": {
             "bdata": "AAAAAAAAAAAAAAAAAAAAAAAAAAAAAAAAAAAAAAAAAAAAAAAAAAAAAAAAAAAAAAAAAAAAAAAAAAAAAAAAAAAAAAAAAAAAAAAAAAAAAAAAAAAAAAAAAAAAAAAAAAAAAAAAAAAAAAAAAAAAAAAAAAAAAAAAAAAAAAAAAAAAAAAAAAAAAAAAAAAAAAAAAAAAAAAAAAAAAAAAAAAAAAAAAAAAAAAAAAAAAAAAAAAAAAAAAAAAAAAAAAAAAAAAAAAAAAAAAAAAAAAAAAAAAAAAAAAAAAAAAAAAAAAAAAAAAAAAAAAAAAAAAAAAAAAAAAAAAAAAAAAAAAAAAAAAAAAAAAAAAAAAAAAAAAAAAAAAAAAAAAAAAAAAAAAAAAAAAAAAAAAAAAAAAAAAAAAAAAAAAAAAAAAAAAAAAAAAAAAAAAAAAAAAAAAAAAAAAAAAAAAAAAAAtKNLEl6VLj8egr2c7HkBPwAAAAAAAAAAAAAAAAAAAAAAAAAAAAAAAAAAAAAAAAAAAAAAAAAAAAAAAAAAAAAAAAAAAAAAAAAAAAAAAAAAAAD6fmq8dJN4P1XBqKROQHM/BaBkhTWocD9zHjuV+TRUP2IyVTAqqUM/pOLsw2fYVT8tQxzr4jYqPwAAAAAAAAAAAAAAAAAAAAAAAAAAAAAAAAAAAAAAAAAAAAAAAAAAAAAAAAAAAAAAAB6CvZzseRE/AAAAAAAAAACU9gZfmExVPz4vAlCywlo/HoK9nOx5QT8AAAAAAAAAAKXi7MNn2CU/AAAAAAAAAAAAAAAAAAAAAAAAAAAAAAAAHoK9nOx5MT8AAAAAAAAAAAAAAAAAAAAAAAAAAAAAAAAegr2c7HkhPwAAAAAAAAAAAAAAAAAAAADGuriNBvBGP2AHzhlR2os/VhFbZ2mUaz/FjzF3LSFfP1FGb8taHVM/AAAAAAAAAABlrY4JHsxzP1k84n1CY3M/6ZKEV6UHWD8egr2c7HkBPwAAAAAAAAAA33S4Q7CXgz9vy1odEzyIPx6CvZzseRE/SVD8GHPXYj/8qfHSTWKAP2PuWkI+6Jk/ERERERERkT9h6P7Xpp6iP18HzhlR2ls/AAAAAAAAAAAAAAAAAAAAAAAAAAAAAAAAM+nc2q8ogj/tDb4wmSqYPxNhw9MrZXk/K/NpKMjigT/mP6Tfvg6MPyvzaSjI4qE/gwoh+sjAdD8egr2c7HkhP0+vlGWIY50/noAmwoanlz9iMlUwKqmDP0DuNReSppQ/slOZT0NBlj8PnDOitDeoP4buf23qKZ8/gCOU0duylj8t18ib6UucPw==",
             "dtype": "f8"
            },
            "sizemode": "area",
            "sizeref": 0.006043951612903227
           },
           "mode": "markers",
           "name": "",
           "showlegend": false,
           "subplot": "map",
           "type": "scattermap"
          }
         ],
         "name": "2020-09"
        },
        {
         "data": [
          {
           "hovertemplate": "month=2020-10<br>HTEURNEIGE_Q=%{marker.color}<br>lat=%{lat}<br>lon=%{lon}<extra></extra>",
           "lat": {
            "bdata": "GNilFLSrRkCtqV0k6bRGQOjesz0evkZAm+q6X1PHRkD/GkaOZ6tGQABCMISctEZAAFKvg9G9RkDuttWLBsdGQG43+PgXq0ZAYvcM1Ey0RkAzxay4gb1GQKMF6qW2xkZATM7WmuvPRkC6Xg2gkKFGQB/o1lTFqkZAO5cOFPqzRkCvGMfcLr1GQMLJEq5jxkZAk7gDh5jPRkA/pKtmzdhGQAj9G0wC4kZAFh4O/dGORkBVnm99BphGQJR3Dgo7oUZA7u39oW+qRkDb9VBEpLNGQEI0GvDYvEZAt/5rpA3GRkCOW1hgQs9GQA0C8SJ32EZAllpH66vhRkACIx2VeY5GQJY+s/etl0ZAyc57ZuKgRkDfD4rgFqpGQGPu8GRLs0ZAUAfD8n+8RkApqBKJtMVGQEHP8SbpzkZAwStyyx3YRkDqHaV1UuFGQC+3mySH6kZA3hrDIR6ORkBDg4dlUpdGQJMcc7WGoEZA6RqZELupRkCoYgx277JGQI+I3+QjvEZA39EkXFjFRkCQNO7ajM5GQHNXTWDB10ZAWZJT6/XgRkCa1fWe72hGQIoROokjckZA8ApKg1d7RkBzLjqMi4RGQEmYHqO/jUZASRQLx/OWRkA2HhP3J6BGQMzhSTJcqUZA+TrCd5CyRkD6tY7GxLtGQIiPwR35xEZABbVsfC3ORkDuQieYjmhGQFMivWHCcUZALd8SO/Z6RkCi3TwjKoRGQGoxTxlejUZA1Z1dHJKWRkD9lXsrxp9GQAM9vEX6qEZAEmYyai6yRkCslPCXYrtGQLb8CM6WxEZAEOke8/ZeRkD75WKKKmhGQBPWRTJecUZAimXc6ZF6RkDX7zqwxYNGQOV/dYT5jEZAMtCfZS2WRkAHS81SYZ9GQIUKEUuVqEZA7dh9TcmxRkAD2jABkF5GQPr+yXXDZ0ZABYT1+vZwRkBkDMiPKnpGQJ7qVTNeg0ZAkyCz5JGMRkCzX/OixZVGQBcJKm35nkZAui1qQi2oRkCgjsYhYbFGQHTOflpZZ0ZAZ4Tuu4xwRkDWQ/gswHlGQAFWsKzzgkZAf7MqOieMRkBuBHvUWpVGQICgtHqOnkZAQo/qK8KnRkAuiC/n9bBGQNbylaspukZAbzBUdR9wRkCIfZDBUnlGQDu8bRyGgkZAndv/hLmLRkArelr67JRGQPXlkHsgnkZAyhy2B1SnRkBjzNydh7BGQP7hSievb0ZAkiy1TeJ4RkC8qbKCFYJGQME+V8VIi0ZAtGfzRRawRkCK8/fRO29GQE7Fi9FueEZA87+BdcVuRkA2vTpN+HdGQA==",
            "dtype": "f8"
           },
           "legendgroup": "",
           "lon": {
            "bdata": "fdMnuEhZE0DmL32SnFwTQNK/OqTyXxNAogWY70pjE0AzeK7LucETQMUBOFowxRNA6VQ7N6nIE0DN9QZlJMwTQPY8B5MoKhRAbH9508EtFEB2EnR5XTEUQPp2XIf7NBRAimCb/5s4FEAaU1yB244UQDZ+OveUkhRA+yYz51CWFED0eb9TD5oUQGbvWz/QnRRA01CIrJOhFEB/vsedWaUUQAi1oBUiqRRAQ1VZZnLvFECNhd5XSfMUQPaUWdUi9xRAgsBT4f76FED8o1l+3f4UQI0/+66+AhVAYP3LdaIGFUBWt2LViAoVQMC8WdBxDhVAKthOaV0SFUB4EihJclcVQH/upKBrWxVAiz3YmmdfFUCxzmE6ZmMVQKzt5IFnZxVAoWgIdGtrFUDtlXYTcm8VQBda3WJ7cxVAtS3uZId3FUBqI14clnsVQPDt5YunfxVA4jrdi2+/FUBga7VGi8MVQO0rAbupxxVA8td268rLFUBNZdDa7s8VQENqy4sV1BVAiSMpAT/YFUBTeq49a9wVQIkKJESa4BVA2ihWF8zkFUD/UhGUjRYWQNnzlIrAGhZA4N02RvYeFkACT7XJLiMWQCwl0hdqJxZALuRSM6grFkDNuwAf6S8WQN2NqN0sNBZAXfQacnM4FkCpRyzfvDwWQLSktCcJQRZATvOPTlhFFkDGxoG8/H0WQEAk7LZRghZAt8XRjKmGFkBw9AZBBIsWQJS2Y9ZhjxZAWtXDT8KTFkBG4wawJZgWQGlCEPqLnBZAwSrHMPWgFkCEsBZXYaUWQJvK7W/QqRZAUJ61//TgFkDQGUgMaeUWQHCiyAfg6RZAIrMd9VnuFkBWmjHX1vIWQEiA8rBW9xZAXm1Shdn7FkCVUEdXXwAXQOwFyynoBBdA+Fzb/3MJF0D6Vp54PEgXQFL1IG3STBdANS/RZmtRF0DFYatoB1YXQEzar3WmWhdAvdzikEhfF0BFqky97WMXQN6H+f2VaBdA8sT5VUFtF0AkwmHI73EXQLbPzMg4tBdA116wvfO4F0AXZw/Rsb0XQBYuAAZzwhdA+wydXzfHF0AZdwTh/ssXQMYAWY3J0BdAKGbBZ5fVF0AlkmhzaNoXQEGlfbM83xdAwbUU9nggGEAnT+IXWSUYQKUMpXE8KhhAzlWNBiMvGEBWyc/ZDDQYQBxEpe75OBhAGOhKSOo9GECDIwLq3UIYQCTFsPn6hxhAibnAJv2MGEAgByWiApIYQP8cJG8LlxhAcwlFFVCrGECRRzuyee8YQAN2S+ed9BhAfj1vCfVWGUBEoSdDO1wZQA==",
            "dtype": "f8"
           },
           "marker": {
            "color": {
             "bdata": "AAAAAAAAAAAAAAAAAAAAAAAAAAAAAAAAAAAAAAAAAAAAAAAAAAAAAAAAAAAAAAAAAAAAAAAAAAAAAAAAAAAAAAAAAAAAAAAAAAAAAAAAAAAAAAAAAAAAAAAAAAAAAAAAAAAAAAAAAAAAAAAAAAAAAAAAAAAAAAAAAAAAAAAAAAAAAAAAAAAAAAAAAAAAAAAAAAAAAAAAAAAAAAAAAAAAAAAAAAAAAAAAAAAAAAAAAAAAAAAAAAAAAAAAAAAAAAAAAAAAAAAAAAAAAAAAAAAAAAAAAAAAAAAAAAAAAAAAAAAAAAAAAAAAAAAAAAAAAAAAAAAAAAAAAAAAAAAAAAAAAAAAAAAAAAAAAAAAAAAAAAAAAAAAAAAAAAAAAAAAAAAAAAAAAAAAAAAAAAAAAAAAAAAAAAAAAAAAAAAAAAAAAAAAAAAAAAAAAAAAAAAAAAAAAAAAAAAAAAAAAAAAAAAAAAAAAAAAAAAAAAAAAAAAAAAAAAAAAAAAAAAAAAAAAAAAAAAAAAAAAAAAAAAAAAAAAAAAAAAAAAAAAAAAAAAAAADXEWYdYdZxPzyz7WYOomk/kd+YkifDYj8kFUBSASQ1PwAAAAAAAAAAJBVAUgEkRT/psclRzk9IPwAAAAAAAAAAAAAAAAAAAAAAAAAAAAAAAAAAAAAAAAAAAAAAAAAAAAAAAAAAAAAAAAAAAAAAAAAAAAAAAAAAAAAr5kz8Z145PzO3WabOmE0/JBVAUgEkJT8AAAAAAAAAAB1EM6ia6RA/AAAAAAAAAAAAAAAAAAAAAAAAAAAAAAAAHUQzqJrpED8AAAAAAAAAAAAAAAAAAAAAAAAAAAAAAAAAAAAAAAAAAAAAAAAAAAAAAAAAAAAAAAAdRDOomukgP194tlI0+GE/JBVAUgEkNT+2H2D7AbZfPzK3WabOmD0/AAAAAAAAAADi4LynZxVEP+LgvKdnFUQ/K+ZM/GdeGT8AAAAAAAAAAAAAAAAAAAAAK+ZM/GdeWT8+3nR953BhPwAAAAAAAAAAp31GpzRBNz9ChPoQddxtP4u17Iv+8Ys/WnpscpTzcz/6UgiW68afPyvmTPxnXik/AAAAAAAAAAAAAAAAAAAAAAAAAAAAAAAAtnckSBRPcT/Kt3ZJOGShPyvmTPxnXmk/bRrQpgFtWj/GRMWyupJxP8hD6qIKlaA/JBVAUgEkRT8r5kz8Z14ZP1pkO99Pjbc/FhtisSEWqz8n6AIcyFl7P6ceEISb2qE/FBw9wdETjD9teQbKmtPPP8/SY5OjnL8/GFwaWz9Lzz/VW0a9ZdTTPw==",
             "dtype": "f8"
            },
            "coloraxis": "coloraxis",
            "size": {
             "bdata": "AAAAAAAAAAAAAAAAAAAAAAAAAAAAAAAAAAAAAAAAAAAAAAAAAAAAAAAAAAAAAAAAAAAAAAAAAAAAAAAAAAAAAAAAAAAAAAAAAAAAAAAAAAAAAAAAAAAAAAAAAAAAAAAAAAAAAAAAAAAAAAAAAAAAAAAAAAAAAAAAAAAAAAAAAAAAAAAAAAAAAAAAAAAAAAAAAAAAAAAAAAAAAAAAAAAAAAAAAAAAAAAAAAAAAAAAAAAAAAAAAAAAAAAAAAAAAAAAAAAAAAAAAAAAAAAAAAAAAAAAAAAAAAAAAAAAAAAAAAAAAAAAAAAAAAAAAAAAAAAAAAAAAAAAAAAAAAAAAAAAAAAAAAAAAAAAAAAAAAAAAAAAAAAAAAAAAAAAAAAAAAAAAAAAAAAAAAAAAAAAAAAAAAAAAAAAAAAAAAAAAAAAAAAAAAAAAAAAAAAAAAAAAAAAAAAAAAAAAAAAAAAAAAAAAAAAAAAAAAAAAAAAAAAAAAAAAAAAAAAAAAAAAAAAAAAAAAAAAAAAAAAAAAAAAAAAAAAAAAAAAAAAAAAAAAAAAADXEWYdYdZxPzyz7WYOomk/kd+YkifDYj8kFUBSASQ1PwAAAAAAAAAAJBVAUgEkRT/psclRzk9IPwAAAAAAAAAAAAAAAAAAAAAAAAAAAAAAAAAAAAAAAAAAAAAAAAAAAAAAAAAAAAAAAAAAAAAAAAAAAAAAAAAAAAAr5kz8Z145PzO3WabOmE0/JBVAUgEkJT8AAAAAAAAAAB1EM6ia6RA/AAAAAAAAAAAAAAAAAAAAAAAAAAAAAAAAHUQzqJrpED8AAAAAAAAAAAAAAAAAAAAAAAAAAAAAAAAAAAAAAAAAAAAAAAAAAAAAAAAAAAAAAAAdRDOomukgP194tlI0+GE/JBVAUgEkNT+2H2D7AbZfPzK3WabOmD0/AAAAAAAAAADi4LynZxVEP+LgvKdnFUQ/K+ZM/GdeGT8AAAAAAAAAAAAAAAAAAAAAK+ZM/GdeWT8+3nR953BhPwAAAAAAAAAAp31GpzRBNz9ChPoQddxtP4u17Iv+8Ys/WnpscpTzcz/6UgiW68afPyvmTPxnXik/AAAAAAAAAAAAAAAAAAAAAAAAAAAAAAAAtnckSBRPcT/Kt3ZJOGShPyvmTPxnXmk/bRrQpgFtWj/GRMWyupJxP8hD6qIKlaA/JBVAUgEkRT8r5kz8Z14ZP1pkO99Pjbc/FhtisSEWqz8n6AIcyFl7P6ceEISb2qE/FBw9wdETjD9teQbKmtPPP8/SY5OjnL8/GFwaWz9Lzz/VW0a9ZdTTPw==",
             "dtype": "f8"
            },
            "sizemode": "area",
            "sizeref": 0.006043951612903227
           },
           "mode": "markers",
           "name": "",
           "showlegend": false,
           "subplot": "map",
           "type": "scattermap"
          }
         ],
         "name": "2020-10"
        },
        {
         "data": [
          {
           "hovertemplate": "month=2020-11<br>HTEURNEIGE_Q=%{marker.color}<br>lat=%{lat}<br>lon=%{lon}<extra></extra>",
           "lat": {
            "bdata": "GNilFLSrRkCtqV0k6bRGQOjesz0evkZAm+q6X1PHRkD/GkaOZ6tGQABCMISctEZAAFKvg9G9RkDuttWLBsdGQG43+PgXq0ZAYvcM1Ey0RkAzxay4gb1GQKMF6qW2xkZATM7WmuvPRkC6Xg2gkKFGQB/o1lTFqkZAO5cOFPqzRkCvGMfcLr1GQMLJEq5jxkZAk7gDh5jPRkA/pKtmzdhGQAj9G0wC4kZAFh4O/dGORkBVnm99BphGQJR3Dgo7oUZA7u39oW+qRkDb9VBEpLNGQEI0GvDYvEZAt/5rpA3GRkCOW1hgQs9GQA0C8SJ32EZAllpH66vhRkACIx2VeY5GQJY+s/etl0ZAyc57ZuKgRkDfD4rgFqpGQGPu8GRLs0ZAUAfD8n+8RkApqBKJtMVGQEHP8SbpzkZAwStyyx3YRkDqHaV1UuFGQC+3mySH6kZA3hrDIR6ORkBDg4dlUpdGQJMcc7WGoEZA6RqZELupRkCoYgx277JGQI+I3+QjvEZA39EkXFjFRkCQNO7ajM5GQHNXTWDB10ZAWZJT6/XgRkCa1fWe72hGQIoROokjckZA8ApKg1d7RkBzLjqMi4RGQEmYHqO/jUZASRQLx/OWRkA2HhP3J6BGQMzhSTJcqUZA+TrCd5CyRkD6tY7GxLtGQIiPwR35xEZABbVsfC3ORkDuQieYjmhGQFMivWHCcUZALd8SO/Z6RkCi3TwjKoRGQGoxTxlejUZA1Z1dHJKWRkD9lXsrxp9GQAM9vEX6qEZAEmYyai6yRkCslPCXYrtGQLb8CM6WxEZAEOke8/ZeRkD75WKKKmhGQBPWRTJecUZAimXc6ZF6RkDX7zqwxYNGQOV/dYT5jEZAMtCfZS2WRkAHS81SYZ9GQIUKEUuVqEZA7dh9TcmxRkAD2jABkF5GQPr+yXXDZ0ZABYT1+vZwRkBkDMiPKnpGQJ7qVTNeg0ZAkyCz5JGMRkCzX/OixZVGQBcJKm35nkZAui1qQi2oRkCgjsYhYbFGQHTOflpZZ0ZAZ4Tuu4xwRkDWQ/gswHlGQAFWsKzzgkZAf7MqOieMRkBuBHvUWpVGQICgtHqOnkZAQo/qK8KnRkAuiC/n9bBGQNbylaspukZAbzBUdR9wRkCIfZDBUnlGQDu8bRyGgkZAndv/hLmLRkArelr67JRGQPXlkHsgnkZAyhy2B1SnRkBjzNydh7BGQP7hSievb0ZAkiy1TeJ4RkC8qbKCFYJGQME+V8VIi0ZAtGfzRRawRkCK8/fRO29GQE7Fi9FueEZA87+BdcVuRkA2vTpN+HdGQA==",
            "dtype": "f8"
           },
           "legendgroup": "",
           "lon": {
            "bdata": "fdMnuEhZE0DmL32SnFwTQNK/OqTyXxNAogWY70pjE0AzeK7LucETQMUBOFowxRNA6VQ7N6nIE0DN9QZlJMwTQPY8B5MoKhRAbH9508EtFEB2EnR5XTEUQPp2XIf7NBRAimCb/5s4FEAaU1yB244UQDZ+OveUkhRA+yYz51CWFED0eb9TD5oUQGbvWz/QnRRA01CIrJOhFEB/vsedWaUUQAi1oBUiqRRAQ1VZZnLvFECNhd5XSfMUQPaUWdUi9xRAgsBT4f76FED8o1l+3f4UQI0/+66+AhVAYP3LdaIGFUBWt2LViAoVQMC8WdBxDhVAKthOaV0SFUB4EihJclcVQH/upKBrWxVAiz3YmmdfFUCxzmE6ZmMVQKzt5IFnZxVAoWgIdGtrFUDtlXYTcm8VQBda3WJ7cxVAtS3uZId3FUBqI14clnsVQPDt5YunfxVA4jrdi2+/FUBga7VGi8MVQO0rAbupxxVA8td268rLFUBNZdDa7s8VQENqy4sV1BVAiSMpAT/YFUBTeq49a9wVQIkKJESa4BVA2ihWF8zkFUD/UhGUjRYWQNnzlIrAGhZA4N02RvYeFkACT7XJLiMWQCwl0hdqJxZALuRSM6grFkDNuwAf6S8WQN2NqN0sNBZAXfQacnM4FkCpRyzfvDwWQLSktCcJQRZATvOPTlhFFkDGxoG8/H0WQEAk7LZRghZAt8XRjKmGFkBw9AZBBIsWQJS2Y9ZhjxZAWtXDT8KTFkBG4wawJZgWQGlCEPqLnBZAwSrHMPWgFkCEsBZXYaUWQJvK7W/QqRZAUJ61//TgFkDQGUgMaeUWQHCiyAfg6RZAIrMd9VnuFkBWmjHX1vIWQEiA8rBW9xZAXm1Shdn7FkCVUEdXXwAXQOwFyynoBBdA+Fzb/3MJF0D6Vp54PEgXQFL1IG3STBdANS/RZmtRF0DFYatoB1YXQEzar3WmWhdAvdzikEhfF0BFqky97WMXQN6H+f2VaBdA8sT5VUFtF0AkwmHI73EXQLbPzMg4tBdA116wvfO4F0AXZw/Rsb0XQBYuAAZzwhdA+wydXzfHF0AZdwTh/ssXQMYAWY3J0BdAKGbBZ5fVF0AlkmhzaNoXQEGlfbM83xdAwbUU9nggGEAnT+IXWSUYQKUMpXE8KhhAzlWNBiMvGEBWyc/ZDDQYQBxEpe75OBhAGOhKSOo9GECDIwLq3UIYQCTFsPn6hxhAibnAJv2MGEAgByWiApIYQP8cJG8LlxhAcwlFFVCrGECRRzuyee8YQAN2S+ed9BhAfj1vCfVWGUBEoSdDO1wZQA==",
            "dtype": "f8"
           },
           "marker": {
            "color": {
             "bdata": "AAAAAAAAAAAAAAAAAAAAAAAAAAAAAAAAAAAAAAAAAAAAAAAAAAAAAAAAAAAAAAAAAAAAAAAAAAAAAAAAAAAAAAAAAAAAAAAAAAAAAAAAAAAAAAAAAAAAAAAAAAAAAAAAAAAAAAAAAAAAAAAAAAAAAAAAAAAAAAAAAAAAAAAAAAAAAAAAAAAAAAAAAAAAAAAAAAAAAAAAAAAAAAAAAAAAAAAAAAAAAAAAAAAAAAAAAAAAAAAAAAAAAAAAAAAAAAAAAAAAAAAAAAAAAAAAAAAAAAAAAAAAAAAAAAAAAAAAAAAAAAAAAAAAAAAAAAAAAAAAAAAAAAAAAAAAAAAAAAAAAAAAAAAAAAAAAAAAAAAAAAAAAAAAAAAAAAAAAAAAAAAAAAAAAAAAAAAAAAAAAAAAAAAAAAAAAAAAAAAAAAAAAAAAAAAAAAAAAAAAAAAAAAAAHoK9nOx5AT8egr2c7HkBPwAAAAAAAAAAAAAAAAAAAAAAAAAAAAAAAAAAAAAAAAAAAAAAAAAAAAAAAAAAAAAAAAAAAAAAAAAAAAAAAAAAAAAAAAAAAAAAAAAAAAAAAAAAAAAAAAAAAAAAAAAAAAAAAAAAAAAAAAAAAAAAAAAAAAAegr2c7HkBPwAAAAAAAAAAAAAAAAAAAAAAAAAAAAAAAAAAAAAAAAAAAAAAAAAAAAAAAAAAAAAAAAAAAAAAAAAAAAAAAAAAAAAAAAAAAAAAAAAAAAAAAAAAAAAAAAAAAAAAAAAAAAAAAB6CvZzseSE/AAAAAAAAAAAAAAAAAAAAAAAAAAAAAAAAAAAAAAAAAAAAAAAAAAAAAAAAAAAAAAAAAAAAAAAAAAAAAAAAAAAAAAAAAAAAAAAAAAAAAAAAAAAegr2c7HkBPx6CvZzseQE/HoK9nOx5AT8AAAAAAAAAAAAAAAAAAAAAAAAAAAAAAAAAAAAAAAAAAAAAAAAAAAAAAAAAAAAAAAAAAAAAAAAAAAAAAAAAAAAAHoK9nOx5AT8egr2c7HkBPwAAAAAAAAAAAAAAAAAAAAAtQxzr4jY6P8w18mb6Enc/HoK9nOx5IT+VHmDApXaJPwAAAAAAAAAAAAAAAAAAAAAegr2c7HkBPx6CvZzseQE/YjJVMCqpMz9ULfzzRyuRP+mShFelB0g/AAAAAAAAAAAegr2c7HkRP0LSlIqzD48/AAAAAAAAAAAAAAAAAAAAALU6JngwT7Q/zBP1b4Qyqj/3Lrj5WT9wPz4vAlCywpo/taZ5xyk6gj+X/5B++zrQPxAzDgiH8b0/4Jnj7/EczD+AI5TR27LSPw==",
             "dtype": "f8"
            },
            "coloraxis": "coloraxis",
            "size": {
             "bdata": "AAAAAAAAAAAAAAAAAAAAAAAAAAAAAAAAAAAAAAAAAAAAAAAAAAAAAAAAAAAAAAAAAAAAAAAAAAAAAAAAAAAAAAAAAAAAAAAAAAAAAAAAAAAAAAAAAAAAAAAAAAAAAAAAAAAAAAAAAAAAAAAAAAAAAAAAAAAAAAAAAAAAAAAAAAAAAAAAAAAAAAAAAAAAAAAAAAAAAAAAAAAAAAAAAAAAAAAAAAAAAAAAAAAAAAAAAAAAAAAAAAAAAAAAAAAAAAAAAAAAAAAAAAAAAAAAAAAAAAAAAAAAAAAAAAAAAAAAAAAAAAAAAAAAAAAAAAAAAAAAAAAAAAAAAAAAAAAAAAAAAAAAAAAAAAAAAAAAAAAAAAAAAAAAAAAAAAAAAAAAAAAAAAAAAAAAAAAAAAAAAAAAAAAAAAAAAAAAAAAAAAAAAAAAAAAAAAAAAAAAAAAAAAAAHoK9nOx5AT8egr2c7HkBPwAAAAAAAAAAAAAAAAAAAAAAAAAAAAAAAAAAAAAAAAAAAAAAAAAAAAAAAAAAAAAAAAAAAAAAAAAAAAAAAAAAAAAAAAAAAAAAAAAAAAAAAAAAAAAAAAAAAAAAAAAAAAAAAAAAAAAAAAAAAAAAAAAAAAAegr2c7HkBPwAAAAAAAAAAAAAAAAAAAAAAAAAAAAAAAAAAAAAAAAAAAAAAAAAAAAAAAAAAAAAAAAAAAAAAAAAAAAAAAAAAAAAAAAAAAAAAAAAAAAAAAAAAAAAAAAAAAAAAAAAAAAAAAB6CvZzseSE/AAAAAAAAAAAAAAAAAAAAAAAAAAAAAAAAAAAAAAAAAAAAAAAAAAAAAAAAAAAAAAAAAAAAAAAAAAAAAAAAAAAAAAAAAAAAAAAAAAAAAAAAAAAegr2c7HkBPx6CvZzseQE/HoK9nOx5AT8AAAAAAAAAAAAAAAAAAAAAAAAAAAAAAAAAAAAAAAAAAAAAAAAAAAAAAAAAAAAAAAAAAAAAAAAAAAAAAAAAAAAAHoK9nOx5AT8egr2c7HkBPwAAAAAAAAAAAAAAAAAAAAAtQxzr4jY6P8w18mb6Enc/HoK9nOx5IT+VHmDApXaJPwAAAAAAAAAAAAAAAAAAAAAegr2c7HkBPx6CvZzseQE/YjJVMCqpMz9ULfzzRyuRP+mShFelB0g/AAAAAAAAAAAegr2c7HkRP0LSlIqzD48/AAAAAAAAAAAAAAAAAAAAALU6JngwT7Q/zBP1b4Qyqj/3Lrj5WT9wPz4vAlCywpo/taZ5xyk6gj+X/5B++zrQPxAzDgiH8b0/4Jnj7/EczD+AI5TR27LSPw==",
             "dtype": "f8"
            },
            "sizemode": "area",
            "sizeref": 0.006043951612903227
           },
           "mode": "markers",
           "name": "",
           "showlegend": false,
           "subplot": "map",
           "type": "scattermap"
          }
         ],
         "name": "2020-11"
        },
        {
         "data": [
          {
           "hovertemplate": "month=2020-12<br>HTEURNEIGE_Q=%{marker.color}<br>lat=%{lat}<br>lon=%{lon}<extra></extra>",
           "lat": {
            "bdata": "GNilFLSrRkCtqV0k6bRGQOjesz0evkZAm+q6X1PHRkD/GkaOZ6tGQABCMISctEZAAFKvg9G9RkDuttWLBsdGQG43+PgXq0ZAYvcM1Ey0RkAzxay4gb1GQKMF6qW2xkZATM7WmuvPRkC6Xg2gkKFGQB/o1lTFqkZAO5cOFPqzRkCvGMfcLr1GQMLJEq5jxkZAk7gDh5jPRkA/pKtmzdhGQAj9G0wC4kZAFh4O/dGORkBVnm99BphGQJR3Dgo7oUZA7u39oW+qRkDb9VBEpLNGQEI0GvDYvEZAt/5rpA3GRkCOW1hgQs9GQA0C8SJ32EZAllpH66vhRkACIx2VeY5GQJY+s/etl0ZAyc57ZuKgRkDfD4rgFqpGQGPu8GRLs0ZAUAfD8n+8RkApqBKJtMVGQEHP8SbpzkZAwStyyx3YRkDqHaV1UuFGQC+3mySH6kZA3hrDIR6ORkBDg4dlUpdGQJMcc7WGoEZA6RqZELupRkCoYgx277JGQI+I3+QjvEZA39EkXFjFRkCQNO7ajM5GQHNXTWDB10ZAWZJT6/XgRkCa1fWe72hGQIoROokjckZA8ApKg1d7RkBzLjqMi4RGQEmYHqO/jUZASRQLx/OWRkA2HhP3J6BGQMzhSTJcqUZA+TrCd5CyRkD6tY7GxLtGQIiPwR35xEZABbVsfC3ORkDuQieYjmhGQFMivWHCcUZALd8SO/Z6RkCi3TwjKoRGQGoxTxlejUZA1Z1dHJKWRkD9lXsrxp9GQAM9vEX6qEZAEmYyai6yRkCslPCXYrtGQLb8CM6WxEZAEOke8/ZeRkD75WKKKmhGQBPWRTJecUZAimXc6ZF6RkDX7zqwxYNGQOV/dYT5jEZAMtCfZS2WRkAHS81SYZ9GQIUKEUuVqEZA7dh9TcmxRkAD2jABkF5GQPr+yXXDZ0ZABYT1+vZwRkBkDMiPKnpGQJ7qVTNeg0ZAkyCz5JGMRkCzX/OixZVGQBcJKm35nkZAui1qQi2oRkCgjsYhYbFGQHTOflpZZ0ZAZ4Tuu4xwRkDWQ/gswHlGQAFWsKzzgkZAf7MqOieMRkBuBHvUWpVGQICgtHqOnkZAQo/qK8KnRkAuiC/n9bBGQNbylaspukZAbzBUdR9wRkCIfZDBUnlGQDu8bRyGgkZAndv/hLmLRkArelr67JRGQPXlkHsgnkZAyhy2B1SnRkBjzNydh7BGQP7hSievb0ZAkiy1TeJ4RkC8qbKCFYJGQME+V8VIi0ZAtGfzRRawRkCK8/fRO29GQE7Fi9FueEZA87+BdcVuRkA2vTpN+HdGQA==",
            "dtype": "f8"
           },
           "legendgroup": "",
           "lon": {
            "bdata": "fdMnuEhZE0DmL32SnFwTQNK/OqTyXxNAogWY70pjE0AzeK7LucETQMUBOFowxRNA6VQ7N6nIE0DN9QZlJMwTQPY8B5MoKhRAbH9508EtFEB2EnR5XTEUQPp2XIf7NBRAimCb/5s4FEAaU1yB244UQDZ+OveUkhRA+yYz51CWFED0eb9TD5oUQGbvWz/QnRRA01CIrJOhFEB/vsedWaUUQAi1oBUiqRRAQ1VZZnLvFECNhd5XSfMUQPaUWdUi9xRAgsBT4f76FED8o1l+3f4UQI0/+66+AhVAYP3LdaIGFUBWt2LViAoVQMC8WdBxDhVAKthOaV0SFUB4EihJclcVQH/upKBrWxVAiz3YmmdfFUCxzmE6ZmMVQKzt5IFnZxVAoWgIdGtrFUDtlXYTcm8VQBda3WJ7cxVAtS3uZId3FUBqI14clnsVQPDt5YunfxVA4jrdi2+/FUBga7VGi8MVQO0rAbupxxVA8td268rLFUBNZdDa7s8VQENqy4sV1BVAiSMpAT/YFUBTeq49a9wVQIkKJESa4BVA2ihWF8zkFUD/UhGUjRYWQNnzlIrAGhZA4N02RvYeFkACT7XJLiMWQCwl0hdqJxZALuRSM6grFkDNuwAf6S8WQN2NqN0sNBZAXfQacnM4FkCpRyzfvDwWQLSktCcJQRZATvOPTlhFFkDGxoG8/H0WQEAk7LZRghZAt8XRjKmGFkBw9AZBBIsWQJS2Y9ZhjxZAWtXDT8KTFkBG4wawJZgWQGlCEPqLnBZAwSrHMPWgFkCEsBZXYaUWQJvK7W/QqRZAUJ61//TgFkDQGUgMaeUWQHCiyAfg6RZAIrMd9VnuFkBWmjHX1vIWQEiA8rBW9xZAXm1Shdn7FkCVUEdXXwAXQOwFyynoBBdA+Fzb/3MJF0D6Vp54PEgXQFL1IG3STBdANS/RZmtRF0DFYatoB1YXQEzar3WmWhdAvdzikEhfF0BFqky97WMXQN6H+f2VaBdA8sT5VUFtF0AkwmHI73EXQLbPzMg4tBdA116wvfO4F0AXZw/Rsb0XQBYuAAZzwhdA+wydXzfHF0AZdwTh/ssXQMYAWY3J0BdAKGbBZ5fVF0AlkmhzaNoXQEGlfbM83xdAwbUU9nggGEAnT+IXWSUYQKUMpXE8KhhAzlWNBiMvGEBWyc/ZDDQYQBxEpe75OBhAGOhKSOo9GECDIwLq3UIYQCTFsPn6hxhAibnAJv2MGEAgByWiApIYQP8cJG8LlxhAcwlFFVCrGECRRzuyee8YQAN2S+ed9BhAfj1vCfVWGUBEoSdDO1wZQA==",
            "dtype": "f8"
           },
           "marker": {
            "color": {
             "bdata": "HUQzqJrpED8dRDOomukQPyvmTPxnXhk/K+ZM/GdeGT8dRDOomukQPx1EM6ia6TA/HUQzqJrpID8dRDOomukQPyvmTPxnXhk/oaw5/c0GQz8dRDOomukwPyQVQFIBJCU/HUQzqJrpID+AEvgngX9yPyvmTPxnXik//Knx0k1iUD/zrV0SDllkP+mxyVHOT1g/K+ZM/GdeGT8dRDOomukQPx1EM6ia6RA/oaw5/c0GMz/i4LynZxV0PyTp3St4V4w/M7dZps6YPT8dRDOomulQP9nkKOcnDIg/ZknD/JoyVj8r5kz8Z14ZPx1EM6ia6SA/K+ZM/GdeGT/i4LynZxVUP7YfYPsBtk8/fOhLIViuiz9mScP8mjJ2P0KE+hB13H0/uHZJOGRRkD+2H2D7AbZPPx1EM6ia6TA/K+ZM/GdeGT8dRDOomukgPyvmTPxnXhk/kngViVeRuD/25sjV9MKzP8gXiHyByFc/vUgx8nqJdT8iFhtisSGGP4e3oqte7Y0/b0VXvdo7Yj+hrDn9zQYzPx1EM6ia6RA/HUQzqJrpUD8VTxG+4a3QP1WohLh9u84/h+p2qG6Hyj8nc5tl6ozJP6o62N22EME/2MATp9UKxD91dnWaitq8Px1EM6ia6TA/fRPTNzF9gz/I6yVW+PuOP+LgvKdnFUQ/K+ZM/GdeGT9RqjrY3baQP4nM+C7zVZk/jbQRfE70aj+bXni2UjS4P9QhAOrObLs/hR4mtS4fuD9WfCKS9O6FP0BSASQVQLI/A0+cVivQiz/X5QP31wmJP2ZJw/yaMlY/HexuW4hQrz9mScP8mjJmPyIWG2KxIZY/qnxrl4RDlj+Jtsebru+cP71IMfJ6iXU//Knx0k1iUD/P0mOTo5y/P0JKtD3edNU/pR/rk0vYwj+Hi0CF1SDFP2ZJw/yaMrY/4uC8p2cVdD/83MXPXfy8Pwf9btDvBr0/yEPqogqVsD9DJcTt23WoPw5KVQe723Y/5CF1UYVK0D8SfE70GnjSP73TyTudvKM/wvUoXI/CtT/OguwsyM7CP6abxCCwctA/YdYRZh1hxj9ZiSsvUozUP+BsMAE6RrM/v0dW4sqLlD8BZqj5HzSpP+lSky416bI/2hf94zemxD9cMIzSj/XRP/kYwsJUX78/UVJ2i8sdvz8MwJfNSKbJPzYcJ5A+z9U/NRW1ubcBwj8BfNmMZJq1P2tOf7PBBNg/yqFFtvP91D9eKD/sWCrFPwtprpDmCtE/sxJXXqQY0T+kWgx3kj3kPwAWMZNEZtw/ZViCuVjL3j+KHHCVziPiPw==",
             "dtype": "f8"
            },
            "coloraxis": "coloraxis",
            "size": {
             "bdata": "HUQzqJrpED8dRDOomukQPyvmTPxnXhk/K+ZM/GdeGT8dRDOomukQPx1EM6ia6TA/HUQzqJrpID8dRDOomukQPyvmTPxnXhk/oaw5/c0GQz8dRDOomukwPyQVQFIBJCU/HUQzqJrpID+AEvgngX9yPyvmTPxnXik//Knx0k1iUD/zrV0SDllkP+mxyVHOT1g/K+ZM/GdeGT8dRDOomukQPx1EM6ia6RA/oaw5/c0GMz/i4LynZxV0PyTp3St4V4w/M7dZps6YPT8dRDOomulQP9nkKOcnDIg/ZknD/JoyVj8r5kz8Z14ZPx1EM6ia6SA/K+ZM/GdeGT/i4LynZxVUP7YfYPsBtk8/fOhLIViuiz9mScP8mjJ2P0KE+hB13H0/uHZJOGRRkD+2H2D7AbZPPx1EM6ia6TA/K+ZM/GdeGT8dRDOomukgPyvmTPxnXhk/kngViVeRuD/25sjV9MKzP8gXiHyByFc/vUgx8nqJdT8iFhtisSGGP4e3oqte7Y0/b0VXvdo7Yj+hrDn9zQYzPx1EM6ia6RA/HUQzqJrpUD8VTxG+4a3QP1WohLh9u84/h+p2qG6Hyj8nc5tl6ozJP6o62N22EME/2MATp9UKxD91dnWaitq8Px1EM6ia6TA/fRPTNzF9gz/I6yVW+PuOP+LgvKdnFUQ/K+ZM/GdeGT9RqjrY3baQP4nM+C7zVZk/jbQRfE70aj+bXni2UjS4P9QhAOrObLs/hR4mtS4fuD9WfCKS9O6FP0BSASQVQLI/A0+cVivQiz/X5QP31wmJP2ZJw/yaMlY/HexuW4hQrz9mScP8mjJmPyIWG2KxIZY/qnxrl4RDlj+Jtsebru+cP71IMfJ6iXU//Knx0k1iUD/P0mOTo5y/P0JKtD3edNU/pR/rk0vYwj+Hi0CF1SDFP2ZJw/yaMrY/4uC8p2cVdD/83MXPXfy8Pwf9btDvBr0/yEPqogqVsD9DJcTt23WoPw5KVQe723Y/5CF1UYVK0D8SfE70GnjSP73TyTudvKM/wvUoXI/CtT/OguwsyM7CP6abxCCwctA/YdYRZh1hxj9ZiSsvUozUP+BsMAE6RrM/v0dW4sqLlD8BZqj5HzSpP+lSky416bI/2hf94zemxD9cMIzSj/XRP/kYwsJUX78/UVJ2i8sdvz8MwJfNSKbJPzYcJ5A+z9U/NRW1ubcBwj8BfNmMZJq1P2tOf7PBBNg/yqFFtvP91D9eKD/sWCrFPwtprpDmCtE/sxJXXqQY0T+kWgx3kj3kPwAWMZNEZtw/ZViCuVjL3j+KHHCVziPiPw==",
             "dtype": "f8"
            },
            "sizemode": "area",
            "sizeref": 0.006043951612903227
           },
           "mode": "markers",
           "name": "",
           "showlegend": false,
           "subplot": "map",
           "type": "scattermap"
          }
         ],
         "name": "2020-12"
        },
        {
         "data": [
          {
           "hovertemplate": "month=2021-01<br>HTEURNEIGE_Q=%{marker.color}<br>lat=%{lat}<br>lon=%{lon}<extra></extra>",
           "lat": {
            "bdata": "GNilFLSrRkCtqV0k6bRGQOjesz0evkZAm+q6X1PHRkD/GkaOZ6tGQABCMISctEZAAFKvg9G9RkDuttWLBsdGQG43+PgXq0ZAYvcM1Ey0RkAzxay4gb1GQKMF6qW2xkZATM7WmuvPRkC6Xg2gkKFGQB/o1lTFqkZAO5cOFPqzRkCvGMfcLr1GQMLJEq5jxkZAk7gDh5jPRkA/pKtmzdhGQAj9G0wC4kZAFh4O/dGORkBVnm99BphGQJR3Dgo7oUZA7u39oW+qRkDb9VBEpLNGQEI0GvDYvEZAt/5rpA3GRkCOW1hgQs9GQA0C8SJ32EZAllpH66vhRkACIx2VeY5GQJY+s/etl0ZAyc57ZuKgRkDfD4rgFqpGQGPu8GRLs0ZAUAfD8n+8RkApqBKJtMVGQEHP8SbpzkZAwStyyx3YRkDqHaV1UuFGQC+3mySH6kZA3hrDIR6ORkBDg4dlUpdGQJMcc7WGoEZA6RqZELupRkCoYgx277JGQI+I3+QjvEZA39EkXFjFRkCQNO7ajM5GQHNXTWDB10ZAWZJT6/XgRkCa1fWe72hGQIoROokjckZA8ApKg1d7RkBzLjqMi4RGQEmYHqO/jUZASRQLx/OWRkA2HhP3J6BGQMzhSTJcqUZA+TrCd5CyRkD6tY7GxLtGQIiPwR35xEZABbVsfC3ORkDuQieYjmhGQFMivWHCcUZALd8SO/Z6RkCi3TwjKoRGQGoxTxlejUZA1Z1dHJKWRkD9lXsrxp9GQAM9vEX6qEZAEmYyai6yRkCslPCXYrtGQLb8CM6WxEZAEOke8/ZeRkD75WKKKmhGQBPWRTJecUZAimXc6ZF6RkDX7zqwxYNGQOV/dYT5jEZAMtCfZS2WRkAHS81SYZ9GQIUKEUuVqEZA7dh9TcmxRkAD2jABkF5GQPr+yXXDZ0ZABYT1+vZwRkBkDMiPKnpGQJ7qVTNeg0ZAkyCz5JGMRkCzX/OixZVGQBcJKm35nkZAui1qQi2oRkCgjsYhYbFGQHTOflpZZ0ZAZ4Tuu4xwRkDWQ/gswHlGQAFWsKzzgkZAf7MqOieMRkBuBHvUWpVGQICgtHqOnkZAQo/qK8KnRkAuiC/n9bBGQNbylaspukZAbzBUdR9wRkCIfZDBUnlGQDu8bRyGgkZAndv/hLmLRkArelr67JRGQPXlkHsgnkZAyhy2B1SnRkBjzNydh7BGQP7hSievb0ZAkiy1TeJ4RkC8qbKCFYJGQME+V8VIi0ZAtGfzRRawRkCK8/fRO29GQE7Fi9FueEZA87+BdcVuRkA2vTpN+HdGQA==",
            "dtype": "f8"
           },
           "legendgroup": "",
           "lon": {
            "bdata": "fdMnuEhZE0DmL32SnFwTQNK/OqTyXxNAogWY70pjE0AzeK7LucETQMUBOFowxRNA6VQ7N6nIE0DN9QZlJMwTQPY8B5MoKhRAbH9508EtFEB2EnR5XTEUQPp2XIf7NBRAimCb/5s4FEAaU1yB244UQDZ+OveUkhRA+yYz51CWFED0eb9TD5oUQGbvWz/QnRRA01CIrJOhFEB/vsedWaUUQAi1oBUiqRRAQ1VZZnLvFECNhd5XSfMUQPaUWdUi9xRAgsBT4f76FED8o1l+3f4UQI0/+66+AhVAYP3LdaIGFUBWt2LViAoVQMC8WdBxDhVAKthOaV0SFUB4EihJclcVQH/upKBrWxVAiz3YmmdfFUCxzmE6ZmMVQKzt5IFnZxVAoWgIdGtrFUDtlXYTcm8VQBda3WJ7cxVAtS3uZId3FUBqI14clnsVQPDt5YunfxVA4jrdi2+/FUBga7VGi8MVQO0rAbupxxVA8td268rLFUBNZdDa7s8VQENqy4sV1BVAiSMpAT/YFUBTeq49a9wVQIkKJESa4BVA2ihWF8zkFUD/UhGUjRYWQNnzlIrAGhZA4N02RvYeFkACT7XJLiMWQCwl0hdqJxZALuRSM6grFkDNuwAf6S8WQN2NqN0sNBZAXfQacnM4FkCpRyzfvDwWQLSktCcJQRZATvOPTlhFFkDGxoG8/H0WQEAk7LZRghZAt8XRjKmGFkBw9AZBBIsWQJS2Y9ZhjxZAWtXDT8KTFkBG4wawJZgWQGlCEPqLnBZAwSrHMPWgFkCEsBZXYaUWQJvK7W/QqRZAUJ61//TgFkDQGUgMaeUWQHCiyAfg6RZAIrMd9VnuFkBWmjHX1vIWQEiA8rBW9xZAXm1Shdn7FkCVUEdXXwAXQOwFyynoBBdA+Fzb/3MJF0D6Vp54PEgXQFL1IG3STBdANS/RZmtRF0DFYatoB1YXQEzar3WmWhdAvdzikEhfF0BFqky97WMXQN6H+f2VaBdA8sT5VUFtF0AkwmHI73EXQLbPzMg4tBdA116wvfO4F0AXZw/Rsb0XQBYuAAZzwhdA+wydXzfHF0AZdwTh/ssXQMYAWY3J0BdAKGbBZ5fVF0AlkmhzaNoXQEGlfbM83xdAwbUU9nggGEAnT+IXWSUYQKUMpXE8KhhAzlWNBiMvGEBWyc/ZDDQYQBxEpe75OBhAGOhKSOo9GECDIwLq3UIYQCTFsPn6hxhAibnAJv2MGEAgByWiApIYQP8cJG8LlxhAcwlFFVCrGECRRzuyee8YQAN2S+ed9BhAfj1vCfVWGUBEoSdDO1wZQA==",
            "dtype": "f8"
           },
           "marker": {
            "color": {
             "bdata": "K+ZM/GdeOT9tGtCmAW1KP+LgvKdnFVQ/8YLW+zSKTD8r5kz8Z15JP194tlI0+GE/6bHJUc5PWD8r5kz8Z15JPwN7/ny0nFQ/yBeIfIHIZz8+3nR953BhP+zcUGinHmA/CkwLJxvXWD814uC8p2d1Px1EM6ia6WA/rk5TUZt7az9OqxXojbRxPy0R1BJBLXE/Pt50fedwUT8kFUBSASRFPzO3WabOmD0/JBVAUgEkNT9VfCKS9O51P432pDUcJ5A/p31GpzRBZz8zt1mmzphtP5yu7xwuAoU/ld3icsfHcD/xgtb7NIpMP20a0KYBbVo/wUZ70hqOUz+nfUanNEFHP6d9Rqc0QUc/Dx7z4DEPjj8PSlUHu9t2P78b9LtBv3s/cuy3YBiljz+/G/S7Qb9rPy0R1BJBLWE/Pt50fedwUT/psclRzk9YP8FGe9IajlM/nnpAEG5qxz/oSyFYrhu/P+mxyVHOT0g/l7ClPI79dj+T3r2Cd8WBP1hP5Vu7JIw/bkVXvdo7cj+AEvgngX9iP6d9Rqc0QUc/HUQzqJrpcD+0A5ih5n/kP2Mt+6J//OI/Xp2mojb33j8k6d0reFfgPyvmTPxnXtE/Dna3LUSo1z9HmHWEWUfIPx1EM6ia6TA/yEPqogqVgD+V3eJyx8eQP7hK5xHbhGc/th9g+wG2Tz99nmuBU7CxP7vUpEtNurQ/YTVIibbHmz+eBdlZkJ3FP3V953ARqNA/ZSwgk8/+xT+xedpndEpzP6nj7qBUdcA/Fl31au9IkD+cgo32pDWMP6GsOf3NBkM/d76fGi/dxD9tGtCmAW2aP6qSnCrJqbI/9SHquDsotT88yR76Ugi2PxsZrJHBGmk/0hMcPcHRYz86tMh2vp/KP15F4lUkXuU/Uao62N220D/v0yhywFXaPzuAGWr+B80/qFHkgKt0nj/EYkMsNsTSP0yAjtG05dE/0oiD856exT8M7Pnz0XKyP11NLzxbKWo/RAdGdGBE3z+6FjgFG+3hPxsDe/58tLw/grLm9DcbzD+5HoXrUbjWP2Dl0CLb+eI/i2zn+6nx2j/RvDIAXzbnP6EoE4oyocg/zSsD8GUzoj+P35iSJ8OSP5M99KUQLLc/mm03cxDN2D99DGFhqq/jPzHrCLOOMNM/ZW6zTJ0x0z+t/tvqv63ePzjv6VkFBeg/VFGbexsg1j8UBgwuja2/P9MhAOrObOc/CmI8ul895T9gWjjZuMbYP6yn8q1dEuI/D7D9ANsP6D/IzoLsLMjwP6p8a5eEQ+o/jfakNRwn6D8rYiaJzPjqPw==",
             "dtype": "f8"
            },
            "coloraxis": "coloraxis",
            "size": {
             "bdata": "K+ZM/GdeOT9tGtCmAW1KP+LgvKdnFVQ/8YLW+zSKTD8r5kz8Z15JP194tlI0+GE/6bHJUc5PWD8r5kz8Z15JPwN7/ny0nFQ/yBeIfIHIZz8+3nR953BhP+zcUGinHmA/CkwLJxvXWD814uC8p2d1Px1EM6ia6WA/rk5TUZt7az9OqxXojbRxPy0R1BJBLXE/Pt50fedwUT8kFUBSASRFPzO3WabOmD0/JBVAUgEkNT9VfCKS9O51P432pDUcJ5A/p31GpzRBZz8zt1mmzphtP5yu7xwuAoU/ld3icsfHcD/xgtb7NIpMP20a0KYBbVo/wUZ70hqOUz+nfUanNEFHP6d9Rqc0QUc/Dx7z4DEPjj8PSlUHu9t2P78b9LtBv3s/cuy3YBiljz+/G/S7Qb9rPy0R1BJBLWE/Pt50fedwUT/psclRzk9YP8FGe9IajlM/nnpAEG5qxz/oSyFYrhu/P+mxyVHOT0g/l7ClPI79dj+T3r2Cd8WBP1hP5Vu7JIw/bkVXvdo7cj+AEvgngX9iP6d9Rqc0QUc/HUQzqJrpcD+0A5ih5n/kP2Mt+6J//OI/Xp2mojb33j8k6d0reFfgPyvmTPxnXtE/Dna3LUSo1z9HmHWEWUfIPx1EM6ia6TA/yEPqogqVgD+V3eJyx8eQP7hK5xHbhGc/th9g+wG2Tz99nmuBU7CxP7vUpEtNurQ/YTVIibbHmz+eBdlZkJ3FP3V953ARqNA/ZSwgk8/+xT+xedpndEpzP6nj7qBUdcA/Fl31au9IkD+cgo32pDWMP6GsOf3NBkM/d76fGi/dxD9tGtCmAW2aP6qSnCrJqbI/9SHquDsotT88yR76Ugi2PxsZrJHBGmk/0hMcPcHRYz86tMh2vp/KP15F4lUkXuU/Uao62N220D/v0yhywFXaPzuAGWr+B80/qFHkgKt0nj/EYkMsNsTSP0yAjtG05dE/0oiD856exT8M7Pnz0XKyP11NLzxbKWo/RAdGdGBE3z+6FjgFG+3hPxsDe/58tLw/grLm9DcbzD+5HoXrUbjWP2Dl0CLb+eI/i2zn+6nx2j/RvDIAXzbnP6EoE4oyocg/zSsD8GUzoj+P35iSJ8OSP5M99KUQLLc/mm03cxDN2D99DGFhqq/jPzHrCLOOMNM/ZW6zTJ0x0z+t/tvqv63ePzjv6VkFBeg/VFGbexsg1j8UBgwuja2/P9MhAOrObOc/CmI8ul895T9gWjjZuMbYP6yn8q1dEuI/D7D9ANsP6D/IzoLsLMjwP6p8a5eEQ+o/jfakNRwn6D8rYiaJzPjqPw==",
             "dtype": "f8"
            },
            "sizemode": "area",
            "sizeref": 0.006043951612903227
           },
           "mode": "markers",
           "name": "",
           "showlegend": false,
           "subplot": "map",
           "type": "scattermap"
          }
         ],
         "name": "2021-01"
        },
        {
         "data": [
          {
           "hovertemplate": "month=2021-02<br>HTEURNEIGE_Q=%{marker.color}<br>lat=%{lat}<br>lon=%{lon}<extra></extra>",
           "lat": {
            "bdata": "GNilFLSrRkCtqV0k6bRGQOjesz0evkZAm+q6X1PHRkD/GkaOZ6tGQABCMISctEZAAFKvg9G9RkDuttWLBsdGQG43+PgXq0ZAYvcM1Ey0RkAzxay4gb1GQKMF6qW2xkZATM7WmuvPRkC6Xg2gkKFGQB/o1lTFqkZAO5cOFPqzRkCvGMfcLr1GQMLJEq5jxkZAk7gDh5jPRkA/pKtmzdhGQAj9G0wC4kZAFh4O/dGORkBVnm99BphGQJR3Dgo7oUZA7u39oW+qRkDb9VBEpLNGQEI0GvDYvEZAt/5rpA3GRkCOW1hgQs9GQA0C8SJ32EZAllpH66vhRkACIx2VeY5GQJY+s/etl0ZAyc57ZuKgRkDfD4rgFqpGQGPu8GRLs0ZAUAfD8n+8RkApqBKJtMVGQEHP8SbpzkZAwStyyx3YRkDqHaV1UuFGQC+3mySH6kZA3hrDIR6ORkBDg4dlUpdGQJMcc7WGoEZA6RqZELupRkCoYgx277JGQI+I3+QjvEZA39EkXFjFRkCQNO7ajM5GQHNXTWDB10ZAWZJT6/XgRkCa1fWe72hGQIoROokjckZA8ApKg1d7RkBzLjqMi4RGQEmYHqO/jUZASRQLx/OWRkA2HhP3J6BGQMzhSTJcqUZA+TrCd5CyRkD6tY7GxLtGQIiPwR35xEZABbVsfC3ORkDuQieYjmhGQFMivWHCcUZALd8SO/Z6RkCi3TwjKoRGQGoxTxlejUZA1Z1dHJKWRkD9lXsrxp9GQAM9vEX6qEZAEmYyai6yRkCslPCXYrtGQLb8CM6WxEZAEOke8/ZeRkD75WKKKmhGQBPWRTJecUZAimXc6ZF6RkDX7zqwxYNGQOV/dYT5jEZAMtCfZS2WRkAHS81SYZ9GQIUKEUuVqEZA7dh9TcmxRkAD2jABkF5GQPr+yXXDZ0ZABYT1+vZwRkBkDMiPKnpGQJ7qVTNeg0ZAkyCz5JGMRkCzX/OixZVGQBcJKm35nkZAui1qQi2oRkCgjsYhYbFGQHTOflpZZ0ZAZ4Tuu4xwRkDWQ/gswHlGQAFWsKzzgkZAf7MqOieMRkBuBHvUWpVGQICgtHqOnkZAQo/qK8KnRkAuiC/n9bBGQNbylaspukZAbzBUdR9wRkCIfZDBUnlGQDu8bRyGgkZAndv/hLmLRkArelr67JRGQPXlkHsgnkZAyhy2B1SnRkBjzNydh7BGQP7hSievb0ZAkiy1TeJ4RkC8qbKCFYJGQME+V8VIi0ZAtGfzRRawRkCK8/fRO29GQE7Fi9FueEZA87+BdcVuRkA2vTpN+HdGQA==",
            "dtype": "f8"
           },
           "legendgroup": "",
           "lon": {
            "bdata": "fdMnuEhZE0DmL32SnFwTQNK/OqTyXxNAogWY70pjE0AzeK7LucETQMUBOFowxRNA6VQ7N6nIE0DN9QZlJMwTQPY8B5MoKhRAbH9508EtFEB2EnR5XTEUQPp2XIf7NBRAimCb/5s4FEAaU1yB244UQDZ+OveUkhRA+yYz51CWFED0eb9TD5oUQGbvWz/QnRRA01CIrJOhFEB/vsedWaUUQAi1oBUiqRRAQ1VZZnLvFECNhd5XSfMUQPaUWdUi9xRAgsBT4f76FED8o1l+3f4UQI0/+66+AhVAYP3LdaIGFUBWt2LViAoVQMC8WdBxDhVAKthOaV0SFUB4EihJclcVQH/upKBrWxVAiz3YmmdfFUCxzmE6ZmMVQKzt5IFnZxVAoWgIdGtrFUDtlXYTcm8VQBda3WJ7cxVAtS3uZId3FUBqI14clnsVQPDt5YunfxVA4jrdi2+/FUBga7VGi8MVQO0rAbupxxVA8td268rLFUBNZdDa7s8VQENqy4sV1BVAiSMpAT/YFUBTeq49a9wVQIkKJESa4BVA2ihWF8zkFUD/UhGUjRYWQNnzlIrAGhZA4N02RvYeFkACT7XJLiMWQCwl0hdqJxZALuRSM6grFkDNuwAf6S8WQN2NqN0sNBZAXfQacnM4FkCpRyzfvDwWQLSktCcJQRZATvOPTlhFFkDGxoG8/H0WQEAk7LZRghZAt8XRjKmGFkBw9AZBBIsWQJS2Y9ZhjxZAWtXDT8KTFkBG4wawJZgWQGlCEPqLnBZAwSrHMPWgFkCEsBZXYaUWQJvK7W/QqRZAUJ61//TgFkDQGUgMaeUWQHCiyAfg6RZAIrMd9VnuFkBWmjHX1vIWQEiA8rBW9xZAXm1Shdn7FkCVUEdXXwAXQOwFyynoBBdA+Fzb/3MJF0D6Vp54PEgXQFL1IG3STBdANS/RZmtRF0DFYatoB1YXQEzar3WmWhdAvdzikEhfF0BFqky97WMXQN6H+f2VaBdA8sT5VUFtF0AkwmHI73EXQLbPzMg4tBdA116wvfO4F0AXZw/Rsb0XQBYuAAZzwhdA+wydXzfHF0AZdwTh/ssXQMYAWY3J0BdAKGbBZ5fVF0AlkmhzaNoXQEGlfbM83xdAwbUU9nggGEAnT+IXWSUYQKUMpXE8KhhAzlWNBiMvGEBWyc/ZDDQYQBxEpe75OBhAGOhKSOo9GECDIwLq3UIYQCTFsPn6hxhAibnAJv2MGEAgByWiApIYQP8cJG8LlxhAcwlFFVCrGECRRzuyee8YQAN2S+ed9BhAfj1vCfVWGUBEoSdDO1wZQA==",
            "dtype": "f8"
           },
           "marker": {
            "color": {
             "bdata": "jlRdg325Qj9Ffyer5Y1RP+c+u4DYVFo/jlRdg325Uj+hlAy/GfhQP45UXYN9uWI/Zql39WttXj/8qfHSTWJQPw2/GfgQ0lY/+n5qvHSTaD/gyWp5YwRjP0V/J6vljWE/wb5cCaDXXT9wSU8TuoxtP6CUDL8Z+GA/6D67gNhUaj/LXjQn7vZsP3npJjEIrGw/aNT+C0U8Vj8e1EEd1EFNP7GpNOTcZ0c/1f4LRTwWLD/BvlwJoNdtP+45LqZYs3E/VpRP0Kj9Zz8wFPFYcIBrPzvfT42XbnI/J3QZOyJhbD+OVF2DfblSP6GUDL8Z+GA/n2mFqEApWT8f/8gzrRBFP0V/J6vljUE/7jkuplizcT9mqXf1a21uP6o05NxnF3A/KZ+gUfsvdD/enuNiijVrP45UXYN9uWI/sak05NxnVz/8qfHSTWJgP9X+C0U8Flw/1+aBzA/eqz/rUbgeheuhPx//yDOtEEU/EzRq/4Uibj+bxCCwcmhxP9cpk1sV5XM/y140J+72bD+FtIVlL5pjPzI/eG9JT1M/5z67gNhUWj9KyfCbgQ/mP1CNl24Sg+I/yq2K8gka3T8Pp49/5JnUP6QtLHvRnMA/DUU8Fhzgzj/RnLjbc1y8P9X+C0U8Fiw/m8QgsHJocT+OVF2DfblyP59phahAKWk/+n5qvHSTWD8B9LrD6eN/P+nvZLW8MaI/adT+C0U8Zj8jVddgX67AP4YiHgsOcMs/a7AvVwLotT/WKZNbFeVjP1Uacu6zC7A/99kFxKbScD/32QXEptJwP+DJanljBGM/VlE+QaP2vz+OVF2DfbliP+oa7MuVAJo//Knx0k1ikD/6fmq8dJOYP+c+u4DYVFo/HdRBHdRBTT/p72S1vDG6P1E+QaP2X+Q/kaprsC9Xyj9/J6vljRHhP2jU/gtFPM4/Dr8Z+BDSZj/ThC5jRyTMP+YH7y3pac4/C4hNpSHntj/CvlwJoNeNP/yp8dJNYmA/cbfnuJhi2z/FY8EBbpjhPyb6O1ktb6w/FWs2UnUNxj/mjRFM9HfcPwAAAAAAAOg/GX4z8CGk3z+Zpd7VrzXwP21h2YvmxME/Fl/xFV/xZT/Oibs9x8V0P7NOmdyqKH8/z/dT46Wb3j+hy9gRCePtP44RTPR3stY/JoBedzh90j99gkbtv1DhPxvsy5UA+vA/ijUbqboG0z+hy9gRCeOoP7VCVKCUjPE/7vYcF1Os7z/KJ2jU/gvgP76rX2vzQOo/UvsvFPHY8D+Lr/iKr3j4P0CvO5w+fvM/0lmnTG7V8D9xt+e4mGLyPw==",
             "dtype": "f8"
            },
            "coloraxis": "coloraxis",
            "size": {
             "bdata": "jlRdg325Qj9Ffyer5Y1RP+c+u4DYVFo/jlRdg325Uj+hlAy/GfhQP45UXYN9uWI/Zql39WttXj/8qfHSTWJQPw2/GfgQ0lY/+n5qvHSTaD/gyWp5YwRjP0V/J6vljWE/wb5cCaDXXT9wSU8TuoxtP6CUDL8Z+GA/6D67gNhUaj/LXjQn7vZsP3npJjEIrGw/aNT+C0U8Vj8e1EEd1EFNP7GpNOTcZ0c/1f4LRTwWLD/BvlwJoNdtP+45LqZYs3E/VpRP0Kj9Zz8wFPFYcIBrPzvfT42XbnI/J3QZOyJhbD+OVF2DfblSP6GUDL8Z+GA/n2mFqEApWT8f/8gzrRBFP0V/J6vljUE/7jkuplizcT9mqXf1a21uP6o05NxnF3A/KZ+gUfsvdD/enuNiijVrP45UXYN9uWI/sak05NxnVz/8qfHSTWJgP9X+C0U8Flw/1+aBzA/eqz/rUbgeheuhPx//yDOtEEU/EzRq/4Uibj+bxCCwcmhxP9cpk1sV5XM/y140J+72bD+FtIVlL5pjPzI/eG9JT1M/5z67gNhUWj9KyfCbgQ/mP1CNl24Sg+I/yq2K8gka3T8Pp49/5JnUP6QtLHvRnMA/DUU8Fhzgzj/RnLjbc1y8P9X+C0U8Fiw/m8QgsHJocT+OVF2DfblyP59phahAKWk/+n5qvHSTWD8B9LrD6eN/P+nvZLW8MaI/adT+C0U8Zj8jVddgX67AP4YiHgsOcMs/a7AvVwLotT/WKZNbFeVjP1Uacu6zC7A/99kFxKbScD/32QXEptJwP+DJanljBGM/VlE+QaP2vz+OVF2DfbliP+oa7MuVAJo//Knx0k1ikD/6fmq8dJOYP+c+u4DYVFo/HdRBHdRBTT/p72S1vDG6P1E+QaP2X+Q/kaprsC9Xyj9/J6vljRHhP2jU/gtFPM4/Dr8Z+BDSZj/ThC5jRyTMP+YH7y3pac4/C4hNpSHntj/CvlwJoNeNP/yp8dJNYmA/cbfnuJhi2z/FY8EBbpjhPyb6O1ktb6w/FWs2UnUNxj/mjRFM9HfcPwAAAAAAAOg/GX4z8CGk3z+Zpd7VrzXwP21h2YvmxME/Fl/xFV/xZT/Oibs9x8V0P7NOmdyqKH8/z/dT46Wb3j+hy9gRCePtP44RTPR3stY/JoBedzh90j99gkbtv1DhPxvsy5UA+vA/ijUbqboG0z+hy9gRCeOoP7VCVKCUjPE/7vYcF1Os7z/KJ2jU/gvgP76rX2vzQOo/UvsvFPHY8D+Lr/iKr3j4P0CvO5w+fvM/0lmnTG7V8D9xt+e4mGLyPw==",
             "dtype": "f8"
            },
            "sizemode": "area",
            "sizeref": 0.006043951612903227
           },
           "mode": "markers",
           "name": "",
           "showlegend": false,
           "subplot": "map",
           "type": "scattermap"
          }
         ],
         "name": "2021-02"
        },
        {
         "data": [
          {
           "hovertemplate": "month=2021-03<br>HTEURNEIGE_Q=%{marker.color}<br>lat=%{lat}<br>lon=%{lon}<extra></extra>",
           "lat": {
            "bdata": "GNilFLSrRkCtqV0k6bRGQOjesz0evkZAm+q6X1PHRkD/GkaOZ6tGQABCMISctEZAAFKvg9G9RkDuttWLBsdGQG43+PgXq0ZAYvcM1Ey0RkAzxay4gb1GQKMF6qW2xkZATM7WmuvPRkC6Xg2gkKFGQB/o1lTFqkZAO5cOFPqzRkCvGMfcLr1GQMLJEq5jxkZAk7gDh5jPRkA/pKtmzdhGQAj9G0wC4kZAFh4O/dGORkBVnm99BphGQJR3Dgo7oUZA7u39oW+qRkDb9VBEpLNGQEI0GvDYvEZAt/5rpA3GRkCOW1hgQs9GQA0C8SJ32EZAllpH66vhRkACIx2VeY5GQJY+s/etl0ZAyc57ZuKgRkDfD4rgFqpGQGPu8GRLs0ZAUAfD8n+8RkApqBKJtMVGQEHP8SbpzkZAwStyyx3YRkDqHaV1UuFGQC+3mySH6kZA3hrDIR6ORkBDg4dlUpdGQJMcc7WGoEZA6RqZELupRkCoYgx277JGQI+I3+QjvEZA39EkXFjFRkCQNO7ajM5GQHNXTWDB10ZAWZJT6/XgRkCa1fWe72hGQIoROokjckZA8ApKg1d7RkBzLjqMi4RGQEmYHqO/jUZASRQLx/OWRkA2HhP3J6BGQMzhSTJcqUZA+TrCd5CyRkD6tY7GxLtGQIiPwR35xEZABbVsfC3ORkDuQieYjmhGQFMivWHCcUZALd8SO/Z6RkCi3TwjKoRGQGoxTxlejUZA1Z1dHJKWRkD9lXsrxp9GQAM9vEX6qEZAEmYyai6yRkCslPCXYrtGQLb8CM6WxEZAEOke8/ZeRkD75WKKKmhGQBPWRTJecUZAimXc6ZF6RkDX7zqwxYNGQOV/dYT5jEZAMtCfZS2WRkAHS81SYZ9GQIUKEUuVqEZA7dh9TcmxRkAD2jABkF5GQPr+yXXDZ0ZABYT1+vZwRkBkDMiPKnpGQJ7qVTNeg0ZAkyCz5JGMRkCzX/OixZVGQBcJKm35nkZAui1qQi2oRkCgjsYhYbFGQHTOflpZZ0ZAZ4Tuu4xwRkDWQ/gswHlGQAFWsKzzgkZAf7MqOieMRkBuBHvUWpVGQICgtHqOnkZAQo/qK8KnRkAuiC/n9bBGQNbylaspukZAbzBUdR9wRkCIfZDBUnlGQDu8bRyGgkZAndv/hLmLRkArelr67JRGQPXlkHsgnkZAyhy2B1SnRkBjzNydh7BGQP7hSievb0ZAkiy1TeJ4RkC8qbKCFYJGQME+V8VIi0ZAtGfzRRawRkCK8/fRO29GQE7Fi9FueEZA87+BdcVuRkA2vTpN+HdGQA==",
            "dtype": "f8"
           },
           "legendgroup": "",
           "lon": {
            "bdata": "fdMnuEhZE0DmL32SnFwTQNK/OqTyXxNAogWY70pjE0AzeK7LucETQMUBOFowxRNA6VQ7N6nIE0DN9QZlJMwTQPY8B5MoKhRAbH9508EtFEB2EnR5XTEUQPp2XIf7NBRAimCb/5s4FEAaU1yB244UQDZ+OveUkhRA+yYz51CWFED0eb9TD5oUQGbvWz/QnRRA01CIrJOhFEB/vsedWaUUQAi1oBUiqRRAQ1VZZnLvFECNhd5XSfMUQPaUWdUi9xRAgsBT4f76FED8o1l+3f4UQI0/+66+AhVAYP3LdaIGFUBWt2LViAoVQMC8WdBxDhVAKthOaV0SFUB4EihJclcVQH/upKBrWxVAiz3YmmdfFUCxzmE6ZmMVQKzt5IFnZxVAoWgIdGtrFUDtlXYTcm8VQBda3WJ7cxVAtS3uZId3FUBqI14clnsVQPDt5YunfxVA4jrdi2+/FUBga7VGi8MVQO0rAbupxxVA8td268rLFUBNZdDa7s8VQENqy4sV1BVAiSMpAT/YFUBTeq49a9wVQIkKJESa4BVA2ihWF8zkFUD/UhGUjRYWQNnzlIrAGhZA4N02RvYeFkACT7XJLiMWQCwl0hdqJxZALuRSM6grFkDNuwAf6S8WQN2NqN0sNBZAXfQacnM4FkCpRyzfvDwWQLSktCcJQRZATvOPTlhFFkDGxoG8/H0WQEAk7LZRghZAt8XRjKmGFkBw9AZBBIsWQJS2Y9ZhjxZAWtXDT8KTFkBG4wawJZgWQGlCEPqLnBZAwSrHMPWgFkCEsBZXYaUWQJvK7W/QqRZAUJ61//TgFkDQGUgMaeUWQHCiyAfg6RZAIrMd9VnuFkBWmjHX1vIWQEiA8rBW9xZAXm1Shdn7FkCVUEdXXwAXQOwFyynoBBdA+Fzb/3MJF0D6Vp54PEgXQFL1IG3STBdANS/RZmtRF0DFYatoB1YXQEzar3WmWhdAvdzikEhfF0BFqky97WMXQN6H+f2VaBdA8sT5VUFtF0AkwmHI73EXQLbPzMg4tBdA116wvfO4F0AXZw/Rsb0XQBYuAAZzwhdA+wydXzfHF0AZdwTh/ssXQMYAWY3J0BdAKGbBZ5fVF0AlkmhzaNoXQEGlfbM83xdAwbUU9nggGEAnT+IXWSUYQKUMpXE8KhhAzlWNBiMvGEBWyc/ZDDQYQBxEpe75OBhAGOhKSOo9GECDIwLq3UIYQCTFsPn6hxhAibnAJv2MGEAgByWiApIYQP8cJG8LlxhAcwlFFVCrGECRRzuyee8YQAN2S+ed9BhAfj1vCfVWGUBEoSdDO1wZQA==",
            "dtype": "f8"
           },
           "marker": {
            "color": {
             "bdata": "AAAAAAAAAAAAAAAAAAAAAAAAAAAAAAAAAAAAAAAAAAAAAAAAAAAAAAAAAAAAAAAAAAAAAAAAAAAAAAAAAAAAAAAAAAAAAAAAAAAAAAAAAAAAAAAAAAAAAAAAAAAAAAAAAAAAAAAAAAAr5kz8Z14ZPwAAAAAAAAAAHUQzqJrpAD8dRDOomukQPx1EM6ia6RA/AAAAAAAAAAAAAAAAAAAAAAAAAAAAAAAAHUQzqJrpED8r5kz8Z14ZPyvmTPxnXhk/AAAAAAAAAAAdRDOomukAPyvmTPxnXhk/HUQzqJrpED8AAAAAAAAAAAAAAAAAAAAAAAAAAAAAAAAdRDOomukQPx1EM6ia6RA/K+ZM/GdeGT8r5kz8Z14ZPyvmTPxnXhk/K+ZM/GdeGT8dRDOomukAPwAAAAAAAAAAAAAAAAAAAAAAAAAAAAAAAAAAAAAAAAAApR/rk0vYoj/n3gaIBxqCPx1EM6ia6RA/K+ZM/GdeGT8r5kz8Z14ZPyvmTPxnXhk/HUQzqJrpED8AAAAAAAAAAAAAAAAAAAAAAAAAAAAAAACUo5yfMGDYP3LlRYqR19M/HexuW4hQzz92D/KQuqjCP7m/Tsi4Uak/RoqR10uswD9W8YlI0runPx1EM6ia6RA/K+ZM/GdeGT8r5kz8Z14ZPwAAAAAAAAAAAAAAAAAAAAA8s+1mDqJpP/xRLYY7yX4/K+ZM/GdeKT9byuPYb8GwPza98GylaMA//B5ZiSsvoj8dRDOomukQP0k4ZFEQ46E/K+ZM/GdeGT8r5kz8Z14ZPx1EM6ia6RA/nDmIZlA1oz8r5kz8Z14pP8gXiHyByHc/X3i2UjT4cT/G7ABmqPl/PwAAAAAAAAAAAAAAAAAAAABhS3kc+y2oPxl5vcQKf9c/wz4u7OPCvj/WyGCNDNbQP8fHEBam+ro/M7dZps6YLT/D0DgMjcPAPyzXjT+qxcA/hG94K7rqpT/8qfHSTWJwPx1EM6ia6QA/oqTsFpc7zj99a5eEQxbVP/aAINzUjoo/XAQqrAYpsT/qogqVELfPPyRIFE8RvuE/Lo2tn6XH1j8lmIu17IvqPyEsTPX1h7I/r05TUZt7Sz9/EvgngX9yPyvmTPxnXok/PN9PjZdu0j/B50SvgSfmP1egN9JG8Mk/s7qSEZJ/xz8zvst8VWbZP4querV3JOw/8cvbi4mKxT+uerV3JEiEP3Qm/jOvDOw/Uao62N226D88cVqtQG/UP4awMNXXH+I/Be+KI+Jr7T8qgKQCSCr2P0QsNsRiQ/A/e3Pkanrh6T9pgi7AgZztPw==",
             "dtype": "f8"
            },
            "coloraxis": "coloraxis",
            "size": {
             "bdata": "AAAAAAAAAAAAAAAAAAAAAAAAAAAAAAAAAAAAAAAAAAAAAAAAAAAAAAAAAAAAAAAAAAAAAAAAAAAAAAAAAAAAAAAAAAAAAAAAAAAAAAAAAAAAAAAAAAAAAAAAAAAAAAAAAAAAAAAAAAAr5kz8Z14ZPwAAAAAAAAAAHUQzqJrpAD8dRDOomukQPx1EM6ia6RA/AAAAAAAAAAAAAAAAAAAAAAAAAAAAAAAAHUQzqJrpED8r5kz8Z14ZPyvmTPxnXhk/AAAAAAAAAAAdRDOomukAPyvmTPxnXhk/HUQzqJrpED8AAAAAAAAAAAAAAAAAAAAAAAAAAAAAAAAdRDOomukQPx1EM6ia6RA/K+ZM/GdeGT8r5kz8Z14ZPyvmTPxnXhk/K+ZM/GdeGT8dRDOomukAPwAAAAAAAAAAAAAAAAAAAAAAAAAAAAAAAAAAAAAAAAAApR/rk0vYoj/n3gaIBxqCPx1EM6ia6RA/K+ZM/GdeGT8r5kz8Z14ZPyvmTPxnXhk/HUQzqJrpED8AAAAAAAAAAAAAAAAAAAAAAAAAAAAAAACUo5yfMGDYP3LlRYqR19M/HexuW4hQzz92D/KQuqjCP7m/Tsi4Uak/RoqR10uswD9W8YlI0runPx1EM6ia6RA/K+ZM/GdeGT8r5kz8Z14ZPwAAAAAAAAAAAAAAAAAAAAA8s+1mDqJpP/xRLYY7yX4/K+ZM/GdeKT9byuPYb8GwPza98GylaMA//B5ZiSsvoj8dRDOomukQP0k4ZFEQ46E/K+ZM/GdeGT8r5kz8Z14ZPx1EM6ia6RA/nDmIZlA1oz8r5kz8Z14pP8gXiHyByHc/X3i2UjT4cT/G7ABmqPl/PwAAAAAAAAAAAAAAAAAAAABhS3kc+y2oPxl5vcQKf9c/wz4u7OPCvj/WyGCNDNbQP8fHEBam+ro/M7dZps6YLT/D0DgMjcPAPyzXjT+qxcA/hG94K7rqpT/8qfHSTWJwPx1EM6ia6QA/oqTsFpc7zj99a5eEQxbVP/aAINzUjoo/XAQqrAYpsT/qogqVELfPPyRIFE8RvuE/Lo2tn6XH1j8lmIu17IvqPyEsTPX1h7I/r05TUZt7Sz9/EvgngX9yPyvmTPxnXok/PN9PjZdu0j/B50SvgSfmP1egN9JG8Mk/s7qSEZJ/xz8zvst8VWbZP4querV3JOw/8cvbi4mKxT+uerV3JEiEP3Qm/jOvDOw/Uao62N226D88cVqtQG/UP4awMNXXH+I/Be+KI+Jr7T8qgKQCSCr2P0QsNsRiQ/A/e3Pkanrh6T9pgi7AgZztPw==",
             "dtype": "f8"
            },
            "sizemode": "area",
            "sizeref": 0.006043951612903227
           },
           "mode": "markers",
           "name": "",
           "showlegend": false,
           "subplot": "map",
           "type": "scattermap"
          }
         ],
         "name": "2021-03"
        },
        {
         "data": [
          {
           "hovertemplate": "month=2021-04<br>HTEURNEIGE_Q=%{marker.color}<br>lat=%{lat}<br>lon=%{lon}<extra></extra>",
           "lat": {
            "bdata": "GNilFLSrRkCtqV0k6bRGQOjesz0evkZAm+q6X1PHRkD/GkaOZ6tGQABCMISctEZAAFKvg9G9RkDuttWLBsdGQG43+PgXq0ZAYvcM1Ey0RkAzxay4gb1GQKMF6qW2xkZATM7WmuvPRkC6Xg2gkKFGQB/o1lTFqkZAO5cOFPqzRkCvGMfcLr1GQMLJEq5jxkZAk7gDh5jPRkA/pKtmzdhGQAj9G0wC4kZAFh4O/dGORkBVnm99BphGQJR3Dgo7oUZA7u39oW+qRkDb9VBEpLNGQEI0GvDYvEZAt/5rpA3GRkCOW1hgQs9GQA0C8SJ32EZAllpH66vhRkACIx2VeY5GQJY+s/etl0ZAyc57ZuKgRkDfD4rgFqpGQGPu8GRLs0ZAUAfD8n+8RkApqBKJtMVGQEHP8SbpzkZAwStyyx3YRkDqHaV1UuFGQC+3mySH6kZA3hrDIR6ORkBDg4dlUpdGQJMcc7WGoEZA6RqZELupRkCoYgx277JGQI+I3+QjvEZA39EkXFjFRkCQNO7ajM5GQHNXTWDB10ZAWZJT6/XgRkCa1fWe72hGQIoROokjckZA8ApKg1d7RkBzLjqMi4RGQEmYHqO/jUZASRQLx/OWRkA2HhP3J6BGQMzhSTJcqUZA+TrCd5CyRkD6tY7GxLtGQIiPwR35xEZABbVsfC3ORkDuQieYjmhGQFMivWHCcUZALd8SO/Z6RkCi3TwjKoRGQGoxTxlejUZA1Z1dHJKWRkD9lXsrxp9GQAM9vEX6qEZAEmYyai6yRkCslPCXYrtGQLb8CM6WxEZAEOke8/ZeRkD75WKKKmhGQBPWRTJecUZAimXc6ZF6RkDX7zqwxYNGQOV/dYT5jEZAMtCfZS2WRkAHS81SYZ9GQIUKEUuVqEZA7dh9TcmxRkAD2jABkF5GQPr+yXXDZ0ZABYT1+vZwRkBkDMiPKnpGQJ7qVTNeg0ZAkyCz5JGMRkCzX/OixZVGQBcJKm35nkZAui1qQi2oRkCgjsYhYbFGQHTOflpZZ0ZAZ4Tuu4xwRkDWQ/gswHlGQAFWsKzzgkZAf7MqOieMRkBuBHvUWpVGQICgtHqOnkZAQo/qK8KnRkAuiC/n9bBGQNbylaspukZAbzBUdR9wRkCIfZDBUnlGQDu8bRyGgkZAndv/hLmLRkArelr67JRGQPXlkHsgnkZAyhy2B1SnRkBjzNydh7BGQP7hSievb0ZAkiy1TeJ4RkC8qbKCFYJGQME+V8VIi0ZAtGfzRRawRkCK8/fRO29GQE7Fi9FueEZA87+BdcVuRkA2vTpN+HdGQA==",
            "dtype": "f8"
           },
           "legendgroup": "",
           "lon": {
            "bdata": "fdMnuEhZE0DmL32SnFwTQNK/OqTyXxNAogWY70pjE0AzeK7LucETQMUBOFowxRNA6VQ7N6nIE0DN9QZlJMwTQPY8B5MoKhRAbH9508EtFEB2EnR5XTEUQPp2XIf7NBRAimCb/5s4FEAaU1yB244UQDZ+OveUkhRA+yYz51CWFED0eb9TD5oUQGbvWz/QnRRA01CIrJOhFEB/vsedWaUUQAi1oBUiqRRAQ1VZZnLvFECNhd5XSfMUQPaUWdUi9xRAgsBT4f76FED8o1l+3f4UQI0/+66+AhVAYP3LdaIGFUBWt2LViAoVQMC8WdBxDhVAKthOaV0SFUB4EihJclcVQH/upKBrWxVAiz3YmmdfFUCxzmE6ZmMVQKzt5IFnZxVAoWgIdGtrFUDtlXYTcm8VQBda3WJ7cxVAtS3uZId3FUBqI14clnsVQPDt5YunfxVA4jrdi2+/FUBga7VGi8MVQO0rAbupxxVA8td268rLFUBNZdDa7s8VQENqy4sV1BVAiSMpAT/YFUBTeq49a9wVQIkKJESa4BVA2ihWF8zkFUD/UhGUjRYWQNnzlIrAGhZA4N02RvYeFkACT7XJLiMWQCwl0hdqJxZALuRSM6grFkDNuwAf6S8WQN2NqN0sNBZAXfQacnM4FkCpRyzfvDwWQLSktCcJQRZATvOPTlhFFkDGxoG8/H0WQEAk7LZRghZAt8XRjKmGFkBw9AZBBIsWQJS2Y9ZhjxZAWtXDT8KTFkBG4wawJZgWQGlCEPqLnBZAwSrHMPWgFkCEsBZXYaUWQJvK7W/QqRZAUJ61//TgFkDQGUgMaeUWQHCiyAfg6RZAIrMd9VnuFkBWmjHX1vIWQEiA8rBW9xZAXm1Shdn7FkCVUEdXXwAXQOwFyynoBBdA+Fzb/3MJF0D6Vp54PEgXQFL1IG3STBdANS/RZmtRF0DFYatoB1YXQEzar3WmWhdAvdzikEhfF0BFqky97WMXQN6H+f2VaBdA8sT5VUFtF0AkwmHI73EXQLbPzMg4tBdA116wvfO4F0AXZw/Rsb0XQBYuAAZzwhdA+wydXzfHF0AZdwTh/ssXQMYAWY3J0BdAKGbBZ5fVF0AlkmhzaNoXQEGlfbM83xdAwbUU9nggGEAnT+IXWSUYQKUMpXE8KhhAzlWNBiMvGEBWyc/ZDDQYQBxEpe75OBhAGOhKSOo9GECDIwLq3UIYQCTFsPn6hxhAibnAJv2MGEAgByWiApIYQP8cJG8LlxhAcwlFFVCrGECRRzuyee8YQAN2S+ed9BhAfj1vCfVWGUBEoSdDO1wZQA==",
            "dtype": "f8"
           },
           "marker": {
            "color": {
             "bdata": "AAAAAAAAAAAAAAAAAAAAAAAAAAAAAAAAAAAAAAAAAAAAAAAAAAAAAAAAAAAAAAAAAAAAAAAAAAAAAAAAAAAAAAAAAAAAAAAAAAAAAAAAAAAAAAAAAAAAAAAAAAAAAAAAAAAAAAAAAAAAAAAAAAAAAAAAAAAAAAAAAAAAAAAAAAAAAAAAAAAAAAAAAAAAAAAAAAAAAAAAAAAAAAAAAAAAAAAAAAAAAAAAAAAAAAAAAAAAAAAAAAAAAAAAAAAAAAAAAAAAAAAAAAAAAAAAAAAAAAAAAAAAAAAAAAAAAAAAAAAAAAAAAAAAAAAAAAAAAAAAAAAAAAAAAAAAAAAAAAAAAAAAAAAAAAAAAAAAAAAAAAAAAAAAAAAAAAAAAAAAAAAAAAAAAAAAAAAAAAAAAAAAAAAAAAAAAAAAAAAAAAAAAAAAAAAAAAAAAAAAAAAAAAAADZbXNx3ucD+Qe82FpCl1PwAAAAAAAAAAAAAAAAAAAAAAAAAAAAAAAAAAAAAAAAAAAAAAAAAAAAAAAAAAAAAAAAAAAAAAAAAAAAAAAAAAAAB88rBQa5q3P11ImlJx9rE/xwQP5on6pz/CFyZTBaOCPyvzaSjI4nE/pLqTYlqugT/tDb4wmSqIPwAAAAAAAAAAAAAAAAAAAAAAAAAAAAAAAAAAAAAAAAAAAAAAAAAAAAAcVzaGE6tZPx6CvZzseWE/HoK9nOx5MT99ZGAK/M58P4Va07zjFI0/1nsX3Pysbz8AAAAAAAAAAPt+arx0k2g/AAAAAAAAAAAAAAAAAAAAAAAAAAAAAAAAb6MBvAUSdD+0o0sSXpUuPx6CvZzseWE/xI8xdy0hXz8egr2c7HkxPwAAAAAAAAAAAAAAAAAAAACl4uzDZ9hlP7NZ9bnair0/mXFAOIxvhT+QDEyB35mzP9QrZRniWIc/peLsw2fYNT9hMlUwKqmDP9IDDLjULpM/LUMc6+I2Wj9w87N+IGZMPwAAAAAAAAAA46WbxCCwsj9sLiRNqTi7P+CcEaW9wWc/16ae8tV7Vz8DvzPH3+OpP8eYu5aQD9I/H2PuWkI+wD/7FUUiR03gP2ooyOIR72M/YjJVMCqpMz8tQxzr4jYaP6Xi7MNn2DU/FmpN845TtD+9UpYhjnXVP5Vothgpgao/H2DApXaZpD/hehSuR+HCP5/1AzHjgOA/sJeTPS8CkD/8qfHSTWJgP4fxrSK2zt4/uUOwl5M92z/NzMzMzMy8P+wsjXJDZtE/j53KfBoK4D8u/yH99nXuP0KFEH1kYOQ/e1vW6pjg3T9tnaVRbsjiPw==",
             "dtype": "f8"
            },
            "coloraxis": "coloraxis",
            "size": {
             "bdata": "AAAAAAAAAAAAAAAAAAAAAAAAAAAAAAAAAAAAAAAAAAAAAAAAAAAAAAAAAAAAAAAAAAAAAAAAAAAAAAAAAAAAAAAAAAAAAAAAAAAAAAAAAAAAAAAAAAAAAAAAAAAAAAAAAAAAAAAAAAAAAAAAAAAAAAAAAAAAAAAAAAAAAAAAAAAAAAAAAAAAAAAAAAAAAAAAAAAAAAAAAAAAAAAAAAAAAAAAAAAAAAAAAAAAAAAAAAAAAAAAAAAAAAAAAAAAAAAAAAAAAAAAAAAAAAAAAAAAAAAAAAAAAAAAAAAAAAAAAAAAAAAAAAAAAAAAAAAAAAAAAAAAAAAAAAAAAAAAAAAAAAAAAAAAAAAAAAAAAAAAAAAAAAAAAAAAAAAAAAAAAAAAAAAAAAAAAAAAAAAAAAAAAAAAAAAAAAAAAAAAAAAAAAAAAAAAAAAAAAAAAAAAAAAADZbXNx3ucD+Qe82FpCl1PwAAAAAAAAAAAAAAAAAAAAAAAAAAAAAAAAAAAAAAAAAAAAAAAAAAAAAAAAAAAAAAAAAAAAAAAAAAAAAAAAAAAAB88rBQa5q3P11ImlJx9rE/xwQP5on6pz/CFyZTBaOCPyvzaSjI4nE/pLqTYlqugT/tDb4wmSqIPwAAAAAAAAAAAAAAAAAAAAAAAAAAAAAAAAAAAAAAAAAAAAAAAAAAAAAcVzaGE6tZPx6CvZzseWE/HoK9nOx5MT99ZGAK/M58P4Va07zjFI0/1nsX3Pysbz8AAAAAAAAAAPt+arx0k2g/AAAAAAAAAAAAAAAAAAAAAAAAAAAAAAAAb6MBvAUSdD+0o0sSXpUuPx6CvZzseWE/xI8xdy0hXz8egr2c7HkxPwAAAAAAAAAAAAAAAAAAAACl4uzDZ9hlP7NZ9bnair0/mXFAOIxvhT+QDEyB35mzP9QrZRniWIc/peLsw2fYNT9hMlUwKqmDP9IDDLjULpM/LUMc6+I2Wj9w87N+IGZMPwAAAAAAAAAA46WbxCCwsj9sLiRNqTi7P+CcEaW9wWc/16ae8tV7Vz8DvzPH3+OpP8eYu5aQD9I/H2PuWkI+wD/7FUUiR03gP2ooyOIR72M/YjJVMCqpMz8tQxzr4jYaP6Xi7MNn2DU/FmpN845TtD+9UpYhjnXVP5Vothgpgao/H2DApXaZpD/hehSuR+HCP5/1AzHjgOA/sJeTPS8CkD/8qfHSTWJgP4fxrSK2zt4/uUOwl5M92z/NzMzMzMy8P+wsjXJDZtE/j53KfBoK4D8u/yH99nXuP0KFEH1kYOQ/e1vW6pjg3T9tnaVRbsjiPw==",
             "dtype": "f8"
            },
            "sizemode": "area",
            "sizeref": 0.006043951612903227
           },
           "mode": "markers",
           "name": "",
           "showlegend": false,
           "subplot": "map",
           "type": "scattermap"
          }
         ],
         "name": "2021-04"
        },
        {
         "data": [
          {
           "hovertemplate": "month=2021-05<br>HTEURNEIGE_Q=%{marker.color}<br>lat=%{lat}<br>lon=%{lon}<extra></extra>",
           "lat": {
            "bdata": "GNilFLSrRkCtqV0k6bRGQOjesz0evkZAm+q6X1PHRkD/GkaOZ6tGQABCMISctEZAAFKvg9G9RkDuttWLBsdGQG43+PgXq0ZAYvcM1Ey0RkAzxay4gb1GQKMF6qW2xkZATM7WmuvPRkC6Xg2gkKFGQB/o1lTFqkZAO5cOFPqzRkCvGMfcLr1GQMLJEq5jxkZAk7gDh5jPRkA/pKtmzdhGQAj9G0wC4kZAFh4O/dGORkBVnm99BphGQJR3Dgo7oUZA7u39oW+qRkDb9VBEpLNGQEI0GvDYvEZAt/5rpA3GRkCOW1hgQs9GQA0C8SJ32EZAllpH66vhRkACIx2VeY5GQJY+s/etl0ZAyc57ZuKgRkDfD4rgFqpGQGPu8GRLs0ZAUAfD8n+8RkApqBKJtMVGQEHP8SbpzkZAwStyyx3YRkDqHaV1UuFGQC+3mySH6kZA3hrDIR6ORkBDg4dlUpdGQJMcc7WGoEZA6RqZELupRkCoYgx277JGQI+I3+QjvEZA39EkXFjFRkCQNO7ajM5GQHNXTWDB10ZAWZJT6/XgRkCa1fWe72hGQIoROokjckZA8ApKg1d7RkBzLjqMi4RGQEmYHqO/jUZASRQLx/OWRkA2HhP3J6BGQMzhSTJcqUZA+TrCd5CyRkD6tY7GxLtGQIiPwR35xEZABbVsfC3ORkDuQieYjmhGQFMivWHCcUZALd8SO/Z6RkCi3TwjKoRGQGoxTxlejUZA1Z1dHJKWRkD9lXsrxp9GQAM9vEX6qEZAEmYyai6yRkCslPCXYrtGQLb8CM6WxEZAEOke8/ZeRkD75WKKKmhGQBPWRTJecUZAimXc6ZF6RkDX7zqwxYNGQOV/dYT5jEZAMtCfZS2WRkAHS81SYZ9GQIUKEUuVqEZA7dh9TcmxRkAD2jABkF5GQPr+yXXDZ0ZABYT1+vZwRkBkDMiPKnpGQJ7qVTNeg0ZAkyCz5JGMRkCzX/OixZVGQBcJKm35nkZAui1qQi2oRkCgjsYhYbFGQHTOflpZZ0ZAZ4Tuu4xwRkDWQ/gswHlGQAFWsKzzgkZAf7MqOieMRkBuBHvUWpVGQICgtHqOnkZAQo/qK8KnRkAuiC/n9bBGQNbylaspukZAbzBUdR9wRkCIfZDBUnlGQDu8bRyGgkZAndv/hLmLRkArelr67JRGQPXlkHsgnkZAyhy2B1SnRkBjzNydh7BGQP7hSievb0ZAkiy1TeJ4RkC8qbKCFYJGQME+V8VIi0ZAtGfzRRawRkCK8/fRO29GQE7Fi9FueEZA87+BdcVuRkA2vTpN+HdGQA==",
            "dtype": "f8"
           },
           "legendgroup": "",
           "lon": {
            "bdata": "fdMnuEhZE0DmL32SnFwTQNK/OqTyXxNAogWY70pjE0AzeK7LucETQMUBOFowxRNA6VQ7N6nIE0DN9QZlJMwTQPY8B5MoKhRAbH9508EtFEB2EnR5XTEUQPp2XIf7NBRAimCb/5s4FEAaU1yB244UQDZ+OveUkhRA+yYz51CWFED0eb9TD5oUQGbvWz/QnRRA01CIrJOhFEB/vsedWaUUQAi1oBUiqRRAQ1VZZnLvFECNhd5XSfMUQPaUWdUi9xRAgsBT4f76FED8o1l+3f4UQI0/+66+AhVAYP3LdaIGFUBWt2LViAoVQMC8WdBxDhVAKthOaV0SFUB4EihJclcVQH/upKBrWxVAiz3YmmdfFUCxzmE6ZmMVQKzt5IFnZxVAoWgIdGtrFUDtlXYTcm8VQBda3WJ7cxVAtS3uZId3FUBqI14clnsVQPDt5YunfxVA4jrdi2+/FUBga7VGi8MVQO0rAbupxxVA8td268rLFUBNZdDa7s8VQENqy4sV1BVAiSMpAT/YFUBTeq49a9wVQIkKJESa4BVA2ihWF8zkFUD/UhGUjRYWQNnzlIrAGhZA4N02RvYeFkACT7XJLiMWQCwl0hdqJxZALuRSM6grFkDNuwAf6S8WQN2NqN0sNBZAXfQacnM4FkCpRyzfvDwWQLSktCcJQRZATvOPTlhFFkDGxoG8/H0WQEAk7LZRghZAt8XRjKmGFkBw9AZBBIsWQJS2Y9ZhjxZAWtXDT8KTFkBG4wawJZgWQGlCEPqLnBZAwSrHMPWgFkCEsBZXYaUWQJvK7W/QqRZAUJ61//TgFkDQGUgMaeUWQHCiyAfg6RZAIrMd9VnuFkBWmjHX1vIWQEiA8rBW9xZAXm1Shdn7FkCVUEdXXwAXQOwFyynoBBdA+Fzb/3MJF0D6Vp54PEgXQFL1IG3STBdANS/RZmtRF0DFYatoB1YXQEzar3WmWhdAvdzikEhfF0BFqky97WMXQN6H+f2VaBdA8sT5VUFtF0AkwmHI73EXQLbPzMg4tBdA116wvfO4F0AXZw/Rsb0XQBYuAAZzwhdA+wydXzfHF0AZdwTh/ssXQMYAWY3J0BdAKGbBZ5fVF0AlkmhzaNoXQEGlfbM83xdAwbUU9nggGEAnT+IXWSUYQKUMpXE8KhhAzlWNBiMvGEBWyc/ZDDQYQBxEpe75OBhAGOhKSOo9GECDIwLq3UIYQCTFsPn6hxhAibnAJv2MGEAgByWiApIYQP8cJG8LlxhAcwlFFVCrGECRRzuyee8YQAN2S+ed9BhAfj1vCfVWGUBEoSdDO1wZQA==",
            "dtype": "f8"
           },
           "marker": {
            "color": {
             "bdata": "AAAAAAAAAAAAAAAAAAAAAAAAAAAAAAAAAAAAAAAAAAAAAAAAAAAAAAAAAAAAAAAAAAAAAAAAAAAAAAAAAAAAAAAAAAAAAAAAAAAAAAAAAAAAAAAAAAAAAAAAAAAAAAAAAAAAAAAAAAAAAAAAAAAAAAAAAAAAAAAAAAAAAAAAAAAAAAAAAAAAAAAAAAAAAAAAAAAAAAAAAAAAAAAAAAAAAAAAAAAAAAAAAAAAAAAAAAAAAAAAAAAAAAAAAAAAAAAAAAAAAAAAAAAAAAAAAAAAAAAAAAAAAAAAAAAAAAAAAAAAAAAAAAAAAAAAAAAAAAAAAAAAAAAAAAAAAAAAAAAAAAAAAAAAAAAAAAAAAAAAAAAAAAAAAAAAAAAAAAAAAAAAAAAAAAAAAAAAAAAAAAAAAAAAAAAAAAAAAAAAAAAAAAAAAAAAAAAAAAAAAAAAAAAAAAAAAAAAAAAAAAAAAAAAAAAAAAAAAAAAAAAAAAAAAAAAAAAAAAAAAAAAAAAAAAAAAAAAAAAAAAAAAAAAAAAAAAAAAAAAAAAAAAAAAAAAAAD8qfHSTWJQP+LgvKdnFUQ/p31GpzRBNz8dRDOomukAPwAAAAAAAAAAAAAAAAAAAAAAAAAAAAAAAAAAAAAAAAAAAAAAAAAAAAAAAAAAAAAAAAAAAAAAAAAAAAAAAAAAAAAAAAAAAAAAAAAAAAAAAAAAAAAAAAAAAAAdRDOomukQPyvmTPxnXhk/AAAAAAAAAAAAAAAAAAAAAAAAAAAAAAAAAAAAAAAAAAAAAAAAAAAAAAAAAAAAAAAAHUQzqJrpAD8AAAAAAAAAAAAAAAAAAAAAAAAAAAAAAAAAAAAAAAAAAAAAAAAAAAAAAAAAAAAAAAAAAAAAAAAAACQVQFIBJCU/AAAAAAAAAABUUZt7GyB+P6GsOf3NBjM/AAAAAAAAAAAdRDOomulAPx1EM6ia6UA/HUQzqJrpED8AAAAAAAAAAAAAAAAAAAAAM7dZps6YPT+VhR4mtS5fPwAAAAAAAAAAM7dZps6YLT8WR8TXquKTP9Vxd1CqOsg/XgNPnFYroD8ysOfPR8vZPyQVQFIBJCU/AAAAAAAAAAAAAAAAAAAAAAAAAAAAAAAAKBOKMqEokz9yjYE9fz7SP4ufu/i5i58/z+iUJugCXD/4lXZfafelP7Tep1HkgNs/4uC8p2cVRD8AAAAAAAAAACyrKxkh+d8/e+hLIViu2z/ojbQRfE60P3cAM9T8D9I/hDykLqpQ0T/HUqlfyC3xP0YGa2SwRuY/SzeJQWDl5D/rZ+mxyVHqPw==",
             "dtype": "f8"
            },
            "coloraxis": "coloraxis",
            "size": {
             "bdata": "AAAAAAAAAAAAAAAAAAAAAAAAAAAAAAAAAAAAAAAAAAAAAAAAAAAAAAAAAAAAAAAAAAAAAAAAAAAAAAAAAAAAAAAAAAAAAAAAAAAAAAAAAAAAAAAAAAAAAAAAAAAAAAAAAAAAAAAAAAAAAAAAAAAAAAAAAAAAAAAAAAAAAAAAAAAAAAAAAAAAAAAAAAAAAAAAAAAAAAAAAAAAAAAAAAAAAAAAAAAAAAAAAAAAAAAAAAAAAAAAAAAAAAAAAAAAAAAAAAAAAAAAAAAAAAAAAAAAAAAAAAAAAAAAAAAAAAAAAAAAAAAAAAAAAAAAAAAAAAAAAAAAAAAAAAAAAAAAAAAAAAAAAAAAAAAAAAAAAAAAAAAAAAAAAAAAAAAAAAAAAAAAAAAAAAAAAAAAAAAAAAAAAAAAAAAAAAAAAAAAAAAAAAAAAAAAAAAAAAAAAAAAAAAAAAAAAAAAAAAAAAAAAAAAAAAAAAAAAAAAAAAAAAAAAAAAAAAAAAAAAAAAAAAAAAAAAAAAAAAAAAAAAAAAAAAAAAAAAAAAAAAAAAAAAAAAAAD8qfHSTWJQP+LgvKdnFUQ/p31GpzRBNz8dRDOomukAPwAAAAAAAAAAAAAAAAAAAAAAAAAAAAAAAAAAAAAAAAAAAAAAAAAAAAAAAAAAAAAAAAAAAAAAAAAAAAAAAAAAAAAAAAAAAAAAAAAAAAAAAAAAAAAAAAAAAAAdRDOomukQPyvmTPxnXhk/AAAAAAAAAAAAAAAAAAAAAAAAAAAAAAAAAAAAAAAAAAAAAAAAAAAAAAAAAAAAAAAAHUQzqJrpAD8AAAAAAAAAAAAAAAAAAAAAAAAAAAAAAAAAAAAAAAAAAAAAAAAAAAAAAAAAAAAAAAAAAAAAAAAAACQVQFIBJCU/AAAAAAAAAABUUZt7GyB+P6GsOf3NBjM/AAAAAAAAAAAdRDOomulAPx1EM6ia6UA/HUQzqJrpED8AAAAAAAAAAAAAAAAAAAAAM7dZps6YPT+VhR4mtS5fPwAAAAAAAAAAM7dZps6YLT8WR8TXquKTP9Vxd1CqOsg/XgNPnFYroD8ysOfPR8vZPyQVQFIBJCU/AAAAAAAAAAAAAAAAAAAAAAAAAAAAAAAAKBOKMqEokz9yjYE9fz7SP4ufu/i5i58/z+iUJugCXD/4lXZfafelP7Tep1HkgNs/4uC8p2cVRD8AAAAAAAAAACyrKxkh+d8/e+hLIViu2z/ojbQRfE60P3cAM9T8D9I/hDykLqpQ0T/HUqlfyC3xP0YGa2SwRuY/SzeJQWDl5D/rZ+mxyVHqPw==",
             "dtype": "f8"
            },
            "sizemode": "area",
            "sizeref": 0.006043951612903227
           },
           "mode": "markers",
           "name": "",
           "showlegend": false,
           "subplot": "map",
           "type": "scattermap"
          }
         ],
         "name": "2021-05"
        },
        {
         "data": [
          {
           "hovertemplate": "month=2021-06<br>HTEURNEIGE_Q=%{marker.color}<br>lat=%{lat}<br>lon=%{lon}<extra></extra>",
           "lat": {
            "bdata": "GNilFLSrRkCtqV0k6bRGQOjesz0evkZAm+q6X1PHRkD/GkaOZ6tGQABCMISctEZAAFKvg9G9RkDuttWLBsdGQG43+PgXq0ZAYvcM1Ey0RkAzxay4gb1GQKMF6qW2xkZATM7WmuvPRkC6Xg2gkKFGQB/o1lTFqkZAO5cOFPqzRkCvGMfcLr1GQMLJEq5jxkZAk7gDh5jPRkA/pKtmzdhGQAj9G0wC4kZAFh4O/dGORkBVnm99BphGQJR3Dgo7oUZA7u39oW+qRkDb9VBEpLNGQEI0GvDYvEZAt/5rpA3GRkCOW1hgQs9GQA0C8SJ32EZAllpH66vhRkACIx2VeY5GQJY+s/etl0ZAyc57ZuKgRkDfD4rgFqpGQGPu8GRLs0ZAUAfD8n+8RkApqBKJtMVGQEHP8SbpzkZAwStyyx3YRkDqHaV1UuFGQC+3mySH6kZA3hrDIR6ORkBDg4dlUpdGQJMcc7WGoEZA6RqZELupRkCoYgx277JGQI+I3+QjvEZA39EkXFjFRkCQNO7ajM5GQHNXTWDB10ZAWZJT6/XgRkCa1fWe72hGQIoROokjckZA8ApKg1d7RkBzLjqMi4RGQEmYHqO/jUZASRQLx/OWRkA2HhP3J6BGQMzhSTJcqUZA+TrCd5CyRkD6tY7GxLtGQIiPwR35xEZABbVsfC3ORkDuQieYjmhGQFMivWHCcUZALd8SO/Z6RkCi3TwjKoRGQGoxTxlejUZA1Z1dHJKWRkD9lXsrxp9GQAM9vEX6qEZAEmYyai6yRkCslPCXYrtGQLb8CM6WxEZAEOke8/ZeRkD75WKKKmhGQBPWRTJecUZAimXc6ZF6RkDX7zqwxYNGQOV/dYT5jEZAMtCfZS2WRkAHS81SYZ9GQIUKEUuVqEZA7dh9TcmxRkAD2jABkF5GQPr+yXXDZ0ZABYT1+vZwRkBkDMiPKnpGQJ7qVTNeg0ZAkyCz5JGMRkCzX/OixZVGQBcJKm35nkZAui1qQi2oRkCgjsYhYbFGQHTOflpZZ0ZAZ4Tuu4xwRkDWQ/gswHlGQAFWsKzzgkZAf7MqOieMRkBuBHvUWpVGQICgtHqOnkZAQo/qK8KnRkAuiC/n9bBGQNbylaspukZAbzBUdR9wRkCIfZDBUnlGQDu8bRyGgkZAndv/hLmLRkArelr67JRGQPXlkHsgnkZAyhy2B1SnRkBjzNydh7BGQP7hSievb0ZAkiy1TeJ4RkC8qbKCFYJGQME+V8VIi0ZAtGfzRRawRkCK8/fRO29GQE7Fi9FueEZA87+BdcVuRkA2vTpN+HdGQA==",
            "dtype": "f8"
           },
           "legendgroup": "",
           "lon": {
            "bdata": "fdMnuEhZE0DmL32SnFwTQNK/OqTyXxNAogWY70pjE0AzeK7LucETQMUBOFowxRNA6VQ7N6nIE0DN9QZlJMwTQPY8B5MoKhRAbH9508EtFEB2EnR5XTEUQPp2XIf7NBRAimCb/5s4FEAaU1yB244UQDZ+OveUkhRA+yYz51CWFED0eb9TD5oUQGbvWz/QnRRA01CIrJOhFEB/vsedWaUUQAi1oBUiqRRAQ1VZZnLvFECNhd5XSfMUQPaUWdUi9xRAgsBT4f76FED8o1l+3f4UQI0/+66+AhVAYP3LdaIGFUBWt2LViAoVQMC8WdBxDhVAKthOaV0SFUB4EihJclcVQH/upKBrWxVAiz3YmmdfFUCxzmE6ZmMVQKzt5IFnZxVAoWgIdGtrFUDtlXYTcm8VQBda3WJ7cxVAtS3uZId3FUBqI14clnsVQPDt5YunfxVA4jrdi2+/FUBga7VGi8MVQO0rAbupxxVA8td268rLFUBNZdDa7s8VQENqy4sV1BVAiSMpAT/YFUBTeq49a9wVQIkKJESa4BVA2ihWF8zkFUD/UhGUjRYWQNnzlIrAGhZA4N02RvYeFkACT7XJLiMWQCwl0hdqJxZALuRSM6grFkDNuwAf6S8WQN2NqN0sNBZAXfQacnM4FkCpRyzfvDwWQLSktCcJQRZATvOPTlhFFkDGxoG8/H0WQEAk7LZRghZAt8XRjKmGFkBw9AZBBIsWQJS2Y9ZhjxZAWtXDT8KTFkBG4wawJZgWQGlCEPqLnBZAwSrHMPWgFkCEsBZXYaUWQJvK7W/QqRZAUJ61//TgFkDQGUgMaeUWQHCiyAfg6RZAIrMd9VnuFkBWmjHX1vIWQEiA8rBW9xZAXm1Shdn7FkCVUEdXXwAXQOwFyynoBBdA+Fzb/3MJF0D6Vp54PEgXQFL1IG3STBdANS/RZmtRF0DFYatoB1YXQEzar3WmWhdAvdzikEhfF0BFqky97WMXQN6H+f2VaBdA8sT5VUFtF0AkwmHI73EXQLbPzMg4tBdA116wvfO4F0AXZw/Rsb0XQBYuAAZzwhdA+wydXzfHF0AZdwTh/ssXQMYAWY3J0BdAKGbBZ5fVF0AlkmhzaNoXQEGlfbM83xdAwbUU9nggGEAnT+IXWSUYQKUMpXE8KhhAzlWNBiMvGEBWyc/ZDDQYQBxEpe75OBhAGOhKSOo9GECDIwLq3UIYQCTFsPn6hxhAibnAJv2MGEAgByWiApIYQP8cJG8LlxhAcwlFFVCrGECRRzuyee8YQAN2S+ed9BhAfj1vCfVWGUBEoSdDO1wZQA==",
            "dtype": "f8"
           },
           "marker": {
            "color": {
             "bdata": "AAAAAAAAAAAAAAAAAAAAAAAAAAAAAAAAAAAAAAAAAAAAAAAAAAAAAAAAAAAAAAAAAAAAAAAAAAAAAAAAAAAAAAAAAAAAAAAAAAAAAAAAAAAAAAAAAAAAAAAAAAAAAAAAAAAAAAAAAAAAAAAAAAAAAAAAAAAAAAAAAAAAAAAAAAAAAAAAAAAAAAAAAAAAAAAAAAAAAAAAAAAAAAAAAAAAAAAAAAAAAAAAAAAAAAAAAAAAAAAAAAAAAAAAAAAAAAAAAAAAAAAAAAAAAAAAAAAAAAAAAAAAAAAAAAAAAAAAAAAAAAAAAAAAAAAAAAAAAAAAAAAAAAAAAAAAAAAAAAAAAAAAAAAAAAAAAAAAAAAAAAAAAAAAAAAAAAAAAAAAAAAAAAAAAAAAAAAAAAAAAAAAAAAAAAAAAAAAAAAAAAAAAAAAAAAAAAAAAAAAAAAAAAAAAAAAAAAAAAAAAAAAAAAAAAAAAAAAAAAAAAAAAAAAAAAAAAAAAAAAAAAAAAAAAAAAAAAAAAAAAAAAAAAAAAAAAAAAAAAAAAAAAAAAAAAAAAAAAAAAAAAAAAAAAAAAAAAAAAAAAAAAAAAAAAAAAAAAAAAAAAAAAAAAAAAAAAAAAAAAAAAAAAAAAAAAAAAAAAAAAAAAAAAAAAAAAAAAAAAAAAAAAAAAAAAAAAAAAAAAAAAAAAAAAAAAAAAAAAAAAAAAAAAAAAAAAAAAAAAAAAAAAAAAAAAAAAAAAAAAAAAAAAAAAAAAAAAAAAAAAAAAAAAAAAAAAAAAAAAAAAAAAAAAAAAAAAAAAAAAAAAAAAAAAAAAAAAAAAAAAAAAAAAAAAAAAAAAAAAAAAAAAAAAAAAAAAAAAAAAAAAAAAAAAAAAAAAAAAAAAAAAAAAAAAAAAAAAAAAAAAAAAAAAAAAAAAAAAAAAAAAAAAAAAAAAAAAAAAAAAAAAAAAAAAAAAAAAAAAAAAAAAAAAAAAAAAAAAAAAAAAAAAAAAAAAAAAAAAAAAAAAAAAAAAAAAAAAAAAAAAAAAAAAAAAAAAAAAAAAAAAAACDSb18Hzok/AAAAAAAAAADiWBe30QCePwAAAAAAAAAAAAAAAAAAAAAAAAAAAAAAAAAAAAAAAAAAAAAAAAAAAAAxvlXE1lmKPwAAAAAAAAAAAAAAAAAAAAAegr2c7HkRPw502kCnDaQ/AAAAAAAAAAAAAAAAAAAAACc0NmHo/qc/pp7y1XsXnD8cVzaGE6tZP+q63biyMYw/wz9/tBLNhj/kXnMhaUrNP6Xi7MNn2LU/XtxGA3gLtD8VsXWWRrnBPw==",
             "dtype": "f8"
            },
            "coloraxis": "coloraxis",
            "size": {
             "bdata": "AAAAAAAAAAAAAAAAAAAAAAAAAAAAAAAAAAAAAAAAAAAAAAAAAAAAAAAAAAAAAAAAAAAAAAAAAAAAAAAAAAAAAAAAAAAAAAAAAAAAAAAAAAAAAAAAAAAAAAAAAAAAAAAAAAAAAAAAAAAAAAAAAAAAAAAAAAAAAAAAAAAAAAAAAAAAAAAAAAAAAAAAAAAAAAAAAAAAAAAAAAAAAAAAAAAAAAAAAAAAAAAAAAAAAAAAAAAAAAAAAAAAAAAAAAAAAAAAAAAAAAAAAAAAAAAAAAAAAAAAAAAAAAAAAAAAAAAAAAAAAAAAAAAAAAAAAAAAAAAAAAAAAAAAAAAAAAAAAAAAAAAAAAAAAAAAAAAAAAAAAAAAAAAAAAAAAAAAAAAAAAAAAAAAAAAAAAAAAAAAAAAAAAAAAAAAAAAAAAAAAAAAAAAAAAAAAAAAAAAAAAAAAAAAAAAAAAAAAAAAAAAAAAAAAAAAAAAAAAAAAAAAAAAAAAAAAAAAAAAAAAAAAAAAAAAAAAAAAAAAAAAAAAAAAAAAAAAAAAAAAAAAAAAAAAAAAAAAAAAAAAAAAAAAAAAAAAAAAAAAAAAAAAAAAAAAAAAAAAAAAAAAAAAAAAAAAAAAAAAAAAAAAAAAAAAAAAAAAAAAAAAAAAAAAAAAAAAAAAAAAAAAAAAAAAAAAAAAAAAAAAAAAAAAAAAAAAAAAAAAAAAAAAAAAAAAAAAAAAAAAAAAAAAAAAAAAAAAAAAAAAAAAAAAAAAAAAAAAAAAAAAAAAAAAAAAAAAAAAAAAAAAAAAAAAAAAAAAAAAAAAAAAAAAAAAAAAAAAAAAAAAAAAAAAAAAAAAAAAAAAAAAAAAAAAAAAAAAAAAAAAAAAAAAAAAAAAAAAAAAAAAAAAAAAAAAAAAAAAAAAAAAAAAAAAAAAAAAAAAAAAAAAAAAAAAAAAAAAAAAAAAAAAAAAAAAAAAAAAAAAAAAAAAAAAAAAAAAAAAAAAAAAAAAAAAAAAAAAAAAAAAAAAAAAAAAAAAAAAAAAAAAAAAAAAAAAAAAAAAAAAAAACDSb18Hzok/AAAAAAAAAADiWBe30QCePwAAAAAAAAAAAAAAAAAAAAAAAAAAAAAAAAAAAAAAAAAAAAAAAAAAAAAxvlXE1lmKPwAAAAAAAAAAAAAAAAAAAAAegr2c7HkRPw502kCnDaQ/AAAAAAAAAAAAAAAAAAAAACc0NmHo/qc/pp7y1XsXnD8cVzaGE6tZP+q63biyMYw/wz9/tBLNhj/kXnMhaUrNP6Xi7MNn2LU/XtxGA3gLtD8VsXWWRrnBPw==",
             "dtype": "f8"
            },
            "sizemode": "area",
            "sizeref": 0.006043951612903227
           },
           "mode": "markers",
           "name": "",
           "showlegend": false,
           "subplot": "map",
           "type": "scattermap"
          }
         ],
         "name": "2021-06"
        },
        {
         "data": [
          {
           "hovertemplate": "month=2021-07<br>HTEURNEIGE_Q=%{marker.color}<br>lat=%{lat}<br>lon=%{lon}<extra></extra>",
           "lat": {
            "bdata": "GNilFLSrRkCtqV0k6bRGQOjesz0evkZAm+q6X1PHRkD/GkaOZ6tGQABCMISctEZAAFKvg9G9RkDuttWLBsdGQG43+PgXq0ZAYvcM1Ey0RkAzxay4gb1GQKMF6qW2xkZATM7WmuvPRkC6Xg2gkKFGQB/o1lTFqkZAO5cOFPqzRkCvGMfcLr1GQMLJEq5jxkZAk7gDh5jPRkA/pKtmzdhGQAj9G0wC4kZAFh4O/dGORkBVnm99BphGQJR3Dgo7oUZA7u39oW+qRkDb9VBEpLNGQEI0GvDYvEZAt/5rpA3GRkCOW1hgQs9GQA0C8SJ32EZAllpH66vhRkACIx2VeY5GQJY+s/etl0ZAyc57ZuKgRkDfD4rgFqpGQGPu8GRLs0ZAUAfD8n+8RkApqBKJtMVGQEHP8SbpzkZAwStyyx3YRkDqHaV1UuFGQC+3mySH6kZA3hrDIR6ORkBDg4dlUpdGQJMcc7WGoEZA6RqZELupRkCoYgx277JGQI+I3+QjvEZA39EkXFjFRkCQNO7ajM5GQHNXTWDB10ZAWZJT6/XgRkCa1fWe72hGQIoROokjckZA8ApKg1d7RkBzLjqMi4RGQEmYHqO/jUZASRQLx/OWRkA2HhP3J6BGQMzhSTJcqUZA+TrCd5CyRkD6tY7GxLtGQIiPwR35xEZABbVsfC3ORkDuQieYjmhGQFMivWHCcUZALd8SO/Z6RkCi3TwjKoRGQGoxTxlejUZA1Z1dHJKWRkD9lXsrxp9GQAM9vEX6qEZAEmYyai6yRkCslPCXYrtGQLb8CM6WxEZAEOke8/ZeRkD75WKKKmhGQBPWRTJecUZAimXc6ZF6RkDX7zqwxYNGQOV/dYT5jEZAMtCfZS2WRkAHS81SYZ9GQIUKEUuVqEZA7dh9TcmxRkAD2jABkF5GQPr+yXXDZ0ZABYT1+vZwRkBkDMiPKnpGQJ7qVTNeg0ZAkyCz5JGMRkCzX/OixZVGQBcJKm35nkZAui1qQi2oRkCgjsYhYbFGQHTOflpZZ0ZAZ4Tuu4xwRkDWQ/gswHlGQAFWsKzzgkZAf7MqOieMRkBuBHvUWpVGQICgtHqOnkZAQo/qK8KnRkAuiC/n9bBGQNbylaspukZAbzBUdR9wRkCIfZDBUnlGQDu8bRyGgkZAndv/hLmLRkArelr67JRGQPXlkHsgnkZAyhy2B1SnRkBjzNydh7BGQP7hSievb0ZAkiy1TeJ4RkC8qbKCFYJGQME+V8VIi0ZAtGfzRRawRkCK8/fRO29GQE7Fi9FueEZA87+BdcVuRkA2vTpN+HdGQA==",
            "dtype": "f8"
           },
           "legendgroup": "",
           "lon": {
            "bdata": "fdMnuEhZE0DmL32SnFwTQNK/OqTyXxNAogWY70pjE0AzeK7LucETQMUBOFowxRNA6VQ7N6nIE0DN9QZlJMwTQPY8B5MoKhRAbH9508EtFEB2EnR5XTEUQPp2XIf7NBRAimCb/5s4FEAaU1yB244UQDZ+OveUkhRA+yYz51CWFED0eb9TD5oUQGbvWz/QnRRA01CIrJOhFEB/vsedWaUUQAi1oBUiqRRAQ1VZZnLvFECNhd5XSfMUQPaUWdUi9xRAgsBT4f76FED8o1l+3f4UQI0/+66+AhVAYP3LdaIGFUBWt2LViAoVQMC8WdBxDhVAKthOaV0SFUB4EihJclcVQH/upKBrWxVAiz3YmmdfFUCxzmE6ZmMVQKzt5IFnZxVAoWgIdGtrFUDtlXYTcm8VQBda3WJ7cxVAtS3uZId3FUBqI14clnsVQPDt5YunfxVA4jrdi2+/FUBga7VGi8MVQO0rAbupxxVA8td268rLFUBNZdDa7s8VQENqy4sV1BVAiSMpAT/YFUBTeq49a9wVQIkKJESa4BVA2ihWF8zkFUD/UhGUjRYWQNnzlIrAGhZA4N02RvYeFkACT7XJLiMWQCwl0hdqJxZALuRSM6grFkDNuwAf6S8WQN2NqN0sNBZAXfQacnM4FkCpRyzfvDwWQLSktCcJQRZATvOPTlhFFkDGxoG8/H0WQEAk7LZRghZAt8XRjKmGFkBw9AZBBIsWQJS2Y9ZhjxZAWtXDT8KTFkBG4wawJZgWQGlCEPqLnBZAwSrHMPWgFkCEsBZXYaUWQJvK7W/QqRZAUJ61//TgFkDQGUgMaeUWQHCiyAfg6RZAIrMd9VnuFkBWmjHX1vIWQEiA8rBW9xZAXm1Shdn7FkCVUEdXXwAXQOwFyynoBBdA+Fzb/3MJF0D6Vp54PEgXQFL1IG3STBdANS/RZmtRF0DFYatoB1YXQEzar3WmWhdAvdzikEhfF0BFqky97WMXQN6H+f2VaBdA8sT5VUFtF0AkwmHI73EXQLbPzMg4tBdA116wvfO4F0AXZw/Rsb0XQBYuAAZzwhdA+wydXzfHF0AZdwTh/ssXQMYAWY3J0BdAKGbBZ5fVF0AlkmhzaNoXQEGlfbM83xdAwbUU9nggGEAnT+IXWSUYQKUMpXE8KhhAzlWNBiMvGEBWyc/ZDDQYQBxEpe75OBhAGOhKSOo9GECDIwLq3UIYQCTFsPn6hxhAibnAJv2MGEAgByWiApIYQP8cJG8LlxhAcwlFFVCrGECRRzuyee8YQAN2S+ed9BhAfj1vCfVWGUBEoSdDO1wZQA==",
            "dtype": "f8"
           },
           "marker": {
            "color": {
             "bdata": "AAAAAAAAAAAAAAAAAAAAAAAAAAAAAAAAAAAAAAAAAAAAAAAAAAAAAAAAAAAAAAAAAAAAAAAAAAAAAAAAAAAAAAAAAAAAAAAAAAAAAAAAAAAAAAAAAAAAAAAAAAAAAAAAAAAAAAAAAAAAAAAAAAAAAAAAAAAAAAAAAAAAAAAAAAAAAAAAAAAAAAAAAAAAAAAAAAAAAAAAAAAAAAAAAAAAAAAAAAAAAAAAAAAAAAAAAAAAAAAAAAAAAAAAAAAAAAAAAAAAAAAAAAAAAAAAAAAAAAAAAAAAAAAAAAAAAAAAAAAAAAAAAAAAAAAAAAAAAAAAAAAAAAAAAAAAAAAAAAAAAAAAAAAAAAAAAAAAAAAAAAAAAAAAAAAAAAAAAAAAAAAAAAAAAAAAAAAAAAAAAAAAAAAAAAAAAAAAAAAAAAAAAAAAAAAAAAAAAAAAAAAAAAAAAAAAAAAAAAAAAAAAAAAAAAAAAAAAAAAAAAAAAAAAAAAAAAAAAAAAAAAAAAAAAAAAAAAAAAAAAAAAAAAAAAAAAAAAAAAAAAAAAAAAAAAAAAAAAAAAAAAAAAAAAAAAAAAAAAAAAAAAAAAAAAAAAAAAAAAAAAAAAAAAAAAAAAAAAAAAAAAAAAAAAAAAAAAAAAAAAAAAAAAAAAAAAAAAAAAAAAAAAAAAAAAAAAAAAAAAAAAAAAAAAAAAAAAAAAAAAAAAAAAAAAAAAAAAAAAAAAAAAAAAAAAAAAAAAAAAAAAAAAAAAAAAAAAAAAAAAAAAAAAAAAAAAAAAAAAAAAAAAAAAAAAAAAAAAAAAAAAAAAAAAAAAAAAAAAAAAAAAAAAAAAAAAAAAAAAAAAAAAAAAAAAAAAAAAAAAAAAAAAAAAAAAAAAAAAAAAAAAAAAAAAAAAAAAAAAAAAAAAAAAAAAAAAAAAAAAAAAAAAAAAAAAAAAAAAAAAAAAAAAAAAAAAAAAAAAAAAAAAAAAAAAAAAAAAAAAAAAAAAAAAAAAAAAAAAAAAAAAAAAAAAAAAAAAAAAAAAAAAAAAAAAAAAAAAAAAAAAAAAAAAAAAAAAAAAAAAAAAAAAAAAAAAAAAAAAAAAAAAAAAAAAAAAAAAAAAAAAAAAAAAAAAAAAAAAAAAAAAAAAAAAAdRDOomukAPwAAAAAAAAAAAAAAAAAAAAAAAAAAAAAAAAAAAAAAAAAAAAAAAAAAAAAAAAAAAAAAAB1EM6ia6RA/HUQzqJrpAD8AAAAAAAAAAB1EM6ia6QA/AAAAAAAAAABmScP8mjJWPyvmTPxnXik/K+ZM/GdeGT/psclRzk9IPw==",
             "dtype": "f8"
            },
            "coloraxis": "coloraxis",
            "size": {
             "bdata": "AAAAAAAAAAAAAAAAAAAAAAAAAAAAAAAAAAAAAAAAAAAAAAAAAAAAAAAAAAAAAAAAAAAAAAAAAAAAAAAAAAAAAAAAAAAAAAAAAAAAAAAAAAAAAAAAAAAAAAAAAAAAAAAAAAAAAAAAAAAAAAAAAAAAAAAAAAAAAAAAAAAAAAAAAAAAAAAAAAAAAAAAAAAAAAAAAAAAAAAAAAAAAAAAAAAAAAAAAAAAAAAAAAAAAAAAAAAAAAAAAAAAAAAAAAAAAAAAAAAAAAAAAAAAAAAAAAAAAAAAAAAAAAAAAAAAAAAAAAAAAAAAAAAAAAAAAAAAAAAAAAAAAAAAAAAAAAAAAAAAAAAAAAAAAAAAAAAAAAAAAAAAAAAAAAAAAAAAAAAAAAAAAAAAAAAAAAAAAAAAAAAAAAAAAAAAAAAAAAAAAAAAAAAAAAAAAAAAAAAAAAAAAAAAAAAAAAAAAAAAAAAAAAAAAAAAAAAAAAAAAAAAAAAAAAAAAAAAAAAAAAAAAAAAAAAAAAAAAAAAAAAAAAAAAAAAAAAAAAAAAAAAAAAAAAAAAAAAAAAAAAAAAAAAAAAAAAAAAAAAAAAAAAAAAAAAAAAAAAAAAAAAAAAAAAAAAAAAAAAAAAAAAAAAAAAAAAAAAAAAAAAAAAAAAAAAAAAAAAAAAAAAAAAAAAAAAAAAAAAAAAAAAAAAAAAAAAAAAAAAAAAAAAAAAAAAAAAAAAAAAAAAAAAAAAAAAAAAAAAAAAAAAAAAAAAAAAAAAAAAAAAAAAAAAAAAAAAAAAAAAAAAAAAAAAAAAAAAAAAAAAAAAAAAAAAAAAAAAAAAAAAAAAAAAAAAAAAAAAAAAAAAAAAAAAAAAAAAAAAAAAAAAAAAAAAAAAAAAAAAAAAAAAAAAAAAAAAAAAAAAAAAAAAAAAAAAAAAAAAAAAAAAAAAAAAAAAAAAAAAAAAAAAAAAAAAAAAAAAAAAAAAAAAAAAAAAAAAAAAAAAAAAAAAAAAAAAAAAAAAAAAAAAAAAAAAAAAAAAAAAAAAAAAAAAAAAAAAAAAAAAAAAAAAAAAAAAAAAAAAAAAAAAAAAAAAAAAAAAAAAAAAAAAAAAAAAAAAAAAAAAAAAAAAAAAAAAAAAAAAAAAAAAAAAAAdRDOomukAPwAAAAAAAAAAAAAAAAAAAAAAAAAAAAAAAAAAAAAAAAAAAAAAAAAAAAAAAAAAAAAAAB1EM6ia6RA/HUQzqJrpAD8AAAAAAAAAAB1EM6ia6QA/AAAAAAAAAABmScP8mjJWPyvmTPxnXik/K+ZM/GdeGT/psclRzk9IPw==",
             "dtype": "f8"
            },
            "sizemode": "area",
            "sizeref": 0.006043951612903227
           },
           "mode": "markers",
           "name": "",
           "showlegend": false,
           "subplot": "map",
           "type": "scattermap"
          }
         ],
         "name": "2021-07"
        },
        {
         "data": [
          {
           "hovertemplate": "month=2021-08<br>HTEURNEIGE_Q=%{marker.color}<br>lat=%{lat}<br>lon=%{lon}<extra></extra>",
           "lat": {
            "bdata": "GNilFLSrRkCtqV0k6bRGQOjesz0evkZAm+q6X1PHRkD/GkaOZ6tGQABCMISctEZAAFKvg9G9RkDuttWLBsdGQG43+PgXq0ZAYvcM1Ey0RkAzxay4gb1GQKMF6qW2xkZATM7WmuvPRkC6Xg2gkKFGQB/o1lTFqkZAO5cOFPqzRkCvGMfcLr1GQMLJEq5jxkZAk7gDh5jPRkA/pKtmzdhGQAj9G0wC4kZAFh4O/dGORkBVnm99BphGQJR3Dgo7oUZA7u39oW+qRkDb9VBEpLNGQEI0GvDYvEZAt/5rpA3GRkCOW1hgQs9GQA0C8SJ32EZAllpH66vhRkACIx2VeY5GQJY+s/etl0ZAyc57ZuKgRkDfD4rgFqpGQGPu8GRLs0ZAUAfD8n+8RkApqBKJtMVGQEHP8SbpzkZAwStyyx3YRkDqHaV1UuFGQC+3mySH6kZA3hrDIR6ORkBDg4dlUpdGQJMcc7WGoEZA6RqZELupRkCoYgx277JGQI+I3+QjvEZA39EkXFjFRkCQNO7ajM5GQHNXTWDB10ZAWZJT6/XgRkCa1fWe72hGQIoROokjckZA8ApKg1d7RkBzLjqMi4RGQEmYHqO/jUZASRQLx/OWRkA2HhP3J6BGQMzhSTJcqUZA+TrCd5CyRkD6tY7GxLtGQIiPwR35xEZABbVsfC3ORkDuQieYjmhGQFMivWHCcUZALd8SO/Z6RkCi3TwjKoRGQGoxTxlejUZA1Z1dHJKWRkD9lXsrxp9GQAM9vEX6qEZAEmYyai6yRkCslPCXYrtGQLb8CM6WxEZAEOke8/ZeRkD75WKKKmhGQBPWRTJecUZAimXc6ZF6RkDX7zqwxYNGQOV/dYT5jEZAMtCfZS2WRkAHS81SYZ9GQIUKEUuVqEZA7dh9TcmxRkAD2jABkF5GQPr+yXXDZ0ZABYT1+vZwRkBkDMiPKnpGQJ7qVTNeg0ZAkyCz5JGMRkCzX/OixZVGQBcJKm35nkZAui1qQi2oRkCgjsYhYbFGQHTOflpZZ0ZAZ4Tuu4xwRkDWQ/gswHlGQAFWsKzzgkZAf7MqOieMRkBuBHvUWpVGQICgtHqOnkZAQo/qK8KnRkAuiC/n9bBGQNbylaspukZAbzBUdR9wRkCIfZDBUnlGQDu8bRyGgkZAndv/hLmLRkArelr67JRGQPXlkHsgnkZAyhy2B1SnRkBjzNydh7BGQP7hSievb0ZAkiy1TeJ4RkC8qbKCFYJGQME+V8VIi0ZAtGfzRRawRkCK8/fRO29GQE7Fi9FueEZA87+BdcVuRkA2vTpN+HdGQA==",
            "dtype": "f8"
           },
           "legendgroup": "",
           "lon": {
            "bdata": "fdMnuEhZE0DmL32SnFwTQNK/OqTyXxNAogWY70pjE0AzeK7LucETQMUBOFowxRNA6VQ7N6nIE0DN9QZlJMwTQPY8B5MoKhRAbH9508EtFEB2EnR5XTEUQPp2XIf7NBRAimCb/5s4FEAaU1yB244UQDZ+OveUkhRA+yYz51CWFED0eb9TD5oUQGbvWz/QnRRA01CIrJOhFEB/vsedWaUUQAi1oBUiqRRAQ1VZZnLvFECNhd5XSfMUQPaUWdUi9xRAgsBT4f76FED8o1l+3f4UQI0/+66+AhVAYP3LdaIGFUBWt2LViAoVQMC8WdBxDhVAKthOaV0SFUB4EihJclcVQH/upKBrWxVAiz3YmmdfFUCxzmE6ZmMVQKzt5IFnZxVAoWgIdGtrFUDtlXYTcm8VQBda3WJ7cxVAtS3uZId3FUBqI14clnsVQPDt5YunfxVA4jrdi2+/FUBga7VGi8MVQO0rAbupxxVA8td268rLFUBNZdDa7s8VQENqy4sV1BVAiSMpAT/YFUBTeq49a9wVQIkKJESa4BVA2ihWF8zkFUD/UhGUjRYWQNnzlIrAGhZA4N02RvYeFkACT7XJLiMWQCwl0hdqJxZALuRSM6grFkDNuwAf6S8WQN2NqN0sNBZAXfQacnM4FkCpRyzfvDwWQLSktCcJQRZATvOPTlhFFkDGxoG8/H0WQEAk7LZRghZAt8XRjKmGFkBw9AZBBIsWQJS2Y9ZhjxZAWtXDT8KTFkBG4wawJZgWQGlCEPqLnBZAwSrHMPWgFkCEsBZXYaUWQJvK7W/QqRZAUJ61//TgFkDQGUgMaeUWQHCiyAfg6RZAIrMd9VnuFkBWmjHX1vIWQEiA8rBW9xZAXm1Shdn7FkCVUEdXXwAXQOwFyynoBBdA+Fzb/3MJF0D6Vp54PEgXQFL1IG3STBdANS/RZmtRF0DFYatoB1YXQEzar3WmWhdAvdzikEhfF0BFqky97WMXQN6H+f2VaBdA8sT5VUFtF0AkwmHI73EXQLbPzMg4tBdA116wvfO4F0AXZw/Rsb0XQBYuAAZzwhdA+wydXzfHF0AZdwTh/ssXQMYAWY3J0BdAKGbBZ5fVF0AlkmhzaNoXQEGlfbM83xdAwbUU9nggGEAnT+IXWSUYQKUMpXE8KhhAzlWNBiMvGEBWyc/ZDDQYQBxEpe75OBhAGOhKSOo9GECDIwLq3UIYQCTFsPn6hxhAibnAJv2MGEAgByWiApIYQP8cJG8LlxhAcwlFFVCrGECRRzuyee8YQAN2S+ed9BhAfj1vCfVWGUBEoSdDO1wZQA==",
            "dtype": "f8"
           },
           "marker": {
            "color": {
             "bdata": "AAAAAAAAAAAAAAAAAAAAAAAAAAAAAAAAAAAAAAAAAAAAAAAAAAAAAAAAAAAAAAAAAAAAAAAAAAAAAAAAAAAAAAAAAAAAAAAAAAAAAAAAAAAAAAAAAAAAAAAAAAAAAAAAAAAAAAAAAAAAAAAAAAAAAAAAAAAAAAAAAAAAAAAAAAAAAAAAAAAAAAAAAAAAAAAAAAAAAAAAAAAAAAAAAAAAAAAAAAAAAAAAAAAAAAAAAAAAAAAAAAAAAAAAAAAAAAAAAAAAAAAAAAAAAAAAAAAAAAAAAAAAAAAAAAAAAAAAAAAAAAAAAAAAAAAAAAAAAAAAAAAAAAAAAAAAAAAAAAAAAAAAAAAAAAAAAAAAAAAAAAAAAAAAAAAAAAAAAAAAAAAAAAAAAAAAAAAAAAAAAAAAAAAAAAAAAAAAAAAAAAAAAAAAAAAAAAAAAAAAAAAAAAAAAAAAAAAAAAAAAAAAAAAAAAAAAAAAAAAAAAAAAAAAAAAAAAAAAAAAAAAAAAAAAAAAAAAAAAAAAAAAAAAAAAAAAAAAAAAAAAAAAAAAAAAAAAAAAAAAAAAAAAAAAAAAAAAAAAAAAAAAAAAAAAAAAAAAAAAAAAAAAAAAAAAAAAAAAAAAAAAAAAAAAAAAAAAAAAAAAAAAAAAAAAAAAAAAAAAAAAAAAAAAAAAAAAAAAAAAAAAAAAAAAAAAAAAAAAAAAAAAAAAAAAAAAAAAAAAAAAAAAAAAAAAAAAAAAAAAAAAAAAAAAAAAAAAAAAAAAAAAAAAAAAAAAAAAAAAAAAAAAAAAAAAAAAAAAAAAAAAAAAAAAAAAAAAAAAAAAAAAAAAAAAAAAAAAAAAAAAAAAAAAAAAAAAAAAAAAAAAAAAAAAAAAAAAAAAAAAAAAAAAAAAAAAAAAAAAAAAAAAAAAAAAAAAAAAAAAAAAAAAAAAAAAAAAAAAAAAAAAAAAAAAAAAAAAAAAAAAAAAAAAAAAAAAAAAAAAAAAAAAAAAAAAAAAAAAAAAAAAAAAAAAAAAAAAAAAAAAAAAAAAAAAAAAAAAAAAAAAAAAAAAAAAAAAAAAAAAAAAAAAAAAAAAAAAAAAAAAAAAAAAAAAAAAAAAAAAAAAAAAAAAAAAAAAAAAAAAAAAAAAAAAAAAAAAAAAAAAAAAAAAAAAAAAAAAAAAAAAAAAAAAAAAAAAAAAAAAAAAAAAAAAAAAAAAAAAAAAAAAAAAAAAAAAAAAAAAAAAAAAAAAAAAAAAAAAAAAAAAAAAAAAAAAAAAAADpsclRzk9IPwAAAAAAAAAAHUQzqJrpID8zt1mmzpgtPw==",
             "dtype": "f8"
            },
            "coloraxis": "coloraxis",
            "size": {
             "bdata": "AAAAAAAAAAAAAAAAAAAAAAAAAAAAAAAAAAAAAAAAAAAAAAAAAAAAAAAAAAAAAAAAAAAAAAAAAAAAAAAAAAAAAAAAAAAAAAAAAAAAAAAAAAAAAAAAAAAAAAAAAAAAAAAAAAAAAAAAAAAAAAAAAAAAAAAAAAAAAAAAAAAAAAAAAAAAAAAAAAAAAAAAAAAAAAAAAAAAAAAAAAAAAAAAAAAAAAAAAAAAAAAAAAAAAAAAAAAAAAAAAAAAAAAAAAAAAAAAAAAAAAAAAAAAAAAAAAAAAAAAAAAAAAAAAAAAAAAAAAAAAAAAAAAAAAAAAAAAAAAAAAAAAAAAAAAAAAAAAAAAAAAAAAAAAAAAAAAAAAAAAAAAAAAAAAAAAAAAAAAAAAAAAAAAAAAAAAAAAAAAAAAAAAAAAAAAAAAAAAAAAAAAAAAAAAAAAAAAAAAAAAAAAAAAAAAAAAAAAAAAAAAAAAAAAAAAAAAAAAAAAAAAAAAAAAAAAAAAAAAAAAAAAAAAAAAAAAAAAAAAAAAAAAAAAAAAAAAAAAAAAAAAAAAAAAAAAAAAAAAAAAAAAAAAAAAAAAAAAAAAAAAAAAAAAAAAAAAAAAAAAAAAAAAAAAAAAAAAAAAAAAAAAAAAAAAAAAAAAAAAAAAAAAAAAAAAAAAAAAAAAAAAAAAAAAAAAAAAAAAAAAAAAAAAAAAAAAAAAAAAAAAAAAAAAAAAAAAAAAAAAAAAAAAAAAAAAAAAAAAAAAAAAAAAAAAAAAAAAAAAAAAAAAAAAAAAAAAAAAAAAAAAAAAAAAAAAAAAAAAAAAAAAAAAAAAAAAAAAAAAAAAAAAAAAAAAAAAAAAAAAAAAAAAAAAAAAAAAAAAAAAAAAAAAAAAAAAAAAAAAAAAAAAAAAAAAAAAAAAAAAAAAAAAAAAAAAAAAAAAAAAAAAAAAAAAAAAAAAAAAAAAAAAAAAAAAAAAAAAAAAAAAAAAAAAAAAAAAAAAAAAAAAAAAAAAAAAAAAAAAAAAAAAAAAAAAAAAAAAAAAAAAAAAAAAAAAAAAAAAAAAAAAAAAAAAAAAAAAAAAAAAAAAAAAAAAAAAAAAAAAAAAAAAAAAAAAAAAAAAAAAAAAAAAAAAAAAAAAAAAAAAAAAAAAAAAAAAAAAAAAAAAAAAAAAAAAAAAAAAAAAAAAAAAAAAAAAAAAAAAAAAAAAAAAAAAAAAAAAAAAAAAAAAAAAAAAAAAAAAAAAAAAAAAAAAAAAAAAAAAAAAAAAAAAAAAAAAAAADpsclRzk9IPwAAAAAAAAAAHUQzqJrpID8zt1mmzpgtPw==",
             "dtype": "f8"
            },
            "sizemode": "area",
            "sizeref": 0.006043951612903227
           },
           "mode": "markers",
           "name": "",
           "showlegend": false,
           "subplot": "map",
           "type": "scattermap"
          }
         ],
         "name": "2021-08"
        },
        {
         "data": [
          {
           "hovertemplate": "month=2021-09<br>HTEURNEIGE_Q=%{marker.color}<br>lat=%{lat}<br>lon=%{lon}<extra></extra>",
           "lat": {
            "bdata": "GNilFLSrRkCtqV0k6bRGQOjesz0evkZAm+q6X1PHRkD/GkaOZ6tGQABCMISctEZAAFKvg9G9RkDuttWLBsdGQG43+PgXq0ZAYvcM1Ey0RkAzxay4gb1GQKMF6qW2xkZATM7WmuvPRkC6Xg2gkKFGQB/o1lTFqkZAO5cOFPqzRkCvGMfcLr1GQMLJEq5jxkZAk7gDh5jPRkA/pKtmzdhGQAj9G0wC4kZAFh4O/dGORkBVnm99BphGQJR3Dgo7oUZA7u39oW+qRkDb9VBEpLNGQEI0GvDYvEZAt/5rpA3GRkCOW1hgQs9GQA0C8SJ32EZAllpH66vhRkACIx2VeY5GQJY+s/etl0ZAyc57ZuKgRkDfD4rgFqpGQGPu8GRLs0ZAUAfD8n+8RkApqBKJtMVGQEHP8SbpzkZAwStyyx3YRkDqHaV1UuFGQC+3mySH6kZA3hrDIR6ORkBDg4dlUpdGQJMcc7WGoEZA6RqZELupRkCoYgx277JGQI+I3+QjvEZA39EkXFjFRkCQNO7ajM5GQHNXTWDB10ZAWZJT6/XgRkCa1fWe72hGQIoROokjckZA8ApKg1d7RkBzLjqMi4RGQEmYHqO/jUZASRQLx/OWRkA2HhP3J6BGQMzhSTJcqUZA+TrCd5CyRkD6tY7GxLtGQIiPwR35xEZABbVsfC3ORkDuQieYjmhGQFMivWHCcUZALd8SO/Z6RkCi3TwjKoRGQGoxTxlejUZA1Z1dHJKWRkD9lXsrxp9GQAM9vEX6qEZAEmYyai6yRkCslPCXYrtGQLb8CM6WxEZAEOke8/ZeRkD75WKKKmhGQBPWRTJecUZAimXc6ZF6RkDX7zqwxYNGQOV/dYT5jEZAMtCfZS2WRkAHS81SYZ9GQIUKEUuVqEZA7dh9TcmxRkAD2jABkF5GQPr+yXXDZ0ZABYT1+vZwRkBkDMiPKnpGQJ7qVTNeg0ZAkyCz5JGMRkCzX/OixZVGQBcJKm35nkZAui1qQi2oRkCgjsYhYbFGQHTOflpZZ0ZAZ4Tuu4xwRkDWQ/gswHlGQAFWsKzzgkZAf7MqOieMRkBuBHvUWpVGQICgtHqOnkZAQo/qK8KnRkAuiC/n9bBGQNbylaspukZAbzBUdR9wRkCIfZDBUnlGQDu8bRyGgkZAndv/hLmLRkArelr67JRGQPXlkHsgnkZAyhy2B1SnRkBjzNydh7BGQP7hSievb0ZAkiy1TeJ4RkC8qbKCFYJGQME+V8VIi0ZAtGfzRRawRkCK8/fRO29GQE7Fi9FueEZA87+BdcVuRkA2vTpN+HdGQA==",
            "dtype": "f8"
           },
           "legendgroup": "",
           "lon": {
            "bdata": "fdMnuEhZE0DmL32SnFwTQNK/OqTyXxNAogWY70pjE0AzeK7LucETQMUBOFowxRNA6VQ7N6nIE0DN9QZlJMwTQPY8B5MoKhRAbH9508EtFEB2EnR5XTEUQPp2XIf7NBRAimCb/5s4FEAaU1yB244UQDZ+OveUkhRA+yYz51CWFED0eb9TD5oUQGbvWz/QnRRA01CIrJOhFEB/vsedWaUUQAi1oBUiqRRAQ1VZZnLvFECNhd5XSfMUQPaUWdUi9xRAgsBT4f76FED8o1l+3f4UQI0/+66+AhVAYP3LdaIGFUBWt2LViAoVQMC8WdBxDhVAKthOaV0SFUB4EihJclcVQH/upKBrWxVAiz3YmmdfFUCxzmE6ZmMVQKzt5IFnZxVAoWgIdGtrFUDtlXYTcm8VQBda3WJ7cxVAtS3uZId3FUBqI14clnsVQPDt5YunfxVA4jrdi2+/FUBga7VGi8MVQO0rAbupxxVA8td268rLFUBNZdDa7s8VQENqy4sV1BVAiSMpAT/YFUBTeq49a9wVQIkKJESa4BVA2ihWF8zkFUD/UhGUjRYWQNnzlIrAGhZA4N02RvYeFkACT7XJLiMWQCwl0hdqJxZALuRSM6grFkDNuwAf6S8WQN2NqN0sNBZAXfQacnM4FkCpRyzfvDwWQLSktCcJQRZATvOPTlhFFkDGxoG8/H0WQEAk7LZRghZAt8XRjKmGFkBw9AZBBIsWQJS2Y9ZhjxZAWtXDT8KTFkBG4wawJZgWQGlCEPqLnBZAwSrHMPWgFkCEsBZXYaUWQJvK7W/QqRZAUJ61//TgFkDQGUgMaeUWQHCiyAfg6RZAIrMd9VnuFkBWmjHX1vIWQEiA8rBW9xZAXm1Shdn7FkCVUEdXXwAXQOwFyynoBBdA+Fzb/3MJF0D6Vp54PEgXQFL1IG3STBdANS/RZmtRF0DFYatoB1YXQEzar3WmWhdAvdzikEhfF0BFqky97WMXQN6H+f2VaBdA8sT5VUFtF0AkwmHI73EXQLbPzMg4tBdA116wvfO4F0AXZw/Rsb0XQBYuAAZzwhdA+wydXzfHF0AZdwTh/ssXQMYAWY3J0BdAKGbBZ5fVF0AlkmhzaNoXQEGlfbM83xdAwbUU9nggGEAnT+IXWSUYQKUMpXE8KhhAzlWNBiMvGEBWyc/ZDDQYQBxEpe75OBhAGOhKSOo9GECDIwLq3UIYQCTFsPn6hxhAibnAJv2MGEAgByWiApIYQP8cJG8LlxhAcwlFFVCrGECRRzuyee8YQAN2S+ed9BhAfj1vCfVWGUBEoSdDO1wZQA==",
            "dtype": "f8"
           },
           "marker": {
            "color": {
             "bdata": "AAAAAAAAAAAAAAAAAAAAAAAAAAAAAAAAAAAAAAAAAAAAAAAAAAAAAAAAAAAAAAAAAAAAAAAAAAAAAAAAAAAAAAAAAAAAAAAAAAAAAAAAAAAAAAAAAAAAAAAAAAAAAAAAAAAAAAAAAAAAAAAAAAAAAAAAAAAAAAAAAAAAAAAAAAAAAAAAAAAAAAAAAAAAAAAAAAAAAAAAAAAAAAAAAAAAAAAAAAAAAAAAAAAAAAAAAAAAAAAAAAAAAAAAAAAAAAAAAAAAAAAAAAAAAAAAAAAAAAAAAAAAAAAAAAAAAAAAAAAAAAAAAAAAAAAAAAAAAAAAAAAAAAAAAAAAAAAAAAAAAAAAAAAAAAAAAAAAAAAAAAAAAAAAAAAAAAAAAAAAAAAAAAAAAAAAAAAAAAAAAAAAAAAAAAAAAAAAAAAAAAAAAAAAAAAAAAAAAAAAAAAAAAAAAAAAAAAAAAAAAAAAAAAAAAAAAAAAAAAAAAAAAAAAAAAAAAAAAAAAAAAAAAAAAAAAAAAAAAAAAAAAAAAAAAAAAAAAAAAAAAAAAAAAAAAAAAAAAAAAAAAAAAAAAAAAAAAAAAAAAAAAAAAAAAAAAAAAAAAAAAAAAAAAAAAAAAAAAAAAAAAAAAAAAAAAAAAAAAAAAAAAAAAAAAAAAAAAAAAAAAAAAAAAAAAAAAAAAAAAAAAAAAAAAAAAAAAAAAAAAAAAAAAAAAAAAAAAAAAAAAAAAAAAAAAAAAAAAAAAAAAAAAAAAAAAAAAAAAAAAAAAAAAAAAAAAAAAAAAAAAAAAAAAAAAAAAAAAAAAAAAAAAAAAAAAAAAAAAAAAAAAAAAAAAAAAAAAAAAAAAAAAAAAAAAAAAAAAAAAAAAAAAAAAAAAAAAAAAAAAAAAAAAAAAAAAAAAAAAAAAAAAAAAAAAAAAAAAAAAAAAAAAAAAAAAAAAAAAAAAAAAAAAAAAAAAAAAAAAAAAAAAAAAAAAAAAAAAAAAAAAAAAAAAAAAAAAAAAAAAAAAAAAAAAAAAAAAAAAAAAAAAAAAAAAAAAAAAAAAAAAAAAAAAAAAAAAAAAAAAAAAAAAegr2c7HkBPwAAAAAAAAAAAAAAAAAAAAAAAAAAAAAAAAAAAAAAAAAAAAAAAAAAAAAAAAAAAAAAAAAAAAAAAAAAAAAAAAAAAAAAAAAAAAAAAB6CvZzseQE/AAAAAAAAAAAAAAAAAAAAAB6CvZzseQE/AAAAAAAAAAAAAAAAAAAAAAAAAAAAAAAAAAAAAAAAAADpkoRXpQc4Px6CvZzseQE/HoK9nOx5MT/pkoRXpQdIPw==",
             "dtype": "f8"
            },
            "coloraxis": "coloraxis",
            "size": {
             "bdata": "AAAAAAAAAAAAAAAAAAAAAAAAAAAAAAAAAAAAAAAAAAAAAAAAAAAAAAAAAAAAAAAAAAAAAAAAAAAAAAAAAAAAAAAAAAAAAAAAAAAAAAAAAAAAAAAAAAAAAAAAAAAAAAAAAAAAAAAAAAAAAAAAAAAAAAAAAAAAAAAAAAAAAAAAAAAAAAAAAAAAAAAAAAAAAAAAAAAAAAAAAAAAAAAAAAAAAAAAAAAAAAAAAAAAAAAAAAAAAAAAAAAAAAAAAAAAAAAAAAAAAAAAAAAAAAAAAAAAAAAAAAAAAAAAAAAAAAAAAAAAAAAAAAAAAAAAAAAAAAAAAAAAAAAAAAAAAAAAAAAAAAAAAAAAAAAAAAAAAAAAAAAAAAAAAAAAAAAAAAAAAAAAAAAAAAAAAAAAAAAAAAAAAAAAAAAAAAAAAAAAAAAAAAAAAAAAAAAAAAAAAAAAAAAAAAAAAAAAAAAAAAAAAAAAAAAAAAAAAAAAAAAAAAAAAAAAAAAAAAAAAAAAAAAAAAAAAAAAAAAAAAAAAAAAAAAAAAAAAAAAAAAAAAAAAAAAAAAAAAAAAAAAAAAAAAAAAAAAAAAAAAAAAAAAAAAAAAAAAAAAAAAAAAAAAAAAAAAAAAAAAAAAAAAAAAAAAAAAAAAAAAAAAAAAAAAAAAAAAAAAAAAAAAAAAAAAAAAAAAAAAAAAAAAAAAAAAAAAAAAAAAAAAAAAAAAAAAAAAAAAAAAAAAAAAAAAAAAAAAAAAAAAAAAAAAAAAAAAAAAAAAAAAAAAAAAAAAAAAAAAAAAAAAAAAAAAAAAAAAAAAAAAAAAAAAAAAAAAAAAAAAAAAAAAAAAAAAAAAAAAAAAAAAAAAAAAAAAAAAAAAAAAAAAAAAAAAAAAAAAAAAAAAAAAAAAAAAAAAAAAAAAAAAAAAAAAAAAAAAAAAAAAAAAAAAAAAAAAAAAAAAAAAAAAAAAAAAAAAAAAAAAAAAAAAAAAAAAAAAAAAAAAAAAAAAAAAAAAAAAAAAAAAAAAAAAAAAAAAAAAAAAAAAAAAAAAAAAAAAAAAAAAAAAAAAAAAAAAAAAAAAAAAAAegr2c7HkBPwAAAAAAAAAAAAAAAAAAAAAAAAAAAAAAAAAAAAAAAAAAAAAAAAAAAAAAAAAAAAAAAAAAAAAAAAAAAAAAAAAAAAAAAAAAAAAAAB6CvZzseQE/AAAAAAAAAAAAAAAAAAAAAB6CvZzseQE/AAAAAAAAAAAAAAAAAAAAAAAAAAAAAAAAAAAAAAAAAADpkoRXpQc4Px6CvZzseQE/HoK9nOx5MT/pkoRXpQdIPw==",
             "dtype": "f8"
            },
            "sizemode": "area",
            "sizeref": 0.006043951612903227
           },
           "mode": "markers",
           "name": "",
           "showlegend": false,
           "subplot": "map",
           "type": "scattermap"
          }
         ],
         "name": "2021-09"
        },
        {
         "data": [
          {
           "hovertemplate": "month=2021-10<br>HTEURNEIGE_Q=%{marker.color}<br>lat=%{lat}<br>lon=%{lon}<extra></extra>",
           "lat": {
            "bdata": "GNilFLSrRkCtqV0k6bRGQOjesz0evkZAm+q6X1PHRkD/GkaOZ6tGQABCMISctEZAAFKvg9G9RkDuttWLBsdGQG43+PgXq0ZAYvcM1Ey0RkAzxay4gb1GQKMF6qW2xkZATM7WmuvPRkC6Xg2gkKFGQB/o1lTFqkZAO5cOFPqzRkCvGMfcLr1GQMLJEq5jxkZAk7gDh5jPRkA/pKtmzdhGQAj9G0wC4kZAFh4O/dGORkBVnm99BphGQJR3Dgo7oUZA7u39oW+qRkDb9VBEpLNGQEI0GvDYvEZAt/5rpA3GRkCOW1hgQs9GQA0C8SJ32EZAllpH66vhRkACIx2VeY5GQJY+s/etl0ZAyc57ZuKgRkDfD4rgFqpGQGPu8GRLs0ZAUAfD8n+8RkApqBKJtMVGQEHP8SbpzkZAwStyyx3YRkDqHaV1UuFGQC+3mySH6kZA3hrDIR6ORkBDg4dlUpdGQJMcc7WGoEZA6RqZELupRkCoYgx277JGQI+I3+QjvEZA39EkXFjFRkCQNO7ajM5GQHNXTWDB10ZAWZJT6/XgRkCa1fWe72hGQIoROokjckZA8ApKg1d7RkBzLjqMi4RGQEmYHqO/jUZASRQLx/OWRkA2HhP3J6BGQMzhSTJcqUZA+TrCd5CyRkD6tY7GxLtGQIiPwR35xEZABbVsfC3ORkDuQieYjmhGQFMivWHCcUZALd8SO/Z6RkCi3TwjKoRGQGoxTxlejUZA1Z1dHJKWRkD9lXsrxp9GQAM9vEX6qEZAEmYyai6yRkCslPCXYrtGQLb8CM6WxEZAEOke8/ZeRkD75WKKKmhGQBPWRTJecUZAimXc6ZF6RkDX7zqwxYNGQOV/dYT5jEZAMtCfZS2WRkAHS81SYZ9GQIUKEUuVqEZA7dh9TcmxRkAD2jABkF5GQPr+yXXDZ0ZABYT1+vZwRkBkDMiPKnpGQJ7qVTNeg0ZAkyCz5JGMRkCzX/OixZVGQBcJKm35nkZAui1qQi2oRkCgjsYhYbFGQHTOflpZZ0ZAZ4Tuu4xwRkDWQ/gswHlGQAFWsKzzgkZAf7MqOieMRkBuBHvUWpVGQICgtHqOnkZAQo/qK8KnRkAuiC/n9bBGQNbylaspukZAbzBUdR9wRkCIfZDBUnlGQDu8bRyGgkZAndv/hLmLRkArelr67JRGQPXlkHsgnkZAyhy2B1SnRkBjzNydh7BGQP7hSievb0ZAkiy1TeJ4RkC8qbKCFYJGQME+V8VIi0ZAtGfzRRawRkCK8/fRO29GQE7Fi9FueEZA87+BdcVuRkA2vTpN+HdGQA==",
            "dtype": "f8"
           },
           "legendgroup": "",
           "lon": {
            "bdata": "fdMnuEhZE0DmL32SnFwTQNK/OqTyXxNAogWY70pjE0AzeK7LucETQMUBOFowxRNA6VQ7N6nIE0DN9QZlJMwTQPY8B5MoKhRAbH9508EtFEB2EnR5XTEUQPp2XIf7NBRAimCb/5s4FEAaU1yB244UQDZ+OveUkhRA+yYz51CWFED0eb9TD5oUQGbvWz/QnRRA01CIrJOhFEB/vsedWaUUQAi1oBUiqRRAQ1VZZnLvFECNhd5XSfMUQPaUWdUi9xRAgsBT4f76FED8o1l+3f4UQI0/+66+AhVAYP3LdaIGFUBWt2LViAoVQMC8WdBxDhVAKthOaV0SFUB4EihJclcVQH/upKBrWxVAiz3YmmdfFUCxzmE6ZmMVQKzt5IFnZxVAoWgIdGtrFUDtlXYTcm8VQBda3WJ7cxVAtS3uZId3FUBqI14clnsVQPDt5YunfxVA4jrdi2+/FUBga7VGi8MVQO0rAbupxxVA8td268rLFUBNZdDa7s8VQENqy4sV1BVAiSMpAT/YFUBTeq49a9wVQIkKJESa4BVA2ihWF8zkFUD/UhGUjRYWQNnzlIrAGhZA4N02RvYeFkACT7XJLiMWQCwl0hdqJxZALuRSM6grFkDNuwAf6S8WQN2NqN0sNBZAXfQacnM4FkCpRyzfvDwWQLSktCcJQRZATvOPTlhFFkDGxoG8/H0WQEAk7LZRghZAt8XRjKmGFkBw9AZBBIsWQJS2Y9ZhjxZAWtXDT8KTFkBG4wawJZgWQGlCEPqLnBZAwSrHMPWgFkCEsBZXYaUWQJvK7W/QqRZAUJ61//TgFkDQGUgMaeUWQHCiyAfg6RZAIrMd9VnuFkBWmjHX1vIWQEiA8rBW9xZAXm1Shdn7FkCVUEdXXwAXQOwFyynoBBdA+Fzb/3MJF0D6Vp54PEgXQFL1IG3STBdANS/RZmtRF0DFYatoB1YXQEzar3WmWhdAvdzikEhfF0BFqky97WMXQN6H+f2VaBdA8sT5VUFtF0AkwmHI73EXQLbPzMg4tBdA116wvfO4F0AXZw/Rsb0XQBYuAAZzwhdA+wydXzfHF0AZdwTh/ssXQMYAWY3J0BdAKGbBZ5fVF0AlkmhzaNoXQEGlfbM83xdAwbUU9nggGEAnT+IXWSUYQKUMpXE8KhhAzlWNBiMvGEBWyc/ZDDQYQBxEpe75OBhAGOhKSOo9GECDIwLq3UIYQCTFsPn6hxhAibnAJv2MGEAgByWiApIYQP8cJG8LlxhAcwlFFVCrGECRRzuyee8YQAN2S+ed9BhAfj1vCfVWGUBEoSdDO1wZQA==",
            "dtype": "f8"
           },
           "marker": {
            "color": {
             "bdata": "AAAAAAAAAAAAAAAAAAAAAAAAAAAAAAAAAAAAAAAAAAAAAAAAAAAAAAAAAAAAAAAAAAAAAAAAAAAAAAAAAAAAAAAAAAAAAAAAAAAAAAAAAAAAAAAAAAAAAAAAAAAAAAAAAAAAAAAAAAAAAAAAAAAAAAAAAAAAAAAAAAAAAAAAAAAAAAAAAAAAAAAAAAAAAAAAAAAAAAAAAAAAAAAAAAAAAAAAAAAAAAAAAAAAAAAAAAAAAAAAAAAAAAAAAAAAAAAAAAAAAAAAAAAAAAAAAAAAAAAAAAAAAAAAAAAAAAAAAAAAAAAAAAAAAAAAAAAAAAAAAAAAAAAAAAAAAAAAAAAAAAAAAAAAAAAAAAAAAAAAAAAAAAAAAAAAAAAAAAAAAAAAAAAAAAAAAAAAAAAAAAAAAAAAAAAAAAAAAAAAAAAAAAAAAAAAAAAAAAAAAAAAAAAAAAAAAAAAAAAAAAAAAAAAAAAAAAAAAAAAAAAAAAAAAAAAAAAAAAAAAAAAAAAAAAAAAAAAAAAAAAAAAAAAAAAAAAAAAAAAAAAAAAAAAAAAAAAAAAAAAAAAAAAAAAAAAAAAAAAAAAAAAAAAAAAAAAAAAAAAAAAAAAAAAAAAAAAAAAAAAAAAAAAAAAAAAAAAAAAAAAAAAAAAAAAAAAAAAAAAAAAAAAAAAAAAAAAAAAAAAAAAAAAAAAAAAAAAAAAAAAAAAAAAAAAAAAAAAAAAAAAAAAAAAAAAAAAAAAAAAAAAAAAAAAAAAAAAAAAAAAAAAAAAAAAAAAAAAAAAAAAAAAAAAAAAAAAAAAAAAAAAAAAAAAAAAAAAAAAAAAAAAAAAAAAAAAAAAAAAAAAAAAAAAAAAAAAAAAAAAAAAAAAAAAAAAAAAAAAAAAAAAAAAAAAAAAAAAAAAAAAAAAAAAAAAAAAAAAAAAAAAAAAAAAAAAAAAAAAdRDOomukAPx1EM6ia6QA/AAAAAAAAAAAAAAAAAAAAAAAAAAAAAAAAAAAAAAAAAAAdRDOomukAPwAAAAAAAAAAAAAAAAAAAAAAAAAAAAAAACvmTPxnXik/JBVAUgEkJT8kFUBSASQ1PwAAAAAAAAAAAAAAAAAAAAAAAAAAAAAAAAAAAAAAAAAAAAAAAAAAAAAzt1mmzpg9PwAAAAAAAAAAHUQzqJrpED8r5kz8Z14ZPyQVQFIBJDU/HUQzqJrpAD8AAAAAAAAAAHQXP3fxc4c/sXnaZ3RKYz8AAAAAAAAAAB1EM6ia6UA/M7dZps6YLT+KHHCVziO2P7sz227mIJo/InVRhUqIqz+vtPtKu6+0Pw==",
             "dtype": "f8"
            },
            "coloraxis": "coloraxis",
            "size": {
             "bdata": "AAAAAAAAAAAAAAAAAAAAAAAAAAAAAAAAAAAAAAAAAAAAAAAAAAAAAAAAAAAAAAAAAAAAAAAAAAAAAAAAAAAAAAAAAAAAAAAAAAAAAAAAAAAAAAAAAAAAAAAAAAAAAAAAAAAAAAAAAAAAAAAAAAAAAAAAAAAAAAAAAAAAAAAAAAAAAAAAAAAAAAAAAAAAAAAAAAAAAAAAAAAAAAAAAAAAAAAAAAAAAAAAAAAAAAAAAAAAAAAAAAAAAAAAAAAAAAAAAAAAAAAAAAAAAAAAAAAAAAAAAAAAAAAAAAAAAAAAAAAAAAAAAAAAAAAAAAAAAAAAAAAAAAAAAAAAAAAAAAAAAAAAAAAAAAAAAAAAAAAAAAAAAAAAAAAAAAAAAAAAAAAAAAAAAAAAAAAAAAAAAAAAAAAAAAAAAAAAAAAAAAAAAAAAAAAAAAAAAAAAAAAAAAAAAAAAAAAAAAAAAAAAAAAAAAAAAAAAAAAAAAAAAAAAAAAAAAAAAAAAAAAAAAAAAAAAAAAAAAAAAAAAAAAAAAAAAAAAAAAAAAAAAAAAAAAAAAAAAAAAAAAAAAAAAAAAAAAAAAAAAAAAAAAAAAAAAAAAAAAAAAAAAAAAAAAAAAAAAAAAAAAAAAAAAAAAAAAAAAAAAAAAAAAAAAAAAAAAAAAAAAAAAAAAAAAAAAAAAAAAAAAAAAAAAAAAAAAAAAAAAAAAAAAAAAAAAAAAAAAAAAAAAAAAAAAAAAAAAAAAAAAAAAAAAAAAAAAAAAAAAAAAAAAAAAAAAAAAAAAAAAAAAAAAAAAAAAAAAAAAAAAAAAAAAAAAAAAAAAAAAAAAAAAAAAAAAAAAAAAAAAAAAAAAAAAAAAAAAAAAAAAAAAAAAAAAAAAAAAAAAAAAAAAAAAAAAAAAAAAAAAAAAAAAAAAAAAAAAAAAAAAAAAAAAAAAAAAAAAAdRDOomukAPx1EM6ia6QA/AAAAAAAAAAAAAAAAAAAAAAAAAAAAAAAAAAAAAAAAAAAdRDOomukAPwAAAAAAAAAAAAAAAAAAAAAAAAAAAAAAACvmTPxnXik/JBVAUgEkJT8kFUBSASQ1PwAAAAAAAAAAAAAAAAAAAAAAAAAAAAAAAAAAAAAAAAAAAAAAAAAAAAAzt1mmzpg9PwAAAAAAAAAAHUQzqJrpED8r5kz8Z14ZPyQVQFIBJDU/HUQzqJrpAD8AAAAAAAAAAHQXP3fxc4c/sXnaZ3RKYz8AAAAAAAAAAB1EM6ia6UA/M7dZps6YLT+KHHCVziO2P7sz227mIJo/InVRhUqIqz+vtPtKu6+0Pw==",
             "dtype": "f8"
            },
            "sizemode": "area",
            "sizeref": 0.006043951612903227
           },
           "mode": "markers",
           "name": "",
           "showlegend": false,
           "subplot": "map",
           "type": "scattermap"
          }
         ],
         "name": "2021-10"
        },
        {
         "data": [
          {
           "hovertemplate": "month=2021-11<br>HTEURNEIGE_Q=%{marker.color}<br>lat=%{lat}<br>lon=%{lon}<extra></extra>",
           "lat": {
            "bdata": "GNilFLSrRkCtqV0k6bRGQOjesz0evkZAm+q6X1PHRkD/GkaOZ6tGQABCMISctEZAAFKvg9G9RkDuttWLBsdGQG43+PgXq0ZAYvcM1Ey0RkAzxay4gb1GQKMF6qW2xkZATM7WmuvPRkC6Xg2gkKFGQB/o1lTFqkZAO5cOFPqzRkCvGMfcLr1GQMLJEq5jxkZAk7gDh5jPRkA/pKtmzdhGQAj9G0wC4kZAFh4O/dGORkBVnm99BphGQJR3Dgo7oUZA7u39oW+qRkDb9VBEpLNGQEI0GvDYvEZAt/5rpA3GRkCOW1hgQs9GQA0C8SJ32EZAllpH66vhRkACIx2VeY5GQJY+s/etl0ZAyc57ZuKgRkDfD4rgFqpGQGPu8GRLs0ZAUAfD8n+8RkApqBKJtMVGQEHP8SbpzkZAwStyyx3YRkDqHaV1UuFGQC+3mySH6kZA3hrDIR6ORkBDg4dlUpdGQJMcc7WGoEZA6RqZELupRkCoYgx277JGQI+I3+QjvEZA39EkXFjFRkCQNO7ajM5GQHNXTWDB10ZAWZJT6/XgRkCa1fWe72hGQIoROokjckZA8ApKg1d7RkBzLjqMi4RGQEmYHqO/jUZASRQLx/OWRkA2HhP3J6BGQMzhSTJcqUZA+TrCd5CyRkD6tY7GxLtGQIiPwR35xEZABbVsfC3ORkDuQieYjmhGQFMivWHCcUZALd8SO/Z6RkCi3TwjKoRGQGoxTxlejUZA1Z1dHJKWRkD9lXsrxp9GQAM9vEX6qEZAEmYyai6yRkCslPCXYrtGQLb8CM6WxEZAEOke8/ZeRkD75WKKKmhGQBPWRTJecUZAimXc6ZF6RkDX7zqwxYNGQOV/dYT5jEZAMtCfZS2WRkAHS81SYZ9GQIUKEUuVqEZA7dh9TcmxRkAD2jABkF5GQPr+yXXDZ0ZABYT1+vZwRkBkDMiPKnpGQJ7qVTNeg0ZAkyCz5JGMRkCzX/OixZVGQBcJKm35nkZAui1qQi2oRkCgjsYhYbFGQHTOflpZZ0ZAZ4Tuu4xwRkDWQ/gswHlGQAFWsKzzgkZAf7MqOieMRkBuBHvUWpVGQICgtHqOnkZAQo/qK8KnRkAuiC/n9bBGQNbylaspukZAbzBUdR9wRkCIfZDBUnlGQDu8bRyGgkZAndv/hLmLRkArelr67JRGQPXlkHsgnkZAyhy2B1SnRkBjzNydh7BGQP7hSievb0ZAkiy1TeJ4RkC8qbKCFYJGQME+V8VIi0ZAtGfzRRawRkCK8/fRO29GQE7Fi9FueEZA87+BdcVuRkA2vTpN+HdGQA==",
            "dtype": "f8"
           },
           "legendgroup": "",
           "lon": {
            "bdata": "fdMnuEhZE0DmL32SnFwTQNK/OqTyXxNAogWY70pjE0AzeK7LucETQMUBOFowxRNA6VQ7N6nIE0DN9QZlJMwTQPY8B5MoKhRAbH9508EtFEB2EnR5XTEUQPp2XIf7NBRAimCb/5s4FEAaU1yB244UQDZ+OveUkhRA+yYz51CWFED0eb9TD5oUQGbvWz/QnRRA01CIrJOhFEB/vsedWaUUQAi1oBUiqRRAQ1VZZnLvFECNhd5XSfMUQPaUWdUi9xRAgsBT4f76FED8o1l+3f4UQI0/+66+AhVAYP3LdaIGFUBWt2LViAoVQMC8WdBxDhVAKthOaV0SFUB4EihJclcVQH/upKBrWxVAiz3YmmdfFUCxzmE6ZmMVQKzt5IFnZxVAoWgIdGtrFUDtlXYTcm8VQBda3WJ7cxVAtS3uZId3FUBqI14clnsVQPDt5YunfxVA4jrdi2+/FUBga7VGi8MVQO0rAbupxxVA8td268rLFUBNZdDa7s8VQENqy4sV1BVAiSMpAT/YFUBTeq49a9wVQIkKJESa4BVA2ihWF8zkFUD/UhGUjRYWQNnzlIrAGhZA4N02RvYeFkACT7XJLiMWQCwl0hdqJxZALuRSM6grFkDNuwAf6S8WQN2NqN0sNBZAXfQacnM4FkCpRyzfvDwWQLSktCcJQRZATvOPTlhFFkDGxoG8/H0WQEAk7LZRghZAt8XRjKmGFkBw9AZBBIsWQJS2Y9ZhjxZAWtXDT8KTFkBG4wawJZgWQGlCEPqLnBZAwSrHMPWgFkCEsBZXYaUWQJvK7W/QqRZAUJ61//TgFkDQGUgMaeUWQHCiyAfg6RZAIrMd9VnuFkBWmjHX1vIWQEiA8rBW9xZAXm1Shdn7FkCVUEdXXwAXQOwFyynoBBdA+Fzb/3MJF0D6Vp54PEgXQFL1IG3STBdANS/RZmtRF0DFYatoB1YXQEzar3WmWhdAvdzikEhfF0BFqky97WMXQN6H+f2VaBdA8sT5VUFtF0AkwmHI73EXQLbPzMg4tBdA116wvfO4F0AXZw/Rsb0XQBYuAAZzwhdA+wydXzfHF0AZdwTh/ssXQMYAWY3J0BdAKGbBZ5fVF0AlkmhzaNoXQEGlfbM83xdAwbUU9nggGEAnT+IXWSUYQKUMpXE8KhhAzlWNBiMvGEBWyc/ZDDQYQBxEpe75OBhAGOhKSOo9GECDIwLq3UIYQCTFsPn6hxhAibnAJv2MGEAgByWiApIYQP8cJG8LlxhAcwlFFVCrGECRRzuyee8YQAN2S+ed9BhAfj1vCfVWGUBEoSdDO1wZQA==",
            "dtype": "f8"
           },
           "marker": {
            "color": {
             "bdata": "HoK9nOx5ET8egr2c7HkhP6Xi7MNn2CU/HoK9nOx5IT8egr2c7HkhPx6CvZzseTE/LUMc6+I2Kj8egr2c7HkhP6Xi7MNn2CU//Knx0k1iQD8egr2c7HkxP7SjSxJelS4/LUMc6+I2Kj/Wexfc/KxfP7SjSxJelS4/QFqJZouRQj+Sy39Iv31NP0BaiWaLkUI/peLsw2fYJT8egr2c7HkhPx6CvZzseSE/ch47lfk0VD+2ztIoN2RWP9V7F9z8rH8/LUMc6+I2Oj8egr2c7HlBP8M/f7QSzXY/QFqJZouRQj8egr2c7HkhP7SjSxJelS4/peLsw2fYJT+K1QyW1zd9PxNhw9MrZXk/njws1JrmfT+2ztIoN2RWP6O3Za2OCV4/ZIIH80T9ez/8qfHSTWJAP7SjSxJelS4/peLsw2fYJT8tQxzr4jYqP6Xi7MNn2CU/TfOOU3Qklz+B35nj7/GMP7AoEjlqcn4/L26jAbwFYj83ZBa0o0tyPz4vAlCywno/LUMc6+I2Sj8egr2c7HkxPx6CvZzseSE/L26jAbwFUj/9h/Tb14GjP2qUGzIL2qE/XbTtoWrhnz+Cc0aU9gafP0EWj3if0Jg/XIyUQF23mz8mDN3/2tSTP5LLf0i/fU0/PN9PjZducj/AFPidOf5+P7SjSxJelT4/peLsw2fYJT/KCmtQIUR/P9IA3gIJin8/hVrTvOMUfT+rrdhfdk+OP03LNfJm+pI/cfOzfiBmjD9etxtXNoZzP5B7zYWkKYU/euxU5tNQgD+WRrkhs6B9Px6CvZzseRE/J6CJsOHphT8tQxzr4jZ6P04b6LSBTns/uiGzoB1dgj8xvlXE1lmKP3Hzs34gZkw/peLsw2fYNT/toWrhnz+aP+SDns2qz6U/F3CpXSadmz83ZBa0o0uCPzq0yHa+n4o/lUa5IbOgfT/2l92Th4WaPwJ13W5c2Zg/XSNvpi9xkT9zRpT2Bl+IP2EyVTAqqVM/4HS4Q7CXoz+6/7Wpp3ylP2ooyOIR74M/Ejlqch47hT+l4uzDZ9iVP8HNz/qBmLE/oR1dkvCqpD9wXwfOGVG6P2atjgkezJM/jlBGb8tafT+u2F92Tx6WP5WyDHGsi5s/+uq9C25+lj9Q1+3GlY2xP1Qt/PNHK5E/2mKkBOq6nT/GcGI1g+WlP1dbsb/snrw/+6bDHYK9nD+5jQbwFkiQP1v4549Work/48rGcGI1sz9KDAIrhxaZP7SjSxJela4/escpOpLLrz9YXt90uEPQP/rIwBT4ncE/MZkqGJXUyT+p7qSYlmvQPw==",
             "dtype": "f8"
            },
            "coloraxis": "coloraxis",
            "size": {
             "bdata": "HoK9nOx5ET8egr2c7HkhP6Xi7MNn2CU/HoK9nOx5IT8egr2c7HkhPx6CvZzseTE/LUMc6+I2Kj8egr2c7HkhP6Xi7MNn2CU//Knx0k1iQD8egr2c7HkxP7SjSxJelS4/LUMc6+I2Kj/Wexfc/KxfP7SjSxJelS4/QFqJZouRQj+Sy39Iv31NP0BaiWaLkUI/peLsw2fYJT8egr2c7HkhPx6CvZzseSE/ch47lfk0VD+2ztIoN2RWP9V7F9z8rH8/LUMc6+I2Oj8egr2c7HlBP8M/f7QSzXY/QFqJZouRQj8egr2c7HkhP7SjSxJelS4/peLsw2fYJT+K1QyW1zd9PxNhw9MrZXk/njws1JrmfT+2ztIoN2RWP6O3Za2OCV4/ZIIH80T9ez/8qfHSTWJAP7SjSxJelS4/peLsw2fYJT8tQxzr4jYqP6Xi7MNn2CU/TfOOU3Qklz+B35nj7/GMP7AoEjlqcn4/L26jAbwFYj83ZBa0o0tyPz4vAlCywno/LUMc6+I2Sj8egr2c7HkxPx6CvZzseSE/L26jAbwFUj/9h/Tb14GjP2qUGzIL2qE/XbTtoWrhnz+Cc0aU9gafP0EWj3if0Jg/XIyUQF23mz8mDN3/2tSTP5LLf0i/fU0/PN9PjZducj/AFPidOf5+P7SjSxJelT4/peLsw2fYJT/KCmtQIUR/P9IA3gIJin8/hVrTvOMUfT+rrdhfdk+OP03LNfJm+pI/cfOzfiBmjD9etxtXNoZzP5B7zYWkKYU/euxU5tNQgD+WRrkhs6B9Px6CvZzseRE/J6CJsOHphT8tQxzr4jZ6P04b6LSBTns/uiGzoB1dgj8xvlXE1lmKP3Hzs34gZkw/peLsw2fYNT/toWrhnz+aP+SDns2qz6U/F3CpXSadmz83ZBa0o0uCPzq0yHa+n4o/lUa5IbOgfT/2l92Th4WaPwJ13W5c2Zg/XSNvpi9xkT9zRpT2Bl+IP2EyVTAqqVM/4HS4Q7CXoz+6/7Wpp3ylP2ooyOIR74M/Ejlqch47hT+l4uzDZ9iVP8HNz/qBmLE/oR1dkvCqpD9wXwfOGVG6P2atjgkezJM/jlBGb8tafT+u2F92Tx6WP5WyDHGsi5s/+uq9C25+lj9Q1+3GlY2xP1Qt/PNHK5E/2mKkBOq6nT/GcGI1g+WlP1dbsb/snrw/+6bDHYK9nD+5jQbwFkiQP1v4549Work/48rGcGI1sz9KDAIrhxaZP7SjSxJela4/escpOpLLrz9YXt90uEPQP/rIwBT4ncE/MZkqGJXUyT+p7qSYlmvQPw==",
             "dtype": "f8"
            },
            "sizemode": "area",
            "sizeref": 0.006043951612903227
           },
           "mode": "markers",
           "name": "",
           "showlegend": false,
           "subplot": "map",
           "type": "scattermap"
          }
         ],
         "name": "2021-11"
        },
        {
         "data": [
          {
           "hovertemplate": "month=2021-12<br>HTEURNEIGE_Q=%{marker.color}<br>lat=%{lat}<br>lon=%{lon}<extra></extra>",
           "lat": {
            "bdata": "GNilFLSrRkCtqV0k6bRGQOjesz0evkZAm+q6X1PHRkD/GkaOZ6tGQABCMISctEZAAFKvg9G9RkDuttWLBsdGQG43+PgXq0ZAYvcM1Ey0RkAzxay4gb1GQKMF6qW2xkZATM7WmuvPRkC6Xg2gkKFGQB/o1lTFqkZAO5cOFPqzRkCvGMfcLr1GQMLJEq5jxkZAk7gDh5jPRkA/pKtmzdhGQAj9G0wC4kZAFh4O/dGORkBVnm99BphGQJR3Dgo7oUZA7u39oW+qRkDb9VBEpLNGQEI0GvDYvEZAt/5rpA3GRkCOW1hgQs9GQA0C8SJ32EZAllpH66vhRkACIx2VeY5GQJY+s/etl0ZAyc57ZuKgRkDfD4rgFqpGQGPu8GRLs0ZAUAfD8n+8RkApqBKJtMVGQEHP8SbpzkZAwStyyx3YRkDqHaV1UuFGQC+3mySH6kZA3hrDIR6ORkBDg4dlUpdGQJMcc7WGoEZA6RqZELupRkCoYgx277JGQI+I3+QjvEZA39EkXFjFRkCQNO7ajM5GQHNXTWDB10ZAWZJT6/XgRkCa1fWe72hGQIoROokjckZA8ApKg1d7RkBzLjqMi4RGQEmYHqO/jUZASRQLx/OWRkA2HhP3J6BGQMzhSTJcqUZA+TrCd5CyRkD6tY7GxLtGQIiPwR35xEZABbVsfC3ORkDuQieYjmhGQFMivWHCcUZALd8SO/Z6RkCi3TwjKoRGQGoxTxlejUZA1Z1dHJKWRkD9lXsrxp9GQAM9vEX6qEZAEmYyai6yRkCslPCXYrtGQLb8CM6WxEZAEOke8/ZeRkD75WKKKmhGQBPWRTJecUZAimXc6ZF6RkDX7zqwxYNGQOV/dYT5jEZAMtCfZS2WRkAHS81SYZ9GQIUKEUuVqEZA7dh9TcmxRkAD2jABkF5GQPr+yXXDZ0ZABYT1+vZwRkBkDMiPKnpGQJ7qVTNeg0ZAkyCz5JGMRkCzX/OixZVGQBcJKm35nkZAui1qQi2oRkCgjsYhYbFGQHTOflpZZ0ZAZ4Tuu4xwRkDWQ/gswHlGQAFWsKzzgkZAf7MqOieMRkBuBHvUWpVGQICgtHqOnkZAQo/qK8KnRkAuiC/n9bBGQNbylaspukZAbzBUdR9wRkCIfZDBUnlGQDu8bRyGgkZAndv/hLmLRkArelr67JRGQPXlkHsgnkZAyhy2B1SnRkBjzNydh7BGQP7hSievb0ZAkiy1TeJ4RkC8qbKCFYJGQME+V8VIi0ZAtGfzRRawRkCK8/fRO29GQE7Fi9FueEZA87+BdcVuRkA2vTpN+HdGQA==",
            "dtype": "f8"
           },
           "legendgroup": "",
           "lon": {
            "bdata": "fdMnuEhZE0DmL32SnFwTQNK/OqTyXxNAogWY70pjE0AzeK7LucETQMUBOFowxRNA6VQ7N6nIE0DN9QZlJMwTQPY8B5MoKhRAbH9508EtFEB2EnR5XTEUQPp2XIf7NBRAimCb/5s4FEAaU1yB244UQDZ+OveUkhRA+yYz51CWFED0eb9TD5oUQGbvWz/QnRRA01CIrJOhFEB/vsedWaUUQAi1oBUiqRRAQ1VZZnLvFECNhd5XSfMUQPaUWdUi9xRAgsBT4f76FED8o1l+3f4UQI0/+66+AhVAYP3LdaIGFUBWt2LViAoVQMC8WdBxDhVAKthOaV0SFUB4EihJclcVQH/upKBrWxVAiz3YmmdfFUCxzmE6ZmMVQKzt5IFnZxVAoWgIdGtrFUDtlXYTcm8VQBda3WJ7cxVAtS3uZId3FUBqI14clnsVQPDt5YunfxVA4jrdi2+/FUBga7VGi8MVQO0rAbupxxVA8td268rLFUBNZdDa7s8VQENqy4sV1BVAiSMpAT/YFUBTeq49a9wVQIkKJESa4BVA2ihWF8zkFUD/UhGUjRYWQNnzlIrAGhZA4N02RvYeFkACT7XJLiMWQCwl0hdqJxZALuRSM6grFkDNuwAf6S8WQN2NqN0sNBZAXfQacnM4FkCpRyzfvDwWQLSktCcJQRZATvOPTlhFFkDGxoG8/H0WQEAk7LZRghZAt8XRjKmGFkBw9AZBBIsWQJS2Y9ZhjxZAWtXDT8KTFkBG4wawJZgWQGlCEPqLnBZAwSrHMPWgFkCEsBZXYaUWQJvK7W/QqRZAUJ61//TgFkDQGUgMaeUWQHCiyAfg6RZAIrMd9VnuFkBWmjHX1vIWQEiA8rBW9xZAXm1Shdn7FkCVUEdXXwAXQOwFyynoBBdA+Fzb/3MJF0D6Vp54PEgXQFL1IG3STBdANS/RZmtRF0DFYatoB1YXQEzar3WmWhdAvdzikEhfF0BFqky97WMXQN6H+f2VaBdA8sT5VUFtF0AkwmHI73EXQLbPzMg4tBdA116wvfO4F0AXZw/Rsb0XQBYuAAZzwhdA+wydXzfHF0AZdwTh/ssXQMYAWY3J0BdAKGbBZ5fVF0AlkmhzaNoXQEGlfbM83xdAwbUU9nggGEAnT+IXWSUYQKUMpXE8KhhAzlWNBiMvGEBWyc/ZDDQYQBxEpe75OBhAGOhKSOo9GECDIwLq3UIYQCTFsPn6hxhAibnAJv2MGEAgByWiApIYQP8cJG8LlxhAcwlFFVCrGECRRzuyee8YQAN2S+ed9BhAfj1vCfVWGUBEoSdDO1wZQA==",
            "dtype": "f8"
           },
           "marker": {
            "color": {
             "bdata": "AAAAAAAAAAAAAAAAAAAAAAAAAAAAAAAAAAAAAAAAAAAAAAAAAAAAAB1EM6ia6QA/HUQzqJrpAD8AAAAAAAAAAAAAAAAAAAAAK+ZM/GdeGT8dRDOomukAPx1EM6ia6QA/AAAAAAAAAACnfUanNEE3Px1EM6ia6QA/JBVAUgEkJT8r5kz8Z14pPyQVQFIBJCU/AAAAAAAAAAAAAAAAAAAAAAAAAAAAAAAAK+ZM/GdeOT8dRDOomukwP0eCRPEU4Xs/K+ZM/GdeGT8kFUBSASQlPzO3WabOmG0/JBVAUgEkJT8AAAAAAAAAAB1EM6ia6QA/AAAAAAAAAACP35iSJ8NiP/yp8dJNYmA/guW68Ue1eD+hrDn9zQYzPyQVQFIBJEU/ux2q26G6fT8dRDOomukgPx1EM6ia6QA/AAAAAAAAAAAdRDOomukAPwAAAAAAAAAACMm/wy9v1z8U/5lXBuDLP/OtXRIOWWQ/HUQzqJrpQD9Fr4EnTqtlP/p+arx0k3g/K+ZM/GdeKT8dRDOomukAPwAAAAAAAAAAAAAAAAAAAAAU6WjEwXnjP3uJFf6+R+I/HUQzqJrp4D+HAKg7s+3eP/m5i5+7+Nk/B6Wqg91t2z+AujPbbubQPx1EM6ia6TA/fxL4J4F/Yj/8US2GO8l+PyvmTPxnXhk/AAAAAAAAAAC+tUvCIYvCP9L2eNP1ncM/fRPTNzF9sz9mBzBDzf/QP/IbU/JkWNI/nGXqjNkB1D90Q6GdekCQP6Vo8COg2Ls/JugCHMhZez+cru8cLgJ1PwN7/ny0nFQ/R8TXquIT0T8AzSsD8GWzP3QQzaBqpsM/o3/8xpQ8yT81DkPjMDTOP/OtXRIOWWQ/MrdZps6YPT+W1ZWMkPzTP810CIC6M+c/+yamb2L61j+LQIXVICXaP+TuoFR1sNM/w9/3yEpcuT9tjzdd3zngP2tksEYGa9w/KsI3vBVd1T8+CtejcD3KP1xNLzxbKWo/mQePefCY4z9datKlJl3mP3gkSBRPEc4/luRUSU6V1D/zZFiCuVjbPw2FduoBQeg/5PUSK/x94z96rgVOwUbrP59rgVOw0dY/mTPxn3llwD96gqMnOHrCP+P9XxEzSdQ/OzcU2qkH3D+21lprrbXiP20hQn2IOtY/A0gqgKQC4D8/z7XAKdjkP7TtZg6iGew/wbviiPha4T84MX0T0zfRP8KW8jj2W+Q/mxzl/IQB4z/6S5a/ZPnbP3/CgMGlseE/SOF6FK5H6T9W+PseWYnrP+OPajHcSeY/lrjyIsXI4z9H8DnRa+DlPw==",
             "dtype": "f8"
            },
            "coloraxis": "coloraxis",
            "size": {
             "bdata": "AAAAAAAAAAAAAAAAAAAAAAAAAAAAAAAAAAAAAAAAAAAAAAAAAAAAAB1EM6ia6QA/HUQzqJrpAD8AAAAAAAAAAAAAAAAAAAAAK+ZM/GdeGT8dRDOomukAPx1EM6ia6QA/AAAAAAAAAACnfUanNEE3Px1EM6ia6QA/JBVAUgEkJT8r5kz8Z14pPyQVQFIBJCU/AAAAAAAAAAAAAAAAAAAAAAAAAAAAAAAAK+ZM/GdeOT8dRDOomukwP0eCRPEU4Xs/K+ZM/GdeGT8kFUBSASQlPzO3WabOmG0/JBVAUgEkJT8AAAAAAAAAAB1EM6ia6QA/AAAAAAAAAACP35iSJ8NiP/yp8dJNYmA/guW68Ue1eD+hrDn9zQYzPyQVQFIBJEU/ux2q26G6fT8dRDOomukgPx1EM6ia6QA/AAAAAAAAAAAdRDOomukAPwAAAAAAAAAACMm/wy9v1z8U/5lXBuDLP/OtXRIOWWQ/HUQzqJrpQD9Fr4EnTqtlP/p+arx0k3g/K+ZM/GdeKT8dRDOomukAPwAAAAAAAAAAAAAAAAAAAAAU6WjEwXnjP3uJFf6+R+I/HUQzqJrp4D+HAKg7s+3eP/m5i5+7+Nk/B6Wqg91t2z+AujPbbubQPx1EM6ia6TA/fxL4J4F/Yj/8US2GO8l+PyvmTPxnXhk/AAAAAAAAAAC+tUvCIYvCP9L2eNP1ncM/fRPTNzF9sz9mBzBDzf/QP/IbU/JkWNI/nGXqjNkB1D90Q6GdekCQP6Vo8COg2Ls/JugCHMhZez+cru8cLgJ1PwN7/ny0nFQ/R8TXquIT0T8AzSsD8GWzP3QQzaBqpsM/o3/8xpQ8yT81DkPjMDTOP/OtXRIOWWQ/MrdZps6YPT+W1ZWMkPzTP810CIC6M+c/+yamb2L61j+LQIXVICXaP+TuoFR1sNM/w9/3yEpcuT9tjzdd3zngP2tksEYGa9w/KsI3vBVd1T8+CtejcD3KP1xNLzxbKWo/mQePefCY4z9datKlJl3mP3gkSBRPEc4/luRUSU6V1D/zZFiCuVjbPw2FduoBQeg/5PUSK/x94z96rgVOwUbrP59rgVOw0dY/mTPxn3llwD96gqMnOHrCP+P9XxEzSdQ/OzcU2qkH3D+21lprrbXiP20hQn2IOtY/A0gqgKQC4D8/z7XAKdjkP7TtZg6iGew/wbviiPha4T84MX0T0zfRP8KW8jj2W+Q/mxzl/IQB4z/6S5a/ZPnbP3/CgMGlseE/SOF6FK5H6T9W+PseWYnrP+OPajHcSeY/lrjyIsXI4z9H8DnRa+DlPw==",
             "dtype": "f8"
            },
            "sizemode": "area",
            "sizeref": 0.006043951612903227
           },
           "mode": "markers",
           "name": "",
           "showlegend": false,
           "subplot": "map",
           "type": "scattermap"
          }
         ],
         "name": "2021-12"
        },
        {
         "data": [
          {
           "hovertemplate": "month=2022-01<br>HTEURNEIGE_Q=%{marker.color}<br>lat=%{lat}<br>lon=%{lon}<extra></extra>",
           "lat": {
            "bdata": "GNilFLSrRkCtqV0k6bRGQOjesz0evkZAm+q6X1PHRkD/GkaOZ6tGQABCMISctEZAAFKvg9G9RkDuttWLBsdGQG43+PgXq0ZAYvcM1Ey0RkAzxay4gb1GQKMF6qW2xkZATM7WmuvPRkC6Xg2gkKFGQB/o1lTFqkZAO5cOFPqzRkCvGMfcLr1GQMLJEq5jxkZAk7gDh5jPRkA/pKtmzdhGQAj9G0wC4kZAFh4O/dGORkBVnm99BphGQJR3Dgo7oUZA7u39oW+qRkDb9VBEpLNGQEI0GvDYvEZAt/5rpA3GRkCOW1hgQs9GQA0C8SJ32EZAllpH66vhRkACIx2VeY5GQJY+s/etl0ZAyc57ZuKgRkDfD4rgFqpGQGPu8GRLs0ZAUAfD8n+8RkApqBKJtMVGQEHP8SbpzkZAwStyyx3YRkDqHaV1UuFGQC+3mySH6kZA3hrDIR6ORkBDg4dlUpdGQJMcc7WGoEZA6RqZELupRkCoYgx277JGQI+I3+QjvEZA39EkXFjFRkCQNO7ajM5GQHNXTWDB10ZAWZJT6/XgRkCa1fWe72hGQIoROokjckZA8ApKg1d7RkBzLjqMi4RGQEmYHqO/jUZASRQLx/OWRkA2HhP3J6BGQMzhSTJcqUZA+TrCd5CyRkD6tY7GxLtGQIiPwR35xEZABbVsfC3ORkDuQieYjmhGQFMivWHCcUZALd8SO/Z6RkCi3TwjKoRGQGoxTxlejUZA1Z1dHJKWRkD9lXsrxp9GQAM9vEX6qEZAEmYyai6yRkCslPCXYrtGQLb8CM6WxEZAEOke8/ZeRkD75WKKKmhGQBPWRTJecUZAimXc6ZF6RkDX7zqwxYNGQOV/dYT5jEZAMtCfZS2WRkAHS81SYZ9GQIUKEUuVqEZA7dh9TcmxRkAD2jABkF5GQPr+yXXDZ0ZABYT1+vZwRkBkDMiPKnpGQJ7qVTNeg0ZAkyCz5JGMRkCzX/OixZVGQBcJKm35nkZAui1qQi2oRkCgjsYhYbFGQHTOflpZZ0ZAZ4Tuu4xwRkDWQ/gswHlGQAFWsKzzgkZAf7MqOieMRkBuBHvUWpVGQICgtHqOnkZAQo/qK8KnRkAuiC/n9bBGQNbylaspukZAbzBUdR9wRkCIfZDBUnlGQDu8bRyGgkZAndv/hLmLRkArelr67JRGQPXlkHsgnkZAyhy2B1SnRkBjzNydh7BGQP7hSievb0ZAkiy1TeJ4RkC8qbKCFYJGQME+V8VIi0ZAtGfzRRawRkCK8/fRO29GQE7Fi9FueEZA87+BdcVuRkA2vTpN+HdGQA==",
            "dtype": "f8"
           },
           "legendgroup": "",
           "lon": {
            "bdata": "fdMnuEhZE0DmL32SnFwTQNK/OqTyXxNAogWY70pjE0AzeK7LucETQMUBOFowxRNA6VQ7N6nIE0DN9QZlJMwTQPY8B5MoKhRAbH9508EtFEB2EnR5XTEUQPp2XIf7NBRAimCb/5s4FEAaU1yB244UQDZ+OveUkhRA+yYz51CWFED0eb9TD5oUQGbvWz/QnRRA01CIrJOhFEB/vsedWaUUQAi1oBUiqRRAQ1VZZnLvFECNhd5XSfMUQPaUWdUi9xRAgsBT4f76FED8o1l+3f4UQI0/+66+AhVAYP3LdaIGFUBWt2LViAoVQMC8WdBxDhVAKthOaV0SFUB4EihJclcVQH/upKBrWxVAiz3YmmdfFUCxzmE6ZmMVQKzt5IFnZxVAoWgIdGtrFUDtlXYTcm8VQBda3WJ7cxVAtS3uZId3FUBqI14clnsVQPDt5YunfxVA4jrdi2+/FUBga7VGi8MVQO0rAbupxxVA8td268rLFUBNZdDa7s8VQENqy4sV1BVAiSMpAT/YFUBTeq49a9wVQIkKJESa4BVA2ihWF8zkFUD/UhGUjRYWQNnzlIrAGhZA4N02RvYeFkACT7XJLiMWQCwl0hdqJxZALuRSM6grFkDNuwAf6S8WQN2NqN0sNBZAXfQacnM4FkCpRyzfvDwWQLSktCcJQRZATvOPTlhFFkDGxoG8/H0WQEAk7LZRghZAt8XRjKmGFkBw9AZBBIsWQJS2Y9ZhjxZAWtXDT8KTFkBG4wawJZgWQGlCEPqLnBZAwSrHMPWgFkCEsBZXYaUWQJvK7W/QqRZAUJ61//TgFkDQGUgMaeUWQHCiyAfg6RZAIrMd9VnuFkBWmjHX1vIWQEiA8rBW9xZAXm1Shdn7FkCVUEdXXwAXQOwFyynoBBdA+Fzb/3MJF0D6Vp54PEgXQFL1IG3STBdANS/RZmtRF0DFYatoB1YXQEzar3WmWhdAvdzikEhfF0BFqky97WMXQN6H+f2VaBdA8sT5VUFtF0AkwmHI73EXQLbPzMg4tBdA116wvfO4F0AXZw/Rsb0XQBYuAAZzwhdA+wydXzfHF0AZdwTh/ssXQMYAWY3J0BdAKGbBZ5fVF0AlkmhzaNoXQEGlfbM83xdAwbUU9nggGEAnT+IXWSUYQKUMpXE8KhhAzlWNBiMvGEBWyc/ZDDQYQBxEpe75OBhAGOhKSOo9GECDIwLq3UIYQCTFsPn6hxhAibnAJv2MGEAgByWiApIYQP8cJG8LlxhAcwlFFVCrGECRRzuyee8YQAN2S+ed9BhAfj1vCfVWGUBEoSdDO1wZQA==",
            "dtype": "f8"
           },
           "marker": {
            "color": {
             "bdata": "AAAAAAAAAAAAAAAAAAAAAAAAAAAAAAAAAAAAAAAAAAAAAAAAAAAAAAAAAAAAAAAAAAAAAAAAAAAAAAAAAAAAAAAAAAAAAAAAHUQzqJrpAD8AAAAAAAAAAAAAAAAAAAAAAAAAAAAAAAAdRDOomukQPwAAAAAAAAAAHUQzqJrpAD8dRDOomukAPx1EM6ia6QA/AAAAAAAAAAAAAAAAAAAAAAAAAAAAAAAAAAAAAAAAAAAdRDOomukAPzO3WabOmD0/HUQzqJrpAD8dRDOomukAPx1EM6ia6TA/HUQzqJrpAD8AAAAAAAAAAAAAAAAAAAAAAAAAAAAAAAAdRDOomukAPx1EM6ia6QA/rk5TUZt7Oz8dRDOomukAPx1EM6ia6RA/th9g+wG2Pz8dRDOomukAPwAAAAAAAAAAAAAAAAAAAAAAAAAAAAAAAAAAAAAAAAAAOZclDfNryj/JZ//iXJa0Px1EM6ia6QA/HUQzqJrpED8dRDOomukgP65OU1Gbezs/HUQzqJrpAD8AAAAAAAAAAAAAAAAAAAAAK+ZM/GdeKT8qrAYp0fbgP0/PKijgtd0/bNHKFq1s2T+EJnObZerUP5zEILByaNE/mXz2L85l0T81K+ZM/Ge+PwAAAAAAAAAAHUQzqJrpID+2H2D7AbY/Px1EM6ia6QA/AAAAAAAAAAAthjvJHvqyP5KORhyc97Q/QLE3R66mlz/BtHCycY3BP+sIs44w68g/5MI+Luzjwj+2H2D7AbZPP3V2dZqK2qw/M7dZps6YPT+nfUanNEE3P6GsOf3NBkM/FPDamkhHwz8ZGoehcRiaP8qhRbbz/bQ/SQwCK4cWuT9nbdg87TO6P69OU1Gbe0s/oaw5/c0GQz81bXkGyprDP6dKcqokp+I/3fExhIWpzj86iGZQNdPZP7JqG6u2sco/+lIIluvGnz9k8tm/OJfVP+TCPi7s49I/I4M1Mlgjwz/rO4eLQIW1P69OU1Gbe0s/DKpmOgRA3T8vm5FMs2LiP9e5odBOPcA/VA8Iwk3tyD96xDbhBa3XP+FdcUR8reY//dzFz1384D/3YqJiWV3tP/6hpOwWl8s/SSIzvst8pT8W0lwhzRWiP7zp+s7hIsA/02OTo5yf2D/B50SvgSfmPyJJ717Bu9I/C8jks39x1j/yKhKvIvHiP9UDgnBTO+4/+5sNJkDH2D/u+BjCwlS/P3kyLMFcrOk/yM6C7CzI5j8oniJ8w1vZP+vGH9ViuOM/6kpGSP4d7j913B2Uqg7yPx5LpX4ht+w/GHJL7oOx6z/7+kNJ2S3uPw==",
             "dtype": "f8"
            },
            "coloraxis": "coloraxis",
            "size": {
             "bdata": "AAAAAAAAAAAAAAAAAAAAAAAAAAAAAAAAAAAAAAAAAAAAAAAAAAAAAAAAAAAAAAAAAAAAAAAAAAAAAAAAAAAAAAAAAAAAAAAAHUQzqJrpAD8AAAAAAAAAAAAAAAAAAAAAAAAAAAAAAAAdRDOomukQPwAAAAAAAAAAHUQzqJrpAD8dRDOomukAPx1EM6ia6QA/AAAAAAAAAAAAAAAAAAAAAAAAAAAAAAAAAAAAAAAAAAAdRDOomukAPzO3WabOmD0/HUQzqJrpAD8dRDOomukAPx1EM6ia6TA/HUQzqJrpAD8AAAAAAAAAAAAAAAAAAAAAAAAAAAAAAAAdRDOomukAPx1EM6ia6QA/rk5TUZt7Oz8dRDOomukAPx1EM6ia6RA/th9g+wG2Pz8dRDOomukAPwAAAAAAAAAAAAAAAAAAAAAAAAAAAAAAAAAAAAAAAAAAOZclDfNryj/JZ//iXJa0Px1EM6ia6QA/HUQzqJrpED8dRDOomukgP65OU1Gbezs/HUQzqJrpAD8AAAAAAAAAAAAAAAAAAAAAK+ZM/GdeKT8qrAYp0fbgP0/PKijgtd0/bNHKFq1s2T+EJnObZerUP5zEILByaNE/mXz2L85l0T81K+ZM/Ge+PwAAAAAAAAAAHUQzqJrpID+2H2D7AbY/Px1EM6ia6QA/AAAAAAAAAAAthjvJHvqyP5KORhyc97Q/QLE3R66mlz/BtHCycY3BP+sIs44w68g/5MI+Luzjwj+2H2D7AbZPP3V2dZqK2qw/M7dZps6YPT+nfUanNEE3P6GsOf3NBkM/FPDamkhHwz8ZGoehcRiaP8qhRbbz/bQ/SQwCK4cWuT9nbdg87TO6P69OU1Gbe0s/oaw5/c0GQz81bXkGyprDP6dKcqokp+I/3fExhIWpzj86iGZQNdPZP7JqG6u2sco/+lIIluvGnz9k8tm/OJfVP+TCPi7s49I/I4M1Mlgjwz/rO4eLQIW1P69OU1Gbe0s/DKpmOgRA3T8vm5FMs2LiP9e5odBOPcA/VA8Iwk3tyD96xDbhBa3XP+FdcUR8reY//dzFz1384D/3YqJiWV3tP/6hpOwWl8s/SSIzvst8pT8W0lwhzRWiP7zp+s7hIsA/02OTo5yf2D/B50SvgSfmPyJJ717Bu9I/C8jks39x1j/yKhKvIvHiP9UDgnBTO+4/+5sNJkDH2D/u+BjCwlS/P3kyLMFcrOk/yM6C7CzI5j8oniJ8w1vZP+vGH9ViuOM/6kpGSP4d7j913B2Uqg7yPx5LpX4ht+w/GHJL7oOx6z/7+kNJ2S3uPw==",
             "dtype": "f8"
            },
            "sizemode": "area",
            "sizeref": 0.006043951612903227
           },
           "mode": "markers",
           "name": "",
           "showlegend": false,
           "subplot": "map",
           "type": "scattermap"
          }
         ],
         "name": "2022-01"
        },
        {
         "data": [
          {
           "hovertemplate": "month=2022-02<br>HTEURNEIGE_Q=%{marker.color}<br>lat=%{lat}<br>lon=%{lon}<extra></extra>",
           "lat": {
            "bdata": "GNilFLSrRkCtqV0k6bRGQOjesz0evkZAm+q6X1PHRkD/GkaOZ6tGQABCMISctEZAAFKvg9G9RkDuttWLBsdGQG43+PgXq0ZAYvcM1Ey0RkAzxay4gb1GQKMF6qW2xkZATM7WmuvPRkC6Xg2gkKFGQB/o1lTFqkZAO5cOFPqzRkCvGMfcLr1GQMLJEq5jxkZAk7gDh5jPRkA/pKtmzdhGQAj9G0wC4kZAFh4O/dGORkBVnm99BphGQJR3Dgo7oUZA7u39oW+qRkDb9VBEpLNGQEI0GvDYvEZAt/5rpA3GRkCOW1hgQs9GQA0C8SJ32EZAllpH66vhRkACIx2VeY5GQJY+s/etl0ZAyc57ZuKgRkDfD4rgFqpGQGPu8GRLs0ZAUAfD8n+8RkApqBKJtMVGQEHP8SbpzkZAwStyyx3YRkDqHaV1UuFGQC+3mySH6kZA3hrDIR6ORkBDg4dlUpdGQJMcc7WGoEZA6RqZELupRkCoYgx277JGQI+I3+QjvEZA39EkXFjFRkCQNO7ajM5GQHNXTWDB10ZAWZJT6/XgRkCa1fWe72hGQIoROokjckZA8ApKg1d7RkBzLjqMi4RGQEmYHqO/jUZASRQLx/OWRkA2HhP3J6BGQMzhSTJcqUZA+TrCd5CyRkD6tY7GxLtGQIiPwR35xEZABbVsfC3ORkDuQieYjmhGQFMivWHCcUZALd8SO/Z6RkCi3TwjKoRGQGoxTxlejUZA1Z1dHJKWRkD9lXsrxp9GQAM9vEX6qEZAEmYyai6yRkCslPCXYrtGQLb8CM6WxEZAEOke8/ZeRkD75WKKKmhGQBPWRTJecUZAimXc6ZF6RkDX7zqwxYNGQOV/dYT5jEZAMtCfZS2WRkAHS81SYZ9GQIUKEUuVqEZA7dh9TcmxRkAD2jABkF5GQPr+yXXDZ0ZABYT1+vZwRkBkDMiPKnpGQJ7qVTNeg0ZAkyCz5JGMRkCzX/OixZVGQBcJKm35nkZAui1qQi2oRkCgjsYhYbFGQHTOflpZZ0ZAZ4Tuu4xwRkDWQ/gswHlGQAFWsKzzgkZAf7MqOieMRkBuBHvUWpVGQICgtHqOnkZAQo/qK8KnRkAuiC/n9bBGQNbylaspukZAbzBUdR9wRkCIfZDBUnlGQDu8bRyGgkZAndv/hLmLRkArelr67JRGQPXlkHsgnkZAyhy2B1SnRkBjzNydh7BGQP7hSievb0ZAkiy1TeJ4RkC8qbKCFYJGQME+V8VIi0ZAtGfzRRawRkCK8/fRO29GQE7Fi9FueEZA87+BdcVuRkA2vTpN+HdGQA==",
            "dtype": "f8"
           },
           "legendgroup": "",
           "lon": {
            "bdata": "fdMnuEhZE0DmL32SnFwTQNK/OqTyXxNAogWY70pjE0AzeK7LucETQMUBOFowxRNA6VQ7N6nIE0DN9QZlJMwTQPY8B5MoKhRAbH9508EtFEB2EnR5XTEUQPp2XIf7NBRAimCb/5s4FEAaU1yB244UQDZ+OveUkhRA+yYz51CWFED0eb9TD5oUQGbvWz/QnRRA01CIrJOhFEB/vsedWaUUQAi1oBUiqRRAQ1VZZnLvFECNhd5XSfMUQPaUWdUi9xRAgsBT4f76FED8o1l+3f4UQI0/+66+AhVAYP3LdaIGFUBWt2LViAoVQMC8WdBxDhVAKthOaV0SFUB4EihJclcVQH/upKBrWxVAiz3YmmdfFUCxzmE6ZmMVQKzt5IFnZxVAoWgIdGtrFUDtlXYTcm8VQBda3WJ7cxVAtS3uZId3FUBqI14clnsVQPDt5YunfxVA4jrdi2+/FUBga7VGi8MVQO0rAbupxxVA8td268rLFUBNZdDa7s8VQENqy4sV1BVAiSMpAT/YFUBTeq49a9wVQIkKJESa4BVA2ihWF8zkFUD/UhGUjRYWQNnzlIrAGhZA4N02RvYeFkACT7XJLiMWQCwl0hdqJxZALuRSM6grFkDNuwAf6S8WQN2NqN0sNBZAXfQacnM4FkCpRyzfvDwWQLSktCcJQRZATvOPTlhFFkDGxoG8/H0WQEAk7LZRghZAt8XRjKmGFkBw9AZBBIsWQJS2Y9ZhjxZAWtXDT8KTFkBG4wawJZgWQGlCEPqLnBZAwSrHMPWgFkCEsBZXYaUWQJvK7W/QqRZAUJ61//TgFkDQGUgMaeUWQHCiyAfg6RZAIrMd9VnuFkBWmjHX1vIWQEiA8rBW9xZAXm1Shdn7FkCVUEdXXwAXQOwFyynoBBdA+Fzb/3MJF0D6Vp54PEgXQFL1IG3STBdANS/RZmtRF0DFYatoB1YXQEzar3WmWhdAvdzikEhfF0BFqky97WMXQN6H+f2VaBdA8sT5VUFtF0AkwmHI73EXQLbPzMg4tBdA116wvfO4F0AXZw/Rsb0XQBYuAAZzwhdA+wydXzfHF0AZdwTh/ssXQMYAWY3J0BdAKGbBZ5fVF0AlkmhzaNoXQEGlfbM83xdAwbUU9nggGEAnT+IXWSUYQKUMpXE8KhhAzlWNBiMvGEBWyc/ZDDQYQBxEpe75OBhAGOhKSOo9GECDIwLq3UIYQCTFsPn6hxhAibnAJv2MGEAgByWiApIYQP8cJG8LlxhAcwlFFVCrGECRRzuyee8YQAN2S+ed9BhAfj1vCfVWGUBEoSdDO1wZQA==",
            "dtype": "f8"
           },
           "marker": {
            "color": {
             "bdata": "AAAAAAAAAAAAAAAAAAAAAAAAAAAAAAAAAAAAAAAAAAAAAAAAAAAAAAAAAAAAAAAAAAAAAAAAAAAAAAAAAAAAAAAAAAAAAAAAAAAAAAAAAAAAAAAAAAAAAAAAAAAAAAAAAAAAAAAAAAAAAAAAAAAAAAAAAAAAAAAAAAAAAAAAAAAAAAAAAAAAAAAAAAAAAAAAAAAAAAAAAAAAAAAAAAAAAAAAAAAAAAAAAAAAAAAAAAAAAAAAAAAAAAAAAAAAAAAAAAAAAAAAAAAAAAAAAAAAAAAAAAAAAAAAAAAAAAAAAAAAAAAAAAAAAAAAAAAAAAAAAAAAAAAAAAAAAAAAAAAAAAAAAAAAAAAAAAAAAAAAAAAAAAAAAAAAAAAAAAAAAAAAAAAAAAAAAAAAAAAAAAAAAAAAAAAAAAAAAAAAAAAAAAAAAAAAAAAAAAAAAAAAAAAASQwCK4cWuT/0/dR46SahPwAAAAAAAAAAAAAAAAAAAAAAAAAAAAAAAAAAAAAAAAAAAAAAAAAAAAAAAAAAAAAAAAAAAAAAAAAAAAAAAAAAAABYfMVXfMXjP4GVQ4ts598/ZX7w3pKe2D9izUaqrsHSP3c4ffwjz8Q/MzMzMzMzyz9+uRJArzu0PwAAAAAAAAAAAAAAAAAAAAAAAAAAAAAAAAAAAAAAAAAAAAAAAAAAAAAOs9S7+rWWPxupugb7cqU/QlSglAy/OT9ltbwxgom+Px/I/OC9JcU/8sYIJvo7uT8AAAAAAAAAAM59dgGxqaQ/AAAAAAAAAAAAAAAAAAAAAI5UXYN9uRI/wntLeprQvT+OVF2DfbkyPzcPZH7w3qI/UQd1UAd1oD9nI1XXYF+uPwAAAAAAAAAAAAAAAAAAAABb0tOELmO3P2haISpQSuU/FqICpWT4yT9NK0QFSsnUPyb6O1ktb8g/RX8nq+WNQT8RFSglw2/UP4ec++wCYtM/Hk4f/8gzvT9ltbwxgomePwAAAAAAAAAAQxGPBQe43T8JoNcdTh/jP0OLbOf7qbE/8RVf8RVfwT9dCaDXHU7VPxP9nayWN+o/0d/Janlj4z87ZXKronzxP1BKht8MfMg/Zql39Wttfj+vfq3NA5lPPxdTrNlI1ZU/hetRuB6F1z+Qf+SZVojnP4r+TlbLG9E/mwcyP3hv1z8b7MuVAHrlP8vYEQnjaPI/FqICpWT42T+lpwldxo6wPyir5Y0RTOs/qXf1a20e6D8rvuIrvuLXP/4XingsOOQ/trwxgol+8z8lSZIkSRLzP64E0OsOp+4/6uMfeaYV6z/G0VmnTG7tPw==",
             "dtype": "f8"
            },
            "coloraxis": "coloraxis",
            "size": {
             "bdata": "AAAAAAAAAAAAAAAAAAAAAAAAAAAAAAAAAAAAAAAAAAAAAAAAAAAAAAAAAAAAAAAAAAAAAAAAAAAAAAAAAAAAAAAAAAAAAAAAAAAAAAAAAAAAAAAAAAAAAAAAAAAAAAAAAAAAAAAAAAAAAAAAAAAAAAAAAAAAAAAAAAAAAAAAAAAAAAAAAAAAAAAAAAAAAAAAAAAAAAAAAAAAAAAAAAAAAAAAAAAAAAAAAAAAAAAAAAAAAAAAAAAAAAAAAAAAAAAAAAAAAAAAAAAAAAAAAAAAAAAAAAAAAAAAAAAAAAAAAAAAAAAAAAAAAAAAAAAAAAAAAAAAAAAAAAAAAAAAAAAAAAAAAAAAAAAAAAAAAAAAAAAAAAAAAAAAAAAAAAAAAAAAAAAAAAAAAAAAAAAAAAAAAAAAAAAAAAAAAAAAAAAAAAAAAAAAAAAAAAAAAAAAAAAASQwCK4cWuT/0/dR46SahPwAAAAAAAAAAAAAAAAAAAAAAAAAAAAAAAAAAAAAAAAAAAAAAAAAAAAAAAAAAAAAAAAAAAAAAAAAAAAAAAAAAAABYfMVXfMXjP4GVQ4ts598/ZX7w3pKe2D9izUaqrsHSP3c4ffwjz8Q/MzMzMzMzyz9+uRJArzu0PwAAAAAAAAAAAAAAAAAAAAAAAAAAAAAAAAAAAAAAAAAAAAAAAAAAAAAOs9S7+rWWPxupugb7cqU/QlSglAy/OT9ltbwxgom+Px/I/OC9JcU/8sYIJvo7uT8AAAAAAAAAAM59dgGxqaQ/AAAAAAAAAAAAAAAAAAAAAI5UXYN9uRI/wntLeprQvT+OVF2DfbkyPzcPZH7w3qI/UQd1UAd1oD9nI1XXYF+uPwAAAAAAAAAAAAAAAAAAAABb0tOELmO3P2haISpQSuU/FqICpWT4yT9NK0QFSsnUPyb6O1ktb8g/RX8nq+WNQT8RFSglw2/UP4ec++wCYtM/Hk4f/8gzvT9ltbwxgomePwAAAAAAAAAAQxGPBQe43T8JoNcdTh/jP0OLbOf7qbE/8RVf8RVfwT9dCaDXHU7VPxP9nayWN+o/0d/Janlj4z87ZXKronzxP1BKht8MfMg/Zql39Wttfj+vfq3NA5lPPxdTrNlI1ZU/hetRuB6F1z+Qf+SZVojnP4r+TlbLG9E/mwcyP3hv1z8b7MuVAHrlP8vYEQnjaPI/FqICpWT42T+lpwldxo6wPyir5Y0RTOs/qXf1a20e6D8rvuIrvuLXP/4XingsOOQ/trwxgol+8z8lSZIkSRLzP64E0OsOp+4/6uMfeaYV6z/G0VmnTG7tPw==",
             "dtype": "f8"
            },
            "sizemode": "area",
            "sizeref": 0.006043951612903227
           },
           "mode": "markers",
           "name": "",
           "showlegend": false,
           "subplot": "map",
           "type": "scattermap"
          }
         ],
         "name": "2022-02"
        },
        {
         "data": [
          {
           "hovertemplate": "month=2022-03<br>HTEURNEIGE_Q=%{marker.color}<br>lat=%{lat}<br>lon=%{lon}<extra></extra>",
           "lat": {
            "bdata": "GNilFLSrRkCtqV0k6bRGQOjesz0evkZAm+q6X1PHRkD/GkaOZ6tGQABCMISctEZAAFKvg9G9RkDuttWLBsdGQG43+PgXq0ZAYvcM1Ey0RkAzxay4gb1GQKMF6qW2xkZATM7WmuvPRkC6Xg2gkKFGQB/o1lTFqkZAO5cOFPqzRkCvGMfcLr1GQMLJEq5jxkZAk7gDh5jPRkA/pKtmzdhGQAj9G0wC4kZAFh4O/dGORkBVnm99BphGQJR3Dgo7oUZA7u39oW+qRkDb9VBEpLNGQEI0GvDYvEZAt/5rpA3GRkCOW1hgQs9GQA0C8SJ32EZAllpH66vhRkACIx2VeY5GQJY+s/etl0ZAyc57ZuKgRkDfD4rgFqpGQGPu8GRLs0ZAUAfD8n+8RkApqBKJtMVGQEHP8SbpzkZAwStyyx3YRkDqHaV1UuFGQC+3mySH6kZA3hrDIR6ORkBDg4dlUpdGQJMcc7WGoEZA6RqZELupRkCoYgx277JGQI+I3+QjvEZA39EkXFjFRkCQNO7ajM5GQHNXTWDB10ZAWZJT6/XgRkCa1fWe72hGQIoROokjckZA8ApKg1d7RkBzLjqMi4RGQEmYHqO/jUZASRQLx/OWRkA2HhP3J6BGQMzhSTJcqUZA+TrCd5CyRkD6tY7GxLtGQIiPwR35xEZABbVsfC3ORkDuQieYjmhGQFMivWHCcUZALd8SO/Z6RkCi3TwjKoRGQGoxTxlejUZA1Z1dHJKWRkD9lXsrxp9GQAM9vEX6qEZAEmYyai6yRkCslPCXYrtGQLb8CM6WxEZAEOke8/ZeRkD75WKKKmhGQBPWRTJecUZAimXc6ZF6RkDX7zqwxYNGQOV/dYT5jEZAMtCfZS2WRkAHS81SYZ9GQIUKEUuVqEZA7dh9TcmxRkAD2jABkF5GQPr+yXXDZ0ZABYT1+vZwRkBkDMiPKnpGQJ7qVTNeg0ZAkyCz5JGMRkCzX/OixZVGQBcJKm35nkZAui1qQi2oRkCgjsYhYbFGQHTOflpZZ0ZAZ4Tuu4xwRkDWQ/gswHlGQAFWsKzzgkZAf7MqOieMRkBuBHvUWpVGQICgtHqOnkZAQo/qK8KnRkAuiC/n9bBGQNbylaspukZAbzBUdR9wRkCIfZDBUnlGQDu8bRyGgkZAndv/hLmLRkArelr67JRGQPXlkHsgnkZAyhy2B1SnRkBjzNydh7BGQP7hSievb0ZAkiy1TeJ4RkC8qbKCFYJGQME+V8VIi0ZAtGfzRRawRkCK8/fRO29GQE7Fi9FueEZA87+BdcVuRkA2vTpN+HdGQA==",
            "dtype": "f8"
           },
           "legendgroup": "",
           "lon": {
            "bdata": "fdMnuEhZE0DmL32SnFwTQNK/OqTyXxNAogWY70pjE0AzeK7LucETQMUBOFowxRNA6VQ7N6nIE0DN9QZlJMwTQPY8B5MoKhRAbH9508EtFEB2EnR5XTEUQPp2XIf7NBRAimCb/5s4FEAaU1yB244UQDZ+OveUkhRA+yYz51CWFED0eb9TD5oUQGbvWz/QnRRA01CIrJOhFEB/vsedWaUUQAi1oBUiqRRAQ1VZZnLvFECNhd5XSfMUQPaUWdUi9xRAgsBT4f76FED8o1l+3f4UQI0/+66+AhVAYP3LdaIGFUBWt2LViAoVQMC8WdBxDhVAKthOaV0SFUB4EihJclcVQH/upKBrWxVAiz3YmmdfFUCxzmE6ZmMVQKzt5IFnZxVAoWgIdGtrFUDtlXYTcm8VQBda3WJ7cxVAtS3uZId3FUBqI14clnsVQPDt5YunfxVA4jrdi2+/FUBga7VGi8MVQO0rAbupxxVA8td268rLFUBNZdDa7s8VQENqy4sV1BVAiSMpAT/YFUBTeq49a9wVQIkKJESa4BVA2ihWF8zkFUD/UhGUjRYWQNnzlIrAGhZA4N02RvYeFkACT7XJLiMWQCwl0hdqJxZALuRSM6grFkDNuwAf6S8WQN2NqN0sNBZAXfQacnM4FkCpRyzfvDwWQLSktCcJQRZATvOPTlhFFkDGxoG8/H0WQEAk7LZRghZAt8XRjKmGFkBw9AZBBIsWQJS2Y9ZhjxZAWtXDT8KTFkBG4wawJZgWQGlCEPqLnBZAwSrHMPWgFkCEsBZXYaUWQJvK7W/QqRZAUJ61//TgFkDQGUgMaeUWQHCiyAfg6RZAIrMd9VnuFkBWmjHX1vIWQEiA8rBW9xZAXm1Shdn7FkCVUEdXXwAXQOwFyynoBBdA+Fzb/3MJF0D6Vp54PEgXQFL1IG3STBdANS/RZmtRF0DFYatoB1YXQEzar3WmWhdAvdzikEhfF0BFqky97WMXQN6H+f2VaBdA8sT5VUFtF0AkwmHI73EXQLbPzMg4tBdA116wvfO4F0AXZw/Rsb0XQBYuAAZzwhdA+wydXzfHF0AZdwTh/ssXQMYAWY3J0BdAKGbBZ5fVF0AlkmhzaNoXQEGlfbM83xdAwbUU9nggGEAnT+IXWSUYQKUMpXE8KhhAzlWNBiMvGEBWyc/ZDDQYQBxEpe75OBhAGOhKSOo9GECDIwLq3UIYQCTFsPn6hxhAibnAJv2MGEAgByWiApIYQP8cJG8LlxhAcwlFFVCrGECRRzuyee8YQAN2S+ed9BhAfj1vCfVWGUBEoSdDO1wZQA==",
            "dtype": "f8"
           },
           "marker": {
            "color": {
             "bdata": "AAAAAAAAAAAAAAAAAAAAAAAAAAAAAAAAAAAAAAAAAAAAAAAAAAAAAAAAAAAAAAAAAAAAAAAAAAAAAAAAAAAAAAAAAAAAAAAAAAAAAAAAAAAAAAAAAAAAAAAAAAAAAAAAAAAAAAAAAAAAAAAAAAAAAAAAAAAAAAAAAAAAAAAAAAAAAAAAAAAAAAAAAAAAAAAAAAAAAAAAAAAAAAAAAAAAAAAAAAAAAAAAAAAAAAAAAAAAAAAAAAAAAB1EM6ia6QA/AAAAAAAAAAAAAAAAAAAAAB1EM6ia6QA/AAAAAAAAAAAAAAAAAAAAAAAAAAAAAAAAAAAAAAAAAAAAAAAAAAAAAAAAAAAAAAAAHUQzqJrpAD8AAAAAAAAAAAAAAAAAAAAAHUQzqJrpAD8AAAAAAAAAAAAAAAAAAAAAAAAAAAAAAAAAAAAAAAAAAAAAAAAAAAAAp31GpzRBNz+hrDn9zQZDPx1EM6ia6QA/AAAAAAAAAAAdRDOomukAPx1EM6ia6QA/AAAAAAAAAAAAAAAAAAAAAAAAAAAAAAAAAAAAAAAAAADoAhzIWRvWPydk3Kgs9NA/W4HeSBvBxz/bLFNnzA7AP4vhTrKHvoQ/3Kgs9DCptT83taOGbp2bPwAAAAAAAAAAHUQzqJrpAD8dRDOomukAPwAAAAAAAAAAAAAAAAAAAAAr5kz8Z15JP+feBogHGoI/AAAAAAAAAACrV3tHgkSxP1kq9Qu5Jbc/7cVExbK6oj8AAAAAAAAAACDrk0vYUo4/HUQzqJrpAD8dRDOomukAPwAAAAAAAAAAEqiwGqREqz8AAAAAAAAAALF52md0SnM/CkwLJxvXWD+T3r2Cd8WBPwAAAAAAAAAAAAAAAAAAAAClaPAjoNibP5dRbxn1ltk/LCCTz/7FuT8NH87w4QzPP61WoDfSRsA/AAAAAAAAAAASZh1h1hHGP/N6iRX+vsc/dIymLc9AqT8dRDOomukAPwAAAAAAAAAAYFo42bjG0D+D1vs0ihzYPyDrk0vYUo4/moNoBlUzrT98IpL07hXMP0yWv2T5S+Y/OHMQzaBq3j8n73TyTifvP6pmOgRA3bk/HUQzqJrpAD8dRDOomukAPyvmTPxnXhk/CiCpAJIK0D8VI6+XWOHjPw9n+HCGD8c/KFUd7G5b0D/JSlx5kWLgPwmdXZ2movA/B3LWhs3Tzj+xedpndEpjP6aiNvc2QOg/21FDt84N5T/nz0fLSYHRP2gchsZhaOA/je8yX5VZ8D9DmiukuULyPzfL1BmzA+w/IOuTS9hS6j+0IDsLsrPsPw==",
             "dtype": "f8"
            },
            "coloraxis": "coloraxis",
            "size": {
             "bdata": "AAAAAAAAAAAAAAAAAAAAAAAAAAAAAAAAAAAAAAAAAAAAAAAAAAAAAAAAAAAAAAAAAAAAAAAAAAAAAAAAAAAAAAAAAAAAAAAAAAAAAAAAAAAAAAAAAAAAAAAAAAAAAAAAAAAAAAAAAAAAAAAAAAAAAAAAAAAAAAAAAAAAAAAAAAAAAAAAAAAAAAAAAAAAAAAAAAAAAAAAAAAAAAAAAAAAAAAAAAAAAAAAAAAAAAAAAAAAAAAAAAAAAB1EM6ia6QA/AAAAAAAAAAAAAAAAAAAAAB1EM6ia6QA/AAAAAAAAAAAAAAAAAAAAAAAAAAAAAAAAAAAAAAAAAAAAAAAAAAAAAAAAAAAAAAAAHUQzqJrpAD8AAAAAAAAAAAAAAAAAAAAAHUQzqJrpAD8AAAAAAAAAAAAAAAAAAAAAAAAAAAAAAAAAAAAAAAAAAAAAAAAAAAAAp31GpzRBNz+hrDn9zQZDPx1EM6ia6QA/AAAAAAAAAAAdRDOomukAPx1EM6ia6QA/AAAAAAAAAAAAAAAAAAAAAAAAAAAAAAAAAAAAAAAAAADoAhzIWRvWPydk3Kgs9NA/W4HeSBvBxz/bLFNnzA7AP4vhTrKHvoQ/3Kgs9DCptT83taOGbp2bPwAAAAAAAAAAHUQzqJrpAD8dRDOomukAPwAAAAAAAAAAAAAAAAAAAAAr5kz8Z15JP+feBogHGoI/AAAAAAAAAACrV3tHgkSxP1kq9Qu5Jbc/7cVExbK6oj8AAAAAAAAAACDrk0vYUo4/HUQzqJrpAD8dRDOomukAPwAAAAAAAAAAEqiwGqREqz8AAAAAAAAAALF52md0SnM/CkwLJxvXWD+T3r2Cd8WBPwAAAAAAAAAAAAAAAAAAAAClaPAjoNibP5dRbxn1ltk/LCCTz/7FuT8NH87w4QzPP61WoDfSRsA/AAAAAAAAAAASZh1h1hHGP/N6iRX+vsc/dIymLc9AqT8dRDOomukAPwAAAAAAAAAAYFo42bjG0D+D1vs0ihzYPyDrk0vYUo4/moNoBlUzrT98IpL07hXMP0yWv2T5S+Y/OHMQzaBq3j8n73TyTifvP6pmOgRA3bk/HUQzqJrpAD8dRDOomukAPyvmTPxnXhk/CiCpAJIK0D8VI6+XWOHjPw9n+HCGD8c/KFUd7G5b0D/JSlx5kWLgPwmdXZ2movA/B3LWhs3Tzj+xedpndEpjP6aiNvc2QOg/21FDt84N5T/nz0fLSYHRP2gchsZhaOA/je8yX5VZ8D9DmiukuULyPzfL1BmzA+w/IOuTS9hS6j+0IDsLsrPsPw==",
             "dtype": "f8"
            },
            "sizemode": "area",
            "sizeref": 0.006043951612903227
           },
           "mode": "markers",
           "name": "",
           "showlegend": false,
           "subplot": "map",
           "type": "scattermap"
          }
         ],
         "name": "2022-03"
        },
        {
         "data": [
          {
           "hovertemplate": "month=2022-04<br>HTEURNEIGE_Q=%{marker.color}<br>lat=%{lat}<br>lon=%{lon}<extra></extra>",
           "lat": {
            "bdata": "GNilFLSrRkCtqV0k6bRGQOjesz0evkZAm+q6X1PHRkD/GkaOZ6tGQABCMISctEZAAFKvg9G9RkDuttWLBsdGQG43+PgXq0ZAYvcM1Ey0RkAzxay4gb1GQKMF6qW2xkZATM7WmuvPRkC6Xg2gkKFGQB/o1lTFqkZAO5cOFPqzRkCvGMfcLr1GQMLJEq5jxkZAk7gDh5jPRkA/pKtmzdhGQAj9G0wC4kZAFh4O/dGORkBVnm99BphGQJR3Dgo7oUZA7u39oW+qRkDb9VBEpLNGQEI0GvDYvEZAt/5rpA3GRkCOW1hgQs9GQA0C8SJ32EZAllpH66vhRkACIx2VeY5GQJY+s/etl0ZAyc57ZuKgRkDfD4rgFqpGQGPu8GRLs0ZAUAfD8n+8RkApqBKJtMVGQEHP8SbpzkZAwStyyx3YRkDqHaV1UuFGQC+3mySH6kZA3hrDIR6ORkBDg4dlUpdGQJMcc7WGoEZA6RqZELupRkCoYgx277JGQI+I3+QjvEZA39EkXFjFRkCQNO7ajM5GQHNXTWDB10ZAWZJT6/XgRkCa1fWe72hGQIoROokjckZA8ApKg1d7RkBzLjqMi4RGQEmYHqO/jUZASRQLx/OWRkA2HhP3J6BGQMzhSTJcqUZA+TrCd5CyRkD6tY7GxLtGQIiPwR35xEZABbVsfC3ORkDuQieYjmhGQFMivWHCcUZALd8SO/Z6RkCi3TwjKoRGQGoxTxlejUZA1Z1dHJKWRkD9lXsrxp9GQAM9vEX6qEZAEmYyai6yRkCslPCXYrtGQLb8CM6WxEZAEOke8/ZeRkD75WKKKmhGQBPWRTJecUZAimXc6ZF6RkDX7zqwxYNGQOV/dYT5jEZAMtCfZS2WRkAHS81SYZ9GQIUKEUuVqEZA7dh9TcmxRkAD2jABkF5GQPr+yXXDZ0ZABYT1+vZwRkBkDMiPKnpGQJ7qVTNeg0ZAkyCz5JGMRkCzX/OixZVGQBcJKm35nkZAui1qQi2oRkCgjsYhYbFGQHTOflpZZ0ZAZ4Tuu4xwRkDWQ/gswHlGQAFWsKzzgkZAf7MqOieMRkBuBHvUWpVGQICgtHqOnkZAQo/qK8KnRkAuiC/n9bBGQNbylaspukZAbzBUdR9wRkCIfZDBUnlGQDu8bRyGgkZAndv/hLmLRkArelr67JRGQPXlkHsgnkZAyhy2B1SnRkBjzNydh7BGQP7hSievb0ZAkiy1TeJ4RkC8qbKCFYJGQME+V8VIi0ZAtGfzRRawRkCK8/fRO29GQE7Fi9FueEZA87+BdcVuRkA2vTpN+HdGQA==",
            "dtype": "f8"
           },
           "legendgroup": "",
           "lon": {
            "bdata": "fdMnuEhZE0DmL32SnFwTQNK/OqTyXxNAogWY70pjE0AzeK7LucETQMUBOFowxRNA6VQ7N6nIE0DN9QZlJMwTQPY8B5MoKhRAbH9508EtFEB2EnR5XTEUQPp2XIf7NBRAimCb/5s4FEAaU1yB244UQDZ+OveUkhRA+yYz51CWFED0eb9TD5oUQGbvWz/QnRRA01CIrJOhFEB/vsedWaUUQAi1oBUiqRRAQ1VZZnLvFECNhd5XSfMUQPaUWdUi9xRAgsBT4f76FED8o1l+3f4UQI0/+66+AhVAYP3LdaIGFUBWt2LViAoVQMC8WdBxDhVAKthOaV0SFUB4EihJclcVQH/upKBrWxVAiz3YmmdfFUCxzmE6ZmMVQKzt5IFnZxVAoWgIdGtrFUDtlXYTcm8VQBda3WJ7cxVAtS3uZId3FUBqI14clnsVQPDt5YunfxVA4jrdi2+/FUBga7VGi8MVQO0rAbupxxVA8td268rLFUBNZdDa7s8VQENqy4sV1BVAiSMpAT/YFUBTeq49a9wVQIkKJESa4BVA2ihWF8zkFUD/UhGUjRYWQNnzlIrAGhZA4N02RvYeFkACT7XJLiMWQCwl0hdqJxZALuRSM6grFkDNuwAf6S8WQN2NqN0sNBZAXfQacnM4FkCpRyzfvDwWQLSktCcJQRZATvOPTlhFFkDGxoG8/H0WQEAk7LZRghZAt8XRjKmGFkBw9AZBBIsWQJS2Y9ZhjxZAWtXDT8KTFkBG4wawJZgWQGlCEPqLnBZAwSrHMPWgFkCEsBZXYaUWQJvK7W/QqRZAUJ61//TgFkDQGUgMaeUWQHCiyAfg6RZAIrMd9VnuFkBWmjHX1vIWQEiA8rBW9xZAXm1Shdn7FkCVUEdXXwAXQOwFyynoBBdA+Fzb/3MJF0D6Vp54PEgXQFL1IG3STBdANS/RZmtRF0DFYatoB1YXQEzar3WmWhdAvdzikEhfF0BFqky97WMXQN6H+f2VaBdA8sT5VUFtF0AkwmHI73EXQLbPzMg4tBdA116wvfO4F0AXZw/Rsb0XQBYuAAZzwhdA+wydXzfHF0AZdwTh/ssXQMYAWY3J0BdAKGbBZ5fVF0AlkmhzaNoXQEGlfbM83xdAwbUU9nggGEAnT+IXWSUYQKUMpXE8KhhAzlWNBiMvGEBWyc/ZDDQYQBxEpe75OBhAGOhKSOo9GECDIwLq3UIYQCTFsPn6hxhAibnAJv2MGEAgByWiApIYQP8cJG8LlxhAcwlFFVCrGECRRzuyee8YQAN2S+ed9BhAfj1vCfVWGUBEoSdDO1wZQA==",
            "dtype": "f8"
           },
           "marker": {
            "color": {
             "bdata": "HoK9nOx5AT8tQxzr4jYaPy1DHOviNho/LUMc6+I2Gj8tQxzr4jYaPy1DHOviNio/HoK9nOx5IT8tQxzr4jYaPy1DHOviNho//Knx0k1iQD8tQxzr4jYqP6Xi7MNn2CU/HoK9nOx5IT/GuriNBvBWP6Xi7MNn2CU/tKNLEl6VPj8La1AhRB9JP3Hzs34gZjw/LUMc6+I2Gj8egr2c7HkRPx6CvZzseQE/tKNLEl6VLj/8qfHSTWJQP8e6uI0G8GY/6ZKEV6UHOD9x87N+IGY8P4HfmePv8Vw/cfOzfiBmPD8tQxzr4jYaPx6CvZzseSE/LUMc6+I2Gj9gB84ZUdpbPw2W1zcd7lA/ayjI4hHvYz+Ty39Iv31NP7WjSxJelU4/gd+Z4+/xXD9x87N+IGY8Py1DHOviNio/LUMc6+I2Gj8egr2c7HkhPy1DHOviNho/DCdWM1henz9dI2+mL3GRP8aPMXctIV8/16ae8tV7Vz+2ztIoN2RWP18HzhlR2ls/YTJVMCqpQz8egr2c7HkxPx6CvZzseRE/HoK9nOx5ET9gwKV2mXS+P1YRW2dplLs/rthfdk8etj+lLEMc6+KmPyZ4ME/Uv6E/8GCeqH8jpD9BFo94n9CYP6Xi7MNn2CU/Pi8CULLCWj97FK5H4XpkP7SjSxJelT4/LUMc6+I2Gj8VjErqBDRhP4MKIfrIwGQ/cPOzfiBmTD8KQ/e/NvWUP1UL//zRSqQ/Dr4wmSoYhT9x87N+IGY8P8s18mb6Enc/8Yj3CY1NaD+u2F92Tx5mP7SjSxJelS4/bqMBvAUSdD/pkoRXpQdIP1k84n1CY2M/exSuR+F6ZD+Tzq39iiKBPy1DHOviNho/HoK9nOx5ET+srdhfdk+eP8pUwaikTsg/XIyUQF23qz/7XG3F/rKrP4ts5/up8ZI/DZbXNx3uUD/0s34gZhywP6jGSzeJQbA/7XkRgJIVlj83ZBa0o0tyPx6CvZzseSE/okW28/3UwD9OzmOnMp/GP3rpJjEIrGw/DZbXNx3ucD967FTm01CwP70ta3VM8Nw/54wo7Q2+0D9q3nGKjuTmPzKfhoIsHqE/peLsw2fYZT/QsCtA7jWHP5UeYMCldpk/5BQdyeU/tD+u/YoikaPWP20MJ1YzWK4/EOm3rwPnvD9LfrHkF0vSPwr5oGez6uc/peLsw2fYtT8TYcPTK2V5P+3DZ9gVIN8/uR6F61G42j8uRkqgrtu9P3Gsi9toANM/uUOwl5M95T+X/5B++zruP2N/2T15WOQ/2RUg95oL5T9EREREREToPw==",
             "dtype": "f8"
            },
            "coloraxis": "coloraxis",
            "size": {
             "bdata": "HoK9nOx5AT8tQxzr4jYaPy1DHOviNho/LUMc6+I2Gj8tQxzr4jYaPy1DHOviNio/HoK9nOx5IT8tQxzr4jYaPy1DHOviNho//Knx0k1iQD8tQxzr4jYqP6Xi7MNn2CU/HoK9nOx5IT/GuriNBvBWP6Xi7MNn2CU/tKNLEl6VPj8La1AhRB9JP3Hzs34gZjw/LUMc6+I2Gj8egr2c7HkRPx6CvZzseQE/tKNLEl6VLj/8qfHSTWJQP8e6uI0G8GY/6ZKEV6UHOD9x87N+IGY8P4HfmePv8Vw/cfOzfiBmPD8tQxzr4jYaPx6CvZzseSE/LUMc6+I2Gj9gB84ZUdpbPw2W1zcd7lA/ayjI4hHvYz+Ty39Iv31NP7WjSxJelU4/gd+Z4+/xXD9x87N+IGY8Py1DHOviNio/LUMc6+I2Gj8egr2c7HkhPy1DHOviNho/DCdWM1henz9dI2+mL3GRP8aPMXctIV8/16ae8tV7Vz+2ztIoN2RWP18HzhlR2ls/YTJVMCqpQz8egr2c7HkxPx6CvZzseRE/HoK9nOx5ET9gwKV2mXS+P1YRW2dplLs/rthfdk8etj+lLEMc6+KmPyZ4ME/Uv6E/8GCeqH8jpD9BFo94n9CYP6Xi7MNn2CU/Pi8CULLCWj97FK5H4XpkP7SjSxJelT4/LUMc6+I2Gj8VjErqBDRhP4MKIfrIwGQ/cPOzfiBmTD8KQ/e/NvWUP1UL//zRSqQ/Dr4wmSoYhT9x87N+IGY8P8s18mb6Enc/8Yj3CY1NaD+u2F92Tx5mP7SjSxJelS4/bqMBvAUSdD/pkoRXpQdIP1k84n1CY2M/exSuR+F6ZD+Tzq39iiKBPy1DHOviNho/HoK9nOx5ET+srdhfdk+eP8pUwaikTsg/XIyUQF23qz/7XG3F/rKrP4ts5/up8ZI/DZbXNx3uUD/0s34gZhywP6jGSzeJQbA/7XkRgJIVlj83ZBa0o0tyPx6CvZzseSE/okW28/3UwD9OzmOnMp/GP3rpJjEIrGw/DZbXNx3ucD967FTm01CwP70ta3VM8Nw/54wo7Q2+0D9q3nGKjuTmPzKfhoIsHqE/peLsw2fYZT/QsCtA7jWHP5UeYMCldpk/5BQdyeU/tD+u/YoikaPWP20MJ1YzWK4/EOm3rwPnvD9LfrHkF0vSPwr5oGez6uc/peLsw2fYtT8TYcPTK2V5P+3DZ9gVIN8/uR6F61G42j8uRkqgrtu9P3Gsi9toANM/uUOwl5M95T+X/5B++zruP2N/2T15WOQ/2RUg95oL5T9EREREREToPw==",
             "dtype": "f8"
            },
            "sizemode": "area",
            "sizeref": 0.006043951612903227
           },
           "mode": "markers",
           "name": "",
           "showlegend": false,
           "subplot": "map",
           "type": "scattermap"
          }
         ],
         "name": "2022-04"
        },
        {
         "data": [
          {
           "hovertemplate": "month=2022-05<br>HTEURNEIGE_Q=%{marker.color}<br>lat=%{lat}<br>lon=%{lon}<extra></extra>",
           "lat": {
            "bdata": "GNilFLSrRkCtqV0k6bRGQOjesz0evkZAm+q6X1PHRkD/GkaOZ6tGQABCMISctEZAAFKvg9G9RkDuttWLBsdGQG43+PgXq0ZAYvcM1Ey0RkAzxay4gb1GQKMF6qW2xkZATM7WmuvPRkC6Xg2gkKFGQB/o1lTFqkZAO5cOFPqzRkCvGMfcLr1GQMLJEq5jxkZAk7gDh5jPRkA/pKtmzdhGQAj9G0wC4kZAFh4O/dGORkBVnm99BphGQJR3Dgo7oUZA7u39oW+qRkDb9VBEpLNGQEI0GvDYvEZAt/5rpA3GRkCOW1hgQs9GQA0C8SJ32EZAllpH66vhRkACIx2VeY5GQJY+s/etl0ZAyc57ZuKgRkDfD4rgFqpGQGPu8GRLs0ZAUAfD8n+8RkApqBKJtMVGQEHP8SbpzkZAwStyyx3YRkDqHaV1UuFGQC+3mySH6kZA3hrDIR6ORkBDg4dlUpdGQJMcc7WGoEZA6RqZELupRkCoYgx277JGQI+I3+QjvEZA39EkXFjFRkCQNO7ajM5GQHNXTWDB10ZAWZJT6/XgRkCa1fWe72hGQIoROokjckZA8ApKg1d7RkBzLjqMi4RGQEmYHqO/jUZASRQLx/OWRkA2HhP3J6BGQMzhSTJcqUZA+TrCd5CyRkD6tY7GxLtGQIiPwR35xEZABbVsfC3ORkDuQieYjmhGQFMivWHCcUZALd8SO/Z6RkCi3TwjKoRGQGoxTxlejUZA1Z1dHJKWRkD9lXsrxp9GQAM9vEX6qEZAEmYyai6yRkCslPCXYrtGQLb8CM6WxEZAEOke8/ZeRkD75WKKKmhGQBPWRTJecUZAimXc6ZF6RkDX7zqwxYNGQOV/dYT5jEZAMtCfZS2WRkAHS81SYZ9GQIUKEUuVqEZA7dh9TcmxRkAD2jABkF5GQPr+yXXDZ0ZABYT1+vZwRkBkDMiPKnpGQJ7qVTNeg0ZAkyCz5JGMRkCzX/OixZVGQBcJKm35nkZAui1qQi2oRkCgjsYhYbFGQHTOflpZZ0ZAZ4Tuu4xwRkDWQ/gswHlGQAFWsKzzgkZAf7MqOieMRkBuBHvUWpVGQICgtHqOnkZAQo/qK8KnRkAuiC/n9bBGQNbylaspukZAbzBUdR9wRkCIfZDBUnlGQDu8bRyGgkZAndv/hLmLRkArelr67JRGQPXlkHsgnkZAyhy2B1SnRkBjzNydh7BGQP7hSievb0ZAkiy1TeJ4RkC8qbKCFYJGQME+V8VIi0ZAtGfzRRawRkCK8/fRO29GQE7Fi9FueEZA87+BdcVuRkA2vTpN+HdGQA==",
            "dtype": "f8"
           },
           "legendgroup": "",
           "lon": {
            "bdata": "fdMnuEhZE0DmL32SnFwTQNK/OqTyXxNAogWY70pjE0AzeK7LucETQMUBOFowxRNA6VQ7N6nIE0DN9QZlJMwTQPY8B5MoKhRAbH9508EtFEB2EnR5XTEUQPp2XIf7NBRAimCb/5s4FEAaU1yB244UQDZ+OveUkhRA+yYz51CWFED0eb9TD5oUQGbvWz/QnRRA01CIrJOhFEB/vsedWaUUQAi1oBUiqRRAQ1VZZnLvFECNhd5XSfMUQPaUWdUi9xRAgsBT4f76FED8o1l+3f4UQI0/+66+AhVAYP3LdaIGFUBWt2LViAoVQMC8WdBxDhVAKthOaV0SFUB4EihJclcVQH/upKBrWxVAiz3YmmdfFUCxzmE6ZmMVQKzt5IFnZxVAoWgIdGtrFUDtlXYTcm8VQBda3WJ7cxVAtS3uZId3FUBqI14clnsVQPDt5YunfxVA4jrdi2+/FUBga7VGi8MVQO0rAbupxxVA8td268rLFUBNZdDa7s8VQENqy4sV1BVAiSMpAT/YFUBTeq49a9wVQIkKJESa4BVA2ihWF8zkFUD/UhGUjRYWQNnzlIrAGhZA4N02RvYeFkACT7XJLiMWQCwl0hdqJxZALuRSM6grFkDNuwAf6S8WQN2NqN0sNBZAXfQacnM4FkCpRyzfvDwWQLSktCcJQRZATvOPTlhFFkDGxoG8/H0WQEAk7LZRghZAt8XRjKmGFkBw9AZBBIsWQJS2Y9ZhjxZAWtXDT8KTFkBG4wawJZgWQGlCEPqLnBZAwSrHMPWgFkCEsBZXYaUWQJvK7W/QqRZAUJ61//TgFkDQGUgMaeUWQHCiyAfg6RZAIrMd9VnuFkBWmjHX1vIWQEiA8rBW9xZAXm1Shdn7FkCVUEdXXwAXQOwFyynoBBdA+Fzb/3MJF0D6Vp54PEgXQFL1IG3STBdANS/RZmtRF0DFYatoB1YXQEzar3WmWhdAvdzikEhfF0BFqky97WMXQN6H+f2VaBdA8sT5VUFtF0AkwmHI73EXQLbPzMg4tBdA116wvfO4F0AXZw/Rsb0XQBYuAAZzwhdA+wydXzfHF0AZdwTh/ssXQMYAWY3J0BdAKGbBZ5fVF0AlkmhzaNoXQEGlfbM83xdAwbUU9nggGEAnT+IXWSUYQKUMpXE8KhhAzlWNBiMvGEBWyc/ZDDQYQBxEpe75OBhAGOhKSOo9GECDIwLq3UIYQCTFsPn6hxhAibnAJv2MGEAgByWiApIYQP8cJG8LlxhAcwlFFVCrGECRRzuyee8YQAN2S+ed9BhAfj1vCfVWGUBEoSdDO1wZQA==",
            "dtype": "f8"
           },
           "marker": {
            "color": {
             "bdata": "AAAAAAAAAAAAAAAAAAAAAAAAAAAAAAAAAAAAAAAAAAAAAAAAAAAAAAAAAAAAAAAAAAAAAAAAAAAAAAAAAAAAAAAAAAAAAAAAAAAAAAAAAAAAAAAAAAAAAAAAAAAAAAAAAAAAAAAAAAAAAAAAAAAAAAAAAAAAAAAAAAAAAAAAAAAAAAAAAAAAAAAAAAAAAAAAAAAAAAAAAAAAAAAAAAAAAAAAAAAAAAAAAAAAAAAAAAAAAAAAAAAAAAAAAAAAAAAAAAAAAAAAAAAAAAAAAAAAAAAAAAAAAAAAAAAAAAAAAAAAAAAAAAAAAAAAAAAAAAAAAAAAAAAAAAAAAAAAAAAAAAAAAAAAAAAAAAAAAAAAAAAAAAAAAAAAAAAAAAAAAAAAAAAAAAAAAAAAAAAAAAAAAAAAAAAAAAAAAAAAAAAAAAAAAAAAAAAAAAAAAAAAAAAAAAAAAAAAAAAAAAAAAAAAAAAAAAAAAAAAAAAAAAAAAAAAAAAAAAAAAAAAAAAAAAAAAAAAAAAAAAAAAAAAAAAAAAAAAAAAAAAAAAAAAAAAAAAAAAAAAAAAAAAAAAAAAAAAAAAAAAAAAAAAAAAAAAAAAAAAAAAAAAAAAAAAAAAAAAAAAAAAAAAAAAAAAAAAAAAAAAAAAAAAAAAAAAAAAAAAAAAAAAAAAAAAAAAAAAAAAAAAAAAAAAAAAAAAAAAAAAAAAAAAAAAAAAAAAAAAAAAAAAAAAAAAAAAAAAAAAAAAAAAAAAAAAAAAAAAAAAAAAAAAAAAAAAAAAAAAAAAAAAAAAAAAAAAAAAAAAAAAAAAAAAAAAAAAAAAAAAAAAAAAAAAAAAAAAAAAAAAAAAAAAAAAAAAAAAAAAAAAAAAAAAAAAAAAAAAAAAAAAAAAAAAAAAAAAAAAAAAAAAAr5kz8Z14ZPwAAAAAAAAAAAAAAAAAAAAAAAAAAAAAAAAAAAAAAAAAAAAAAAAAAAAAAAAAAAAAAAAAAAAAAAAAAAAAAAAAAAAAAAAAAAAAAAAAAAAAAAAAAAAAAAAAAAADi4LynZxVEP4vhTrKHvqQ//Knx0k1igD9n+HCGD2e4PwAAAAAAAAAAAAAAAAAAAAAAAAAAAAAAAAAAAAAAAAAAK+ZM/GdeST95K7rq1d6hP/GC1vs0ikw/HUQzqJrpED/8fY+sxJWHPzh6gqMnOLo/AAAAAAAAAAAAAAAAAAAAAPofNJnbLLM/MVn+kuUvqT/i4LynZxV0P8hD6qIKlaA/V0EBr62JtD+jf/zGlDzRPznZuMbAnr8/rZgz8Z95xT9/C4ZR+rHOPw==",
             "dtype": "f8"
            },
            "coloraxis": "coloraxis",
            "size": {
             "bdata": "AAAAAAAAAAAAAAAAAAAAAAAAAAAAAAAAAAAAAAAAAAAAAAAAAAAAAAAAAAAAAAAAAAAAAAAAAAAAAAAAAAAAAAAAAAAAAAAAAAAAAAAAAAAAAAAAAAAAAAAAAAAAAAAAAAAAAAAAAAAAAAAAAAAAAAAAAAAAAAAAAAAAAAAAAAAAAAAAAAAAAAAAAAAAAAAAAAAAAAAAAAAAAAAAAAAAAAAAAAAAAAAAAAAAAAAAAAAAAAAAAAAAAAAAAAAAAAAAAAAAAAAAAAAAAAAAAAAAAAAAAAAAAAAAAAAAAAAAAAAAAAAAAAAAAAAAAAAAAAAAAAAAAAAAAAAAAAAAAAAAAAAAAAAAAAAAAAAAAAAAAAAAAAAAAAAAAAAAAAAAAAAAAAAAAAAAAAAAAAAAAAAAAAAAAAAAAAAAAAAAAAAAAAAAAAAAAAAAAAAAAAAAAAAAAAAAAAAAAAAAAAAAAAAAAAAAAAAAAAAAAAAAAAAAAAAAAAAAAAAAAAAAAAAAAAAAAAAAAAAAAAAAAAAAAAAAAAAAAAAAAAAAAAAAAAAAAAAAAAAAAAAAAAAAAAAAAAAAAAAAAAAAAAAAAAAAAAAAAAAAAAAAAAAAAAAAAAAAAAAAAAAAAAAAAAAAAAAAAAAAAAAAAAAAAAAAAAAAAAAAAAAAAAAAAAAAAAAAAAAAAAAAAAAAAAAAAAAAAAAAAAAAAAAAAAAAAAAAAAAAAAAAAAAAAAAAAAAAAAAAAAAAAAAAAAAAAAAAAAAAAAAAAAAAAAAAAAAAAAAAAAAAAAAAAAAAAAAAAAAAAAAAAAAAAAAAAAAAAAAAAAAAAAAAAAAAAAAAAAAAAAAAAAAAAAAAAAAAAAAAAAAAAAAAAAAAAAAAAAAAAAAAAAAAAAAAAAAAAAAAAAAAAAAr5kz8Z14ZPwAAAAAAAAAAAAAAAAAAAAAAAAAAAAAAAAAAAAAAAAAAAAAAAAAAAAAAAAAAAAAAAAAAAAAAAAAAAAAAAAAAAAAAAAAAAAAAAAAAAAAAAAAAAAAAAAAAAADi4LynZxVEP4vhTrKHvqQ//Knx0k1igD9n+HCGD2e4PwAAAAAAAAAAAAAAAAAAAAAAAAAAAAAAAAAAAAAAAAAAK+ZM/GdeST95K7rq1d6hP/GC1vs0ikw/HUQzqJrpED/8fY+sxJWHPzh6gqMnOLo/AAAAAAAAAAAAAAAAAAAAAPofNJnbLLM/MVn+kuUvqT/i4LynZxV0P8hD6qIKlaA/V0EBr62JtD+jf/zGlDzRPznZuMbAnr8/rZgz8Z95xT9/C4ZR+rHOPw==",
             "dtype": "f8"
            },
            "sizemode": "area",
            "sizeref": 0.006043951612903227
           },
           "mode": "markers",
           "name": "",
           "showlegend": false,
           "subplot": "map",
           "type": "scattermap"
          }
         ],
         "name": "2022-05"
        },
        {
         "data": [
          {
           "hovertemplate": "month=2022-06<br>HTEURNEIGE_Q=%{marker.color}<br>lat=%{lat}<br>lon=%{lon}<extra></extra>",
           "lat": {
            "bdata": "GNilFLSrRkCtqV0k6bRGQOjesz0evkZAm+q6X1PHRkD/GkaOZ6tGQABCMISctEZAAFKvg9G9RkDuttWLBsdGQG43+PgXq0ZAYvcM1Ey0RkAzxay4gb1GQKMF6qW2xkZATM7WmuvPRkC6Xg2gkKFGQB/o1lTFqkZAO5cOFPqzRkCvGMfcLr1GQMLJEq5jxkZAk7gDh5jPRkA/pKtmzdhGQAj9G0wC4kZAFh4O/dGORkBVnm99BphGQJR3Dgo7oUZA7u39oW+qRkDb9VBEpLNGQEI0GvDYvEZAt/5rpA3GRkCOW1hgQs9GQA0C8SJ32EZAllpH66vhRkACIx2VeY5GQJY+s/etl0ZAyc57ZuKgRkDfD4rgFqpGQGPu8GRLs0ZAUAfD8n+8RkApqBKJtMVGQEHP8SbpzkZAwStyyx3YRkDqHaV1UuFGQC+3mySH6kZA3hrDIR6ORkBDg4dlUpdGQJMcc7WGoEZA6RqZELupRkCoYgx277JGQI+I3+QjvEZA39EkXFjFRkCQNO7ajM5GQHNXTWDB10ZAWZJT6/XgRkCa1fWe72hGQIoROokjckZA8ApKg1d7RkBzLjqMi4RGQEmYHqO/jUZASRQLx/OWRkA2HhP3J6BGQMzhSTJcqUZA+TrCd5CyRkD6tY7GxLtGQIiPwR35xEZABbVsfC3ORkDuQieYjmhGQFMivWHCcUZALd8SO/Z6RkCi3TwjKoRGQGoxTxlejUZA1Z1dHJKWRkD9lXsrxp9GQAM9vEX6qEZAEmYyai6yRkCslPCXYrtGQLb8CM6WxEZAEOke8/ZeRkD75WKKKmhGQBPWRTJecUZAimXc6ZF6RkDX7zqwxYNGQOV/dYT5jEZAMtCfZS2WRkAHS81SYZ9GQIUKEUuVqEZA7dh9TcmxRkAD2jABkF5GQPr+yXXDZ0ZABYT1+vZwRkBkDMiPKnpGQJ7qVTNeg0ZAkyCz5JGMRkCzX/OixZVGQBcJKm35nkZAui1qQi2oRkCgjsYhYbFGQHTOflpZZ0ZAZ4Tuu4xwRkDWQ/gswHlGQAFWsKzzgkZAf7MqOieMRkBuBHvUWpVGQICgtHqOnkZAQo/qK8KnRkAuiC/n9bBGQNbylaspukZAbzBUdR9wRkCIfZDBUnlGQDu8bRyGgkZAndv/hLmLRkArelr67JRGQPXlkHsgnkZAyhy2B1SnRkBjzNydh7BGQP7hSievb0ZAkiy1TeJ4RkC8qbKCFYJGQME+V8VIi0ZAtGfzRRawRkCK8/fRO29GQE7Fi9FueEZA87+BdcVuRkA2vTpN+HdGQA==",
            "dtype": "f8"
           },
           "legendgroup": "",
           "lon": {
            "bdata": "fdMnuEhZE0DmL32SnFwTQNK/OqTyXxNAogWY70pjE0AzeK7LucETQMUBOFowxRNA6VQ7N6nIE0DN9QZlJMwTQPY8B5MoKhRAbH9508EtFEB2EnR5XTEUQPp2XIf7NBRAimCb/5s4FEAaU1yB244UQDZ+OveUkhRA+yYz51CWFED0eb9TD5oUQGbvWz/QnRRA01CIrJOhFEB/vsedWaUUQAi1oBUiqRRAQ1VZZnLvFECNhd5XSfMUQPaUWdUi9xRAgsBT4f76FED8o1l+3f4UQI0/+66+AhVAYP3LdaIGFUBWt2LViAoVQMC8WdBxDhVAKthOaV0SFUB4EihJclcVQH/upKBrWxVAiz3YmmdfFUCxzmE6ZmMVQKzt5IFnZxVAoWgIdGtrFUDtlXYTcm8VQBda3WJ7cxVAtS3uZId3FUBqI14clnsVQPDt5YunfxVA4jrdi2+/FUBga7VGi8MVQO0rAbupxxVA8td268rLFUBNZdDa7s8VQENqy4sV1BVAiSMpAT/YFUBTeq49a9wVQIkKJESa4BVA2ihWF8zkFUD/UhGUjRYWQNnzlIrAGhZA4N02RvYeFkACT7XJLiMWQCwl0hdqJxZALuRSM6grFkDNuwAf6S8WQN2NqN0sNBZAXfQacnM4FkCpRyzfvDwWQLSktCcJQRZATvOPTlhFFkDGxoG8/H0WQEAk7LZRghZAt8XRjKmGFkBw9AZBBIsWQJS2Y9ZhjxZAWtXDT8KTFkBG4wawJZgWQGlCEPqLnBZAwSrHMPWgFkCEsBZXYaUWQJvK7W/QqRZAUJ61//TgFkDQGUgMaeUWQHCiyAfg6RZAIrMd9VnuFkBWmjHX1vIWQEiA8rBW9xZAXm1Shdn7FkCVUEdXXwAXQOwFyynoBBdA+Fzb/3MJF0D6Vp54PEgXQFL1IG3STBdANS/RZmtRF0DFYatoB1YXQEzar3WmWhdAvdzikEhfF0BFqky97WMXQN6H+f2VaBdA8sT5VUFtF0AkwmHI73EXQLbPzMg4tBdA116wvfO4F0AXZw/Rsb0XQBYuAAZzwhdA+wydXzfHF0AZdwTh/ssXQMYAWY3J0BdAKGbBZ5fVF0AlkmhzaNoXQEGlfbM83xdAwbUU9nggGEAnT+IXWSUYQKUMpXE8KhhAzlWNBiMvGEBWyc/ZDDQYQBxEpe75OBhAGOhKSOo9GECDIwLq3UIYQCTFsPn6hxhAibnAJv2MGEAgByWiApIYQP8cJG8LlxhAcwlFFVCrGECRRzuyee8YQAN2S+ed9BhAfj1vCfVWGUBEoSdDO1wZQA==",
            "dtype": "f8"
           },
           "marker": {
            "color": {
             "bdata": "AAAAAAAAAAAAAAAAAAAAAAAAAAAAAAAAAAAAAAAAAAAAAAAAAAAAAAAAAAAAAAAAAAAAAAAAAAAAAAAAAAAAAAAAAAAAAAAAAAAAAAAAAAAAAAAAAAAAAAAAAAAAAAAAAAAAAAAAAAAAAAAAAAAAAAAAAAAAAAAAAAAAAAAAAAAAAAAAAAAAAAAAAAAAAAAAAAAAAAAAAAAAAAAAAAAAAAAAAAAAAAAAAAAAAAAAAAAAAAAAAAAAAAAAAAAAAAAAAAAAAAAAAAAAAAAAAAAAAAAAAAAAAAAAAAAAAAAAAAAAAAAAAAAAAAAAAAAAAAAAAAAAAAAAAAAAAAAAAAAAAAAAAAAAAAAAAAAAAAAAAAAAAAAAAAAAAAAAAAAAAAAAAAAAAAAAAAAAAAAAAAAAAAAAAAAAAAAAAAAAAAAAAAAAAAAAAAAAAAAAAAAAAAAAAAAAAAAAAAAAAAAAAAAAAAAAAAAAAAAAAAAAAAAAAAAAAAAAAAAAAAAAAAAAAAAAAAAAAAAAAAAAAAAAAAAAAAAAAAAAAAAAAAAAAAAAAAAAAAAAAAAAAAAAAAAAAAAAAAAAAAAAAAAAAAAAAAAAAAAAAAAAAAAAAAAAAAAAAAAAAAAAAAAAAAAAAAAAAAAAAAAAAAAAAAAAAAAAAAAAAAAAAAAAAAAAAAAAAAAAAAAAAAAAAAAAAAAAAAAAAAAAAAAAAAAAAAAAAAAAAAAAAAAAAAAAAAAAAAAAAAAAAAAAAAAAAAAAAAAAAAAAAAAAAAAAAAAAAAAAAAAAAAAAAAAAAAAAAAAAAAAAAAAAAAAAAAAAAAAAAAAAAAAAAAAAAAAAAAAAAAAAAAAAAAAAAAAAAAAAAAAAAAAAAAAAAAAAAAAAAAAAAAAAAAAAAAAAAAAAAAAAAAAAAAAAAAAAAAAAAAAAAAAAAAAAAAAAAAAAAAAAAAAAAAAAAAAAAAAAAAAAAAAAAAAAAAAAAAAAAAAAAAAAAAAAAAAAAAAAAAAAAAAAAAAAAAAAAAAAAAAAAAAAAAAAAAAAAAAAAAAAAAAAAAAAAAAAAAAAAAAAAAAegr2c7HkBPwAAAAAAAAAAAAAAAAAAAAAAAAAAAAAAAAAAAAAAAAAAAAAAAAAAAAAtQxzr4jYaPwAAAAAAAAAAAAAAAAAAAAAAAAAAAAAAAAAAAAAAAAAAAAAAAAAAAAAAAAAAAAAAAB6CvZzseTE/LUMc6+I2Gj8AAAAAAAAAAC1DHOviNho/AAAAAAAAAAC0o0sSXpVeP/yp8dJNYkA/tKNLEl6VLj/pkoRXpQdIPw==",
             "dtype": "f8"
            },
            "coloraxis": "coloraxis",
            "size": {
             "bdata": "AAAAAAAAAAAAAAAAAAAAAAAAAAAAAAAAAAAAAAAAAAAAAAAAAAAAAAAAAAAAAAAAAAAAAAAAAAAAAAAAAAAAAAAAAAAAAAAAAAAAAAAAAAAAAAAAAAAAAAAAAAAAAAAAAAAAAAAAAAAAAAAAAAAAAAAAAAAAAAAAAAAAAAAAAAAAAAAAAAAAAAAAAAAAAAAAAAAAAAAAAAAAAAAAAAAAAAAAAAAAAAAAAAAAAAAAAAAAAAAAAAAAAAAAAAAAAAAAAAAAAAAAAAAAAAAAAAAAAAAAAAAAAAAAAAAAAAAAAAAAAAAAAAAAAAAAAAAAAAAAAAAAAAAAAAAAAAAAAAAAAAAAAAAAAAAAAAAAAAAAAAAAAAAAAAAAAAAAAAAAAAAAAAAAAAAAAAAAAAAAAAAAAAAAAAAAAAAAAAAAAAAAAAAAAAAAAAAAAAAAAAAAAAAAAAAAAAAAAAAAAAAAAAAAAAAAAAAAAAAAAAAAAAAAAAAAAAAAAAAAAAAAAAAAAAAAAAAAAAAAAAAAAAAAAAAAAAAAAAAAAAAAAAAAAAAAAAAAAAAAAAAAAAAAAAAAAAAAAAAAAAAAAAAAAAAAAAAAAAAAAAAAAAAAAAAAAAAAAAAAAAAAAAAAAAAAAAAAAAAAAAAAAAAAAAAAAAAAAAAAAAAAAAAAAAAAAAAAAAAAAAAAAAAAAAAAAAAAAAAAAAAAAAAAAAAAAAAAAAAAAAAAAAAAAAAAAAAAAAAAAAAAAAAAAAAAAAAAAAAAAAAAAAAAAAAAAAAAAAAAAAAAAAAAAAAAAAAAAAAAAAAAAAAAAAAAAAAAAAAAAAAAAAAAAAAAAAAAAAAAAAAAAAAAAAAAAAAAAAAAAAAAAAAAAAAAAAAAAAAAAAAAAAAAAAAAAAAAAAAAAAAAAAAAAAAAAAAAAAAAAAAAAAAAAAAAAAAAAAAAAAAAAAAAAAAAAAAAAAAAAAAAAAAAAAAAAAAAAAAAAAAAAAAAAAAAAAAAAAAAAAAAAAAAAAAAAAAAAAAAAAAAAAAAAAAAAAAAAAAAAAAAAAAAAAAAAAAAAAAAAAAAAAAegr2c7HkBPwAAAAAAAAAAAAAAAAAAAAAAAAAAAAAAAAAAAAAAAAAAAAAAAAAAAAAtQxzr4jYaPwAAAAAAAAAAAAAAAAAAAAAAAAAAAAAAAAAAAAAAAAAAAAAAAAAAAAAAAAAAAAAAAB6CvZzseTE/LUMc6+I2Gj8AAAAAAAAAAC1DHOviNho/AAAAAAAAAAC0o0sSXpVeP/yp8dJNYkA/tKNLEl6VLj/pkoRXpQdIPw==",
             "dtype": "f8"
            },
            "sizemode": "area",
            "sizeref": 0.006043951612903227
           },
           "mode": "markers",
           "name": "",
           "showlegend": false,
           "subplot": "map",
           "type": "scattermap"
          }
         ],
         "name": "2022-06"
        },
        {
         "data": [
          {
           "hovertemplate": "month=2022-07<br>HTEURNEIGE_Q=%{marker.color}<br>lat=%{lat}<br>lon=%{lon}<extra></extra>",
           "lat": {
            "bdata": "GNilFLSrRkCtqV0k6bRGQOjesz0evkZAm+q6X1PHRkD/GkaOZ6tGQABCMISctEZAAFKvg9G9RkDuttWLBsdGQG43+PgXq0ZAYvcM1Ey0RkAzxay4gb1GQKMF6qW2xkZATM7WmuvPRkC6Xg2gkKFGQB/o1lTFqkZAO5cOFPqzRkCvGMfcLr1GQMLJEq5jxkZAk7gDh5jPRkA/pKtmzdhGQAj9G0wC4kZAFh4O/dGORkBVnm99BphGQJR3Dgo7oUZA7u39oW+qRkDb9VBEpLNGQEI0GvDYvEZAt/5rpA3GRkCOW1hgQs9GQA0C8SJ32EZAllpH66vhRkACIx2VeY5GQJY+s/etl0ZAyc57ZuKgRkDfD4rgFqpGQGPu8GRLs0ZAUAfD8n+8RkApqBKJtMVGQEHP8SbpzkZAwStyyx3YRkDqHaV1UuFGQC+3mySH6kZA3hrDIR6ORkBDg4dlUpdGQJMcc7WGoEZA6RqZELupRkCoYgx277JGQI+I3+QjvEZA39EkXFjFRkCQNO7ajM5GQHNXTWDB10ZAWZJT6/XgRkCa1fWe72hGQIoROokjckZA8ApKg1d7RkBzLjqMi4RGQEmYHqO/jUZASRQLx/OWRkA2HhP3J6BGQMzhSTJcqUZA+TrCd5CyRkD6tY7GxLtGQIiPwR35xEZABbVsfC3ORkDuQieYjmhGQFMivWHCcUZALd8SO/Z6RkCi3TwjKoRGQGoxTxlejUZA1Z1dHJKWRkD9lXsrxp9GQAM9vEX6qEZAEmYyai6yRkCslPCXYrtGQLb8CM6WxEZAEOke8/ZeRkD75WKKKmhGQBPWRTJecUZAimXc6ZF6RkDX7zqwxYNGQOV/dYT5jEZAMtCfZS2WRkAHS81SYZ9GQIUKEUuVqEZA7dh9TcmxRkAD2jABkF5GQPr+yXXDZ0ZABYT1+vZwRkBkDMiPKnpGQJ7qVTNeg0ZAkyCz5JGMRkCzX/OixZVGQBcJKm35nkZAui1qQi2oRkCgjsYhYbFGQHTOflpZZ0ZAZ4Tuu4xwRkDWQ/gswHlGQAFWsKzzgkZAf7MqOieMRkBuBHvUWpVGQICgtHqOnkZAQo/qK8KnRkAuiC/n9bBGQNbylaspukZAbzBUdR9wRkCIfZDBUnlGQDu8bRyGgkZAndv/hLmLRkArelr67JRGQPXlkHsgnkZAyhy2B1SnRkBjzNydh7BGQP7hSievb0ZAkiy1TeJ4RkC8qbKCFYJGQME+V8VIi0ZAtGfzRRawRkCK8/fRO29GQE7Fi9FueEZA87+BdcVuRkA2vTpN+HdGQA==",
            "dtype": "f8"
           },
           "legendgroup": "",
           "lon": {
            "bdata": "fdMnuEhZE0DmL32SnFwTQNK/OqTyXxNAogWY70pjE0AzeK7LucETQMUBOFowxRNA6VQ7N6nIE0DN9QZlJMwTQPY8B5MoKhRAbH9508EtFEB2EnR5XTEUQPp2XIf7NBRAimCb/5s4FEAaU1yB244UQDZ+OveUkhRA+yYz51CWFED0eb9TD5oUQGbvWz/QnRRA01CIrJOhFEB/vsedWaUUQAi1oBUiqRRAQ1VZZnLvFECNhd5XSfMUQPaUWdUi9xRAgsBT4f76FED8o1l+3f4UQI0/+66+AhVAYP3LdaIGFUBWt2LViAoVQMC8WdBxDhVAKthOaV0SFUB4EihJclcVQH/upKBrWxVAiz3YmmdfFUCxzmE6ZmMVQKzt5IFnZxVAoWgIdGtrFUDtlXYTcm8VQBda3WJ7cxVAtS3uZId3FUBqI14clnsVQPDt5YunfxVA4jrdi2+/FUBga7VGi8MVQO0rAbupxxVA8td268rLFUBNZdDa7s8VQENqy4sV1BVAiSMpAT/YFUBTeq49a9wVQIkKJESa4BVA2ihWF8zkFUD/UhGUjRYWQNnzlIrAGhZA4N02RvYeFkACT7XJLiMWQCwl0hdqJxZALuRSM6grFkDNuwAf6S8WQN2NqN0sNBZAXfQacnM4FkCpRyzfvDwWQLSktCcJQRZATvOPTlhFFkDGxoG8/H0WQEAk7LZRghZAt8XRjKmGFkBw9AZBBIsWQJS2Y9ZhjxZAWtXDT8KTFkBG4wawJZgWQGlCEPqLnBZAwSrHMPWgFkCEsBZXYaUWQJvK7W/QqRZAUJ61//TgFkDQGUgMaeUWQHCiyAfg6RZAIrMd9VnuFkBWmjHX1vIWQEiA8rBW9xZAXm1Shdn7FkCVUEdXXwAXQOwFyynoBBdA+Fzb/3MJF0D6Vp54PEgXQFL1IG3STBdANS/RZmtRF0DFYatoB1YXQEzar3WmWhdAvdzikEhfF0BFqky97WMXQN6H+f2VaBdA8sT5VUFtF0AkwmHI73EXQLbPzMg4tBdA116wvfO4F0AXZw/Rsb0XQBYuAAZzwhdA+wydXzfHF0AZdwTh/ssXQMYAWY3J0BdAKGbBZ5fVF0AlkmhzaNoXQEGlfbM83xdAwbUU9nggGEAnT+IXWSUYQKUMpXE8KhhAzlWNBiMvGEBWyc/ZDDQYQBxEpe75OBhAGOhKSOo9GECDIwLq3UIYQCTFsPn6hxhAibnAJv2MGEAgByWiApIYQP8cJG8LlxhAcwlFFVCrGECRRzuyee8YQAN2S+ed9BhAfj1vCfVWGUBEoSdDO1wZQA==",
            "dtype": "f8"
           },
           "marker": {
            "color": {
             "bdata": "AAAAAAAAAAAAAAAAAAAAAAAAAAAAAAAAAAAAAAAAAAAAAAAAAAAAAAAAAAAAAAAAAAAAAAAAAAAAAAAAAAAAAAAAAAAAAAAAAAAAAAAAAAAAAAAAAAAAAAAAAAAAAAAAAAAAAAAAAAAAAAAAAAAAAAAAAAAAAAAAAAAAAAAAAAAAAAAAAAAAAAAAAAAAAAAAAAAAAAAAAAAAAAAAAAAAAAAAAAAAAAAAAAAAAAAAAAAAAAAAAAAAAAAAAAAAAAAAAAAAAAAAAAAAAAAAAAAAAAAAAAAAAAAAAAAAAAAAAAAAAAAAAAAAAAAAAAAAAAAAAAAAAAAAAAAAAAAAAAAAAAAAAAAAAAAAAAAAAAAAAAAAAAAAAAAAAAAAAAAAAAAAAAAAAAAAAAAAAAAAAAAAAAAAAAAAAAAAAAAAAAAAAAAAAAAAAAAAAAAAAAAAAAAAAAAAAAAAAAAAAAAAAAAAAAAAAAAAAAAAAAAAAAAAAAAAAAAAAAAAAAAAAAAAAAAAAAAAAAAAAAAAAAAAAAAAAAAAAAAAAAAAAAAAAAAAAAAAAAAAAAAAAAAAAAAAAAAAAAAAAAAAAAAAAAAAAAAAAAAAAAAAAAAAAAAAAAAAAAAAAAAAAAAAAAAAAAAAAAAAAAAAAAAAAAAAAAAAAAAAAAAAAAAAAAAAAAAAAAAAAAAAAAAAAAAAAAAAAAAAAAAAAAAAAAAAAAAAAAAAAAAAAAAAAAAAAAAAAAAAAAAAAAAAAAAAAAAAAAAAAAAAAAAAAAAAAAAAAAAAAAAAAAAAAAAAAAAAAAAAAAAAAAAAAAAAAAAAAAAAAAAAAAAAAAAAAAAAAAAAAAAAAAAAAAAAAAAAAAAAAAAAAAAAAAAAAAAAAAAAAAAAAAAAAAAAAAAAAAAAAAAAAAAAAAAAAAAAAAAAAAAAAAAAAAAAAAAAAAAAAAAAAAAAAAAAAAAAAAAAAAAAAAAAAAAAAAAAAAAAAAAAAAAAAAAAAAAAAAAAAAAAAAAAAAAAAAAAAAAAAAAAAAAAAAAAAAAAAAAAAAAAAAAAAAAAAAAAAAAAAAAAAAAAAAAAAAAAAAAAAAAAAAAAAAAAAAAAAAAAAAAAAAAAAAAAAAAAAAAAAAAAAAAAAAAAAAAAAAAAAAAAAAAAAAAAAAAAAAAAAAAAAAAAAAAAAAAAAAAAAAAAAAAAAAAAAAAAAAAAAAAAAAAAAAAAAAAAAAAAAAAAAAAAAAAAAAAAAAAAAAAAAAAAAAAAAAAAAAAAAAAAAAAAAAAAAAAAAAAAAAAAAAAAAAAAAAAAAAAAAA==",
             "dtype": "f8"
            },
            "coloraxis": "coloraxis",
            "size": {
             "bdata": "AAAAAAAAAAAAAAAAAAAAAAAAAAAAAAAAAAAAAAAAAAAAAAAAAAAAAAAAAAAAAAAAAAAAAAAAAAAAAAAAAAAAAAAAAAAAAAAAAAAAAAAAAAAAAAAAAAAAAAAAAAAAAAAAAAAAAAAAAAAAAAAAAAAAAAAAAAAAAAAAAAAAAAAAAAAAAAAAAAAAAAAAAAAAAAAAAAAAAAAAAAAAAAAAAAAAAAAAAAAAAAAAAAAAAAAAAAAAAAAAAAAAAAAAAAAAAAAAAAAAAAAAAAAAAAAAAAAAAAAAAAAAAAAAAAAAAAAAAAAAAAAAAAAAAAAAAAAAAAAAAAAAAAAAAAAAAAAAAAAAAAAAAAAAAAAAAAAAAAAAAAAAAAAAAAAAAAAAAAAAAAAAAAAAAAAAAAAAAAAAAAAAAAAAAAAAAAAAAAAAAAAAAAAAAAAAAAAAAAAAAAAAAAAAAAAAAAAAAAAAAAAAAAAAAAAAAAAAAAAAAAAAAAAAAAAAAAAAAAAAAAAAAAAAAAAAAAAAAAAAAAAAAAAAAAAAAAAAAAAAAAAAAAAAAAAAAAAAAAAAAAAAAAAAAAAAAAAAAAAAAAAAAAAAAAAAAAAAAAAAAAAAAAAAAAAAAAAAAAAAAAAAAAAAAAAAAAAAAAAAAAAAAAAAAAAAAAAAAAAAAAAAAAAAAAAAAAAAAAAAAAAAAAAAAAAAAAAAAAAAAAAAAAAAAAAAAAAAAAAAAAAAAAAAAAAAAAAAAAAAAAAAAAAAAAAAAAAAAAAAAAAAAAAAAAAAAAAAAAAAAAAAAAAAAAAAAAAAAAAAAAAAAAAAAAAAAAAAAAAAAAAAAAAAAAAAAAAAAAAAAAAAAAAAAAAAAAAAAAAAAAAAAAAAAAAAAAAAAAAAAAAAAAAAAAAAAAAAAAAAAAAAAAAAAAAAAAAAAAAAAAAAAAAAAAAAAAAAAAAAAAAAAAAAAAAAAAAAAAAAAAAAAAAAAAAAAAAAAAAAAAAAAAAAAAAAAAAAAAAAAAAAAAAAAAAAAAAAAAAAAAAAAAAAAAAAAAAAAAAAAAAAAAAAAAAAAAAAAAAAAAAAAAAAAAAAAAAAAAAAAAAAAAAAAAAAAAAAAAAAAAAAAAAAAAAAAAAAAAAAAAAAAAAAAAAAAAAAAAAAAAAAAAAAAAAAAAAAAAAAAAAAAAAAAAAAAAAAAAAAAAAAAAAAAAAAAAAAAAAAAAAAAAAAAAAAAAAAAAAAAAAAAAAAAAAAAAAAAAAAAAAAAAAAAAAAAAAAAAAAAAAAAAAAAAAAAAAAAAAAAAAAAAAAAAAAAAAAAAAAAA==",
             "dtype": "f8"
            },
            "sizemode": "area",
            "sizeref": 0.006043951612903227
           },
           "mode": "markers",
           "name": "",
           "showlegend": false,
           "subplot": "map",
           "type": "scattermap"
          }
         ],
         "name": "2022-07"
        },
        {
         "data": [
          {
           "hovertemplate": "month=2022-08<br>HTEURNEIGE_Q=%{marker.color}<br>lat=%{lat}<br>lon=%{lon}<extra></extra>",
           "lat": {
            "bdata": "GNilFLSrRkCtqV0k6bRGQOjesz0evkZAm+q6X1PHRkD/GkaOZ6tGQABCMISctEZAAFKvg9G9RkDuttWLBsdGQG43+PgXq0ZAYvcM1Ey0RkAzxay4gb1GQKMF6qW2xkZATM7WmuvPRkC6Xg2gkKFGQB/o1lTFqkZAO5cOFPqzRkCvGMfcLr1GQMLJEq5jxkZAk7gDh5jPRkA/pKtmzdhGQAj9G0wC4kZAFh4O/dGORkBVnm99BphGQJR3Dgo7oUZA7u39oW+qRkDb9VBEpLNGQEI0GvDYvEZAt/5rpA3GRkCOW1hgQs9GQA0C8SJ32EZAllpH66vhRkACIx2VeY5GQJY+s/etl0ZAyc57ZuKgRkDfD4rgFqpGQGPu8GRLs0ZAUAfD8n+8RkApqBKJtMVGQEHP8SbpzkZAwStyyx3YRkDqHaV1UuFGQC+3mySH6kZA3hrDIR6ORkBDg4dlUpdGQJMcc7WGoEZA6RqZELupRkCoYgx277JGQI+I3+QjvEZA39EkXFjFRkCQNO7ajM5GQHNXTWDB10ZAWZJT6/XgRkCa1fWe72hGQIoROokjckZA8ApKg1d7RkBzLjqMi4RGQEmYHqO/jUZASRQLx/OWRkA2HhP3J6BGQMzhSTJcqUZA+TrCd5CyRkD6tY7GxLtGQIiPwR35xEZABbVsfC3ORkDuQieYjmhGQFMivWHCcUZALd8SO/Z6RkCi3TwjKoRGQGoxTxlejUZA1Z1dHJKWRkD9lXsrxp9GQAM9vEX6qEZAEmYyai6yRkCslPCXYrtGQLb8CM6WxEZAEOke8/ZeRkD75WKKKmhGQBPWRTJecUZAimXc6ZF6RkDX7zqwxYNGQOV/dYT5jEZAMtCfZS2WRkAHS81SYZ9GQIUKEUuVqEZA7dh9TcmxRkAD2jABkF5GQPr+yXXDZ0ZABYT1+vZwRkBkDMiPKnpGQJ7qVTNeg0ZAkyCz5JGMRkCzX/OixZVGQBcJKm35nkZAui1qQi2oRkCgjsYhYbFGQHTOflpZZ0ZAZ4Tuu4xwRkDWQ/gswHlGQAFWsKzzgkZAf7MqOieMRkBuBHvUWpVGQICgtHqOnkZAQo/qK8KnRkAuiC/n9bBGQNbylaspukZAbzBUdR9wRkCIfZDBUnlGQDu8bRyGgkZAndv/hLmLRkArelr67JRGQPXlkHsgnkZAyhy2B1SnRkBjzNydh7BGQP7hSievb0ZAkiy1TeJ4RkC8qbKCFYJGQME+V8VIi0ZAtGfzRRawRkCK8/fRO29GQE7Fi9FueEZA87+BdcVuRkA2vTpN+HdGQA==",
            "dtype": "f8"
           },
           "legendgroup": "",
           "lon": {
            "bdata": "fdMnuEhZE0DmL32SnFwTQNK/OqTyXxNAogWY70pjE0AzeK7LucETQMUBOFowxRNA6VQ7N6nIE0DN9QZlJMwTQPY8B5MoKhRAbH9508EtFEB2EnR5XTEUQPp2XIf7NBRAimCb/5s4FEAaU1yB244UQDZ+OveUkhRA+yYz51CWFED0eb9TD5oUQGbvWz/QnRRA01CIrJOhFEB/vsedWaUUQAi1oBUiqRRAQ1VZZnLvFECNhd5XSfMUQPaUWdUi9xRAgsBT4f76FED8o1l+3f4UQI0/+66+AhVAYP3LdaIGFUBWt2LViAoVQMC8WdBxDhVAKthOaV0SFUB4EihJclcVQH/upKBrWxVAiz3YmmdfFUCxzmE6ZmMVQKzt5IFnZxVAoWgIdGtrFUDtlXYTcm8VQBda3WJ7cxVAtS3uZId3FUBqI14clnsVQPDt5YunfxVA4jrdi2+/FUBga7VGi8MVQO0rAbupxxVA8td268rLFUBNZdDa7s8VQENqy4sV1BVAiSMpAT/YFUBTeq49a9wVQIkKJESa4BVA2ihWF8zkFUD/UhGUjRYWQNnzlIrAGhZA4N02RvYeFkACT7XJLiMWQCwl0hdqJxZALuRSM6grFkDNuwAf6S8WQN2NqN0sNBZAXfQacnM4FkCpRyzfvDwWQLSktCcJQRZATvOPTlhFFkDGxoG8/H0WQEAk7LZRghZAt8XRjKmGFkBw9AZBBIsWQJS2Y9ZhjxZAWtXDT8KTFkBG4wawJZgWQGlCEPqLnBZAwSrHMPWgFkCEsBZXYaUWQJvK7W/QqRZAUJ61//TgFkDQGUgMaeUWQHCiyAfg6RZAIrMd9VnuFkBWmjHX1vIWQEiA8rBW9xZAXm1Shdn7FkCVUEdXXwAXQOwFyynoBBdA+Fzb/3MJF0D6Vp54PEgXQFL1IG3STBdANS/RZmtRF0DFYatoB1YXQEzar3WmWhdAvdzikEhfF0BFqky97WMXQN6H+f2VaBdA8sT5VUFtF0AkwmHI73EXQLbPzMg4tBdA116wvfO4F0AXZw/Rsb0XQBYuAAZzwhdA+wydXzfHF0AZdwTh/ssXQMYAWY3J0BdAKGbBZ5fVF0AlkmhzaNoXQEGlfbM83xdAwbUU9nggGEAnT+IXWSUYQKUMpXE8KhhAzlWNBiMvGEBWyc/ZDDQYQBxEpe75OBhAGOhKSOo9GECDIwLq3UIYQCTFsPn6hxhAibnAJv2MGEAgByWiApIYQP8cJG8LlxhAcwlFFVCrGECRRzuyee8YQAN2S+ed9BhAfj1vCfVWGUBEoSdDO1wZQA==",
            "dtype": "f8"
           },
           "marker": {
            "color": {
             "bdata": "AAAAAAAAAAAAAAAAAAAAAAAAAAAAAAAAAAAAAAAAAAAAAAAAAAAAAAAAAAAAAAAAAAAAAAAAAAAAAAAAAAAAAAAAAAAAAAAAAAAAAAAAAAAAAAAAAAAAAAAAAAAAAAAAAAAAAAAAAAAAAAAAAAAAAAAAAAAAAAAAAAAAAAAAAAAAAAAAAAAAAAAAAAAAAAAAAAAAAAAAAAAAAAAAAAAAAAAAAAAAAAAAAAAAAAAAAAAAAAAAAAAAAAAAAAAAAAAAAAAAAAAAAAAAAAAAAAAAAAAAAAAAAAAAAAAAAAAAAAAAAAAAAAAAAAAAAAAAAAAAAAAAAAAAAAAAAAAAAAAAAAAAAAAAAAAAAAAAAAAAAAAAAAAAAAAAAAAAAAAAAAAAAAAAAAAAAAAAAAAAAAAAAAAAAAAAAAAAAAAAAAAAAAAAAAAAAAAAAAAAAAAAAAAAAAAAAAAAAAAAAAAAAAAAAAAAAAAAAAAAAAAAAAAAAAAAAAAAAAAAAAAAAAAAAAAAAAAAAAAAAAAAAAAAAAAAAAAAAAAAAAAAAAAAAAAAAAAAAAAAAAAAAAAAAAAAAAAAAAAAAAAAAAAAAAAAAAAAAAAAAAAAAAAAAAAAAAAAAAAAAAAAAAAAAAAAAAAAAAAAAAAAAAAAAAAAAAAAAAAAAAAAAAAAAAAAAAAAAAAAAAAAAAAAAAAAAAAAAAAAAAAAAAAAAAAAAAAAAAAAAAAAAAAAAAAAAAAAAAAAAAAAAAAAAAAAAAAAAAAAAAAAAAAAAAAAAAAAAAAAAAAAAAAAAAAAAAAAAAAAAAAAAAAAAAAAAAAAAAAAAAAAAAAAAAAAAAAAAAAAAAAAAAAAAAAAAAAAAAAAAAAAAAAAAAAAAAAAAAAAAAAAAAAAAAAAAAAAAAAAAAAAAAAAAAAAAAAAAAAAAAAAAAAAAAAAAAAAAAAAAAAAAAAAAAAAAAAAAAAAAAAAAAAAAAAAAAAAAAAAAAAAAAAAAAAAAAAAAAAAAAAAAAAAAAAAAAAAAAAAAAAAAAAAAAAAAAAAAAAAAAAAAAAAAAAAAAAAAAAAAAAAAAAAAAAAAAAAAAAAAAAAAAAAAAAAAAAAAAAAAAAAAAAAAAAAAAAAAAAAAAAAAAAAAAAAAAAAAAAAAAAAAAAAAAAAAAAAAAAAAAAAAAAAAAAAAAAAAAAAAAAAAAAAAAAAAAAAAAAAAAAAAAAAAAAAAAAAAAAAAAAAAAAAAAAAAAAAAAAAAAAAAAAAAAAAAAAAAAAkFUBSASQ1PwAAAAAAAAAAp31GpzRBNz/8qfHSTWJQPw==",
             "dtype": "f8"
            },
            "coloraxis": "coloraxis",
            "size": {
             "bdata": "AAAAAAAAAAAAAAAAAAAAAAAAAAAAAAAAAAAAAAAAAAAAAAAAAAAAAAAAAAAAAAAAAAAAAAAAAAAAAAAAAAAAAAAAAAAAAAAAAAAAAAAAAAAAAAAAAAAAAAAAAAAAAAAAAAAAAAAAAAAAAAAAAAAAAAAAAAAAAAAAAAAAAAAAAAAAAAAAAAAAAAAAAAAAAAAAAAAAAAAAAAAAAAAAAAAAAAAAAAAAAAAAAAAAAAAAAAAAAAAAAAAAAAAAAAAAAAAAAAAAAAAAAAAAAAAAAAAAAAAAAAAAAAAAAAAAAAAAAAAAAAAAAAAAAAAAAAAAAAAAAAAAAAAAAAAAAAAAAAAAAAAAAAAAAAAAAAAAAAAAAAAAAAAAAAAAAAAAAAAAAAAAAAAAAAAAAAAAAAAAAAAAAAAAAAAAAAAAAAAAAAAAAAAAAAAAAAAAAAAAAAAAAAAAAAAAAAAAAAAAAAAAAAAAAAAAAAAAAAAAAAAAAAAAAAAAAAAAAAAAAAAAAAAAAAAAAAAAAAAAAAAAAAAAAAAAAAAAAAAAAAAAAAAAAAAAAAAAAAAAAAAAAAAAAAAAAAAAAAAAAAAAAAAAAAAAAAAAAAAAAAAAAAAAAAAAAAAAAAAAAAAAAAAAAAAAAAAAAAAAAAAAAAAAAAAAAAAAAAAAAAAAAAAAAAAAAAAAAAAAAAAAAAAAAAAAAAAAAAAAAAAAAAAAAAAAAAAAAAAAAAAAAAAAAAAAAAAAAAAAAAAAAAAAAAAAAAAAAAAAAAAAAAAAAAAAAAAAAAAAAAAAAAAAAAAAAAAAAAAAAAAAAAAAAAAAAAAAAAAAAAAAAAAAAAAAAAAAAAAAAAAAAAAAAAAAAAAAAAAAAAAAAAAAAAAAAAAAAAAAAAAAAAAAAAAAAAAAAAAAAAAAAAAAAAAAAAAAAAAAAAAAAAAAAAAAAAAAAAAAAAAAAAAAAAAAAAAAAAAAAAAAAAAAAAAAAAAAAAAAAAAAAAAAAAAAAAAAAAAAAAAAAAAAAAAAAAAAAAAAAAAAAAAAAAAAAAAAAAAAAAAAAAAAAAAAAAAAAAAAAAAAAAAAAAAAAAAAAAAAAAAAAAAAAAAAAAAAAAAAAAAAAAAAAAAAAAAAAAAAAAAAAAAAAAAAAAAAAAAAAAAAAAAAAAAAAAAAAAAAAAAAAAAAAAAAAAAAAAAAAAAAAAAAAAAAAAAAAAAAAAAAAAAAAAAAAAAAAAAAAAAAAAAAAAAAAAAAAAAAAAAAAAAAAAAAAAAAAAAkFUBSASQ1PwAAAAAAAAAAp31GpzRBNz/8qfHSTWJQPw==",
             "dtype": "f8"
            },
            "sizemode": "area",
            "sizeref": 0.006043951612903227
           },
           "mode": "markers",
           "name": "",
           "showlegend": false,
           "subplot": "map",
           "type": "scattermap"
          }
         ],
         "name": "2022-08"
        },
        {
         "data": [
          {
           "hovertemplate": "month=2022-09<br>HTEURNEIGE_Q=%{marker.color}<br>lat=%{lat}<br>lon=%{lon}<extra></extra>",
           "lat": {
            "bdata": "GNilFLSrRkCtqV0k6bRGQOjesz0evkZAm+q6X1PHRkD/GkaOZ6tGQABCMISctEZAAFKvg9G9RkDuttWLBsdGQG43+PgXq0ZAYvcM1Ey0RkAzxay4gb1GQKMF6qW2xkZATM7WmuvPRkC6Xg2gkKFGQB/o1lTFqkZAO5cOFPqzRkCvGMfcLr1GQMLJEq5jxkZAk7gDh5jPRkA/pKtmzdhGQAj9G0wC4kZAFh4O/dGORkBVnm99BphGQJR3Dgo7oUZA7u39oW+qRkDb9VBEpLNGQEI0GvDYvEZAt/5rpA3GRkCOW1hgQs9GQA0C8SJ32EZAllpH66vhRkACIx2VeY5GQJY+s/etl0ZAyc57ZuKgRkDfD4rgFqpGQGPu8GRLs0ZAUAfD8n+8RkApqBKJtMVGQEHP8SbpzkZAwStyyx3YRkDqHaV1UuFGQC+3mySH6kZA3hrDIR6ORkBDg4dlUpdGQJMcc7WGoEZA6RqZELupRkCoYgx277JGQI+I3+QjvEZA39EkXFjFRkCQNO7ajM5GQHNXTWDB10ZAWZJT6/XgRkCa1fWe72hGQIoROokjckZA8ApKg1d7RkBzLjqMi4RGQEmYHqO/jUZASRQLx/OWRkA2HhP3J6BGQMzhSTJcqUZA+TrCd5CyRkD6tY7GxLtGQIiPwR35xEZABbVsfC3ORkDuQieYjmhGQFMivWHCcUZALd8SO/Z6RkCi3TwjKoRGQGoxTxlejUZA1Z1dHJKWRkD9lXsrxp9GQAM9vEX6qEZAEmYyai6yRkCslPCXYrtGQLb8CM6WxEZAEOke8/ZeRkD75WKKKmhGQBPWRTJecUZAimXc6ZF6RkDX7zqwxYNGQOV/dYT5jEZAMtCfZS2WRkAHS81SYZ9GQIUKEUuVqEZA7dh9TcmxRkAD2jABkF5GQPr+yXXDZ0ZABYT1+vZwRkBkDMiPKnpGQJ7qVTNeg0ZAkyCz5JGMRkCzX/OixZVGQBcJKm35nkZAui1qQi2oRkCgjsYhYbFGQHTOflpZZ0ZAZ4Tuu4xwRkDWQ/gswHlGQAFWsKzzgkZAf7MqOieMRkBuBHvUWpVGQICgtHqOnkZAQo/qK8KnRkAuiC/n9bBGQNbylaspukZAbzBUdR9wRkCIfZDBUnlGQDu8bRyGgkZAndv/hLmLRkArelr67JRGQPXlkHsgnkZAyhy2B1SnRkBjzNydh7BGQP7hSievb0ZAkiy1TeJ4RkC8qbKCFYJGQME+V8VIi0ZAtGfzRRawRkCK8/fRO29GQE7Fi9FueEZA87+BdcVuRkA2vTpN+HdGQA==",
            "dtype": "f8"
           },
           "legendgroup": "",
           "lon": {
            "bdata": "fdMnuEhZE0DmL32SnFwTQNK/OqTyXxNAogWY70pjE0AzeK7LucETQMUBOFowxRNA6VQ7N6nIE0DN9QZlJMwTQPY8B5MoKhRAbH9508EtFEB2EnR5XTEUQPp2XIf7NBRAimCb/5s4FEAaU1yB244UQDZ+OveUkhRA+yYz51CWFED0eb9TD5oUQGbvWz/QnRRA01CIrJOhFEB/vsedWaUUQAi1oBUiqRRAQ1VZZnLvFECNhd5XSfMUQPaUWdUi9xRAgsBT4f76FED8o1l+3f4UQI0/+66+AhVAYP3LdaIGFUBWt2LViAoVQMC8WdBxDhVAKthOaV0SFUB4EihJclcVQH/upKBrWxVAiz3YmmdfFUCxzmE6ZmMVQKzt5IFnZxVAoWgIdGtrFUDtlXYTcm8VQBda3WJ7cxVAtS3uZId3FUBqI14clnsVQPDt5YunfxVA4jrdi2+/FUBga7VGi8MVQO0rAbupxxVA8td268rLFUBNZdDa7s8VQENqy4sV1BVAiSMpAT/YFUBTeq49a9wVQIkKJESa4BVA2ihWF8zkFUD/UhGUjRYWQNnzlIrAGhZA4N02RvYeFkACT7XJLiMWQCwl0hdqJxZALuRSM6grFkDNuwAf6S8WQN2NqN0sNBZAXfQacnM4FkCpRyzfvDwWQLSktCcJQRZATvOPTlhFFkDGxoG8/H0WQEAk7LZRghZAt8XRjKmGFkBw9AZBBIsWQJS2Y9ZhjxZAWtXDT8KTFkBG4wawJZgWQGlCEPqLnBZAwSrHMPWgFkCEsBZXYaUWQJvK7W/QqRZAUJ61//TgFkDQGUgMaeUWQHCiyAfg6RZAIrMd9VnuFkBWmjHX1vIWQEiA8rBW9xZAXm1Shdn7FkCVUEdXXwAXQOwFyynoBBdA+Fzb/3MJF0D6Vp54PEgXQFL1IG3STBdANS/RZmtRF0DFYatoB1YXQEzar3WmWhdAvdzikEhfF0BFqky97WMXQN6H+f2VaBdA8sT5VUFtF0AkwmHI73EXQLbPzMg4tBdA116wvfO4F0AXZw/Rsb0XQBYuAAZzwhdA+wydXzfHF0AZdwTh/ssXQMYAWY3J0BdAKGbBZ5fVF0AlkmhzaNoXQEGlfbM83xdAwbUU9nggGEAnT+IXWSUYQKUMpXE8KhhAzlWNBiMvGEBWyc/ZDDQYQBxEpe75OBhAGOhKSOo9GECDIwLq3UIYQCTFsPn6hxhAibnAJv2MGEAgByWiApIYQP8cJG8LlxhAcwlFFVCrGECRRzuyee8YQAN2S+ed9BhAfj1vCfVWGUBEoSdDO1wZQA==",
            "dtype": "f8"
           },
           "marker": {
            "color": {
             "bdata": "AAAAAAAAAAAAAAAAAAAAAAAAAAAAAAAAAAAAAAAAAAAAAAAAAAAAAAAAAAAAAAAAAAAAAAAAAAAAAAAAAAAAAAAAAAAAAAAAAAAAAAAAAAAAAAAAAAAAAAAAAAAAAAAAAAAAAAAAAAAAAAAAAAAAAAAAAAAAAAAAAAAAAAAAAAAAAAAAAAAAAAAAAAAAAAAAAAAAAAAAAAAAAAAAAAAAAAAAAAAAAAAAAAAAAAAAAAAAAAAAAAAAAAAAAAAAAAAAAAAAAAAAAAAAAAAAAAAAAAAAAAAAAAAAAAAAAAAAAAAAAAAAAAAAAAAAAAAAAAAAAAAAAAAAAAAAAAAAAAAAAAAAAAAAAAAAAAAAAAAAAAAAAAAAAAAAAAAAAAAAAAAAAAAAAAAAAAAAAAAAAAAAAAAAAAAAAAAAAAAAAAAAAAAAAAAAAAAAAAAAAAAAAAAAAAAAAAAAAAAAAAAAAAAAAAAAAAAAAAAAAAAAAAAAAAAAAAAAAAAAAAAAAAAAAAAAAAAAAAAAAAAAAAAAAAAAAAAAAAAAAAAAAAAAAAAAAAAAAAAAAAAAAAAAAAAAAAAAAAAAAAAAAAAAAAAAAAAAAAAAAAAAAAAAAAAAAAAAAAAAAAAAAAAAAAAAAAAAAAAAAAAAAAAAAAAAAAAAAAAAAAAAAAAAAAAAAAAAAAAAAAAAAAAAAAAAAAAAAAAAAAAAAAAAAAAAAAAAAAAAAAAAAAAAAAAAAAAAAAAAAAAAAAAAAAAAAAAAAAAAAAAAAAAAAAAAAAAAAAAAAAAAAAAAAAAAAAAAAAAAAAAAAAAAAAAAAAAAAAAAAAAAAAAAAAAAAAAAAAAAAAAAAAAAAAAAAAAAAAAAAAAAAAAAAAAAAAAAAAAAAAAAAAAAAAAAAAAAAAAAAAAAAAAegr2c7HkRPwAAAAAAAAAAAAAAAAAAAAAAAAAAAAAAAAAAAAAAAAAAAAAAAAAAAAAAAAAAAAAAAAAAAAAAAAAAAAAAAAAAAAAAAAAAAAAAAAAAAAAAAAAAAAAAAAAAAAAegr2c7HkRPy1DHOviNmo/HoK9nOx5IT8TYcPTK2V5PwAAAAAAAAAAAAAAAAAAAAAAAAAAAAAAAAAAAAAAAAAALUMc6+I2Gj9w87N+IGZsPy1DHOviNho/AAAAAAAAAAAegr2c7HkhP1YRW2dplHs/AAAAAAAAAAAAAAAAAAAAAH1kYAr8znw/gd+Z4+/xbD9iMlUwKqkzPz4vAlCywmo/8Yj3CY1NaD+1OiZ4ME+UPyZ4ME/Uv4E/J6CJsOHphT+jt2WtjgmOPw==",
             "dtype": "f8"
            },
            "coloraxis": "coloraxis",
            "size": {
             "bdata": "AAAAAAAAAAAAAAAAAAAAAAAAAAAAAAAAAAAAAAAAAAAAAAAAAAAAAAAAAAAAAAAAAAAAAAAAAAAAAAAAAAAAAAAAAAAAAAAAAAAAAAAAAAAAAAAAAAAAAAAAAAAAAAAAAAAAAAAAAAAAAAAAAAAAAAAAAAAAAAAAAAAAAAAAAAAAAAAAAAAAAAAAAAAAAAAAAAAAAAAAAAAAAAAAAAAAAAAAAAAAAAAAAAAAAAAAAAAAAAAAAAAAAAAAAAAAAAAAAAAAAAAAAAAAAAAAAAAAAAAAAAAAAAAAAAAAAAAAAAAAAAAAAAAAAAAAAAAAAAAAAAAAAAAAAAAAAAAAAAAAAAAAAAAAAAAAAAAAAAAAAAAAAAAAAAAAAAAAAAAAAAAAAAAAAAAAAAAAAAAAAAAAAAAAAAAAAAAAAAAAAAAAAAAAAAAAAAAAAAAAAAAAAAAAAAAAAAAAAAAAAAAAAAAAAAAAAAAAAAAAAAAAAAAAAAAAAAAAAAAAAAAAAAAAAAAAAAAAAAAAAAAAAAAAAAAAAAAAAAAAAAAAAAAAAAAAAAAAAAAAAAAAAAAAAAAAAAAAAAAAAAAAAAAAAAAAAAAAAAAAAAAAAAAAAAAAAAAAAAAAAAAAAAAAAAAAAAAAAAAAAAAAAAAAAAAAAAAAAAAAAAAAAAAAAAAAAAAAAAAAAAAAAAAAAAAAAAAAAAAAAAAAAAAAAAAAAAAAAAAAAAAAAAAAAAAAAAAAAAAAAAAAAAAAAAAAAAAAAAAAAAAAAAAAAAAAAAAAAAAAAAAAAAAAAAAAAAAAAAAAAAAAAAAAAAAAAAAAAAAAAAAAAAAAAAAAAAAAAAAAAAAAAAAAAAAAAAAAAAAAAAAAAAAAAAAAAAAAAAAAAAAAAAAAAAAAAAAAAAAAAAAAAAAegr2c7HkRPwAAAAAAAAAAAAAAAAAAAAAAAAAAAAAAAAAAAAAAAAAAAAAAAAAAAAAAAAAAAAAAAAAAAAAAAAAAAAAAAAAAAAAAAAAAAAAAAAAAAAAAAAAAAAAAAAAAAAAegr2c7HkRPy1DHOviNmo/HoK9nOx5IT8TYcPTK2V5PwAAAAAAAAAAAAAAAAAAAAAAAAAAAAAAAAAAAAAAAAAALUMc6+I2Gj9w87N+IGZsPy1DHOviNho/AAAAAAAAAAAegr2c7HkhP1YRW2dplHs/AAAAAAAAAAAAAAAAAAAAAH1kYAr8znw/gd+Z4+/xbD9iMlUwKqkzPz4vAlCywmo/8Yj3CY1NaD+1OiZ4ME+UPyZ4ME/Uv4E/J6CJsOHphT+jt2WtjgmOPw==",
             "dtype": "f8"
            },
            "sizemode": "area",
            "sizeref": 0.006043951612903227
           },
           "mode": "markers",
           "name": "",
           "showlegend": false,
           "subplot": "map",
           "type": "scattermap"
          }
         ],
         "name": "2022-09"
        },
        {
         "data": [
          {
           "hovertemplate": "month=2022-10<br>HTEURNEIGE_Q=%{marker.color}<br>lat=%{lat}<br>lon=%{lon}<extra></extra>",
           "lat": {
            "bdata": "GNilFLSrRkCtqV0k6bRGQOjesz0evkZAm+q6X1PHRkD/GkaOZ6tGQABCMISctEZAAFKvg9G9RkDuttWLBsdGQG43+PgXq0ZAYvcM1Ey0RkAzxay4gb1GQKMF6qW2xkZATM7WmuvPRkC6Xg2gkKFGQB/o1lTFqkZAO5cOFPqzRkCvGMfcLr1GQMLJEq5jxkZAk7gDh5jPRkA/pKtmzdhGQAj9G0wC4kZAFh4O/dGORkBVnm99BphGQJR3Dgo7oUZA7u39oW+qRkDb9VBEpLNGQEI0GvDYvEZAt/5rpA3GRkCOW1hgQs9GQA0C8SJ32EZAllpH66vhRkACIx2VeY5GQJY+s/etl0ZAyc57ZuKgRkDfD4rgFqpGQGPu8GRLs0ZAUAfD8n+8RkApqBKJtMVGQEHP8SbpzkZAwStyyx3YRkDqHaV1UuFGQC+3mySH6kZA3hrDIR6ORkBDg4dlUpdGQJMcc7WGoEZA6RqZELupRkCoYgx277JGQI+I3+QjvEZA39EkXFjFRkCQNO7ajM5GQHNXTWDB10ZAWZJT6/XgRkCa1fWe72hGQIoROokjckZA8ApKg1d7RkBzLjqMi4RGQEmYHqO/jUZASRQLx/OWRkA2HhP3J6BGQMzhSTJcqUZA+TrCd5CyRkD6tY7GxLtGQIiPwR35xEZABbVsfC3ORkDuQieYjmhGQFMivWHCcUZALd8SO/Z6RkCi3TwjKoRGQGoxTxlejUZA1Z1dHJKWRkD9lXsrxp9GQAM9vEX6qEZAEmYyai6yRkCslPCXYrtGQLb8CM6WxEZAEOke8/ZeRkD75WKKKmhGQBPWRTJecUZAimXc6ZF6RkDX7zqwxYNGQOV/dYT5jEZAMtCfZS2WRkAHS81SYZ9GQIUKEUuVqEZA7dh9TcmxRkAD2jABkF5GQPr+yXXDZ0ZABYT1+vZwRkBkDMiPKnpGQJ7qVTNeg0ZAkyCz5JGMRkCzX/OixZVGQBcJKm35nkZAui1qQi2oRkCgjsYhYbFGQHTOflpZZ0ZAZ4Tuu4xwRkDWQ/gswHlGQAFWsKzzgkZAf7MqOieMRkBuBHvUWpVGQICgtHqOnkZAQo/qK8KnRkAuiC/n9bBGQNbylaspukZAbzBUdR9wRkCIfZDBUnlGQDu8bRyGgkZAndv/hLmLRkArelr67JRGQPXlkHsgnkZAyhy2B1SnRkBjzNydh7BGQP7hSievb0ZAkiy1TeJ4RkC8qbKCFYJGQME+V8VIi0ZAtGfzRRawRkCK8/fRO29GQE7Fi9FueEZA87+BdcVuRkA2vTpN+HdGQA==",
            "dtype": "f8"
           },
           "legendgroup": "",
           "lon": {
            "bdata": "fdMnuEhZE0DmL32SnFwTQNK/OqTyXxNAogWY70pjE0AzeK7LucETQMUBOFowxRNA6VQ7N6nIE0DN9QZlJMwTQPY8B5MoKhRAbH9508EtFEB2EnR5XTEUQPp2XIf7NBRAimCb/5s4FEAaU1yB244UQDZ+OveUkhRA+yYz51CWFED0eb9TD5oUQGbvWz/QnRRA01CIrJOhFEB/vsedWaUUQAi1oBUiqRRAQ1VZZnLvFECNhd5XSfMUQPaUWdUi9xRAgsBT4f76FED8o1l+3f4UQI0/+66+AhVAYP3LdaIGFUBWt2LViAoVQMC8WdBxDhVAKthOaV0SFUB4EihJclcVQH/upKBrWxVAiz3YmmdfFUCxzmE6ZmMVQKzt5IFnZxVAoWgIdGtrFUDtlXYTcm8VQBda3WJ7cxVAtS3uZId3FUBqI14clnsVQPDt5YunfxVA4jrdi2+/FUBga7VGi8MVQO0rAbupxxVA8td268rLFUBNZdDa7s8VQENqy4sV1BVAiSMpAT/YFUBTeq49a9wVQIkKJESa4BVA2ihWF8zkFUD/UhGUjRYWQNnzlIrAGhZA4N02RvYeFkACT7XJLiMWQCwl0hdqJxZALuRSM6grFkDNuwAf6S8WQN2NqN0sNBZAXfQacnM4FkCpRyzfvDwWQLSktCcJQRZATvOPTlhFFkDGxoG8/H0WQEAk7LZRghZAt8XRjKmGFkBw9AZBBIsWQJS2Y9ZhjxZAWtXDT8KTFkBG4wawJZgWQGlCEPqLnBZAwSrHMPWgFkCEsBZXYaUWQJvK7W/QqRZAUJ61//TgFkDQGUgMaeUWQHCiyAfg6RZAIrMd9VnuFkBWmjHX1vIWQEiA8rBW9xZAXm1Shdn7FkCVUEdXXwAXQOwFyynoBBdA+Fzb/3MJF0D6Vp54PEgXQFL1IG3STBdANS/RZmtRF0DFYatoB1YXQEzar3WmWhdAvdzikEhfF0BFqky97WMXQN6H+f2VaBdA8sT5VUFtF0AkwmHI73EXQLbPzMg4tBdA116wvfO4F0AXZw/Rsb0XQBYuAAZzwhdA+wydXzfHF0AZdwTh/ssXQMYAWY3J0BdAKGbBZ5fVF0AlkmhzaNoXQEGlfbM83xdAwbUU9nggGEAnT+IXWSUYQKUMpXE8KhhAzlWNBiMvGEBWyc/ZDDQYQBxEpe75OBhAGOhKSOo9GECDIwLq3UIYQCTFsPn6hxhAibnAJv2MGEAgByWiApIYQP8cJG8LlxhAcwlFFVCrGECRRzuyee8YQAN2S+ed9BhAfj1vCfVWGUBEoSdDO1wZQA==",
            "dtype": "f8"
           },
           "marker": {
            "color": {
             "bdata": "AAAAAAAAAAAAAAAAAAAAAAAAAAAAAAAAAAAAAAAAAAAAAAAAAAAAAAAAAAAAAAAAAAAAAAAAAAAAAAAAAAAAAAAAAAAAAAAAAAAAAAAAAAAAAAAAAAAAAAAAAAAAAAAAAAAAAAAAAAAAAAAAAAAAAAAAAAAAAAAAAAAAAAAAAAAAAAAAAAAAAAAAAAAAAAAAAAAAAAAAAAAAAAAAAAAAAAAAAAAAAAAAAAAAAAAAAAAAAAAAAAAAAAAAAAAAAAAAAAAAAAAAAAAAAAAAAAAAAAAAAAAAAAAAAAAAAAAAAAAAAAAAAAAAAAAAAAAAAAAAAAAAAAAAAAAAAAAAAAAAAAAAAAAAAAAAAAAAAAAAAAAAAAAAAAAAAAAAAAAAAAAAAAAAAAAAAAAAAAAAAAAAAAAAAAAAAAAAAAAAAAAAAAAAAAAAAAAAAAAAAAAAAAAAAAAAAAAAAAAAAAAAAAAAAAAAAAAAAAAAAAAAAAAAAAAAAAAAAAAAAAAAAAAAAAAAAAAAAAAAAAAAAAAAAAAAAAAAAAAAAAAAAAAAAAAAAAAAAAAAAAAAAAAAAAAAAAAAAAAAAAAAAAAAAAAAAAAAAAAAAAAAAAAAAAAAAAAAAAAAAAAAAAAAAAAAAAAAAAAAAAAAAAAAAAAAAAAAAAAAAAAAAAAAAAAAAAAAAAAAAAAAAAAAAAAAAAAAAAAAAAAAAAAAAAAAAAAAAAAAAAAAAAAAAAAAAAAAAAAAAAAAAAAAAAAAAAAAAAAAAAAAAAAAAAAAAAAAAAAAAAAAAAAAAAAAAAAAAAAAAAAAAAAAAAAAAAAAAAAAAAAAAAAAAAAAAAAAAAAAAAAAAAAAAAAAAAAAAAAAAAAAAAAAAAAAAAAAAAAAAAAAAAAAAAAAAAAAAAAAAAAAAAAAAAAAAAAAAAAAAAAAAAAAAAAAAAAAAAAAAAAAAAAAAAAAAAAAAAAAAAAAAAAAAAAAAAAAAAAAAAAAAAAAAAAAAAAAAAAAAAAAAAAAAAAAAAAAAAAAAAAAAAAAAAAAAAAAAAAAAAAAAKd9Rqc0QUc/AAAAAAAAAADpsclRzk9YPwAAAAAAAAAAAAAAAAAAAAAAAAAAAAAAAAAAAAAAAAAAAAAAAAAAAAAr5kz8Z15JPwAAAAAAAAAAAAAAAAAAAAAAAAAAAAAAAK9OU1Gbe1s/AAAAAAAAAAAAAAAAAAAAADO3WabOmG0/CkwLJxvXWD8AAAAAAAAAAPGC1vs0ikw/K+ZM/GdeOT81tn6WHpucPx8X9nFhH3c/96un8q1dkj/B0RMcPcGhPw==",
             "dtype": "f8"
            },
            "coloraxis": "coloraxis",
            "size": {
             "bdata": "AAAAAAAAAAAAAAAAAAAAAAAAAAAAAAAAAAAAAAAAAAAAAAAAAAAAAAAAAAAAAAAAAAAAAAAAAAAAAAAAAAAAAAAAAAAAAAAAAAAAAAAAAAAAAAAAAAAAAAAAAAAAAAAAAAAAAAAAAAAAAAAAAAAAAAAAAAAAAAAAAAAAAAAAAAAAAAAAAAAAAAAAAAAAAAAAAAAAAAAAAAAAAAAAAAAAAAAAAAAAAAAAAAAAAAAAAAAAAAAAAAAAAAAAAAAAAAAAAAAAAAAAAAAAAAAAAAAAAAAAAAAAAAAAAAAAAAAAAAAAAAAAAAAAAAAAAAAAAAAAAAAAAAAAAAAAAAAAAAAAAAAAAAAAAAAAAAAAAAAAAAAAAAAAAAAAAAAAAAAAAAAAAAAAAAAAAAAAAAAAAAAAAAAAAAAAAAAAAAAAAAAAAAAAAAAAAAAAAAAAAAAAAAAAAAAAAAAAAAAAAAAAAAAAAAAAAAAAAAAAAAAAAAAAAAAAAAAAAAAAAAAAAAAAAAAAAAAAAAAAAAAAAAAAAAAAAAAAAAAAAAAAAAAAAAAAAAAAAAAAAAAAAAAAAAAAAAAAAAAAAAAAAAAAAAAAAAAAAAAAAAAAAAAAAAAAAAAAAAAAAAAAAAAAAAAAAAAAAAAAAAAAAAAAAAAAAAAAAAAAAAAAAAAAAAAAAAAAAAAAAAAAAAAAAAAAAAAAAAAAAAAAAAAAAAAAAAAAAAAAAAAAAAAAAAAAAAAAAAAAAAAAAAAAAAAAAAAAAAAAAAAAAAAAAAAAAAAAAAAAAAAAAAAAAAAAAAAAAAAAAAAAAAAAAAAAAAAAAAAAAAAAAAAAAAAAAAAAAAAAAAAAAAAAAAAAAAAAAAAAAAAAAAAAAAAAAAAAAAAAAAAAAAAAAAAAAAAAAAAAAAAAAAAAAAAAAAAAAAAAAAAAAAAAAAAAAAAAAAAAAAAAAAAAAAAAAAAAAAAAAAAAAAAAAAAAAAAAAAAAAAAAAAAAAAAAAAAAAAAAAAAAAAAAAAAAAAAAAAAAAAAAAAAAAAAAAAAAAAAAAAAAAKd9Rqc0QUc/AAAAAAAAAADpsclRzk9YPwAAAAAAAAAAAAAAAAAAAAAAAAAAAAAAAAAAAAAAAAAAAAAAAAAAAAAr5kz8Z15JPwAAAAAAAAAAAAAAAAAAAAAAAAAAAAAAAK9OU1Gbe1s/AAAAAAAAAAAAAAAAAAAAADO3WabOmG0/CkwLJxvXWD8AAAAAAAAAAPGC1vs0ikw/K+ZM/GdeOT81tn6WHpucPx8X9nFhH3c/96un8q1dkj/B0RMcPcGhPw==",
             "dtype": "f8"
            },
            "sizemode": "area",
            "sizeref": 0.006043951612903227
           },
           "mode": "markers",
           "name": "",
           "showlegend": false,
           "subplot": "map",
           "type": "scattermap"
          }
         ],
         "name": "2022-10"
        },
        {
         "data": [
          {
           "hovertemplate": "month=2022-11<br>HTEURNEIGE_Q=%{marker.color}<br>lat=%{lat}<br>lon=%{lon}<extra></extra>",
           "lat": {
            "bdata": "GNilFLSrRkCtqV0k6bRGQOjesz0evkZAm+q6X1PHRkD/GkaOZ6tGQABCMISctEZAAFKvg9G9RkDuttWLBsdGQG43+PgXq0ZAYvcM1Ey0RkAzxay4gb1GQKMF6qW2xkZATM7WmuvPRkC6Xg2gkKFGQB/o1lTFqkZAO5cOFPqzRkCvGMfcLr1GQMLJEq5jxkZAk7gDh5jPRkA/pKtmzdhGQAj9G0wC4kZAFh4O/dGORkBVnm99BphGQJR3Dgo7oUZA7u39oW+qRkDb9VBEpLNGQEI0GvDYvEZAt/5rpA3GRkCOW1hgQs9GQA0C8SJ32EZAllpH66vhRkACIx2VeY5GQJY+s/etl0ZAyc57ZuKgRkDfD4rgFqpGQGPu8GRLs0ZAUAfD8n+8RkApqBKJtMVGQEHP8SbpzkZAwStyyx3YRkDqHaV1UuFGQC+3mySH6kZA3hrDIR6ORkBDg4dlUpdGQJMcc7WGoEZA6RqZELupRkCoYgx277JGQI+I3+QjvEZA39EkXFjFRkCQNO7ajM5GQHNXTWDB10ZAWZJT6/XgRkCa1fWe72hGQIoROokjckZA8ApKg1d7RkBzLjqMi4RGQEmYHqO/jUZASRQLx/OWRkA2HhP3J6BGQMzhSTJcqUZA+TrCd5CyRkD6tY7GxLtGQIiPwR35xEZABbVsfC3ORkDuQieYjmhGQFMivWHCcUZALd8SO/Z6RkCi3TwjKoRGQGoxTxlejUZA1Z1dHJKWRkD9lXsrxp9GQAM9vEX6qEZAEmYyai6yRkCslPCXYrtGQLb8CM6WxEZAEOke8/ZeRkD75WKKKmhGQBPWRTJecUZAimXc6ZF6RkDX7zqwxYNGQOV/dYT5jEZAMtCfZS2WRkAHS81SYZ9GQIUKEUuVqEZA7dh9TcmxRkAD2jABkF5GQPr+yXXDZ0ZABYT1+vZwRkBkDMiPKnpGQJ7qVTNeg0ZAkyCz5JGMRkCzX/OixZVGQBcJKm35nkZAui1qQi2oRkCgjsYhYbFGQHTOflpZZ0ZAZ4Tuu4xwRkDWQ/gswHlGQAFWsKzzgkZAf7MqOieMRkBuBHvUWpVGQICgtHqOnkZAQo/qK8KnRkAuiC/n9bBGQNbylaspukZAbzBUdR9wRkCIfZDBUnlGQDu8bRyGgkZAndv/hLmLRkArelr67JRGQPXlkHsgnkZAyhy2B1SnRkBjzNydh7BGQP7hSievb0ZAkiy1TeJ4RkC8qbKCFYJGQME+V8VIi0ZAtGfzRRawRkCK8/fRO29GQE7Fi9FueEZA87+BdcVuRkA2vTpN+HdGQA==",
            "dtype": "f8"
           },
           "legendgroup": "",
           "lon": {
            "bdata": "fdMnuEhZE0DmL32SnFwTQNK/OqTyXxNAogWY70pjE0AzeK7LucETQMUBOFowxRNA6VQ7N6nIE0DN9QZlJMwTQPY8B5MoKhRAbH9508EtFEB2EnR5XTEUQPp2XIf7NBRAimCb/5s4FEAaU1yB244UQDZ+OveUkhRA+yYz51CWFED0eb9TD5oUQGbvWz/QnRRA01CIrJOhFEB/vsedWaUUQAi1oBUiqRRAQ1VZZnLvFECNhd5XSfMUQPaUWdUi9xRAgsBT4f76FED8o1l+3f4UQI0/+66+AhVAYP3LdaIGFUBWt2LViAoVQMC8WdBxDhVAKthOaV0SFUB4EihJclcVQH/upKBrWxVAiz3YmmdfFUCxzmE6ZmMVQKzt5IFnZxVAoWgIdGtrFUDtlXYTcm8VQBda3WJ7cxVAtS3uZId3FUBqI14clnsVQPDt5YunfxVA4jrdi2+/FUBga7VGi8MVQO0rAbupxxVA8td268rLFUBNZdDa7s8VQENqy4sV1BVAiSMpAT/YFUBTeq49a9wVQIkKJESa4BVA2ihWF8zkFUD/UhGUjRYWQNnzlIrAGhZA4N02RvYeFkACT7XJLiMWQCwl0hdqJxZALuRSM6grFkDNuwAf6S8WQN2NqN0sNBZAXfQacnM4FkCpRyzfvDwWQLSktCcJQRZATvOPTlhFFkDGxoG8/H0WQEAk7LZRghZAt8XRjKmGFkBw9AZBBIsWQJS2Y9ZhjxZAWtXDT8KTFkBG4wawJZgWQGlCEPqLnBZAwSrHMPWgFkCEsBZXYaUWQJvK7W/QqRZAUJ61//TgFkDQGUgMaeUWQHCiyAfg6RZAIrMd9VnuFkBWmjHX1vIWQEiA8rBW9xZAXm1Shdn7FkCVUEdXXwAXQOwFyynoBBdA+Fzb/3MJF0D6Vp54PEgXQFL1IG3STBdANS/RZmtRF0DFYatoB1YXQEzar3WmWhdAvdzikEhfF0BFqky97WMXQN6H+f2VaBdA8sT5VUFtF0AkwmHI73EXQLbPzMg4tBdA116wvfO4F0AXZw/Rsb0XQBYuAAZzwhdA+wydXzfHF0AZdwTh/ssXQMYAWY3J0BdAKGbBZ5fVF0AlkmhzaNoXQEGlfbM83xdAwbUU9nggGEAnT+IXWSUYQKUMpXE8KhhAzlWNBiMvGEBWyc/ZDDQYQBxEpe75OBhAGOhKSOo9GECDIwLq3UIYQCTFsPn6hxhAibnAJv2MGEAgByWiApIYQP8cJG8LlxhAcwlFFVCrGECRRzuyee8YQAN2S+ed9BhAfj1vCfVWGUBEoSdDO1wZQA==",
            "dtype": "f8"
           },
           "marker": {
            "color": {
             "bdata": "AAAAAAAAAAAAAAAAAAAAAAAAAAAAAAAAAAAAAAAAAAAAAAAAAAAAAAAAAAAAAAAAAAAAAAAAAAAAAAAAAAAAAAAAAAAAAAAAAAAAAAAAAAAAAAAAAAAAAAAAAAAAAAAAAAAAAAAAAAAAAAAAAAAAAAAAAAAAAAAAAAAAAAAAAAAAAAAAAAAAAAAAAAAAAAAAAAAAAAAAAAAAAAAAAAAAAAAAAAAAAAAAAAAAAAAAAAAAAAAAAAAAAAAAAAAAAAAAAAAAAAAAAAAAAAAAAAAAAAAAAAAAAAAAAAAAAAAAAAAAAAAAAAAAAAAAAAAAAAAAAAAAAAAAAAAAAAAAAAAAAAAAAAAAAAAAAAAAAAAAAAAAAAAAAAAAAAAAAAAAAAAAAAAAAAAAAAAAAAAAAAAAAAAAAAAAAAAAAAAAAAAAAAAAAAAAAAAAAAAAAAAAAAAALUMc6+I2Sj8egr2c7HlBPwAAAAAAAAAAAAAAAAAAAAAAAAAAAAAAAAAAAAAAAAAAAAAAAAAAAAAAAAAAAAAAAAAAAAAAAAAAAAAAAAAAAAAJZfS2rNWhP3Dzs34gZpw/5IOezarPlT8z6dzaryiSPyRNqTj78Gk/8Yj3CY1NiD+bwfL6psN9PwAAAAAAAAAAAAAAAAAAAAAAAAAAAAAAAAAAAAAAAAAAAAAAAAAAAAAegr2c7HkRP0BaiWaLkVI/AAAAAAAAAAA6tMh2vp96P6pdJp1b+4U/vZm+xEXbbj8AAAAAAAAAABWMSuoENGE/AAAAAAAAAAAAAAAAAAAAAAAAAAAAAAAAZ/1AzDggfD8AAAAAAAAAAIMKIfrIwEQ/tKNLEl6VLj9RRm/LWh1TPwAAAAAAAAAAAAAAAAAAAACSy39Iv31tP5t6ylfvXaA/exSuR+F6hD+5jQbwFkiQPyrwO3P8PY4/AAAAAAAAAAD5wmSqYFSSP5NiWq6RN5M/RiV1ApoIez8egr2c7HkhPwAAAAAAAAAAhxkHhMP4lj83GsBbIEGhP7SjSxJelV4/hVrTvOMUfT+/WPKLJb+YPzSl4uzDZ7g/fdCzWfW5qj+g0wY6baDDP4MKIfrIwIQ/AAAAAAAAAAAAAAAAAAAAAAAAAAAAAAAAmy1GSqCumz/Oqs/VVuy/Pw96Nqs+V5s/HOviNhrAmz9fvXfBzc+qP8CAS+0y6cQ/PZtVn6utmD/8qfHSTWJQP2AK/M4cf8c/BxhwqV0mxT9aGuWGzIKmPyqm5Rp5M70/OUVHcvkPuT8K+aBns+rXP/WUr9674M4/xdmHz7Ar1D8eOGdEaW/YPw==",
             "dtype": "f8"
            },
            "coloraxis": "coloraxis",
            "size": {
             "bdata": "AAAAAAAAAAAAAAAAAAAAAAAAAAAAAAAAAAAAAAAAAAAAAAAAAAAAAAAAAAAAAAAAAAAAAAAAAAAAAAAAAAAAAAAAAAAAAAAAAAAAAAAAAAAAAAAAAAAAAAAAAAAAAAAAAAAAAAAAAAAAAAAAAAAAAAAAAAAAAAAAAAAAAAAAAAAAAAAAAAAAAAAAAAAAAAAAAAAAAAAAAAAAAAAAAAAAAAAAAAAAAAAAAAAAAAAAAAAAAAAAAAAAAAAAAAAAAAAAAAAAAAAAAAAAAAAAAAAAAAAAAAAAAAAAAAAAAAAAAAAAAAAAAAAAAAAAAAAAAAAAAAAAAAAAAAAAAAAAAAAAAAAAAAAAAAAAAAAAAAAAAAAAAAAAAAAAAAAAAAAAAAAAAAAAAAAAAAAAAAAAAAAAAAAAAAAAAAAAAAAAAAAAAAAAAAAAAAAAAAAAAAAAAAAALUMc6+I2Sj8egr2c7HlBPwAAAAAAAAAAAAAAAAAAAAAAAAAAAAAAAAAAAAAAAAAAAAAAAAAAAAAAAAAAAAAAAAAAAAAAAAAAAAAAAAAAAAAJZfS2rNWhP3Dzs34gZpw/5IOezarPlT8z6dzaryiSPyRNqTj78Gk/8Yj3CY1NiD+bwfL6psN9PwAAAAAAAAAAAAAAAAAAAAAAAAAAAAAAAAAAAAAAAAAAAAAAAAAAAAAegr2c7HkRP0BaiWaLkVI/AAAAAAAAAAA6tMh2vp96P6pdJp1b+4U/vZm+xEXbbj8AAAAAAAAAABWMSuoENGE/AAAAAAAAAAAAAAAAAAAAAAAAAAAAAAAAZ/1AzDggfD8AAAAAAAAAAIMKIfrIwEQ/tKNLEl6VLj9RRm/LWh1TPwAAAAAAAAAAAAAAAAAAAACSy39Iv31tP5t6ylfvXaA/exSuR+F6hD+5jQbwFkiQPyrwO3P8PY4/AAAAAAAAAAD5wmSqYFSSP5NiWq6RN5M/RiV1ApoIez8egr2c7HkhPwAAAAAAAAAAhxkHhMP4lj83GsBbIEGhP7SjSxJelV4/hVrTvOMUfT+/WPKLJb+YPzSl4uzDZ7g/fdCzWfW5qj+g0wY6baDDP4MKIfrIwIQ/AAAAAAAAAAAAAAAAAAAAAAAAAAAAAAAAmy1GSqCumz/Oqs/VVuy/Pw96Nqs+V5s/HOviNhrAmz9fvXfBzc+qP8CAS+0y6cQ/PZtVn6utmD/8qfHSTWJQP2AK/M4cf8c/BxhwqV0mxT9aGuWGzIKmPyqm5Rp5M70/OUVHcvkPuT8K+aBns+rXP/WUr9674M4/xdmHz7Ar1D8eOGdEaW/YPw==",
             "dtype": "f8"
            },
            "sizemode": "area",
            "sizeref": 0.006043951612903227
           },
           "mode": "markers",
           "name": "",
           "showlegend": false,
           "subplot": "map",
           "type": "scattermap"
          }
         ],
         "name": "2022-11"
        },
        {
         "data": [
          {
           "hovertemplate": "month=2022-12<br>HTEURNEIGE_Q=%{marker.color}<br>lat=%{lat}<br>lon=%{lon}<extra></extra>",
           "lat": {
            "bdata": "GNilFLSrRkCtqV0k6bRGQOjesz0evkZAm+q6X1PHRkD/GkaOZ6tGQABCMISctEZAAFKvg9G9RkDuttWLBsdGQG43+PgXq0ZAYvcM1Ey0RkAzxay4gb1GQKMF6qW2xkZATM7WmuvPRkC6Xg2gkKFGQB/o1lTFqkZAO5cOFPqzRkCvGMfcLr1GQMLJEq5jxkZAk7gDh5jPRkA/pKtmzdhGQAj9G0wC4kZAFh4O/dGORkBVnm99BphGQJR3Dgo7oUZA7u39oW+qRkDb9VBEpLNGQEI0GvDYvEZAt/5rpA3GRkCOW1hgQs9GQA0C8SJ32EZAllpH66vhRkACIx2VeY5GQJY+s/etl0ZAyc57ZuKgRkDfD4rgFqpGQGPu8GRLs0ZAUAfD8n+8RkApqBKJtMVGQEHP8SbpzkZAwStyyx3YRkDqHaV1UuFGQC+3mySH6kZA3hrDIR6ORkBDg4dlUpdGQJMcc7WGoEZA6RqZELupRkCoYgx277JGQI+I3+QjvEZA39EkXFjFRkCQNO7ajM5GQHNXTWDB10ZAWZJT6/XgRkCa1fWe72hGQIoROokjckZA8ApKg1d7RkBzLjqMi4RGQEmYHqO/jUZASRQLx/OWRkA2HhP3J6BGQMzhSTJcqUZA+TrCd5CyRkD6tY7GxLtGQIiPwR35xEZABbVsfC3ORkDuQieYjmhGQFMivWHCcUZALd8SO/Z6RkCi3TwjKoRGQGoxTxlejUZA1Z1dHJKWRkD9lXsrxp9GQAM9vEX6qEZAEmYyai6yRkCslPCXYrtGQLb8CM6WxEZAEOke8/ZeRkD75WKKKmhGQBPWRTJecUZAimXc6ZF6RkDX7zqwxYNGQOV/dYT5jEZAMtCfZS2WRkAHS81SYZ9GQIUKEUuVqEZA7dh9TcmxRkAD2jABkF5GQPr+yXXDZ0ZABYT1+vZwRkBkDMiPKnpGQJ7qVTNeg0ZAkyCz5JGMRkCzX/OixZVGQBcJKm35nkZAui1qQi2oRkCgjsYhYbFGQHTOflpZZ0ZAZ4Tuu4xwRkDWQ/gswHlGQAFWsKzzgkZAf7MqOieMRkBuBHvUWpVGQICgtHqOnkZAQo/qK8KnRkAuiC/n9bBGQNbylaspukZAbzBUdR9wRkCIfZDBUnlGQDu8bRyGgkZAndv/hLmLRkArelr67JRGQPXlkHsgnkZAyhy2B1SnRkBjzNydh7BGQP7hSievb0ZAkiy1TeJ4RkC8qbKCFYJGQME+V8VIi0ZAtGfzRRawRkCK8/fRO29GQE7Fi9FueEZA87+BdcVuRkA2vTpN+HdGQA==",
            "dtype": "f8"
           },
           "legendgroup": "",
           "lon": {
            "bdata": "fdMnuEhZE0DmL32SnFwTQNK/OqTyXxNAogWY70pjE0AzeK7LucETQMUBOFowxRNA6VQ7N6nIE0DN9QZlJMwTQPY8B5MoKhRAbH9508EtFEB2EnR5XTEUQPp2XIf7NBRAimCb/5s4FEAaU1yB244UQDZ+OveUkhRA+yYz51CWFED0eb9TD5oUQGbvWz/QnRRA01CIrJOhFEB/vsedWaUUQAi1oBUiqRRAQ1VZZnLvFECNhd5XSfMUQPaUWdUi9xRAgsBT4f76FED8o1l+3f4UQI0/+66+AhVAYP3LdaIGFUBWt2LViAoVQMC8WdBxDhVAKthOaV0SFUB4EihJclcVQH/upKBrWxVAiz3YmmdfFUCxzmE6ZmMVQKzt5IFnZxVAoWgIdGtrFUDtlXYTcm8VQBda3WJ7cxVAtS3uZId3FUBqI14clnsVQPDt5YunfxVA4jrdi2+/FUBga7VGi8MVQO0rAbupxxVA8td268rLFUBNZdDa7s8VQENqy4sV1BVAiSMpAT/YFUBTeq49a9wVQIkKJESa4BVA2ihWF8zkFUD/UhGUjRYWQNnzlIrAGhZA4N02RvYeFkACT7XJLiMWQCwl0hdqJxZALuRSM6grFkDNuwAf6S8WQN2NqN0sNBZAXfQacnM4FkCpRyzfvDwWQLSktCcJQRZATvOPTlhFFkDGxoG8/H0WQEAk7LZRghZAt8XRjKmGFkBw9AZBBIsWQJS2Y9ZhjxZAWtXDT8KTFkBG4wawJZgWQGlCEPqLnBZAwSrHMPWgFkCEsBZXYaUWQJvK7W/QqRZAUJ61//TgFkDQGUgMaeUWQHCiyAfg6RZAIrMd9VnuFkBWmjHX1vIWQEiA8rBW9xZAXm1Shdn7FkCVUEdXXwAXQOwFyynoBBdA+Fzb/3MJF0D6Vp54PEgXQFL1IG3STBdANS/RZmtRF0DFYatoB1YXQEzar3WmWhdAvdzikEhfF0BFqky97WMXQN6H+f2VaBdA8sT5VUFtF0AkwmHI73EXQLbPzMg4tBdA116wvfO4F0AXZw/Rsb0XQBYuAAZzwhdA+wydXzfHF0AZdwTh/ssXQMYAWY3J0BdAKGbBZ5fVF0AlkmhzaNoXQEGlfbM83xdAwbUU9nggGEAnT+IXWSUYQKUMpXE8KhhAzlWNBiMvGEBWyc/ZDDQYQBxEpe75OBhAGOhKSOo9GECDIwLq3UIYQCTFsPn6hxhAibnAJv2MGEAgByWiApIYQP8cJG8LlxhAcwlFFVCrGECRRzuyee8YQAN2S+ed9BhAfj1vCfVWGUBEoSdDO1wZQA==",
            "dtype": "f8"
           },
           "marker": {
            "color": {
             "bdata": "M7dZps6YLT+vTlNRm3s7P2VJw/yaMkY/M7dZps6YPT+vTlNRm3s7P7cfYPsBtk8/p31GpzRBRz+vTlNRm3s7P2VJw/yaMkY/p31GpzRBVz+3H2D7AbZPP2wa0KYBbUo/6bHJUc5PSD/SExw9wdFjPzO3WabOmE0/6bHJUc5PWD9169xQaKdeP0yAjtG05Vk/X3i2UjT4QT+nfUanNEE3P6GsOf3NBjM/th9g+wG2Pz9feLZSNPhhP/GC1vs0inw/A3v+fLScVD/psclRzk9YP6Wqg91tC3E/TICO0bTlWT8zt1mmzpg9P+mxyVHOT0g/4uC8p2cVRD+2H2D7AbZPPx1EM6ia6VA/o3/8xpQ8eT9OqxXojbRhP7J52md0SmM/vUgx8nqJdT/JF4h8gchXP3Xr3FBop04/HUQzqJrpQD/psclRzk9IP+LgvKdnFUQ/rk5TUZt7az8De/58tJx0P/yp8dJNYlA/FEif51rgZD+vTlNRm3trP+LgvKdnFXQ/Eh0Y0YERXT9feLZSNPhRP6d9Rqc0QTc/bBrQpgFtSj9k8tm/OJfFP35jSp4MS8A/gHEuSxrmtz/NKwPwZTOiP2pHDd06N3Q/ftE/fmNKnj9Fr4EnTqulPzO3WabOmD0/Iuq4OyhVbT+OtBF8TvR6P2ZJw/yaMlY/tx9g+wG2Pz+VhR4mtS5vP/xRLYY7yX4/X3i2UjT4YT81+BFQ7M2hPzlVklMlOaU/uErnEduElz/gtTWRjkZsP6xlX/SP35g/ux2q26G6fT/EGT6c4cN5P6CsOf3NBlM/qpKcKsmpoj9feLZSNPhhP3cWZGdBdnY/wUZ70hqOcz88s+1mDqKJP11NLzxbKWo/X3i2UjT4YT8Md5I99KWQPwqrQUq0Pb4/d6H8sGOppD/rUbgehevRPzFDzf+gybw/4uC8p2cVZD9kqdQv5Ja8P2Gqrz+UlL0/yqFFtvP9pD9+53ARqLB6P20a0KYBbWo/X2KFv++RtT+OMOsIs47AP9Xm3gaIB4o/FQ1+BBR7sz/xmAePefDIPyqsBinR9tg/i8sdH0NY0D8ddwelqoPhPw8lZbe43LE/wUZ70hqOYz+fgbLm9DdrPwx3kj30pXA/H+QhdVGFyj9RNdMhAOreP7rUpEtNusQ/eb3ECn/fwz9dPnB/nZDRP9T1ncNFoOI/diyV+oXcwj/nsqRhfk2JP08uYUt5HOM/5pUB+LIZ4T8tRKgPUcfNP+PuoFR1sNs/JSMk/w6/1D+Krnq1dyTsP5P7YOxC+eU/crnjYwgL6z+1cLJxjYHtPw==",
             "dtype": "f8"
            },
            "coloraxis": "coloraxis",
            "size": {
             "bdata": "M7dZps6YLT+vTlNRm3s7P2VJw/yaMkY/M7dZps6YPT+vTlNRm3s7P7cfYPsBtk8/p31GpzRBRz+vTlNRm3s7P2VJw/yaMkY/p31GpzRBVz+3H2D7AbZPP2wa0KYBbUo/6bHJUc5PSD/SExw9wdFjPzO3WabOmE0/6bHJUc5PWD9169xQaKdeP0yAjtG05Vk/X3i2UjT4QT+nfUanNEE3P6GsOf3NBjM/th9g+wG2Pz9feLZSNPhhP/GC1vs0inw/A3v+fLScVD/psclRzk9YP6Wqg91tC3E/TICO0bTlWT8zt1mmzpg9P+mxyVHOT0g/4uC8p2cVRD+2H2D7AbZPPx1EM6ia6VA/o3/8xpQ8eT9OqxXojbRhP7J52md0SmM/vUgx8nqJdT/JF4h8gchXP3Xr3FBop04/HUQzqJrpQD/psclRzk9IP+LgvKdnFUQ/rk5TUZt7az8De/58tJx0P/yp8dJNYlA/FEif51rgZD+vTlNRm3trP+LgvKdnFXQ/Eh0Y0YERXT9feLZSNPhRP6d9Rqc0QTc/bBrQpgFtSj9k8tm/OJfFP35jSp4MS8A/gHEuSxrmtz/NKwPwZTOiP2pHDd06N3Q/ftE/fmNKnj9Fr4EnTqulPzO3WabOmD0/Iuq4OyhVbT+OtBF8TvR6P2ZJw/yaMlY/tx9g+wG2Pz+VhR4mtS5vP/xRLYY7yX4/X3i2UjT4YT81+BFQ7M2hPzlVklMlOaU/uErnEduElz/gtTWRjkZsP6xlX/SP35g/ux2q26G6fT/EGT6c4cN5P6CsOf3NBlM/qpKcKsmpoj9feLZSNPhhP3cWZGdBdnY/wUZ70hqOcz88s+1mDqKJP11NLzxbKWo/X3i2UjT4YT8Md5I99KWQPwqrQUq0Pb4/d6H8sGOppD/rUbgehevRPzFDzf+gybw/4uC8p2cVZD9kqdQv5Ja8P2Gqrz+UlL0/yqFFtvP9pD9+53ARqLB6P20a0KYBbWo/X2KFv++RtT+OMOsIs47AP9Xm3gaIB4o/FQ1+BBR7sz/xmAePefDIPyqsBinR9tg/i8sdH0NY0D8ddwelqoPhPw8lZbe43LE/wUZ70hqOYz+fgbLm9DdrPwx3kj30pXA/H+QhdVGFyj9RNdMhAOreP7rUpEtNusQ/eb3ECn/fwz9dPnB/nZDRP9T1ncNFoOI/diyV+oXcwj/nsqRhfk2JP08uYUt5HOM/5pUB+LIZ4T8tRKgPUcfNP+PuoFR1sNs/JSMk/w6/1D+Krnq1dyTsP5P7YOxC+eU/crnjYwgL6z+1cLJxjYHtPw==",
             "dtype": "f8"
            },
            "sizemode": "area",
            "sizeref": 0.006043951612903227
           },
           "mode": "markers",
           "name": "",
           "showlegend": false,
           "subplot": "map",
           "type": "scattermap"
          }
         ],
         "name": "2022-12"
        },
        {
         "data": [
          {
           "hovertemplate": "month=2023-01<br>HTEURNEIGE_Q=%{marker.color}<br>lat=%{lat}<br>lon=%{lon}<extra></extra>",
           "lat": {
            "bdata": "GNilFLSrRkCtqV0k6bRGQOjesz0evkZAm+q6X1PHRkD/GkaOZ6tGQABCMISctEZAAFKvg9G9RkDuttWLBsdGQG43+PgXq0ZAYvcM1Ey0RkAzxay4gb1GQKMF6qW2xkZATM7WmuvPRkC6Xg2gkKFGQB/o1lTFqkZAO5cOFPqzRkCvGMfcLr1GQMLJEq5jxkZAk7gDh5jPRkA/pKtmzdhGQAj9G0wC4kZAFh4O/dGORkBVnm99BphGQJR3Dgo7oUZA7u39oW+qRkDb9VBEpLNGQEI0GvDYvEZAt/5rpA3GRkCOW1hgQs9GQA0C8SJ32EZAllpH66vhRkACIx2VeY5GQJY+s/etl0ZAyc57ZuKgRkDfD4rgFqpGQGPu8GRLs0ZAUAfD8n+8RkApqBKJtMVGQEHP8SbpzkZAwStyyx3YRkDqHaV1UuFGQC+3mySH6kZA3hrDIR6ORkBDg4dlUpdGQJMcc7WGoEZA6RqZELupRkCoYgx277JGQI+I3+QjvEZA39EkXFjFRkCQNO7ajM5GQHNXTWDB10ZAWZJT6/XgRkCa1fWe72hGQIoROokjckZA8ApKg1d7RkBzLjqMi4RGQEmYHqO/jUZASRQLx/OWRkA2HhP3J6BGQMzhSTJcqUZA+TrCd5CyRkD6tY7GxLtGQIiPwR35xEZABbVsfC3ORkDuQieYjmhGQFMivWHCcUZALd8SO/Z6RkCi3TwjKoRGQGoxTxlejUZA1Z1dHJKWRkD9lXsrxp9GQAM9vEX6qEZAEmYyai6yRkCslPCXYrtGQLb8CM6WxEZAEOke8/ZeRkD75WKKKmhGQBPWRTJecUZAimXc6ZF6RkDX7zqwxYNGQOV/dYT5jEZAMtCfZS2WRkAHS81SYZ9GQIUKEUuVqEZA7dh9TcmxRkAD2jABkF5GQPr+yXXDZ0ZABYT1+vZwRkBkDMiPKnpGQJ7qVTNeg0ZAkyCz5JGMRkCzX/OixZVGQBcJKm35nkZAui1qQi2oRkCgjsYhYbFGQHTOflpZZ0ZAZ4Tuu4xwRkDWQ/gswHlGQAFWsKzzgkZAf7MqOieMRkBuBHvUWpVGQICgtHqOnkZAQo/qK8KnRkAuiC/n9bBGQNbylaspukZAbzBUdR9wRkCIfZDBUnlGQDu8bRyGgkZAndv/hLmLRkArelr67JRGQPXlkHsgnkZAyhy2B1SnRkBjzNydh7BGQP7hSievb0ZAkiy1TeJ4RkC8qbKCFYJGQME+V8VIi0ZAtGfzRRawRkCK8/fRO29GQE7Fi9FueEZA87+BdcVuRkA2vTpN+HdGQA==",
            "dtype": "f8"
           },
           "legendgroup": "",
           "lon": {
            "bdata": "fdMnuEhZE0DmL32SnFwTQNK/OqTyXxNAogWY70pjE0AzeK7LucETQMUBOFowxRNA6VQ7N6nIE0DN9QZlJMwTQPY8B5MoKhRAbH9508EtFEB2EnR5XTEUQPp2XIf7NBRAimCb/5s4FEAaU1yB244UQDZ+OveUkhRA+yYz51CWFED0eb9TD5oUQGbvWz/QnRRA01CIrJOhFEB/vsedWaUUQAi1oBUiqRRAQ1VZZnLvFECNhd5XSfMUQPaUWdUi9xRAgsBT4f76FED8o1l+3f4UQI0/+66+AhVAYP3LdaIGFUBWt2LViAoVQMC8WdBxDhVAKthOaV0SFUB4EihJclcVQH/upKBrWxVAiz3YmmdfFUCxzmE6ZmMVQKzt5IFnZxVAoWgIdGtrFUDtlXYTcm8VQBda3WJ7cxVAtS3uZId3FUBqI14clnsVQPDt5YunfxVA4jrdi2+/FUBga7VGi8MVQO0rAbupxxVA8td268rLFUBNZdDa7s8VQENqy4sV1BVAiSMpAT/YFUBTeq49a9wVQIkKJESa4BVA2ihWF8zkFUD/UhGUjRYWQNnzlIrAGhZA4N02RvYeFkACT7XJLiMWQCwl0hdqJxZALuRSM6grFkDNuwAf6S8WQN2NqN0sNBZAXfQacnM4FkCpRyzfvDwWQLSktCcJQRZATvOPTlhFFkDGxoG8/H0WQEAk7LZRghZAt8XRjKmGFkBw9AZBBIsWQJS2Y9ZhjxZAWtXDT8KTFkBG4wawJZgWQGlCEPqLnBZAwSrHMPWgFkCEsBZXYaUWQJvK7W/QqRZAUJ61//TgFkDQGUgMaeUWQHCiyAfg6RZAIrMd9VnuFkBWmjHX1vIWQEiA8rBW9xZAXm1Shdn7FkCVUEdXXwAXQOwFyynoBBdA+Fzb/3MJF0D6Vp54PEgXQFL1IG3STBdANS/RZmtRF0DFYatoB1YXQEzar3WmWhdAvdzikEhfF0BFqky97WMXQN6H+f2VaBdA8sT5VUFtF0AkwmHI73EXQLbPzMg4tBdA116wvfO4F0AXZw/Rsb0XQBYuAAZzwhdA+wydXzfHF0AZdwTh/ssXQMYAWY3J0BdAKGbBZ5fVF0AlkmhzaNoXQEGlfbM83xdAwbUU9nggGEAnT+IXWSUYQKUMpXE8KhhAzlWNBiMvGEBWyc/ZDDQYQBxEpe75OBhAGOhKSOo9GECDIwLq3UIYQCTFsPn6hxhAibnAJv2MGEAgByWiApIYQP8cJG8LlxhAcwlFFVCrGECRRzuyee8YQAN2S+ed9BhAfj1vCfVWGUBEoSdDO1wZQA==",
            "dtype": "f8"
           },
           "marker": {
            "color": {
             "bdata": "AAAAAAAAAAAAAAAAAAAAAB1EM6ia6QA/HUQzqJrpAD8AAAAAAAAAAB1EM6ia6RA/HUQzqJrpAD8AAAAAAAAAAB1EM6ia6QA/oaw5/c0GMz8dRDOomukQPx1EM6ia6QA/HUQzqJrpAD+2H2D7AbY/Px1EM6ia6QA/oaw5/c0GMz+nfUanNEE3P6GsOf3NBjM/HUQzqJrpAD8AAAAAAAAAAAAAAAAAAAAAK+ZM/GdeOT+2H2D7AbY/Px1EM6ia6WA/M7dZps6YLT+hrDn9zQYzP/yp8dJNYlA/oaw5/c0GMz8dRDOomukAPx1EM6ia6QA/HUQzqJrpAD8dRDOomulQPz7edH3ncFE/devcUGinXj+2H2D7AbY/P7YfYPsBtj8/p31GpzRBVz8zt1mmzpgtPx1EM6ia6QA/HUQzqJrpAD8dRDOomukAPx1EM6ia6QA/UR+ijruDoj/EGT6c4cOJP194tlI0+FE/th9g+wG2Pz8zt1mmzphNPwN7/ny0nFQ/oaw5/c0GMz8dRDOomukgPwAAAAAAAAAAM7dZps6YXT/l/IQBg0vDP75A5AtEvsA/DjQkdHZ1uj+8JByyKIixPwzWyGCNDKY/yHa+nxovrT/lnU7e6eSdPx1EM6ia6TA/M7dZps6YTT/8qfHSTWJgPzO3WabOmC0/HUQzqJrpAD+H4wTS57mGP65OU1Gbe4s/z+iUJugCXD/8CCj25silPynnJwwYXKo/GtCmAW0aoD+hrDn9zQYzP5Xd4nLHx5A/Pt50fedwYT/xgtb7NIpcPx1EM6ia6RA/iYPznp5VoD9mScP8mjJWP+eypGF+TYk/SoFp4WTjij+/0u4r7b6iPyQVQFIBJCU/K+ZM/GdeGT//8RtT8mSoP/2aMhaQycc/vCQcsiiIsT+O0bTlGSjTPxzeiq56tbc/VFGbexsgXj9YBuDLZiTDP0k4ZFEQ48E/ePFzFz93sT/ug7EL5YeNPyQVQFIBJCU/39ol4ZBFwT+mzpgdwAzFP6WUUkoppZQ/FtJcIc0Vsj+A5pUB+LLJPxrm15SxgOA/bQSfE70G1j8ZwsJUX3/oP+c9PauggLc/VFGbexsgfj9hYaqvP5SUP8PQOAyNw6A/zMzMzMzMzD8nwxLMxVriP3b5wP11QsY/mQePefCYxz+omukQAHXXP7xBvxv0u+k/lFqXD9xfxz+4SucR24SXPwRWDi2ynec/yX0wdqH85D/00XJSYFrQP0QzqJrpEOA/rjGw589H4z/Rep9GkQPyP6MKlRC3b+s/HFPyZFiC8T9xnED6PNfyPw==",
             "dtype": "f8"
            },
            "coloraxis": "coloraxis",
            "size": {
             "bdata": "AAAAAAAAAAAAAAAAAAAAAB1EM6ia6QA/HUQzqJrpAD8AAAAAAAAAAB1EM6ia6RA/HUQzqJrpAD8AAAAAAAAAAB1EM6ia6QA/oaw5/c0GMz8dRDOomukQPx1EM6ia6QA/HUQzqJrpAD+2H2D7AbY/Px1EM6ia6QA/oaw5/c0GMz+nfUanNEE3P6GsOf3NBjM/HUQzqJrpAD8AAAAAAAAAAAAAAAAAAAAAK+ZM/GdeOT+2H2D7AbY/Px1EM6ia6WA/M7dZps6YLT+hrDn9zQYzP/yp8dJNYlA/oaw5/c0GMz8dRDOomukAPx1EM6ia6QA/HUQzqJrpAD8dRDOomulQPz7edH3ncFE/devcUGinXj+2H2D7AbY/P7YfYPsBtj8/p31GpzRBVz8zt1mmzpgtPx1EM6ia6QA/HUQzqJrpAD8dRDOomukAPx1EM6ia6QA/UR+ijruDoj/EGT6c4cOJP194tlI0+FE/th9g+wG2Pz8zt1mmzphNPwN7/ny0nFQ/oaw5/c0GMz8dRDOomukgPwAAAAAAAAAAM7dZps6YXT/l/IQBg0vDP75A5AtEvsA/DjQkdHZ1uj+8JByyKIixPwzWyGCNDKY/yHa+nxovrT/lnU7e6eSdPx1EM6ia6TA/M7dZps6YTT/8qfHSTWJgPzO3WabOmC0/HUQzqJrpAD+H4wTS57mGP65OU1Gbe4s/z+iUJugCXD/8CCj25silPynnJwwYXKo/GtCmAW0aoD+hrDn9zQYzP5Xd4nLHx5A/Pt50fedwYT/xgtb7NIpcPx1EM6ia6RA/iYPznp5VoD9mScP8mjJWP+eypGF+TYk/SoFp4WTjij+/0u4r7b6iPyQVQFIBJCU/K+ZM/GdeGT//8RtT8mSoP/2aMhaQycc/vCQcsiiIsT+O0bTlGSjTPxzeiq56tbc/VFGbexsgXj9YBuDLZiTDP0k4ZFEQ48E/ePFzFz93sT/ug7EL5YeNPyQVQFIBJCU/39ol4ZBFwT+mzpgdwAzFP6WUUkoppZQ/FtJcIc0Vsj+A5pUB+LLJPxrm15SxgOA/bQSfE70G1j8ZwsJUX3/oP+c9PauggLc/VFGbexsgfj9hYaqvP5SUP8PQOAyNw6A/zMzMzMzMzD8nwxLMxVriP3b5wP11QsY/mQePefCYxz+omukQAHXXP7xBvxv0u+k/lFqXD9xfxz+4SucR24SXPwRWDi2ynec/yX0wdqH85D/00XJSYFrQP0QzqJrpEOA/rjGw589H4z/Rep9GkQPyP6MKlRC3b+s/HFPyZFiC8T9xnED6PNfyPw==",
             "dtype": "f8"
            },
            "sizemode": "area",
            "sizeref": 0.006043951612903227
           },
           "mode": "markers",
           "name": "",
           "showlegend": false,
           "subplot": "map",
           "type": "scattermap"
          }
         ],
         "name": "2023-01"
        },
        {
         "data": [
          {
           "hovertemplate": "month=2023-02<br>HTEURNEIGE_Q=%{marker.color}<br>lat=%{lat}<br>lon=%{lon}<extra></extra>",
           "lat": {
            "bdata": "GNilFLSrRkCtqV0k6bRGQOjesz0evkZAm+q6X1PHRkD/GkaOZ6tGQABCMISctEZAAFKvg9G9RkDuttWLBsdGQG43+PgXq0ZAYvcM1Ey0RkAzxay4gb1GQKMF6qW2xkZATM7WmuvPRkC6Xg2gkKFGQB/o1lTFqkZAO5cOFPqzRkCvGMfcLr1GQMLJEq5jxkZAk7gDh5jPRkA/pKtmzdhGQAj9G0wC4kZAFh4O/dGORkBVnm99BphGQJR3Dgo7oUZA7u39oW+qRkDb9VBEpLNGQEI0GvDYvEZAt/5rpA3GRkCOW1hgQs9GQA0C8SJ32EZAllpH66vhRkACIx2VeY5GQJY+s/etl0ZAyc57ZuKgRkDfD4rgFqpGQGPu8GRLs0ZAUAfD8n+8RkApqBKJtMVGQEHP8SbpzkZAwStyyx3YRkDqHaV1UuFGQC+3mySH6kZA3hrDIR6ORkBDg4dlUpdGQJMcc7WGoEZA6RqZELupRkCoYgx277JGQI+I3+QjvEZA39EkXFjFRkCQNO7ajM5GQHNXTWDB10ZAWZJT6/XgRkCa1fWe72hGQIoROokjckZA8ApKg1d7RkBzLjqMi4RGQEmYHqO/jUZASRQLx/OWRkA2HhP3J6BGQMzhSTJcqUZA+TrCd5CyRkD6tY7GxLtGQIiPwR35xEZABbVsfC3ORkDuQieYjmhGQFMivWHCcUZALd8SO/Z6RkCi3TwjKoRGQGoxTxlejUZA1Z1dHJKWRkD9lXsrxp9GQAM9vEX6qEZAEmYyai6yRkCslPCXYrtGQLb8CM6WxEZAEOke8/ZeRkD75WKKKmhGQBPWRTJecUZAimXc6ZF6RkDX7zqwxYNGQOV/dYT5jEZAMtCfZS2WRkAHS81SYZ9GQIUKEUuVqEZA7dh9TcmxRkAD2jABkF5GQPr+yXXDZ0ZABYT1+vZwRkBkDMiPKnpGQJ7qVTNeg0ZAkyCz5JGMRkCzX/OixZVGQBcJKm35nkZAui1qQi2oRkCgjsYhYbFGQHTOflpZZ0ZAZ4Tuu4xwRkDWQ/gswHlGQAFWsKzzgkZAf7MqOieMRkBuBHvUWpVGQICgtHqOnkZAQo/qK8KnRkAuiC/n9bBGQNbylaspukZAbzBUdR9wRkCIfZDBUnlGQDu8bRyGgkZAndv/hLmLRkArelr67JRGQPXlkHsgnkZAyhy2B1SnRkBjzNydh7BGQP7hSievb0ZAkiy1TeJ4RkC8qbKCFYJGQME+V8VIi0ZAtGfzRRawRkCK8/fRO29GQE7Fi9FueEZA87+BdcVuRkA2vTpN+HdGQA==",
            "dtype": "f8"
           },
           "legendgroup": "",
           "lon": {
            "bdata": "fdMnuEhZE0DmL32SnFwTQNK/OqTyXxNAogWY70pjE0AzeK7LucETQMUBOFowxRNA6VQ7N6nIE0DN9QZlJMwTQPY8B5MoKhRAbH9508EtFEB2EnR5XTEUQPp2XIf7NBRAimCb/5s4FEAaU1yB244UQDZ+OveUkhRA+yYz51CWFED0eb9TD5oUQGbvWz/QnRRA01CIrJOhFEB/vsedWaUUQAi1oBUiqRRAQ1VZZnLvFECNhd5XSfMUQPaUWdUi9xRAgsBT4f76FED8o1l+3f4UQI0/+66+AhVAYP3LdaIGFUBWt2LViAoVQMC8WdBxDhVAKthOaV0SFUB4EihJclcVQH/upKBrWxVAiz3YmmdfFUCxzmE6ZmMVQKzt5IFnZxVAoWgIdGtrFUDtlXYTcm8VQBda3WJ7cxVAtS3uZId3FUBqI14clnsVQPDt5YunfxVA4jrdi2+/FUBga7VGi8MVQO0rAbupxxVA8td268rLFUBNZdDa7s8VQENqy4sV1BVAiSMpAT/YFUBTeq49a9wVQIkKJESa4BVA2ihWF8zkFUD/UhGUjRYWQNnzlIrAGhZA4N02RvYeFkACT7XJLiMWQCwl0hdqJxZALuRSM6grFkDNuwAf6S8WQN2NqN0sNBZAXfQacnM4FkCpRyzfvDwWQLSktCcJQRZATvOPTlhFFkDGxoG8/H0WQEAk7LZRghZAt8XRjKmGFkBw9AZBBIsWQJS2Y9ZhjxZAWtXDT8KTFkBG4wawJZgWQGlCEPqLnBZAwSrHMPWgFkCEsBZXYaUWQJvK7W/QqRZAUJ61//TgFkDQGUgMaeUWQHCiyAfg6RZAIrMd9VnuFkBWmjHX1vIWQEiA8rBW9xZAXm1Shdn7FkCVUEdXXwAXQOwFyynoBBdA+Fzb/3MJF0D6Vp54PEgXQFL1IG3STBdANS/RZmtRF0DFYatoB1YXQEzar3WmWhdAvdzikEhfF0BFqky97WMXQN6H+f2VaBdA8sT5VUFtF0AkwmHI73EXQLbPzMg4tBdA116wvfO4F0AXZw/Rsb0XQBYuAAZzwhdA+wydXzfHF0AZdwTh/ssXQMYAWY3J0BdAKGbBZ5fVF0AlkmhzaNoXQEGlfbM83xdAwbUU9nggGEAnT+IXWSUYQKUMpXE8KhhAzlWNBiMvGEBWyc/ZDDQYQBxEpe75OBhAGOhKSOo9GECDIwLq3UIYQCTFsPn6hxhAibnAJv2MGEAgByWiApIYQP8cJG8LlxhAcwlFFVCrGECRRzuyee8YQAN2S+ed9BhAfj1vCfVWGUBEoSdDO1wZQA==",
            "dtype": "f8"
           },
           "marker": {
            "color": {
             "bdata": "AAAAAAAAAAAAAAAAAAAAAAAAAAAAAAAAAAAAAAAAAAAAAAAAAAAAAAAAAAAAAAAAAAAAAAAAAAAAAAAAAAAAAAAAAAAAAAAAAAAAAAAAAAAAAAAAAAAAAAAAAAAAAAAAAAAAAAAAAAAAAAAAAAAAAAAAAAAAAAAAAAAAAAAAAAAAAAAAAAAAAAAAAAAAAAAAAAAAAAAAAAAAAAAAAAAAAAAAAAAAAAAAAAAAAAAAAAAAAAAAAAAAAAAAAAAAAAAAAAAAAAAAAAAAAAAAAAAAAAAAAAAAAAAAAAAAAAAAAAAAAAAAAAAAAAAAAAAAAAAAAAAAAAAAAAAAAAAAAAAAAAAAAAAAAAAAAAAAAAAAAAAAAAAAAAAAAAAAAAAAAAAAAAAAAAAAAAAAAAAAAAAAAAAAAAAAAAAAAAAAAAAAAAAAAAAAAAAAAAAAAAAAAAAAAfS6w+njbz9Ffyer5Y1RPwAAAAAAAAAAAAAAAAAAAAAAAAAAAAAAAAAAAAAAAAAAAAAAAAAAAAAAAAAAAAAAAAAAAAAAAAAAAAAAAAAAAAD5R55phai4P9dgX64E0LM/58TdnuNiqj8DH0LawrKXP4KJ/k5Wy3s/+sF7S3qakD8Nvxn4ENKGPwAAAAAAAAAAAAAAAAAAAAAAAAAAAAAAAAAAAAAAAAAAAAAAAAAAAAB56SYxCKxsP/fZBcSm0nA/RX8nq+WNUT/xFV/xFV+RPxVrNlJ1DZY/sak05Nxndz8AAAAAAAAAAEV/J6vljWE/AAAAAAAAAAAAAAAAAAAAAAAAAAAAAAAAXQmg1x1Ojz/8qfHSTWJQP6o05NxnF3A/r36tzQOZbz/1rn6tzQN5PwAAAAAAAAAAAAAAAAAAAABHZ50yuVWBPzFLvatfa7s/oVH7LxTxmD/YVBpy7rPPP5w+/pFnWrE/6WlCl7EjUj8TuowdkTC2P7rPLiA2lbY/3p7jYoo1mz8g/8gzrRBVPwAAAAAAAAAA7vYcF1OssT+oQCkZfjO4P4ec++wCYoM/lgB63eH0oT9oFxCbSkPCP0LawrIXzds/baTqGuzL0T/3HBdTrNnlP0eqrsG+XKk/1f4LRTwWLD/V/gtFPBZcP96e42KKNWs/UT5Bo/ZfxD8oJcNvBj7eP1i/1uaBzL8/Uya3KsonwD+wL1cC6HXTP4lBYOXQIuc/CePorFMmvz97FK5H4XpkPwXQ6w6nj+M/zJUAet3h4T9HZ50yuVXJP+i4mGLNRto/iceCA9ww4T+a0GXsiITvP8WajVRdg+c/s5Gqa7Av7j+SJEmSJEnwPw==",
             "dtype": "f8"
            },
            "coloraxis": "coloraxis",
            "size": {
             "bdata": "AAAAAAAAAAAAAAAAAAAAAAAAAAAAAAAAAAAAAAAAAAAAAAAAAAAAAAAAAAAAAAAAAAAAAAAAAAAAAAAAAAAAAAAAAAAAAAAAAAAAAAAAAAAAAAAAAAAAAAAAAAAAAAAAAAAAAAAAAAAAAAAAAAAAAAAAAAAAAAAAAAAAAAAAAAAAAAAAAAAAAAAAAAAAAAAAAAAAAAAAAAAAAAAAAAAAAAAAAAAAAAAAAAAAAAAAAAAAAAAAAAAAAAAAAAAAAAAAAAAAAAAAAAAAAAAAAAAAAAAAAAAAAAAAAAAAAAAAAAAAAAAAAAAAAAAAAAAAAAAAAAAAAAAAAAAAAAAAAAAAAAAAAAAAAAAAAAAAAAAAAAAAAAAAAAAAAAAAAAAAAAAAAAAAAAAAAAAAAAAAAAAAAAAAAAAAAAAAAAAAAAAAAAAAAAAAAAAAAAAAAAAAAAAAAfS6w+njbz9Ffyer5Y1RPwAAAAAAAAAAAAAAAAAAAAAAAAAAAAAAAAAAAAAAAAAAAAAAAAAAAAAAAAAAAAAAAAAAAAAAAAAAAAAAAAAAAAD5R55phai4P9dgX64E0LM/58TdnuNiqj8DH0LawrKXP4KJ/k5Wy3s/+sF7S3qakD8Nvxn4ENKGPwAAAAAAAAAAAAAAAAAAAAAAAAAAAAAAAAAAAAAAAAAAAAAAAAAAAAB56SYxCKxsP/fZBcSm0nA/RX8nq+WNUT/xFV/xFV+RPxVrNlJ1DZY/sak05Nxndz8AAAAAAAAAAEV/J6vljWE/AAAAAAAAAAAAAAAAAAAAAAAAAAAAAAAAXQmg1x1Ojz/8qfHSTWJQP6o05NxnF3A/r36tzQOZbz/1rn6tzQN5PwAAAAAAAAAAAAAAAAAAAABHZ50yuVWBPzFLvatfa7s/oVH7LxTxmD/YVBpy7rPPP5w+/pFnWrE/6WlCl7EjUj8TuowdkTC2P7rPLiA2lbY/3p7jYoo1mz8g/8gzrRBVPwAAAAAAAAAA7vYcF1OssT+oQCkZfjO4P4ec++wCYoM/lgB63eH0oT9oFxCbSkPCP0LawrIXzds/baTqGuzL0T/3HBdTrNnlP0eqrsG+XKk/1f4LRTwWLD/V/gtFPBZcP96e42KKNWs/UT5Bo/ZfxD8oJcNvBj7eP1i/1uaBzL8/Uya3KsonwD+wL1cC6HXTP4lBYOXQIuc/CePorFMmvz97FK5H4XpkPwXQ6w6nj+M/zJUAet3h4T9HZ50yuVXJP+i4mGLNRto/iceCA9ww4T+a0GXsiITvP8WajVRdg+c/s5Gqa7Av7j+SJEmSJEnwPw==",
             "dtype": "f8"
            },
            "sizemode": "area",
            "sizeref": 0.006043951612903227
           },
           "mode": "markers",
           "name": "",
           "showlegend": false,
           "subplot": "map",
           "type": "scattermap"
          }
         ],
         "name": "2023-02"
        },
        {
         "data": [
          {
           "hovertemplate": "month=2023-03<br>HTEURNEIGE_Q=%{marker.color}<br>lat=%{lat}<br>lon=%{lon}<extra></extra>",
           "lat": {
            "bdata": "GNilFLSrRkCtqV0k6bRGQOjesz0evkZAm+q6X1PHRkD/GkaOZ6tGQABCMISctEZAAFKvg9G9RkDuttWLBsdGQG43+PgXq0ZAYvcM1Ey0RkAzxay4gb1GQKMF6qW2xkZATM7WmuvPRkC6Xg2gkKFGQB/o1lTFqkZAO5cOFPqzRkCvGMfcLr1GQMLJEq5jxkZAk7gDh5jPRkA/pKtmzdhGQAj9G0wC4kZAFh4O/dGORkBVnm99BphGQJR3Dgo7oUZA7u39oW+qRkDb9VBEpLNGQEI0GvDYvEZAt/5rpA3GRkCOW1hgQs9GQA0C8SJ32EZAllpH66vhRkACIx2VeY5GQJY+s/etl0ZAyc57ZuKgRkDfD4rgFqpGQGPu8GRLs0ZAUAfD8n+8RkApqBKJtMVGQEHP8SbpzkZAwStyyx3YRkDqHaV1UuFGQC+3mySH6kZA3hrDIR6ORkBDg4dlUpdGQJMcc7WGoEZA6RqZELupRkCoYgx277JGQI+I3+QjvEZA39EkXFjFRkCQNO7ajM5GQHNXTWDB10ZAWZJT6/XgRkCa1fWe72hGQIoROokjckZA8ApKg1d7RkBzLjqMi4RGQEmYHqO/jUZASRQLx/OWRkA2HhP3J6BGQMzhSTJcqUZA+TrCd5CyRkD6tY7GxLtGQIiPwR35xEZABbVsfC3ORkDuQieYjmhGQFMivWHCcUZALd8SO/Z6RkCi3TwjKoRGQGoxTxlejUZA1Z1dHJKWRkD9lXsrxp9GQAM9vEX6qEZAEmYyai6yRkCslPCXYrtGQLb8CM6WxEZAEOke8/ZeRkD75WKKKmhGQBPWRTJecUZAimXc6ZF6RkDX7zqwxYNGQOV/dYT5jEZAMtCfZS2WRkAHS81SYZ9GQIUKEUuVqEZA7dh9TcmxRkAD2jABkF5GQPr+yXXDZ0ZABYT1+vZwRkBkDMiPKnpGQJ7qVTNeg0ZAkyCz5JGMRkCzX/OixZVGQBcJKm35nkZAui1qQi2oRkCgjsYhYbFGQHTOflpZZ0ZAZ4Tuu4xwRkDWQ/gswHlGQAFWsKzzgkZAf7MqOieMRkBuBHvUWpVGQICgtHqOnkZAQo/qK8KnRkAuiC/n9bBGQNbylaspukZAbzBUdR9wRkCIfZDBUnlGQDu8bRyGgkZAndv/hLmLRkArelr67JRGQPXlkHsgnkZAyhy2B1SnRkBjzNydh7BGQP7hSievb0ZAkiy1TeJ4RkC8qbKCFYJGQME+V8VIi0ZAtGfzRRawRkCK8/fRO29GQE7Fi9FueEZA87+BdcVuRkA2vTpN+HdGQA==",
            "dtype": "f8"
           },
           "legendgroup": "",
           "lon": {
            "bdata": "fdMnuEhZE0DmL32SnFwTQNK/OqTyXxNAogWY70pjE0AzeK7LucETQMUBOFowxRNA6VQ7N6nIE0DN9QZlJMwTQPY8B5MoKhRAbH9508EtFEB2EnR5XTEUQPp2XIf7NBRAimCb/5s4FEAaU1yB244UQDZ+OveUkhRA+yYz51CWFED0eb9TD5oUQGbvWz/QnRRA01CIrJOhFEB/vsedWaUUQAi1oBUiqRRAQ1VZZnLvFECNhd5XSfMUQPaUWdUi9xRAgsBT4f76FED8o1l+3f4UQI0/+66+AhVAYP3LdaIGFUBWt2LViAoVQMC8WdBxDhVAKthOaV0SFUB4EihJclcVQH/upKBrWxVAiz3YmmdfFUCxzmE6ZmMVQKzt5IFnZxVAoWgIdGtrFUDtlXYTcm8VQBda3WJ7cxVAtS3uZId3FUBqI14clnsVQPDt5YunfxVA4jrdi2+/FUBga7VGi8MVQO0rAbupxxVA8td268rLFUBNZdDa7s8VQENqy4sV1BVAiSMpAT/YFUBTeq49a9wVQIkKJESa4BVA2ihWF8zkFUD/UhGUjRYWQNnzlIrAGhZA4N02RvYeFkACT7XJLiMWQCwl0hdqJxZALuRSM6grFkDNuwAf6S8WQN2NqN0sNBZAXfQacnM4FkCpRyzfvDwWQLSktCcJQRZATvOPTlhFFkDGxoG8/H0WQEAk7LZRghZAt8XRjKmGFkBw9AZBBIsWQJS2Y9ZhjxZAWtXDT8KTFkBG4wawJZgWQGlCEPqLnBZAwSrHMPWgFkCEsBZXYaUWQJvK7W/QqRZAUJ61//TgFkDQGUgMaeUWQHCiyAfg6RZAIrMd9VnuFkBWmjHX1vIWQEiA8rBW9xZAXm1Shdn7FkCVUEdXXwAXQOwFyynoBBdA+Fzb/3MJF0D6Vp54PEgXQFL1IG3STBdANS/RZmtRF0DFYatoB1YXQEzar3WmWhdAvdzikEhfF0BFqky97WMXQN6H+f2VaBdA8sT5VUFtF0AkwmHI73EXQLbPzMg4tBdA116wvfO4F0AXZw/Rsb0XQBYuAAZzwhdA+wydXzfHF0AZdwTh/ssXQMYAWY3J0BdAKGbBZ5fVF0AlkmhzaNoXQEGlfbM83xdAwbUU9nggGEAnT+IXWSUYQKUMpXE8KhhAzlWNBiMvGEBWyc/ZDDQYQBxEpe75OBhAGOhKSOo9GECDIwLq3UIYQCTFsPn6hxhAibnAJv2MGEAgByWiApIYQP8cJG8LlxhAcwlFFVCrGECRRzuyee8YQAN2S+ed9BhAfj1vCfVWGUBEoSdDO1wZQA==",
            "dtype": "f8"
           },
           "marker": {
            "color": {
             "bdata": "AAAAAAAAAAAAAAAAAAAAAAAAAAAAAAAAAAAAAAAAAAAAAAAAAAAAAAAAAAAAAAAAAAAAAAAAAAAAAAAAAAAAAAAAAAAAAAAAAAAAAAAAAAAAAAAAAAAAAAAAAAAAAAAAAAAAAAAAAAAAAAAAAAAAAAAAAAAAAAAAAAAAAAAAAAAAAAAAAAAAAAAAAAAAAAAAAAAAAAAAAAAAAAAAAAAAAAAAAAAAAAAAAAAAAAAAAAAAAAAAAAAAAAAAAAAAAAAAAAAAAAAAAAAAAAAAAAAAAAAAAAAAAAAAAAAAAAAAAAAAAAAAAAAAAAAAAAAAAAAAAAAAAAAAAAAAAAAAAAAAAAAAAAAAAAAAAAAAAAAAAAAAAAAAAAAAAAAAAAAAAAAAAAAAAAAAAAAAAAAAAAAAAAAAAAAAAAAAAAAAAAAAAAAAAAAAAAAAAAAAAAAAAAAAth9g+wG2Xz/BRnvSGo5TPwAAAAAAAAAAAAAAAAAAAAAAAAAAAAAAAAAAAAAAAAAAAAAAAAAAAAAAAAAAAAAAAAAAAAAAAAAAAAAAAAAAAABJrcsH7q+zPwrBct34o6o/PGro1rmhoD9Jw/yaMhaQPxRIn+da4HQ/Dx7z4DEPjj814uC8p2d1PwAAAAAAAAAAAAAAAAAAAAAAAAAAAAAAAAAAAAAAAAAAAAAAAAAAAACvTlNRm3s7P38S+CeBf1I/AAAAAAAAAAC4SucR24R3P0WDHwHF3ow/JBVAUgEkZT8AAAAAAAAAAJ+Bsub0N2s/AAAAAAAAAAAAAAAAAAAAAAAAAAAAAAAATICO0bTlaT8AAAAAAAAAAK5OU1Gbe0s/X3i2UjT4QT8dRDOomulAPwAAAAAAAAAAAAAAAAAAAAD8qfHSTWJgP0XFsrqSEaI/fedwEaiwej9Amwa0aUDLP9fP0mOTo5w/AAAAAAAAAABvGfWWUW+pP2HA4NLY+qk/noGy5vQ3ez8r5kz8Z14ZPwAAAAAAAAAAPLPtZg6imT/xrjgivlalP8/olCboAlw/1ebeBogHij8NH87w4Qy/P1MIluvGH90/2w+w/QDbzz8Yyg87lkrpP6hR5ICrdI4/AAAAAAAAAAAAAAAAAAAAAAAAAAAAAAAA7G5biFAfwj/2VL61S8LhP7k0tn6WHrs/eFCqOtjdtj8aKGtOf7PRP9xChPoQdeg/AsxQ8z9osj9sGtCmAW1KP81BNIOqmeY/uL9OyLhR5T9VoRLi9u3KP54ifMNb0d0/yR76UgiW4z+7M9tu5iD0PxRIn+da4Ow/Qc7asHna8z8ol7ClPI71Pw==",
             "dtype": "f8"
            },
            "coloraxis": "coloraxis",
            "size": {
             "bdata": "AAAAAAAAAAAAAAAAAAAAAAAAAAAAAAAAAAAAAAAAAAAAAAAAAAAAAAAAAAAAAAAAAAAAAAAAAAAAAAAAAAAAAAAAAAAAAAAAAAAAAAAAAAAAAAAAAAAAAAAAAAAAAAAAAAAAAAAAAAAAAAAAAAAAAAAAAAAAAAAAAAAAAAAAAAAAAAAAAAAAAAAAAAAAAAAAAAAAAAAAAAAAAAAAAAAAAAAAAAAAAAAAAAAAAAAAAAAAAAAAAAAAAAAAAAAAAAAAAAAAAAAAAAAAAAAAAAAAAAAAAAAAAAAAAAAAAAAAAAAAAAAAAAAAAAAAAAAAAAAAAAAAAAAAAAAAAAAAAAAAAAAAAAAAAAAAAAAAAAAAAAAAAAAAAAAAAAAAAAAAAAAAAAAAAAAAAAAAAAAAAAAAAAAAAAAAAAAAAAAAAAAAAAAAAAAAAAAAAAAAAAAAAAAAth9g+wG2Xz/BRnvSGo5TPwAAAAAAAAAAAAAAAAAAAAAAAAAAAAAAAAAAAAAAAAAAAAAAAAAAAAAAAAAAAAAAAAAAAAAAAAAAAAAAAAAAAABJrcsH7q+zPwrBct34o6o/PGro1rmhoD9Jw/yaMhaQPxRIn+da4HQ/Dx7z4DEPjj814uC8p2d1PwAAAAAAAAAAAAAAAAAAAAAAAAAAAAAAAAAAAAAAAAAAAAAAAAAAAACvTlNRm3s7P38S+CeBf1I/AAAAAAAAAAC4SucR24R3P0WDHwHF3ow/JBVAUgEkZT8AAAAAAAAAAJ+Bsub0N2s/AAAAAAAAAAAAAAAAAAAAAAAAAAAAAAAATICO0bTlaT8AAAAAAAAAAK5OU1Gbe0s/X3i2UjT4QT8dRDOomulAPwAAAAAAAAAAAAAAAAAAAAD8qfHSTWJgP0XFsrqSEaI/fedwEaiwej9Amwa0aUDLP9fP0mOTo5w/AAAAAAAAAABvGfWWUW+pP2HA4NLY+qk/noGy5vQ3ez8r5kz8Z14ZPwAAAAAAAAAAPLPtZg6imT/xrjgivlalP8/olCboAlw/1ebeBogHij8NH87w4Qy/P1MIluvGH90/2w+w/QDbzz8Yyg87lkrpP6hR5ICrdI4/AAAAAAAAAAAAAAAAAAAAAAAAAAAAAAAA7G5biFAfwj/2VL61S8LhP7k0tn6WHrs/eFCqOtjdtj8aKGtOf7PRP9xChPoQdeg/AsxQ8z9osj9sGtCmAW1KP81BNIOqmeY/uL9OyLhR5T9VoRLi9u3KP54ifMNb0d0/yR76UgiW4z+7M9tu5iD0PxRIn+da4Ow/Qc7asHna8z8ol7ClPI71Pw==",
             "dtype": "f8"
            },
            "sizemode": "area",
            "sizeref": 0.006043951612903227
           },
           "mode": "markers",
           "name": "",
           "showlegend": false,
           "subplot": "map",
           "type": "scattermap"
          }
         ],
         "name": "2023-03"
        },
        {
         "data": [
          {
           "hovertemplate": "month=2023-04<br>HTEURNEIGE_Q=%{marker.color}<br>lat=%{lat}<br>lon=%{lon}<extra></extra>",
           "lat": {
            "bdata": "GNilFLSrRkCtqV0k6bRGQOjesz0evkZAm+q6X1PHRkD/GkaOZ6tGQABCMISctEZAAFKvg9G9RkDuttWLBsdGQG43+PgXq0ZAYvcM1Ey0RkAzxay4gb1GQKMF6qW2xkZATM7WmuvPRkC6Xg2gkKFGQB/o1lTFqkZAO5cOFPqzRkCvGMfcLr1GQMLJEq5jxkZAk7gDh5jPRkA/pKtmzdhGQAj9G0wC4kZAFh4O/dGORkBVnm99BphGQJR3Dgo7oUZA7u39oW+qRkDb9VBEpLNGQEI0GvDYvEZAt/5rpA3GRkCOW1hgQs9GQA0C8SJ32EZAllpH66vhRkACIx2VeY5GQJY+s/etl0ZAyc57ZuKgRkDfD4rgFqpGQGPu8GRLs0ZAUAfD8n+8RkApqBKJtMVGQEHP8SbpzkZAwStyyx3YRkDqHaV1UuFGQC+3mySH6kZA3hrDIR6ORkBDg4dlUpdGQJMcc7WGoEZA6RqZELupRkCoYgx277JGQI+I3+QjvEZA39EkXFjFRkCQNO7ajM5GQHNXTWDB10ZAWZJT6/XgRkCa1fWe72hGQIoROokjckZA8ApKg1d7RkBzLjqMi4RGQEmYHqO/jUZASRQLx/OWRkA2HhP3J6BGQMzhSTJcqUZA+TrCd5CyRkD6tY7GxLtGQIiPwR35xEZABbVsfC3ORkDuQieYjmhGQFMivWHCcUZALd8SO/Z6RkCi3TwjKoRGQGoxTxlejUZA1Z1dHJKWRkD9lXsrxp9GQAM9vEX6qEZAEmYyai6yRkCslPCXYrtGQLb8CM6WxEZAEOke8/ZeRkD75WKKKmhGQBPWRTJecUZAimXc6ZF6RkDX7zqwxYNGQOV/dYT5jEZAMtCfZS2WRkAHS81SYZ9GQIUKEUuVqEZA7dh9TcmxRkAD2jABkF5GQPr+yXXDZ0ZABYT1+vZwRkBkDMiPKnpGQJ7qVTNeg0ZAkyCz5JGMRkCzX/OixZVGQBcJKm35nkZAui1qQi2oRkCgjsYhYbFGQHTOflpZZ0ZAZ4Tuu4xwRkDWQ/gswHlGQAFWsKzzgkZAf7MqOieMRkBuBHvUWpVGQICgtHqOnkZAQo/qK8KnRkAuiC/n9bBGQNbylaspukZAbzBUdR9wRkCIfZDBUnlGQDu8bRyGgkZAndv/hLmLRkArelr67JRGQPXlkHsgnkZAyhy2B1SnRkBjzNydh7BGQP7hSievb0ZAkiy1TeJ4RkC8qbKCFYJGQME+V8VIi0ZAtGfzRRawRkCK8/fRO29GQE7Fi9FueEZA87+BdcVuRkA2vTpN+HdGQA==",
            "dtype": "f8"
           },
           "legendgroup": "",
           "lon": {
            "bdata": "fdMnuEhZE0DmL32SnFwTQNK/OqTyXxNAogWY70pjE0AzeK7LucETQMUBOFowxRNA6VQ7N6nIE0DN9QZlJMwTQPY8B5MoKhRAbH9508EtFEB2EnR5XTEUQPp2XIf7NBRAimCb/5s4FEAaU1yB244UQDZ+OveUkhRA+yYz51CWFED0eb9TD5oUQGbvWz/QnRRA01CIrJOhFEB/vsedWaUUQAi1oBUiqRRAQ1VZZnLvFECNhd5XSfMUQPaUWdUi9xRAgsBT4f76FED8o1l+3f4UQI0/+66+AhVAYP3LdaIGFUBWt2LViAoVQMC8WdBxDhVAKthOaV0SFUB4EihJclcVQH/upKBrWxVAiz3YmmdfFUCxzmE6ZmMVQKzt5IFnZxVAoWgIdGtrFUDtlXYTcm8VQBda3WJ7cxVAtS3uZId3FUBqI14clnsVQPDt5YunfxVA4jrdi2+/FUBga7VGi8MVQO0rAbupxxVA8td268rLFUBNZdDa7s8VQENqy4sV1BVAiSMpAT/YFUBTeq49a9wVQIkKJESa4BVA2ihWF8zkFUD/UhGUjRYWQNnzlIrAGhZA4N02RvYeFkACT7XJLiMWQCwl0hdqJxZALuRSM6grFkDNuwAf6S8WQN2NqN0sNBZAXfQacnM4FkCpRyzfvDwWQLSktCcJQRZATvOPTlhFFkDGxoG8/H0WQEAk7LZRghZAt8XRjKmGFkBw9AZBBIsWQJS2Y9ZhjxZAWtXDT8KTFkBG4wawJZgWQGlCEPqLnBZAwSrHMPWgFkCEsBZXYaUWQJvK7W/QqRZAUJ61//TgFkDQGUgMaeUWQHCiyAfg6RZAIrMd9VnuFkBWmjHX1vIWQEiA8rBW9xZAXm1Shdn7FkCVUEdXXwAXQOwFyynoBBdA+Fzb/3MJF0D6Vp54PEgXQFL1IG3STBdANS/RZmtRF0DFYatoB1YXQEzar3WmWhdAvdzikEhfF0BFqky97WMXQN6H+f2VaBdA8sT5VUFtF0AkwmHI73EXQLbPzMg4tBdA116wvfO4F0AXZw/Rsb0XQBYuAAZzwhdA+wydXzfHF0AZdwTh/ssXQMYAWY3J0BdAKGbBZ5fVF0AlkmhzaNoXQEGlfbM83xdAwbUU9nggGEAnT+IXWSUYQKUMpXE8KhhAzlWNBiMvGEBWyc/ZDDQYQBxEpe75OBhAGOhKSOo9GECDIwLq3UIYQCTFsPn6hxhAibnAJv2MGEAgByWiApIYQP8cJG8LlxhAcwlFFVCrGECRRzuyee8YQAN2S+ed9BhAfj1vCfVWGUBEoSdDO1wZQA==",
            "dtype": "f8"
           },
           "marker": {
            "color": {
             "bdata": "AAAAAAAAAAAAAAAAAAAAAAAAAAAAAAAAAAAAAAAAAAAAAAAAAAAAAAAAAAAAAAAAAAAAAAAAAAAAAAAAAAAAAAAAAAAAAAAAAAAAAAAAAAAAAAAAAAAAAAAAAAAAAAAAAAAAAAAAAAAAAAAAAAAAAAAAAAAAAAAAAAAAAAAAAAAAAAAAAAAAAAAAAAAAAAAAAAAAAAAAAAAAAAAAAAAAAAAAAAAAAAAAAAAAAAAAAAAAAAAAAAAAAAAAAAAAAAAAAAAAAAAAAAAAAAAAAAAAAAAAAAAAAAAAAAAAAAAAAAAAAAAAAAAAAAAAAAAAAAAAAAAAAAAAAAAAAAAAAAAAAAAAAAAAAAAAAAAAAAAAAAAAAAAAAAAAAAAAAAAAAAAAAAAAAAAAAAAAAAAAAAAAAAAAAAAAAAAAAAAAAAAAAAAAAAAAAAAAAAAAAAAAAAAApeLsw2fYJT8egr2c7HkRPwAAAAAAAAAAAAAAAAAAAAAAAAAAAAAAAAAAAAAAAAAAAAAAAAAAAAAAAAAAAAAAAAAAAAAAAAAAAAAAAAAAAAAOUt1JMS23P7GXkz0vArA/59Z+RZHIoT9JUPwYc9dyP0BaiWaLkUI/taZ5xyk6gj8egr2c7HlhPwAAAAAAAAAAAAAAAAAAAAAAAAAAAAAAAAAAAAAAAAAAAAAAAAAAAAAegr2c7HkBPy1DHOviNho/AAAAAAAAAACd7HkRgJJlP45QRm/LWo0/peLsw2fYRT8AAAAAAAAAAEBaiWaLkUI/AAAAAAAAAAAAAAAAAAAAAAAAAAAAAAAAcfOzfiBmPD8AAAAAAAAAAB6CvZzseRE/HoK9nOx5ET8egr2c7HkBPwAAAAAAAAAAAAAAAAAAAAAegr2c7HkxP5m7lpAPeqY/3nGKjuTybz+dx05lPg21P0YldQKaCGs/AAAAAAAAAADs5WTPiwCkPzmMbxWxdaY/UUZvy1odYz8AAAAAAAAAAAAAAAAAAAAA/DpwzojSnj+OmpzHTmWuP6Xi7MNn2CU/16ae8tV7Zz8PwV5O9ry4P2/LWh0TPOA//0Yoo7dl0T/fT42XbhLtP3aZdG7tV3Q/AAAAAAAAAAAAAAAAAAAAAAAAAAAAAAAAynnsVObTwD862fMiACXjPz1R/0Yoo7c/lGWIY13ctj/1udqK/WXTPwuQe82FpOs/sN674OZnrT8egr2c7HkRP9/gC5Opguk/dP9rU0/55j8NuwLkXnPJP+TyH9JvX98/jnVxGw3g5z/naiv2l932Pz3AgEvtMvA/2ofPsCtA9j9wFbF1lkb4Pw==",
             "dtype": "f8"
            },
            "coloraxis": "coloraxis",
            "size": {
             "bdata": "AAAAAAAAAAAAAAAAAAAAAAAAAAAAAAAAAAAAAAAAAAAAAAAAAAAAAAAAAAAAAAAAAAAAAAAAAAAAAAAAAAAAAAAAAAAAAAAAAAAAAAAAAAAAAAAAAAAAAAAAAAAAAAAAAAAAAAAAAAAAAAAAAAAAAAAAAAAAAAAAAAAAAAAAAAAAAAAAAAAAAAAAAAAAAAAAAAAAAAAAAAAAAAAAAAAAAAAAAAAAAAAAAAAAAAAAAAAAAAAAAAAAAAAAAAAAAAAAAAAAAAAAAAAAAAAAAAAAAAAAAAAAAAAAAAAAAAAAAAAAAAAAAAAAAAAAAAAAAAAAAAAAAAAAAAAAAAAAAAAAAAAAAAAAAAAAAAAAAAAAAAAAAAAAAAAAAAAAAAAAAAAAAAAAAAAAAAAAAAAAAAAAAAAAAAAAAAAAAAAAAAAAAAAAAAAAAAAAAAAAAAAAAAAApeLsw2fYJT8egr2c7HkRPwAAAAAAAAAAAAAAAAAAAAAAAAAAAAAAAAAAAAAAAAAAAAAAAAAAAAAAAAAAAAAAAAAAAAAAAAAAAAAAAAAAAAAOUt1JMS23P7GXkz0vArA/59Z+RZHIoT9JUPwYc9dyP0BaiWaLkUI/taZ5xyk6gj8egr2c7HlhPwAAAAAAAAAAAAAAAAAAAAAAAAAAAAAAAAAAAAAAAAAAAAAAAAAAAAAegr2c7HkBPy1DHOviNho/AAAAAAAAAACd7HkRgJJlP45QRm/LWo0/peLsw2fYRT8AAAAAAAAAAEBaiWaLkUI/AAAAAAAAAAAAAAAAAAAAAAAAAAAAAAAAcfOzfiBmPD8AAAAAAAAAAB6CvZzseRE/HoK9nOx5ET8egr2c7HkBPwAAAAAAAAAAAAAAAAAAAAAegr2c7HkxP5m7lpAPeqY/3nGKjuTybz+dx05lPg21P0YldQKaCGs/AAAAAAAAAADs5WTPiwCkPzmMbxWxdaY/UUZvy1odYz8AAAAAAAAAAAAAAAAAAAAA/DpwzojSnj+OmpzHTmWuP6Xi7MNn2CU/16ae8tV7Zz8PwV5O9ry4P2/LWh0TPOA//0Yoo7dl0T/fT42XbhLtP3aZdG7tV3Q/AAAAAAAAAAAAAAAAAAAAAAAAAAAAAAAAynnsVObTwD862fMiACXjPz1R/0Yoo7c/lGWIY13ctj/1udqK/WXTPwuQe82FpOs/sN674OZnrT8egr2c7HkRP9/gC5Opguk/dP9rU0/55j8NuwLkXnPJP+TyH9JvX98/jnVxGw3g5z/naiv2l932Pz3AgEvtMvA/2ofPsCtA9j9wFbF1lkb4Pw==",
             "dtype": "f8"
            },
            "sizemode": "area",
            "sizeref": 0.006043951612903227
           },
           "mode": "markers",
           "name": "",
           "showlegend": false,
           "subplot": "map",
           "type": "scattermap"
          }
         ],
         "name": "2023-04"
        },
        {
         "data": [
          {
           "hovertemplate": "month=2023-05<br>HTEURNEIGE_Q=%{marker.color}<br>lat=%{lat}<br>lon=%{lon}<extra></extra>",
           "lat": {
            "bdata": "GNilFLSrRkCtqV0k6bRGQOjesz0evkZAm+q6X1PHRkD/GkaOZ6tGQABCMISctEZAAFKvg9G9RkDuttWLBsdGQG43+PgXq0ZAYvcM1Ey0RkAzxay4gb1GQKMF6qW2xkZATM7WmuvPRkC6Xg2gkKFGQB/o1lTFqkZAO5cOFPqzRkCvGMfcLr1GQMLJEq5jxkZAk7gDh5jPRkA/pKtmzdhGQAj9G0wC4kZAFh4O/dGORkBVnm99BphGQJR3Dgo7oUZA7u39oW+qRkDb9VBEpLNGQEI0GvDYvEZAt/5rpA3GRkCOW1hgQs9GQA0C8SJ32EZAllpH66vhRkACIx2VeY5GQJY+s/etl0ZAyc57ZuKgRkDfD4rgFqpGQGPu8GRLs0ZAUAfD8n+8RkApqBKJtMVGQEHP8SbpzkZAwStyyx3YRkDqHaV1UuFGQC+3mySH6kZA3hrDIR6ORkBDg4dlUpdGQJMcc7WGoEZA6RqZELupRkCoYgx277JGQI+I3+QjvEZA39EkXFjFRkCQNO7ajM5GQHNXTWDB10ZAWZJT6/XgRkCa1fWe72hGQIoROokjckZA8ApKg1d7RkBzLjqMi4RGQEmYHqO/jUZASRQLx/OWRkA2HhP3J6BGQMzhSTJcqUZA+TrCd5CyRkD6tY7GxLtGQIiPwR35xEZABbVsfC3ORkDuQieYjmhGQFMivWHCcUZALd8SO/Z6RkCi3TwjKoRGQGoxTxlejUZA1Z1dHJKWRkD9lXsrxp9GQAM9vEX6qEZAEmYyai6yRkCslPCXYrtGQLb8CM6WxEZAEOke8/ZeRkD75WKKKmhGQBPWRTJecUZAimXc6ZF6RkDX7zqwxYNGQOV/dYT5jEZAMtCfZS2WRkAHS81SYZ9GQIUKEUuVqEZA7dh9TcmxRkAD2jABkF5GQPr+yXXDZ0ZABYT1+vZwRkBkDMiPKnpGQJ7qVTNeg0ZAkyCz5JGMRkCzX/OixZVGQBcJKm35nkZAui1qQi2oRkCgjsYhYbFGQHTOflpZZ0ZAZ4Tuu4xwRkDWQ/gswHlGQAFWsKzzgkZAf7MqOieMRkBuBHvUWpVGQICgtHqOnkZAQo/qK8KnRkAuiC/n9bBGQNbylaspukZAbzBUdR9wRkCIfZDBUnlGQDu8bRyGgkZAndv/hLmLRkArelr67JRGQPXlkHsgnkZAyhy2B1SnRkBjzNydh7BGQP7hSievb0ZAkiy1TeJ4RkC8qbKCFYJGQME+V8VIi0ZAtGfzRRawRkCK8/fRO29GQE7Fi9FueEZA87+BdcVuRkA2vTpN+HdGQA==",
            "dtype": "f8"
           },
           "legendgroup": "",
           "lon": {
            "bdata": "fdMnuEhZE0DmL32SnFwTQNK/OqTyXxNAogWY70pjE0AzeK7LucETQMUBOFowxRNA6VQ7N6nIE0DN9QZlJMwTQPY8B5MoKhRAbH9508EtFEB2EnR5XTEUQPp2XIf7NBRAimCb/5s4FEAaU1yB244UQDZ+OveUkhRA+yYz51CWFED0eb9TD5oUQGbvWz/QnRRA01CIrJOhFEB/vsedWaUUQAi1oBUiqRRAQ1VZZnLvFECNhd5XSfMUQPaUWdUi9xRAgsBT4f76FED8o1l+3f4UQI0/+66+AhVAYP3LdaIGFUBWt2LViAoVQMC8WdBxDhVAKthOaV0SFUB4EihJclcVQH/upKBrWxVAiz3YmmdfFUCxzmE6ZmMVQKzt5IFnZxVAoWgIdGtrFUDtlXYTcm8VQBda3WJ7cxVAtS3uZId3FUBqI14clnsVQPDt5YunfxVA4jrdi2+/FUBga7VGi8MVQO0rAbupxxVA8td268rLFUBNZdDa7s8VQENqy4sV1BVAiSMpAT/YFUBTeq49a9wVQIkKJESa4BVA2ihWF8zkFUD/UhGUjRYWQNnzlIrAGhZA4N02RvYeFkACT7XJLiMWQCwl0hdqJxZALuRSM6grFkDNuwAf6S8WQN2NqN0sNBZAXfQacnM4FkCpRyzfvDwWQLSktCcJQRZATvOPTlhFFkDGxoG8/H0WQEAk7LZRghZAt8XRjKmGFkBw9AZBBIsWQJS2Y9ZhjxZAWtXDT8KTFkBG4wawJZgWQGlCEPqLnBZAwSrHMPWgFkCEsBZXYaUWQJvK7W/QqRZAUJ61//TgFkDQGUgMaeUWQHCiyAfg6RZAIrMd9VnuFkBWmjHX1vIWQEiA8rBW9xZAXm1Shdn7FkCVUEdXXwAXQOwFyynoBBdA+Fzb/3MJF0D6Vp54PEgXQFL1IG3STBdANS/RZmtRF0DFYatoB1YXQEzar3WmWhdAvdzikEhfF0BFqky97WMXQN6H+f2VaBdA8sT5VUFtF0AkwmHI73EXQLbPzMg4tBdA116wvfO4F0AXZw/Rsb0XQBYuAAZzwhdA+wydXzfHF0AZdwTh/ssXQMYAWY3J0BdAKGbBZ5fVF0AlkmhzaNoXQEGlfbM83xdAwbUU9nggGEAnT+IXWSUYQKUMpXE8KhhAzlWNBiMvGEBWyc/ZDDQYQBxEpe75OBhAGOhKSOo9GECDIwLq3UIYQCTFsPn6hxhAibnAJv2MGEAgByWiApIYQP8cJG8LlxhAcwlFFVCrGECRRzuyee8YQAN2S+ed9BhAfj1vCfVWGUBEoSdDO1wZQA==",
            "dtype": "f8"
           },
           "marker": {
            "color": {
             "bdata": "AAAAAAAAAAAAAAAAAAAAAAAAAAAAAAAAAAAAAAAAAAAAAAAAAAAAAAAAAAAAAAAAAAAAAAAAAAAAAAAAAAAAAAAAAAAAAAAAAAAAAAAAAAAAAAAAAAAAAAAAAAAAAAAAAAAAAAAAAAAAAAAAAAAAAAAAAAAAAAAAAAAAAAAAAAAAAAAAAAAAAAAAAAAAAAAAAAAAAAAAAAAAAAAAAAAAAAAAAAAAAAAAAAAAAAAAAAAAAAAAAAAAAAAAAAAAAAAAAAAAAAAAAAAAAAAAAAAAAAAAAAAAAAAAAAAAAAAAAAAAAAAAAAAAAAAAAAAAAAAAAAAAAAAAAAAAAAAAAAAAAAAAAAAAAAAAAAAAAAAAAAAAAAAAAAAAAAAAAAAAAAAAAAAAAAAAAAAAAAAAAAAAAAAAAAAAAAAAAAAAAAAAAAAAAAAAAAAAAAAAAAAAAAAAAAAAAAAAAAAAAAAAAAAAAAAAAAAAAAAAAAAAAAAAAAAAAAAAAAAAAAAAAAAAAAAAAAAAAAAAAAAAAAAAAAAAAAAAAAAAAAAAAAAAAAAAAAAdRDOomukQPwAAAAAAAAAAAAAAAAAAAAAAAAAAAAAAAAAAAAAAAAAAAAAAAAAAAAAAAAAAAAAAAAAAAAAAAAAAAAAAAAAAAAAAAAAAAAAAAAAAAAAAAAAAAAAAAAAAAAAAAAAAAAAAAAAAAAAAAAAAAAAAAAAAAAAAAAAAAAAAAAAAAAAAAAAAAAAAAAAAAAAAAAAAAAAAAAAAAAAAAAAAAAAAAAAAAAAAAAAAAAAAAAAAAAAAAAAAAAAAAAAAAAAAAAAAAAAAAAAAAAAAAAAAAAAAAAAAAAAAAAAAAAAAAAAAAAAAAAAAAAAAAAAAAAAAAAAAAAAAAAAAAAAAAAAAAAAAAAAAAABfeLZSNPhRPwAAAAAAAAAAAAAAAAAAAAAAAAAAAAAAAAAAAAAAAAAAAAAAAAAAAAAAAAAAAAAAAAAAAAAAAAAAAAAAAAAAAAAAAAAAAAAAAAAAAAAAAAAAAAAAAAAAAAAzt1mmzphtP6IDIzowosM/X0xULKsrmT+haqZDANTVPwAAAAAAAAAAAAAAAAAAAAAAAAAAAAAAAAAAAAAAAAAAS4CO0bTlaT+se5CH1EXFP1RRm3sbIH4/8YLW+zSKXD/tUN0O1e2gPwaBlUOLbNc/AAAAAAAAAAAAAAAAAAAAAGtksEYGa9Q/804n73Tyzj8mKpbVlYygP8u+6B+/McU/UfM/aDK30T/SP35jSp7oP27mIJpB1dw/4iJQYTVI5T+AGWr+B03qPw==",
             "dtype": "f8"
            },
            "coloraxis": "coloraxis",
            "size": {
             "bdata": "AAAAAAAAAAAAAAAAAAAAAAAAAAAAAAAAAAAAAAAAAAAAAAAAAAAAAAAAAAAAAAAAAAAAAAAAAAAAAAAAAAAAAAAAAAAAAAAAAAAAAAAAAAAAAAAAAAAAAAAAAAAAAAAAAAAAAAAAAAAAAAAAAAAAAAAAAAAAAAAAAAAAAAAAAAAAAAAAAAAAAAAAAAAAAAAAAAAAAAAAAAAAAAAAAAAAAAAAAAAAAAAAAAAAAAAAAAAAAAAAAAAAAAAAAAAAAAAAAAAAAAAAAAAAAAAAAAAAAAAAAAAAAAAAAAAAAAAAAAAAAAAAAAAAAAAAAAAAAAAAAAAAAAAAAAAAAAAAAAAAAAAAAAAAAAAAAAAAAAAAAAAAAAAAAAAAAAAAAAAAAAAAAAAAAAAAAAAAAAAAAAAAAAAAAAAAAAAAAAAAAAAAAAAAAAAAAAAAAAAAAAAAAAAAAAAAAAAAAAAAAAAAAAAAAAAAAAAAAAAAAAAAAAAAAAAAAAAAAAAAAAAAAAAAAAAAAAAAAAAAAAAAAAAAAAAAAAAAAAAAAAAAAAAAAAAAAAAdRDOomukQPwAAAAAAAAAAAAAAAAAAAAAAAAAAAAAAAAAAAAAAAAAAAAAAAAAAAAAAAAAAAAAAAAAAAAAAAAAAAAAAAAAAAAAAAAAAAAAAAAAAAAAAAAAAAAAAAAAAAAAAAAAAAAAAAAAAAAAAAAAAAAAAAAAAAAAAAAAAAAAAAAAAAAAAAAAAAAAAAAAAAAAAAAAAAAAAAAAAAAAAAAAAAAAAAAAAAAAAAAAAAAAAAAAAAAAAAAAAAAAAAAAAAAAAAAAAAAAAAAAAAAAAAAAAAAAAAAAAAAAAAAAAAAAAAAAAAAAAAAAAAAAAAAAAAAAAAAAAAAAAAAAAAAAAAAAAAAAAAAAAAABfeLZSNPhRPwAAAAAAAAAAAAAAAAAAAAAAAAAAAAAAAAAAAAAAAAAAAAAAAAAAAAAAAAAAAAAAAAAAAAAAAAAAAAAAAAAAAAAAAAAAAAAAAAAAAAAAAAAAAAAAAAAAAAAzt1mmzphtP6IDIzowosM/X0xULKsrmT+haqZDANTVPwAAAAAAAAAAAAAAAAAAAAAAAAAAAAAAAAAAAAAAAAAAS4CO0bTlaT+se5CH1EXFP1RRm3sbIH4/8YLW+zSKXD/tUN0O1e2gPwaBlUOLbNc/AAAAAAAAAAAAAAAAAAAAAGtksEYGa9Q/804n73Tyzj8mKpbVlYygP8u+6B+/McU/UfM/aDK30T/SP35jSp7oP27mIJpB1dw/4iJQYTVI5T+AGWr+B03qPw==",
             "dtype": "f8"
            },
            "sizemode": "area",
            "sizeref": 0.006043951612903227
           },
           "mode": "markers",
           "name": "",
           "showlegend": false,
           "subplot": "map",
           "type": "scattermap"
          }
         ],
         "name": "2023-05"
        },
        {
         "data": [
          {
           "hovertemplate": "month=2023-06<br>HTEURNEIGE_Q=%{marker.color}<br>lat=%{lat}<br>lon=%{lon}<extra></extra>",
           "lat": {
            "bdata": "GNilFLSrRkCtqV0k6bRGQOjesz0evkZAm+q6X1PHRkD/GkaOZ6tGQABCMISctEZAAFKvg9G9RkDuttWLBsdGQG43+PgXq0ZAYvcM1Ey0RkAzxay4gb1GQKMF6qW2xkZATM7WmuvPRkC6Xg2gkKFGQB/o1lTFqkZAO5cOFPqzRkCvGMfcLr1GQMLJEq5jxkZAk7gDh5jPRkA/pKtmzdhGQAj9G0wC4kZAFh4O/dGORkBVnm99BphGQJR3Dgo7oUZA7u39oW+qRkDb9VBEpLNGQEI0GvDYvEZAt/5rpA3GRkCOW1hgQs9GQA0C8SJ32EZAllpH66vhRkACIx2VeY5GQJY+s/etl0ZAyc57ZuKgRkDfD4rgFqpGQGPu8GRLs0ZAUAfD8n+8RkApqBKJtMVGQEHP8SbpzkZAwStyyx3YRkDqHaV1UuFGQC+3mySH6kZA3hrDIR6ORkBDg4dlUpdGQJMcc7WGoEZA6RqZELupRkCoYgx277JGQI+I3+QjvEZA39EkXFjFRkCQNO7ajM5GQHNXTWDB10ZAWZJT6/XgRkCa1fWe72hGQIoROokjckZA8ApKg1d7RkBzLjqMi4RGQEmYHqO/jUZASRQLx/OWRkA2HhP3J6BGQMzhSTJcqUZA+TrCd5CyRkD6tY7GxLtGQIiPwR35xEZABbVsfC3ORkDuQieYjmhGQFMivWHCcUZALd8SO/Z6RkCi3TwjKoRGQGoxTxlejUZA1Z1dHJKWRkD9lXsrxp9GQAM9vEX6qEZAEmYyai6yRkCslPCXYrtGQLb8CM6WxEZAEOke8/ZeRkD75WKKKmhGQBPWRTJecUZAimXc6ZF6RkDX7zqwxYNGQOV/dYT5jEZAMtCfZS2WRkAHS81SYZ9GQIUKEUuVqEZA7dh9TcmxRkAD2jABkF5GQPr+yXXDZ0ZABYT1+vZwRkBkDMiPKnpGQJ7qVTNeg0ZAkyCz5JGMRkCzX/OixZVGQBcJKm35nkZAui1qQi2oRkCgjsYhYbFGQHTOflpZZ0ZAZ4Tuu4xwRkDWQ/gswHlGQAFWsKzzgkZAf7MqOieMRkBuBHvUWpVGQICgtHqOnkZAQo/qK8KnRkAuiC/n9bBGQNbylaspukZAbzBUdR9wRkCIfZDBUnlGQDu8bRyGgkZAndv/hLmLRkArelr67JRGQPXlkHsgnkZAyhy2B1SnRkBjzNydh7BGQP7hSievb0ZAkiy1TeJ4RkC8qbKCFYJGQME+V8VIi0ZAtGfzRRawRkCK8/fRO29GQE7Fi9FueEZA87+BdcVuRkA2vTpN+HdGQA==",
            "dtype": "f8"
           },
           "legendgroup": "",
           "lon": {
            "bdata": "fdMnuEhZE0DmL32SnFwTQNK/OqTyXxNAogWY70pjE0AzeK7LucETQMUBOFowxRNA6VQ7N6nIE0DN9QZlJMwTQPY8B5MoKhRAbH9508EtFEB2EnR5XTEUQPp2XIf7NBRAimCb/5s4FEAaU1yB244UQDZ+OveUkhRA+yYz51CWFED0eb9TD5oUQGbvWz/QnRRA01CIrJOhFEB/vsedWaUUQAi1oBUiqRRAQ1VZZnLvFECNhd5XSfMUQPaUWdUi9xRAgsBT4f76FED8o1l+3f4UQI0/+66+AhVAYP3LdaIGFUBWt2LViAoVQMC8WdBxDhVAKthOaV0SFUB4EihJclcVQH/upKBrWxVAiz3YmmdfFUCxzmE6ZmMVQKzt5IFnZxVAoWgIdGtrFUDtlXYTcm8VQBda3WJ7cxVAtS3uZId3FUBqI14clnsVQPDt5YunfxVA4jrdi2+/FUBga7VGi8MVQO0rAbupxxVA8td268rLFUBNZdDa7s8VQENqy4sV1BVAiSMpAT/YFUBTeq49a9wVQIkKJESa4BVA2ihWF8zkFUD/UhGUjRYWQNnzlIrAGhZA4N02RvYeFkACT7XJLiMWQCwl0hdqJxZALuRSM6grFkDNuwAf6S8WQN2NqN0sNBZAXfQacnM4FkCpRyzfvDwWQLSktCcJQRZATvOPTlhFFkDGxoG8/H0WQEAk7LZRghZAt8XRjKmGFkBw9AZBBIsWQJS2Y9ZhjxZAWtXDT8KTFkBG4wawJZgWQGlCEPqLnBZAwSrHMPWgFkCEsBZXYaUWQJvK7W/QqRZAUJ61//TgFkDQGUgMaeUWQHCiyAfg6RZAIrMd9VnuFkBWmjHX1vIWQEiA8rBW9xZAXm1Shdn7FkCVUEdXXwAXQOwFyynoBBdA+Fzb/3MJF0D6Vp54PEgXQFL1IG3STBdANS/RZmtRF0DFYatoB1YXQEzar3WmWhdAvdzikEhfF0BFqky97WMXQN6H+f2VaBdA8sT5VUFtF0AkwmHI73EXQLbPzMg4tBdA116wvfO4F0AXZw/Rsb0XQBYuAAZzwhdA+wydXzfHF0AZdwTh/ssXQMYAWY3J0BdAKGbBZ5fVF0AlkmhzaNoXQEGlfbM83xdAwbUU9nggGEAnT+IXWSUYQKUMpXE8KhhAzlWNBiMvGEBWyc/ZDDQYQBxEpe75OBhAGOhKSOo9GECDIwLq3UIYQCTFsPn6hxhAibnAJv2MGEAgByWiApIYQP8cJG8LlxhAcwlFFVCrGECRRzuyee8YQAN2S+ed9BhAfj1vCfVWGUBEoSdDO1wZQA==",
            "dtype": "f8"
           },
           "marker": {
            "color": {
             "bdata": "AAAAAAAAAAAAAAAAAAAAAAAAAAAAAAAAAAAAAAAAAAAAAAAAAAAAAAAAAAAAAAAAAAAAAAAAAAAAAAAAAAAAAAAAAAAAAAAAAAAAAAAAAAAAAAAAAAAAAAAAAAAAAAAAAAAAAAAAAAAAAAAAAAAAAAAAAAAAAAAAAAAAAAAAAAAAAAAAAAAAAAAAAAAAAAAAAAAAAAAAAAAAAAAAAAAAAAAAAAAAAAAAAAAAAAAAAAAAAAAAAAAAAAAAAAAAAAAAAAAAAAAAAAAAAAAAAAAAAAAAAAAAAAAAAAAAAAAAAAAAAAAAAAAAAAAAAAAAAAAAAAAAAAAAAAAAAAAAAAAAAAAAAAAAAAAAAAAAAAAAAAAAAAAAAAAAAAAAAAAAAAAAAAAAAAAAAAAAAAAAAAAAAAAAAAAAAAAAAAAAAAAAAAAAAAAAAAAAAAAAAAAAAAAAAAAAAAAAAAAAAAAAAAAAAAAAAAAAAAAAAAAAAAAAAAAAAAAAAAAAAAAAAAAAAAAAAAAAAAAAAAAAAAAAAAAAAAAAAAAAAAAAAAAAAAAAAAAAAAAAAAAAAAAAAAAAAAAAAAAAAAAAAAAAAAAAAAAAAAAAAAAAAAAAAAAAAAAAAAAAAAAAAAAAAAAAAAAAAAAAAAAAAAAAAAAAAAAAAAAAAAAAAAAAAAAAAAAAAAAAAAAAAAAAAAAAAAAAAAAAAAAAAAAAAAAAAAAAAAAAAAAAAAAAAAAAAAAAAAAAAAAAAAAAAAAAAAAAAAAAAAAAAAAAAAAAAAAAAAAAAAAAAAAAAAAAAAAAAAAAAAAAAAAAAAAAAAAAAAAAAAAAAAAAAAAAAAAAAAAAAAAAAAAAAAAAAAAAAAAAAAAAAAAAAAAAAAAAAAAAAAAAAAAAAAAAAAAAAAAAAAAAAAAAAAAAAAAAAAAAAAAAAAAAAAAAAAAAAAAAAAAAAAAAAAAAAAAAAAAAAAAAAAAAAAAAAAAAAAAAAAAAAAAAAAAAAAAAAAAAAAAAAAAAAAAAAAAAAAAAAAAAAAAAAAAAAAAAAAAAAAAAAC1DHOviNmo/AAAAAAAAAABE1cI/f7SCPwAAAAAAAAAAAAAAAAAAAAAAAAAAAAAAAAAAAAAAAAAAAAAAAAAAAAAtQxzr4jYaPwAAAAAAAAAAAAAAAAAAAAAAAAAAAAAAAKXi7MNn2IU/AAAAAAAAAAAAAAAAAAAAAJPOrf2KIoE/gd+Z4+/xbD8egr2c7HkBPx6CvZzseSE/E2HD0ytlaT+Q6k6Kabm2P6nJeexU5pM/OWpyHjuVqT/EjAPCYXy7Pw==",
             "dtype": "f8"
            },
            "coloraxis": "coloraxis",
            "size": {
             "bdata": "AAAAAAAAAAAAAAAAAAAAAAAAAAAAAAAAAAAAAAAAAAAAAAAAAAAAAAAAAAAAAAAAAAAAAAAAAAAAAAAAAAAAAAAAAAAAAAAAAAAAAAAAAAAAAAAAAAAAAAAAAAAAAAAAAAAAAAAAAAAAAAAAAAAAAAAAAAAAAAAAAAAAAAAAAAAAAAAAAAAAAAAAAAAAAAAAAAAAAAAAAAAAAAAAAAAAAAAAAAAAAAAAAAAAAAAAAAAAAAAAAAAAAAAAAAAAAAAAAAAAAAAAAAAAAAAAAAAAAAAAAAAAAAAAAAAAAAAAAAAAAAAAAAAAAAAAAAAAAAAAAAAAAAAAAAAAAAAAAAAAAAAAAAAAAAAAAAAAAAAAAAAAAAAAAAAAAAAAAAAAAAAAAAAAAAAAAAAAAAAAAAAAAAAAAAAAAAAAAAAAAAAAAAAAAAAAAAAAAAAAAAAAAAAAAAAAAAAAAAAAAAAAAAAAAAAAAAAAAAAAAAAAAAAAAAAAAAAAAAAAAAAAAAAAAAAAAAAAAAAAAAAAAAAAAAAAAAAAAAAAAAAAAAAAAAAAAAAAAAAAAAAAAAAAAAAAAAAAAAAAAAAAAAAAAAAAAAAAAAAAAAAAAAAAAAAAAAAAAAAAAAAAAAAAAAAAAAAAAAAAAAAAAAAAAAAAAAAAAAAAAAAAAAAAAAAAAAAAAAAAAAAAAAAAAAAAAAAAAAAAAAAAAAAAAAAAAAAAAAAAAAAAAAAAAAAAAAAAAAAAAAAAAAAAAAAAAAAAAAAAAAAAAAAAAAAAAAAAAAAAAAAAAAAAAAAAAAAAAAAAAAAAAAAAAAAAAAAAAAAAAAAAAAAAAAAAAAAAAAAAAAAAAAAAAAAAAAAAAAAAAAAAAAAAAAAAAAAAAAAAAAAAAAAAAAAAAAAAAAAAAAAAAAAAAAAAAAAAAAAAAAAAAAAAAAAAAAAAAAAAAAAAAAAAAAAAAAAAAAAAAAAAAAAAAAAAAAAAAAAAAAAAAAAAAAAAAAAAAAAAAAAAAAAAAAAAAAAAAAAAAAAAAAAAAAAAAAAAAAAAAAAAAC1DHOviNmo/AAAAAAAAAABE1cI/f7SCPwAAAAAAAAAAAAAAAAAAAAAAAAAAAAAAAAAAAAAAAAAAAAAAAAAAAAAtQxzr4jYaPwAAAAAAAAAAAAAAAAAAAAAAAAAAAAAAAKXi7MNn2IU/AAAAAAAAAAAAAAAAAAAAAJPOrf2KIoE/gd+Z4+/xbD8egr2c7HkBPx6CvZzseSE/E2HD0ytlaT+Q6k6Kabm2P6nJeexU5pM/OWpyHjuVqT/EjAPCYXy7Pw==",
             "dtype": "f8"
            },
            "sizemode": "area",
            "sizeref": 0.006043951612903227
           },
           "mode": "markers",
           "name": "",
           "showlegend": false,
           "subplot": "map",
           "type": "scattermap"
          }
         ],
         "name": "2023-06"
        },
        {
         "data": [
          {
           "hovertemplate": "month=2023-07<br>HTEURNEIGE_Q=%{marker.color}<br>lat=%{lat}<br>lon=%{lon}<extra></extra>",
           "lat": {
            "bdata": "GNilFLSrRkCtqV0k6bRGQOjesz0evkZAm+q6X1PHRkD/GkaOZ6tGQABCMISctEZAAFKvg9G9RkDuttWLBsdGQG43+PgXq0ZAYvcM1Ey0RkAzxay4gb1GQKMF6qW2xkZATM7WmuvPRkC6Xg2gkKFGQB/o1lTFqkZAO5cOFPqzRkCvGMfcLr1GQMLJEq5jxkZAk7gDh5jPRkA/pKtmzdhGQAj9G0wC4kZAFh4O/dGORkBVnm99BphGQJR3Dgo7oUZA7u39oW+qRkDb9VBEpLNGQEI0GvDYvEZAt/5rpA3GRkCOW1hgQs9GQA0C8SJ32EZAllpH66vhRkACIx2VeY5GQJY+s/etl0ZAyc57ZuKgRkDfD4rgFqpGQGPu8GRLs0ZAUAfD8n+8RkApqBKJtMVGQEHP8SbpzkZAwStyyx3YRkDqHaV1UuFGQC+3mySH6kZA3hrDIR6ORkBDg4dlUpdGQJMcc7WGoEZA6RqZELupRkCoYgx277JGQI+I3+QjvEZA39EkXFjFRkCQNO7ajM5GQHNXTWDB10ZAWZJT6/XgRkCa1fWe72hGQIoROokjckZA8ApKg1d7RkBzLjqMi4RGQEmYHqO/jUZASRQLx/OWRkA2HhP3J6BGQMzhSTJcqUZA+TrCd5CyRkD6tY7GxLtGQIiPwR35xEZABbVsfC3ORkDuQieYjmhGQFMivWHCcUZALd8SO/Z6RkCi3TwjKoRGQGoxTxlejUZA1Z1dHJKWRkD9lXsrxp9GQAM9vEX6qEZAEmYyai6yRkCslPCXYrtGQLb8CM6WxEZAEOke8/ZeRkD75WKKKmhGQBPWRTJecUZAimXc6ZF6RkDX7zqwxYNGQOV/dYT5jEZAMtCfZS2WRkAHS81SYZ9GQIUKEUuVqEZA7dh9TcmxRkAD2jABkF5GQPr+yXXDZ0ZABYT1+vZwRkBkDMiPKnpGQJ7qVTNeg0ZAkyCz5JGMRkCzX/OixZVGQBcJKm35nkZAui1qQi2oRkCgjsYhYbFGQHTOflpZZ0ZAZ4Tuu4xwRkDWQ/gswHlGQAFWsKzzgkZAf7MqOieMRkBuBHvUWpVGQICgtHqOnkZAQo/qK8KnRkAuiC/n9bBGQNbylaspukZAbzBUdR9wRkCIfZDBUnlGQDu8bRyGgkZAndv/hLmLRkArelr67JRGQPXlkHsgnkZAyhy2B1SnRkBjzNydh7BGQP7hSievb0ZAkiy1TeJ4RkC8qbKCFYJGQME+V8VIi0ZAtGfzRRawRkCK8/fRO29GQE7Fi9FueEZA87+BdcVuRkA2vTpN+HdGQA==",
            "dtype": "f8"
           },
           "legendgroup": "",
           "lon": {
            "bdata": "fdMnuEhZE0DmL32SnFwTQNK/OqTyXxNAogWY70pjE0AzeK7LucETQMUBOFowxRNA6VQ7N6nIE0DN9QZlJMwTQPY8B5MoKhRAbH9508EtFEB2EnR5XTEUQPp2XIf7NBRAimCb/5s4FEAaU1yB244UQDZ+OveUkhRA+yYz51CWFED0eb9TD5oUQGbvWz/QnRRA01CIrJOhFEB/vsedWaUUQAi1oBUiqRRAQ1VZZnLvFECNhd5XSfMUQPaUWdUi9xRAgsBT4f76FED8o1l+3f4UQI0/+66+AhVAYP3LdaIGFUBWt2LViAoVQMC8WdBxDhVAKthOaV0SFUB4EihJclcVQH/upKBrWxVAiz3YmmdfFUCxzmE6ZmMVQKzt5IFnZxVAoWgIdGtrFUDtlXYTcm8VQBda3WJ7cxVAtS3uZId3FUBqI14clnsVQPDt5YunfxVA4jrdi2+/FUBga7VGi8MVQO0rAbupxxVA8td268rLFUBNZdDa7s8VQENqy4sV1BVAiSMpAT/YFUBTeq49a9wVQIkKJESa4BVA2ihWF8zkFUD/UhGUjRYWQNnzlIrAGhZA4N02RvYeFkACT7XJLiMWQCwl0hdqJxZALuRSM6grFkDNuwAf6S8WQN2NqN0sNBZAXfQacnM4FkCpRyzfvDwWQLSktCcJQRZATvOPTlhFFkDGxoG8/H0WQEAk7LZRghZAt8XRjKmGFkBw9AZBBIsWQJS2Y9ZhjxZAWtXDT8KTFkBG4wawJZgWQGlCEPqLnBZAwSrHMPWgFkCEsBZXYaUWQJvK7W/QqRZAUJ61//TgFkDQGUgMaeUWQHCiyAfg6RZAIrMd9VnuFkBWmjHX1vIWQEiA8rBW9xZAXm1Shdn7FkCVUEdXXwAXQOwFyynoBBdA+Fzb/3MJF0D6Vp54PEgXQFL1IG3STBdANS/RZmtRF0DFYatoB1YXQEzar3WmWhdAvdzikEhfF0BFqky97WMXQN6H+f2VaBdA8sT5VUFtF0AkwmHI73EXQLbPzMg4tBdA116wvfO4F0AXZw/Rsb0XQBYuAAZzwhdA+wydXzfHF0AZdwTh/ssXQMYAWY3J0BdAKGbBZ5fVF0AlkmhzaNoXQEGlfbM83xdAwbUU9nggGEAnT+IXWSUYQKUMpXE8KhhAzlWNBiMvGEBWyc/ZDDQYQBxEpe75OBhAGOhKSOo9GECDIwLq3UIYQCTFsPn6hxhAibnAJv2MGEAgByWiApIYQP8cJG8LlxhAcwlFFVCrGECRRzuyee8YQAN2S+ed9BhAfj1vCfVWGUBEoSdDO1wZQA==",
            "dtype": "f8"
           },
           "marker": {
            "color": {
             "bdata": "AAAAAAAAAAAAAAAAAAAAAAAAAAAAAAAAAAAAAAAAAAAAAAAAAAAAAAAAAAAAAAAAAAAAAAAAAAAAAAAAAAAAAAAAAAAAAAAAAAAAAAAAAAAAAAAAAAAAAAAAAAAAAAAAAAAAAAAAAAAAAAAAAAAAAAAAAAAAAAAAAAAAAAAAAAAAAAAAAAAAAAAAAAAAAAAAAAAAAAAAAAAAAAAAAAAAAAAAAAAAAAAAAAAAAAAAAAAAAAAAAAAAAAAAAAAAAAAAAAAAAAAAAAAAAAAAAAAAAAAAAAAAAAAAAAAAAAAAAAAAAAAAAAAAAAAAAAAAAAAAAAAAAAAAAAAAAAAAAAAAAAAAAAAAAAAAAAAAAAAAAAAAAAAAAAAAAAAAAAAAAAAAAAAAAAAAAAAAAAAAAAAAAAAAAAAAAAAAAAAAAAAAAAAAAAAAAAAAAAAAAAAAAAAAAAAAAAAAAAAAAAAAAAAAAAAAAAAAAAAAAAAAAAAAAAAAAAAAAAAAAAAAAAAAAAAAAAAAAAAAAAAAAAAAAAAAAAAAAAAAAAAAAAAAAAAAAAAAAAAAAAAAAAAAAAAAAAAAAAAAAAAAAAAAAAAAAAAAAAAAAAAAAAAAAAAAAAAAAAAAAAAAAAAAAAAAAAAAAAAAAAAAAAAAAAAAAAAAAAAAAAAAAAAAAAAAAAAAAAAAAAAAAAAAAAAAAAAAAAAAAAAAAAAAAAAAAAAAAAAAAAAAAAAAAAAAAAAAAAAAAAAAAAAAAAAAAAAAAAAAAAAAAAAAAAAAAAAAAAAAAAAAAAAAAAAAAAAAAAAAAAAAAAAAAAAAAAAAAAAAAAAAAAAAAAAAAAAAAAAAAAAAAAAAAAAAAAAAAAAAAAAAAAAAAAAAAAAAAAAAAAAAAAAAAAAAAAAAAAAAAAAAAAAAAAAAAAAAAAAAAAAAAAAAAAAAAAAAAAAAAAAAAAAAAAAAAAAAAAAAAAAAAAAAAAAAAAAAAAAAAAAAAAAAAAAAAAAAAAAAAAAAAAAAAAAAAAAAAAAAAAAAAAAAAAAAAAAAAAAAAAAAAAAAAAAAAAAAAAAAAAAAAAAAAAAAAAAAAAAAAAAAAAAAAAAAAAAAAAAAAAAAAAAAAAAAAAAAAAAAAAAAAAAAAAAAAAAAAAAAAAAAAAAAAAAAAAAAAAAAAAAAAAAAAAAAAAAAAAAAAAAAAAAAAAAAAAAAAAAAAAAAAB1EM6ia6QA/AAAAAAAAAAAAAAAAAAAAAAAAAAAAAAAAAAAAAAAAAAAkFUBSASQlPwAAAAAAAAAAAAAAAAAAAACnfUanNEE3Pw==",
             "dtype": "f8"
            },
            "coloraxis": "coloraxis",
            "size": {
             "bdata": "AAAAAAAAAAAAAAAAAAAAAAAAAAAAAAAAAAAAAAAAAAAAAAAAAAAAAAAAAAAAAAAAAAAAAAAAAAAAAAAAAAAAAAAAAAAAAAAAAAAAAAAAAAAAAAAAAAAAAAAAAAAAAAAAAAAAAAAAAAAAAAAAAAAAAAAAAAAAAAAAAAAAAAAAAAAAAAAAAAAAAAAAAAAAAAAAAAAAAAAAAAAAAAAAAAAAAAAAAAAAAAAAAAAAAAAAAAAAAAAAAAAAAAAAAAAAAAAAAAAAAAAAAAAAAAAAAAAAAAAAAAAAAAAAAAAAAAAAAAAAAAAAAAAAAAAAAAAAAAAAAAAAAAAAAAAAAAAAAAAAAAAAAAAAAAAAAAAAAAAAAAAAAAAAAAAAAAAAAAAAAAAAAAAAAAAAAAAAAAAAAAAAAAAAAAAAAAAAAAAAAAAAAAAAAAAAAAAAAAAAAAAAAAAAAAAAAAAAAAAAAAAAAAAAAAAAAAAAAAAAAAAAAAAAAAAAAAAAAAAAAAAAAAAAAAAAAAAAAAAAAAAAAAAAAAAAAAAAAAAAAAAAAAAAAAAAAAAAAAAAAAAAAAAAAAAAAAAAAAAAAAAAAAAAAAAAAAAAAAAAAAAAAAAAAAAAAAAAAAAAAAAAAAAAAAAAAAAAAAAAAAAAAAAAAAAAAAAAAAAAAAAAAAAAAAAAAAAAAAAAAAAAAAAAAAAAAAAAAAAAAAAAAAAAAAAAAAAAAAAAAAAAAAAAAAAAAAAAAAAAAAAAAAAAAAAAAAAAAAAAAAAAAAAAAAAAAAAAAAAAAAAAAAAAAAAAAAAAAAAAAAAAAAAAAAAAAAAAAAAAAAAAAAAAAAAAAAAAAAAAAAAAAAAAAAAAAAAAAAAAAAAAAAAAAAAAAAAAAAAAAAAAAAAAAAAAAAAAAAAAAAAAAAAAAAAAAAAAAAAAAAAAAAAAAAAAAAAAAAAAAAAAAAAAAAAAAAAAAAAAAAAAAAAAAAAAAAAAAAAAAAAAAAAAAAAAAAAAAAAAAAAAAAAAAAAAAAAAAAAAAAAAAAAAAAAAAAAAAAAAAAAAAAAAAAAAAAAAAAAAAAAAAAAAAAAAAAAAAAAAAAAAAAAAAAAAAAAAAAAAAAAAAAAAAAAAAAAAAAAAAAAAAAAAAAAAAAAAAAAAAAAAAAAAAAAAAAAAAAAAAAAAAAAAAAAAAAAAAAAAAAAAAAAAAAAAAAAAAAAAAAAAAB1EM6ia6QA/AAAAAAAAAAAAAAAAAAAAAAAAAAAAAAAAAAAAAAAAAAAkFUBSASQlPwAAAAAAAAAAAAAAAAAAAACnfUanNEE3Pw==",
             "dtype": "f8"
            },
            "sizemode": "area",
            "sizeref": 0.006043951612903227
           },
           "mode": "markers",
           "name": "",
           "showlegend": false,
           "subplot": "map",
           "type": "scattermap"
          }
         ],
         "name": "2023-07"
        },
        {
         "data": [
          {
           "hovertemplate": "month=2023-08<br>HTEURNEIGE_Q=%{marker.color}<br>lat=%{lat}<br>lon=%{lon}<extra></extra>",
           "lat": {
            "bdata": "GNilFLSrRkCtqV0k6bRGQOjesz0evkZAm+q6X1PHRkD/GkaOZ6tGQABCMISctEZAAFKvg9G9RkDuttWLBsdGQG43+PgXq0ZAYvcM1Ey0RkAzxay4gb1GQKMF6qW2xkZATM7WmuvPRkC6Xg2gkKFGQB/o1lTFqkZAO5cOFPqzRkCvGMfcLr1GQMLJEq5jxkZAk7gDh5jPRkA/pKtmzdhGQAj9G0wC4kZAFh4O/dGORkBVnm99BphGQJR3Dgo7oUZA7u39oW+qRkDb9VBEpLNGQEI0GvDYvEZAt/5rpA3GRkCOW1hgQs9GQA0C8SJ32EZAllpH66vhRkACIx2VeY5GQJY+s/etl0ZAyc57ZuKgRkDfD4rgFqpGQGPu8GRLs0ZAUAfD8n+8RkApqBKJtMVGQEHP8SbpzkZAwStyyx3YRkDqHaV1UuFGQC+3mySH6kZA3hrDIR6ORkBDg4dlUpdGQJMcc7WGoEZA6RqZELupRkCoYgx277JGQI+I3+QjvEZA39EkXFjFRkCQNO7ajM5GQHNXTWDB10ZAWZJT6/XgRkCa1fWe72hGQIoROokjckZA8ApKg1d7RkBzLjqMi4RGQEmYHqO/jUZASRQLx/OWRkA2HhP3J6BGQMzhSTJcqUZA+TrCd5CyRkD6tY7GxLtGQIiPwR35xEZABbVsfC3ORkDuQieYjmhGQFMivWHCcUZALd8SO/Z6RkCi3TwjKoRGQGoxTxlejUZA1Z1dHJKWRkD9lXsrxp9GQAM9vEX6qEZAEmYyai6yRkCslPCXYrtGQLb8CM6WxEZAEOke8/ZeRkD75WKKKmhGQBPWRTJecUZAimXc6ZF6RkDX7zqwxYNGQOV/dYT5jEZAMtCfZS2WRkAHS81SYZ9GQIUKEUuVqEZA7dh9TcmxRkAD2jABkF5GQPr+yXXDZ0ZABYT1+vZwRkBkDMiPKnpGQJ7qVTNeg0ZAkyCz5JGMRkCzX/OixZVGQBcJKm35nkZAui1qQi2oRkCgjsYhYbFGQHTOflpZZ0ZAZ4Tuu4xwRkDWQ/gswHlGQAFWsKzzgkZAf7MqOieMRkBuBHvUWpVGQICgtHqOnkZAQo/qK8KnRkAuiC/n9bBGQNbylaspukZAbzBUdR9wRkCIfZDBUnlGQDu8bRyGgkZAndv/hLmLRkArelr67JRGQPXlkHsgnkZAyhy2B1SnRkBjzNydh7BGQP7hSievb0ZAkiy1TeJ4RkC8qbKCFYJGQME+V8VIi0ZAtGfzRRawRkCK8/fRO29GQE7Fi9FueEZA87+BdcVuRkA2vTpN+HdGQA==",
            "dtype": "f8"
           },
           "legendgroup": "",
           "lon": {
            "bdata": "fdMnuEhZE0DmL32SnFwTQNK/OqTyXxNAogWY70pjE0AzeK7LucETQMUBOFowxRNA6VQ7N6nIE0DN9QZlJMwTQPY8B5MoKhRAbH9508EtFEB2EnR5XTEUQPp2XIf7NBRAimCb/5s4FEAaU1yB244UQDZ+OveUkhRA+yYz51CWFED0eb9TD5oUQGbvWz/QnRRA01CIrJOhFEB/vsedWaUUQAi1oBUiqRRAQ1VZZnLvFECNhd5XSfMUQPaUWdUi9xRAgsBT4f76FED8o1l+3f4UQI0/+66+AhVAYP3LdaIGFUBWt2LViAoVQMC8WdBxDhVAKthOaV0SFUB4EihJclcVQH/upKBrWxVAiz3YmmdfFUCxzmE6ZmMVQKzt5IFnZxVAoWgIdGtrFUDtlXYTcm8VQBda3WJ7cxVAtS3uZId3FUBqI14clnsVQPDt5YunfxVA4jrdi2+/FUBga7VGi8MVQO0rAbupxxVA8td268rLFUBNZdDa7s8VQENqy4sV1BVAiSMpAT/YFUBTeq49a9wVQIkKJESa4BVA2ihWF8zkFUD/UhGUjRYWQNnzlIrAGhZA4N02RvYeFkACT7XJLiMWQCwl0hdqJxZALuRSM6grFkDNuwAf6S8WQN2NqN0sNBZAXfQacnM4FkCpRyzfvDwWQLSktCcJQRZATvOPTlhFFkDGxoG8/H0WQEAk7LZRghZAt8XRjKmGFkBw9AZBBIsWQJS2Y9ZhjxZAWtXDT8KTFkBG4wawJZgWQGlCEPqLnBZAwSrHMPWgFkCEsBZXYaUWQJvK7W/QqRZAUJ61//TgFkDQGUgMaeUWQHCiyAfg6RZAIrMd9VnuFkBWmjHX1vIWQEiA8rBW9xZAXm1Shdn7FkCVUEdXXwAXQOwFyynoBBdA+Fzb/3MJF0D6Vp54PEgXQFL1IG3STBdANS/RZmtRF0DFYatoB1YXQEzar3WmWhdAvdzikEhfF0BFqky97WMXQN6H+f2VaBdA8sT5VUFtF0AkwmHI73EXQLbPzMg4tBdA116wvfO4F0AXZw/Rsb0XQBYuAAZzwhdA+wydXzfHF0AZdwTh/ssXQMYAWY3J0BdAKGbBZ5fVF0AlkmhzaNoXQEGlfbM83xdAwbUU9nggGEAnT+IXWSUYQKUMpXE8KhhAzlWNBiMvGEBWyc/ZDDQYQBxEpe75OBhAGOhKSOo9GECDIwLq3UIYQCTFsPn6hxhAibnAJv2MGEAgByWiApIYQP8cJG8LlxhAcwlFFVCrGECRRzuyee8YQAN2S+ed9BhAfj1vCfVWGUBEoSdDO1wZQA==",
            "dtype": "f8"
           },
           "marker": {
            "color": {
             "bdata": "AAAAAAAAAAAAAAAAAAAAAAAAAAAAAAAAAAAAAAAAAAAAAAAAAAAAAAAAAAAAAAAAAAAAAAAAAAAAAAAAAAAAAAAAAAAAAAAAAAAAAAAAAAAAAAAAAAAAAAAAAAAAAAAAAAAAAAAAAAAAAAAAAAAAAAAAAAAAAAAAAAAAAAAAAAAAAAAAAAAAAAAAAAAAAAAAAAAAAAAAAAAAAAAAAAAAAAAAAAAAAAAAAAAAAAAAAAAAAAAAAAAAAAAAAAAAAAAAAAAAAAAAAAAAAAAAAAAAAAAAAAAAAAAAAAAAAAAAAAAAAAAAAAAAAAAAAAAAAAAAAAAAAAAAAAAAAAAAAAAAAAAAAAAAAAAAAAAAAAAAAAAAAAAAAAAAAAAAAAAAAAAAAAAAAAAAAAAAAAAAAAAAAAAAAAAAAAAAAAAAAAAAAAAAAAAAAAAAAAAAAAAAAAAAAAAAAAAAAAAAAAAAAAAAAAAAAAAAAAAAAAAAAAAAAAAAAAAAAAAAAAAAAAAAAAAAAAAAAAAAAAAAAAAAAAAAAAAAAAAAAAAAAAAAAAAAAAAAAAAAAAAAAAAAAAAAAAAAAAAAAAAAAAAAAAAAAAAAAAAAAAAAAAAAAAAAAAAAAAAAAAAAAAAAAAAAAAAAAAAAAAAAAAAAAAAAAAAAAAAAAAAAAAAAAAAAAAAAAAAAAAAAAAAAAAAAAAAAAAAAAAAAAAAAAAAAAAAAAAAAAAAAAAAAAAAAAAAAAAAAAAAAAAAAAAAAAAAAAAAAAAAAAAAAAAAAAAAAAAAAAAAAAAAAAAAAAAAAAAAAAAAAAAAAAAAAAAAAAAAAAAAAAAAAAAAAAAAAAAAAAAAAAAAAAAAAAAAAAAAAAAAAAAAAAAAAAAAAAAAAAAAAAAAAAAAAAAAAAAAAAAAAAAAAAAAAAAAAAAAAAAAAAAAAAAAAAAAAAAAAAAAAAAAAAAAAAAAAAAAAAAAAAAAAAAAAAAAAAAAAAAAAAAAAAAAAAAAAAAAAAAAAAAAAAAAAAAAAAAAAAAAAAAAAAAAAAAAAAAAAAAAAAAAAAAAAAAAAAAAAAAAAAAAdRDOomukgPwAAAAAAAAAAAAAAAAAAAAAAAAAAAAAAAAAAAAAAAAAAAAAAAAAAAAAdRDOomulAPwAAAAAAAAAAAAAAAAAAAAAAAAAAAAAAAB1EM6ia6RA/AAAAAAAAAAAAAAAAAAAAAOLgvKdnFVQ/oaw5/c0GMz8AAAAAAAAAAB1EM6ia6UA/HUQzqJrpAD8tEdQSQS1hPyvmTPxnXkk/kd+YkifDYj9LgI7RtOVpPw==",
             "dtype": "f8"
            },
            "coloraxis": "coloraxis",
            "size": {
             "bdata": "AAAAAAAAAAAAAAAAAAAAAAAAAAAAAAAAAAAAAAAAAAAAAAAAAAAAAAAAAAAAAAAAAAAAAAAAAAAAAAAAAAAAAAAAAAAAAAAAAAAAAAAAAAAAAAAAAAAAAAAAAAAAAAAAAAAAAAAAAAAAAAAAAAAAAAAAAAAAAAAAAAAAAAAAAAAAAAAAAAAAAAAAAAAAAAAAAAAAAAAAAAAAAAAAAAAAAAAAAAAAAAAAAAAAAAAAAAAAAAAAAAAAAAAAAAAAAAAAAAAAAAAAAAAAAAAAAAAAAAAAAAAAAAAAAAAAAAAAAAAAAAAAAAAAAAAAAAAAAAAAAAAAAAAAAAAAAAAAAAAAAAAAAAAAAAAAAAAAAAAAAAAAAAAAAAAAAAAAAAAAAAAAAAAAAAAAAAAAAAAAAAAAAAAAAAAAAAAAAAAAAAAAAAAAAAAAAAAAAAAAAAAAAAAAAAAAAAAAAAAAAAAAAAAAAAAAAAAAAAAAAAAAAAAAAAAAAAAAAAAAAAAAAAAAAAAAAAAAAAAAAAAAAAAAAAAAAAAAAAAAAAAAAAAAAAAAAAAAAAAAAAAAAAAAAAAAAAAAAAAAAAAAAAAAAAAAAAAAAAAAAAAAAAAAAAAAAAAAAAAAAAAAAAAAAAAAAAAAAAAAAAAAAAAAAAAAAAAAAAAAAAAAAAAAAAAAAAAAAAAAAAAAAAAAAAAAAAAAAAAAAAAAAAAAAAAAAAAAAAAAAAAAAAAAAAAAAAAAAAAAAAAAAAAAAAAAAAAAAAAAAAAAAAAAAAAAAAAAAAAAAAAAAAAAAAAAAAAAAAAAAAAAAAAAAAAAAAAAAAAAAAAAAAAAAAAAAAAAAAAAAAAAAAAAAAAAAAAAAAAAAAAAAAAAAAAAAAAAAAAAAAAAAAAAAAAAAAAAAAAAAAAAAAAAAAAAAAAAAAAAAAAAAAAAAAAAAAAAAAAAAAAAAAAAAAAAAAAAAAAAAAAAAAAAAAAAAAAAAAAAAAAAAAAAAAAAAAAAAAAAAAAAAAAAAAAAAAAAAAAAAAAAAAAAAAAAAAAAAAAAAAAAAAAAAAAAAAAAAAAAAAAAAAAdRDOomukgPwAAAAAAAAAAAAAAAAAAAAAAAAAAAAAAAAAAAAAAAAAAAAAAAAAAAAAdRDOomulAPwAAAAAAAAAAAAAAAAAAAAAAAAAAAAAAAB1EM6ia6RA/AAAAAAAAAAAAAAAAAAAAAOLgvKdnFVQ/oaw5/c0GMz8AAAAAAAAAAB1EM6ia6UA/HUQzqJrpAD8tEdQSQS1hPyvmTPxnXkk/kd+YkifDYj9LgI7RtOVpPw==",
             "dtype": "f8"
            },
            "sizemode": "area",
            "sizeref": 0.006043951612903227
           },
           "mode": "markers",
           "name": "",
           "showlegend": false,
           "subplot": "map",
           "type": "scattermap"
          }
         ],
         "name": "2023-08"
        },
        {
         "data": [
          {
           "hovertemplate": "month=2023-09<br>HTEURNEIGE_Q=%{marker.color}<br>lat=%{lat}<br>lon=%{lon}<extra></extra>",
           "lat": {
            "bdata": "GNilFLSrRkCtqV0k6bRGQOjesz0evkZAm+q6X1PHRkD/GkaOZ6tGQABCMISctEZAAFKvg9G9RkDuttWLBsdGQG43+PgXq0ZAYvcM1Ey0RkAzxay4gb1GQKMF6qW2xkZATM7WmuvPRkC6Xg2gkKFGQB/o1lTFqkZAO5cOFPqzRkCvGMfcLr1GQMLJEq5jxkZAk7gDh5jPRkA/pKtmzdhGQAj9G0wC4kZAFh4O/dGORkBVnm99BphGQJR3Dgo7oUZA7u39oW+qRkDb9VBEpLNGQEI0GvDYvEZAt/5rpA3GRkCOW1hgQs9GQA0C8SJ32EZAllpH66vhRkACIx2VeY5GQJY+s/etl0ZAyc57ZuKgRkDfD4rgFqpGQGPu8GRLs0ZAUAfD8n+8RkApqBKJtMVGQEHP8SbpzkZAwStyyx3YRkDqHaV1UuFGQC+3mySH6kZA3hrDIR6ORkBDg4dlUpdGQJMcc7WGoEZA6RqZELupRkCoYgx277JGQI+I3+QjvEZA39EkXFjFRkCQNO7ajM5GQHNXTWDB10ZAWZJT6/XgRkCa1fWe72hGQIoROokjckZA8ApKg1d7RkBzLjqMi4RGQEmYHqO/jUZASRQLx/OWRkA2HhP3J6BGQMzhSTJcqUZA+TrCd5CyRkD6tY7GxLtGQIiPwR35xEZABbVsfC3ORkDuQieYjmhGQFMivWHCcUZALd8SO/Z6RkCi3TwjKoRGQGoxTxlejUZA1Z1dHJKWRkD9lXsrxp9GQAM9vEX6qEZAEmYyai6yRkCslPCXYrtGQLb8CM6WxEZAEOke8/ZeRkD75WKKKmhGQBPWRTJecUZAimXc6ZF6RkDX7zqwxYNGQOV/dYT5jEZAMtCfZS2WRkAHS81SYZ9GQIUKEUuVqEZA7dh9TcmxRkAD2jABkF5GQPr+yXXDZ0ZABYT1+vZwRkBkDMiPKnpGQJ7qVTNeg0ZAkyCz5JGMRkCzX/OixZVGQBcJKm35nkZAui1qQi2oRkCgjsYhYbFGQHTOflpZZ0ZAZ4Tuu4xwRkDWQ/gswHlGQAFWsKzzgkZAf7MqOieMRkBuBHvUWpVGQICgtHqOnkZAQo/qK8KnRkAuiC/n9bBGQNbylaspukZAbzBUdR9wRkCIfZDBUnlGQDu8bRyGgkZAndv/hLmLRkArelr67JRGQPXlkHsgnkZAyhy2B1SnRkBjzNydh7BGQP7hSievb0ZAkiy1TeJ4RkC8qbKCFYJGQME+V8VIi0ZAtGfzRRawRkCK8/fRO29GQE7Fi9FueEZA87+BdcVuRkA2vTpN+HdGQA==",
            "dtype": "f8"
           },
           "legendgroup": "",
           "lon": {
            "bdata": "fdMnuEhZE0DmL32SnFwTQNK/OqTyXxNAogWY70pjE0AzeK7LucETQMUBOFowxRNA6VQ7N6nIE0DN9QZlJMwTQPY8B5MoKhRAbH9508EtFEB2EnR5XTEUQPp2XIf7NBRAimCb/5s4FEAaU1yB244UQDZ+OveUkhRA+yYz51CWFED0eb9TD5oUQGbvWz/QnRRA01CIrJOhFEB/vsedWaUUQAi1oBUiqRRAQ1VZZnLvFECNhd5XSfMUQPaUWdUi9xRAgsBT4f76FED8o1l+3f4UQI0/+66+AhVAYP3LdaIGFUBWt2LViAoVQMC8WdBxDhVAKthOaV0SFUB4EihJclcVQH/upKBrWxVAiz3YmmdfFUCxzmE6ZmMVQKzt5IFnZxVAoWgIdGtrFUDtlXYTcm8VQBda3WJ7cxVAtS3uZId3FUBqI14clnsVQPDt5YunfxVA4jrdi2+/FUBga7VGi8MVQO0rAbupxxVA8td268rLFUBNZdDa7s8VQENqy4sV1BVAiSMpAT/YFUBTeq49a9wVQIkKJESa4BVA2ihWF8zkFUD/UhGUjRYWQNnzlIrAGhZA4N02RvYeFkACT7XJLiMWQCwl0hdqJxZALuRSM6grFkDNuwAf6S8WQN2NqN0sNBZAXfQacnM4FkCpRyzfvDwWQLSktCcJQRZATvOPTlhFFkDGxoG8/H0WQEAk7LZRghZAt8XRjKmGFkBw9AZBBIsWQJS2Y9ZhjxZAWtXDT8KTFkBG4wawJZgWQGlCEPqLnBZAwSrHMPWgFkCEsBZXYaUWQJvK7W/QqRZAUJ61//TgFkDQGUgMaeUWQHCiyAfg6RZAIrMd9VnuFkBWmjHX1vIWQEiA8rBW9xZAXm1Shdn7FkCVUEdXXwAXQOwFyynoBBdA+Fzb/3MJF0D6Vp54PEgXQFL1IG3STBdANS/RZmtRF0DFYatoB1YXQEzar3WmWhdAvdzikEhfF0BFqky97WMXQN6H+f2VaBdA8sT5VUFtF0AkwmHI73EXQLbPzMg4tBdA116wvfO4F0AXZw/Rsb0XQBYuAAZzwhdA+wydXzfHF0AZdwTh/ssXQMYAWY3J0BdAKGbBZ5fVF0AlkmhzaNoXQEGlfbM83xdAwbUU9nggGEAnT+IXWSUYQKUMpXE8KhhAzlWNBiMvGEBWyc/ZDDQYQBxEpe75OBhAGOhKSOo9GECDIwLq3UIYQCTFsPn6hxhAibnAJv2MGEAgByWiApIYQP8cJG8LlxhAcwlFFVCrGECRRzuyee8YQAN2S+ed9BhAfj1vCfVWGUBEoSdDO1wZQA==",
            "dtype": "f8"
           },
           "marker": {
            "color": {
             "bdata": "AAAAAAAAAAAAAAAAAAAAAAAAAAAAAAAAAAAAAAAAAAAAAAAAAAAAAAAAAAAAAAAAAAAAAAAAAAAAAAAAAAAAAAAAAAAAAAAAAAAAAAAAAAAAAAAAAAAAAAAAAAAAAAAAAAAAAAAAAAAAAAAAAAAAAAAAAAAAAAAAAAAAAAAAAAAAAAAAAAAAAAAAAAAAAAAAAAAAAAAAAAAAAAAAAAAAAAAAAAAAAAAAAAAAAAAAAAAAAAAAAAAAAAAAAAAAAAAAAAAAAAAAAAAAAAAAAAAAAAAAAAAAAAAAAAAAAAAAAAAAAAAAAAAAAAAAAAAAAAAAAAAAAAAAAAAAAAAAAAAAAAAAAAAAAAAAAAAAAAAAAAAAAAAAAAAAAAAAAAAAAAAAAAAAAAAAAAAAAAAAAAAAAAAAAAAAAAAAAAAAAAAAAAAAAAAAAAAAAAAAAAAAAAAAAAAAAAAAAAAAAAAAAAAAAAAAAAAAAAAAAAAAAAAAAAAAAAAAAAAAAAAAAAAAAAAAAAAAAAAAAAAAAAAAAAAAAAAAAAAAAAAAAAAAAAAAAAAAAAAAAAAAAAAAAAAAAAAAAAAAAAAAAAAAAAAAAAAAAAAAAAAAAAAAAAAAAAAAAAAAAAAAAAAAAAAAAAAAAAAAAAAAAAAAAAAAAAAAAAAAAAAAAAAAAAAAAAAAAAAAAAAAAAAAAAAAAAAAAAAAAAAAAAAAAAAAAAAAAAAAAAAAAAAAAAAAAAAAAAAAAAAAAAAAAAAAAAAAAAAAAAAAAAAAAAAAAAAAAAAAAAAAAAAAAAAAAAAAAAAAAAAAAAAAAAAAAAAAAAAAAAAAAAAAAAAAAAAAAAAAAAAAAAAAAAAAAAAAAAAAAAAAAAAAAAAAAAAAAAAAAAAAAAAAAAAAAAAAAAAAAAAAAAAAAAAAAAAAAAAAAAAAAAAAAAAAAAAAAAAAAAAAAAAAAAAAAAAAAAAAAAAAAAAAAAAAAAAAAAAAAAAAAAAAAAAAAAAAAAAAAAAAAAAAAAAAAAAAAAAAAAAAAAAAAAAAAAAAAAAAAAAAAC1DHOviNho/AAAAAAAAAABiMlUwKqkzPwAAAAAAAAAAAAAAAAAAAAAAAAAAAAAAAAAAAAAAAAAAAAAAAAAAAAAegr2c7HkRPwAAAAAAAAAAAAAAAAAAAAAAAAAAAAAAAGIyVTAqqTM/AAAAAAAAAAAAAAAAAAAAAC1DHOviNio/LUMc6+I2Gj8AAAAAAAAAAB6CvZzseRE/peLsw2fYJT8Cdd1uXNloP/yp8dJNYkA/+n5qvHSTaD+MAJSssAZ1Pw==",
             "dtype": "f8"
            },
            "coloraxis": "coloraxis",
            "size": {
             "bdata": "AAAAAAAAAAAAAAAAAAAAAAAAAAAAAAAAAAAAAAAAAAAAAAAAAAAAAAAAAAAAAAAAAAAAAAAAAAAAAAAAAAAAAAAAAAAAAAAAAAAAAAAAAAAAAAAAAAAAAAAAAAAAAAAAAAAAAAAAAAAAAAAAAAAAAAAAAAAAAAAAAAAAAAAAAAAAAAAAAAAAAAAAAAAAAAAAAAAAAAAAAAAAAAAAAAAAAAAAAAAAAAAAAAAAAAAAAAAAAAAAAAAAAAAAAAAAAAAAAAAAAAAAAAAAAAAAAAAAAAAAAAAAAAAAAAAAAAAAAAAAAAAAAAAAAAAAAAAAAAAAAAAAAAAAAAAAAAAAAAAAAAAAAAAAAAAAAAAAAAAAAAAAAAAAAAAAAAAAAAAAAAAAAAAAAAAAAAAAAAAAAAAAAAAAAAAAAAAAAAAAAAAAAAAAAAAAAAAAAAAAAAAAAAAAAAAAAAAAAAAAAAAAAAAAAAAAAAAAAAAAAAAAAAAAAAAAAAAAAAAAAAAAAAAAAAAAAAAAAAAAAAAAAAAAAAAAAAAAAAAAAAAAAAAAAAAAAAAAAAAAAAAAAAAAAAAAAAAAAAAAAAAAAAAAAAAAAAAAAAAAAAAAAAAAAAAAAAAAAAAAAAAAAAAAAAAAAAAAAAAAAAAAAAAAAAAAAAAAAAAAAAAAAAAAAAAAAAAAAAAAAAAAAAAAAAAAAAAAAAAAAAAAAAAAAAAAAAAAAAAAAAAAAAAAAAAAAAAAAAAAAAAAAAAAAAAAAAAAAAAAAAAAAAAAAAAAAAAAAAAAAAAAAAAAAAAAAAAAAAAAAAAAAAAAAAAAAAAAAAAAAAAAAAAAAAAAAAAAAAAAAAAAAAAAAAAAAAAAAAAAAAAAAAAAAAAAAAAAAAAAAAAAAAAAAAAAAAAAAAAAAAAAAAAAAAAAAAAAAAAAAAAAAAAAAAAAAAAAAAAAAAAAAAAAAAAAAAAAAAAAAAAAAAAAAAAAAAAAAAAAAAAAAAAAAAAAAAAAAAAAAAAAAAAAAAAAAAAAAAAAAAAAAAAAAAAAAAAAAAAAAAAAAC1DHOviNho/AAAAAAAAAABiMlUwKqkzPwAAAAAAAAAAAAAAAAAAAAAAAAAAAAAAAAAAAAAAAAAAAAAAAAAAAAAegr2c7HkRPwAAAAAAAAAAAAAAAAAAAAAAAAAAAAAAAGIyVTAqqTM/AAAAAAAAAAAAAAAAAAAAAC1DHOviNio/LUMc6+I2Gj8AAAAAAAAAAB6CvZzseRE/peLsw2fYJT8Cdd1uXNloP/yp8dJNYkA/+n5qvHSTaD+MAJSssAZ1Pw==",
             "dtype": "f8"
            },
            "sizemode": "area",
            "sizeref": 0.006043951612903227
           },
           "mode": "markers",
           "name": "",
           "showlegend": false,
           "subplot": "map",
           "type": "scattermap"
          }
         ],
         "name": "2023-09"
        },
        {
         "data": [
          {
           "hovertemplate": "month=2023-10<br>HTEURNEIGE_Q=%{marker.color}<br>lat=%{lat}<br>lon=%{lon}<extra></extra>",
           "lat": {
            "bdata": "GNilFLSrRkCtqV0k6bRGQOjesz0evkZAm+q6X1PHRkD/GkaOZ6tGQABCMISctEZAAFKvg9G9RkDuttWLBsdGQG43+PgXq0ZAYvcM1Ey0RkAzxay4gb1GQKMF6qW2xkZATM7WmuvPRkC6Xg2gkKFGQB/o1lTFqkZAO5cOFPqzRkCvGMfcLr1GQMLJEq5jxkZAk7gDh5jPRkA/pKtmzdhGQAj9G0wC4kZAFh4O/dGORkBVnm99BphGQJR3Dgo7oUZA7u39oW+qRkDb9VBEpLNGQEI0GvDYvEZAt/5rpA3GRkCOW1hgQs9GQA0C8SJ32EZAllpH66vhRkACIx2VeY5GQJY+s/etl0ZAyc57ZuKgRkDfD4rgFqpGQGPu8GRLs0ZAUAfD8n+8RkApqBKJtMVGQEHP8SbpzkZAwStyyx3YRkDqHaV1UuFGQC+3mySH6kZA3hrDIR6ORkBDg4dlUpdGQJMcc7WGoEZA6RqZELupRkCoYgx277JGQI+I3+QjvEZA39EkXFjFRkCQNO7ajM5GQHNXTWDB10ZAWZJT6/XgRkCa1fWe72hGQIoROokjckZA8ApKg1d7RkBzLjqMi4RGQEmYHqO/jUZASRQLx/OWRkA2HhP3J6BGQMzhSTJcqUZA+TrCd5CyRkD6tY7GxLtGQIiPwR35xEZABbVsfC3ORkDuQieYjmhGQFMivWHCcUZALd8SO/Z6RkCi3TwjKoRGQGoxTxlejUZA1Z1dHJKWRkD9lXsrxp9GQAM9vEX6qEZAEmYyai6yRkCslPCXYrtGQLb8CM6WxEZAEOke8/ZeRkD75WKKKmhGQBPWRTJecUZAimXc6ZF6RkDX7zqwxYNGQOV/dYT5jEZAMtCfZS2WRkAHS81SYZ9GQIUKEUuVqEZA7dh9TcmxRkAD2jABkF5GQPr+yXXDZ0ZABYT1+vZwRkBkDMiPKnpGQJ7qVTNeg0ZAkyCz5JGMRkCzX/OixZVGQBcJKm35nkZAui1qQi2oRkCgjsYhYbFGQHTOflpZZ0ZAZ4Tuu4xwRkDWQ/gswHlGQAFWsKzzgkZAf7MqOieMRkBuBHvUWpVGQICgtHqOnkZAQo/qK8KnRkAuiC/n9bBGQNbylaspukZAbzBUdR9wRkCIfZDBUnlGQDu8bRyGgkZAndv/hLmLRkArelr67JRGQPXlkHsgnkZAyhy2B1SnRkBjzNydh7BGQP7hSievb0ZAkiy1TeJ4RkC8qbKCFYJGQME+V8VIi0ZAtGfzRRawRkCK8/fRO29GQE7Fi9FueEZA87+BdcVuRkA2vTpN+HdGQA==",
            "dtype": "f8"
           },
           "legendgroup": "",
           "lon": {
            "bdata": "fdMnuEhZE0DmL32SnFwTQNK/OqTyXxNAogWY70pjE0AzeK7LucETQMUBOFowxRNA6VQ7N6nIE0DN9QZlJMwTQPY8B5MoKhRAbH9508EtFEB2EnR5XTEUQPp2XIf7NBRAimCb/5s4FEAaU1yB244UQDZ+OveUkhRA+yYz51CWFED0eb9TD5oUQGbvWz/QnRRA01CIrJOhFEB/vsedWaUUQAi1oBUiqRRAQ1VZZnLvFECNhd5XSfMUQPaUWdUi9xRAgsBT4f76FED8o1l+3f4UQI0/+66+AhVAYP3LdaIGFUBWt2LViAoVQMC8WdBxDhVAKthOaV0SFUB4EihJclcVQH/upKBrWxVAiz3YmmdfFUCxzmE6ZmMVQKzt5IFnZxVAoWgIdGtrFUDtlXYTcm8VQBda3WJ7cxVAtS3uZId3FUBqI14clnsVQPDt5YunfxVA4jrdi2+/FUBga7VGi8MVQO0rAbupxxVA8td268rLFUBNZdDa7s8VQENqy4sV1BVAiSMpAT/YFUBTeq49a9wVQIkKJESa4BVA2ihWF8zkFUD/UhGUjRYWQNnzlIrAGhZA4N02RvYeFkACT7XJLiMWQCwl0hdqJxZALuRSM6grFkDNuwAf6S8WQN2NqN0sNBZAXfQacnM4FkCpRyzfvDwWQLSktCcJQRZATvOPTlhFFkDGxoG8/H0WQEAk7LZRghZAt8XRjKmGFkBw9AZBBIsWQJS2Y9ZhjxZAWtXDT8KTFkBG4wawJZgWQGlCEPqLnBZAwSrHMPWgFkCEsBZXYaUWQJvK7W/QqRZAUJ61//TgFkDQGUgMaeUWQHCiyAfg6RZAIrMd9VnuFkBWmjHX1vIWQEiA8rBW9xZAXm1Shdn7FkCVUEdXXwAXQOwFyynoBBdA+Fzb/3MJF0D6Vp54PEgXQFL1IG3STBdANS/RZmtRF0DFYatoB1YXQEzar3WmWhdAvdzikEhfF0BFqky97WMXQN6H+f2VaBdA8sT5VUFtF0AkwmHI73EXQLbPzMg4tBdA116wvfO4F0AXZw/Rsb0XQBYuAAZzwhdA+wydXzfHF0AZdwTh/ssXQMYAWY3J0BdAKGbBZ5fVF0AlkmhzaNoXQEGlfbM83xdAwbUU9nggGEAnT+IXWSUYQKUMpXE8KhhAzlWNBiMvGEBWyc/ZDDQYQBxEpe75OBhAGOhKSOo9GECDIwLq3UIYQCTFsPn6hxhAibnAJv2MGEAgByWiApIYQP8cJG8LlxhAcwlFFVCrGECRRzuyee8YQAN2S+ed9BhAfj1vCfVWGUBEoSdDO1wZQA==",
            "dtype": "f8"
           },
           "marker": {
            "color": {
             "bdata": "AAAAAAAAAAAAAAAAAAAAAAAAAAAAAAAAAAAAAAAAAAAAAAAAAAAAAAAAAAAAAAAAAAAAAAAAAAAAAAAAAAAAAAAAAAAAAAAAAAAAAAAAAAAAAAAAAAAAAAAAAAAAAAAAAAAAAAAAAAAAAAAAAAAAAAAAAAAAAAAAAAAAAAAAAAAAAAAAAAAAAAAAAAAAAAAAAAAAAAAAAAAAAAAAAAAAAAAAAAAAAAAAAAAAAAAAAAAAAAAAAAAAAAAAAAAAAAAAAAAAAAAAAAAAAAAAAAAAAAAAAAAAAAAAAAAAAAAAAAAAAAAAAAAAAAAAAAAAAAAAAAAAAAAAAAAAAAAAAAAAAAAAAAAAAAAAAAAAAAAAAAAAAAAAAAAAAAAAAAAAAAAAAAAAAAAAAAAAAAAAAAAAAAAAAAAAAAAAAAAAAAAAAAAAAAAAAAAAAAAAAAAAAAAAAAAAAAAAAAAAAAAAAAAAAAAAAAAAAAAAAAAAAAAAAAAAAAAAAAAAAAAAAAAAAAAAAAAAAAAAAAAAAAAAAAAAAAAAAAAAAAAAAAAAAAAAAAAAAAAAAAAAAAAAAAAAAAAAAAAAAAAAAAAAAAAAAAAAAAAAAAAAAAAAAAAAAAAAAAAAAAAAAAAAAAAAAAAAAAAAAAAAAAAAAAAAAAAAAAAAAAAAAAAAAAAAAAAAAAAAAAAAAAAAAAAAAAAAAAAAAAAAAAAAAAAAAAAAAAAAAAAAAAAAAAAAAAAAAAAAAAAAAAAAAAAAAAAAAAAAAAAAAAAAAAAAAAAAAAAAAAAAAAAAAAAAAAAAAAAAAAAAAAAAAAAAAAAAAAAAAAAAAAAAAAAAAAAAAAAAAAAAAAAAAAAAAAAAAAAAAAAAAAAAAAAAAAAAAAAAAAAAAAAAAAAAAAAAAAAAAAAAAAAkFUBSASQ1PwAAAAAAAAAAAAAAAAAAAAAAAAAAAAAAAB1EM6ia6QA/AAAAAAAAAAAAAAAAAAAAAAAAAAAAAAAAAAAAAAAAAAAAAAAAAAAAAAAAAAAAAAAAHUQzqJrpED+G4wTS57lWP8FGe9IajmM/rk5TUZt7Sz8GTsFGe9J6PwAAAAAAAAAAAAAAAAAAAAAAAAAAAAAAAAAAAAAAAAAAth9g+wG2Xz/PFPdMcc+UPwN7/ny0nFQ/K+ZM/GdeGT+nfUanNEFHP2tHDd06N3Q/AAAAAAAAAAAAAAAAAAAAAHsUrkfheqQ/oZYIaomglj8USJ/nWuBkPw5ghpr/QZM/kd+YkifDcj+KkddLrPC3P8gXiHyByKc/XU0vPFspuj+7B3lIXVTBPw==",
             "dtype": "f8"
            },
            "coloraxis": "coloraxis",
            "size": {
             "bdata": "AAAAAAAAAAAAAAAAAAAAAAAAAAAAAAAAAAAAAAAAAAAAAAAAAAAAAAAAAAAAAAAAAAAAAAAAAAAAAAAAAAAAAAAAAAAAAAAAAAAAAAAAAAAAAAAAAAAAAAAAAAAAAAAAAAAAAAAAAAAAAAAAAAAAAAAAAAAAAAAAAAAAAAAAAAAAAAAAAAAAAAAAAAAAAAAAAAAAAAAAAAAAAAAAAAAAAAAAAAAAAAAAAAAAAAAAAAAAAAAAAAAAAAAAAAAAAAAAAAAAAAAAAAAAAAAAAAAAAAAAAAAAAAAAAAAAAAAAAAAAAAAAAAAAAAAAAAAAAAAAAAAAAAAAAAAAAAAAAAAAAAAAAAAAAAAAAAAAAAAAAAAAAAAAAAAAAAAAAAAAAAAAAAAAAAAAAAAAAAAAAAAAAAAAAAAAAAAAAAAAAAAAAAAAAAAAAAAAAAAAAAAAAAAAAAAAAAAAAAAAAAAAAAAAAAAAAAAAAAAAAAAAAAAAAAAAAAAAAAAAAAAAAAAAAAAAAAAAAAAAAAAAAAAAAAAAAAAAAAAAAAAAAAAAAAAAAAAAAAAAAAAAAAAAAAAAAAAAAAAAAAAAAAAAAAAAAAAAAAAAAAAAAAAAAAAAAAAAAAAAAAAAAAAAAAAAAAAAAAAAAAAAAAAAAAAAAAAAAAAAAAAAAAAAAAAAAAAAAAAAAAAAAAAAAAAAAAAAAAAAAAAAAAAAAAAAAAAAAAAAAAAAAAAAAAAAAAAAAAAAAAAAAAAAAAAAAAAAAAAAAAAAAAAAAAAAAAAAAAAAAAAAAAAAAAAAAAAAAAAAAAAAAAAAAAAAAAAAAAAAAAAAAAAAAAAAAAAAAAAAAAAAAAAAAAAAAAAAAAAAAAAAAAAAAAAAAAAAAAAAAAAAAAAAAAAAAAAAAAAAAAAAAAAkFUBSASQ1PwAAAAAAAAAAAAAAAAAAAAAAAAAAAAAAAB1EM6ia6QA/AAAAAAAAAAAAAAAAAAAAAAAAAAAAAAAAAAAAAAAAAAAAAAAAAAAAAAAAAAAAAAAAHUQzqJrpED+G4wTS57lWP8FGe9IajmM/rk5TUZt7Sz8GTsFGe9J6PwAAAAAAAAAAAAAAAAAAAAAAAAAAAAAAAAAAAAAAAAAAth9g+wG2Xz/PFPdMcc+UPwN7/ny0nFQ/K+ZM/GdeGT+nfUanNEFHP2tHDd06N3Q/AAAAAAAAAAAAAAAAAAAAAHsUrkfheqQ/oZYIaomglj8USJ/nWuBkPw5ghpr/QZM/kd+YkifDcj+KkddLrPC3P8gXiHyByKc/XU0vPFspuj+7B3lIXVTBPw==",
             "dtype": "f8"
            },
            "sizemode": "area",
            "sizeref": 0.006043951612903227
           },
           "mode": "markers",
           "name": "",
           "showlegend": false,
           "subplot": "map",
           "type": "scattermap"
          }
         ],
         "name": "2023-10"
        },
        {
         "data": [
          {
           "hovertemplate": "month=2023-11<br>HTEURNEIGE_Q=%{marker.color}<br>lat=%{lat}<br>lon=%{lon}<extra></extra>",
           "lat": {
            "bdata": "GNilFLSrRkCtqV0k6bRGQOjesz0evkZAm+q6X1PHRkD/GkaOZ6tGQABCMISctEZAAFKvg9G9RkDuttWLBsdGQG43+PgXq0ZAYvcM1Ey0RkAzxay4gb1GQKMF6qW2xkZATM7WmuvPRkC6Xg2gkKFGQB/o1lTFqkZAO5cOFPqzRkCvGMfcLr1GQMLJEq5jxkZAk7gDh5jPRkA/pKtmzdhGQAj9G0wC4kZAFh4O/dGORkBVnm99BphGQJR3Dgo7oUZA7u39oW+qRkDb9VBEpLNGQEI0GvDYvEZAt/5rpA3GRkCOW1hgQs9GQA0C8SJ32EZAllpH66vhRkACIx2VeY5GQJY+s/etl0ZAyc57ZuKgRkDfD4rgFqpGQGPu8GRLs0ZAUAfD8n+8RkApqBKJtMVGQEHP8SbpzkZAwStyyx3YRkDqHaV1UuFGQC+3mySH6kZA3hrDIR6ORkBDg4dlUpdGQJMcc7WGoEZA6RqZELupRkCoYgx277JGQI+I3+QjvEZA39EkXFjFRkCQNO7ajM5GQHNXTWDB10ZAWZJT6/XgRkCa1fWe72hGQIoROokjckZA8ApKg1d7RkBzLjqMi4RGQEmYHqO/jUZASRQLx/OWRkA2HhP3J6BGQMzhSTJcqUZA+TrCd5CyRkD6tY7GxLtGQIiPwR35xEZABbVsfC3ORkDuQieYjmhGQFMivWHCcUZALd8SO/Z6RkCi3TwjKoRGQGoxTxlejUZA1Z1dHJKWRkD9lXsrxp9GQAM9vEX6qEZAEmYyai6yRkCslPCXYrtGQLb8CM6WxEZAEOke8/ZeRkD75WKKKmhGQBPWRTJecUZAimXc6ZF6RkDX7zqwxYNGQOV/dYT5jEZAMtCfZS2WRkAHS81SYZ9GQIUKEUuVqEZA7dh9TcmxRkAD2jABkF5GQPr+yXXDZ0ZABYT1+vZwRkBkDMiPKnpGQJ7qVTNeg0ZAkyCz5JGMRkCzX/OixZVGQBcJKm35nkZAui1qQi2oRkCgjsYhYbFGQHTOflpZZ0ZAZ4Tuu4xwRkDWQ/gswHlGQAFWsKzzgkZAf7MqOieMRkBuBHvUWpVGQICgtHqOnkZAQo/qK8KnRkAuiC/n9bBGQNbylaspukZAbzBUdR9wRkCIfZDBUnlGQDu8bRyGgkZAndv/hLmLRkArelr67JRGQPXlkHsgnkZAyhy2B1SnRkBjzNydh7BGQP7hSievb0ZAkiy1TeJ4RkC8qbKCFYJGQME+V8VIi0ZAtGfzRRawRkCK8/fRO29GQE7Fi9FueEZA87+BdcVuRkA2vTpN+HdGQA==",
            "dtype": "f8"
           },
           "legendgroup": "",
           "lon": {
            "bdata": "fdMnuEhZE0DmL32SnFwTQNK/OqTyXxNAogWY70pjE0AzeK7LucETQMUBOFowxRNA6VQ7N6nIE0DN9QZlJMwTQPY8B5MoKhRAbH9508EtFEB2EnR5XTEUQPp2XIf7NBRAimCb/5s4FEAaU1yB244UQDZ+OveUkhRA+yYz51CWFED0eb9TD5oUQGbvWz/QnRRA01CIrJOhFEB/vsedWaUUQAi1oBUiqRRAQ1VZZnLvFECNhd5XSfMUQPaUWdUi9xRAgsBT4f76FED8o1l+3f4UQI0/+66+AhVAYP3LdaIGFUBWt2LViAoVQMC8WdBxDhVAKthOaV0SFUB4EihJclcVQH/upKBrWxVAiz3YmmdfFUCxzmE6ZmMVQKzt5IFnZxVAoWgIdGtrFUDtlXYTcm8VQBda3WJ7cxVAtS3uZId3FUBqI14clnsVQPDt5YunfxVA4jrdi2+/FUBga7VGi8MVQO0rAbupxxVA8td268rLFUBNZdDa7s8VQENqy4sV1BVAiSMpAT/YFUBTeq49a9wVQIkKJESa4BVA2ihWF8zkFUD/UhGUjRYWQNnzlIrAGhZA4N02RvYeFkACT7XJLiMWQCwl0hdqJxZALuRSM6grFkDNuwAf6S8WQN2NqN0sNBZAXfQacnM4FkCpRyzfvDwWQLSktCcJQRZATvOPTlhFFkDGxoG8/H0WQEAk7LZRghZAt8XRjKmGFkBw9AZBBIsWQJS2Y9ZhjxZAWtXDT8KTFkBG4wawJZgWQGlCEPqLnBZAwSrHMPWgFkCEsBZXYaUWQJvK7W/QqRZAUJ61//TgFkDQGUgMaeUWQHCiyAfg6RZAIrMd9VnuFkBWmjHX1vIWQEiA8rBW9xZAXm1Shdn7FkCVUEdXXwAXQOwFyynoBBdA+Fzb/3MJF0D6Vp54PEgXQFL1IG3STBdANS/RZmtRF0DFYatoB1YXQEzar3WmWhdAvdzikEhfF0BFqky97WMXQN6H+f2VaBdA8sT5VUFtF0AkwmHI73EXQLbPzMg4tBdA116wvfO4F0AXZw/Rsb0XQBYuAAZzwhdA+wydXzfHF0AZdwTh/ssXQMYAWY3J0BdAKGbBZ5fVF0AlkmhzaNoXQEGlfbM83xdAwbUU9nggGEAnT+IXWSUYQKUMpXE8KhhAzlWNBiMvGEBWyc/ZDDQYQBxEpe75OBhAGOhKSOo9GECDIwLq3UIYQCTFsPn6hxhAibnAJv2MGEAgByWiApIYQP8cJG8LlxhAcwlFFVCrGECRRzuyee8YQAN2S+ed9BhAfj1vCfVWGUBEoSdDO1wZQA==",
            "dtype": "f8"
           },
           "marker": {
            "color": {
             "bdata": "AAAAAAAAAAAAAAAAAAAAAAAAAAAAAAAAAAAAAAAAAAAAAAAAAAAAAAAAAAAAAAAAAAAAAAAAAAAAAAAAAAAAAAAAAAAAAAAAAAAAAAAAAAAAAAAAAAAAAAAAAAAAAAAAAAAAAAAAAAAAAAAAAAAAAAAAAAAAAAAAAAAAAAAAAAAAAAAAAAAAAAAAAAAAAAAAAAAAAAAAAAAAAAAAAAAAAAAAAAAAAAAAAAAAAAAAAAAAAAAAAAAAAAAAAAAAAAAAAAAAAAAAAAAAAAAAAAAAAAAAAAAAAAAAAAAAAAAAAAAAAAAAAAAAAAAAAAAAAAAAAAAAAAAAAAAAAAAAAAAAAAAAAAAAAAAAAAAAAAAAAAAAAAAAAAAAAAAAAAAAAAAAAAAAAAAAAAAAAAAAAAAAAAAAAAAAAAAAAAAAAAAAAAAAAAAAAAAAAAAAAAAAAAAALUMc6+I2Oj+jt2WtjglePwAAAAAAAAAAAAAAAAAAAAAAAAAAAAAAAAAAAAAAAAAAAAAAAAAAAAAAAAAAAAAAAAAAAAAAAAAAAAAAAAAAAAD8qfHSTWKgP5UeYMCldpk/k2JarpE3kz9E/RuhjN6GP7SjSxJelU4/WjzifUJjgz86tMh2vp96PwAAAAAAAAAAAAAAAAAAAAAAAAAAAAAAAAAAAAAAAAAAAAAAAAAAAAAtQxzr4jY6P/p+arx0k1g/HoK9nOx5AT+OUEZvy1p9P0lQ/Bhz14I/oWez6nO1dT8AAAAAAAAAAG6jAbwFEnQ/AAAAAAAAAAAAAAAAAAAAAAAAAAAAAAAAgwoh+sjAdD8AAAAAAAAAAB6CvZzseVE/gwoh+sjARD8dVzaGE6tpPwAAAAAAAAAAAAAAAAAAAAA+LwJQssJ6P3bjysZwYqU/ZtXnaiv2hz8FfmeOv8ejP0BaiWaLkYI/HoK9nOx5AT9uD1UL//yRP76c7HkRgJI/itUMltc3fT+l4uzDZ9hFPwAAAAAAAAAAUyrOPnyGnT8mDN3/2tSjP3IeO5X5NGQ/AU2EDU+vhD87kst/SL+tP01f4qJtD8U/PHP8PZ6DtD9GA3gLJCjSPxWMSuoENIE/AAAAAAAAAAAAAAAAAAAAAAAAAAAAAAAAUUZvy1odsz9jXdxGA3jTP6vP1VbsL6s/9LN+IGYcoD9NX+KibQ+1P+JYF7fRANI/iRkHhMP4lj+0o0sSXpVuPz5ULfzzR9s/rYvbaABv1T9WM1he33S4P2JXgNxrLtA/m1Jx9uEz1D+NA8JhfKvoP0vqBDQRNuA/gJIV1qBC6j8lBoGVQ4vuPw==",
             "dtype": "f8"
            },
            "coloraxis": "coloraxis",
            "size": {
             "bdata": "AAAAAAAAAAAAAAAAAAAAAAAAAAAAAAAAAAAAAAAAAAAAAAAAAAAAAAAAAAAAAAAAAAAAAAAAAAAAAAAAAAAAAAAAAAAAAAAAAAAAAAAAAAAAAAAAAAAAAAAAAAAAAAAAAAAAAAAAAAAAAAAAAAAAAAAAAAAAAAAAAAAAAAAAAAAAAAAAAAAAAAAAAAAAAAAAAAAAAAAAAAAAAAAAAAAAAAAAAAAAAAAAAAAAAAAAAAAAAAAAAAAAAAAAAAAAAAAAAAAAAAAAAAAAAAAAAAAAAAAAAAAAAAAAAAAAAAAAAAAAAAAAAAAAAAAAAAAAAAAAAAAAAAAAAAAAAAAAAAAAAAAAAAAAAAAAAAAAAAAAAAAAAAAAAAAAAAAAAAAAAAAAAAAAAAAAAAAAAAAAAAAAAAAAAAAAAAAAAAAAAAAAAAAAAAAAAAAAAAAAAAAAAAAALUMc6+I2Oj+jt2WtjglePwAAAAAAAAAAAAAAAAAAAAAAAAAAAAAAAAAAAAAAAAAAAAAAAAAAAAAAAAAAAAAAAAAAAAAAAAAAAAAAAAAAAAD8qfHSTWKgP5UeYMCldpk/k2JarpE3kz9E/RuhjN6GP7SjSxJelU4/WjzifUJjgz86tMh2vp96PwAAAAAAAAAAAAAAAAAAAAAAAAAAAAAAAAAAAAAAAAAAAAAAAAAAAAAtQxzr4jY6P/p+arx0k1g/HoK9nOx5AT+OUEZvy1p9P0lQ/Bhz14I/oWez6nO1dT8AAAAAAAAAAG6jAbwFEnQ/AAAAAAAAAAAAAAAAAAAAAAAAAAAAAAAAgwoh+sjAdD8AAAAAAAAAAB6CvZzseVE/gwoh+sjARD8dVzaGE6tpPwAAAAAAAAAAAAAAAAAAAAA+LwJQssJ6P3bjysZwYqU/ZtXnaiv2hz8FfmeOv8ejP0BaiWaLkYI/HoK9nOx5AT9uD1UL//yRP76c7HkRgJI/itUMltc3fT+l4uzDZ9hFPwAAAAAAAAAAUyrOPnyGnT8mDN3/2tSjP3IeO5X5NGQ/AU2EDU+vhD87kst/SL+tP01f4qJtD8U/PHP8PZ6DtD9GA3gLJCjSPxWMSuoENIE/AAAAAAAAAAAAAAAAAAAAAAAAAAAAAAAAUUZvy1odsz9jXdxGA3jTP6vP1VbsL6s/9LN+IGYcoD9NX+KibQ+1P+JYF7fRANI/iRkHhMP4lj+0o0sSXpVuPz5ULfzzR9s/rYvbaABv1T9WM1he33S4P2JXgNxrLtA/m1Jx9uEz1D+NA8JhfKvoP0vqBDQRNuA/gJIV1qBC6j8lBoGVQ4vuPw==",
             "dtype": "f8"
            },
            "sizemode": "area",
            "sizeref": 0.006043951612903227
           },
           "mode": "markers",
           "name": "",
           "showlegend": false,
           "subplot": "map",
           "type": "scattermap"
          }
         ],
         "name": "2023-11"
        },
        {
         "data": [
          {
           "hovertemplate": "month=2023-12<br>HTEURNEIGE_Q=%{marker.color}<br>lat=%{lat}<br>lon=%{lon}<extra></extra>",
           "lat": {
            "bdata": "GNilFLSrRkCtqV0k6bRGQOjesz0evkZAm+q6X1PHRkD/GkaOZ6tGQABCMISctEZAAFKvg9G9RkDuttWLBsdGQG43+PgXq0ZAYvcM1Ey0RkAzxay4gb1GQKMF6qW2xkZATM7WmuvPRkC6Xg2gkKFGQB/o1lTFqkZAO5cOFPqzRkCvGMfcLr1GQMLJEq5jxkZAk7gDh5jPRkA/pKtmzdhGQAj9G0wC4kZAFh4O/dGORkBVnm99BphGQJR3Dgo7oUZA7u39oW+qRkDb9VBEpLNGQEI0GvDYvEZAt/5rpA3GRkCOW1hgQs9GQA0C8SJ32EZAllpH66vhRkACIx2VeY5GQJY+s/etl0ZAyc57ZuKgRkDfD4rgFqpGQGPu8GRLs0ZAUAfD8n+8RkApqBKJtMVGQEHP8SbpzkZAwStyyx3YRkDqHaV1UuFGQC+3mySH6kZA3hrDIR6ORkBDg4dlUpdGQJMcc7WGoEZA6RqZELupRkCoYgx277JGQI+I3+QjvEZA39EkXFjFRkCQNO7ajM5GQHNXTWDB10ZAWZJT6/XgRkCa1fWe72hGQIoROokjckZA8ApKg1d7RkBzLjqMi4RGQEmYHqO/jUZASRQLx/OWRkA2HhP3J6BGQMzhSTJcqUZA+TrCd5CyRkD6tY7GxLtGQIiPwR35xEZABbVsfC3ORkDuQieYjmhGQFMivWHCcUZALd8SO/Z6RkCi3TwjKoRGQGoxTxlejUZA1Z1dHJKWRkD9lXsrxp9GQAM9vEX6qEZAEmYyai6yRkCslPCXYrtGQLb8CM6WxEZAEOke8/ZeRkD75WKKKmhGQBPWRTJecUZAimXc6ZF6RkDX7zqwxYNGQOV/dYT5jEZAMtCfZS2WRkAHS81SYZ9GQIUKEUuVqEZA7dh9TcmxRkAD2jABkF5GQPr+yXXDZ0ZABYT1+vZwRkBkDMiPKnpGQJ7qVTNeg0ZAkyCz5JGMRkCzX/OixZVGQBcJKm35nkZAui1qQi2oRkCgjsYhYbFGQHTOflpZZ0ZAZ4Tuu4xwRkDWQ/gswHlGQAFWsKzzgkZAf7MqOieMRkBuBHvUWpVGQICgtHqOnkZAQo/qK8KnRkAuiC/n9bBGQNbylaspukZAbzBUdR9wRkCIfZDBUnlGQDu8bRyGgkZAndv/hLmLRkArelr67JRGQPXlkHsgnkZAyhy2B1SnRkBjzNydh7BGQP7hSievb0ZAkiy1TeJ4RkC8qbKCFYJGQME+V8VIi0ZAtGfzRRawRkCK8/fRO29GQE7Fi9FueEZA87+BdcVuRkA2vTpN+HdGQA==",
            "dtype": "f8"
           },
           "legendgroup": "",
           "lon": {
            "bdata": "fdMnuEhZE0DmL32SnFwTQNK/OqTyXxNAogWY70pjE0AzeK7LucETQMUBOFowxRNA6VQ7N6nIE0DN9QZlJMwTQPY8B5MoKhRAbH9508EtFEB2EnR5XTEUQPp2XIf7NBRAimCb/5s4FEAaU1yB244UQDZ+OveUkhRA+yYz51CWFED0eb9TD5oUQGbvWz/QnRRA01CIrJOhFEB/vsedWaUUQAi1oBUiqRRAQ1VZZnLvFECNhd5XSfMUQPaUWdUi9xRAgsBT4f76FED8o1l+3f4UQI0/+66+AhVAYP3LdaIGFUBWt2LViAoVQMC8WdBxDhVAKthOaV0SFUB4EihJclcVQH/upKBrWxVAiz3YmmdfFUCxzmE6ZmMVQKzt5IFnZxVAoWgIdGtrFUDtlXYTcm8VQBda3WJ7cxVAtS3uZId3FUBqI14clnsVQPDt5YunfxVA4jrdi2+/FUBga7VGi8MVQO0rAbupxxVA8td268rLFUBNZdDa7s8VQENqy4sV1BVAiSMpAT/YFUBTeq49a9wVQIkKJESa4BVA2ihWF8zkFUD/UhGUjRYWQNnzlIrAGhZA4N02RvYeFkACT7XJLiMWQCwl0hdqJxZALuRSM6grFkDNuwAf6S8WQN2NqN0sNBZAXfQacnM4FkCpRyzfvDwWQLSktCcJQRZATvOPTlhFFkDGxoG8/H0WQEAk7LZRghZAt8XRjKmGFkBw9AZBBIsWQJS2Y9ZhjxZAWtXDT8KTFkBG4wawJZgWQGlCEPqLnBZAwSrHMPWgFkCEsBZXYaUWQJvK7W/QqRZAUJ61//TgFkDQGUgMaeUWQHCiyAfg6RZAIrMd9VnuFkBWmjHX1vIWQEiA8rBW9xZAXm1Shdn7FkCVUEdXXwAXQOwFyynoBBdA+Fzb/3MJF0D6Vp54PEgXQFL1IG3STBdANS/RZmtRF0DFYatoB1YXQEzar3WmWhdAvdzikEhfF0BFqky97WMXQN6H+f2VaBdA8sT5VUFtF0AkwmHI73EXQLbPzMg4tBdA116wvfO4F0AXZw/Rsb0XQBYuAAZzwhdA+wydXzfHF0AZdwTh/ssXQMYAWY3J0BdAKGbBZ5fVF0AlkmhzaNoXQEGlfbM83xdAwbUU9nggGEAnT+IXWSUYQKUMpXE8KhhAzlWNBiMvGEBWyc/ZDDQYQBxEpe75OBhAGOhKSOo9GECDIwLq3UIYQCTFsPn6hxhAibnAJv2MGEAgByWiApIYQP8cJG8LlxhAcwlFFVCrGECRRzuyee8YQAN2S+ed9BhAfj1vCfVWGUBEoSdDO1wZQA==",
            "dtype": "f8"
           },
           "marker": {
            "color": {
             "bdata": "AAAAAAAAAAAAAAAAAAAAAAAAAAAAAAAAAAAAAAAAAAAAAAAAAAAAAAAAAAAAAAAAAAAAAAAAAAAAAAAAAAAAAAAAAAAAAAAAK+ZM/GdeGT8AAAAAAAAAAAAAAAAAAAAAAAAAAAAAAAChrDn9zQYzPwAAAAAAAAAAHUQzqJrpID8r5kz8Z14pPx1EM6ia6SA/AAAAAAAAAAAAAAAAAAAAAAAAAAAAAAAAAAAAAAAAAAAzt1mmzpgtP0yAjtG05Vk/K+ZM/GdeGT8r5kz8Z14ZP194tlI0+EE/K+ZM/GdeGT8AAAAAAAAAAAAAAAAAAAAAAAAAAAAAAAAAAAAAAAAAAAAAAAAAAAAA4uC8p2cVVD8zt1mmzpgtPx1EM6ia6TA/bRrQpgFtSj8r5kz8Z14ZPwAAAAAAAAAAAAAAAAAAAAAAAAAAAAAAAAAAAAAAAAAAR66mF56thD+V3eJyx8eQPx1EM6ia6QA/JBVAUgEkNT8r5kz8Z145P2VJw/yaMkY/K+ZM/GdeKT8dRDOomukQPwAAAAAAAAAAAAAAAAAAAADlW7skHLLIP4TdbQsR6sM/sXJoke18vz9ugHigIaGzP3npJjEIrIw/FF7Qep9GsT8UMm5UFnqoPwAAAAAAAAAAM7dZps6YPT+G4wTS57lWPyvmTPxnXhk/AAAAAAAAAAAdRDOomumAP06rFeiNtJE/69xQaKceYD+Ln7v4uYuvP6tXe0eCRLE/A9o0oE0Dqj8yt1mmzpg9PzLju8xXZZY/rk5TUZt7Wz/i4LynZxVUPx1EM6ia6QA/CE3mNsvUqT8r5kz8Z15ZP2obq7axaos/xhhjjDHGiD8xzmVJw/yaPx1EM6ia6QA/AAAAAAAAAACaOmN2ADOkPxtxcN7Ts8o/hb/vkZW4sj/WCvRG2gjOP6UJugAHcrY/TqsV6I20YT+FuH27Duu+P9VFFSohbr8/6YVnK0WDrz9iHxf2cWGPPx1EM6ia6RA/S49NjnJ+wj/9D5rMbZbJP9fP0mOTo5w/mq/KLN7/tT/bfaXdV9rNP0DzygB82eA/BBR7c+Rq0j/g98hKXHnpP+dTbj7l5rM/3LfrsO5Bfj+2H2D7AbZvPyLquDsoVX0/zyoo4LU10T8j+JzoNfDoP3yQh9RFFco/0hMcPcHRwz9XQQGvrYnUP/irp/KtXeo/OzcU2qkHxD+Jg/OenlWgP9YgJdoeb/A/cqOy0MOk6j9NLzxbKRrUP2ls/Sw9NuU/uljLvugf5z8mVvj7Hln5P7SVosGPgPI/OcOHM3w4+T/Mg8c8eMz7Pw==",
             "dtype": "f8"
            },
            "coloraxis": "coloraxis",
            "size": {
             "bdata": "AAAAAAAAAAAAAAAAAAAAAAAAAAAAAAAAAAAAAAAAAAAAAAAAAAAAAAAAAAAAAAAAAAAAAAAAAAAAAAAAAAAAAAAAAAAAAAAAK+ZM/GdeGT8AAAAAAAAAAAAAAAAAAAAAAAAAAAAAAAChrDn9zQYzPwAAAAAAAAAAHUQzqJrpID8r5kz8Z14pPx1EM6ia6SA/AAAAAAAAAAAAAAAAAAAAAAAAAAAAAAAAAAAAAAAAAAAzt1mmzpgtP0yAjtG05Vk/K+ZM/GdeGT8r5kz8Z14ZP194tlI0+EE/K+ZM/GdeGT8AAAAAAAAAAAAAAAAAAAAAAAAAAAAAAAAAAAAAAAAAAAAAAAAAAAAA4uC8p2cVVD8zt1mmzpgtPx1EM6ia6TA/bRrQpgFtSj8r5kz8Z14ZPwAAAAAAAAAAAAAAAAAAAAAAAAAAAAAAAAAAAAAAAAAAR66mF56thD+V3eJyx8eQPx1EM6ia6QA/JBVAUgEkNT8r5kz8Z145P2VJw/yaMkY/K+ZM/GdeKT8dRDOomukQPwAAAAAAAAAAAAAAAAAAAADlW7skHLLIP4TdbQsR6sM/sXJoke18vz9ugHigIaGzP3npJjEIrIw/FF7Qep9GsT8UMm5UFnqoPwAAAAAAAAAAM7dZps6YPT+G4wTS57lWPyvmTPxnXhk/AAAAAAAAAAAdRDOomumAP06rFeiNtJE/69xQaKceYD+Ln7v4uYuvP6tXe0eCRLE/A9o0oE0Dqj8yt1mmzpg9PzLju8xXZZY/rk5TUZt7Wz/i4LynZxVUPx1EM6ia6QA/CE3mNsvUqT8r5kz8Z15ZP2obq7axaos/xhhjjDHGiD8xzmVJw/yaPx1EM6ia6QA/AAAAAAAAAACaOmN2ADOkPxtxcN7Ts8o/hb/vkZW4sj/WCvRG2gjOP6UJugAHcrY/TqsV6I20YT+FuH27Duu+P9VFFSohbr8/6YVnK0WDrz9iHxf2cWGPPx1EM6ia6RA/S49NjnJ+wj/9D5rMbZbJP9fP0mOTo5w/mq/KLN7/tT/bfaXdV9rNP0DzygB82eA/BBR7c+Rq0j/g98hKXHnpP+dTbj7l5rM/3LfrsO5Bfj+2H2D7AbZvPyLquDsoVX0/zyoo4LU10T8j+JzoNfDoP3yQh9RFFco/0hMcPcHRwz9XQQGvrYnUP/irp/KtXeo/OzcU2qkHxD+Jg/OenlWgP9YgJdoeb/A/cqOy0MOk6j9NLzxbKRrUP2ls/Sw9NuU/uljLvugf5z8mVvj7Hln5P7SVosGPgPI/OcOHM3w4+T/Mg8c8eMz7Pw==",
             "dtype": "f8"
            },
            "sizemode": "area",
            "sizeref": 0.006043951612903227
           },
           "mode": "markers",
           "name": "",
           "showlegend": false,
           "subplot": "map",
           "type": "scattermap"
          }
         ],
         "name": "2023-12"
        },
        {
         "data": [
          {
           "hovertemplate": "month=2024-01<br>HTEURNEIGE_Q=%{marker.color}<br>lat=%{lat}<br>lon=%{lon}<extra></extra>",
           "lat": {
            "bdata": "GNilFLSrRkCtqV0k6bRGQOjesz0evkZAm+q6X1PHRkD/GkaOZ6tGQABCMISctEZAAFKvg9G9RkDuttWLBsdGQG43+PgXq0ZAYvcM1Ey0RkAzxay4gb1GQKMF6qW2xkZATM7WmuvPRkC6Xg2gkKFGQB/o1lTFqkZAO5cOFPqzRkCvGMfcLr1GQMLJEq5jxkZAk7gDh5jPRkA/pKtmzdhGQAj9G0wC4kZAFh4O/dGORkBVnm99BphGQJR3Dgo7oUZA7u39oW+qRkDb9VBEpLNGQEI0GvDYvEZAt/5rpA3GRkCOW1hgQs9GQA0C8SJ32EZAllpH66vhRkACIx2VeY5GQJY+s/etl0ZAyc57ZuKgRkDfD4rgFqpGQGPu8GRLs0ZAUAfD8n+8RkApqBKJtMVGQEHP8SbpzkZAwStyyx3YRkDqHaV1UuFGQC+3mySH6kZA3hrDIR6ORkBDg4dlUpdGQJMcc7WGoEZA6RqZELupRkCoYgx277JGQI+I3+QjvEZA39EkXFjFRkCQNO7ajM5GQHNXTWDB10ZAWZJT6/XgRkCa1fWe72hGQIoROokjckZA8ApKg1d7RkBzLjqMi4RGQEmYHqO/jUZASRQLx/OWRkA2HhP3J6BGQMzhSTJcqUZA+TrCd5CyRkD6tY7GxLtGQIiPwR35xEZABbVsfC3ORkDuQieYjmhGQFMivWHCcUZALd8SO/Z6RkCi3TwjKoRGQGoxTxlejUZA1Z1dHJKWRkD9lXsrxp9GQAM9vEX6qEZAEmYyai6yRkCslPCXYrtGQLb8CM6WxEZAEOke8/ZeRkD75WKKKmhGQBPWRTJecUZAimXc6ZF6RkDX7zqwxYNGQOV/dYT5jEZAMtCfZS2WRkAHS81SYZ9GQIUKEUuVqEZA7dh9TcmxRkAD2jABkF5GQPr+yXXDZ0ZABYT1+vZwRkBkDMiPKnpGQJ7qVTNeg0ZAkyCz5JGMRkCzX/OixZVGQBcJKm35nkZAui1qQi2oRkCgjsYhYbFGQHTOflpZZ0ZAZ4Tuu4xwRkDWQ/gswHlGQAFWsKzzgkZAf7MqOieMRkBuBHvUWpVGQICgtHqOnkZAQo/qK8KnRkAuiC/n9bBGQNbylaspukZAbzBUdR9wRkCIfZDBUnlGQDu8bRyGgkZAndv/hLmLRkArelr67JRGQPXlkHsgnkZAyhy2B1SnRkBjzNydh7BGQP7hSievb0ZAkiy1TeJ4RkC8qbKCFYJGQME+V8VIi0ZAtGfzRRawRkCK8/fRO29GQE7Fi9FueEZA87+BdcVuRkA2vTpN+HdGQA==",
            "dtype": "f8"
           },
           "legendgroup": "",
           "lon": {
            "bdata": "fdMnuEhZE0DmL32SnFwTQNK/OqTyXxNAogWY70pjE0AzeK7LucETQMUBOFowxRNA6VQ7N6nIE0DN9QZlJMwTQPY8B5MoKhRAbH9508EtFEB2EnR5XTEUQPp2XIf7NBRAimCb/5s4FEAaU1yB244UQDZ+OveUkhRA+yYz51CWFED0eb9TD5oUQGbvWz/QnRRA01CIrJOhFEB/vsedWaUUQAi1oBUiqRRAQ1VZZnLvFECNhd5XSfMUQPaUWdUi9xRAgsBT4f76FED8o1l+3f4UQI0/+66+AhVAYP3LdaIGFUBWt2LViAoVQMC8WdBxDhVAKthOaV0SFUB4EihJclcVQH/upKBrWxVAiz3YmmdfFUCxzmE6ZmMVQKzt5IFnZxVAoWgIdGtrFUDtlXYTcm8VQBda3WJ7cxVAtS3uZId3FUBqI14clnsVQPDt5YunfxVA4jrdi2+/FUBga7VGi8MVQO0rAbupxxVA8td268rLFUBNZdDa7s8VQENqy4sV1BVAiSMpAT/YFUBTeq49a9wVQIkKJESa4BVA2ihWF8zkFUD/UhGUjRYWQNnzlIrAGhZA4N02RvYeFkACT7XJLiMWQCwl0hdqJxZALuRSM6grFkDNuwAf6S8WQN2NqN0sNBZAXfQacnM4FkCpRyzfvDwWQLSktCcJQRZATvOPTlhFFkDGxoG8/H0WQEAk7LZRghZAt8XRjKmGFkBw9AZBBIsWQJS2Y9ZhjxZAWtXDT8KTFkBG4wawJZgWQGlCEPqLnBZAwSrHMPWgFkCEsBZXYaUWQJvK7W/QqRZAUJ61//TgFkDQGUgMaeUWQHCiyAfg6RZAIrMd9VnuFkBWmjHX1vIWQEiA8rBW9xZAXm1Shdn7FkCVUEdXXwAXQOwFyynoBBdA+Fzb/3MJF0D6Vp54PEgXQFL1IG3STBdANS/RZmtRF0DFYatoB1YXQEzar3WmWhdAvdzikEhfF0BFqky97WMXQN6H+f2VaBdA8sT5VUFtF0AkwmHI73EXQLbPzMg4tBdA116wvfO4F0AXZw/Rsb0XQBYuAAZzwhdA+wydXzfHF0AZdwTh/ssXQMYAWY3J0BdAKGbBZ5fVF0AlkmhzaNoXQEGlfbM83xdAwbUU9nggGEAnT+IXWSUYQKUMpXE8KhhAzlWNBiMvGEBWyc/ZDDQYQBxEpe75OBhAGOhKSOo9GECDIwLq3UIYQCTFsPn6hxhAibnAJv2MGEAgByWiApIYQP8cJG8LlxhAcwlFFVCrGECRRzuyee8YQAN2S+ed9BhAfj1vCfVWGUBEoSdDO1wZQA==",
            "dtype": "f8"
           },
           "marker": {
            "color": {
             "bdata": "AAAAAAAAAAAdRDOomukQPyvmTPxnXik/HUQzqJrpED8dRDOomukQP194tlI0+EE/oaw5/c0GMz8dRDOomukAPyvmTPxnXik/bBrQpgFtSj9feLZSNPhBP69OU1Gbezs/oaw5/c0GMz8kFUBSASRVP69OU1Gbezs/8YLW+zSKTD+2H2D7AbZPP3Tr3FBop04/K+ZM/GdeGT8dRDOomukAPx1EM6ia6QA/HUQzqJrpID/BRnvSGo5TP3sUrkfhenQ/bBrQpgFtSj/xgtb7NIpMP+mxyVHOT2g/dOvcUGinTj8dRDOomukQPyQVQFIBJDU/K+ZM/GdeKT8zt1mmzphNP6CsOf3NBkM/594GiAcacj/BRnvSGo5TP8gXiHyByFc/HUQzqJrpcD9sGtCmAW1KP194tlI0+EE/K+ZM/GdeGT8kFUBSASQ1PzO3WabOmC0/1xFmHWHWoT9oXhmAL5uhP7YfYPsBtk8/ZUnD/JoyVj9WfCKS9O5lP5WFHia1Lm8/dOvcUGinTj+hrDn9zQZDPx1EM6ia6QA/p31GpzRBNz/bZ3RKE3TRPweIBxoSOss/28aqbazaxj+0Ys7Ef+a1PzngKp1HbKM/2h5vur5zuD9nDqIZVM20PyvmTPxnXhk/A3v+fLScZD+P35iSJ8NyP2wa0KYBbUo/K+ZM/GdeGT/ls39xLkuKPxZHxNeq4pM/PLPtZg6ieT+bXni2UjS4Pzyz7WYOork/7Iv+8RtTsj9feLZSNPhhP/9QUnaLy40/4uC8p2cVdD9kHjzmwWNuPx1EM6ia6TA/BwThpnbUsD8v5JbcB2N3Pwp4bU2ko5E/ifhaVXwikj8vzmVJw/yaP+LgvKdnFUQ/HUQzqJrpED/6lJtPufmkP9SANg1o09A/w2qQEm2Ptz/OI7YJL2jVP/wBth9g+8E/LbkPxi6Ufz/qdqhuh+rGP985XAQqrMY/HbmaXni2sj/IQ+qiCpWQP/yp8dJNYlA/LXAKNtqTxj8dRDOomunQP6ceEISb2qE/t/pvq/+2uj8M1shgjQzWP+D+OiHjRuk/lzs+hrAw3T/VGbMDmKHyPyvQG2kj+Lw/7ISMG5WFfj88s+1mDqJpP7hK5xHbhHc/t4UI9SHq2D85VZJTJTnxP8aNykIPk9I/K0WDHwHFzj83y9QZswPgP43gc6LXwPM/kZ0F2VmQzT+lqoPdbQuhP3QXP3fxc/U/D7D9ANsP8j+GUfqxPrncPxeQyWf/4uw/2YXyw46l8D9scpTzEwYAQJOG+TVlLPg/wGtrIh2N/j/cHZSqDnYAQA==",
             "dtype": "f8"
            },
            "coloraxis": "coloraxis",
            "size": {
             "bdata": "AAAAAAAAAAAdRDOomukQPyvmTPxnXik/HUQzqJrpED8dRDOomukQP194tlI0+EE/oaw5/c0GMz8dRDOomukAPyvmTPxnXik/bBrQpgFtSj9feLZSNPhBP69OU1Gbezs/oaw5/c0GMz8kFUBSASRVP69OU1Gbezs/8YLW+zSKTD+2H2D7AbZPP3Tr3FBop04/K+ZM/GdeGT8dRDOomukAPx1EM6ia6QA/HUQzqJrpID/BRnvSGo5TP3sUrkfhenQ/bBrQpgFtSj/xgtb7NIpMP+mxyVHOT2g/dOvcUGinTj8dRDOomukQPyQVQFIBJDU/K+ZM/GdeKT8zt1mmzphNP6CsOf3NBkM/594GiAcacj/BRnvSGo5TP8gXiHyByFc/HUQzqJrpcD9sGtCmAW1KP194tlI0+EE/K+ZM/GdeGT8kFUBSASQ1PzO3WabOmC0/1xFmHWHWoT9oXhmAL5uhP7YfYPsBtk8/ZUnD/JoyVj9WfCKS9O5lP5WFHia1Lm8/dOvcUGinTj+hrDn9zQZDPx1EM6ia6QA/p31GpzRBNz/bZ3RKE3TRPweIBxoSOss/28aqbazaxj+0Ys7Ef+a1PzngKp1HbKM/2h5vur5zuD9nDqIZVM20PyvmTPxnXhk/A3v+fLScZD+P35iSJ8NyP2wa0KYBbUo/K+ZM/GdeGT/ls39xLkuKPxZHxNeq4pM/PLPtZg6ieT+bXni2UjS4Pzyz7WYOork/7Iv+8RtTsj9feLZSNPhhP/9QUnaLy40/4uC8p2cVdD9kHjzmwWNuPx1EM6ia6TA/BwThpnbUsD8v5JbcB2N3Pwp4bU2ko5E/ifhaVXwikj8vzmVJw/yaP+LgvKdnFUQ/HUQzqJrpED/6lJtPufmkP9SANg1o09A/w2qQEm2Ptz/OI7YJL2jVP/wBth9g+8E/LbkPxi6Ufz/qdqhuh+rGP985XAQqrMY/HbmaXni2sj/IQ+qiCpWQP/yp8dJNYlA/LXAKNtqTxj8dRDOomunQP6ceEISb2qE/t/pvq/+2uj8M1shgjQzWP+D+OiHjRuk/lzs+hrAw3T/VGbMDmKHyPyvQG2kj+Lw/7ISMG5WFfj88s+1mDqJpP7hK5xHbhHc/t4UI9SHq2D85VZJTJTnxP8aNykIPk9I/K0WDHwHFzj83y9QZswPgP43gc6LXwPM/kZ0F2VmQzT+lqoPdbQuhP3QXP3fxc/U/D7D9ANsP8j+GUfqxPrncPxeQyWf/4uw/2YXyw46l8D9scpTzEwYAQJOG+TVlLPg/wGtrIh2N/j/cHZSqDnYAQA==",
             "dtype": "f8"
            },
            "sizemode": "area",
            "sizeref": 0.006043951612903227
           },
           "mode": "markers",
           "name": "",
           "showlegend": false,
           "subplot": "map",
           "type": "scattermap"
          }
         ],
         "name": "2024-01"
        },
        {
         "data": [
          {
           "hovertemplate": "month=2024-02<br>HTEURNEIGE_Q=%{marker.color}<br>lat=%{lat}<br>lon=%{lon}<extra></extra>",
           "lat": {
            "bdata": "GNilFLSrRkCtqV0k6bRGQOjesz0evkZAm+q6X1PHRkD/GkaOZ6tGQABCMISctEZAAFKvg9G9RkDuttWLBsdGQG43+PgXq0ZAYvcM1Ey0RkAzxay4gb1GQKMF6qW2xkZATM7WmuvPRkC6Xg2gkKFGQB/o1lTFqkZAO5cOFPqzRkCvGMfcLr1GQMLJEq5jxkZAk7gDh5jPRkA/pKtmzdhGQAj9G0wC4kZAFh4O/dGORkBVnm99BphGQJR3Dgo7oUZA7u39oW+qRkDb9VBEpLNGQEI0GvDYvEZAt/5rpA3GRkCOW1hgQs9GQA0C8SJ32EZAllpH66vhRkACIx2VeY5GQJY+s/etl0ZAyc57ZuKgRkDfD4rgFqpGQGPu8GRLs0ZAUAfD8n+8RkApqBKJtMVGQEHP8SbpzkZAwStyyx3YRkDqHaV1UuFGQC+3mySH6kZA3hrDIR6ORkBDg4dlUpdGQJMcc7WGoEZA6RqZELupRkCoYgx277JGQI+I3+QjvEZA39EkXFjFRkCQNO7ajM5GQHNXTWDB10ZAWZJT6/XgRkCa1fWe72hGQIoROokjckZA8ApKg1d7RkBzLjqMi4RGQEmYHqO/jUZASRQLx/OWRkA2HhP3J6BGQMzhSTJcqUZA+TrCd5CyRkD6tY7GxLtGQIiPwR35xEZABbVsfC3ORkDuQieYjmhGQFMivWHCcUZALd8SO/Z6RkCi3TwjKoRGQGoxTxlejUZA1Z1dHJKWRkD9lXsrxp9GQAM9vEX6qEZAEmYyai6yRkCslPCXYrtGQLb8CM6WxEZAEOke8/ZeRkD75WKKKmhGQBPWRTJecUZAimXc6ZF6RkDX7zqwxYNGQOV/dYT5jEZAMtCfZS2WRkAHS81SYZ9GQIUKEUuVqEZA7dh9TcmxRkAD2jABkF5GQPr+yXXDZ0ZABYT1+vZwRkBkDMiPKnpGQJ7qVTNeg0ZAkyCz5JGMRkCzX/OixZVGQBcJKm35nkZAui1qQi2oRkCgjsYhYbFGQHTOflpZZ0ZAZ4Tuu4xwRkDWQ/gswHlGQAFWsKzzgkZAf7MqOieMRkBuBHvUWpVGQICgtHqOnkZAQo/qK8KnRkAuiC/n9bBGQNbylaspukZAbzBUdR9wRkCIfZDBUnlGQDu8bRyGgkZAndv/hLmLRkArelr67JRGQPXlkHsgnkZAyhy2B1SnRkBjzNydh7BGQP7hSievb0ZAkiy1TeJ4RkC8qbKCFYJGQME+V8VIi0ZAtGfzRRawRkCK8/fRO29GQE7Fi9FueEZA87+BdcVuRkA2vTpN+HdGQA==",
            "dtype": "f8"
           },
           "legendgroup": "",
           "lon": {
            "bdata": "fdMnuEhZE0DmL32SnFwTQNK/OqTyXxNAogWY70pjE0AzeK7LucETQMUBOFowxRNA6VQ7N6nIE0DN9QZlJMwTQPY8B5MoKhRAbH9508EtFEB2EnR5XTEUQPp2XIf7NBRAimCb/5s4FEAaU1yB244UQDZ+OveUkhRA+yYz51CWFED0eb9TD5oUQGbvWz/QnRRA01CIrJOhFEB/vsedWaUUQAi1oBUiqRRAQ1VZZnLvFECNhd5XSfMUQPaUWdUi9xRAgsBT4f76FED8o1l+3f4UQI0/+66+AhVAYP3LdaIGFUBWt2LViAoVQMC8WdBxDhVAKthOaV0SFUB4EihJclcVQH/upKBrWxVAiz3YmmdfFUCxzmE6ZmMVQKzt5IFnZxVAoWgIdGtrFUDtlXYTcm8VQBda3WJ7cxVAtS3uZId3FUBqI14clnsVQPDt5YunfxVA4jrdi2+/FUBga7VGi8MVQO0rAbupxxVA8td268rLFUBNZdDa7s8VQENqy4sV1BVAiSMpAT/YFUBTeq49a9wVQIkKJESa4BVA2ihWF8zkFUD/UhGUjRYWQNnzlIrAGhZA4N02RvYeFkACT7XJLiMWQCwl0hdqJxZALuRSM6grFkDNuwAf6S8WQN2NqN0sNBZAXfQacnM4FkCpRyzfvDwWQLSktCcJQRZATvOPTlhFFkDGxoG8/H0WQEAk7LZRghZAt8XRjKmGFkBw9AZBBIsWQJS2Y9ZhjxZAWtXDT8KTFkBG4wawJZgWQGlCEPqLnBZAwSrHMPWgFkCEsBZXYaUWQJvK7W/QqRZAUJ61//TgFkDQGUgMaeUWQHCiyAfg6RZAIrMd9VnuFkBWmjHX1vIWQEiA8rBW9xZAXm1Shdn7FkCVUEdXXwAXQOwFyynoBBdA+Fzb/3MJF0D6Vp54PEgXQFL1IG3STBdANS/RZmtRF0DFYatoB1YXQEzar3WmWhdAvdzikEhfF0BFqky97WMXQN6H+f2VaBdA8sT5VUFtF0AkwmHI73EXQLbPzMg4tBdA116wvfO4F0AXZw/Rsb0XQBYuAAZzwhdA+wydXzfHF0AZdwTh/ssXQMYAWY3J0BdAKGbBZ5fVF0AlkmhzaNoXQEGlfbM83xdAwbUU9nggGEAnT+IXWSUYQKUMpXE8KhhAzlWNBiMvGEBWyc/ZDDQYQBxEpe75OBhAGOhKSOo9GECDIwLq3UIYQCTFsPn6hxhAibnAJv2MGEAgByWiApIYQP8cJG8LlxhAcwlFFVCrGECRRzuyee8YQAN2S+ed9BhAfj1vCfVWGUBEoSdDO1wZQA==",
            "dtype": "f8"
           },
           "marker": {
            "color": {
             "bdata": "AAAAAAAAAAAAAAAAAAAAAAAAAAAAAAAAAAAAAAAAAAAAAAAAAAAAAAAAAAAAAAAAAAAAAAAAAAAAAAAAAAAAAAAAAAAAAAAAAAAAAAAAAAAAAAAAAAAAAAAAAAAAAAAAAAAAAAAAAAAAAAAAAAAAAAAAAAAAAAAAAAAAAAAAAAAAAAAAAAAAAAAAAAAAAAAAAAAAAAAAAAAAAAAAAAAAAAAAAAAAAAAAAAAAAAAAAAAAAAAAAAAAAAAAAAAAAAAAAAAAAAAAAAAAAAAAAAAAAAAAAAAAAAAAAAAAAAAAAAAAAAAAAAAAAAAAAAAAAAAAAAAAAAAAAAAAAAAAAAAAAAAAAAAAAAAAAAAAAAAAAAAAAAAAAAAAAAAAAAAAAAAAAAAAAAAAAAAAAAAAAAAAAAAAAAAAAAAAAAAAAAAAAAAAAAAAAAAAAAAAAAAAAAAALiK82EseKz8fbH2QMhQSPwAAAAAAAAAAAAAAAAAAAAAAAAAAAAAAAAAAAAAAAAAAAAAAAAAAAAAAAAAAAAAAAAAAAAAAAAAAAAAAAAAAAABsyNp2pTG5P4/hFlyoMLc/E1eXuVzHsT+AVwEl1KRSPyfHnDQ/mTY/gWNnCGHShT9NwBXsiUeTPwAAAAAAAAAAAAAAAAAAAAAAAAAAAAAAAAAAAAAAAAAAAAAAAAAAAAAuIrzYSx4bPyfHnDQ/mSY/AAAAAAAAAADadqUxWamiP/ZHfcIOl50/isrsj/qEjT8AAAAAAAAAAC4ivNhLHis/AAAAAAAAAAAAAAAAAAAAAAAAAAAAAAAAJ8ecND+Zdj8AAAAAAAAAACfHnDQ/mSY/H2x9kDIUIj82fdt8WKMvPwAAAAAAAAAAAAAAAAAAAABR5EeWMNBcP1T8E11KK8M/GARWDi2ynT8YgXzVyebUP5xBR3cPnbA/AAAAAAAAAAA3JYlazqa2P6cL4wlUyrc/SH3CDpcdlT8fbH2QMhQCPwAAAAAAAAAAvrLVfpyYtz9BKFbcUC/CP6p0rIbF2zg/fSAUK26opz9nt2McvhzRP/2WNoOO7uY/sfVBylBI2D99OYLs87LyPwQRd1rnFKg/AAAAAAAAAAAAAAAAAAAAAAAAAAAAAAAAy1b7cWLe0z/IV51szo3wP4jk/EvsPs0/Jj4QihU3xD+3/2O4BRfaP1y76wZu2vM/XRKcLownwD8fbH2QMhQiP1F63B5TD/U/cipPh+T88T/+H8MtuFDZP6zRDyCqv+o/hGh4f7u57j8sW+3HiXkAQPfKVvtxYvg/MJiNM7YMAEBoke18PzUBQA==",
             "dtype": "f8"
            },
            "coloraxis": "coloraxis",
            "size": {
             "bdata": "AAAAAAAAAAAAAAAAAAAAAAAAAAAAAAAAAAAAAAAAAAAAAAAAAAAAAAAAAAAAAAAAAAAAAAAAAAAAAAAAAAAAAAAAAAAAAAAAAAAAAAAAAAAAAAAAAAAAAAAAAAAAAAAAAAAAAAAAAAAAAAAAAAAAAAAAAAAAAAAAAAAAAAAAAAAAAAAAAAAAAAAAAAAAAAAAAAAAAAAAAAAAAAAAAAAAAAAAAAAAAAAAAAAAAAAAAAAAAAAAAAAAAAAAAAAAAAAAAAAAAAAAAAAAAAAAAAAAAAAAAAAAAAAAAAAAAAAAAAAAAAAAAAAAAAAAAAAAAAAAAAAAAAAAAAAAAAAAAAAAAAAAAAAAAAAAAAAAAAAAAAAAAAAAAAAAAAAAAAAAAAAAAAAAAAAAAAAAAAAAAAAAAAAAAAAAAAAAAAAAAAAAAAAAAAAAAAAAAAAAAAAAAAAALiK82EseKz8fbH2QMhQSPwAAAAAAAAAAAAAAAAAAAAAAAAAAAAAAAAAAAAAAAAAAAAAAAAAAAAAAAAAAAAAAAAAAAAAAAAAAAAAAAAAAAABsyNp2pTG5P4/hFlyoMLc/E1eXuVzHsT+AVwEl1KRSPyfHnDQ/mTY/gWNnCGHShT9NwBXsiUeTPwAAAAAAAAAAAAAAAAAAAAAAAAAAAAAAAAAAAAAAAAAAAAAAAAAAAAAuIrzYSx4bPyfHnDQ/mSY/AAAAAAAAAADadqUxWamiP/ZHfcIOl50/isrsj/qEjT8AAAAAAAAAAC4ivNhLHis/AAAAAAAAAAAAAAAAAAAAAAAAAAAAAAAAJ8ecND+Zdj8AAAAAAAAAACfHnDQ/mSY/H2x9kDIUIj82fdt8WKMvPwAAAAAAAAAAAAAAAAAAAABR5EeWMNBcP1T8E11KK8M/GARWDi2ynT8YgXzVyebUP5xBR3cPnbA/AAAAAAAAAAA3JYlazqa2P6cL4wlUyrc/SH3CDpcdlT8fbH2QMhQCPwAAAAAAAAAAvrLVfpyYtz9BKFbcUC/CP6p0rIbF2zg/fSAUK26opz9nt2McvhzRP/2WNoOO7uY/sfVBylBI2D99OYLs87LyPwQRd1rnFKg/AAAAAAAAAAAAAAAAAAAAAAAAAAAAAAAAy1b7cWLe0z/IV51szo3wP4jk/EvsPs0/Jj4QihU3xD+3/2O4BRfaP1y76wZu2vM/XRKcLownwD8fbH2QMhQiP1F63B5TD/U/cipPh+T88T/+H8MtuFDZP6zRDyCqv+o/hGh4f7u57j8sW+3HiXkAQPfKVvtxYvg/MJiNM7YMAEBoke18PzUBQA==",
             "dtype": "f8"
            },
            "sizemode": "area",
            "sizeref": 0.006043951612903227
           },
           "mode": "markers",
           "name": "",
           "showlegend": false,
           "subplot": "map",
           "type": "scattermap"
          }
         ],
         "name": "2024-02"
        },
        {
         "data": [
          {
           "hovertemplate": "month=2024-03<br>HTEURNEIGE_Q=%{marker.color}<br>lat=%{lat}<br>lon=%{lon}<extra></extra>",
           "lat": {
            "bdata": "GNilFLSrRkCtqV0k6bRGQOjesz0evkZAm+q6X1PHRkD/GkaOZ6tGQABCMISctEZAAFKvg9G9RkDuttWLBsdGQG43+PgXq0ZAYvcM1Ey0RkAzxay4gb1GQKMF6qW2xkZATM7WmuvPRkC6Xg2gkKFGQB/o1lTFqkZAO5cOFPqzRkCvGMfcLr1GQMLJEq5jxkZAk7gDh5jPRkA/pKtmzdhGQAj9G0wC4kZAFh4O/dGORkBVnm99BphGQJR3Dgo7oUZA7u39oW+qRkDb9VBEpLNGQEI0GvDYvEZAt/5rpA3GRkCOW1hgQs9GQA0C8SJ32EZAllpH66vhRkACIx2VeY5GQJY+s/etl0ZAyc57ZuKgRkDfD4rgFqpGQGPu8GRLs0ZAUAfD8n+8RkApqBKJtMVGQEHP8SbpzkZAwStyyx3YRkDqHaV1UuFGQC+3mySH6kZA3hrDIR6ORkBDg4dlUpdGQJMcc7WGoEZA6RqZELupRkCoYgx277JGQI+I3+QjvEZA39EkXFjFRkCQNO7ajM5GQHNXTWDB10ZAWZJT6/XgRkCa1fWe72hGQIoROokjckZA8ApKg1d7RkBzLjqMi4RGQEmYHqO/jUZASRQLx/OWRkA2HhP3J6BGQMzhSTJcqUZA+TrCd5CyRkD6tY7GxLtGQIiPwR35xEZABbVsfC3ORkDuQieYjmhGQFMivWHCcUZALd8SO/Z6RkCi3TwjKoRGQGoxTxlejUZA1Z1dHJKWRkD9lXsrxp9GQAM9vEX6qEZAEmYyai6yRkCslPCXYrtGQLb8CM6WxEZAEOke8/ZeRkD75WKKKmhGQBPWRTJecUZAimXc6ZF6RkDX7zqwxYNGQOV/dYT5jEZAMtCfZS2WRkAHS81SYZ9GQIUKEUuVqEZA7dh9TcmxRkAD2jABkF5GQPr+yXXDZ0ZABYT1+vZwRkBkDMiPKnpGQJ7qVTNeg0ZAkyCz5JGMRkCzX/OixZVGQBcJKm35nkZAui1qQi2oRkCgjsYhYbFGQHTOflpZZ0ZAZ4Tuu4xwRkDWQ/gswHlGQAFWsKzzgkZAf7MqOieMRkBuBHvUWpVGQICgtHqOnkZAQo/qK8KnRkAuiC/n9bBGQNbylaspukZAbzBUdR9wRkCIfZDBUnlGQDu8bRyGgkZAndv/hLmLRkArelr67JRGQPXlkHsgnkZAyhy2B1SnRkBjzNydh7BGQP7hSievb0ZAkiy1TeJ4RkC8qbKCFYJGQME+V8VIi0ZAtGfzRRawRkCK8/fRO29GQE7Fi9FueEZA87+BdcVuRkA2vTpN+HdGQA==",
            "dtype": "f8"
           },
           "legendgroup": "",
           "lon": {
            "bdata": "fdMnuEhZE0DmL32SnFwTQNK/OqTyXxNAogWY70pjE0AzeK7LucETQMUBOFowxRNA6VQ7N6nIE0DN9QZlJMwTQPY8B5MoKhRAbH9508EtFEB2EnR5XTEUQPp2XIf7NBRAimCb/5s4FEAaU1yB244UQDZ+OveUkhRA+yYz51CWFED0eb9TD5oUQGbvWz/QnRRA01CIrJOhFEB/vsedWaUUQAi1oBUiqRRAQ1VZZnLvFECNhd5XSfMUQPaUWdUi9xRAgsBT4f76FED8o1l+3f4UQI0/+66+AhVAYP3LdaIGFUBWt2LViAoVQMC8WdBxDhVAKthOaV0SFUB4EihJclcVQH/upKBrWxVAiz3YmmdfFUCxzmE6ZmMVQKzt5IFnZxVAoWgIdGtrFUDtlXYTcm8VQBda3WJ7cxVAtS3uZId3FUBqI14clnsVQPDt5YunfxVA4jrdi2+/FUBga7VGi8MVQO0rAbupxxVA8td268rLFUBNZdDa7s8VQENqy4sV1BVAiSMpAT/YFUBTeq49a9wVQIkKJESa4BVA2ihWF8zkFUD/UhGUjRYWQNnzlIrAGhZA4N02RvYeFkACT7XJLiMWQCwl0hdqJxZALuRSM6grFkDNuwAf6S8WQN2NqN0sNBZAXfQacnM4FkCpRyzfvDwWQLSktCcJQRZATvOPTlhFFkDGxoG8/H0WQEAk7LZRghZAt8XRjKmGFkBw9AZBBIsWQJS2Y9ZhjxZAWtXDT8KTFkBG4wawJZgWQGlCEPqLnBZAwSrHMPWgFkCEsBZXYaUWQJvK7W/QqRZAUJ61//TgFkDQGUgMaeUWQHCiyAfg6RZAIrMd9VnuFkBWmjHX1vIWQEiA8rBW9xZAXm1Shdn7FkCVUEdXXwAXQOwFyynoBBdA+Fzb/3MJF0D6Vp54PEgXQFL1IG3STBdANS/RZmtRF0DFYatoB1YXQEzar3WmWhdAvdzikEhfF0BFqky97WMXQN6H+f2VaBdA8sT5VUFtF0AkwmHI73EXQLbPzMg4tBdA116wvfO4F0AXZw/Rsb0XQBYuAAZzwhdA+wydXzfHF0AZdwTh/ssXQMYAWY3J0BdAKGbBZ5fVF0AlkmhzaNoXQEGlfbM83xdAwbUU9nggGEAnT+IXWSUYQKUMpXE8KhhAzlWNBiMvGEBWyc/ZDDQYQBxEpe75OBhAGOhKSOo9GECDIwLq3UIYQCTFsPn6hxhAibnAJv2MGEAgByWiApIYQP8cJG8LlxhAcwlFFVCrGECRRzuyee8YQAN2S+ed9BhAfj1vCfVWGUBEoSdDO1wZQA==",
            "dtype": "f8"
           },
           "marker": {
            "color": {
             "bdata": "HUQzqJrpED8r5kz8Z14ZPx1EM6ia6SA/K+ZM/GdeGT8r5kz8Z14ZPx1EM6ia6SA/HUQzqJrpID8r5kz8Z14ZPyvmTPxnXhk/JBVAUgEkJT8dRDOomukgPx1EM6ia6SA/HUQzqJrpID8kFUBSASQlPx1EM6ia6SA/JBVAUgEkJT8kFUBSASQlPyQVQFIBJCU/K+ZM/GdeGT8r5kz8Z14ZPyvmTPxnXhk/AAAAAAAAAAAkFUBSASQlPyvmTPxnXik/HUQzqJrpID8kFUBSASQlPyvmTPxnXik/JBVAUgEkJT8r5kz8Z14ZPx1EM6ia6SA/K+ZM/GdeGT8dRDOomukQPx1EM6ia6RA/K+ZM/GdeKT8kFUBSASQlPyQVQFIBJCU/K+ZM/GdeKT8kFUBSASQlPx1EM6ia6SA/K+ZM/GdeGT8dRDOomukgPx1EM6ia6SA//Knx0k1iYD/Z5CjnJwxoPx1EM6ia6SA/JBVAUgEkJT8kFUBSASQlPyvmTPxnXik/JBVAUgEkJT8dRDOomukgPyvmTPxnXhk/K+ZM/GdeGT+YhEMWBTG+P2gyt1mmzrg/drctRKgPsT+CER0Y0YGBP5HfmJInw2I/0hMcPcHRgz8dRDOomumQPwAAAAAAAAAAJBVAUgEkJT8r5kz8Z14pPyQVQFIBJCU/K+ZM/GdeGT8+3nR953BRP5WFHia1Ll8/HUQzqJrpMD+2S8Ihi4KYP9Xm3gaIB5o/fudwEaiwaj8dRDOomukAP/OB++uEjIs/K+ZM/GdeKT8r5kz8Z14pPwAAAAAAAAAAh+ME0ue5hj8zt1mmzpgtP6d9Rqc0QVc/ZUnD/JoyVj8kFUBSASRFPwAAAAAAAAAAAAAAAAAAAACuTlNRm3tbPzX4EVDszcE/TICO0bTliT9yd1CqOtjdP3NSYFo42bg/p31GpzRBNz8U0zcxfROzP4T6EHXcHbQ/X0xULKsriT+hrDn9zQZDPwAAAAAAAAAA6Txim/CCtj/aStHgR0DBP0yAjtG05Wk/msX7vyJmoj+rzOL9XxHTP+dpn9EpTeg/5dAi2/l+2j95dL96Kt/0P+OeKe6Z4p4/M7dZps6YLT8r5kz8Z14ZP6d9Rqc0QTc/IyT/Dr+81T+haqZDANTxPz0vx/NyPM8/b2L6JqZvwj/i4LynZxXcP8nrJVb4+/Q/fJf5qszivT8+3nR953BRP2O/BcMo/fY/8wUiXyDy8z98Be+KI+LbP7eFCPUh6uw/q/+2+m+r7z+P9cklbCkCQKu2sWobq/o/R3vSGo4TAkBYSHOFNFcDQA==",
             "dtype": "f8"
            },
            "coloraxis": "coloraxis",
            "size": {
             "bdata": "HUQzqJrpED8r5kz8Z14ZPx1EM6ia6SA/K+ZM/GdeGT8r5kz8Z14ZPx1EM6ia6SA/HUQzqJrpID8r5kz8Z14ZPyvmTPxnXhk/JBVAUgEkJT8dRDOomukgPx1EM6ia6SA/HUQzqJrpID8kFUBSASQlPx1EM6ia6SA/JBVAUgEkJT8kFUBSASQlPyQVQFIBJCU/K+ZM/GdeGT8r5kz8Z14ZPyvmTPxnXhk/AAAAAAAAAAAkFUBSASQlPyvmTPxnXik/HUQzqJrpID8kFUBSASQlPyvmTPxnXik/JBVAUgEkJT8r5kz8Z14ZPx1EM6ia6SA/K+ZM/GdeGT8dRDOomukQPx1EM6ia6RA/K+ZM/GdeKT8kFUBSASQlPyQVQFIBJCU/K+ZM/GdeKT8kFUBSASQlPx1EM6ia6SA/K+ZM/GdeGT8dRDOomukgPx1EM6ia6SA//Knx0k1iYD/Z5CjnJwxoPx1EM6ia6SA/JBVAUgEkJT8kFUBSASQlPyvmTPxnXik/JBVAUgEkJT8dRDOomukgPyvmTPxnXhk/K+ZM/GdeGT+YhEMWBTG+P2gyt1mmzrg/drctRKgPsT+CER0Y0YGBP5HfmJInw2I/0hMcPcHRgz8dRDOomumQPwAAAAAAAAAAJBVAUgEkJT8r5kz8Z14pPyQVQFIBJCU/K+ZM/GdeGT8+3nR953BRP5WFHia1Ll8/HUQzqJrpMD+2S8Ihi4KYP9Xm3gaIB5o/fudwEaiwaj8dRDOomukAP/OB++uEjIs/K+ZM/GdeKT8r5kz8Z14pPwAAAAAAAAAAh+ME0ue5hj8zt1mmzpgtP6d9Rqc0QVc/ZUnD/JoyVj8kFUBSASRFPwAAAAAAAAAAAAAAAAAAAACuTlNRm3tbPzX4EVDszcE/TICO0bTliT9yd1CqOtjdP3NSYFo42bg/p31GpzRBNz8U0zcxfROzP4T6EHXcHbQ/X0xULKsriT+hrDn9zQZDPwAAAAAAAAAA6Txim/CCtj/aStHgR0DBP0yAjtG05Wk/msX7vyJmoj+rzOL9XxHTP+dpn9EpTeg/5dAi2/l+2j95dL96Kt/0P+OeKe6Z4p4/M7dZps6YLT8r5kz8Z14ZP6d9Rqc0QTc/IyT/Dr+81T+haqZDANTxPz0vx/NyPM8/b2L6JqZvwj/i4LynZxXcP8nrJVb4+/Q/fJf5qszivT8+3nR953BRP2O/BcMo/fY/8wUiXyDy8z98Be+KI+LbP7eFCPUh6uw/q/+2+m+r7z+P9cklbCkCQKu2sWobq/o/R3vSGo4TAkBYSHOFNFcDQA==",
             "dtype": "f8"
            },
            "sizemode": "area",
            "sizeref": 0.006043951612903227
           },
           "mode": "markers",
           "name": "",
           "showlegend": false,
           "subplot": "map",
           "type": "scattermap"
          }
         ],
         "name": "2024-03"
        },
        {
         "data": [
          {
           "hovertemplate": "month=2024-04<br>HTEURNEIGE_Q=%{marker.color}<br>lat=%{lat}<br>lon=%{lon}<extra></extra>",
           "lat": {
            "bdata": "GNilFLSrRkCtqV0k6bRGQOjesz0evkZAm+q6X1PHRkD/GkaOZ6tGQABCMISctEZAAFKvg9G9RkDuttWLBsdGQG43+PgXq0ZAYvcM1Ey0RkAzxay4gb1GQKMF6qW2xkZATM7WmuvPRkC6Xg2gkKFGQB/o1lTFqkZAO5cOFPqzRkCvGMfcLr1GQMLJEq5jxkZAk7gDh5jPRkA/pKtmzdhGQAj9G0wC4kZAFh4O/dGORkBVnm99BphGQJR3Dgo7oUZA7u39oW+qRkDb9VBEpLNGQEI0GvDYvEZAt/5rpA3GRkCOW1hgQs9GQA0C8SJ32EZAllpH66vhRkACIx2VeY5GQJY+s/etl0ZAyc57ZuKgRkDfD4rgFqpGQGPu8GRLs0ZAUAfD8n+8RkApqBKJtMVGQEHP8SbpzkZAwStyyx3YRkDqHaV1UuFGQC+3mySH6kZA3hrDIR6ORkBDg4dlUpdGQJMcc7WGoEZA6RqZELupRkCoYgx277JGQI+I3+QjvEZA39EkXFjFRkCQNO7ajM5GQHNXTWDB10ZAWZJT6/XgRkCa1fWe72hGQIoROokjckZA8ApKg1d7RkBzLjqMi4RGQEmYHqO/jUZASRQLx/OWRkA2HhP3J6BGQMzhSTJcqUZA+TrCd5CyRkD6tY7GxLtGQIiPwR35xEZABbVsfC3ORkDuQieYjmhGQFMivWHCcUZALd8SO/Z6RkCi3TwjKoRGQGoxTxlejUZA1Z1dHJKWRkD9lXsrxp9GQAM9vEX6qEZAEmYyai6yRkCslPCXYrtGQLb8CM6WxEZAEOke8/ZeRkD75WKKKmhGQBPWRTJecUZAimXc6ZF6RkDX7zqwxYNGQOV/dYT5jEZAMtCfZS2WRkAHS81SYZ9GQIUKEUuVqEZA7dh9TcmxRkAD2jABkF5GQPr+yXXDZ0ZABYT1+vZwRkBkDMiPKnpGQJ7qVTNeg0ZAkyCz5JGMRkCzX/OixZVGQBcJKm35nkZAui1qQi2oRkCgjsYhYbFGQHTOflpZZ0ZAZ4Tuu4xwRkDWQ/gswHlGQAFWsKzzgkZAf7MqOieMRkBuBHvUWpVGQICgtHqOnkZAQo/qK8KnRkAuiC/n9bBGQNbylaspukZAbzBUdR9wRkCIfZDBUnlGQDu8bRyGgkZAndv/hLmLRkArelr67JRGQPXlkHsgnkZAyhy2B1SnRkBjzNydh7BGQP7hSievb0ZAkiy1TeJ4RkC8qbKCFYJGQME+V8VIi0ZAtGfzRRawRkCK8/fRO29GQE7Fi9FueEZA87+BdcVuRkA2vTpN+HdGQA==",
            "dtype": "f8"
           },
           "legendgroup": "",
           "lon": {
            "bdata": "fdMnuEhZE0DmL32SnFwTQNK/OqTyXxNAogWY70pjE0AzeK7LucETQMUBOFowxRNA6VQ7N6nIE0DN9QZlJMwTQPY8B5MoKhRAbH9508EtFEB2EnR5XTEUQPp2XIf7NBRAimCb/5s4FEAaU1yB244UQDZ+OveUkhRA+yYz51CWFED0eb9TD5oUQGbvWz/QnRRA01CIrJOhFEB/vsedWaUUQAi1oBUiqRRAQ1VZZnLvFECNhd5XSfMUQPaUWdUi9xRAgsBT4f76FED8o1l+3f4UQI0/+66+AhVAYP3LdaIGFUBWt2LViAoVQMC8WdBxDhVAKthOaV0SFUB4EihJclcVQH/upKBrWxVAiz3YmmdfFUCxzmE6ZmMVQKzt5IFnZxVAoWgIdGtrFUDtlXYTcm8VQBda3WJ7cxVAtS3uZId3FUBqI14clnsVQPDt5YunfxVA4jrdi2+/FUBga7VGi8MVQO0rAbupxxVA8td268rLFUBNZdDa7s8VQENqy4sV1BVAiSMpAT/YFUBTeq49a9wVQIkKJESa4BVA2ihWF8zkFUD/UhGUjRYWQNnzlIrAGhZA4N02RvYeFkACT7XJLiMWQCwl0hdqJxZALuRSM6grFkDNuwAf6S8WQN2NqN0sNBZAXfQacnM4FkCpRyzfvDwWQLSktCcJQRZATvOPTlhFFkDGxoG8/H0WQEAk7LZRghZAt8XRjKmGFkBw9AZBBIsWQJS2Y9ZhjxZAWtXDT8KTFkBG4wawJZgWQGlCEPqLnBZAwSrHMPWgFkCEsBZXYaUWQJvK7W/QqRZAUJ61//TgFkDQGUgMaeUWQHCiyAfg6RZAIrMd9VnuFkBWmjHX1vIWQEiA8rBW9xZAXm1Shdn7FkCVUEdXXwAXQOwFyynoBBdA+Fzb/3MJF0D6Vp54PEgXQFL1IG3STBdANS/RZmtRF0DFYatoB1YXQEzar3WmWhdAvdzikEhfF0BFqky97WMXQN6H+f2VaBdA8sT5VUFtF0AkwmHI73EXQLbPzMg4tBdA116wvfO4F0AXZw/Rsb0XQBYuAAZzwhdA+wydXzfHF0AZdwTh/ssXQMYAWY3J0BdAKGbBZ5fVF0AlkmhzaNoXQEGlfbM83xdAwbUU9nggGEAnT+IXWSUYQKUMpXE8KhhAzlWNBiMvGEBWyc/ZDDQYQBxEpe75OBhAGOhKSOo9GECDIwLq3UIYQCTFsPn6hxhAibnAJv2MGEAgByWiApIYQP8cJG8LlxhAcwlFFVCrGECRRzuyee8YQAN2S+ed9BhAfj1vCfVWGUBEoSdDO1wZQA==",
            "dtype": "f8"
           },
           "marker": {
            "color": {
             "bdata": "AAAAAAAAAAAAAAAAAAAAAAAAAAAAAAAAAAAAAAAAAAAAAAAAAAAAAAAAAAAAAAAAAAAAAAAAAAAAAAAAAAAAAAAAAAAAAAAAAAAAAAAAAAAAAAAAAAAAAAAAAAAAAAAAAAAAAAAAAAAAAAAAAAAAAAAAAAAAAAAAAAAAAAAAAAAAAAAAAAAAAAAAAAAAAAAAAAAAAAAAAAAAAAAAAAAAAAAAAAAAAAAAAAAAAAAAAAAAAAAAAAAAAAAAAAAAAAAAAAAAAAAAAAAAAAAAAAAAAAAAAAAAAAAAAAAAAAAAAAAAAAAAAAAAAAAAAAAAAAAAAAAAAAAAAAAAAAAAAAAAAAAAAAAAAAAAAAAAAAAAAAAAAAAAAAAAAAAAAAAAAAAAAAAAAAAAAAAAAAAAAAAAAAAAAAAAAAAAAAAAAAAAAAAAAAAAAAAAAAAAAAAAAAAA/Knx0k1iYD/8qfHSTWJQPwAAAAAAAAAAAAAAAAAAAAAAAAAAAAAAAAAAAAAAAAAAAAAAAAAAAAAAAAAAAAAAAAAAAAAAAAAAAAAAAAAAAACkcD0K16OgP9OXuGjbQ5U/7Q2+MJkqiD92mXRu7Vd0P0BaiWaLkWI/RNXCP3+0cj8meDBP1L9hPwAAAAAAAAAAAAAAAAAAAAAAAAAAAAAAAAAAAAAAAAAAAAAAAAAAAAAegr2c7HkRPx6CvZzseRE/AAAAAAAAAABx87N+IGZcPwAlK6xBhXA/LUMc6+I2Sj8AAAAAAAAAALbO0ig3ZFY/AAAAAAAAAAAAAAAAAAAAAAAAAAAAAAAAYjJVMCqpMz8AAAAAAAAAAB6CvZzseRE/HoK9nOx5ET8egr2c7HkxPwAAAAAAAAAAAAAAAAAAAAC2ztIoN2RmPxB6Nqs+V6s/7Q2+MJkqeD+9dJMYBFbOPy9uowG8BZI/AAAAAAAAAAC1OiZ4ME+UP72ZvsRF254/x7q4jQbwVj8tQxzr4jYqPwAAAAAAAAAAPCmm5Rp5oz+t1THBg3myP6Xi7MNn2CU/WTzifUJjcz+l4uzDZ9jFPwXt6JKEV+M/t68D54wo0T/bQKcNdNrxP2AHzhlR2ms/HoK9nOx5ET8AAAAAAAAAAB6CvZzseSE/ZtK5tV9RzD9gLyd7XgTsP2SCB/NE/cM/l5M9LwJQsj82hhOrGSzTP/Cq9AADLvE/dXEbDeAtoD9x87N+IGY8P4V//mglmvI/M32Ji7Y98D9D0pSKsw/TP98qYussjeY/3wU3P+sH6j8qFWcfPsP/Pymjt2WtjvY/2vMiACUrAUBhnqh/I5QCQA==",
             "dtype": "f8"
            },
            "coloraxis": "coloraxis",
            "size": {
             "bdata": "AAAAAAAAAAAAAAAAAAAAAAAAAAAAAAAAAAAAAAAAAAAAAAAAAAAAAAAAAAAAAAAAAAAAAAAAAAAAAAAAAAAAAAAAAAAAAAAAAAAAAAAAAAAAAAAAAAAAAAAAAAAAAAAAAAAAAAAAAAAAAAAAAAAAAAAAAAAAAAAAAAAAAAAAAAAAAAAAAAAAAAAAAAAAAAAAAAAAAAAAAAAAAAAAAAAAAAAAAAAAAAAAAAAAAAAAAAAAAAAAAAAAAAAAAAAAAAAAAAAAAAAAAAAAAAAAAAAAAAAAAAAAAAAAAAAAAAAAAAAAAAAAAAAAAAAAAAAAAAAAAAAAAAAAAAAAAAAAAAAAAAAAAAAAAAAAAAAAAAAAAAAAAAAAAAAAAAAAAAAAAAAAAAAAAAAAAAAAAAAAAAAAAAAAAAAAAAAAAAAAAAAAAAAAAAAAAAAAAAAAAAAAAAAA/Knx0k1iYD/8qfHSTWJQPwAAAAAAAAAAAAAAAAAAAAAAAAAAAAAAAAAAAAAAAAAAAAAAAAAAAAAAAAAAAAAAAAAAAAAAAAAAAAAAAAAAAACkcD0K16OgP9OXuGjbQ5U/7Q2+MJkqiD92mXRu7Vd0P0BaiWaLkWI/RNXCP3+0cj8meDBP1L9hPwAAAAAAAAAAAAAAAAAAAAAAAAAAAAAAAAAAAAAAAAAAAAAAAAAAAAAegr2c7HkRPx6CvZzseRE/AAAAAAAAAABx87N+IGZcPwAlK6xBhXA/LUMc6+I2Sj8AAAAAAAAAALbO0ig3ZFY/AAAAAAAAAAAAAAAAAAAAAAAAAAAAAAAAYjJVMCqpMz8AAAAAAAAAAB6CvZzseRE/HoK9nOx5ET8egr2c7HkxPwAAAAAAAAAAAAAAAAAAAAC2ztIoN2RmPxB6Nqs+V6s/7Q2+MJkqeD+9dJMYBFbOPy9uowG8BZI/AAAAAAAAAAC1OiZ4ME+UP72ZvsRF254/x7q4jQbwVj8tQxzr4jYqPwAAAAAAAAAAPCmm5Rp5oz+t1THBg3myP6Xi7MNn2CU/WTzifUJjcz+l4uzDZ9jFPwXt6JKEV+M/t68D54wo0T/bQKcNdNrxP2AHzhlR2ms/HoK9nOx5ET8AAAAAAAAAAB6CvZzseSE/ZtK5tV9RzD9gLyd7XgTsP2SCB/NE/cM/l5M9LwJQsj82hhOrGSzTP/Cq9AADLvE/dXEbDeAtoD9x87N+IGY8P4V//mglmvI/M32Ji7Y98D9D0pSKsw/TP98qYussjeY/3wU3P+sH6j8qFWcfPsP/Pymjt2WtjvY/2vMiACUrAUBhnqh/I5QCQA==",
             "dtype": "f8"
            },
            "sizemode": "area",
            "sizeref": 0.006043951612903227
           },
           "mode": "markers",
           "name": "",
           "showlegend": false,
           "subplot": "map",
           "type": "scattermap"
          }
         ],
         "name": "2024-04"
        },
        {
         "data": [
          {
           "hovertemplate": "month=2024-05<br>HTEURNEIGE_Q=%{marker.color}<br>lat=%{lat}<br>lon=%{lon}<extra></extra>",
           "lat": {
            "bdata": "GNilFLSrRkCtqV0k6bRGQOjesz0evkZAm+q6X1PHRkD/GkaOZ6tGQABCMISctEZAAFKvg9G9RkDuttWLBsdGQG43+PgXq0ZAYvcM1Ey0RkAzxay4gb1GQKMF6qW2xkZATM7WmuvPRkC6Xg2gkKFGQB/o1lTFqkZAO5cOFPqzRkCvGMfcLr1GQMLJEq5jxkZAk7gDh5jPRkA/pKtmzdhGQAj9G0wC4kZAFh4O/dGORkBVnm99BphGQJR3Dgo7oUZA7u39oW+qRkDb9VBEpLNGQEI0GvDYvEZAt/5rpA3GRkCOW1hgQs9GQA0C8SJ32EZAllpH66vhRkACIx2VeY5GQJY+s/etl0ZAyc57ZuKgRkDfD4rgFqpGQGPu8GRLs0ZAUAfD8n+8RkApqBKJtMVGQEHP8SbpzkZAwStyyx3YRkDqHaV1UuFGQC+3mySH6kZA3hrDIR6ORkBDg4dlUpdGQJMcc7WGoEZA6RqZELupRkCoYgx277JGQI+I3+QjvEZA39EkXFjFRkCQNO7ajM5GQHNXTWDB10ZAWZJT6/XgRkCa1fWe72hGQIoROokjckZA8ApKg1d7RkBzLjqMi4RGQEmYHqO/jUZASRQLx/OWRkA2HhP3J6BGQMzhSTJcqUZA+TrCd5CyRkD6tY7GxLtGQIiPwR35xEZABbVsfC3ORkDuQieYjmhGQFMivWHCcUZALd8SO/Z6RkCi3TwjKoRGQGoxTxlejUZA1Z1dHJKWRkD9lXsrxp9GQAM9vEX6qEZAEmYyai6yRkCslPCXYrtGQLb8CM6WxEZAEOke8/ZeRkD75WKKKmhGQBPWRTJecUZAimXc6ZF6RkDX7zqwxYNGQOV/dYT5jEZAMtCfZS2WRkAHS81SYZ9GQIUKEUuVqEZA7dh9TcmxRkAD2jABkF5GQPr+yXXDZ0ZABYT1+vZwRkBkDMiPKnpGQJ7qVTNeg0ZAkyCz5JGMRkCzX/OixZVGQBcJKm35nkZAui1qQi2oRkCgjsYhYbFGQHTOflpZZ0ZAZ4Tuu4xwRkDWQ/gswHlGQAFWsKzzgkZAf7MqOieMRkBuBHvUWpVGQICgtHqOnkZAQo/qK8KnRkAuiC/n9bBGQNbylaspukZAbzBUdR9wRkCIfZDBUnlGQDu8bRyGgkZAndv/hLmLRkArelr67JRGQPXlkHsgnkZAyhy2B1SnRkBjzNydh7BGQP7hSievb0ZAkiy1TeJ4RkC8qbKCFYJGQME+V8VIi0ZAtGfzRRawRkCK8/fRO29GQE7Fi9FueEZA87+BdcVuRkA2vTpN+HdGQA==",
            "dtype": "f8"
           },
           "legendgroup": "",
           "lon": {
            "bdata": "fdMnuEhZE0DmL32SnFwTQNK/OqTyXxNAogWY70pjE0AzeK7LucETQMUBOFowxRNA6VQ7N6nIE0DN9QZlJMwTQPY8B5MoKhRAbH9508EtFEB2EnR5XTEUQPp2XIf7NBRAimCb/5s4FEAaU1yB244UQDZ+OveUkhRA+yYz51CWFED0eb9TD5oUQGbvWz/QnRRA01CIrJOhFEB/vsedWaUUQAi1oBUiqRRAQ1VZZnLvFECNhd5XSfMUQPaUWdUi9xRAgsBT4f76FED8o1l+3f4UQI0/+66+AhVAYP3LdaIGFUBWt2LViAoVQMC8WdBxDhVAKthOaV0SFUB4EihJclcVQH/upKBrWxVAiz3YmmdfFUCxzmE6ZmMVQKzt5IFnZxVAoWgIdGtrFUDtlXYTcm8VQBda3WJ7cxVAtS3uZId3FUBqI14clnsVQPDt5YunfxVA4jrdi2+/FUBga7VGi8MVQO0rAbupxxVA8td268rLFUBNZdDa7s8VQENqy4sV1BVAiSMpAT/YFUBTeq49a9wVQIkKJESa4BVA2ihWF8zkFUD/UhGUjRYWQNnzlIrAGhZA4N02RvYeFkACT7XJLiMWQCwl0hdqJxZALuRSM6grFkDNuwAf6S8WQN2NqN0sNBZAXfQacnM4FkCpRyzfvDwWQLSktCcJQRZATvOPTlhFFkDGxoG8/H0WQEAk7LZRghZAt8XRjKmGFkBw9AZBBIsWQJS2Y9ZhjxZAWtXDT8KTFkBG4wawJZgWQGlCEPqLnBZAwSrHMPWgFkCEsBZXYaUWQJvK7W/QqRZAUJ61//TgFkDQGUgMaeUWQHCiyAfg6RZAIrMd9VnuFkBWmjHX1vIWQEiA8rBW9xZAXm1Shdn7FkCVUEdXXwAXQOwFyynoBBdA+Fzb/3MJF0D6Vp54PEgXQFL1IG3STBdANS/RZmtRF0DFYatoB1YXQEzar3WmWhdAvdzikEhfF0BFqky97WMXQN6H+f2VaBdA8sT5VUFtF0AkwmHI73EXQLbPzMg4tBdA116wvfO4F0AXZw/Rsb0XQBYuAAZzwhdA+wydXzfHF0AZdwTh/ssXQMYAWY3J0BdAKGbBZ5fVF0AlkmhzaNoXQEGlfbM83xdAwbUU9nggGEAnT+IXWSUYQKUMpXE8KhhAzlWNBiMvGEBWyc/ZDDQYQBxEpe75OBhAGOhKSOo9GECDIwLq3UIYQCTFsPn6hxhAibnAJv2MGEAgByWiApIYQP8cJG8LlxhAcwlFFVCrGECRRzuyee8YQAN2S+ed9BhAfj1vCfVWGUBEoSdDO1wZQA==",
            "dtype": "f8"
           },
           "marker": {
            "color": {
             "bdata": "AAAAAAAAAAAAAAAAAAAAAAAAAAAAAAAAAAAAAAAAAAAAAAAAAAAAAAAAAAAAAAAAAAAAAAAAAAAAAAAAAAAAAAAAAAAAAAAAAAAAAAAAAAAAAAAAAAAAAAAAAAAAAAAAAAAAAAAAAAAAAAAAAAAAAAAAAAAAAAAAAAAAAAAAAAAAAAAAAAAAAAAAAAAAAAAAAAAAAAAAAAAAAAAAAAAAAAAAAAAAAAAAAAAAAAAAAAAAAAAAAAAAAAAAAAAAAAAAAAAAAAAAAAAAAAAAAAAAAAAAAAAAAAAAAAAAAAAAAAAAAAAAAAAAAAAAAAAAAAAAAAAAAAAAAAAAAAAAAAAAAAAAAAAAAAAAAAAAAAAAAAAAAAAAAAAAAAAAAAAAAAAAAAAAAAAAAAAAAAAAAAAAAAAAAAAAAAAAAAAAAAAAAAAAAAAAAAAAAAAAAAAAAAAAHUQzqJrpED8AAAAAAAAAAAAAAAAAAAAAAAAAAAAAAAAAAAAAAAAAAAAAAAAAAAAAAAAAAAAAAAAAAAAAAAAAAAAAAAAAAAAAAAAAAAAAAACuTlNRm3tbP+LgvKdnFVQ/th9g+wG2Tz+uTlNRm3s7Px1EM6ia6RA/rk5TUZt7Oz8r5kz8Z14pPwAAAAAAAAAAAAAAAAAAAAAAAAAAAAAAAAAAAAAAAAAAAAAAAAAAAAAAAAAAAAAAAB1EM6ia6QA/AAAAAAAAAAAdRDOomukgP69OU1Gbezs/HUQzqJrpAD8AAAAAAAAAAAAAAAAAAAAAAAAAAAAAAAAAAAAAAAAAAAAAAAAAAAAAK+ZM/GdeGT8AAAAAAAAAAAAAAAAAAAAAAAAAAAAAAAAAAAAAAAAAAAAAAAAAAAAAAAAAAAAAAAAAAAAAAAAAAPup8dJNYlA/HUQzqJrpED+lfiG35D6oPzO3WabOmD0/AAAAAAAAAAAzt1mmzpg9P6GsOf3NBkM/HUQzqJrpID8AAAAAAAAAAAAAAAAAAAAAth9g+wG2Tz9DhPoQddxtPx1EM6ia6QA/HUQzqJrpMD+/XYd1D/KgP5tIRyMOztM/Rv/4jSl5sj94xRHxtarkPyQVQFIBJCU/AAAAAAAAAAAAAAAAAAAAAAAAAAAAAAAA7a8TMm5Upj/ouRY4BRvdP5PIjO8yX6U/8a44Ir5WhT80HQKg7sy2P84GE6BjNOU/th9g+wG2Pz8AAAAAAAAAAIbGYWgchuY/Sj/WJ5ew4T/gtTWRjka8P68TMm5UFto/06UmXWrS1T/uV0/lW7v2P5Kr6YVnK+0/001iEFg5+j99nmuBU7D9Pw==",
             "dtype": "f8"
            },
            "coloraxis": "coloraxis",
            "size": {
             "bdata": "AAAAAAAAAAAAAAAAAAAAAAAAAAAAAAAAAAAAAAAAAAAAAAAAAAAAAAAAAAAAAAAAAAAAAAAAAAAAAAAAAAAAAAAAAAAAAAAAAAAAAAAAAAAAAAAAAAAAAAAAAAAAAAAAAAAAAAAAAAAAAAAAAAAAAAAAAAAAAAAAAAAAAAAAAAAAAAAAAAAAAAAAAAAAAAAAAAAAAAAAAAAAAAAAAAAAAAAAAAAAAAAAAAAAAAAAAAAAAAAAAAAAAAAAAAAAAAAAAAAAAAAAAAAAAAAAAAAAAAAAAAAAAAAAAAAAAAAAAAAAAAAAAAAAAAAAAAAAAAAAAAAAAAAAAAAAAAAAAAAAAAAAAAAAAAAAAAAAAAAAAAAAAAAAAAAAAAAAAAAAAAAAAAAAAAAAAAAAAAAAAAAAAAAAAAAAAAAAAAAAAAAAAAAAAAAAAAAAAAAAAAAAAAAAHUQzqJrpED8AAAAAAAAAAAAAAAAAAAAAAAAAAAAAAAAAAAAAAAAAAAAAAAAAAAAAAAAAAAAAAAAAAAAAAAAAAAAAAAAAAAAAAAAAAAAAAACuTlNRm3tbP+LgvKdnFVQ/th9g+wG2Tz+uTlNRm3s7Px1EM6ia6RA/rk5TUZt7Oz8r5kz8Z14pPwAAAAAAAAAAAAAAAAAAAAAAAAAAAAAAAAAAAAAAAAAAAAAAAAAAAAAAAAAAAAAAAB1EM6ia6QA/AAAAAAAAAAAdRDOomukgP69OU1Gbezs/HUQzqJrpAD8AAAAAAAAAAAAAAAAAAAAAAAAAAAAAAAAAAAAAAAAAAAAAAAAAAAAAK+ZM/GdeGT8AAAAAAAAAAAAAAAAAAAAAAAAAAAAAAAAAAAAAAAAAAAAAAAAAAAAAAAAAAAAAAAAAAAAAAAAAAPup8dJNYlA/HUQzqJrpED+lfiG35D6oPzO3WabOmD0/AAAAAAAAAAAzt1mmzpg9P6GsOf3NBkM/HUQzqJrpID8AAAAAAAAAAAAAAAAAAAAAth9g+wG2Tz9DhPoQddxtPx1EM6ia6QA/HUQzqJrpMD+/XYd1D/KgP5tIRyMOztM/Rv/4jSl5sj94xRHxtarkPyQVQFIBJCU/AAAAAAAAAAAAAAAAAAAAAAAAAAAAAAAA7a8TMm5Upj/ouRY4BRvdP5PIjO8yX6U/8a44Ir5WhT80HQKg7sy2P84GE6BjNOU/th9g+wG2Pz8AAAAAAAAAAIbGYWgchuY/Sj/WJ5ew4T/gtTWRjka8P68TMm5UFto/06UmXWrS1T/uV0/lW7v2P5Kr6YVnK+0/001iEFg5+j99nmuBU7D9Pw==",
             "dtype": "f8"
            },
            "sizemode": "area",
            "sizeref": 0.006043951612903227
           },
           "mode": "markers",
           "name": "",
           "showlegend": false,
           "subplot": "map",
           "type": "scattermap"
          }
         ],
         "name": "2024-05"
        },
        {
         "data": [
          {
           "hovertemplate": "month=2024-06<br>HTEURNEIGE_Q=%{marker.color}<br>lat=%{lat}<br>lon=%{lon}<extra></extra>",
           "lat": {
            "bdata": "GNilFLSrRkCtqV0k6bRGQOjesz0evkZAm+q6X1PHRkD/GkaOZ6tGQABCMISctEZAAFKvg9G9RkDuttWLBsdGQG43+PgXq0ZAYvcM1Ey0RkAzxay4gb1GQKMF6qW2xkZATM7WmuvPRkC6Xg2gkKFGQB/o1lTFqkZAO5cOFPqzRkCvGMfcLr1GQMLJEq5jxkZAk7gDh5jPRkA/pKtmzdhGQAj9G0wC4kZAFh4O/dGORkBVnm99BphGQJR3Dgo7oUZA7u39oW+qRkDb9VBEpLNGQEI0GvDYvEZAt/5rpA3GRkCOW1hgQs9GQA0C8SJ32EZAllpH66vhRkACIx2VeY5GQJY+s/etl0ZAyc57ZuKgRkDfD4rgFqpGQGPu8GRLs0ZAUAfD8n+8RkApqBKJtMVGQEHP8SbpzkZAwStyyx3YRkDqHaV1UuFGQC+3mySH6kZA3hrDIR6ORkBDg4dlUpdGQJMcc7WGoEZA6RqZELupRkCoYgx277JGQI+I3+QjvEZA39EkXFjFRkCQNO7ajM5GQHNXTWDB10ZAWZJT6/XgRkCa1fWe72hGQIoROokjckZA8ApKg1d7RkBzLjqMi4RGQEmYHqO/jUZASRQLx/OWRkA2HhP3J6BGQMzhSTJcqUZA+TrCd5CyRkD6tY7GxLtGQIiPwR35xEZABbVsfC3ORkDuQieYjmhGQFMivWHCcUZALd8SO/Z6RkCi3TwjKoRGQGoxTxlejUZA1Z1dHJKWRkD9lXsrxp9GQAM9vEX6qEZAEmYyai6yRkCslPCXYrtGQLb8CM6WxEZAEOke8/ZeRkD75WKKKmhGQBPWRTJecUZAimXc6ZF6RkDX7zqwxYNGQOV/dYT5jEZAMtCfZS2WRkAHS81SYZ9GQIUKEUuVqEZA7dh9TcmxRkAD2jABkF5GQPr+yXXDZ0ZABYT1+vZwRkBkDMiPKnpGQJ7qVTNeg0ZAkyCz5JGMRkCzX/OixZVGQBcJKm35nkZAui1qQi2oRkCgjsYhYbFGQHTOflpZZ0ZAZ4Tuu4xwRkDWQ/gswHlGQAFWsKzzgkZAf7MqOieMRkBuBHvUWpVGQICgtHqOnkZAQo/qK8KnRkAuiC/n9bBGQNbylaspukZAbzBUdR9wRkCIfZDBUnlGQDu8bRyGgkZAndv/hLmLRkArelr67JRGQPXlkHsgnkZAyhy2B1SnRkBjzNydh7BGQP7hSievb0ZAkiy1TeJ4RkC8qbKCFYJGQME+V8VIi0ZAtGfzRRawRkCK8/fRO29GQE7Fi9FueEZA87+BdcVuRkA2vTpN+HdGQA==",
            "dtype": "f8"
           },
           "legendgroup": "",
           "lon": {
            "bdata": "fdMnuEhZE0DmL32SnFwTQNK/OqTyXxNAogWY70pjE0AzeK7LucETQMUBOFowxRNA6VQ7N6nIE0DN9QZlJMwTQPY8B5MoKhRAbH9508EtFEB2EnR5XTEUQPp2XIf7NBRAimCb/5s4FEAaU1yB244UQDZ+OveUkhRA+yYz51CWFED0eb9TD5oUQGbvWz/QnRRA01CIrJOhFEB/vsedWaUUQAi1oBUiqRRAQ1VZZnLvFECNhd5XSfMUQPaUWdUi9xRAgsBT4f76FED8o1l+3f4UQI0/+66+AhVAYP3LdaIGFUBWt2LViAoVQMC8WdBxDhVAKthOaV0SFUB4EihJclcVQH/upKBrWxVAiz3YmmdfFUCxzmE6ZmMVQKzt5IFnZxVAoWgIdGtrFUDtlXYTcm8VQBda3WJ7cxVAtS3uZId3FUBqI14clnsVQPDt5YunfxVA4jrdi2+/FUBga7VGi8MVQO0rAbupxxVA8td268rLFUBNZdDa7s8VQENqy4sV1BVAiSMpAT/YFUBTeq49a9wVQIkKJESa4BVA2ihWF8zkFUD/UhGUjRYWQNnzlIrAGhZA4N02RvYeFkACT7XJLiMWQCwl0hdqJxZALuRSM6grFkDNuwAf6S8WQN2NqN0sNBZAXfQacnM4FkCpRyzfvDwWQLSktCcJQRZATvOPTlhFFkDGxoG8/H0WQEAk7LZRghZAt8XRjKmGFkBw9AZBBIsWQJS2Y9ZhjxZAWtXDT8KTFkBG4wawJZgWQGlCEPqLnBZAwSrHMPWgFkCEsBZXYaUWQJvK7W/QqRZAUJ61//TgFkDQGUgMaeUWQHCiyAfg6RZAIrMd9VnuFkBWmjHX1vIWQEiA8rBW9xZAXm1Shdn7FkCVUEdXXwAXQOwFyynoBBdA+Fzb/3MJF0D6Vp54PEgXQFL1IG3STBdANS/RZmtRF0DFYatoB1YXQEzar3WmWhdAvdzikEhfF0BFqky97WMXQN6H+f2VaBdA8sT5VUFtF0AkwmHI73EXQLbPzMg4tBdA116wvfO4F0AXZw/Rsb0XQBYuAAZzwhdA+wydXzfHF0AZdwTh/ssXQMYAWY3J0BdAKGbBZ5fVF0AlkmhzaNoXQEGlfbM83xdAwbUU9nggGEAnT+IXWSUYQKUMpXE8KhhAzlWNBiMvGEBWyc/ZDDQYQBxEpe75OBhAGOhKSOo9GECDIwLq3UIYQCTFsPn6hxhAibnAJv2MGEAgByWiApIYQP8cJG8LlxhAcwlFFVCrGECRRzuyee8YQAN2S+ed9BhAfj1vCfVWGUBEoSdDO1wZQA==",
            "dtype": "f8"
           },
           "marker": {
            "color": {
             "bdata": "AAAAAAAAAAAAAAAAAAAAAAAAAAAAAAAAAAAAAAAAAAAAAAAAAAAAAAAAAAAAAAAAAAAAAAAAAAAAAAAAAAAAAAAAAAAAAAAAAAAAAAAAAAAAAAAAAAAAAAAAAAAAAAAAAAAAAAAAAAAAAAAAAAAAAAAAAAAAAAAAAAAAAAAAAAAAAAAAAAAAAAAAAAAAAAAAAAAAAAAAAAAAAAAAAAAAAAAAAAAAAAAAAAAAAAAAAAAAAAAAAAAAAAAAAAAAAAAAAAAAAAAAAAAAAAAAAAAAAAAAAAAAAAAAAAAAAAAAAAAAAAAAAAAAAAAAAAAAAAAAAAAAAAAAAAAAAAAAAAAAAAAAAAAAAAAAAAAAAAAAAAAAAAAAAAAAAAAAAAAAAAAAAAAAAAAAAAAAAAAAAAAAAAAAAAAAAAAAAAAAAAAAAAAAAAAAAAAAAAAAAAAAAAAAAAAAAAAAAAAAAAAAAAAAAAAAAAAAAAAAAAAAAAAAAAAAAAAAAAAAAAAAAAAAAAAAAAAAAAAAAAAAAAAAAAAAAAAAAAAAAAAAAAAAAAAAAAAAAAAAAAAAAAAAAAAAAAAAAAAAAAAAAAAAAAAAAAAAAAAAAAAAAAAAAAAAAAAAAAAAAAAAAAAAAAAAAAAAAAAAAAAAAAAAAAAAAAAAAAAAAAAAAAAAAAAAAAAAAAAAAAAAAAAAAAAAAAAAAAAAAAAAAAAAAAAAAAAAAAAAAAAAAAAAAAAAAAAAAAAAAAAAAAAAAAAAAAAAAAAAAAAAAAAAAAAAAAAAAAAAAAAAAAAAAAAAAAAAAAAAAAAAAAAAAAAAAAAAAAAAAAAAAAAAAAAAAAAAAAAAAAAAAAAAAAAAAAAAAAAAAAAAAAAAAAAAAAAAAAAAAAAAAAAAAAAAAAAAAAAAAAAAAAAAAAAAAAAAAAAAAAAAAAAAAAAAAAAAAAAAAAAAAAAAAAAAAAAAAAAAAAAAAAAAAAAAAAAAAAAAAAAAAAAAAAAAAAAAAAAAAAAAAAAAAAAAAAAAAAAAAAAAAAAAAAAAAAAAAAAAAAAAAFICdd1uXJk/AAAAAAAAAAAJG55eKcuwPwAAAAAAAAAAAAAAAAAAAAAAAAAAAAAAAAAAAAAAAAAAAAAAAAAAAACijwxMgd+ZPwAAAAAAAAAAAAAAAAAAAAAAAAAAAAAAAC8CULLCGrQ/AAAAAAAAAAAAAAAAAAAAANCzWfW52ro/jXJDZkE7qj8La1AhRB9JPyFmHBAO45s/4+/xHKS6gz/b+X5qvHTfP5KmVJx9+MQ/BhVC9JGB3T98YTJVMCrlPw==",
             "dtype": "f8"
            },
            "coloraxis": "coloraxis",
            "size": {
             "bdata": "AAAAAAAAAAAAAAAAAAAAAAAAAAAAAAAAAAAAAAAAAAAAAAAAAAAAAAAAAAAAAAAAAAAAAAAAAAAAAAAAAAAAAAAAAAAAAAAAAAAAAAAAAAAAAAAAAAAAAAAAAAAAAAAAAAAAAAAAAAAAAAAAAAAAAAAAAAAAAAAAAAAAAAAAAAAAAAAAAAAAAAAAAAAAAAAAAAAAAAAAAAAAAAAAAAAAAAAAAAAAAAAAAAAAAAAAAAAAAAAAAAAAAAAAAAAAAAAAAAAAAAAAAAAAAAAAAAAAAAAAAAAAAAAAAAAAAAAAAAAAAAAAAAAAAAAAAAAAAAAAAAAAAAAAAAAAAAAAAAAAAAAAAAAAAAAAAAAAAAAAAAAAAAAAAAAAAAAAAAAAAAAAAAAAAAAAAAAAAAAAAAAAAAAAAAAAAAAAAAAAAAAAAAAAAAAAAAAAAAAAAAAAAAAAAAAAAAAAAAAAAAAAAAAAAAAAAAAAAAAAAAAAAAAAAAAAAAAAAAAAAAAAAAAAAAAAAAAAAAAAAAAAAAAAAAAAAAAAAAAAAAAAAAAAAAAAAAAAAAAAAAAAAAAAAAAAAAAAAAAAAAAAAAAAAAAAAAAAAAAAAAAAAAAAAAAAAAAAAAAAAAAAAAAAAAAAAAAAAAAAAAAAAAAAAAAAAAAAAAAAAAAAAAAAAAAAAAAAAAAAAAAAAAAAAAAAAAAAAAAAAAAAAAAAAAAAAAAAAAAAAAAAAAAAAAAAAAAAAAAAAAAAAAAAAAAAAAAAAAAAAAAAAAAAAAAAAAAAAAAAAAAAAAAAAAAAAAAAAAAAAAAAAAAAAAAAAAAAAAAAAAAAAAAAAAAAAAAAAAAAAAAAAAAAAAAAAAAAAAAAAAAAAAAAAAAAAAAAAAAAAAAAAAAAAAAAAAAAAAAAAAAAAAAAAAAAAAAAAAAAAAAAAAAAAAAAAAAAAAAAAAAAAAAAAAAAAAAAAAAAAAAAAAAAAAAAAAAAAAAAAAAAAAAAAAAAAAAAAAAAAAAAAAAAAAAAAAAAAAAAAAAAAAAAAAAAAAAAAAAAAAAAAFICdd1uXJk/AAAAAAAAAAAJG55eKcuwPwAAAAAAAAAAAAAAAAAAAAAAAAAAAAAAAAAAAAAAAAAAAAAAAAAAAACijwxMgd+ZPwAAAAAAAAAAAAAAAAAAAAAAAAAAAAAAAC8CULLCGrQ/AAAAAAAAAAAAAAAAAAAAANCzWfW52ro/jXJDZkE7qj8La1AhRB9JPyFmHBAO45s/4+/xHKS6gz/b+X5qvHTfP5KmVJx9+MQ/BhVC9JGB3T98YTJVMCrlPw==",
             "dtype": "f8"
            },
            "sizemode": "area",
            "sizeref": 0.006043951612903227
           },
           "mode": "markers",
           "name": "",
           "showlegend": false,
           "subplot": "map",
           "type": "scattermap"
          }
         ],
         "name": "2024-06"
        },
        {
         "data": [
          {
           "hovertemplate": "month=2024-07<br>HTEURNEIGE_Q=%{marker.color}<br>lat=%{lat}<br>lon=%{lon}<extra></extra>",
           "lat": {
            "bdata": "GNilFLSrRkCtqV0k6bRGQOjesz0evkZAm+q6X1PHRkD/GkaOZ6tGQABCMISctEZAAFKvg9G9RkDuttWLBsdGQG43+PgXq0ZAYvcM1Ey0RkAzxay4gb1GQKMF6qW2xkZATM7WmuvPRkC6Xg2gkKFGQB/o1lTFqkZAO5cOFPqzRkCvGMfcLr1GQMLJEq5jxkZAk7gDh5jPRkA/pKtmzdhGQAj9G0wC4kZAFh4O/dGORkBVnm99BphGQJR3Dgo7oUZA7u39oW+qRkDb9VBEpLNGQEI0GvDYvEZAt/5rpA3GRkCOW1hgQs9GQA0C8SJ32EZAllpH66vhRkACIx2VeY5GQJY+s/etl0ZAyc57ZuKgRkDfD4rgFqpGQGPu8GRLs0ZAUAfD8n+8RkApqBKJtMVGQEHP8SbpzkZAwStyyx3YRkDqHaV1UuFGQC+3mySH6kZA3hrDIR6ORkBDg4dlUpdGQJMcc7WGoEZA6RqZELupRkCoYgx277JGQI+I3+QjvEZA39EkXFjFRkCQNO7ajM5GQHNXTWDB10ZAWZJT6/XgRkCa1fWe72hGQIoROokjckZA8ApKg1d7RkBzLjqMi4RGQEmYHqO/jUZASRQLx/OWRkA2HhP3J6BGQMzhSTJcqUZA+TrCd5CyRkD6tY7GxLtGQIiPwR35xEZABbVsfC3ORkDuQieYjmhGQFMivWHCcUZALd8SO/Z6RkCi3TwjKoRGQGoxTxlejUZA1Z1dHJKWRkD9lXsrxp9GQAM9vEX6qEZAEmYyai6yRkCslPCXYrtGQLb8CM6WxEZAEOke8/ZeRkD75WKKKmhGQBPWRTJecUZAimXc6ZF6RkDX7zqwxYNGQOV/dYT5jEZAMtCfZS2WRkAHS81SYZ9GQIUKEUuVqEZA7dh9TcmxRkAD2jABkF5GQPr+yXXDZ0ZABYT1+vZwRkBkDMiPKnpGQJ7qVTNeg0ZAkyCz5JGMRkCzX/OixZVGQBcJKm35nkZAui1qQi2oRkCgjsYhYbFGQHTOflpZZ0ZAZ4Tuu4xwRkDWQ/gswHlGQAFWsKzzgkZAf7MqOieMRkBuBHvUWpVGQICgtHqOnkZAQo/qK8KnRkAuiC/n9bBGQNbylaspukZAbzBUdR9wRkCIfZDBUnlGQDu8bRyGgkZAndv/hLmLRkArelr67JRGQPXlkHsgnkZAyhy2B1SnRkBjzNydh7BGQP7hSievb0ZAkiy1TeJ4RkC8qbKCFYJGQME+V8VIi0ZAtGfzRRawRkCK8/fRO29GQE7Fi9FueEZA87+BdcVuRkA2vTpN+HdGQA==",
            "dtype": "f8"
           },
           "legendgroup": "",
           "lon": {
            "bdata": "fdMnuEhZE0DmL32SnFwTQNK/OqTyXxNAogWY70pjE0AzeK7LucETQMUBOFowxRNA6VQ7N6nIE0DN9QZlJMwTQPY8B5MoKhRAbH9508EtFEB2EnR5XTEUQPp2XIf7NBRAimCb/5s4FEAaU1yB244UQDZ+OveUkhRA+yYz51CWFED0eb9TD5oUQGbvWz/QnRRA01CIrJOhFEB/vsedWaUUQAi1oBUiqRRAQ1VZZnLvFECNhd5XSfMUQPaUWdUi9xRAgsBT4f76FED8o1l+3f4UQI0/+66+AhVAYP3LdaIGFUBWt2LViAoVQMC8WdBxDhVAKthOaV0SFUB4EihJclcVQH/upKBrWxVAiz3YmmdfFUCxzmE6ZmMVQKzt5IFnZxVAoWgIdGtrFUDtlXYTcm8VQBda3WJ7cxVAtS3uZId3FUBqI14clnsVQPDt5YunfxVA4jrdi2+/FUBga7VGi8MVQO0rAbupxxVA8td268rLFUBNZdDa7s8VQENqy4sV1BVAiSMpAT/YFUBTeq49a9wVQIkKJESa4BVA2ihWF8zkFUD/UhGUjRYWQNnzlIrAGhZA4N02RvYeFkACT7XJLiMWQCwl0hdqJxZALuRSM6grFkDNuwAf6S8WQN2NqN0sNBZAXfQacnM4FkCpRyzfvDwWQLSktCcJQRZATvOPTlhFFkDGxoG8/H0WQEAk7LZRghZAt8XRjKmGFkBw9AZBBIsWQJS2Y9ZhjxZAWtXDT8KTFkBG4wawJZgWQGlCEPqLnBZAwSrHMPWgFkCEsBZXYaUWQJvK7W/QqRZAUJ61//TgFkDQGUgMaeUWQHCiyAfg6RZAIrMd9VnuFkBWmjHX1vIWQEiA8rBW9xZAXm1Shdn7FkCVUEdXXwAXQOwFyynoBBdA+Fzb/3MJF0D6Vp54PEgXQFL1IG3STBdANS/RZmtRF0DFYatoB1YXQEzar3WmWhdAvdzikEhfF0BFqky97WMXQN6H+f2VaBdA8sT5VUFtF0AkwmHI73EXQLbPzMg4tBdA116wvfO4F0AXZw/Rsb0XQBYuAAZzwhdA+wydXzfHF0AZdwTh/ssXQMYAWY3J0BdAKGbBZ5fVF0AlkmhzaNoXQEGlfbM83xdAwbUU9nggGEAnT+IXWSUYQKUMpXE8KhhAzlWNBiMvGEBWyc/ZDDQYQBxEpe75OBhAGOhKSOo9GECDIwLq3UIYQCTFsPn6hxhAibnAJv2MGEAgByWiApIYQP8cJG8LlxhAcwlFFVCrGECRRzuyee8YQAN2S+ed9BhAfj1vCfVWGUBEoSdDO1wZQA==",
            "dtype": "f8"
           },
           "marker": {
            "color": {
             "bdata": "AAAAAAAAAAAAAAAAAAAAAAAAAAAAAAAAAAAAAAAAAAAAAAAAAAAAAAAAAAAAAAAAAAAAAAAAAAAAAAAAAAAAAAAAAAAAAAAAAAAAAAAAAAAAAAAAAAAAAAAAAAAAAAAAAAAAAAAAAAAAAAAAAAAAAAAAAAAAAAAAAAAAAAAAAAAAAAAAAAAAAAAAAAAAAAAAAAAAAAAAAAAAAAAAAAAAAAAAAAAAAAAAAAAAAAAAAAAAAAAAAAAAAAAAAAAAAAAAAAAAAAAAAAAAAAAAAAAAAAAAAAAAAAAAAAAAAAAAAAAAAAAAAAAAAAAAAAAAAAAAAAAAAAAAAAAAAAAAAAAAAAAAAAAAAAAAAAAAAAAAAAAAAAAAAAAAAAAAAAAAAAAAAAAAAAAAAAAAAAAAAAAAAAAAAAAAAAAAAAAAAAAAAAAAAAAAAAAAAAAAAAAAAAAAAAAAAAAAAAAAAAAAAAAAAAAAAAAAAAAAAAAAAAAAAAAAAAAAAAAAAAAAAAAAAAAAAAAAAAAAAAAAAAAAAAAAAAAAAAAAAAAAAAAAAAAAAAAAAAAAAAAAAAAAAAAAAAAAAAAAAAAAAAAAAAAAAAAAAAAAAAAAAAAAAAAAAAAAAAAAAAAAAAAAAAAAAAAAAAAAAAAAAAAAAAAAAAAAAAAAAAAAAAAAAAAAAAAAAAAAAAAAAAAAAAAAAAAAAAAAAAAAAAAAAAAAAAAAAAAAAAAAAAAAAAAAAAAAAAAAAAAAAAAAAAAAAAAAAAAAAAAAAAAAAAAAAAAAAAAAAAAAAAAAAAAAAAAAAAAAAAAAAAAAAAAAAAAAAAAAAAAAAAAAAAAAAAAAAAAAAAAAAAAAAAAAAAAAAAAAAAAAAAAAAAAAAAAAAAAAAAAAAAAAAAAAAAAAAAAAAAAAAAAAAAAAAAAAAAAAAAAAAAAAAAAAAAAAAAAAAAAAAAAAAAAAAAAAAAAAAAAAAAAAAAAAAAAAAAAAAAAAAAAAAAAAAAAAAAAAAAAAAAAAAAAAAAAAAAAAAAAAAAAAAAAAAAAAAAAAAAAAAAAAAAAAAAAAAAAAAAAAAAAAAAAAAAAAAAAAAAAAAAAAAAAAAAAAAAAAAAAAAAAAAAAAAAAAAAAAAAAAAAAAAAAAAAAAAAAAAAAAAAAAAAAAAAAAAAAAAAAAAAAAAAAAAAAAAAAAAAAAAAAAAAAAAAAAAAAAAAAAAB1EM6ia6TA/AAAAAAAAAAAAAAAAAAAAAAAAAAAAAAAAAAAAAAAAAAA54CqdR2yTP8FGe9IajlM/SoFp4WTjij8+PauggNemPw==",
             "dtype": "f8"
            },
            "coloraxis": "coloraxis",
            "size": {
             "bdata": "AAAAAAAAAAAAAAAAAAAAAAAAAAAAAAAAAAAAAAAAAAAAAAAAAAAAAAAAAAAAAAAAAAAAAAAAAAAAAAAAAAAAAAAAAAAAAAAAAAAAAAAAAAAAAAAAAAAAAAAAAAAAAAAAAAAAAAAAAAAAAAAAAAAAAAAAAAAAAAAAAAAAAAAAAAAAAAAAAAAAAAAAAAAAAAAAAAAAAAAAAAAAAAAAAAAAAAAAAAAAAAAAAAAAAAAAAAAAAAAAAAAAAAAAAAAAAAAAAAAAAAAAAAAAAAAAAAAAAAAAAAAAAAAAAAAAAAAAAAAAAAAAAAAAAAAAAAAAAAAAAAAAAAAAAAAAAAAAAAAAAAAAAAAAAAAAAAAAAAAAAAAAAAAAAAAAAAAAAAAAAAAAAAAAAAAAAAAAAAAAAAAAAAAAAAAAAAAAAAAAAAAAAAAAAAAAAAAAAAAAAAAAAAAAAAAAAAAAAAAAAAAAAAAAAAAAAAAAAAAAAAAAAAAAAAAAAAAAAAAAAAAAAAAAAAAAAAAAAAAAAAAAAAAAAAAAAAAAAAAAAAAAAAAAAAAAAAAAAAAAAAAAAAAAAAAAAAAAAAAAAAAAAAAAAAAAAAAAAAAAAAAAAAAAAAAAAAAAAAAAAAAAAAAAAAAAAAAAAAAAAAAAAAAAAAAAAAAAAAAAAAAAAAAAAAAAAAAAAAAAAAAAAAAAAAAAAAAAAAAAAAAAAAAAAAAAAAAAAAAAAAAAAAAAAAAAAAAAAAAAAAAAAAAAAAAAAAAAAAAAAAAAAAAAAAAAAAAAAAAAAAAAAAAAAAAAAAAAAAAAAAAAAAAAAAAAAAAAAAAAAAAAAAAAAAAAAAAAAAAAAAAAAAAAAAAAAAAAAAAAAAAAAAAAAAAAAAAAAAAAAAAAAAAAAAAAAAAAAAAAAAAAAAAAAAAAAAAAAAAAAAAAAAAAAAAAAAAAAAAAAAAAAAAAAAAAAAAAAAAAAAAAAAAAAAAAAAAAAAAAAAAAAAAAAAAAAAAAAAAAAAAAAAAAAAAAAAAAAAAAAAAAAAAAAAAAAAAAAAAAAAAAAAAAAAAAAAAAAAAAAAAAAAAAAAAAAAAAAAAAAAAAAAAAAAAAAAAAAAAAAAAAAAAAAAAAAAAAAAAAAAAAAAAAAAAAAAAAAAAAAAAAAAAAAAAAAAAAAAAAAAAAAAAAAAAAAAAAAAAAAAAAAAAAAAAAAAAAAAAAAAAAAB1EM6ia6TA/AAAAAAAAAAAAAAAAAAAAAAAAAAAAAAAAAAAAAAAAAAA54CqdR2yTP8FGe9IajlM/SoFp4WTjij8+PauggNemPw==",
             "dtype": "f8"
            },
            "sizemode": "area",
            "sizeref": 0.006043951612903227
           },
           "mode": "markers",
           "name": "",
           "showlegend": false,
           "subplot": "map",
           "type": "scattermap"
          }
         ],
         "name": "2024-07"
        },
        {
         "data": [
          {
           "hovertemplate": "month=2024-08<br>HTEURNEIGE_Q=%{marker.color}<br>lat=%{lat}<br>lon=%{lon}<extra></extra>",
           "lat": {
            "bdata": "GNilFLSrRkCtqV0k6bRGQOjesz0evkZAm+q6X1PHRkD/GkaOZ6tGQABCMISctEZAAFKvg9G9RkDuttWLBsdGQG43+PgXq0ZAYvcM1Ey0RkAzxay4gb1GQKMF6qW2xkZATM7WmuvPRkC6Xg2gkKFGQB/o1lTFqkZAO5cOFPqzRkCvGMfcLr1GQMLJEq5jxkZAk7gDh5jPRkA/pKtmzdhGQAj9G0wC4kZAFh4O/dGORkBVnm99BphGQJR3Dgo7oUZA7u39oW+qRkDb9VBEpLNGQEI0GvDYvEZAt/5rpA3GRkCOW1hgQs9GQA0C8SJ32EZAllpH66vhRkACIx2VeY5GQJY+s/etl0ZAyc57ZuKgRkDfD4rgFqpGQGPu8GRLs0ZAUAfD8n+8RkApqBKJtMVGQEHP8SbpzkZAwStyyx3YRkDqHaV1UuFGQC+3mySH6kZA3hrDIR6ORkBDg4dlUpdGQJMcc7WGoEZA6RqZELupRkCoYgx277JGQI+I3+QjvEZA39EkXFjFRkCQNO7ajM5GQHNXTWDB10ZAWZJT6/XgRkCa1fWe72hGQIoROokjckZA8ApKg1d7RkBzLjqMi4RGQEmYHqO/jUZASRQLx/OWRkA2HhP3J6BGQMzhSTJcqUZA+TrCd5CyRkD6tY7GxLtGQIiPwR35xEZABbVsfC3ORkDuQieYjmhGQFMivWHCcUZALd8SO/Z6RkCi3TwjKoRGQGoxTxlejUZA1Z1dHJKWRkD9lXsrxp9GQAM9vEX6qEZAEmYyai6yRkCslPCXYrtGQLb8CM6WxEZAEOke8/ZeRkD75WKKKmhGQBPWRTJecUZAimXc6ZF6RkDX7zqwxYNGQOV/dYT5jEZAMtCfZS2WRkAHS81SYZ9GQIUKEUuVqEZA7dh9TcmxRkAD2jABkF5GQPr+yXXDZ0ZABYT1+vZwRkBkDMiPKnpGQJ7qVTNeg0ZAkyCz5JGMRkCzX/OixZVGQBcJKm35nkZAui1qQi2oRkCgjsYhYbFGQHTOflpZZ0ZAZ4Tuu4xwRkDWQ/gswHlGQAFWsKzzgkZAf7MqOieMRkBuBHvUWpVGQICgtHqOnkZAQo/qK8KnRkAuiC/n9bBGQNbylaspukZAbzBUdR9wRkCIfZDBUnlGQDu8bRyGgkZAndv/hLmLRkArelr67JRGQPXlkHsgnkZAyhy2B1SnRkBjzNydh7BGQP7hSievb0ZAkiy1TeJ4RkC8qbKCFYJGQME+V8VIi0ZAtGfzRRawRkCK8/fRO29GQE7Fi9FueEZA87+BdcVuRkA2vTpN+HdGQA==",
            "dtype": "f8"
           },
           "legendgroup": "",
           "lon": {
            "bdata": "fdMnuEhZE0DmL32SnFwTQNK/OqTyXxNAogWY70pjE0AzeK7LucETQMUBOFowxRNA6VQ7N6nIE0DN9QZlJMwTQPY8B5MoKhRAbH9508EtFEB2EnR5XTEUQPp2XIf7NBRAimCb/5s4FEAaU1yB244UQDZ+OveUkhRA+yYz51CWFED0eb9TD5oUQGbvWz/QnRRA01CIrJOhFEB/vsedWaUUQAi1oBUiqRRAQ1VZZnLvFECNhd5XSfMUQPaUWdUi9xRAgsBT4f76FED8o1l+3f4UQI0/+66+AhVAYP3LdaIGFUBWt2LViAoVQMC8WdBxDhVAKthOaV0SFUB4EihJclcVQH/upKBrWxVAiz3YmmdfFUCxzmE6ZmMVQKzt5IFnZxVAoWgIdGtrFUDtlXYTcm8VQBda3WJ7cxVAtS3uZId3FUBqI14clnsVQPDt5YunfxVA4jrdi2+/FUBga7VGi8MVQO0rAbupxxVA8td268rLFUBNZdDa7s8VQENqy4sV1BVAiSMpAT/YFUBTeq49a9wVQIkKJESa4BVA2ihWF8zkFUD/UhGUjRYWQNnzlIrAGhZA4N02RvYeFkACT7XJLiMWQCwl0hdqJxZALuRSM6grFkDNuwAf6S8WQN2NqN0sNBZAXfQacnM4FkCpRyzfvDwWQLSktCcJQRZATvOPTlhFFkDGxoG8/H0WQEAk7LZRghZAt8XRjKmGFkBw9AZBBIsWQJS2Y9ZhjxZAWtXDT8KTFkBG4wawJZgWQGlCEPqLnBZAwSrHMPWgFkCEsBZXYaUWQJvK7W/QqRZAUJ61//TgFkDQGUgMaeUWQHCiyAfg6RZAIrMd9VnuFkBWmjHX1vIWQEiA8rBW9xZAXm1Shdn7FkCVUEdXXwAXQOwFyynoBBdA+Fzb/3MJF0D6Vp54PEgXQFL1IG3STBdANS/RZmtRF0DFYatoB1YXQEzar3WmWhdAvdzikEhfF0BFqky97WMXQN6H+f2VaBdA8sT5VUFtF0AkwmHI73EXQLbPzMg4tBdA116wvfO4F0AXZw/Rsb0XQBYuAAZzwhdA+wydXzfHF0AZdwTh/ssXQMYAWY3J0BdAKGbBZ5fVF0AlkmhzaNoXQEGlfbM83xdAwbUU9nggGEAnT+IXWSUYQKUMpXE8KhhAzlWNBiMvGEBWyc/ZDDQYQBxEpe75OBhAGOhKSOo9GECDIwLq3UIYQCTFsPn6hxhAibnAJv2MGEAgByWiApIYQP8cJG8LlxhAcwlFFVCrGECRRzuyee8YQAN2S+ed9BhAfj1vCfVWGUBEoSdDO1wZQA==",
            "dtype": "f8"
           },
           "marker": {
            "color": {
             "bdata": "AAAAAAAAAAAAAAAAAAAAAAAAAAAAAAAAAAAAAAAAAAAAAAAAAAAAAAAAAAAAAAAAAAAAAAAAAAAAAAAAAAAAAAAAAAAAAAAAAAAAAAAAAAAAAAAAAAAAAAAAAAAAAAAAAAAAAAAAAAAAAAAAAAAAAAAAAAAAAAAAAAAAAAAAAAAAAAAAAAAAAAAAAAAAAAAAAAAAAAAAAAAAAAAAAAAAAAAAAAAAAAAAAAAAAAAAAAAAAAAAAAAAAAAAAAAAAAAAAAAAAAAAAAAAAAAAAAAAAAAAAAAAAAAAAAAAAAAAAAAAAAAAAAAAAAAAAAAAAAAAAAAAAAAAAAAAAAAAAAAAAAAAAAAAAAAAAAAAAAAAAAAAAAAAAAAAAAAAAAAAAAAAAAAAAAAAAAAAAAAAAAAAAAAAAAAAAAAAAAAAAAAAAAAAAAAAAAAAAAAAAAAAAAAAAAAAAAAAAAAAAAAAAAAAAAAAAAAAAAAAAAAAAAAAAAAAAAAAAAAAAAAAAAAAAAAAAAAAAAAAAAAAAAAAAAAAAAAAAAAAAAAAAAAAAAAAAAAAAAAAAAAAAAAAAAAAAAAAAAAAAAAAAAAAAAAAAAAAAAAAAAAAAAAAAAAAAAAAAAAAAAAAAAAAAAAAAAAAAAAAAAAAAAAAAAAAAAAAAAAAAAAAAAAAAAAAAAAAAAAAAAAAAAAAAAAAAAAAAAAAAAAAAAAAAAAAAAAAAAAAAAAAAAAAAAAAAAAAAAAAAAAAAAAAAAAAAAAAAAAAAAAAAAAAAAAAAAAAAAAAAAAAAAAAAAAAAAAAAAAAAAAAAAAAAAAAAAAAAAAAAAAAAAAAAAAAAAAAAAAAAAAAAAAAAAAAAAAAAAAAAAAAAAAAAAAAAAAAAAAAAAAAAAAAAAAAAAAAAAAAAAAAAAAAAAAAAAAAAAAAAAAAAAAAAAAAAAAAAAAAAAAAAAAAAAAAAAAAAAAAAAAAAAAAAAAAAAAAAAAAAAAAAAAAAAAAAAAAAAAAAAAAAAAAAAAAAAAAAAAAAAAAAAAAAAAAAAAAAAAAAAAAAAAAAAAAAAAAAAAAAAAAAAAAAAAAAAAAAAAAAAAAAAAAAAAAAAAAAAAAAAAAAAAAAAAAAAAAAAAAAAAAAAAAAAAAAAAAAAAAAAAAAAAAAAAAAAAAAAAAAAAAAAAAAAAAAAAAAAAAAAAAAAAAAAAAAAAAAAAAAAAAAAAAAAAAAAAAAAAAAAAAAAAAAAAAAAAAAAAAAAAAAAAAAAAAAAAAAAAAAAAAAAAAAAAAAAAAAAAAAAAAAAAAAAAzt1mmzpgtPw==",
             "dtype": "f8"
            },
            "coloraxis": "coloraxis",
            "size": {
             "bdata": "AAAAAAAAAAAAAAAAAAAAAAAAAAAAAAAAAAAAAAAAAAAAAAAAAAAAAAAAAAAAAAAAAAAAAAAAAAAAAAAAAAAAAAAAAAAAAAAAAAAAAAAAAAAAAAAAAAAAAAAAAAAAAAAAAAAAAAAAAAAAAAAAAAAAAAAAAAAAAAAAAAAAAAAAAAAAAAAAAAAAAAAAAAAAAAAAAAAAAAAAAAAAAAAAAAAAAAAAAAAAAAAAAAAAAAAAAAAAAAAAAAAAAAAAAAAAAAAAAAAAAAAAAAAAAAAAAAAAAAAAAAAAAAAAAAAAAAAAAAAAAAAAAAAAAAAAAAAAAAAAAAAAAAAAAAAAAAAAAAAAAAAAAAAAAAAAAAAAAAAAAAAAAAAAAAAAAAAAAAAAAAAAAAAAAAAAAAAAAAAAAAAAAAAAAAAAAAAAAAAAAAAAAAAAAAAAAAAAAAAAAAAAAAAAAAAAAAAAAAAAAAAAAAAAAAAAAAAAAAAAAAAAAAAAAAAAAAAAAAAAAAAAAAAAAAAAAAAAAAAAAAAAAAAAAAAAAAAAAAAAAAAAAAAAAAAAAAAAAAAAAAAAAAAAAAAAAAAAAAAAAAAAAAAAAAAAAAAAAAAAAAAAAAAAAAAAAAAAAAAAAAAAAAAAAAAAAAAAAAAAAAAAAAAAAAAAAAAAAAAAAAAAAAAAAAAAAAAAAAAAAAAAAAAAAAAAAAAAAAAAAAAAAAAAAAAAAAAAAAAAAAAAAAAAAAAAAAAAAAAAAAAAAAAAAAAAAAAAAAAAAAAAAAAAAAAAAAAAAAAAAAAAAAAAAAAAAAAAAAAAAAAAAAAAAAAAAAAAAAAAAAAAAAAAAAAAAAAAAAAAAAAAAAAAAAAAAAAAAAAAAAAAAAAAAAAAAAAAAAAAAAAAAAAAAAAAAAAAAAAAAAAAAAAAAAAAAAAAAAAAAAAAAAAAAAAAAAAAAAAAAAAAAAAAAAAAAAAAAAAAAAAAAAAAAAAAAAAAAAAAAAAAAAAAAAAAAAAAAAAAAAAAAAAAAAAAAAAAAAAAAAAAAAAAAAAAAAAAAAAAAAAAAAAAAAAAAAAAAAAAAAAAAAAAAAAAAAAAAAAAAAAAAAAAAAAAAAAAAAAAAAAAAAAAAAAAAAAAAAAAAAAAAAAAAAAAAAAAAAAAAAAAAAAAAAAAAAAAAAAAAAAAAAAAAAAAAAAAAAAAAAAAAAAAAAAAAAAAAAAAAAAAAAAAAAAAAAAAAAAAAAAAAAAAAAAAAAAAAAAAAAAAAAAAAAAAAAAAAAAAAAAAAAAAAAAAAAAAAAAAAAAAAAAAAAAzt1mmzpgtPw==",
             "dtype": "f8"
            },
            "sizemode": "area",
            "sizeref": 0.006043951612903227
           },
           "mode": "markers",
           "name": "",
           "showlegend": false,
           "subplot": "map",
           "type": "scattermap"
          }
         ],
         "name": "2024-08"
        },
        {
         "data": [
          {
           "hovertemplate": "month=2024-09<br>HTEURNEIGE_Q=%{marker.color}<br>lat=%{lat}<br>lon=%{lon}<extra></extra>",
           "lat": {
            "bdata": "GNilFLSrRkCtqV0k6bRGQOjesz0evkZAm+q6X1PHRkD/GkaOZ6tGQABCMISctEZAAFKvg9G9RkDuttWLBsdGQG43+PgXq0ZAYvcM1Ey0RkAzxay4gb1GQKMF6qW2xkZATM7WmuvPRkC6Xg2gkKFGQB/o1lTFqkZAO5cOFPqzRkCvGMfcLr1GQMLJEq5jxkZAk7gDh5jPRkA/pKtmzdhGQAj9G0wC4kZAFh4O/dGORkBVnm99BphGQJR3Dgo7oUZA7u39oW+qRkDb9VBEpLNGQEI0GvDYvEZAt/5rpA3GRkCOW1hgQs9GQA0C8SJ32EZAllpH66vhRkACIx2VeY5GQJY+s/etl0ZAyc57ZuKgRkDfD4rgFqpGQGPu8GRLs0ZAUAfD8n+8RkApqBKJtMVGQEHP8SbpzkZAwStyyx3YRkDqHaV1UuFGQC+3mySH6kZA3hrDIR6ORkBDg4dlUpdGQJMcc7WGoEZA6RqZELupRkCoYgx277JGQI+I3+QjvEZA39EkXFjFRkCQNO7ajM5GQHNXTWDB10ZAWZJT6/XgRkCa1fWe72hGQIoROokjckZA8ApKg1d7RkBzLjqMi4RGQEmYHqO/jUZASRQLx/OWRkA2HhP3J6BGQMzhSTJcqUZA+TrCd5CyRkD6tY7GxLtGQIiPwR35xEZABbVsfC3ORkDuQieYjmhGQFMivWHCcUZALd8SO/Z6RkCi3TwjKoRGQGoxTxlejUZA1Z1dHJKWRkD9lXsrxp9GQAM9vEX6qEZAEmYyai6yRkCslPCXYrtGQLb8CM6WxEZAEOke8/ZeRkD75WKKKmhGQBPWRTJecUZAimXc6ZF6RkDX7zqwxYNGQOV/dYT5jEZAMtCfZS2WRkAHS81SYZ9GQIUKEUuVqEZA7dh9TcmxRkAD2jABkF5GQPr+yXXDZ0ZABYT1+vZwRkBkDMiPKnpGQJ7qVTNeg0ZAkyCz5JGMRkCzX/OixZVGQBcJKm35nkZAui1qQi2oRkCgjsYhYbFGQHTOflpZZ0ZAZ4Tuu4xwRkDWQ/gswHlGQAFWsKzzgkZAf7MqOieMRkBuBHvUWpVGQICgtHqOnkZAQo/qK8KnRkAuiC/n9bBGQNbylaspukZAbzBUdR9wRkCIfZDBUnlGQDu8bRyGgkZAndv/hLmLRkArelr67JRGQPXlkHsgnkZAyhy2B1SnRkBjzNydh7BGQP7hSievb0ZAkiy1TeJ4RkC8qbKCFYJGQME+V8VIi0ZAtGfzRRawRkCK8/fRO29GQE7Fi9FueEZA87+BdcVuRkA2vTpN+HdGQA==",
            "dtype": "f8"
           },
           "legendgroup": "",
           "lon": {
            "bdata": "fdMnuEhZE0DmL32SnFwTQNK/OqTyXxNAogWY70pjE0AzeK7LucETQMUBOFowxRNA6VQ7N6nIE0DN9QZlJMwTQPY8B5MoKhRAbH9508EtFEB2EnR5XTEUQPp2XIf7NBRAimCb/5s4FEAaU1yB244UQDZ+OveUkhRA+yYz51CWFED0eb9TD5oUQGbvWz/QnRRA01CIrJOhFEB/vsedWaUUQAi1oBUiqRRAQ1VZZnLvFECNhd5XSfMUQPaUWdUi9xRAgsBT4f76FED8o1l+3f4UQI0/+66+AhVAYP3LdaIGFUBWt2LViAoVQMC8WdBxDhVAKthOaV0SFUB4EihJclcVQH/upKBrWxVAiz3YmmdfFUCxzmE6ZmMVQKzt5IFnZxVAoWgIdGtrFUDtlXYTcm8VQBda3WJ7cxVAtS3uZId3FUBqI14clnsVQPDt5YunfxVA4jrdi2+/FUBga7VGi8MVQO0rAbupxxVA8td268rLFUBNZdDa7s8VQENqy4sV1BVAiSMpAT/YFUBTeq49a9wVQIkKJESa4BVA2ihWF8zkFUD/UhGUjRYWQNnzlIrAGhZA4N02RvYeFkACT7XJLiMWQCwl0hdqJxZALuRSM6grFkDNuwAf6S8WQN2NqN0sNBZAXfQacnM4FkCpRyzfvDwWQLSktCcJQRZATvOPTlhFFkDGxoG8/H0WQEAk7LZRghZAt8XRjKmGFkBw9AZBBIsWQJS2Y9ZhjxZAWtXDT8KTFkBG4wawJZgWQGlCEPqLnBZAwSrHMPWgFkCEsBZXYaUWQJvK7W/QqRZAUJ61//TgFkDQGUgMaeUWQHCiyAfg6RZAIrMd9VnuFkBWmjHX1vIWQEiA8rBW9xZAXm1Shdn7FkCVUEdXXwAXQOwFyynoBBdA+Fzb/3MJF0D6Vp54PEgXQFL1IG3STBdANS/RZmtRF0DFYatoB1YXQEzar3WmWhdAvdzikEhfF0BFqky97WMXQN6H+f2VaBdA8sT5VUFtF0AkwmHI73EXQLbPzMg4tBdA116wvfO4F0AXZw/Rsb0XQBYuAAZzwhdA+wydXzfHF0AZdwTh/ssXQMYAWY3J0BdAKGbBZ5fVF0AlkmhzaNoXQEGlfbM83xdAwbUU9nggGEAnT+IXWSUYQKUMpXE8KhhAzlWNBiMvGEBWyc/ZDDQYQBxEpe75OBhAGOhKSOo9GECDIwLq3UIYQCTFsPn6hxhAibnAJv2MGEAgByWiApIYQP8cJG8LlxhAcwlFFVCrGECRRzuyee8YQAN2S+ed9BhAfj1vCfVWGUBEoSdDO1wZQA==",
            "dtype": "f8"
           },
           "marker": {
            "color": {
             "bdata": "AAAAAAAAAAAAAAAAAAAAAAAAAAAAAAAAAAAAAAAAAAAAAAAAAAAAAAAAAAAAAAAAAAAAAAAAAAAAAAAAAAAAAAAAAAAAAAAAAAAAAAAAAAAAAAAAAAAAAAAAAAAAAAAAAAAAAAAAAAAAAAAAAAAAAAAAAAAAAAAAAAAAAAAAAAAAAAAAAAAAAAAAAAAAAAAAAAAAAAAAAAAAAAAAAAAAAAAAAAAAAAAAAAAAAAAAAAAAAAAAAAAAAAAAAAAAAAAAAAAAAAAAAAAAAAAAAAAAAAAAAAAAAAAAAAAAAAAAAAAAAAAAAAAAAAAAAAAAAAAAAAAAAAAAAAAAAAAAAAAAAAAAAAAAAAAAAAAAAAAAAAAAAAAAAAAAAAAAAAAAAAAAAAAAAAAAAAAAAAAAAAAAAAAAAAAAAAAAAAAAAAAAAAAAAAAAAAAAAAAAAAAAAAAAAAAAAAAAAAAAAAAAAAAAAAAAAAAAAAAAAAAAAAAAAAAAAAAAAAAAAAAAAAAAAAAAAAAAAAAAAAAAAAAAAAAAAAAAAAAAAAAAAAAAAAAAAAAegr2c7HkBPx6CvZzseQE/HoK9nOx5AT8AAAAAAAAAAAAAAAAAAAAAAAAAAAAAAAAAAAAAAAAAAAAAAAAAAAAAAAAAAAAAAAAAAAAAAAAAAAAAAAAAAAAAAAAAAAAAAAAAAAAAAAAAAAAAAAAAAAAAAAAAAAAAAAAAAAAAAAAAAAAAAAAAAAAAAAAAAAAAAAAAAAAAAAAAAAAAAAAAAAAAAAAAAAAAAAAAAAAAAAAAAAAAAAAAAAAAAAAAAAAAAAAAAAAAAAAAAAAAAAAAAAAAAAAAAAAAAAAAAAAAAAAAAAAAAAAAAAAAAAAAAAAAAAAAAAAAAAAAAAAAAAAAAAAAAAAAAAAAAAAAAAAAAAAAAAAAAAAAAAAAAAAAAAAAAAAAAAAAAAAAAAAAAAAAAAAAAAAAAAAAAAAAAAAAAAAAAAAAAAAAAAAAAAAAAAAAAAAegr2c7HkBPwAAAAAAAAAAAAAAAAAAAAAAAAAAAAAAAHHzs34gZkw/LUMc6+I2Kj9PG+i0gU5bPwAAAAAAAAAAAAAAAAAAAAAAAAAAAAAAAAAAAAAAAAAAAAAAAAAAAAC0o0sSXpUuPwAAAAAAAAAAHoK9nOx5AT+l4uzDZ9glPwtrUCFEH1k/AAAAAAAAAAAAAAAAAAAAAGIyVTAqqUM/tKNLEl6VLj8AAAAAAAAAAC1DHOviNio/2aae8tV7Vz/FjzF3LSFvPwtrUCFEH0k/TxvotIFOaz8tQxzr4jZ6Pw==",
             "dtype": "f8"
            },
            "coloraxis": "coloraxis",
            "size": {
             "bdata": "AAAAAAAAAAAAAAAAAAAAAAAAAAAAAAAAAAAAAAAAAAAAAAAAAAAAAAAAAAAAAAAAAAAAAAAAAAAAAAAAAAAAAAAAAAAAAAAAAAAAAAAAAAAAAAAAAAAAAAAAAAAAAAAAAAAAAAAAAAAAAAAAAAAAAAAAAAAAAAAAAAAAAAAAAAAAAAAAAAAAAAAAAAAAAAAAAAAAAAAAAAAAAAAAAAAAAAAAAAAAAAAAAAAAAAAAAAAAAAAAAAAAAAAAAAAAAAAAAAAAAAAAAAAAAAAAAAAAAAAAAAAAAAAAAAAAAAAAAAAAAAAAAAAAAAAAAAAAAAAAAAAAAAAAAAAAAAAAAAAAAAAAAAAAAAAAAAAAAAAAAAAAAAAAAAAAAAAAAAAAAAAAAAAAAAAAAAAAAAAAAAAAAAAAAAAAAAAAAAAAAAAAAAAAAAAAAAAAAAAAAAAAAAAAAAAAAAAAAAAAAAAAAAAAAAAAAAAAAAAAAAAAAAAAAAAAAAAAAAAAAAAAAAAAAAAAAAAAAAAAAAAAAAAAAAAAAAAAAAAAAAAAAAAAAAAAAAAegr2c7HkBPx6CvZzseQE/HoK9nOx5AT8AAAAAAAAAAAAAAAAAAAAAAAAAAAAAAAAAAAAAAAAAAAAAAAAAAAAAAAAAAAAAAAAAAAAAAAAAAAAAAAAAAAAAAAAAAAAAAAAAAAAAAAAAAAAAAAAAAAAAAAAAAAAAAAAAAAAAAAAAAAAAAAAAAAAAAAAAAAAAAAAAAAAAAAAAAAAAAAAAAAAAAAAAAAAAAAAAAAAAAAAAAAAAAAAAAAAAAAAAAAAAAAAAAAAAAAAAAAAAAAAAAAAAAAAAAAAAAAAAAAAAAAAAAAAAAAAAAAAAAAAAAAAAAAAAAAAAAAAAAAAAAAAAAAAAAAAAAAAAAAAAAAAAAAAAAAAAAAAAAAAAAAAAAAAAAAAAAAAAAAAAAAAAAAAAAAAAAAAAAAAAAAAAAAAAAAAAAAAAAAAAAAAAAAAAAAAAAAAegr2c7HkBPwAAAAAAAAAAAAAAAAAAAAAAAAAAAAAAAHHzs34gZkw/LUMc6+I2Kj9PG+i0gU5bPwAAAAAAAAAAAAAAAAAAAAAAAAAAAAAAAAAAAAAAAAAAAAAAAAAAAAC0o0sSXpUuPwAAAAAAAAAAHoK9nOx5AT+l4uzDZ9glPwtrUCFEH1k/AAAAAAAAAAAAAAAAAAAAAGIyVTAqqUM/tKNLEl6VLj8AAAAAAAAAAC1DHOviNio/2aae8tV7Vz/FjzF3LSFvPwtrUCFEH0k/TxvotIFOaz8tQxzr4jZ6Pw==",
             "dtype": "f8"
            },
            "sizemode": "area",
            "sizeref": 0.006043951612903227
           },
           "mode": "markers",
           "name": "",
           "showlegend": false,
           "subplot": "map",
           "type": "scattermap"
          }
         ],
         "name": "2024-09"
        },
        {
         "data": [
          {
           "hovertemplate": "month=2024-10<br>HTEURNEIGE_Q=%{marker.color}<br>lat=%{lat}<br>lon=%{lon}<extra></extra>",
           "lat": {
            "bdata": "GNilFLSrRkCtqV0k6bRGQOjesz0evkZAm+q6X1PHRkD/GkaOZ6tGQABCMISctEZAAFKvg9G9RkDuttWLBsdGQG43+PgXq0ZAYvcM1Ey0RkAzxay4gb1GQKMF6qW2xkZATM7WmuvPRkC6Xg2gkKFGQB/o1lTFqkZAO5cOFPqzRkCvGMfcLr1GQMLJEq5jxkZAk7gDh5jPRkA/pKtmzdhGQAj9G0wC4kZAFh4O/dGORkBVnm99BphGQJR3Dgo7oUZA7u39oW+qRkDb9VBEpLNGQEI0GvDYvEZAt/5rpA3GRkCOW1hgQs9GQA0C8SJ32EZAllpH66vhRkACIx2VeY5GQJY+s/etl0ZAyc57ZuKgRkDfD4rgFqpGQGPu8GRLs0ZAUAfD8n+8RkApqBKJtMVGQEHP8SbpzkZAwStyyx3YRkDqHaV1UuFGQC+3mySH6kZA3hrDIR6ORkBDg4dlUpdGQJMcc7WGoEZA6RqZELupRkCoYgx277JGQI+I3+QjvEZA39EkXFjFRkCQNO7ajM5GQHNXTWDB10ZAWZJT6/XgRkCa1fWe72hGQIoROokjckZA8ApKg1d7RkBzLjqMi4RGQEmYHqO/jUZASRQLx/OWRkA2HhP3J6BGQMzhSTJcqUZA+TrCd5CyRkD6tY7GxLtGQIiPwR35xEZABbVsfC3ORkDuQieYjmhGQFMivWHCcUZALd8SO/Z6RkCi3TwjKoRGQGoxTxlejUZA1Z1dHJKWRkD9lXsrxp9GQAM9vEX6qEZAEmYyai6yRkCslPCXYrtGQLb8CM6WxEZAEOke8/ZeRkD75WKKKmhGQBPWRTJecUZAimXc6ZF6RkDX7zqwxYNGQOV/dYT5jEZAMtCfZS2WRkAHS81SYZ9GQIUKEUuVqEZA7dh9TcmxRkAD2jABkF5GQPr+yXXDZ0ZABYT1+vZwRkBkDMiPKnpGQJ7qVTNeg0ZAkyCz5JGMRkCzX/OixZVGQBcJKm35nkZAui1qQi2oRkCgjsYhYbFGQHTOflpZZ0ZAZ4Tuu4xwRkDWQ/gswHlGQAFWsKzzgkZAf7MqOieMRkBuBHvUWpVGQICgtHqOnkZAQo/qK8KnRkAuiC/n9bBGQNbylaspukZAbzBUdR9wRkCIfZDBUnlGQDu8bRyGgkZAndv/hLmLRkArelr67JRGQPXlkHsgnkZAyhy2B1SnRkBjzNydh7BGQP7hSievb0ZAkiy1TeJ4RkC8qbKCFYJGQME+V8VIi0ZAtGfzRRawRkCK8/fRO29GQE7Fi9FueEZA87+BdcVuRkA2vTpN+HdGQA==",
            "dtype": "f8"
           },
           "legendgroup": "",
           "lon": {
            "bdata": "fdMnuEhZE0DmL32SnFwTQNK/OqTyXxNAogWY70pjE0AzeK7LucETQMUBOFowxRNA6VQ7N6nIE0DN9QZlJMwTQPY8B5MoKhRAbH9508EtFEB2EnR5XTEUQPp2XIf7NBRAimCb/5s4FEAaU1yB244UQDZ+OveUkhRA+yYz51CWFED0eb9TD5oUQGbvWz/QnRRA01CIrJOhFEB/vsedWaUUQAi1oBUiqRRAQ1VZZnLvFECNhd5XSfMUQPaUWdUi9xRAgsBT4f76FED8o1l+3f4UQI0/+66+AhVAYP3LdaIGFUBWt2LViAoVQMC8WdBxDhVAKthOaV0SFUB4EihJclcVQH/upKBrWxVAiz3YmmdfFUCxzmE6ZmMVQKzt5IFnZxVAoWgIdGtrFUDtlXYTcm8VQBda3WJ7cxVAtS3uZId3FUBqI14clnsVQPDt5YunfxVA4jrdi2+/FUBga7VGi8MVQO0rAbupxxVA8td268rLFUBNZdDa7s8VQENqy4sV1BVAiSMpAT/YFUBTeq49a9wVQIkKJESa4BVA2ihWF8zkFUD/UhGUjRYWQNnzlIrAGhZA4N02RvYeFkACT7XJLiMWQCwl0hdqJxZALuRSM6grFkDNuwAf6S8WQN2NqN0sNBZAXfQacnM4FkCpRyzfvDwWQLSktCcJQRZATvOPTlhFFkDGxoG8/H0WQEAk7LZRghZAt8XRjKmGFkBw9AZBBIsWQJS2Y9ZhjxZAWtXDT8KTFkBG4wawJZgWQGlCEPqLnBZAwSrHMPWgFkCEsBZXYaUWQJvK7W/QqRZAUJ61//TgFkDQGUgMaeUWQHCiyAfg6RZAIrMd9VnuFkBWmjHX1vIWQEiA8rBW9xZAXm1Shdn7FkCVUEdXXwAXQOwFyynoBBdA+Fzb/3MJF0D6Vp54PEgXQFL1IG3STBdANS/RZmtRF0DFYatoB1YXQEzar3WmWhdAvdzikEhfF0BFqky97WMXQN6H+f2VaBdA8sT5VUFtF0AkwmHI73EXQLbPzMg4tBdA116wvfO4F0AXZw/Rsb0XQBYuAAZzwhdA+wydXzfHF0AZdwTh/ssXQMYAWY3J0BdAKGbBZ5fVF0AlkmhzaNoXQEGlfbM83xdAwbUU9nggGEAnT+IXWSUYQKUMpXE8KhhAzlWNBiMvGEBWyc/ZDDQYQBxEpe75OBhAGOhKSOo9GECDIwLq3UIYQCTFsPn6hxhAibnAJv2MGEAgByWiApIYQP8cJG8LlxhAcwlFFVCrGECRRzuyee8YQAN2S+ed9BhAfj1vCfVWGUBEoSdDO1wZQA==",
            "dtype": "f8"
           },
           "marker": {
            "color": {
             "bdata": "AAAAAAAAAAAAAAAAAAAAAAAAAAAAAAAAAAAAAAAAAAAAAAAAAAAAAAAAAAAAAAAAAAAAAAAAAAAAAAAAAAAAAAAAAAAAAAAAAAAAAAAAAAAAAAAAAAAAAAAAAAAAAAAAAAAAAAAAAAAAAAAAAAAAAAAAAAAAAAAAAAAAAAAAAAAAAAAAAAAAAAAAAAAAAAAAAAAAAAAAAAAAAAAAAAAAAAAAAAAAAAAAAAAAAAAAAAAAAAAAAAAAAAAAAAAAAAAAAAAAAAAAAAAAAAAAAAAAAAAAAAAAAAAAAAAAAAAAAAAAAAAAAAAAAAAAAAAAAAAAAAAAAAAAAAAAAAAAAAAAAAAAAAAAAAAAAAAAAAAAAAAAAAAAAAAAAAAAAAAAAAAAAAAAAAAAAAAAAAAAAAAAAAAAAAAAAAAAAAAAAAAAAAAAAAAAAAAAAAAAAAAAAAAAAAAAAAAAAAAAAAAAAAAAAAAAAAAAAAAAAAAAAAAAAAAAAAAAAAAAAAAAAAAAAAAAAAAAAAAAAAAAAAAAAAAAAAAAAAAAAAAAAAAAAAAAAAAAAAAAAAAAAAAAAAAAAAAAAAAAAAAAAAAAAAAAAAAAAAAAAAAAAAAAAAAAAAAAAAAAAAAAAAAAAAAAAAAAAAAAAAAAAAAAAAAAAAAAAAAAAAAAAAAAAAAAAAAAAAAAAAAAAAAAAAAAAAAAAAAAAAAAAAAAAAAAAAAAAAAAAAAAAAAAAAAAAAAAAAAAAAAAAAAAAAAAAAAAAAAAAAAAAAAAAAAAAAAAAAAAAAAAAAAAAAAAAAAAAAAAAAAAAAAAAAAAAAAAAAAAAAAAAAAAAAAAAAAAAAAAAAAAAAAAAAAAAAAAAAAAAAAAAAAAAAAAAAAAAAAAAAAAAAAAAAAAAAAAAAAAAAAAAAAAAAAAAAAAAAAAAAAAAAAAAAAAAAAAAAAAAAAAAAAAAAAAAAAAAAAAAAAAAAAAAAAAAAAAAAAAAAAAAAAAAAAAAAAAAAAAAAAAAAAAAAAAAAAAAAAAAAAAAAAAAAAAAAAAAAAAAAAAADO3WabOmC0/HUQzqJrpED8zt1mmzpg9PwAAAAAAAAAAAAAAAAAAAAAAAAAAAAAAAAAAAAAAAAAAAAAAAAAAAAAdRDOomukAPwAAAAAAAAAAAAAAAAAAAAAdRDOomukAP6d9Rqc0QTc/AAAAAAAAAAAAAAAAAAAAAG0a0KYBbWo/th9g+wG2Pz8AAAAAAAAAAB1EM6ia6QA/HUQzqJrpMD9mScP8mjK2P/GuOCK+VoU/XrPXNXtdsz/75BK2lMfBPw==",
             "dtype": "f8"
            },
            "coloraxis": "coloraxis",
            "size": {
             "bdata": "AAAAAAAAAAAAAAAAAAAAAAAAAAAAAAAAAAAAAAAAAAAAAAAAAAAAAAAAAAAAAAAAAAAAAAAAAAAAAAAAAAAAAAAAAAAAAAAAAAAAAAAAAAAAAAAAAAAAAAAAAAAAAAAAAAAAAAAAAAAAAAAAAAAAAAAAAAAAAAAAAAAAAAAAAAAAAAAAAAAAAAAAAAAAAAAAAAAAAAAAAAAAAAAAAAAAAAAAAAAAAAAAAAAAAAAAAAAAAAAAAAAAAAAAAAAAAAAAAAAAAAAAAAAAAAAAAAAAAAAAAAAAAAAAAAAAAAAAAAAAAAAAAAAAAAAAAAAAAAAAAAAAAAAAAAAAAAAAAAAAAAAAAAAAAAAAAAAAAAAAAAAAAAAAAAAAAAAAAAAAAAAAAAAAAAAAAAAAAAAAAAAAAAAAAAAAAAAAAAAAAAAAAAAAAAAAAAAAAAAAAAAAAAAAAAAAAAAAAAAAAAAAAAAAAAAAAAAAAAAAAAAAAAAAAAAAAAAAAAAAAAAAAAAAAAAAAAAAAAAAAAAAAAAAAAAAAAAAAAAAAAAAAAAAAAAAAAAAAAAAAAAAAAAAAAAAAAAAAAAAAAAAAAAAAAAAAAAAAAAAAAAAAAAAAAAAAAAAAAAAAAAAAAAAAAAAAAAAAAAAAAAAAAAAAAAAAAAAAAAAAAAAAAAAAAAAAAAAAAAAAAAAAAAAAAAAAAAAAAAAAAAAAAAAAAAAAAAAAAAAAAAAAAAAAAAAAAAAAAAAAAAAAAAAAAAAAAAAAAAAAAAAAAAAAAAAAAAAAAAAAAAAAAAAAAAAAAAAAAAAAAAAAAAAAAAAAAAAAAAAAAAAAAAAAAAAAAAAAAAAAAAAAAAAAAAAAAAAAAAAAAAAAAAAAAAAAAAAAAAAAAAAAAAAAAAAAAAAAAAAAAAAAAAAAAAAAAAAAAAAAAAAAAAAAAAAAAAAAAAAAAAAAAAAAAAAAAAAAAAAAAAAAAAAAAAAAAAAAAAAAAAAAAAAAAAAAAAAAAAAAAAAAAAAAAAAAAAAAAAAAAAAAAAAAAAAAAAAAAAAAAAAADO3WabOmC0/HUQzqJrpED8zt1mmzpg9PwAAAAAAAAAAAAAAAAAAAAAAAAAAAAAAAAAAAAAAAAAAAAAAAAAAAAAdRDOomukAPwAAAAAAAAAAAAAAAAAAAAAdRDOomukAP6d9Rqc0QTc/AAAAAAAAAAAAAAAAAAAAAG0a0KYBbWo/th9g+wG2Pz8AAAAAAAAAAB1EM6ia6QA/HUQzqJrpMD9mScP8mjK2P/GuOCK+VoU/XrPXNXtdsz/75BK2lMfBPw==",
             "dtype": "f8"
            },
            "sizemode": "area",
            "sizeref": 0.006043951612903227
           },
           "mode": "markers",
           "name": "",
           "showlegend": false,
           "subplot": "map",
           "type": "scattermap"
          }
         ],
         "name": "2024-10"
        },
        {
         "data": [
          {
           "hovertemplate": "month=2024-11<br>HTEURNEIGE_Q=%{marker.color}<br>lat=%{lat}<br>lon=%{lon}<extra></extra>",
           "lat": {
            "bdata": "GNilFLSrRkCtqV0k6bRGQOjesz0evkZAm+q6X1PHRkD/GkaOZ6tGQABCMISctEZAAFKvg9G9RkDuttWLBsdGQG43+PgXq0ZAYvcM1Ey0RkAzxay4gb1GQKMF6qW2xkZATM7WmuvPRkC6Xg2gkKFGQB/o1lTFqkZAO5cOFPqzRkCvGMfcLr1GQMLJEq5jxkZAk7gDh5jPRkA/pKtmzdhGQAj9G0wC4kZAFh4O/dGORkBVnm99BphGQJR3Dgo7oUZA7u39oW+qRkDb9VBEpLNGQEI0GvDYvEZAt/5rpA3GRkCOW1hgQs9GQA0C8SJ32EZAllpH66vhRkACIx2VeY5GQJY+s/etl0ZAyc57ZuKgRkDfD4rgFqpGQGPu8GRLs0ZAUAfD8n+8RkApqBKJtMVGQEHP8SbpzkZAwStyyx3YRkDqHaV1UuFGQC+3mySH6kZA3hrDIR6ORkBDg4dlUpdGQJMcc7WGoEZA6RqZELupRkCoYgx277JGQI+I3+QjvEZA39EkXFjFRkCQNO7ajM5GQHNXTWDB10ZAWZJT6/XgRkCa1fWe72hGQIoROokjckZA8ApKg1d7RkBzLjqMi4RGQEmYHqO/jUZASRQLx/OWRkA2HhP3J6BGQMzhSTJcqUZA+TrCd5CyRkD6tY7GxLtGQIiPwR35xEZABbVsfC3ORkDuQieYjmhGQFMivWHCcUZALd8SO/Z6RkCi3TwjKoRGQGoxTxlejUZA1Z1dHJKWRkD9lXsrxp9GQAM9vEX6qEZAEmYyai6yRkCslPCXYrtGQLb8CM6WxEZAEOke8/ZeRkD75WKKKmhGQBPWRTJecUZAimXc6ZF6RkDX7zqwxYNGQOV/dYT5jEZAMtCfZS2WRkAHS81SYZ9GQIUKEUuVqEZA7dh9TcmxRkAD2jABkF5GQPr+yXXDZ0ZABYT1+vZwRkBkDMiPKnpGQJ7qVTNeg0ZAkyCz5JGMRkCzX/OixZVGQBcJKm35nkZAui1qQi2oRkCgjsYhYbFGQHTOflpZZ0ZAZ4Tuu4xwRkDWQ/gswHlGQAFWsKzzgkZAf7MqOieMRkBuBHvUWpVGQICgtHqOnkZAQo/qK8KnRkAuiC/n9bBGQNbylaspukZAbzBUdR9wRkCIfZDBUnlGQDu8bRyGgkZAndv/hLmLRkArelr67JRGQPXlkHsgnkZAyhy2B1SnRkBjzNydh7BGQP7hSievb0ZAkiy1TeJ4RkC8qbKCFYJGQME+V8VIi0ZAtGfzRRawRkCK8/fRO29GQE7Fi9FueEZA87+BdcVuRkA2vTpN+HdGQA==",
            "dtype": "f8"
           },
           "legendgroup": "",
           "lon": {
            "bdata": "fdMnuEhZE0DmL32SnFwTQNK/OqTyXxNAogWY70pjE0AzeK7LucETQMUBOFowxRNA6VQ7N6nIE0DN9QZlJMwTQPY8B5MoKhRAbH9508EtFEB2EnR5XTEUQPp2XIf7NBRAimCb/5s4FEAaU1yB244UQDZ+OveUkhRA+yYz51CWFED0eb9TD5oUQGbvWz/QnRRA01CIrJOhFEB/vsedWaUUQAi1oBUiqRRAQ1VZZnLvFECNhd5XSfMUQPaUWdUi9xRAgsBT4f76FED8o1l+3f4UQI0/+66+AhVAYP3LdaIGFUBWt2LViAoVQMC8WdBxDhVAKthOaV0SFUB4EihJclcVQH/upKBrWxVAiz3YmmdfFUCxzmE6ZmMVQKzt5IFnZxVAoWgIdGtrFUDtlXYTcm8VQBda3WJ7cxVAtS3uZId3FUBqI14clnsVQPDt5YunfxVA4jrdi2+/FUBga7VGi8MVQO0rAbupxxVA8td268rLFUBNZdDa7s8VQENqy4sV1BVAiSMpAT/YFUBTeq49a9wVQIkKJESa4BVA2ihWF8zkFUD/UhGUjRYWQNnzlIrAGhZA4N02RvYeFkACT7XJLiMWQCwl0hdqJxZALuRSM6grFkDNuwAf6S8WQN2NqN0sNBZAXfQacnM4FkCpRyzfvDwWQLSktCcJQRZATvOPTlhFFkDGxoG8/H0WQEAk7LZRghZAt8XRjKmGFkBw9AZBBIsWQJS2Y9ZhjxZAWtXDT8KTFkBG4wawJZgWQGlCEPqLnBZAwSrHMPWgFkCEsBZXYaUWQJvK7W/QqRZAUJ61//TgFkDQGUgMaeUWQHCiyAfg6RZAIrMd9VnuFkBWmjHX1vIWQEiA8rBW9xZAXm1Shdn7FkCVUEdXXwAXQOwFyynoBBdA+Fzb/3MJF0D6Vp54PEgXQFL1IG3STBdANS/RZmtRF0DFYatoB1YXQEzar3WmWhdAvdzikEhfF0BFqky97WMXQN6H+f2VaBdA8sT5VUFtF0AkwmHI73EXQLbPzMg4tBdA116wvfO4F0AXZw/Rsb0XQBYuAAZzwhdA+wydXzfHF0AZdwTh/ssXQMYAWY3J0BdAKGbBZ5fVF0AlkmhzaNoXQEGlfbM83xdAwbUU9nggGEAnT+IXWSUYQKUMpXE8KhhAzlWNBiMvGEBWyc/ZDDQYQBxEpe75OBhAGOhKSOo9GECDIwLq3UIYQCTFsPn6hxhAibnAJv2MGEAgByWiApIYQP8cJG8LlxhAcwlFFVCrGECRRzuyee8YQAN2S+ed9BhAfj1vCfVWGUBEoSdDO1wZQA==",
            "dtype": "f8"
           },
           "marker": {
            "color": {
             "bdata": "AAAAAAAAAAAAAAAAAAAAAAAAAAAAAAAAAAAAAAAAAAAAAAAAAAAAAAAAAAAAAAAAAAAAAAAAAAAAAAAAAAAAAAAAAAAAAAAAAAAAAAAAAAAAAAAAAAAAAAAAAAAAAAAAAAAAAAAAAAAAAAAAAAAAAAAAAAAAAAAAAAAAAAAAAAAAAAAAAAAAAAAAAAAAAAAAAAAAAAAAAAAAAAAAAAAAAAAAAAAAAAAAAAAAAAAAAAAAAAAAAAAAAAAAAAAAAAAAAAAAAAAAAAAAAAAAAAAAAAAAAAAAAAAAAAAAAAAAAAAAAAAAAAAAAAAAAAAAAAAAAAAAAAAAAAAAAAAAAAAAAAAAAAAAAAAAAAAAAAAAAAAAAAAAAAAAAAAAAAAAAAAAAAAAAAAAAAAAAAAAAAAAAAAAAAAAAAAAAAAAAAAAAAAAAAAAAAAAAAAAAAAAAAAAHoK9nOx5ET8egr2c7HkBPwAAAAAAAAAAAAAAAAAAAAAAAAAAAAAAAAAAAAAAAAAAAAAAAAAAAAAAAAAAAAAAAAAAAAAAAAAAHoK9nOx5AT/ysFBrmneMP0X9G6GM3oY/WjzifUJjgz+0o0sSXpVOPy1DHOviNho/C2tQIUQfaT+l4uzDZ9glPwAAAAAAAAAAAAAAAAAAAAAAAAAAAAAAAAAAAAAAAAAAAAAAAAAAAAALa1AhRB9JP9Z7F9z8rE8/LUMc6+I2Gj8tQxzr4jZaPyL99nXgnHE/HoK9nOx5MT8AAAAAAAAAAB6CvZzseQE/AAAAAAAAAAAAAAAAAAAAAAAAAAAAAAAA9y64+Vk/cD8egr2c7HkRP5LLf0i/fU0//Knx0k1iUD8AAAAAAAAAAAAAAAAAAAAAAAAAAAAAAAAAAAAAAAAAANemnvLVe1c/peLsw2fYJT9mi5ESqOumP9HYhKH7X4s/HoK9nOx5IT8BTYQNT6+EP/Tb14FzRoQ/N2QWtKNLYj8AAAAAAAAAAAAAAAAAAAAA16ae8tV7Vz/gnBGlvcFnPy1DHOviNlo/UpYhjnVxiz8j2/l+arykP83x93gOUq0/j+cg1Z0Uoz/p/temnvK1PxEREREREXE/AAAAAAAAAAAAAAAAAAAAAAAAAAAAAAAAXt90uEOwpz+SEqjrduO6P3o2qz5XW6E//T2eg1R3kj+g0wY6baCjP1EkctTkPLY/rwC511xIij8AAAAAAAAAAE495av3LsA/aSJseHqlvD9b+OePVqKpP+BSu0w6t7Y/VjNYXt90wD9T4Hfm+HvQP/09noNUd8I/0B+tRLPF0D+9T2hswtDVPw==",
             "dtype": "f8"
            },
            "coloraxis": "coloraxis",
            "size": {
             "bdata": "AAAAAAAAAAAAAAAAAAAAAAAAAAAAAAAAAAAAAAAAAAAAAAAAAAAAAAAAAAAAAAAAAAAAAAAAAAAAAAAAAAAAAAAAAAAAAAAAAAAAAAAAAAAAAAAAAAAAAAAAAAAAAAAAAAAAAAAAAAAAAAAAAAAAAAAAAAAAAAAAAAAAAAAAAAAAAAAAAAAAAAAAAAAAAAAAAAAAAAAAAAAAAAAAAAAAAAAAAAAAAAAAAAAAAAAAAAAAAAAAAAAAAAAAAAAAAAAAAAAAAAAAAAAAAAAAAAAAAAAAAAAAAAAAAAAAAAAAAAAAAAAAAAAAAAAAAAAAAAAAAAAAAAAAAAAAAAAAAAAAAAAAAAAAAAAAAAAAAAAAAAAAAAAAAAAAAAAAAAAAAAAAAAAAAAAAAAAAAAAAAAAAAAAAAAAAAAAAAAAAAAAAAAAAAAAAAAAAAAAAAAAAAAAAHoK9nOx5ET8egr2c7HkBPwAAAAAAAAAAAAAAAAAAAAAAAAAAAAAAAAAAAAAAAAAAAAAAAAAAAAAAAAAAAAAAAAAAAAAAAAAAHoK9nOx5AT/ysFBrmneMP0X9G6GM3oY/WjzifUJjgz+0o0sSXpVOPy1DHOviNho/C2tQIUQfaT+l4uzDZ9glPwAAAAAAAAAAAAAAAAAAAAAAAAAAAAAAAAAAAAAAAAAAAAAAAAAAAAALa1AhRB9JP9Z7F9z8rE8/LUMc6+I2Gj8tQxzr4jZaPyL99nXgnHE/HoK9nOx5MT8AAAAAAAAAAB6CvZzseQE/AAAAAAAAAAAAAAAAAAAAAAAAAAAAAAAA9y64+Vk/cD8egr2c7HkRP5LLf0i/fU0//Knx0k1iUD8AAAAAAAAAAAAAAAAAAAAAAAAAAAAAAAAAAAAAAAAAANemnvLVe1c/peLsw2fYJT9mi5ESqOumP9HYhKH7X4s/HoK9nOx5IT8BTYQNT6+EP/Tb14FzRoQ/N2QWtKNLYj8AAAAAAAAAAAAAAAAAAAAA16ae8tV7Vz/gnBGlvcFnPy1DHOviNlo/UpYhjnVxiz8j2/l+arykP83x93gOUq0/j+cg1Z0Uoz/p/temnvK1PxEREREREXE/AAAAAAAAAAAAAAAAAAAAAAAAAAAAAAAAXt90uEOwpz+SEqjrduO6P3o2qz5XW6E//T2eg1R3kj+g0wY6baCjP1EkctTkPLY/rwC511xIij8AAAAAAAAAAE495av3LsA/aSJseHqlvD9b+OePVqKpP+BSu0w6t7Y/VjNYXt90wD9T4Hfm+HvQP/09noNUd8I/0B+tRLPF0D+9T2hswtDVPw==",
             "dtype": "f8"
            },
            "sizemode": "area",
            "sizeref": 0.006043951612903227
           },
           "mode": "markers",
           "name": "",
           "showlegend": false,
           "subplot": "map",
           "type": "scattermap"
          }
         ],
         "name": "2024-11"
        },
        {
         "data": [
          {
           "hovertemplate": "month=2024-12<br>HTEURNEIGE_Q=%{marker.color}<br>lat=%{lat}<br>lon=%{lon}<extra></extra>",
           "lat": {
            "bdata": "GNilFLSrRkCtqV0k6bRGQOjesz0evkZAm+q6X1PHRkD/GkaOZ6tGQABCMISctEZAAFKvg9G9RkDuttWLBsdGQG43+PgXq0ZAYvcM1Ey0RkAzxay4gb1GQKMF6qW2xkZATM7WmuvPRkC6Xg2gkKFGQB/o1lTFqkZAO5cOFPqzRkCvGMfcLr1GQMLJEq5jxkZAk7gDh5jPRkA/pKtmzdhGQAj9G0wC4kZAFh4O/dGORkBVnm99BphGQJR3Dgo7oUZA7u39oW+qRkDb9VBEpLNGQEI0GvDYvEZAt/5rpA3GRkCOW1hgQs9GQA0C8SJ32EZAllpH66vhRkACIx2VeY5GQJY+s/etl0ZAyc57ZuKgRkDfD4rgFqpGQGPu8GRLs0ZAUAfD8n+8RkApqBKJtMVGQEHP8SbpzkZAwStyyx3YRkDqHaV1UuFGQC+3mySH6kZA3hrDIR6ORkBDg4dlUpdGQJMcc7WGoEZA6RqZELupRkCoYgx277JGQI+I3+QjvEZA39EkXFjFRkCQNO7ajM5GQHNXTWDB10ZAWZJT6/XgRkCa1fWe72hGQIoROokjckZA8ApKg1d7RkBzLjqMi4RGQEmYHqO/jUZASRQLx/OWRkA2HhP3J6BGQMzhSTJcqUZA+TrCd5CyRkD6tY7GxLtGQIiPwR35xEZABbVsfC3ORkDuQieYjmhGQFMivWHCcUZALd8SO/Z6RkCi3TwjKoRGQGoxTxlejUZA1Z1dHJKWRkD9lXsrxp9GQAM9vEX6qEZAEmYyai6yRkCslPCXYrtGQLb8CM6WxEZAEOke8/ZeRkD75WKKKmhGQBPWRTJecUZAimXc6ZF6RkDX7zqwxYNGQOV/dYT5jEZAMtCfZS2WRkAHS81SYZ9GQIUKEUuVqEZA7dh9TcmxRkAD2jABkF5GQPr+yXXDZ0ZABYT1+vZwRkBkDMiPKnpGQJ7qVTNeg0ZAkyCz5JGMRkCzX/OixZVGQBcJKm35nkZAui1qQi2oRkCgjsYhYbFGQHTOflpZZ0ZAZ4Tuu4xwRkDWQ/gswHlGQAFWsKzzgkZAf7MqOieMRkBuBHvUWpVGQICgtHqOnkZAQo/qK8KnRkAuiC/n9bBGQNbylaspukZAbzBUdR9wRkCIfZDBUnlGQDu8bRyGgkZAndv/hLmLRkArelr67JRGQPXlkHsgnkZAyhy2B1SnRkBjzNydh7BGQP7hSievb0ZAkiy1TeJ4RkC8qbKCFYJGQME+V8VIi0ZAtGfzRRawRkCK8/fRO29GQE7Fi9FueEZA87+BdcVuRkA2vTpN+HdGQA==",
            "dtype": "f8"
           },
           "legendgroup": "",
           "lon": {
            "bdata": "fdMnuEhZE0DmL32SnFwTQNK/OqTyXxNAogWY70pjE0AzeK7LucETQMUBOFowxRNA6VQ7N6nIE0DN9QZlJMwTQPY8B5MoKhRAbH9508EtFEB2EnR5XTEUQPp2XIf7NBRAimCb/5s4FEAaU1yB244UQDZ+OveUkhRA+yYz51CWFED0eb9TD5oUQGbvWz/QnRRA01CIrJOhFEB/vsedWaUUQAi1oBUiqRRAQ1VZZnLvFECNhd5XSfMUQPaUWdUi9xRAgsBT4f76FED8o1l+3f4UQI0/+66+AhVAYP3LdaIGFUBWt2LViAoVQMC8WdBxDhVAKthOaV0SFUB4EihJclcVQH/upKBrWxVAiz3YmmdfFUCxzmE6ZmMVQKzt5IFnZxVAoWgIdGtrFUDtlXYTcm8VQBda3WJ7cxVAtS3uZId3FUBqI14clnsVQPDt5YunfxVA4jrdi2+/FUBga7VGi8MVQO0rAbupxxVA8td268rLFUBNZdDa7s8VQENqy4sV1BVAiSMpAT/YFUBTeq49a9wVQIkKJESa4BVA2ihWF8zkFUD/UhGUjRYWQNnzlIrAGhZA4N02RvYeFkACT7XJLiMWQCwl0hdqJxZALuRSM6grFkDNuwAf6S8WQN2NqN0sNBZAXfQacnM4FkCpRyzfvDwWQLSktCcJQRZATvOPTlhFFkDGxoG8/H0WQEAk7LZRghZAt8XRjKmGFkBw9AZBBIsWQJS2Y9ZhjxZAWtXDT8KTFkBG4wawJZgWQGlCEPqLnBZAwSrHMPWgFkCEsBZXYaUWQJvK7W/QqRZAUJ61//TgFkDQGUgMaeUWQHCiyAfg6RZAIrMd9VnuFkBWmjHX1vIWQEiA8rBW9xZAXm1Shdn7FkCVUEdXXwAXQOwFyynoBBdA+Fzb/3MJF0D6Vp54PEgXQFL1IG3STBdANS/RZmtRF0DFYatoB1YXQEzar3WmWhdAvdzikEhfF0BFqky97WMXQN6H+f2VaBdA8sT5VUFtF0AkwmHI73EXQLbPzMg4tBdA116wvfO4F0AXZw/Rsb0XQBYuAAZzwhdA+wydXzfHF0AZdwTh/ssXQMYAWY3J0BdAKGbBZ5fVF0AlkmhzaNoXQEGlfbM83xdAwbUU9nggGEAnT+IXWSUYQKUMpXE8KhhAzlWNBiMvGEBWyc/ZDDQYQBxEpe75OBhAGOhKSOo9GECDIwLq3UIYQCTFsPn6hxhAibnAJv2MGEAgByWiApIYQP8cJG8LlxhAcwlFFVCrGECRRzuyee8YQAN2S+ed9BhAfj1vCfVWGUBEoSdDO1wZQA==",
            "dtype": "f8"
           },
           "marker": {
            "color": {
             "bdata": "AAAAAAAAAAAAAAAAAAAAAB1EM6ia6QA/AAAAAAAAAAAAAAAAAAAAAB1EM6ia6QA/HUQzqJrpAD8AAAAAAAAAAB1EM6ia6QA/K+ZM/GdeKT8dRDOomukAPx1EM6ia6QA/HUQzqJrpAD+nfUanNEE3Px1EM6ia6QA/M7dZps6YLT8r5kz8Z14pPyvmTPxnXik/HUQzqJrpAD8AAAAAAAAAAAAAAAAAAAAAAAAAAAAAAACnfUanNEE3P20a0KYBbVo/K+ZM/GdeKT8zt1mmzpgtP7YfYPsBtj8/M7dZps6YLT8AAAAAAAAAAB1EM6ia6QA/HUQzqJrpAD8dRDOomukAPx1EM6ia6QA/A3v+fLScVD8kFUBSASQ1P6d9Rqc0QTc/tx9g+wG2Tz8zt1mmzpgtPx1EM6ia6QA/HUQzqJrpAD8dRDOomukAPx1EM6ia6QA/FQ1+BBR7wz9opx4QhJuqPx1EM6ia6RA/p31GpzRBNz8zt1mmzpg9P+mxyVHOT0g/K+ZM/GdeKT8dRDOomukQPwAAAAAAAAAAHUQzqJrpED9vRVe92jvSP14vscLf99A/w1vRVa/2zj/j0f3qqXzLP9GmAW0a0MY/tPTY5Cjnxz+1J63hOIG0PwAAAAAAAAAAM7dZps6YPT9MgI7RtOVZPyvmTPxnXik/HUQzqJrpAD8oniJ8w1uhP1GUCUWZUKQ/k7JbXO74iD8xuDS2fpauPyF9nmuBU8A/uakdNXTrrD8bGayRwRppPx13B6Wqg60/jbQRfE70Wj+2H2D7AbZPPwAAAAAAAAAAyC25D8YutD+G4wTS57mGP4KGhM6uTqM/lTwZlmAupj9j62fpscmhP2ZJw/yaMkY/JBVAUgEkNT+0wQToGE27P7bsi/7xG9M/A67SecQ2wT9JrcsH7q/DP6sV6I20Ebw/aF4ZgC+bkT/HPHjMg8e8P1HdDtXtUL0/cuy3YBilrz+cgo32pDWcPz7edH3ncFE/TaSjEQfnzT/BtHCycY3RP4ufu/i5i68/ld3icsfHsD/nyNX0wrPFP0iJtsebrtc/4CqdR2wTzj93qG6H6nbgPzanv9lgArQ/qFHkgKt0jj8djTg47+mpP2AnZNyoLLQ/JxvXGNjzxz8CzFDzP2jaPyDyBSJfIMI/N2ye9hmdwj/ve2QlrrzQP/86IeNGZeE/QlEmFGVCwT+7SQwCK4emP7yg9T6NIt8/zk8YMLg03j9vq/+2+m/LPxOvIvEqEtc/FYLluvFH4T9mM5JpVszpP9GQ0NnVaeI/SP4dfnl75T+f51rgFGzoPw==",
             "dtype": "f8"
            },
            "coloraxis": "coloraxis",
            "size": {
             "bdata": "AAAAAAAAAAAAAAAAAAAAAB1EM6ia6QA/AAAAAAAAAAAAAAAAAAAAAB1EM6ia6QA/HUQzqJrpAD8AAAAAAAAAAB1EM6ia6QA/K+ZM/GdeKT8dRDOomukAPx1EM6ia6QA/HUQzqJrpAD+nfUanNEE3Px1EM6ia6QA/M7dZps6YLT8r5kz8Z14pPyvmTPxnXik/HUQzqJrpAD8AAAAAAAAAAAAAAAAAAAAAAAAAAAAAAACnfUanNEE3P20a0KYBbVo/K+ZM/GdeKT8zt1mmzpgtP7YfYPsBtj8/M7dZps6YLT8AAAAAAAAAAB1EM6ia6QA/HUQzqJrpAD8dRDOomukAPx1EM6ia6QA/A3v+fLScVD8kFUBSASQ1P6d9Rqc0QTc/tx9g+wG2Tz8zt1mmzpgtPx1EM6ia6QA/HUQzqJrpAD8dRDOomukAPx1EM6ia6QA/FQ1+BBR7wz9opx4QhJuqPx1EM6ia6RA/p31GpzRBNz8zt1mmzpg9P+mxyVHOT0g/K+ZM/GdeKT8dRDOomukQPwAAAAAAAAAAHUQzqJrpED9vRVe92jvSP14vscLf99A/w1vRVa/2zj/j0f3qqXzLP9GmAW0a0MY/tPTY5Cjnxz+1J63hOIG0PwAAAAAAAAAAM7dZps6YPT9MgI7RtOVZPyvmTPxnXik/HUQzqJrpAD8oniJ8w1uhP1GUCUWZUKQ/k7JbXO74iD8xuDS2fpauPyF9nmuBU8A/uakdNXTrrD8bGayRwRppPx13B6Wqg60/jbQRfE70Wj+2H2D7AbZPPwAAAAAAAAAAyC25D8YutD+G4wTS57mGP4KGhM6uTqM/lTwZlmAupj9j62fpscmhP2ZJw/yaMkY/JBVAUgEkNT+0wQToGE27P7bsi/7xG9M/A67SecQ2wT9JrcsH7q/DP6sV6I20Ebw/aF4ZgC+bkT/HPHjMg8e8P1HdDtXtUL0/cuy3YBilrz+cgo32pDWcPz7edH3ncFE/TaSjEQfnzT/BtHCycY3RP4ufu/i5i68/ld3icsfHsD/nyNX0wrPFP0iJtsebrtc/4CqdR2wTzj93qG6H6nbgPzanv9lgArQ/qFHkgKt0jj8djTg47+mpP2AnZNyoLLQ/JxvXGNjzxz8CzFDzP2jaPyDyBSJfIMI/N2ye9hmdwj/ve2QlrrzQP/86IeNGZeE/QlEmFGVCwT+7SQwCK4emP7yg9T6NIt8/zk8YMLg03j9vq/+2+m/LPxOvIvEqEtc/FYLluvFH4T9mM5JpVszpP9GQ0NnVaeI/SP4dfnl75T+f51rgFGzoPw==",
             "dtype": "f8"
            },
            "sizemode": "area",
            "sizeref": 0.006043951612903227
           },
           "mode": "markers",
           "name": "",
           "showlegend": false,
           "subplot": "map",
           "type": "scattermap"
          }
         ],
         "name": "2024-12"
        },
        {
         "data": [
          {
           "hovertemplate": "month=2025-01<br>HTEURNEIGE_Q=%{marker.color}<br>lat=%{lat}<br>lon=%{lon}<extra></extra>",
           "lat": {
            "bdata": "GNilFLSrRkCtqV0k6bRGQOjesz0evkZAm+q6X1PHRkD/GkaOZ6tGQABCMISctEZAAFKvg9G9RkDuttWLBsdGQG43+PgXq0ZAYvcM1Ey0RkAzxay4gb1GQKMF6qW2xkZATM7WmuvPRkC6Xg2gkKFGQB/o1lTFqkZAO5cOFPqzRkCvGMfcLr1GQMLJEq5jxkZAk7gDh5jPRkA/pKtmzdhGQAj9G0wC4kZAFh4O/dGORkBVnm99BphGQJR3Dgo7oUZA7u39oW+qRkDb9VBEpLNGQEI0GvDYvEZAt/5rpA3GRkCOW1hgQs9GQA0C8SJ32EZAllpH66vhRkACIx2VeY5GQJY+s/etl0ZAyc57ZuKgRkDfD4rgFqpGQGPu8GRLs0ZAUAfD8n+8RkApqBKJtMVGQEHP8SbpzkZAwStyyx3YRkDqHaV1UuFGQC+3mySH6kZA3hrDIR6ORkBDg4dlUpdGQJMcc7WGoEZA6RqZELupRkCoYgx277JGQI+I3+QjvEZA39EkXFjFRkCQNO7ajM5GQHNXTWDB10ZAWZJT6/XgRkCa1fWe72hGQIoROokjckZA8ApKg1d7RkBzLjqMi4RGQEmYHqO/jUZASRQLx/OWRkA2HhP3J6BGQMzhSTJcqUZA+TrCd5CyRkD6tY7GxLtGQIiPwR35xEZABbVsfC3ORkDuQieYjmhGQFMivWHCcUZALd8SO/Z6RkCi3TwjKoRGQGoxTxlejUZA1Z1dHJKWRkD9lXsrxp9GQAM9vEX6qEZAEmYyai6yRkCslPCXYrtGQLb8CM6WxEZAEOke8/ZeRkD75WKKKmhGQBPWRTJecUZAimXc6ZF6RkDX7zqwxYNGQOV/dYT5jEZAMtCfZS2WRkAHS81SYZ9GQIUKEUuVqEZA7dh9TcmxRkAD2jABkF5GQPr+yXXDZ0ZABYT1+vZwRkBkDMiPKnpGQJ7qVTNeg0ZAkyCz5JGMRkCzX/OixZVGQBcJKm35nkZAui1qQi2oRkCgjsYhYbFGQHTOflpZZ0ZAZ4Tuu4xwRkDWQ/gswHlGQAFWsKzzgkZAf7MqOieMRkBuBHvUWpVGQICgtHqOnkZAQo/qK8KnRkAuiC/n9bBGQNbylaspukZAbzBUdR9wRkCIfZDBUnlGQDu8bRyGgkZAndv/hLmLRkArelr67JRGQPXlkHsgnkZAyhy2B1SnRkBjzNydh7BGQP7hSievb0ZAkiy1TeJ4RkC8qbKCFYJGQME+V8VIi0ZAtGfzRRawRkCK8/fRO29GQE7Fi9FueEZA87+BdcVuRkA2vTpN+HdGQA==",
            "dtype": "f8"
           },
           "legendgroup": "",
           "lon": {
            "bdata": "fdMnuEhZE0DmL32SnFwTQNK/OqTyXxNAogWY70pjE0AzeK7LucETQMUBOFowxRNA6VQ7N6nIE0DN9QZlJMwTQPY8B5MoKhRAbH9508EtFEB2EnR5XTEUQPp2XIf7NBRAimCb/5s4FEAaU1yB244UQDZ+OveUkhRA+yYz51CWFED0eb9TD5oUQGbvWz/QnRRA01CIrJOhFEB/vsedWaUUQAi1oBUiqRRAQ1VZZnLvFECNhd5XSfMUQPaUWdUi9xRAgsBT4f76FED8o1l+3f4UQI0/+66+AhVAYP3LdaIGFUBWt2LViAoVQMC8WdBxDhVAKthOaV0SFUB4EihJclcVQH/upKBrWxVAiz3YmmdfFUCxzmE6ZmMVQKzt5IFnZxVAoWgIdGtrFUDtlXYTcm8VQBda3WJ7cxVAtS3uZId3FUBqI14clnsVQPDt5YunfxVA4jrdi2+/FUBga7VGi8MVQO0rAbupxxVA8td268rLFUBNZdDa7s8VQENqy4sV1BVAiSMpAT/YFUBTeq49a9wVQIkKJESa4BVA2ihWF8zkFUD/UhGUjRYWQNnzlIrAGhZA4N02RvYeFkACT7XJLiMWQCwl0hdqJxZALuRSM6grFkDNuwAf6S8WQN2NqN0sNBZAXfQacnM4FkCpRyzfvDwWQLSktCcJQRZATvOPTlhFFkDGxoG8/H0WQEAk7LZRghZAt8XRjKmGFkBw9AZBBIsWQJS2Y9ZhjxZAWtXDT8KTFkBG4wawJZgWQGlCEPqLnBZAwSrHMPWgFkCEsBZXYaUWQJvK7W/QqRZAUJ61//TgFkDQGUgMaeUWQHCiyAfg6RZAIrMd9VnuFkBWmjHX1vIWQEiA8rBW9xZAXm1Shdn7FkCVUEdXXwAXQOwFyynoBBdA+Fzb/3MJF0D6Vp54PEgXQFL1IG3STBdANS/RZmtRF0DFYatoB1YXQEzar3WmWhdAvdzikEhfF0BFqky97WMXQN6H+f2VaBdA8sT5VUFtF0AkwmHI73EXQLbPzMg4tBdA116wvfO4F0AXZw/Rsb0XQBYuAAZzwhdA+wydXzfHF0AZdwTh/ssXQMYAWY3J0BdAKGbBZ5fVF0AlkmhzaNoXQEGlfbM83xdAwbUU9nggGEAnT+IXWSUYQKUMpXE8KhhAzlWNBiMvGEBWyc/ZDDQYQBxEpe75OBhAGOhKSOo9GECDIwLq3UIYQCTFsPn6hxhAibnAJv2MGEAgByWiApIYQP8cJG8LlxhAcwlFFVCrGECRRzuyee8YQAN2S+ed9BhAfj1vCfVWGUBEoSdDO1wZQA==",
            "dtype": "f8"
           },
           "marker": {
            "color": {
             "bdata": "AAAAAAAAAAAAAAAAAAAAAAAAAAAAAAAAAAAAAAAAAAAAAAAAAAAAAAAAAAAAAAAAAAAAAAAAAAAAAAAAAAAAAAAAAAAAAAAAAAAAAAAAAAAAAAAAAAAAAAAAAAAAAAAAAAAAAAAAAAAAAAAAAAAAAAAAAAAAAAAAAAAAAAAAAAAAAAAAAAAAAAAAAAAAAAAAAAAAAAAAAAAAAAAAAAAAAAAAAAAAAAAAAAAAAAAAAAAAAAAAAAAAAAAAAAAAAAAAAAAAAAAAAAAAAAAAAAAAAAAAAAAAAAAAAAAAAAAAAAAAAAAAAAAAAAAAAAAAAAAAAAAAAAAAAAAAAAAAAAAAAAAAAAAAAAAAAAAAAAAAAAAAAAAAAAAAAAAAAAAAAAAAAAAAAAAAAAAAAAAAAAAAAAAAAAAAAAAAAAAAAAAAAAAAAAAAAAAAAAAAAAAAAAAAoQtwIGdtuD8vzmVJw/yqPwAAAAAAAAAAAAAAAAAAAAAAAAAAAAAAAAAAAAAAAAAAAAAAAAAAAAAAAAAAAAAAAAAAAAAAAAAAAAAAAAAAAABFDrhK5xHbP43KQg+TWtc/RADUndl20z8Up9UK9EbKP3XyTifvdMI/Zw6iGVTNxD8cPcHRExy9PwAAAAAAAAAAAAAAAAAAAAAAAAAAAAAAAAAAAAAAAAAAAAAAAAAAAAC7M9tu5iCaP8FGe9IajqM/M7dZps6YLT8W0lwhzRWyP9KBER0Y0cE/iypUQty+rT8AAAAAAAAAAGYzkmlWzKk/AAAAAAAAAAAAAAAAAAAAAAAAAAAAAAAAlHc6eaeTtz8dRDOomukwP1Efoo67g6I/61G4HoXroT+/0u4r7b6iPwAAAAAAAAAAAAAAAAAAAADxgtb7NIq8PwDUndl2M98/IDSZ2yxTxz+5ml54tlLUPzOL939FzMQ/r05TUZt7Sz8uqlAJcfvGP+c9PauggMc/Wcu+6B+/sT95K7rq1d6RPwAAAAAAAAAALo2tn6XH1j+bkUyzYs7cPyG35D4Yu7A/Dm9FV73auz92hFlHmHXUP2bUW0a9ZeQ/97pmr2v22j/81VP51i7tP7+QW3IfjL0/861dEg5ZdD/ILbkPxi6UPzw+hrAw1ac/65NL2FIe1z9A3ZltN3PoPz/PtcAp2NA/C8jks39xzj/Rep9GkQPePz8u7OPCPu4/10Q6GnFwzj90Fz938XOnP8S6B3lIXew/slTqF3JL6j9LN4lBYOXYP4d1D/KQuuQ/ul89lW/t7j9gPZVv7ZL0P82gaqZDAPA/qEIlxO3b8T/AImaSyIzzPw==",
             "dtype": "f8"
            },
            "coloraxis": "coloraxis",
            "size": {
             "bdata": "AAAAAAAAAAAAAAAAAAAAAAAAAAAAAAAAAAAAAAAAAAAAAAAAAAAAAAAAAAAAAAAAAAAAAAAAAAAAAAAAAAAAAAAAAAAAAAAAAAAAAAAAAAAAAAAAAAAAAAAAAAAAAAAAAAAAAAAAAAAAAAAAAAAAAAAAAAAAAAAAAAAAAAAAAAAAAAAAAAAAAAAAAAAAAAAAAAAAAAAAAAAAAAAAAAAAAAAAAAAAAAAAAAAAAAAAAAAAAAAAAAAAAAAAAAAAAAAAAAAAAAAAAAAAAAAAAAAAAAAAAAAAAAAAAAAAAAAAAAAAAAAAAAAAAAAAAAAAAAAAAAAAAAAAAAAAAAAAAAAAAAAAAAAAAAAAAAAAAAAAAAAAAAAAAAAAAAAAAAAAAAAAAAAAAAAAAAAAAAAAAAAAAAAAAAAAAAAAAAAAAAAAAAAAAAAAAAAAAAAAAAAAAAAAoQtwIGdtuD8vzmVJw/yqPwAAAAAAAAAAAAAAAAAAAAAAAAAAAAAAAAAAAAAAAAAAAAAAAAAAAAAAAAAAAAAAAAAAAAAAAAAAAAAAAAAAAABFDrhK5xHbP43KQg+TWtc/RADUndl20z8Up9UK9EbKP3XyTifvdMI/Zw6iGVTNxD8cPcHRExy9PwAAAAAAAAAAAAAAAAAAAAAAAAAAAAAAAAAAAAAAAAAAAAAAAAAAAAC7M9tu5iCaP8FGe9IajqM/M7dZps6YLT8W0lwhzRWyP9KBER0Y0cE/iypUQty+rT8AAAAAAAAAAGYzkmlWzKk/AAAAAAAAAAAAAAAAAAAAAAAAAAAAAAAAlHc6eaeTtz8dRDOomukwP1Efoo67g6I/61G4HoXroT+/0u4r7b6iPwAAAAAAAAAAAAAAAAAAAADxgtb7NIq8PwDUndl2M98/IDSZ2yxTxz+5ml54tlLUPzOL939FzMQ/r05TUZt7Sz8uqlAJcfvGP+c9PauggMc/Wcu+6B+/sT95K7rq1d6RPwAAAAAAAAAALo2tn6XH1j+bkUyzYs7cPyG35D4Yu7A/Dm9FV73auz92hFlHmHXUP2bUW0a9ZeQ/97pmr2v22j/81VP51i7tP7+QW3IfjL0/861dEg5ZdD/ILbkPxi6UPzw+hrAw1ac/65NL2FIe1z9A3ZltN3PoPz/PtcAp2NA/C8jks39xzj/Rep9GkQPePz8u7OPCPu4/10Q6GnFwzj90Fz938XOnP8S6B3lIXew/slTqF3JL6j9LN4lBYOXYP4d1D/KQuuQ/ul89lW/t7j9gPZVv7ZL0P82gaqZDAPA/qEIlxO3b8T/AImaSyIzzPw==",
             "dtype": "f8"
            },
            "sizemode": "area",
            "sizeref": 0.006043951612903227
           },
           "mode": "markers",
           "name": "",
           "showlegend": false,
           "subplot": "map",
           "type": "scattermap"
          }
         ],
         "name": "2025-01"
        },
        {
         "data": [
          {
           "hovertemplate": "month=2025-02<br>HTEURNEIGE_Q=%{marker.color}<br>lat=%{lat}<br>lon=%{lon}<extra></extra>",
           "lat": {
            "bdata": "GNilFLSrRkCtqV0k6bRGQOjesz0evkZAm+q6X1PHRkD/GkaOZ6tGQABCMISctEZAAFKvg9G9RkDuttWLBsdGQG43+PgXq0ZAYvcM1Ey0RkAzxay4gb1GQKMF6qW2xkZATM7WmuvPRkC6Xg2gkKFGQB/o1lTFqkZAO5cOFPqzRkCvGMfcLr1GQMLJEq5jxkZAk7gDh5jPRkA/pKtmzdhGQAj9G0wC4kZAFh4O/dGORkBVnm99BphGQJR3Dgo7oUZA7u39oW+qRkDb9VBEpLNGQEI0GvDYvEZAt/5rpA3GRkCOW1hgQs9GQA0C8SJ32EZAllpH66vhRkACIx2VeY5GQJY+s/etl0ZAyc57ZuKgRkDfD4rgFqpGQGPu8GRLs0ZAUAfD8n+8RkApqBKJtMVGQEHP8SbpzkZAwStyyx3YRkDqHaV1UuFGQC+3mySH6kZA3hrDIR6ORkBDg4dlUpdGQJMcc7WGoEZA6RqZELupRkCoYgx277JGQI+I3+QjvEZA39EkXFjFRkCQNO7ajM5GQHNXTWDB10ZAWZJT6/XgRkCa1fWe72hGQIoROokjckZA8ApKg1d7RkBzLjqMi4RGQEmYHqO/jUZASRQLx/OWRkA2HhP3J6BGQMzhSTJcqUZA+TrCd5CyRkD6tY7GxLtGQIiPwR35xEZABbVsfC3ORkDuQieYjmhGQFMivWHCcUZALd8SO/Z6RkCi3TwjKoRGQGoxTxlejUZA1Z1dHJKWRkD9lXsrxp9GQAM9vEX6qEZAEmYyai6yRkCslPCXYrtGQLb8CM6WxEZAEOke8/ZeRkD75WKKKmhGQBPWRTJecUZAimXc6ZF6RkDX7zqwxYNGQOV/dYT5jEZAMtCfZS2WRkAHS81SYZ9GQIUKEUuVqEZA7dh9TcmxRkAD2jABkF5GQPr+yXXDZ0ZABYT1+vZwRkBkDMiPKnpGQJ7qVTNeg0ZAkyCz5JGMRkCzX/OixZVGQBcJKm35nkZAui1qQi2oRkCgjsYhYbFGQHTOflpZZ0ZAZ4Tuu4xwRkDWQ/gswHlGQAFWsKzzgkZAf7MqOieMRkBuBHvUWpVGQICgtHqOnkZAQo/qK8KnRkAuiC/n9bBGQNbylaspukZAbzBUdR9wRkCIfZDBUnlGQDu8bRyGgkZAndv/hLmLRkArelr67JRGQPXlkHsgnkZAyhy2B1SnRkBjzNydh7BGQP7hSievb0ZAkiy1TeJ4RkC8qbKCFYJGQME+V8VIi0ZAtGfzRRawRkCK8/fRO29GQE7Fi9FueEZA87+BdcVuRkA2vTpN+HdGQA==",
            "dtype": "f8"
           },
           "legendgroup": "",
           "lon": {
            "bdata": "fdMnuEhZE0DmL32SnFwTQNK/OqTyXxNAogWY70pjE0AzeK7LucETQMUBOFowxRNA6VQ7N6nIE0DN9QZlJMwTQPY8B5MoKhRAbH9508EtFEB2EnR5XTEUQPp2XIf7NBRAimCb/5s4FEAaU1yB244UQDZ+OveUkhRA+yYz51CWFED0eb9TD5oUQGbvWz/QnRRA01CIrJOhFEB/vsedWaUUQAi1oBUiqRRAQ1VZZnLvFECNhd5XSfMUQPaUWdUi9xRAgsBT4f76FED8o1l+3f4UQI0/+66+AhVAYP3LdaIGFUBWt2LViAoVQMC8WdBxDhVAKthOaV0SFUB4EihJclcVQH/upKBrWxVAiz3YmmdfFUCxzmE6ZmMVQKzt5IFnZxVAoWgIdGtrFUDtlXYTcm8VQBda3WJ7cxVAtS3uZId3FUBqI14clnsVQPDt5YunfxVA4jrdi2+/FUBga7VGi8MVQO0rAbupxxVA8td268rLFUBNZdDa7s8VQENqy4sV1BVAiSMpAT/YFUBTeq49a9wVQIkKJESa4BVA2ihWF8zkFUD/UhGUjRYWQNnzlIrAGhZA4N02RvYeFkACT7XJLiMWQCwl0hdqJxZALuRSM6grFkDNuwAf6S8WQN2NqN0sNBZAXfQacnM4FkCpRyzfvDwWQLSktCcJQRZATvOPTlhFFkDGxoG8/H0WQEAk7LZRghZAt8XRjKmGFkBw9AZBBIsWQJS2Y9ZhjxZAWtXDT8KTFkBG4wawJZgWQGlCEPqLnBZAwSrHMPWgFkCEsBZXYaUWQJvK7W/QqRZAUJ61//TgFkDQGUgMaeUWQHCiyAfg6RZAIrMd9VnuFkBWmjHX1vIWQEiA8rBW9xZAXm1Shdn7FkCVUEdXXwAXQOwFyynoBBdA+Fzb/3MJF0D6Vp54PEgXQFL1IG3STBdANS/RZmtRF0DFYatoB1YXQEzar3WmWhdAvdzikEhfF0BFqky97WMXQN6H+f2VaBdA8sT5VUFtF0AkwmHI73EXQLbPzMg4tBdA116wvfO4F0AXZw/Rsb0XQBYuAAZzwhdA+wydXzfHF0AZdwTh/ssXQMYAWY3J0BdAKGbBZ5fVF0AlkmhzaNoXQEGlfbM83xdAwbUU9nggGEAnT+IXWSUYQKUMpXE8KhhAzlWNBiMvGEBWyc/ZDDQYQBxEpe75OBhAGOhKSOo9GECDIwLq3UIYQCTFsPn6hxhAibnAJv2MGEAgByWiApIYQP8cJG8LlxhAcwlFFVCrGECRRzuyee8YQAN2S+ed9BhAfj1vCfVWGUBEoSdDO1wZQA==",
            "dtype": "f8"
           },
           "marker": {
            "color": {
             "bdata": "AAAAAAAAAAAAAAAAAAAAAAAAAAAAAAAAAAAAAAAAAAAAAAAAAAAAAAAAAAAAAAAAAAAAAAAAAAAAAAAAAAAAAAAAAAAAAAAAAAAAAAAAAAAAAAAAAAAAAAAAAAAAAAAAAAAAAAAAAACOVF2DfbkCPwAAAAAAAAAAjlRdg325Aj+OVF2DfbkCP45UXYN9uQI/AAAAAAAAAAAAAAAAAAAAAAAAAAAAAAAAAAAAAAAAAACOVF2DfbkCP45UXYN9uRI/AAAAAAAAAACOVF2DfbkCP45UXYN9uQI/jlRdg325Aj8AAAAAAAAAAAAAAAAAAAAAAAAAAAAAAAAAAAAAAAAAAAAAAAAAAAAAjlRdg325Aj+OVF2DfbkCP45UXYN9uQI/jlRdg325Aj8AAAAAAAAAAAAAAAAAAAAAAAAAAAAAAAAAAAAAAAAAAAAAAAAAAAAA8gkatf9CcT91GTsiYRydPwAAAAAAAAAAjlRdg325Aj+OVF2DfbkCP45UXYN9uQI/jlRdg325Aj8AAAAAAAAAAAAAAAAAAAAAAAAAAAAAAAA//pFnWiHUPwIrhxbZzs8/C0U8Fhzgxj86LqZYs5G6P3c4ffwjz5Q/QK87nD7+sT+TniZ0GTuyPwAAAAAAAAAAjlRdg325Aj+OVF2DfbkCPwAAAAAAAAAAAAAAAAAAAADD6eMfeaZlP6I5cbfnuIg/AAAAAAAAAAA9FhzghlmqPyJhHJ11yrQ/H8j84L0lnT8AAAAAAAAAANJZp0xuVaQ/jlRdg325Ej+OVF2DfbkCPwAAAAAAAAAA+BDSFpa9qD8AAAAAAAAAAEw3iUFg5YA/f+SZVogKdD9WlE/QqP13PwAAAAAAAAAAAAAAAAAAAACVT9Co/ReqPz4K16NwPdg/Bge4YZZ6tz/iK77iK77WP3uOiynWbMA/AAAAAAAAAAAIaQvLXjS/P2MEE/2drMI/39WvtXkgoz8AAAAAAAAAAAAAAAAAAAAAPsfFFGs20D8o4rHgADfWPyLb+X5qvJQ/HgsOcMMstT9RgVIy/GbUP2edMrlVUeY/27Zt27Zt2z9dg325EkDwP+Juz3ExxbI/AAAAAAAAAAAAAAAAAAAAAAAAAAAAAAAAKdZspOoa2D9BYOXQItvrP/lHnmmFqNA/VwLodYfTyz+R7Xw/NV7eP09WyxsjGPE/qf0XingsyD8TNGr/hSJ+P72rX2vzQPA/aFohKlBK7T8wjs46ZXLZP4VxdNYpk+Y/2sKyF80J8j/J8JuBD6H3P4bfDHwIafI/X/EVX/GV9j+XN0Yw0V/4Pw==",
             "dtype": "f8"
            },
            "coloraxis": "coloraxis",
            "size": {
             "bdata": "AAAAAAAAAAAAAAAAAAAAAAAAAAAAAAAAAAAAAAAAAAAAAAAAAAAAAAAAAAAAAAAAAAAAAAAAAAAAAAAAAAAAAAAAAAAAAAAAAAAAAAAAAAAAAAAAAAAAAAAAAAAAAAAAAAAAAAAAAACOVF2DfbkCPwAAAAAAAAAAjlRdg325Aj+OVF2DfbkCP45UXYN9uQI/AAAAAAAAAAAAAAAAAAAAAAAAAAAAAAAAAAAAAAAAAACOVF2DfbkCP45UXYN9uRI/AAAAAAAAAACOVF2DfbkCP45UXYN9uQI/jlRdg325Aj8AAAAAAAAAAAAAAAAAAAAAAAAAAAAAAAAAAAAAAAAAAAAAAAAAAAAAjlRdg325Aj+OVF2DfbkCP45UXYN9uQI/jlRdg325Aj8AAAAAAAAAAAAAAAAAAAAAAAAAAAAAAAAAAAAAAAAAAAAAAAAAAAAA8gkatf9CcT91GTsiYRydPwAAAAAAAAAAjlRdg325Aj+OVF2DfbkCP45UXYN9uQI/jlRdg325Aj8AAAAAAAAAAAAAAAAAAAAAAAAAAAAAAAA//pFnWiHUPwIrhxbZzs8/C0U8Fhzgxj86LqZYs5G6P3c4ffwjz5Q/QK87nD7+sT+TniZ0GTuyPwAAAAAAAAAAjlRdg325Aj+OVF2DfbkCPwAAAAAAAAAAAAAAAAAAAADD6eMfeaZlP6I5cbfnuIg/AAAAAAAAAAA9FhzghlmqPyJhHJ11yrQ/H8j84L0lnT8AAAAAAAAAANJZp0xuVaQ/jlRdg325Ej+OVF2DfbkCPwAAAAAAAAAA+BDSFpa9qD8AAAAAAAAAAEw3iUFg5YA/f+SZVogKdD9WlE/QqP13PwAAAAAAAAAAAAAAAAAAAACVT9Co/ReqPz4K16NwPdg/Bge4YZZ6tz/iK77iK77WP3uOiynWbMA/AAAAAAAAAAAIaQvLXjS/P2MEE/2drMI/39WvtXkgoz8AAAAAAAAAAAAAAAAAAAAAPsfFFGs20D8o4rHgADfWPyLb+X5qvJQ/HgsOcMMstT9RgVIy/GbUP2edMrlVUeY/27Zt27Zt2z9dg325EkDwP+Juz3ExxbI/AAAAAAAAAAAAAAAAAAAAAAAAAAAAAAAAKdZspOoa2D9BYOXQItvrP/lHnmmFqNA/VwLodYfTyz+R7Xw/NV7eP09WyxsjGPE/qf0XingsyD8TNGr/hSJ+P72rX2vzQPA/aFohKlBK7T8wjs46ZXLZP4VxdNYpk+Y/2sKyF80J8j/J8JuBD6H3P4bfDHwIafI/X/EVX/GV9j+XN0Yw0V/4Pw==",
             "dtype": "f8"
            },
            "sizemode": "area",
            "sizeref": 0.006043951612903227
           },
           "mode": "markers",
           "name": "",
           "showlegend": false,
           "subplot": "map",
           "type": "scattermap"
          }
         ],
         "name": "2025-02"
        },
        {
         "data": [
          {
           "hovertemplate": "month=2025-03<br>HTEURNEIGE_Q=%{marker.color}<br>lat=%{lat}<br>lon=%{lon}<extra></extra>",
           "lat": {
            "bdata": "GNilFLSrRkCtqV0k6bRGQOjesz0evkZAm+q6X1PHRkD/GkaOZ6tGQABCMISctEZAAFKvg9G9RkDuttWLBsdGQG43+PgXq0ZAYvcM1Ey0RkAzxay4gb1GQKMF6qW2xkZATM7WmuvPRkC6Xg2gkKFGQB/o1lTFqkZAO5cOFPqzRkCvGMfcLr1GQMLJEq5jxkZAk7gDh5jPRkA/pKtmzdhGQAj9G0wC4kZAFh4O/dGORkBVnm99BphGQJR3Dgo7oUZA7u39oW+qRkDb9VBEpLNGQEI0GvDYvEZAt/5rpA3GRkCOW1hgQs9GQA0C8SJ32EZAllpH66vhRkACIx2VeY5GQJY+s/etl0ZAyc57ZuKgRkDfD4rgFqpGQGPu8GRLs0ZAUAfD8n+8RkApqBKJtMVGQEHP8SbpzkZAwStyyx3YRkDqHaV1UuFGQC+3mySH6kZA3hrDIR6ORkBDg4dlUpdGQJMcc7WGoEZA6RqZELupRkCoYgx277JGQI+I3+QjvEZA39EkXFjFRkCQNO7ajM5GQHNXTWDB10ZAWZJT6/XgRkCa1fWe72hGQIoROokjckZA8ApKg1d7RkBzLjqMi4RGQEmYHqO/jUZASRQLx/OWRkA2HhP3J6BGQMzhSTJcqUZA+TrCd5CyRkD6tY7GxLtGQIiPwR35xEZABbVsfC3ORkDuQieYjmhGQFMivWHCcUZALd8SO/Z6RkCi3TwjKoRGQGoxTxlejUZA1Z1dHJKWRkD9lXsrxp9GQAM9vEX6qEZAEmYyai6yRkCslPCXYrtGQLb8CM6WxEZAEOke8/ZeRkD75WKKKmhGQBPWRTJecUZAimXc6ZF6RkDX7zqwxYNGQOV/dYT5jEZAMtCfZS2WRkAHS81SYZ9GQIUKEUuVqEZA7dh9TcmxRkAD2jABkF5GQPr+yXXDZ0ZABYT1+vZwRkBkDMiPKnpGQJ7qVTNeg0ZAkyCz5JGMRkCzX/OixZVGQBcJKm35nkZAui1qQi2oRkCgjsYhYbFGQHTOflpZZ0ZAZ4Tuu4xwRkDWQ/gswHlGQAFWsKzzgkZAf7MqOieMRkBuBHvUWpVGQICgtHqOnkZAQo/qK8KnRkAuiC/n9bBGQNbylaspukZAbzBUdR9wRkCIfZDBUnlGQDu8bRyGgkZAndv/hLmLRkArelr67JRGQPXlkHsgnkZAyhy2B1SnRkBjzNydh7BGQP7hSievb0ZAkiy1TeJ4RkC8qbKCFYJGQME+V8VIi0ZAtGfzRRawRkCK8/fRO29GQE7Fi9FueEZA87+BdcVuRkA2vTpN+HdGQA==",
            "dtype": "f8"
           },
           "legendgroup": "",
           "lon": {
            "bdata": "fdMnuEhZE0DmL32SnFwTQNK/OqTyXxNAogWY70pjE0AzeK7LucETQMUBOFowxRNA6VQ7N6nIE0DN9QZlJMwTQPY8B5MoKhRAbH9508EtFEB2EnR5XTEUQPp2XIf7NBRAimCb/5s4FEAaU1yB244UQDZ+OveUkhRA+yYz51CWFED0eb9TD5oUQGbvWz/QnRRA01CIrJOhFEB/vsedWaUUQAi1oBUiqRRAQ1VZZnLvFECNhd5XSfMUQPaUWdUi9xRAgsBT4f76FED8o1l+3f4UQI0/+66+AhVAYP3LdaIGFUBWt2LViAoVQMC8WdBxDhVAKthOaV0SFUB4EihJclcVQH/upKBrWxVAiz3YmmdfFUCxzmE6ZmMVQKzt5IFnZxVAoWgIdGtrFUDtlXYTcm8VQBda3WJ7cxVAtS3uZId3FUBqI14clnsVQPDt5YunfxVA4jrdi2+/FUBga7VGi8MVQO0rAbupxxVA8td268rLFUBNZdDa7s8VQENqy4sV1BVAiSMpAT/YFUBTeq49a9wVQIkKJESa4BVA2ihWF8zkFUD/UhGUjRYWQNnzlIrAGhZA4N02RvYeFkACT7XJLiMWQCwl0hdqJxZALuRSM6grFkDNuwAf6S8WQN2NqN0sNBZAXfQacnM4FkCpRyzfvDwWQLSktCcJQRZATvOPTlhFFkDGxoG8/H0WQEAk7LZRghZAt8XRjKmGFkBw9AZBBIsWQJS2Y9ZhjxZAWtXDT8KTFkBG4wawJZgWQGlCEPqLnBZAwSrHMPWgFkCEsBZXYaUWQJvK7W/QqRZAUJ61//TgFkDQGUgMaeUWQHCiyAfg6RZAIrMd9VnuFkBWmjHX1vIWQEiA8rBW9xZAXm1Shdn7FkCVUEdXXwAXQOwFyynoBBdA+Fzb/3MJF0D6Vp54PEgXQFL1IG3STBdANS/RZmtRF0DFYatoB1YXQEzar3WmWhdAvdzikEhfF0BFqky97WMXQN6H+f2VaBdA8sT5VUFtF0AkwmHI73EXQLbPzMg4tBdA116wvfO4F0AXZw/Rsb0XQBYuAAZzwhdA+wydXzfHF0AZdwTh/ssXQMYAWY3J0BdAKGbBZ5fVF0AlkmhzaNoXQEGlfbM83xdAwbUU9nggGEAnT+IXWSUYQKUMpXE8KhhAzlWNBiMvGEBWyc/ZDDQYQBxEpe75OBhAGOhKSOo9GECDIwLq3UIYQCTFsPn6hxhAibnAJv2MGEAgByWiApIYQP8cJG8LlxhAcwlFFVCrGECRRzuyee8YQAN2S+ed9BhAfj1vCfVWGUBEoSdDO1wZQA==",
            "dtype": "f8"
           },
           "marker": {
            "color": {
             "bdata": "AAAAAAAAAAAdRDOomukAPx1EM6ia6QA/HUQzqJrpAD8dRDOomukAPx1EM6ia6RA/HUQzqJrpAD8dRDOomukAPx1EM6ia6QA/K+ZM/GdeGT8dRDOomukQPx1EM6ia6RA/HUQzqJrpAD8kFUBSASQlPx1EM6ia6RA/K+ZM/GdeGT8kFUBSASQlPyvmTPxnXhk/HUQzqJrpAD8AAAAAAAAAAAAAAAAAAAAAAAAAAAAAAAAkFUBSASQlP69OU1Gbezs/K+ZM/GdeGT8r5kz8Z14ZPx1EM6ia6TA/K+ZM/GdeGT8dRDOomukAPx1EM6ia6QA/HUQzqJrpAD8dRDOomukQPx1EM6ia6RA/JBVAUgEkNT8kFUBSASQlPyQVQFIBJCU/oaw5/c0GMz8r5kz8Z14ZPx1EM6ia6RA/HUQzqJrpAD8dRDOomukAPx1EM6ia6QA/h+ME0ue5Vj+/G/S7Qb9rPyvmTPxnXhk/JBVAUgEkJT8r5kz8Z14pPx1EM6ia6TA/JBVAUgEkJT8dRDOomukQPwAAAAAAAAAAAAAAAAAAAACyln3RP37DP07IuFFZ6ME/ejmel+N5uT/XEWYdYdZxP8kXiHyByFc/LxD5ApEvgD+nk3c6eaeTPwAAAAAAAAAAK+ZM/GdeKT8r5kz8Z145PyvmTPxnXhk/HUQzqJrpAD8kFUBSASQ1PyvmTPxnXkk/JBVAUgEkJT+egbLm9DebP974o1oMd6I/oKw5/c0Gcz8r5kz8Z14ZP1GqOtjdtpA/M7dZps6YPT8kFUBSASQ1PwAAAAAAAAAAGUbpx/rkcj8dRDOomukgPyQVQFIBJEU/HUQzqJrpQD/psclRzk9IPwAAAAAAAAAAAAAAAAAAAACA5pUB+LKJPw80JHR2dco/z/7FuSxpqD8eCRLFU4TXP2ZJw/yaMrY/K+ZM/GdeKT+VPBmWYC62P51dnaaiNrc/ifhaVXwikj+G4wTS57lWPx1EM6ia6QA/YD2Vb+2SwD+b099sMAHKP4AS+CeBf1I/rPD3PbISpz/pCY6e4OjRP2J+TRkLyOQ/gx8Bxd4c2T/TwsnGNQbwP2PVNlZtY6U/th9g+wG2Pz+nfUanNEE3P3Tr3FBop04/ztqwedpn1D9RNdMhAOrqP+wPJWW3uMw/xi6UH3YsxT/ADDX/gybbP7/S7ivtvvA/372Cd8URwT9/EvgngX9iP+9ewbviiPA/fJCH1EUV7j/ClvI49lvYP8vUGbMDmOU/Wz9Lj02O7j8ogX8S+Cf5P857elZBAfM/KxKvIvEq+D+gYzRteQb6Pw==",
             "dtype": "f8"
            },
            "coloraxis": "coloraxis",
            "size": {
             "bdata": "AAAAAAAAAAAdRDOomukAPx1EM6ia6QA/HUQzqJrpAD8dRDOomukAPx1EM6ia6RA/HUQzqJrpAD8dRDOomukAPx1EM6ia6QA/K+ZM/GdeGT8dRDOomukQPx1EM6ia6RA/HUQzqJrpAD8kFUBSASQlPx1EM6ia6RA/K+ZM/GdeGT8kFUBSASQlPyvmTPxnXhk/HUQzqJrpAD8AAAAAAAAAAAAAAAAAAAAAAAAAAAAAAAAkFUBSASQlP69OU1Gbezs/K+ZM/GdeGT8r5kz8Z14ZPx1EM6ia6TA/K+ZM/GdeGT8dRDOomukAPx1EM6ia6QA/HUQzqJrpAD8dRDOomukQPx1EM6ia6RA/JBVAUgEkNT8kFUBSASQlPyQVQFIBJCU/oaw5/c0GMz8r5kz8Z14ZPx1EM6ia6RA/HUQzqJrpAD8dRDOomukAPx1EM6ia6QA/h+ME0ue5Vj+/G/S7Qb9rPyvmTPxnXhk/JBVAUgEkJT8r5kz8Z14pPx1EM6ia6TA/JBVAUgEkJT8dRDOomukQPwAAAAAAAAAAAAAAAAAAAACyln3RP37DP07IuFFZ6ME/ejmel+N5uT/XEWYdYdZxP8kXiHyByFc/LxD5ApEvgD+nk3c6eaeTPwAAAAAAAAAAK+ZM/GdeKT8r5kz8Z145PyvmTPxnXhk/HUQzqJrpAD8kFUBSASQ1PyvmTPxnXkk/JBVAUgEkJT+egbLm9DebP974o1oMd6I/oKw5/c0Gcz8r5kz8Z14ZP1GqOtjdtpA/M7dZps6YPT8kFUBSASQ1PwAAAAAAAAAAGUbpx/rkcj8dRDOomukgPyQVQFIBJEU/HUQzqJrpQD/psclRzk9IPwAAAAAAAAAAAAAAAAAAAACA5pUB+LKJPw80JHR2dco/z/7FuSxpqD8eCRLFU4TXP2ZJw/yaMrY/K+ZM/GdeKT+VPBmWYC62P51dnaaiNrc/ifhaVXwikj+G4wTS57lWPx1EM6ia6QA/YD2Vb+2SwD+b099sMAHKP4AS+CeBf1I/rPD3PbISpz/pCY6e4OjRP2J+TRkLyOQ/gx8Bxd4c2T/TwsnGNQbwP2PVNlZtY6U/th9g+wG2Pz+nfUanNEE3P3Tr3FBop04/ztqwedpn1D9RNdMhAOrqP+wPJWW3uMw/xi6UH3YsxT/ADDX/gybbP7/S7ivtvvA/372Cd8URwT9/EvgngX9iP+9ewbviiPA/fJCH1EUV7j/ClvI49lvYP8vUGbMDmOU/Wz9Lj02O7j8ogX8S+Cf5P857elZBAfM/KxKvIvEq+D+gYzRteQb6Pw==",
             "dtype": "f8"
            },
            "sizemode": "area",
            "sizeref": 0.006043951612903227
           },
           "mode": "markers",
           "name": "",
           "showlegend": false,
           "subplot": "map",
           "type": "scattermap"
          }
         ],
         "name": "2025-03"
        },
        {
         "data": [
          {
           "hovertemplate": "month=2025-04<br>HTEURNEIGE_Q=%{marker.color}<br>lat=%{lat}<br>lon=%{lon}<extra></extra>",
           "lat": {
            "bdata": "GNilFLSrRkCtqV0k6bRGQOjesz0evkZAm+q6X1PHRkD/GkaOZ6tGQABCMISctEZAAFKvg9G9RkDuttWLBsdGQG43+PgXq0ZAYvcM1Ey0RkAzxay4gb1GQKMF6qW2xkZATM7WmuvPRkC6Xg2gkKFGQB/o1lTFqkZAO5cOFPqzRkCvGMfcLr1GQMLJEq5jxkZAk7gDh5jPRkA/pKtmzdhGQAj9G0wC4kZAFh4O/dGORkBVnm99BphGQJR3Dgo7oUZA7u39oW+qRkDb9VBEpLNGQEI0GvDYvEZAt/5rpA3GRkCOW1hgQs9GQA0C8SJ32EZAllpH66vhRkACIx2VeY5GQJY+s/etl0ZAyc57ZuKgRkDfD4rgFqpGQGPu8GRLs0ZAUAfD8n+8RkApqBKJtMVGQEHP8SbpzkZAwStyyx3YRkDqHaV1UuFGQC+3mySH6kZA3hrDIR6ORkBDg4dlUpdGQJMcc7WGoEZA6RqZELupRkCoYgx277JGQI+I3+QjvEZA39EkXFjFRkCQNO7ajM5GQHNXTWDB10ZAWZJT6/XgRkCa1fWe72hGQIoROokjckZA8ApKg1d7RkBzLjqMi4RGQEmYHqO/jUZASRQLx/OWRkA2HhP3J6BGQMzhSTJcqUZA+TrCd5CyRkD6tY7GxLtGQIiPwR35xEZABbVsfC3ORkDuQieYjmhGQFMivWHCcUZALd8SO/Z6RkCi3TwjKoRGQGoxTxlejUZA1Z1dHJKWRkD9lXsrxp9GQAM9vEX6qEZAEmYyai6yRkCslPCXYrtGQLb8CM6WxEZAEOke8/ZeRkD75WKKKmhGQBPWRTJecUZAimXc6ZF6RkDX7zqwxYNGQOV/dYT5jEZAMtCfZS2WRkAHS81SYZ9GQIUKEUuVqEZA7dh9TcmxRkAD2jABkF5GQPr+yXXDZ0ZABYT1+vZwRkBkDMiPKnpGQJ7qVTNeg0ZAkyCz5JGMRkCzX/OixZVGQBcJKm35nkZAui1qQi2oRkCgjsYhYbFGQHTOflpZZ0ZAZ4Tuu4xwRkDWQ/gswHlGQAFWsKzzgkZAf7MqOieMRkBuBHvUWpVGQICgtHqOnkZAQo/qK8KnRkAuiC/n9bBGQNbylaspukZAbzBUdR9wRkCIfZDBUnlGQDu8bRyGgkZAndv/hLmLRkArelr67JRGQPXlkHsgnkZAyhy2B1SnRkBjzNydh7BGQP7hSievb0ZAkiy1TeJ4RkC8qbKCFYJGQME+V8VIi0ZAtGfzRRawRkCK8/fRO29GQE7Fi9FueEZA87+BdcVuRkA2vTpN+HdGQA==",
            "dtype": "f8"
           },
           "legendgroup": "",
           "lon": {
            "bdata": "fdMnuEhZE0DmL32SnFwTQNK/OqTyXxNAogWY70pjE0AzeK7LucETQMUBOFowxRNA6VQ7N6nIE0DN9QZlJMwTQPY8B5MoKhRAbH9508EtFEB2EnR5XTEUQPp2XIf7NBRAimCb/5s4FEAaU1yB244UQDZ+OveUkhRA+yYz51CWFED0eb9TD5oUQGbvWz/QnRRA01CIrJOhFEB/vsedWaUUQAi1oBUiqRRAQ1VZZnLvFECNhd5XSfMUQPaUWdUi9xRAgsBT4f76FED8o1l+3f4UQI0/+66+AhVAYP3LdaIGFUBWt2LViAoVQMC8WdBxDhVAKthOaV0SFUB4EihJclcVQH/upKBrWxVAiz3YmmdfFUCxzmE6ZmMVQKzt5IFnZxVAoWgIdGtrFUDtlXYTcm8VQBda3WJ7cxVAtS3uZId3FUBqI14clnsVQPDt5YunfxVA4jrdi2+/FUBga7VGi8MVQO0rAbupxxVA8td268rLFUBNZdDa7s8VQENqy4sV1BVAiSMpAT/YFUBTeq49a9wVQIkKJESa4BVA2ihWF8zkFUD/UhGUjRYWQNnzlIrAGhZA4N02RvYeFkACT7XJLiMWQCwl0hdqJxZALuRSM6grFkDNuwAf6S8WQN2NqN0sNBZAXfQacnM4FkCpRyzfvDwWQLSktCcJQRZATvOPTlhFFkDGxoG8/H0WQEAk7LZRghZAt8XRjKmGFkBw9AZBBIsWQJS2Y9ZhjxZAWtXDT8KTFkBG4wawJZgWQGlCEPqLnBZAwSrHMPWgFkCEsBZXYaUWQJvK7W/QqRZAUJ61//TgFkDQGUgMaeUWQHCiyAfg6RZAIrMd9VnuFkBWmjHX1vIWQEiA8rBW9xZAXm1Shdn7FkCVUEdXXwAXQOwFyynoBBdA+Fzb/3MJF0D6Vp54PEgXQFL1IG3STBdANS/RZmtRF0DFYatoB1YXQEzar3WmWhdAvdzikEhfF0BFqky97WMXQN6H+f2VaBdA8sT5VUFtF0AkwmHI73EXQLbPzMg4tBdA116wvfO4F0AXZw/Rsb0XQBYuAAZzwhdA+wydXzfHF0AZdwTh/ssXQMYAWY3J0BdAKGbBZ5fVF0AlkmhzaNoXQEGlfbM83xdAwbUU9nggGEAnT+IXWSUYQKUMpXE8KhhAzlWNBiMvGEBWyc/ZDDQYQBxEpe75OBhAGOhKSOo9GECDIwLq3UIYQCTFsPn6hxhAibnAJv2MGEAgByWiApIYQP8cJG8LlxhAcwlFFVCrGECRRzuyee8YQAN2S+ed9BhAfj1vCfVWGUBEoSdDO1wZQA==",
            "dtype": "f8"
           },
           "marker": {
            "color": {
             "bdata": "AAAAAAAAAAAAAAAAAAAAAAAAAAAAAAAAAAAAAAAAAAAAAAAAAAAAAAAAAAAAAAAAAAAAAAAAAAAAAAAAAAAAAAAAAAAAAAAAAAAAAAAAAAAAAAAAAAAAAAAAAAAAAAAAAAAAAAAAAAAAAAAAAAAAAAAAAAAAAAAAAAAAAAAAAAAAAAAAAAAAAAAAAAAAAAAAAAAAAAAAAAAAAAAAAAAAAAAAAAAAAAAAAAAAAAAAAAAAAAAAAAAAAAAAAAAAAAAAAAAAAAAAAAAAAAAAAAAAAAAAAAAAAAAAAAAAAAAAAAAAAAAAAAAAAAAAAAAAAAAAAAAAAAAAAAAAAAAAAAAAAAAAAAAAAAAAAAAAAAAAAAAAAAAAAAAAAAAAAAAAAAAAAAAAAAAAAAAAAAAAAAAAAAAAAAAAAAAAAAAAAAAAAAAAAAAAAAAAAAAAAAAAAAAAHoK9nOx5ET8egr2c7HkRPwAAAAAAAAAAAAAAAAAAAAAAAAAAAAAAAAAAAAAAAAAAAAAAAAAAAAAAAAAAAAAAAAAAAAAAAAAAAAAAAAAAAAB7FK5H4XqUPynI4hHvE4o/Mb5VxNZZej8egr2c7HlBPy1DHOviNio/YjJVMCqpQz9x87N+IGY8PwAAAAAAAAAAAAAAAAAAAAAAAAAAAAAAAAAAAAAAAAAAAAAAAAAAAAC0o0sSXpUuPx6CvZzseTE/HoK9nOx5AT9AWolmi5FCPy9uowG8BVI/LUMc6+I2Kj8AAAAAAAAAAC1DHOviNjo/AAAAAAAAAAAAAAAAAAAAAAAAAAAAAAAAC2tQIUQfST8egr2c7HkBP7SjSxJelS4/tKNLEl6VLj8egr2c7HkRPwAAAAAAAAAAAAAAAAAAAADpkoRXpQc4P5POrf2KIpE/HoK9nOx5UT8Cdd1uXNnAP7ErQO41F4I/HoK9nOx5AT9w87N+IGZ8P6pdJp1b+4U//Knx0k1iQD8egr2c7HkBPwAAAAAAAAAAlR5gwKV2iT/ZOkuj3JCZPy1DHOviNjo/cfOzfiBmXD+cxCCwcmixP2bV52or9tM/3pa1OiZ4wD+8cWVjOLHiP08b6LSBTks/AAAAAAAAAAAAAAAAAAAAAAAAAAAAAAAAv+lwh2Avtz+rhX/+aCXaP8VICdR1u7E/IfrIwBT4nT+i2WKkBOrCP7MxnFjNYOM/3SHYy8mehz8egr2c7HkhP17cRgN4C+I/B1+YTBWM4D+XSefWfkXBP7r8h/Tb19U/jZduEoPA1j/7gZhxQDjxP6L+jVBGb+c/Y3/ZPXlY8D8W2c73U+PyPw==",
             "dtype": "f8"
            },
            "coloraxis": "coloraxis",
            "size": {
             "bdata": "AAAAAAAAAAAAAAAAAAAAAAAAAAAAAAAAAAAAAAAAAAAAAAAAAAAAAAAAAAAAAAAAAAAAAAAAAAAAAAAAAAAAAAAAAAAAAAAAAAAAAAAAAAAAAAAAAAAAAAAAAAAAAAAAAAAAAAAAAAAAAAAAAAAAAAAAAAAAAAAAAAAAAAAAAAAAAAAAAAAAAAAAAAAAAAAAAAAAAAAAAAAAAAAAAAAAAAAAAAAAAAAAAAAAAAAAAAAAAAAAAAAAAAAAAAAAAAAAAAAAAAAAAAAAAAAAAAAAAAAAAAAAAAAAAAAAAAAAAAAAAAAAAAAAAAAAAAAAAAAAAAAAAAAAAAAAAAAAAAAAAAAAAAAAAAAAAAAAAAAAAAAAAAAAAAAAAAAAAAAAAAAAAAAAAAAAAAAAAAAAAAAAAAAAAAAAAAAAAAAAAAAAAAAAAAAAAAAAAAAAAAAAAAAAHoK9nOx5ET8egr2c7HkRPwAAAAAAAAAAAAAAAAAAAAAAAAAAAAAAAAAAAAAAAAAAAAAAAAAAAAAAAAAAAAAAAAAAAAAAAAAAAAAAAAAAAAB7FK5H4XqUPynI4hHvE4o/Mb5VxNZZej8egr2c7HlBPy1DHOviNio/YjJVMCqpQz9x87N+IGY8PwAAAAAAAAAAAAAAAAAAAAAAAAAAAAAAAAAAAAAAAAAAAAAAAAAAAAC0o0sSXpUuPx6CvZzseTE/HoK9nOx5AT9AWolmi5FCPy9uowG8BVI/LUMc6+I2Kj8AAAAAAAAAAC1DHOviNjo/AAAAAAAAAAAAAAAAAAAAAAAAAAAAAAAAC2tQIUQfST8egr2c7HkBP7SjSxJelS4/tKNLEl6VLj8egr2c7HkRPwAAAAAAAAAAAAAAAAAAAADpkoRXpQc4P5POrf2KIpE/HoK9nOx5UT8Cdd1uXNnAP7ErQO41F4I/HoK9nOx5AT9w87N+IGZ8P6pdJp1b+4U//Knx0k1iQD8egr2c7HkBPwAAAAAAAAAAlR5gwKV2iT/ZOkuj3JCZPy1DHOviNjo/cfOzfiBmXD+cxCCwcmixP2bV52or9tM/3pa1OiZ4wD+8cWVjOLHiP08b6LSBTks/AAAAAAAAAAAAAAAAAAAAAAAAAAAAAAAAv+lwh2Avtz+rhX/+aCXaP8VICdR1u7E/IfrIwBT4nT+i2WKkBOrCP7MxnFjNYOM/3SHYy8mehz8egr2c7HkhP17cRgN4C+I/B1+YTBWM4D+XSefWfkXBP7r8h/Tb19U/jZduEoPA1j/7gZhxQDjxP6L+jVBGb+c/Y3/ZPXlY8D8W2c73U+PyPw==",
             "dtype": "f8"
            },
            "sizemode": "area",
            "sizeref": 0.006043951612903227
           },
           "mode": "markers",
           "name": "",
           "showlegend": false,
           "subplot": "map",
           "type": "scattermap"
          }
         ],
         "name": "2025-04"
        },
        {
         "data": [
          {
           "hovertemplate": "month=2025-05<br>HTEURNEIGE_Q=%{marker.color}<br>lat=%{lat}<br>lon=%{lon}<extra></extra>",
           "lat": {
            "bdata": "GNilFLSrRkCtqV0k6bRGQOjesz0evkZAm+q6X1PHRkD/GkaOZ6tGQABCMISctEZAAFKvg9G9RkDuttWLBsdGQG43+PgXq0ZAYvcM1Ey0RkAzxay4gb1GQKMF6qW2xkZATM7WmuvPRkC6Xg2gkKFGQB/o1lTFqkZAO5cOFPqzRkCvGMfcLr1GQMLJEq5jxkZAk7gDh5jPRkA/pKtmzdhGQAj9G0wC4kZAFh4O/dGORkBVnm99BphGQJR3Dgo7oUZA7u39oW+qRkDb9VBEpLNGQEI0GvDYvEZAt/5rpA3GRkCOW1hgQs9GQA0C8SJ32EZAllpH66vhRkACIx2VeY5GQJY+s/etl0ZAyc57ZuKgRkDfD4rgFqpGQGPu8GRLs0ZAUAfD8n+8RkApqBKJtMVGQEHP8SbpzkZAwStyyx3YRkDqHaV1UuFGQC+3mySH6kZA3hrDIR6ORkBDg4dlUpdGQJMcc7WGoEZA6RqZELupRkCoYgx277JGQI+I3+QjvEZA39EkXFjFRkCQNO7ajM5GQHNXTWDB10ZAWZJT6/XgRkCa1fWe72hGQIoROokjckZA8ApKg1d7RkBzLjqMi4RGQEmYHqO/jUZASRQLx/OWRkA2HhP3J6BGQMzhSTJcqUZA+TrCd5CyRkD6tY7GxLtGQIiPwR35xEZABbVsfC3ORkDuQieYjmhGQFMivWHCcUZALd8SO/Z6RkCi3TwjKoRGQGoxTxlejUZA1Z1dHJKWRkD9lXsrxp9GQAM9vEX6qEZAEmYyai6yRkCslPCXYrtGQLb8CM6WxEZAEOke8/ZeRkD75WKKKmhGQBPWRTJecUZAimXc6ZF6RkDX7zqwxYNGQOV/dYT5jEZAMtCfZS2WRkAHS81SYZ9GQIUKEUuVqEZA7dh9TcmxRkAD2jABkF5GQPr+yXXDZ0ZABYT1+vZwRkBkDMiPKnpGQJ7qVTNeg0ZAkyCz5JGMRkCzX/OixZVGQBcJKm35nkZAui1qQi2oRkCgjsYhYbFGQHTOflpZZ0ZAZ4Tuu4xwRkDWQ/gswHlGQAFWsKzzgkZAf7MqOieMRkBuBHvUWpVGQICgtHqOnkZAQo/qK8KnRkAuiC/n9bBGQNbylaspukZAbzBUdR9wRkCIfZDBUnlGQDu8bRyGgkZAndv/hLmLRkArelr67JRGQPXlkHsgnkZAyhy2B1SnRkBjzNydh7BGQP7hSievb0ZAkiy1TeJ4RkC8qbKCFYJGQME+V8VIi0ZAtGfzRRawRkCK8/fRO29GQE7Fi9FueEZA87+BdcVuRkA2vTpN+HdGQA==",
            "dtype": "f8"
           },
           "legendgroup": "",
           "lon": {
            "bdata": "fdMnuEhZE0DmL32SnFwTQNK/OqTyXxNAogWY70pjE0AzeK7LucETQMUBOFowxRNA6VQ7N6nIE0DN9QZlJMwTQPY8B5MoKhRAbH9508EtFEB2EnR5XTEUQPp2XIf7NBRAimCb/5s4FEAaU1yB244UQDZ+OveUkhRA+yYz51CWFED0eb9TD5oUQGbvWz/QnRRA01CIrJOhFEB/vsedWaUUQAi1oBUiqRRAQ1VZZnLvFECNhd5XSfMUQPaUWdUi9xRAgsBT4f76FED8o1l+3f4UQI0/+66+AhVAYP3LdaIGFUBWt2LViAoVQMC8WdBxDhVAKthOaV0SFUB4EihJclcVQH/upKBrWxVAiz3YmmdfFUCxzmE6ZmMVQKzt5IFnZxVAoWgIdGtrFUDtlXYTcm8VQBda3WJ7cxVAtS3uZId3FUBqI14clnsVQPDt5YunfxVA4jrdi2+/FUBga7VGi8MVQO0rAbupxxVA8td268rLFUBNZdDa7s8VQENqy4sV1BVAiSMpAT/YFUBTeq49a9wVQIkKJESa4BVA2ihWF8zkFUD/UhGUjRYWQNnzlIrAGhZA4N02RvYeFkACT7XJLiMWQCwl0hdqJxZALuRSM6grFkDNuwAf6S8WQN2NqN0sNBZAXfQacnM4FkCpRyzfvDwWQLSktCcJQRZATvOPTlhFFkDGxoG8/H0WQEAk7LZRghZAt8XRjKmGFkBw9AZBBIsWQJS2Y9ZhjxZAWtXDT8KTFkBG4wawJZgWQGlCEPqLnBZAwSrHMPWgFkCEsBZXYaUWQJvK7W/QqRZAUJ61//TgFkDQGUgMaeUWQHCiyAfg6RZAIrMd9VnuFkBWmjHX1vIWQEiA8rBW9xZAXm1Shdn7FkCVUEdXXwAXQOwFyynoBBdA+Fzb/3MJF0D6Vp54PEgXQFL1IG3STBdANS/RZmtRF0DFYatoB1YXQEzar3WmWhdAvdzikEhfF0BFqky97WMXQN6H+f2VaBdA8sT5VUFtF0AkwmHI73EXQLbPzMg4tBdA116wvfO4F0AXZw/Rsb0XQBYuAAZzwhdA+wydXzfHF0AZdwTh/ssXQMYAWY3J0BdAKGbBZ5fVF0AlkmhzaNoXQEGlfbM83xdAwbUU9nggGEAnT+IXWSUYQKUMpXE8KhhAzlWNBiMvGEBWyc/ZDDQYQBxEpe75OBhAGOhKSOo9GECDIwLq3UIYQCTFsPn6hxhAibnAJv2MGEAgByWiApIYQP8cJG8LlxhAcwlFFVCrGECRRzuyee8YQAN2S+ed9BhAfj1vCfVWGUBEoSdDO1wZQA==",
            "dtype": "f8"
           },
           "marker": {
            "color": {
             "bdata": "AAAAAAAAAAAAAAAAAAAAAAAAAAAAAAAAAAAAAAAAAAAAAAAAAAAAAAAAAAAAAAAAAAAAAAAAAAAAAAAAAAAAAAAAAAAAAAAAAAAAAAAAAAAAAAAAAAAAAAAAAAAAAAAAAAAAAAAAAAAAAAAAAAAAAAAAAAAAAAAAAAAAAAAAAAAAAAAAAAAAAAAAAAAAAAAAAAAAAAAAAAAAAAAAAAAAAAAAAAAAAAAAAAAAAAAAAAAAAAAAAAAAAAAAAAAAAAAAAAAAAAAAAAAAAAAAAAAAAAAAAAAAAAAAAAAAAAAAAAAAAAAAAAAAAAAAAAAAAAAAAAAAAAAAAAAAAAAAAAAAAAAAAAAAAAAAAAAAAAAAAAAAAAAAAAAAAAAAAAAAAAAAAAAAAAAAAAAAAAAAAAAAAAAAAAAAAAAAAAAAAAAAAAAAAAAAAAAAAAAAAAAAAAAAAAAAAAAAAAAAAAAAAAAAAAAAAAAAAAAAAAAAAAAAAAAAAAAAAAAAAAAAAAAAAAAAAAAAAAAAAAAAAAAAAAAAAAAAAAAAAAAAAAAAAAAAAAAr5kz8Z14ZPx1EM6ia6RA/HUQzqJrpAD8AAAAAAAAAAAAAAAAAAAAAAAAAAAAAAAAAAAAAAAAAAAAAAAAAAAAAAAAAAAAAAAAAAAAAAAAAAAAAAAAAAAAAAAAAAAAAAAAAAAAAAAAAAAAAAAAAAAAAAAAAAAAAAAAAAAAAAAAAAAAAAAAAAAAAAAAAAAAAAAAAAAAAAAAAAAAAAAAAAAAAAAAAAAAAAAAAAAAAAAAAAAAAAAAAAAAAAAAAAAAAAAAAAAAAAAAAAAAAAAAAAAAAAAAAAAAAAAAAAAAAAAAAAAAAAAAAAAAAAAAAAAAAAAAAAAAAAAAAAAAAAAAAAAAAAAAAAAAAAABvRVe92jtyPx1EM6ia6QA/AAAAAAAAAAAAAAAAAAAAAAAAAAAAAAAAAAAAAAAAAAAAAAAAAAAAAAAAAAAAAAAAAAAAAAAAAAAAAAAAAAAAAAAAAAAAAAAAHUQzqJrpAD+hrDn9zQYzPwrBct34o6o/n4Gy5vQ3az+OE0if51rAPwAAAAAAAAAAAAAAAAAAAAAAAAAAAAAAAAAAAAAAAAAAJBVAUgEkNT+vP5SU3eKyPyvmTPxnXkk/HUQzqJrpED+nfUanNEF3PxljjDHGGMM/AAAAAAAAAAAAAAAAAAAAAErnEduEF8Q/K0WDHwHFvj/6UgiW68aPP0c5P2HA4LI/PMke+lIIlj9mfJf5qsziP/lwhg9n+NA/pZRSSiml4D+IHUulfiHnPw==",
             "dtype": "f8"
            },
            "coloraxis": "coloraxis",
            "size": {
             "bdata": "AAAAAAAAAAAAAAAAAAAAAAAAAAAAAAAAAAAAAAAAAAAAAAAAAAAAAAAAAAAAAAAAAAAAAAAAAAAAAAAAAAAAAAAAAAAAAAAAAAAAAAAAAAAAAAAAAAAAAAAAAAAAAAAAAAAAAAAAAAAAAAAAAAAAAAAAAAAAAAAAAAAAAAAAAAAAAAAAAAAAAAAAAAAAAAAAAAAAAAAAAAAAAAAAAAAAAAAAAAAAAAAAAAAAAAAAAAAAAAAAAAAAAAAAAAAAAAAAAAAAAAAAAAAAAAAAAAAAAAAAAAAAAAAAAAAAAAAAAAAAAAAAAAAAAAAAAAAAAAAAAAAAAAAAAAAAAAAAAAAAAAAAAAAAAAAAAAAAAAAAAAAAAAAAAAAAAAAAAAAAAAAAAAAAAAAAAAAAAAAAAAAAAAAAAAAAAAAAAAAAAAAAAAAAAAAAAAAAAAAAAAAAAAAAAAAAAAAAAAAAAAAAAAAAAAAAAAAAAAAAAAAAAAAAAAAAAAAAAAAAAAAAAAAAAAAAAAAAAAAAAAAAAAAAAAAAAAAAAAAAAAAAAAAAAAAAAAAr5kz8Z14ZPx1EM6ia6RA/HUQzqJrpAD8AAAAAAAAAAAAAAAAAAAAAAAAAAAAAAAAAAAAAAAAAAAAAAAAAAAAAAAAAAAAAAAAAAAAAAAAAAAAAAAAAAAAAAAAAAAAAAAAAAAAAAAAAAAAAAAAAAAAAAAAAAAAAAAAAAAAAAAAAAAAAAAAAAAAAAAAAAAAAAAAAAAAAAAAAAAAAAAAAAAAAAAAAAAAAAAAAAAAAAAAAAAAAAAAAAAAAAAAAAAAAAAAAAAAAAAAAAAAAAAAAAAAAAAAAAAAAAAAAAAAAAAAAAAAAAAAAAAAAAAAAAAAAAAAAAAAAAAAAAAAAAAAAAAAAAAAAAAAAAABvRVe92jtyPx1EM6ia6QA/AAAAAAAAAAAAAAAAAAAAAAAAAAAAAAAAAAAAAAAAAAAAAAAAAAAAAAAAAAAAAAAAAAAAAAAAAAAAAAAAAAAAAAAAAAAAAAAAHUQzqJrpAD+hrDn9zQYzPwrBct34o6o/n4Gy5vQ3az+OE0if51rAPwAAAAAAAAAAAAAAAAAAAAAAAAAAAAAAAAAAAAAAAAAAJBVAUgEkNT+vP5SU3eKyPyvmTPxnXkk/HUQzqJrpED+nfUanNEF3PxljjDHGGMM/AAAAAAAAAAAAAAAAAAAAAErnEduEF8Q/K0WDHwHFvj/6UgiW68aPP0c5P2HA4LI/PMke+lIIlj9mfJf5qsziP/lwhg9n+NA/pZRSSiml4D+IHUulfiHnPw==",
             "dtype": "f8"
            },
            "sizemode": "area",
            "sizeref": 0.006043951612903227
           },
           "mode": "markers",
           "name": "",
           "showlegend": false,
           "subplot": "map",
           "type": "scattermap"
          }
         ],
         "name": "2025-05"
        },
        {
         "data": [
          {
           "hovertemplate": "month=2025-06<br>HTEURNEIGE_Q=%{marker.color}<br>lat=%{lat}<br>lon=%{lon}<extra></extra>",
           "lat": {
            "bdata": "GNilFLSrRkCtqV0k6bRGQOjesz0evkZAm+q6X1PHRkD/GkaOZ6tGQABCMISctEZAAFKvg9G9RkDuttWLBsdGQG43+PgXq0ZAYvcM1Ey0RkAzxay4gb1GQKMF6qW2xkZATM7WmuvPRkC6Xg2gkKFGQB/o1lTFqkZAO5cOFPqzRkCvGMfcLr1GQMLJEq5jxkZAk7gDh5jPRkA/pKtmzdhGQAj9G0wC4kZAFh4O/dGORkBVnm99BphGQJR3Dgo7oUZA7u39oW+qRkDb9VBEpLNGQEI0GvDYvEZAt/5rpA3GRkCOW1hgQs9GQA0C8SJ32EZAllpH66vhRkACIx2VeY5GQJY+s/etl0ZAyc57ZuKgRkDfD4rgFqpGQGPu8GRLs0ZAUAfD8n+8RkApqBKJtMVGQEHP8SbpzkZAwStyyx3YRkDqHaV1UuFGQC+3mySH6kZA3hrDIR6ORkBDg4dlUpdGQJMcc7WGoEZA6RqZELupRkCoYgx277JGQI+I3+QjvEZA39EkXFjFRkCQNO7ajM5GQHNXTWDB10ZAWZJT6/XgRkCa1fWe72hGQIoROokjckZA8ApKg1d7RkBzLjqMi4RGQEmYHqO/jUZASRQLx/OWRkA2HhP3J6BGQMzhSTJcqUZA+TrCd5CyRkD6tY7GxLtGQIiPwR35xEZABbVsfC3ORkDuQieYjmhGQFMivWHCcUZALd8SO/Z6RkCi3TwjKoRGQGoxTxlejUZA1Z1dHJKWRkD9lXsrxp9GQAM9vEX6qEZAEmYyai6yRkCslPCXYrtGQLb8CM6WxEZAEOke8/ZeRkD75WKKKmhGQBPWRTJecUZAimXc6ZF6RkDX7zqwxYNGQOV/dYT5jEZAMtCfZS2WRkAHS81SYZ9GQIUKEUuVqEZA7dh9TcmxRkAD2jABkF5GQPr+yXXDZ0ZABYT1+vZwRkBkDMiPKnpGQJ7qVTNeg0ZAkyCz5JGMRkCzX/OixZVGQBcJKm35nkZAui1qQi2oRkCgjsYhYbFGQHTOflpZZ0ZAZ4Tuu4xwRkDWQ/gswHlGQAFWsKzzgkZAf7MqOieMRkBuBHvUWpVGQICgtHqOnkZAQo/qK8KnRkAuiC/n9bBGQNbylaspukZAbzBUdR9wRkCIfZDBUnlGQDu8bRyGgkZAndv/hLmLRkArelr67JRGQPXlkHsgnkZAyhy2B1SnRkBjzNydh7BGQP7hSievb0ZAkiy1TeJ4RkC8qbKCFYJGQME+V8VIi0ZAtGfzRRawRkCK8/fRO29GQE7Fi9FueEZA87+BdcVuRkA2vTpN+HdGQA==",
            "dtype": "f8"
           },
           "legendgroup": "",
           "lon": {
            "bdata": "fdMnuEhZE0DmL32SnFwTQNK/OqTyXxNAogWY70pjE0AzeK7LucETQMUBOFowxRNA6VQ7N6nIE0DN9QZlJMwTQPY8B5MoKhRAbH9508EtFEB2EnR5XTEUQPp2XIf7NBRAimCb/5s4FEAaU1yB244UQDZ+OveUkhRA+yYz51CWFED0eb9TD5oUQGbvWz/QnRRA01CIrJOhFEB/vsedWaUUQAi1oBUiqRRAQ1VZZnLvFECNhd5XSfMUQPaUWdUi9xRAgsBT4f76FED8o1l+3f4UQI0/+66+AhVAYP3LdaIGFUBWt2LViAoVQMC8WdBxDhVAKthOaV0SFUB4EihJclcVQH/upKBrWxVAiz3YmmdfFUCxzmE6ZmMVQKzt5IFnZxVAoWgIdGtrFUDtlXYTcm8VQBda3WJ7cxVAtS3uZId3FUBqI14clnsVQPDt5YunfxVA4jrdi2+/FUBga7VGi8MVQO0rAbupxxVA8td268rLFUBNZdDa7s8VQENqy4sV1BVAiSMpAT/YFUBTeq49a9wVQIkKJESa4BVA2ihWF8zkFUD/UhGUjRYWQNnzlIrAGhZA4N02RvYeFkACT7XJLiMWQCwl0hdqJxZALuRSM6grFkDNuwAf6S8WQN2NqN0sNBZAXfQacnM4FkCpRyzfvDwWQLSktCcJQRZATvOPTlhFFkDGxoG8/H0WQEAk7LZRghZAt8XRjKmGFkBw9AZBBIsWQJS2Y9ZhjxZAWtXDT8KTFkBG4wawJZgWQGlCEPqLnBZAwSrHMPWgFkCEsBZXYaUWQJvK7W/QqRZAUJ61//TgFkDQGUgMaeUWQHCiyAfg6RZAIrMd9VnuFkBWmjHX1vIWQEiA8rBW9xZAXm1Shdn7FkCVUEdXXwAXQOwFyynoBBdA+Fzb/3MJF0D6Vp54PEgXQFL1IG3STBdANS/RZmtRF0DFYatoB1YXQEzar3WmWhdAvdzikEhfF0BFqky97WMXQN6H+f2VaBdA8sT5VUFtF0AkwmHI73EXQLbPzMg4tBdA116wvfO4F0AXZw/Rsb0XQBYuAAZzwhdA+wydXzfHF0AZdwTh/ssXQMYAWY3J0BdAKGbBZ5fVF0AlkmhzaNoXQEGlfbM83xdAwbUU9nggGEAnT+IXWSUYQKUMpXE8KhhAzlWNBiMvGEBWyc/ZDDQYQBxEpe75OBhAGOhKSOo9GECDIwLq3UIYQCTFsPn6hxhAibnAJv2MGEAgByWiApIYQP8cJG8LlxhAcwlFFVCrGECRRzuyee8YQAN2S+ed9BhAfj1vCfVWGUBEoSdDO1wZQA==",
            "dtype": "f8"
           },
           "marker": {
            "color": {
             "bdata": "AAAAAAAAAAAAAAAAAAAAAAAAAAAAAAAAAAAAAAAAAAAAAAAAAAAAAAAAAAAAAAAAAAAAAAAAAAAAAAAAAAAAAAAAAAAAAAAAAAAAAAAAAAAAAAAAAAAAAAAAAAAAAAAAAAAAAAAAAAAAAAAAAAAAAAAAAAAAAAAAAAAAAAAAAAAAAAAAAAAAAAAAAAAAAAAAAAAAAAAAAAAAAAAAAAAAAAAAAAAAAAAAAAAAAAAAAAAAAAAAAAAAAAAAAAAAAAAAAAAAAAAAAAAAAAAAAAAAAAAAAAAAAAAAAAAAAAAAAAAAAAAAAAAAAAAAAAAAAAAAAAAAAAAAAAAAAAAAAAAAAAAAAAAAAAAAAAAAAAAAAAAAAAAAAAAAAAAAAAAAAAAAAAAAAAAAAAAAAAAAAAAAAAAAAAAAAAAAAAAAAAAAAAAAAAAAAAAAAAAAAAAAAAAAAAAAAAAAAAAAAAAAAAAAAAAAAAAAAAAAAAAAAAAAAAAAAAAAAAAAAAAAAAAAAAAAAAAAAAAAAAAAAAAAAAAAAAAAAAAAAAAAAAAAAAAAAAAAAAAAAAAAAAAAAAAAAAAAAAAAAAAAAAAAAAAAAAAAAAAAAAAAAAAAAAAAAAAAAAAAAAAAAAAAAAAAAAAAAAAAAAAAAAAAAAAAAAAAAAAAAAAAAAAAAAAAAAAAAAAAAAAAAAAAAAAAAAAAAAAAAAAAAAAAAAAAAAAAAAAAAAAAAAAAAAAAAAAAAAAAAAAAAAAAAAAAAAAAAAAAAAAAAAAAAAAAAAAAAAAAAAAAAAAAAAAAAAAAAAAAAAAAAAAAAAAAAAAAAAAAAAAAAAAAAAAAAAAAAAAAAAAAAAAAAAAAAAAAAAAAAAAAAAAAAAAAAAAAAAAAAAAAAAAAAAAAAAAAAAAAAAAAAAAAAAAAAAAAAAAAAAAAAAAAAAAAAAAAAAAAAAAAAAAAAAAAAAAAAAAAAAAAAAAAAAAAAAAAAAAAAAAAAAAAAAAAAAAAAAAAAAAAAAAAAAAAAAAAAAAAAAAAAAAAAAAAAAAAAAAAAAAAAAAAAAAAAAAAAAAAAAAAAAAAAAAAAAAAAAAAAAAAAAAAAAAAAAAAAAAAAAAAAAAAAAAAAAAAAAAAAAAAAAAAAAAAAAAAAAAAAAAAAAAAAAAAAAAAAAAAAAAAAAAAAAAAAAAAAAAAAAAAAAAAAAAAAAAAAAAAAAAAAKXi7MNn2EU/HoK9nOx5AT8AAAAAAAAAAAAAAAAAAAAAAAAAAAAAAACKH2PuWkKuP6O3Za2OCW4/4sRqBsvrmz/nINWdFNOyPw==",
             "dtype": "f8"
            },
            "coloraxis": "coloraxis",
            "size": {
             "bdata": "AAAAAAAAAAAAAAAAAAAAAAAAAAAAAAAAAAAAAAAAAAAAAAAAAAAAAAAAAAAAAAAAAAAAAAAAAAAAAAAAAAAAAAAAAAAAAAAAAAAAAAAAAAAAAAAAAAAAAAAAAAAAAAAAAAAAAAAAAAAAAAAAAAAAAAAAAAAAAAAAAAAAAAAAAAAAAAAAAAAAAAAAAAAAAAAAAAAAAAAAAAAAAAAAAAAAAAAAAAAAAAAAAAAAAAAAAAAAAAAAAAAAAAAAAAAAAAAAAAAAAAAAAAAAAAAAAAAAAAAAAAAAAAAAAAAAAAAAAAAAAAAAAAAAAAAAAAAAAAAAAAAAAAAAAAAAAAAAAAAAAAAAAAAAAAAAAAAAAAAAAAAAAAAAAAAAAAAAAAAAAAAAAAAAAAAAAAAAAAAAAAAAAAAAAAAAAAAAAAAAAAAAAAAAAAAAAAAAAAAAAAAAAAAAAAAAAAAAAAAAAAAAAAAAAAAAAAAAAAAAAAAAAAAAAAAAAAAAAAAAAAAAAAAAAAAAAAAAAAAAAAAAAAAAAAAAAAAAAAAAAAAAAAAAAAAAAAAAAAAAAAAAAAAAAAAAAAAAAAAAAAAAAAAAAAAAAAAAAAAAAAAAAAAAAAAAAAAAAAAAAAAAAAAAAAAAAAAAAAAAAAAAAAAAAAAAAAAAAAAAAAAAAAAAAAAAAAAAAAAAAAAAAAAAAAAAAAAAAAAAAAAAAAAAAAAAAAAAAAAAAAAAAAAAAAAAAAAAAAAAAAAAAAAAAAAAAAAAAAAAAAAAAAAAAAAAAAAAAAAAAAAAAAAAAAAAAAAAAAAAAAAAAAAAAAAAAAAAAAAAAAAAAAAAAAAAAAAAAAAAAAAAAAAAAAAAAAAAAAAAAAAAAAAAAAAAAAAAAAAAAAAAAAAAAAAAAAAAAAAAAAAAAAAAAAAAAAAAAAAAAAAAAAAAAAAAAAAAAAAAAAAAAAAAAAAAAAAAAAAAAAAAAAAAAAAAAAAAAAAAAAAAAAAAAAAAAAAAAAAAAAAAAAAAAAAAAAAAAAAAAAAAAAAAAAAAAAAAAAAAAAAAAAAAAAAAAAAAAAAAAAAAAAAAAAAAAAAAAAAAAAAAAAAAAAAAAAAAAAAAAAAAAAAAAAAAAAAAAAAAAAAAAAAAAAAAAAAAAAAAAAAAAAAAAAAAAAAAAAAAAAAAAAAAAAAAAAAAAAAAAAAAAAAAAAAAAAAAAAAAAAAAAKXi7MNn2EU/HoK9nOx5AT8AAAAAAAAAAAAAAAAAAAAAAAAAAAAAAACKH2PuWkKuP6O3Za2OCW4/4sRqBsvrmz/nINWdFNOyPw==",
             "dtype": "f8"
            },
            "sizemode": "area",
            "sizeref": 0.006043951612903227
           },
           "mode": "markers",
           "name": "",
           "showlegend": false,
           "subplot": "map",
           "type": "scattermap"
          }
         ],
         "name": "2025-06"
        },
        {
         "data": [
          {
           "hovertemplate": "month=2025-07<br>HTEURNEIGE_Q=%{marker.color}<br>lat=%{lat}<br>lon=%{lon}<extra></extra>",
           "lat": {
            "bdata": "GNilFLSrRkCtqV0k6bRGQOjesz0evkZAm+q6X1PHRkD/GkaOZ6tGQABCMISctEZAAFKvg9G9RkDuttWLBsdGQG43+PgXq0ZAYvcM1Ey0RkAzxay4gb1GQKMF6qW2xkZATM7WmuvPRkC6Xg2gkKFGQB/o1lTFqkZAO5cOFPqzRkCvGMfcLr1GQMLJEq5jxkZAk7gDh5jPRkA/pKtmzdhGQAj9G0wC4kZAFh4O/dGORkBVnm99BphGQJR3Dgo7oUZA7u39oW+qRkDb9VBEpLNGQEI0GvDYvEZAt/5rpA3GRkCOW1hgQs9GQA0C8SJ32EZAllpH66vhRkACIx2VeY5GQJY+s/etl0ZAyc57ZuKgRkDfD4rgFqpGQGPu8GRLs0ZAUAfD8n+8RkApqBKJtMVGQEHP8SbpzkZAwStyyx3YRkDqHaV1UuFGQC+3mySH6kZA3hrDIR6ORkBDg4dlUpdGQJMcc7WGoEZA6RqZELupRkCoYgx277JGQI+I3+QjvEZA39EkXFjFRkCQNO7ajM5GQHNXTWDB10ZAWZJT6/XgRkCa1fWe72hGQIoROokjckZA8ApKg1d7RkBzLjqMi4RGQEmYHqO/jUZASRQLx/OWRkA2HhP3J6BGQMzhSTJcqUZA+TrCd5CyRkD6tY7GxLtGQIiPwR35xEZABbVsfC3ORkDuQieYjmhGQFMivWHCcUZALd8SO/Z6RkCi3TwjKoRGQGoxTxlejUZA1Z1dHJKWRkD9lXsrxp9GQAM9vEX6qEZAEmYyai6yRkCslPCXYrtGQLb8CM6WxEZAEOke8/ZeRkD75WKKKmhGQBPWRTJecUZAimXc6ZF6RkDX7zqwxYNGQOV/dYT5jEZAMtCfZS2WRkAHS81SYZ9GQIUKEUuVqEZA7dh9TcmxRkAD2jABkF5GQPr+yXXDZ0ZABYT1+vZwRkBkDMiPKnpGQJ7qVTNeg0ZAkyCz5JGMRkCzX/OixZVGQBcJKm35nkZAui1qQi2oRkCgjsYhYbFGQHTOflpZZ0ZAZ4Tuu4xwRkDWQ/gswHlGQAFWsKzzgkZAf7MqOieMRkBuBHvUWpVGQICgtHqOnkZAQo/qK8KnRkAuiC/n9bBGQNbylaspukZAbzBUdR9wRkCIfZDBUnlGQDu8bRyGgkZAndv/hLmLRkArelr67JRGQPXlkHsgnkZAyhy2B1SnRkBjzNydh7BGQP7hSievb0ZAkiy1TeJ4RkC8qbKCFYJGQME+V8VIi0ZAtGfzRRawRkCK8/fRO29GQE7Fi9FueEZA87+BdcVuRkA2vTpN+HdGQA==",
            "dtype": "f8"
           },
           "legendgroup": "",
           "lon": {
            "bdata": "fdMnuEhZE0DmL32SnFwTQNK/OqTyXxNAogWY70pjE0AzeK7LucETQMUBOFowxRNA6VQ7N6nIE0DN9QZlJMwTQPY8B5MoKhRAbH9508EtFEB2EnR5XTEUQPp2XIf7NBRAimCb/5s4FEAaU1yB244UQDZ+OveUkhRA+yYz51CWFED0eb9TD5oUQGbvWz/QnRRA01CIrJOhFEB/vsedWaUUQAi1oBUiqRRAQ1VZZnLvFECNhd5XSfMUQPaUWdUi9xRAgsBT4f76FED8o1l+3f4UQI0/+66+AhVAYP3LdaIGFUBWt2LViAoVQMC8WdBxDhVAKthOaV0SFUB4EihJclcVQH/upKBrWxVAiz3YmmdfFUCxzmE6ZmMVQKzt5IFnZxVAoWgIdGtrFUDtlXYTcm8VQBda3WJ7cxVAtS3uZId3FUBqI14clnsVQPDt5YunfxVA4jrdi2+/FUBga7VGi8MVQO0rAbupxxVA8td268rLFUBNZdDa7s8VQENqy4sV1BVAiSMpAT/YFUBTeq49a9wVQIkKJESa4BVA2ihWF8zkFUD/UhGUjRYWQNnzlIrAGhZA4N02RvYeFkACT7XJLiMWQCwl0hdqJxZALuRSM6grFkDNuwAf6S8WQN2NqN0sNBZAXfQacnM4FkCpRyzfvDwWQLSktCcJQRZATvOPTlhFFkDGxoG8/H0WQEAk7LZRghZAt8XRjKmGFkBw9AZBBIsWQJS2Y9ZhjxZAWtXDT8KTFkBG4wawJZgWQGlCEPqLnBZAwSrHMPWgFkCEsBZXYaUWQJvK7W/QqRZAUJ61//TgFkDQGUgMaeUWQHCiyAfg6RZAIrMd9VnuFkBWmjHX1vIWQEiA8rBW9xZAXm1Shdn7FkCVUEdXXwAXQOwFyynoBBdA+Fzb/3MJF0D6Vp54PEgXQFL1IG3STBdANS/RZmtRF0DFYatoB1YXQEzar3WmWhdAvdzikEhfF0BFqky97WMXQN6H+f2VaBdA8sT5VUFtF0AkwmHI73EXQLbPzMg4tBdA116wvfO4F0AXZw/Rsb0XQBYuAAZzwhdA+wydXzfHF0AZdwTh/ssXQMYAWY3J0BdAKGbBZ5fVF0AlkmhzaNoXQEGlfbM83xdAwbUU9nggGEAnT+IXWSUYQKUMpXE8KhhAzlWNBiMvGEBWyc/ZDDQYQBxEpe75OBhAGOhKSOo9GECDIwLq3UIYQCTFsPn6hxhAibnAJv2MGEAgByWiApIYQP8cJG8LlxhAcwlFFVCrGECRRzuyee8YQAN2S+ed9BhAfj1vCfVWGUBEoSdDO1wZQA==",
            "dtype": "f8"
           },
           "marker": {
            "color": {
             "bdata": "AAAAAAAAAAAAAAAAAAAAAAAAAAAAAAAAAAAAAAAAAAAAAAAAAAAAAAAAAAAAAAAAAAAAAAAAAAAAAAAAAAAAAAAAAAAAAAAAAAAAAAAAAAAAAAAAAAAAAAAAAAAAAAAAAAAAAAAAAAAAAAAAAAAAAAAAAAAAAAAAAAAAAAAAAAAAAAAAAAAAAAAAAAAAAAAAAAAAAAAAAAAAAAAAAAAAAAAAAAAAAAAAAAAAAAAAAAAAAAAAAAAAAAAAAAAAAAAAAAAAAAAAAAAAAAAAAAAAAAAAAAAAAAAAAAAAAAAAAAAAAAAAAAAAAAAAAAAAAAAAAAAAAAAAAAAAAAAAAAAAAAAAAAAAAAAAAAAAAAAAAAAAAAAAAAAAAAAAAAAAAAAAAAAAAAAAAAAAAAAAAAAAAAAAAAAAAAAAAAAAAAAAAAAAAAAAAAAAAAAAAAAAAAAAAAAAAAAAAAAAAAAAAAAAAAAAAAAAAAAAAAAAAAAAAAAAAAAAAAAAAAAAAAAAAAAAAAAAAAAAAAAAAAAAAAAAAAAAAAAAAAAAAAAAAAAAAAAAAAAAAAAAAAAAAAAAAAAAAAAAAAAAAAAAAAAAAAAAAAAAAAAAAAAAAAAAAAAAAAAAAAAAAAAAAAAAAAAAAAAAAAAAAAAAAAAAAAAAAAAAAAAAAAAAAAAAAAAAAAAAAAAAAAAAAAAAAAAAAAAAAAAAAAAAAAAAAAAAAAAAAAAAAAAAAAAAAAAAAAAAAAAAAAAAAAAAAAAAAAAAAAAAAAAAAAAAAAAAAAAAAAAAAAAAAAAAAAAAAAAAAAAAAAAAAAAAAAAAAAAAAAAAAAAAAAAAAAAAAAAAAAAAAAAAAAAAAAAAAAAAAAAAAAAAAAAAAAAAAAAAAAAAAAAAAAAAAAAAAAAAAAAAAAAAAAAAAAAAAAAAAAAAAAAAAAAAAAAAAAAAAAAAAAAAAAAAAAAAAAAAAAAAAAAAAAAAAAAAAAAAAAAAAAAAAAAAAAAAAAAAAAAAAAAAAAAAAAAAAAAAAAAAAAAAAAAAAAAAAAAAAAAAAAAAAAAAAAAAAAAAAAAAAAAAAAAAAAAAAAAAAAAAAAAAAAAAAAAAAAAAAAAAAAAAAAAAAAAAAAAAAAAAAAAAAAAdRDOomukAPwAAAAAAAAAAAAAAAAAAAAAAAAAAAAAAAAAAAAAAAAAAAAAAAAAAAAAAAAAAAAAAACvmTPxnXhk/HUQzqJrpAD8AAAAAAAAAAAAAAAAAAAAAAAAAAAAAAAAr5kz8Z145PyvmTPxnXhk/p31GpzRBRz8SHRjRgRFdPw==",
             "dtype": "f8"
            },
            "coloraxis": "coloraxis",
            "size": {
             "bdata": "AAAAAAAAAAAAAAAAAAAAAAAAAAAAAAAAAAAAAAAAAAAAAAAAAAAAAAAAAAAAAAAAAAAAAAAAAAAAAAAAAAAAAAAAAAAAAAAAAAAAAAAAAAAAAAAAAAAAAAAAAAAAAAAAAAAAAAAAAAAAAAAAAAAAAAAAAAAAAAAAAAAAAAAAAAAAAAAAAAAAAAAAAAAAAAAAAAAAAAAAAAAAAAAAAAAAAAAAAAAAAAAAAAAAAAAAAAAAAAAAAAAAAAAAAAAAAAAAAAAAAAAAAAAAAAAAAAAAAAAAAAAAAAAAAAAAAAAAAAAAAAAAAAAAAAAAAAAAAAAAAAAAAAAAAAAAAAAAAAAAAAAAAAAAAAAAAAAAAAAAAAAAAAAAAAAAAAAAAAAAAAAAAAAAAAAAAAAAAAAAAAAAAAAAAAAAAAAAAAAAAAAAAAAAAAAAAAAAAAAAAAAAAAAAAAAAAAAAAAAAAAAAAAAAAAAAAAAAAAAAAAAAAAAAAAAAAAAAAAAAAAAAAAAAAAAAAAAAAAAAAAAAAAAAAAAAAAAAAAAAAAAAAAAAAAAAAAAAAAAAAAAAAAAAAAAAAAAAAAAAAAAAAAAAAAAAAAAAAAAAAAAAAAAAAAAAAAAAAAAAAAAAAAAAAAAAAAAAAAAAAAAAAAAAAAAAAAAAAAAAAAAAAAAAAAAAAAAAAAAAAAAAAAAAAAAAAAAAAAAAAAAAAAAAAAAAAAAAAAAAAAAAAAAAAAAAAAAAAAAAAAAAAAAAAAAAAAAAAAAAAAAAAAAAAAAAAAAAAAAAAAAAAAAAAAAAAAAAAAAAAAAAAAAAAAAAAAAAAAAAAAAAAAAAAAAAAAAAAAAAAAAAAAAAAAAAAAAAAAAAAAAAAAAAAAAAAAAAAAAAAAAAAAAAAAAAAAAAAAAAAAAAAAAAAAAAAAAAAAAAAAAAAAAAAAAAAAAAAAAAAAAAAAAAAAAAAAAAAAAAAAAAAAAAAAAAAAAAAAAAAAAAAAAAAAAAAAAAAAAAAAAAAAAAAAAAAAAAAAAAAAAAAAAAAAAAAAAAAAAAAAAAAAAAAAAAAAAAAAAAAAAAAAAAAAAAAAAAAAAAAAAAAAAAAAAAAAAAAAAAAAAAAAAAAAAAAAAAAAAAAAAAAAAAAAAdRDOomukAPwAAAAAAAAAAAAAAAAAAAAAAAAAAAAAAAAAAAAAAAAAAAAAAAAAAAAAAAAAAAAAAACvmTPxnXhk/HUQzqJrpAD8AAAAAAAAAAAAAAAAAAAAAAAAAAAAAAAAr5kz8Z145PyvmTPxnXhk/p31GpzRBRz8SHRjRgRFdPw==",
             "dtype": "f8"
            },
            "sizemode": "area",
            "sizeref": 0.006043951612903227
           },
           "mode": "markers",
           "name": "",
           "showlegend": false,
           "subplot": "map",
           "type": "scattermap"
          }
         ],
         "name": "2025-07"
        }
       ],
       "layout": {
        "coloraxis": {
         "cmax": 1,
         "cmin": -0.2,
         "colorbar": {
          "title": {
           "text": "HTEURNEIGE_Q"
          }
         },
         "colorscale": [
          [
           0,
           "rgb(247,251,255)"
          ],
          [
           0.125,
           "rgb(222,235,247)"
          ],
          [
           0.25,
           "rgb(198,219,239)"
          ],
          [
           0.375,
           "rgb(158,202,225)"
          ],
          [
           0.5,
           "rgb(107,174,214)"
          ],
          [
           0.625,
           "rgb(66,146,198)"
          ],
          [
           0.75,
           "rgb(33,113,181)"
          ],
          [
           0.875,
           "rgb(8,81,156)"
          ],
          [
           1,
           "rgb(8,48,107)"
          ]
         ]
        },
        "height": 700,
        "legend": {
         "itemsizing": "constant",
         "tracegroupgap": 0
        },
        "map": {
         "center": {
          "lat": 45.3,
          "lon": 5.6
         },
         "domain": {
          "x": [
           0,
           1
          ],
          "y": [
           0,
           1
          ]
         },
         "layers": [
          {
           "color": "black",
           "line": {
            "width": 1.5
           },
           "source": {
            "features": [
             {
              "geometry": {
               "coordinates": [
                [
                 [
                  5.62374290574,
                  45.613268446443
                 ],
                 [
                  5.6230208703548,
                  45.604282743022
                 ],
                 [
                  5.6430941654947,
                  45.585618310022
                 ],
                 [
                  5.6470817885996,
                  45.57674261279
                 ],
                 [
                  5.654825526768,
                  45.570120639284
                 ],
                 [
                  5.6695358905937,
                  45.563199459718
                 ],
                 [
                  5.6803575756273,
                  45.545047248369
                 ],
                 [
                  5.6717082687622,
                  45.536571381592
                 ],
                 [
                  5.6768487183882,
                  45.530475432419
                 ],
                 [
                  5.6901528196542,
                  45.52805100678
                 ],
                 [
                  5.6912470759998,
                  45.521805232869
                 ],
                 [
                  5.7011064065529,
                  45.517546444671
                 ],
                 [
                  5.70267342317,
                  45.511196354762
                 ],
                 [
                  5.7125099215192,
                  45.505293631893
                 ],
                 [
                  5.7190481261138,
                  45.484227733066
                 ],
                 [
                  5.7363772302151,
                  45.472535799856
                 ],
                 [
                  5.7322100567066,
                  45.453663170363
                 ],
                 [
                  5.7400977980128,
                  45.437349988759
                 ],
                 [
                  5.7597939416716,
                  45.435261281179
                 ],
                 [
                  5.7634821589831,
                  45.439042972367
                 ],
                 [
                  5.7820850307141,
                  45.440656144128
                 ],
                 [
                  5.7979610020218,
                  45.437123711786
                 ],
                 [
                  5.8074478270167,
                  45.426270640914
                 ],
                 [
                  5.8232128524879,
                  45.421771370243
                 ],
                 [
                  5.8542752462907,
                  45.4165640969
                 ],
                 [
                  5.8607139660775,
                  45.40924651344
                 ],
                 [
                  5.8797333382597,
                  45.406797743306
                 ],
                 [
                  5.8917060274354,
                  45.398132080514
                 ],
                 [
                  5.8910055457909,
                  45.392211292218
                 ],
                 [
                  5.909612774011,
                  45.390400457607
                 ],
                 [
                  5.9149860828604,
                  45.401349288339
                 ],
                 [
                  5.9281112911718,
                  45.415471973855
                 ],
                 [
                  5.9226358813528,
                  45.416818739345
                 ],
                 [
                  5.9090423346643,
                  45.408294208274
                 ],
                 [
                  5.9016155577899,
                  45.418032646134
                 ],
                 [
                  5.904472446297,
                  45.432574848416
                 ],
                 [
                  5.9149042257548,
                  45.436653554682
                 ],
                 [
                  5.9254150387228,
                  45.464593457788
                 ],
                 [
                  5.9164085799586,
                  45.47667987803
                 ],
                 [
                  5.9533584581804,
                  45.484809788706
                 ],
                 [
                  5.9661721637538,
                  45.492307753934
                 ],
                 [
                  5.9821187808525,
                  45.487027235821
                 ],
                 [
                  5.9893333893021,
                  45.476074199105
                 ],
                 [
                  6.0109047885983,
                  45.47320486613
                 ],
                 [
                  6.0085163401932,
                  45.453848085956
                 ],
                 [
                  6.0497526230096,
                  45.437920464227
                 ],
                 [
                  6.0658423549871,
                  45.444139208117
                 ],
                 [
                  6.0909753082569,
                  45.444016847857
                 ],
                 [
                  6.0974519491338,
                  45.432105098885
                 ],
                 [
                  6.1212683533751,
                  45.438895252904
                 ],
                 [
                  6.1324998100528,
                  45.433380436097
                 ],
                 [
                  6.1436456530595,
                  45.414580875157
                 ],
                 [
                  6.154793328964,
                  45.409336349236
                 ],
                 [
                  6.1774532351909,
                  45.393156916781
                 ],
                 [
                  6.1860529913803,
                  45.374350928001
                 ],
                 [
                  6.1916877134761,
                  45.369022157094
                 ],
                 [
                  6.1802922696297,
                  45.360409426774
                 ],
                 [
                  6.1803709629809,
                  45.35492081739
                 ],
                 [
                  6.19476040795,
                  45.352244568075
                 ],
                 [
                  6.1900932248736,
                  45.342443964482
                 ],
                 [
                  6.1844454256034,
                  45.317952251676
                 ],
                 [
                  6.1632323695733,
                  45.312838044143
                 ],
                 [
                  6.1417688736284,
                  45.299001113002
                 ],
                 [
                  6.1319486525639,
                  45.288285309432
                 ],
                 [
                  6.1325841534867,
                  45.272593012456
                 ],
                 [
                  6.1393900781341,
                  45.266560839079
                 ],
                 [
                  6.1385812548773,
                  45.256050997267
                 ],
                 [
                  6.1257002517953,
                  45.244269262231
                 ],
                 [
                  6.1272723570602,
                  45.233317943724
                 ],
                 [
                  6.1416935060053,
                  45.22232847567
                 ],
                 [
                  6.1378211482236,
                  45.213333187699
                 ],
                 [
                  6.1594722938627,
                  45.202449604679
                 ],
                 [
                  6.1619191434924,
                  45.188405431434
                 ],
                 [
                  6.143792292215,
                  45.154552997649
                 ],
                 [
                  6.1613170230868,
                  45.151005539601
                 ],
                 [
                  6.1690294070189,
                  45.154126275916
                 ],
                 [
                  6.1759369876508,
                  45.162361766933
                 ],
                 [
                  6.1892075903757,
                  45.163730483941
                 ],
                 [
                  6.2159372176736,
                  45.152163633175
                 ],
                 [
                  6.2183492305743,
                  45.145333575225
                 ],
                 [
                  6.2277116468863,
                  45.142717265929
                 ],
                 [
                  6.2489312476442,
                  45.149662771802
                 ],
                 [
                  6.2653779890371,
                  45.139607411594
                 ],
                 [
                  6.2605698000566,
                  45.12684420383
                 ],
                 [
                  6.2544936755586,
                  45.120790168264
                 ],
                 [
                  6.2438305270389,
                  45.117298075856
                 ],
                 [
                  6.2293919345611,
                  45.108749945384
                 ],
                 [
                  6.2296723977867,
                  45.100589085615
                 ],
                 [
                  6.2358324302027,
                  45.087232804381
                 ],
                 [
                  6.2401205372094,
                  45.06771808518
                 ],
                 [
                  6.2200802599652,
                  45.065369735518
                 ],
                 [
                  6.2063284689408,
                  45.026782796498
                 ],
                 [
                  6.2039233205269,
                  45.012471073947
                 ],
                 [
                  6.2517609476002,
                  44.996700081455
                 ],
                 [
                  6.2696990840472,
                  44.998351365091
                 ],
                 [
                  6.2970615457571,
                  45.003365126963
                 ],
                 [
                  6.3182021615637,
                  45.003859362058
                 ],
                 [
                  6.3196573396763,
                  44.994552811249
                 ],
                 [
                  6.3148100239742,
                  44.980185922577
                 ],
                 [
                  6.3285012874077,
                  44.969714464603
                 ],
                 [
                  6.3229180108318,
                  44.953019839313
                 ],
                 [
                  6.3290046114892,
                  44.947315364095
                 ],
                 [
                  6.3588423781754,
                  44.941280796729
                 ],
                 [
                  6.3546140951868,
                  44.923593300625
                 ],
                 [
                  6.3581697523493,
                  44.893778946012
                 ],
                 [
                  6.3507779137165,
                  44.881204072575
                 ],
                 [
                  6.3553625022057,
                  44.854775353601
                 ],
                 [
                  6.3363165518362,
                  44.848370410548
                 ],
                 [
                  6.3192302042703,
                  44.85684625453
                 ],
                 [
                  6.302850434726,
                  44.873257969643
                 ],
                 [
                  6.2882129459689,
                  44.874030533685
                 ],
                 [
                  6.2677561761734,
                  44.86950109295
                 ],
                 [
                  6.2581706057376,
                  44.86248397325
                 ],
                 [
                  6.2505425682344,
                  44.852650516632
                 ],
                 [
                  6.2243745547304,
                  44.852494101643
                 ],
                 [
                  6.1963759402105,
                  44.858978334449
                 ],
                 [
                  6.1852192319643,
                  44.853991864943
                 ],
                 [
                  6.1684510585274,
                  44.852242761941
                 ],
                 [
                  6.1490188906075,
                  44.858169876067
                 ],
                 [
                  6.1362266704196,
                  44.864071820118
                 ],
                 [
                  6.1283556561161,
                  44.861901713563
                 ],
                 [
                  6.1166725017074,
                  44.849313192704
                 ],
                 [
                  6.1007058869493,
                  44.84257849233
                 ],
                 [
                  6.0965156572897,
                  44.837489421771
                 ],
                 [
                  6.0653153781591,
                  44.82268480473
                 ],
                 [
                  6.0563403817425,
                  44.815907431783
                 ],
                 [
                  6.0402065129253,
                  44.827867468677
                 ],
                 [
                  6.0302157011626,
                  44.838097758941
                 ],
                 [
                  6.0159331963205,
                  44.835485814051
                 ],
                 [
                  6.0048600553234,
                  44.820439050514
                 ],
                 [
                  5.9961657258664,
                  44.81787407617
                 ],
                 [
                  5.9781993713916,
                  44.818035522208
                 ],
                 [
                  5.9495216336669,
                  44.804527356596
                 ],
                 [
                  5.9537639530916,
                  44.799525853781
                 ],
                 [
                  5.9777793189449,
                  44.790983738721
                 ],
                 [
                  5.9801493330969,
                  44.781181602373
                 ],
                 [
                  5.9555147438847,
                  44.772449015839
                 ],
                 [
                  5.952471613503,
                  44.76214052281
                 ],
                 [
                  5.937984096823,
                  44.763046424986
                 ],
                 [
                  5.926812494728,
                  44.757135657325
                 ],
                 [
                  5.9152344231519,
                  44.754703072251
                 ],
                 [
                  5.900149637893,
                  44.758315310611
                 ],
                 [
                  5.8888310649581,
                  44.748803778249
                 ],
                 [
                  5.8794954997212,
                  44.747015345674
                 ],
                 [
                  5.8652264931802,
                  44.75155204943
                 ],
                 [
                  5.8503937497009,
                  44.750747373326
                 ],
                 [
                  5.8371577512142,
                  44.757677183301
                 ],
                 [
                  5.8270981940509,
                  44.759688387455
                 ],
                 [
                  5.8277714297865,
                  44.740086051546
                 ],
                 [
                  5.8177724444737,
                  44.730405199263
                 ],
                 [
                  5.8087945811456,
                  44.712101632921
                 ],
                 [
                  5.8014699513145,
                  44.706777613167
                 ],
                 [
                  5.7853372486465,
                  44.700829290463
                 ],
                 [
                  5.7590439457666,
                  44.696067584965
                 ],
                 [
                  5.7451471861505,
                  44.703727044556
                 ],
                 [
                  5.7417693832802,
                  44.710673317311
                 ],
                 [
                  5.7193970657268,
                  44.71376644489
                 ],
                 [
                  5.7052357370695,
                  44.727685225843
                 ],
                 [
                  5.6987857560456,
                  44.722066559691
                 ],
                 [
                  5.6682357861974,
                  44.724714054907
                 ],
                 [
                  5.6470991996242,
                  44.724099914037
                 ],
                 [
                  5.64398076712,
                  44.73157541049
                 ],
                 [
                  5.6315009068421,
                  44.738825957841
                 ],
                 [
                  5.6270859672246,
                  44.752460799598
                 ],
                 [
                  5.5899964337532,
                  44.761617860814
                 ],
                 [
                  5.5838826069396,
                  44.765344858953
                 ],
                 [
                  5.5820961321703,
                  44.777685016074
                 ],
                 [
                  5.549761645604,
                  44.794528877128
                 ],
                 [
                  5.5441427350362,
                  44.788922680811
                 ],
                 [
                  5.5555318108241,
                  44.771216999345
                 ],
                 [
                  5.5196122819033,
                  44.777219870899
                 ],
                 [
                  5.4949322129004,
                  44.782627931299
                 ],
                 [
                  5.4641599003636,
                  44.792424769087
                 ],
                 [
                  5.4624328748393,
                  44.802667812109
                 ],
                 [
                  5.4760803164135,
                  44.809091676298
                 ],
                 [
                  5.4767736644408,
                  44.81563556844
                 ],
                 [
                  5.4837019416551,
                  44.823184908254
                 ],
                 [
                  5.4637975227518,
                  44.825974431714
                 ],
                 [
                  5.46606801453,
                  44.841221723762
                 ],
                 [
                  5.4750760812667,
                  44.867592273489
                 ],
                 [
                  5.4700479073037,
                  44.879032502847
                 ],
                 [
                  5.480315188243,
                  44.896807670531
                 ],
                 [
                  5.4836507785865,
                  44.922286913688
                 ],
                 [
                  5.4776757133828,
                  44.966755171398
                 ],
                 [
                  5.4887669714919,
                  44.990232279193
                 ],
                 [
                  5.4884745473303,
                  45.001223430328
                 ],
                 [
                  5.4804589043527,
                  45.013865278458
                 ],
                 [
                  5.4836143274431,
                  45.022786934023
                 ],
                 [
                  5.4648455525186,
                  45.045940903248
                 ],
                 [
                  5.4662213802966,
                  45.053689072581
                 ],
                 [
                  5.4773643019715,
                  45.072025935069
                 ],
                 [
                  5.4888280786289,
                  45.073091937552
                 ],
                 [
                  5.482960100439,
                  45.083814042465
                 ],
                 [
                  5.4683829045497,
                  45.088079984604
                 ],
                 [
                  5.4594178157294,
                  45.084353288913
                 ],
                 [
                  5.4497902629449,
                  45.070787231096
                 ],
                 [
                  5.4257108891404,
                  45.05626514626
                 ],
                 [
                  5.417792323715,
                  45.048366081468
                 ],
                 [
                  5.4088425346067,
                  45.044735225212
                 ],
                 [
                  5.3963847959196,
                  45.044550028371
                 ],
                 [
                  5.3972657713912,
                  45.038330859223
                 ],
                 [
                  5.3883853627744,
                  45.036136409191
                 ],
                 [
                  5.3713895477672,
                  45.0438762945
                 ],
                 [
                  5.3507319764542,
                  45.047203142466
                 ],
                 [
                  5.3437881719066,
                  45.051703899543
                 ],
                 [
                  5.3431185907943,
                  45.059779112552
                 ],
                 [
                  5.334790878464,
                  45.060805233498
                 ],
                 [
                  5.3170937420842,
                  45.051443710709
                 ],
                 [
                  5.3074190056319,
                  45.053404696516
                 ],
                 [
                  5.300644528137,
                  45.062587690778
                 ],
                 [
                  5.2918748938355,
                  45.063928670512
                 ],
                 [
                  5.2662685281178,
                  45.059810966567
                 ],
                 [
                  5.2483439776641,
                  45.060930865772
                 ],
                 [
                  5.2445180483487,
                  45.066971920702
                 ],
                 [
                  5.2303765814513,
                  45.072500129754
                 ],
                 [
                  5.2261246446959,
                  45.07918137092
                 ],
                 [
                  5.2082043994035,
                  45.084220045879
                 ],
                 [
                  5.1833351592236,
                  45.084878534921
                 ],
                 [
                  5.1793794005119,
                  45.083305819247
                 ],
                 [
                  5.1634833877489,
                  45.06599819123
                 ],
                 [
                  5.1472802619812,
                  45.072549217506
                 ],
                 [
                  5.1427276255164,
                  45.080729882348
                 ],
                 [
                  5.1564001681613,
                  45.082786398559
                 ],
                 [
                  5.1628941235196,
                  45.098426086784
                 ],
                 [
                  5.176310666063,
                  45.107822675236
                 ],
                 [
                  5.187438201276,
                  45.120832355985
                 ],
                 [
                  5.1868446925336,
                  45.145105728237
                 ],
                 [
                  5.191700424762,
                  45.154576461872
                 ],
                 [
                  5.1885746038112,
                  45.171264013519
                 ],
                 [
                  5.1770838978704,
                  45.179740593678
                 ],
                 [
                  5.1694383011753,
                  45.195274384832
                 ],
                 [
                  5.1648771309633,
                  45.198450714497
                 ],
                 [
                  5.1674873703836,
                  45.210221645731
                 ],
                 [
                  5.1787087939172,
                  45.216974316616
                 ],
                 [
                  5.2017183191657,
                  45.217400467946
                 ],
                 [
                  5.1853651989338,
                  45.230539570693
                 ],
                 [
                  5.1765458684418,
                  45.248399245404
                 ],
                 [
                  5.156679209512,
                  45.247392718624
                 ],
                 [
                  5.1519149109729,
                  45.255479740823
                 ],
                 [
                  5.1414710173246,
                  45.245014424938
                 ],
                 [
                  5.1314466193386,
                  45.243321691602
                 ],
                 [
                  5.1214293208332,
                  45.248334945441
                 ],
                 [
                  5.1256631119512,
                  45.26209101661
                 ],
                 [
                  5.1301773389705,
                  45.267206969934
                 ],
                 [
                  5.131354968047,
                  45.286531093128
                 ],
                 [
                  5.1385253524837,
                  45.296216167914
                 ],
                 [
                  5.1255573347389,
                  45.298558532685
                 ],
                 [
                  5.1122870741104,
                  45.289758183582
                 ],
                 [
                  5.0910708813282,
                  45.286770048947
                 ],
                 [
                  5.0754112531922,
                  45.281827518251
                 ],
                 [
                  5.0591074575312,
                  45.313623430692
                 ],
                 [
                  5.0543224224169,
                  45.319051008949
                 ],
                 [
                  5.0205931755981,
                  45.319428254027
                 ],
                 [
                  5.0096495089118,
                  45.342230172467
                 ],
                 [
                  4.9891862167152,
                  45.344042230781
                 ],
                 [
                  4.9595854101246,
                  45.328918743796
                 ],
                 [
                  4.9475761450964,
                  45.328597843474
                 ],
                 [
                  4.9284388130601,
                  45.322951204602
                 ],
                 [
                  4.9012637445124,
                  45.310007436763
                 ],
                 [
                  4.8802416809906,
                  45.2974566456
                 ],
                 [
                  4.8586100908504,
                  45.29851618808
                 ],
                 [
                  4.8588038161436,
                  45.308951945608
                 ],
                 [
                  4.8004899840029,
                  45.298357121937
                 ],
                 [
                  4.7889343017658,
                  45.306705287082
                 ],
                 [
                  4.7699315539545,
                  45.31601418313
                 ],
                 [
                  4.7605327238034,
                  45.327460400164
                 ],
                 [
                  4.7613883954348,
                  45.34062730957
                 ],
                 [
                  4.7736174113958,
                  45.347659425308
                 ],
                 [
                  4.7725568146969,
                  45.35486629718
                 ],
                 [
                  4.75599963206,
                  45.365674921417
                 ],
                 [
                  4.7590198368357,
                  45.381472173695
                 ],
                 [
                  4.7558093145859,
                  45.396415196441
                 ],
                 [
                  4.7441167394752,
                  45.40888118257
                 ],
                 [
                  4.7447605342399,
                  45.421331112612
                 ],
                 [
                  4.7586674371295,
                  45.431094261452
                 ],
                 [
                  4.7604638818845,
                  45.437086232502
                 ],
                 [
                  4.7555294013359,
                  45.447048576794
                 ],
                 [
                  4.7569316195483,
                  45.455703808946
                 ],
                 [
                  4.7794738263144,
                  45.45503324486
                 ],
                 [
                  4.7822796715264,
                  45.472208128185
                 ],
                 [
                  4.8120086150016,
                  45.483343833967
                 ],
                 [
                  4.8272424509878,
                  45.49628139378
                 ],
                 [
                  4.841259965977,
                  45.500603648061
                 ],
                 [
                  4.8684816431075,
                  45.523437511407
                 ],
                 [
                  4.8728116747039,
                  45.531305267791
                 ],
                 [
                  4.8644436168106,
                  45.537346005002
                 ],
                 [
                  4.8401221979115,
                  45.543293629833
                 ],
                 [
                  4.8311024088019,
                  45.547770728452
                 ],
                 [
                  4.8086931363098,
                  45.572300631782
                 ],
                 [
                  4.7820837628775,
                  45.580581569271
                 ],
                 [
                  4.7771292183341,
                  45.587395458322
                 ],
                 [
                  4.8034791539416,
                  45.587537956161
                 ],
                 [
                  4.810043763556,
                  45.589552751649
                 ],
                 [
                  4.8577266463597,
                  45.5795777754
                 ],
                 [
                  4.8597792137897,
                  45.590828133064
                 ],
                 [
                  4.8729020897275,
                  45.595302229166
                 ],
                 [
                  4.8821976306935,
                  45.601571961358
                 ],
                 [
                  4.8927769429114,
                  45.601555646906
                 ],
                 [
                  4.9014588479373,
                  45.60626328191
                 ],
                 [
                  4.9275304060187,
                  45.605707819264
                 ],
                 [
                  4.936077557335,
                  45.608840645632
                 ],
                 [
                  4.9603757463763,
                  45.610073577685
                 ],
                 [
                  4.9719782401764,
                  45.612682039538
                 ],
                 [
                  4.9979604182227,
                  45.603410458278
                 ],
                 [
                  5.0019895947765,
                  45.61395165469
                 ],
                 [
                  4.9894470341835,
                  45.618525768193
                 ],
                 [
                  5.004740525885,
                  45.62311302936
                 ],
                 [
                  5.0380861620656,
                  45.615067173692
                 ],
                 [
                  5.0436466037904,
                  45.621332111414
                 ],
                 [
                  5.0351462071679,
                  45.637203894595
                 ],
                 [
                  5.044542399742,
                  45.647272778433
                 ],
                 [
                  5.0580570584302,
                  45.653246417357
                 ],
                 [
                  5.0542255730691,
                  45.660136259749
                 ],
                 [
                  5.0773503823499,
                  45.67469665728
                 ],
                 [
                  5.0888320304231,
                  45.67702542226
                 ],
                 [
                  5.0942617281168,
                  45.682878871985
                 ],
                 [
                  5.1081345828339,
                  45.688028491968
                 ],
                 [
                  5.1048861162621,
                  45.700378923523
                 ],
                 [
                  5.1190903977565,
                  45.699708184787
                 ],
                 [
                  5.1310549291459,
                  45.707712334796
                 ],
                 [
                  5.1430567075695,
                  45.70002864286
                 ],
                 [
                  5.1592030475156,
                  45.714572205586
                 ],
                 [
                  5.1481741409716,
                  45.718787127083
                 ],
                 [
                  5.1339368816918,
                  45.733254459565
                 ],
                 [
                  5.1226621095427,
                  45.737811043006
                 ],
                 [
                  5.0945254918509,
                  45.739450682898
                 ],
                 [
                  5.089379542274,
                  45.74965948259
                 ],
                 [
                  5.093096251464,
                  45.766087895262
                 ],
                 [
                  5.0701066801383,
                  45.765478936083
                 ],
                 [
                  5.0595234976359,
                  45.782545469588
                 ],
                 [
                  5.0611720639467,
                  45.791532339886
                 ],
                 [
                  5.0893113585792,
                  45.784275046022
                 ],
                 [
                  5.101068799884,
                  45.813378958875
                 ],
                 [
                  5.1053919214171,
                  45.808445750031
                 ],
                 [
                  5.1255392074782,
                  45.811063396795
                 ],
                 [
                  5.144195778805,
                  45.804567863303
                 ],
                 [
                  5.1603637371378,
                  45.802317387422
                 ],
                 [
                  5.1768968364449,
                  45.793483254007
                 ],
                 [
                  5.1868098252677,
                  45.782095115203
                 ],
                 [
                  5.1915300805363,
                  45.771685350507
                 ],
                 [
                  5.207617133438,
                  45.771815785907
                 ],
                 [
                  5.2210769334942,
                  45.768454465895
                 ],
                 [
                  5.2668936711139,
                  45.789370837093
                 ],
                 [
                  5.2755531587012,
                  45.800893358874
                 ],
                 [
                  5.2889098684539,
                  45.811121994364
                 ],
                 [
                  5.2906249297479,
                  45.82025986169
                 ],
                 [
                  5.2998813382234,
                  45.837302685138
                 ],
                 [
                  5.3023555890522,
                  45.847951056741
                 ],
                 [
                  5.3091756488254,
                  45.854928769742
                 ],
                 [
                  5.3299682585029,
                  45.864099868222
                 ],
                 [
                  5.3409187894804,
                  45.880509325682
                 ],
                 [
                  5.3538322357139,
                  45.883269928025
                 ],
                 [
                  5.3709067264231,
                  45.874977947139
                 ],
                 [
                  5.3809175288182,
                  45.867234143477
                 ],
                 [
                  5.4131348727477,
                  45.852221679893
                 ],
                 [
                  5.4190015048359,
                  45.839680703571
                 ],
                 [
                  5.4349408141813,
                  45.831093859803
                 ],
                 [
                  5.4204751251472,
                  45.818886657011
                 ],
                 [
                  5.4226465285427,
                  45.80712278512
                 ],
                 [
                  5.4574039982348,
                  45.780996812177
                 ],
                 [
                  5.4825307295084,
                  45.754588985706
                 ],
                 [
                  5.5185478356945,
                  45.730162983976
                 ],
                 [
                  5.5272754539149,
                  45.715508313157
                 ],
                 [
                  5.5455440844452,
                  45.713591599398
                 ],
                 [
                  5.5534381913285,
                  45.708998294688
                 ],
                 [
                  5.5551113922636,
                  45.700261621079
                 ],
                 [
                  5.5711688852413,
                  45.696872630898
                 ],
                 [
                  5.5757522584809,
                  45.691788289582
                 ],
                 [
                  5.5703089690672,
                  45.684426548161
                 ],
                 [
                  5.5612096882931,
                  45.686985356436
                 ],
                 [
                  5.5559860481255,
                  45.697625399596
                 ],
                 [
                  5.5459463129561,
                  45.697327503887
                 ],
                 [
                  5.5451745235973,
                  45.687400229628
                 ],
                 [
                  5.5527423750432,
                  45.679883465959
                 ],
                 [
                  5.5541553698377,
                  45.671790582993
                 ],
                 [
                  5.563862776993,
                  45.674167414335
                 ],
                 [
                  5.5867550088025,
                  45.665298168862
                 ],
                 [
                  5.6030721965565,
                  45.647684669153
                 ],
                 [
                  5.6069435560033,
                  45.635482392274
                 ],
                 [
                  5.62374290574,
                  45.613268446443
                 ]
                ]
               ],
               "type": "Polygon"
              },
              "properties": {
               "code": "38",
               "nom": "Isère"
              },
              "type": "Feature"
             }
            ],
            "type": "FeatureCollection"
           },
           "type": "line"
          }
         ],
         "style": "carto-positron",
         "zoom": 7
        },
        "mapbox": {
         "center": {
          "lat": 45.3,
          "lon": 5.6
         },
         "style": "carto-positron",
         "zoom": 7
        },
        "margin": {
         "b": 0,
         "l": 0,
         "r": 0,
         "t": 50
        },
        "sliders": [
         {
          "active": 0,
          "currentvalue": {
           "prefix": "month="
          },
          "len": 0.9,
          "pad": {
           "b": 10,
           "t": 60
          },
          "steps": [
           {
            "args": [
             [
              "2020-01"
             ],
             {
              "frame": {
               "duration": 0,
               "redraw": true
              },
              "fromcurrent": true,
              "mode": "immediate",
              "transition": {
               "duration": 0,
               "easing": "linear"
              }
             }
            ],
            "label": "2020-01",
            "method": "animate"
           },
           {
            "args": [
             [
              "2020-02"
             ],
             {
              "frame": {
               "duration": 0,
               "redraw": true
              },
              "fromcurrent": true,
              "mode": "immediate",
              "transition": {
               "duration": 0,
               "easing": "linear"
              }
             }
            ],
            "label": "2020-02",
            "method": "animate"
           },
           {
            "args": [
             [
              "2020-03"
             ],
             {
              "frame": {
               "duration": 0,
               "redraw": true
              },
              "fromcurrent": true,
              "mode": "immediate",
              "transition": {
               "duration": 0,
               "easing": "linear"
              }
             }
            ],
            "label": "2020-03",
            "method": "animate"
           },
           {
            "args": [
             [
              "2020-04"
             ],
             {
              "frame": {
               "duration": 0,
               "redraw": true
              },
              "fromcurrent": true,
              "mode": "immediate",
              "transition": {
               "duration": 0,
               "easing": "linear"
              }
             }
            ],
            "label": "2020-04",
            "method": "animate"
           },
           {
            "args": [
             [
              "2020-05"
             ],
             {
              "frame": {
               "duration": 0,
               "redraw": true
              },
              "fromcurrent": true,
              "mode": "immediate",
              "transition": {
               "duration": 0,
               "easing": "linear"
              }
             }
            ],
            "label": "2020-05",
            "method": "animate"
           },
           {
            "args": [
             [
              "2020-06"
             ],
             {
              "frame": {
               "duration": 0,
               "redraw": true
              },
              "fromcurrent": true,
              "mode": "immediate",
              "transition": {
               "duration": 0,
               "easing": "linear"
              }
             }
            ],
            "label": "2020-06",
            "method": "animate"
           },
           {
            "args": [
             [
              "2020-07"
             ],
             {
              "frame": {
               "duration": 0,
               "redraw": true
              },
              "fromcurrent": true,
              "mode": "immediate",
              "transition": {
               "duration": 0,
               "easing": "linear"
              }
             }
            ],
            "label": "2020-07",
            "method": "animate"
           },
           {
            "args": [
             [
              "2020-08"
             ],
             {
              "frame": {
               "duration": 0,
               "redraw": true
              },
              "fromcurrent": true,
              "mode": "immediate",
              "transition": {
               "duration": 0,
               "easing": "linear"
              }
             }
            ],
            "label": "2020-08",
            "method": "animate"
           },
           {
            "args": [
             [
              "2020-09"
             ],
             {
              "frame": {
               "duration": 0,
               "redraw": true
              },
              "fromcurrent": true,
              "mode": "immediate",
              "transition": {
               "duration": 0,
               "easing": "linear"
              }
             }
            ],
            "label": "2020-09",
            "method": "animate"
           },
           {
            "args": [
             [
              "2020-10"
             ],
             {
              "frame": {
               "duration": 0,
               "redraw": true
              },
              "fromcurrent": true,
              "mode": "immediate",
              "transition": {
               "duration": 0,
               "easing": "linear"
              }
             }
            ],
            "label": "2020-10",
            "method": "animate"
           },
           {
            "args": [
             [
              "2020-11"
             ],
             {
              "frame": {
               "duration": 0,
               "redraw": true
              },
              "fromcurrent": true,
              "mode": "immediate",
              "transition": {
               "duration": 0,
               "easing": "linear"
              }
             }
            ],
            "label": "2020-11",
            "method": "animate"
           },
           {
            "args": [
             [
              "2020-12"
             ],
             {
              "frame": {
               "duration": 0,
               "redraw": true
              },
              "fromcurrent": true,
              "mode": "immediate",
              "transition": {
               "duration": 0,
               "easing": "linear"
              }
             }
            ],
            "label": "2020-12",
            "method": "animate"
           },
           {
            "args": [
             [
              "2021-01"
             ],
             {
              "frame": {
               "duration": 0,
               "redraw": true
              },
              "fromcurrent": true,
              "mode": "immediate",
              "transition": {
               "duration": 0,
               "easing": "linear"
              }
             }
            ],
            "label": "2021-01",
            "method": "animate"
           },
           {
            "args": [
             [
              "2021-02"
             ],
             {
              "frame": {
               "duration": 0,
               "redraw": true
              },
              "fromcurrent": true,
              "mode": "immediate",
              "transition": {
               "duration": 0,
               "easing": "linear"
              }
             }
            ],
            "label": "2021-02",
            "method": "animate"
           },
           {
            "args": [
             [
              "2021-03"
             ],
             {
              "frame": {
               "duration": 0,
               "redraw": true
              },
              "fromcurrent": true,
              "mode": "immediate",
              "transition": {
               "duration": 0,
               "easing": "linear"
              }
             }
            ],
            "label": "2021-03",
            "method": "animate"
           },
           {
            "args": [
             [
              "2021-04"
             ],
             {
              "frame": {
               "duration": 0,
               "redraw": true
              },
              "fromcurrent": true,
              "mode": "immediate",
              "transition": {
               "duration": 0,
               "easing": "linear"
              }
             }
            ],
            "label": "2021-04",
            "method": "animate"
           },
           {
            "args": [
             [
              "2021-05"
             ],
             {
              "frame": {
               "duration": 0,
               "redraw": true
              },
              "fromcurrent": true,
              "mode": "immediate",
              "transition": {
               "duration": 0,
               "easing": "linear"
              }
             }
            ],
            "label": "2021-05",
            "method": "animate"
           },
           {
            "args": [
             [
              "2021-06"
             ],
             {
              "frame": {
               "duration": 0,
               "redraw": true
              },
              "fromcurrent": true,
              "mode": "immediate",
              "transition": {
               "duration": 0,
               "easing": "linear"
              }
             }
            ],
            "label": "2021-06",
            "method": "animate"
           },
           {
            "args": [
             [
              "2021-07"
             ],
             {
              "frame": {
               "duration": 0,
               "redraw": true
              },
              "fromcurrent": true,
              "mode": "immediate",
              "transition": {
               "duration": 0,
               "easing": "linear"
              }
             }
            ],
            "label": "2021-07",
            "method": "animate"
           },
           {
            "args": [
             [
              "2021-08"
             ],
             {
              "frame": {
               "duration": 0,
               "redraw": true
              },
              "fromcurrent": true,
              "mode": "immediate",
              "transition": {
               "duration": 0,
               "easing": "linear"
              }
             }
            ],
            "label": "2021-08",
            "method": "animate"
           },
           {
            "args": [
             [
              "2021-09"
             ],
             {
              "frame": {
               "duration": 0,
               "redraw": true
              },
              "fromcurrent": true,
              "mode": "immediate",
              "transition": {
               "duration": 0,
               "easing": "linear"
              }
             }
            ],
            "label": "2021-09",
            "method": "animate"
           },
           {
            "args": [
             [
              "2021-10"
             ],
             {
              "frame": {
               "duration": 0,
               "redraw": true
              },
              "fromcurrent": true,
              "mode": "immediate",
              "transition": {
               "duration": 0,
               "easing": "linear"
              }
             }
            ],
            "label": "2021-10",
            "method": "animate"
           },
           {
            "args": [
             [
              "2021-11"
             ],
             {
              "frame": {
               "duration": 0,
               "redraw": true
              },
              "fromcurrent": true,
              "mode": "immediate",
              "transition": {
               "duration": 0,
               "easing": "linear"
              }
             }
            ],
            "label": "2021-11",
            "method": "animate"
           },
           {
            "args": [
             [
              "2021-12"
             ],
             {
              "frame": {
               "duration": 0,
               "redraw": true
              },
              "fromcurrent": true,
              "mode": "immediate",
              "transition": {
               "duration": 0,
               "easing": "linear"
              }
             }
            ],
            "label": "2021-12",
            "method": "animate"
           },
           {
            "args": [
             [
              "2022-01"
             ],
             {
              "frame": {
               "duration": 0,
               "redraw": true
              },
              "fromcurrent": true,
              "mode": "immediate",
              "transition": {
               "duration": 0,
               "easing": "linear"
              }
             }
            ],
            "label": "2022-01",
            "method": "animate"
           },
           {
            "args": [
             [
              "2022-02"
             ],
             {
              "frame": {
               "duration": 0,
               "redraw": true
              },
              "fromcurrent": true,
              "mode": "immediate",
              "transition": {
               "duration": 0,
               "easing": "linear"
              }
             }
            ],
            "label": "2022-02",
            "method": "animate"
           },
           {
            "args": [
             [
              "2022-03"
             ],
             {
              "frame": {
               "duration": 0,
               "redraw": true
              },
              "fromcurrent": true,
              "mode": "immediate",
              "transition": {
               "duration": 0,
               "easing": "linear"
              }
             }
            ],
            "label": "2022-03",
            "method": "animate"
           },
           {
            "args": [
             [
              "2022-04"
             ],
             {
              "frame": {
               "duration": 0,
               "redraw": true
              },
              "fromcurrent": true,
              "mode": "immediate",
              "transition": {
               "duration": 0,
               "easing": "linear"
              }
             }
            ],
            "label": "2022-04",
            "method": "animate"
           },
           {
            "args": [
             [
              "2022-05"
             ],
             {
              "frame": {
               "duration": 0,
               "redraw": true
              },
              "fromcurrent": true,
              "mode": "immediate",
              "transition": {
               "duration": 0,
               "easing": "linear"
              }
             }
            ],
            "label": "2022-05",
            "method": "animate"
           },
           {
            "args": [
             [
              "2022-06"
             ],
             {
              "frame": {
               "duration": 0,
               "redraw": true
              },
              "fromcurrent": true,
              "mode": "immediate",
              "transition": {
               "duration": 0,
               "easing": "linear"
              }
             }
            ],
            "label": "2022-06",
            "method": "animate"
           },
           {
            "args": [
             [
              "2022-07"
             ],
             {
              "frame": {
               "duration": 0,
               "redraw": true
              },
              "fromcurrent": true,
              "mode": "immediate",
              "transition": {
               "duration": 0,
               "easing": "linear"
              }
             }
            ],
            "label": "2022-07",
            "method": "animate"
           },
           {
            "args": [
             [
              "2022-08"
             ],
             {
              "frame": {
               "duration": 0,
               "redraw": true
              },
              "fromcurrent": true,
              "mode": "immediate",
              "transition": {
               "duration": 0,
               "easing": "linear"
              }
             }
            ],
            "label": "2022-08",
            "method": "animate"
           },
           {
            "args": [
             [
              "2022-09"
             ],
             {
              "frame": {
               "duration": 0,
               "redraw": true
              },
              "fromcurrent": true,
              "mode": "immediate",
              "transition": {
               "duration": 0,
               "easing": "linear"
              }
             }
            ],
            "label": "2022-09",
            "method": "animate"
           },
           {
            "args": [
             [
              "2022-10"
             ],
             {
              "frame": {
               "duration": 0,
               "redraw": true
              },
              "fromcurrent": true,
              "mode": "immediate",
              "transition": {
               "duration": 0,
               "easing": "linear"
              }
             }
            ],
            "label": "2022-10",
            "method": "animate"
           },
           {
            "args": [
             [
              "2022-11"
             ],
             {
              "frame": {
               "duration": 0,
               "redraw": true
              },
              "fromcurrent": true,
              "mode": "immediate",
              "transition": {
               "duration": 0,
               "easing": "linear"
              }
             }
            ],
            "label": "2022-11",
            "method": "animate"
           },
           {
            "args": [
             [
              "2022-12"
             ],
             {
              "frame": {
               "duration": 0,
               "redraw": true
              },
              "fromcurrent": true,
              "mode": "immediate",
              "transition": {
               "duration": 0,
               "easing": "linear"
              }
             }
            ],
            "label": "2022-12",
            "method": "animate"
           },
           {
            "args": [
             [
              "2023-01"
             ],
             {
              "frame": {
               "duration": 0,
               "redraw": true
              },
              "fromcurrent": true,
              "mode": "immediate",
              "transition": {
               "duration": 0,
               "easing": "linear"
              }
             }
            ],
            "label": "2023-01",
            "method": "animate"
           },
           {
            "args": [
             [
              "2023-02"
             ],
             {
              "frame": {
               "duration": 0,
               "redraw": true
              },
              "fromcurrent": true,
              "mode": "immediate",
              "transition": {
               "duration": 0,
               "easing": "linear"
              }
             }
            ],
            "label": "2023-02",
            "method": "animate"
           },
           {
            "args": [
             [
              "2023-03"
             ],
             {
              "frame": {
               "duration": 0,
               "redraw": true
              },
              "fromcurrent": true,
              "mode": "immediate",
              "transition": {
               "duration": 0,
               "easing": "linear"
              }
             }
            ],
            "label": "2023-03",
            "method": "animate"
           },
           {
            "args": [
             [
              "2023-04"
             ],
             {
              "frame": {
               "duration": 0,
               "redraw": true
              },
              "fromcurrent": true,
              "mode": "immediate",
              "transition": {
               "duration": 0,
               "easing": "linear"
              }
             }
            ],
            "label": "2023-04",
            "method": "animate"
           },
           {
            "args": [
             [
              "2023-05"
             ],
             {
              "frame": {
               "duration": 0,
               "redraw": true
              },
              "fromcurrent": true,
              "mode": "immediate",
              "transition": {
               "duration": 0,
               "easing": "linear"
              }
             }
            ],
            "label": "2023-05",
            "method": "animate"
           },
           {
            "args": [
             [
              "2023-06"
             ],
             {
              "frame": {
               "duration": 0,
               "redraw": true
              },
              "fromcurrent": true,
              "mode": "immediate",
              "transition": {
               "duration": 0,
               "easing": "linear"
              }
             }
            ],
            "label": "2023-06",
            "method": "animate"
           },
           {
            "args": [
             [
              "2023-07"
             ],
             {
              "frame": {
               "duration": 0,
               "redraw": true
              },
              "fromcurrent": true,
              "mode": "immediate",
              "transition": {
               "duration": 0,
               "easing": "linear"
              }
             }
            ],
            "label": "2023-07",
            "method": "animate"
           },
           {
            "args": [
             [
              "2023-08"
             ],
             {
              "frame": {
               "duration": 0,
               "redraw": true
              },
              "fromcurrent": true,
              "mode": "immediate",
              "transition": {
               "duration": 0,
               "easing": "linear"
              }
             }
            ],
            "label": "2023-08",
            "method": "animate"
           },
           {
            "args": [
             [
              "2023-09"
             ],
             {
              "frame": {
               "duration": 0,
               "redraw": true
              },
              "fromcurrent": true,
              "mode": "immediate",
              "transition": {
               "duration": 0,
               "easing": "linear"
              }
             }
            ],
            "label": "2023-09",
            "method": "animate"
           },
           {
            "args": [
             [
              "2023-10"
             ],
             {
              "frame": {
               "duration": 0,
               "redraw": true
              },
              "fromcurrent": true,
              "mode": "immediate",
              "transition": {
               "duration": 0,
               "easing": "linear"
              }
             }
            ],
            "label": "2023-10",
            "method": "animate"
           },
           {
            "args": [
             [
              "2023-11"
             ],
             {
              "frame": {
               "duration": 0,
               "redraw": true
              },
              "fromcurrent": true,
              "mode": "immediate",
              "transition": {
               "duration": 0,
               "easing": "linear"
              }
             }
            ],
            "label": "2023-11",
            "method": "animate"
           },
           {
            "args": [
             [
              "2023-12"
             ],
             {
              "frame": {
               "duration": 0,
               "redraw": true
              },
              "fromcurrent": true,
              "mode": "immediate",
              "transition": {
               "duration": 0,
               "easing": "linear"
              }
             }
            ],
            "label": "2023-12",
            "method": "animate"
           },
           {
            "args": [
             [
              "2024-01"
             ],
             {
              "frame": {
               "duration": 0,
               "redraw": true
              },
              "fromcurrent": true,
              "mode": "immediate",
              "transition": {
               "duration": 0,
               "easing": "linear"
              }
             }
            ],
            "label": "2024-01",
            "method": "animate"
           },
           {
            "args": [
             [
              "2024-02"
             ],
             {
              "frame": {
               "duration": 0,
               "redraw": true
              },
              "fromcurrent": true,
              "mode": "immediate",
              "transition": {
               "duration": 0,
               "easing": "linear"
              }
             }
            ],
            "label": "2024-02",
            "method": "animate"
           },
           {
            "args": [
             [
              "2024-03"
             ],
             {
              "frame": {
               "duration": 0,
               "redraw": true
              },
              "fromcurrent": true,
              "mode": "immediate",
              "transition": {
               "duration": 0,
               "easing": "linear"
              }
             }
            ],
            "label": "2024-03",
            "method": "animate"
           },
           {
            "args": [
             [
              "2024-04"
             ],
             {
              "frame": {
               "duration": 0,
               "redraw": true
              },
              "fromcurrent": true,
              "mode": "immediate",
              "transition": {
               "duration": 0,
               "easing": "linear"
              }
             }
            ],
            "label": "2024-04",
            "method": "animate"
           },
           {
            "args": [
             [
              "2024-05"
             ],
             {
              "frame": {
               "duration": 0,
               "redraw": true
              },
              "fromcurrent": true,
              "mode": "immediate",
              "transition": {
               "duration": 0,
               "easing": "linear"
              }
             }
            ],
            "label": "2024-05",
            "method": "animate"
           },
           {
            "args": [
             [
              "2024-06"
             ],
             {
              "frame": {
               "duration": 0,
               "redraw": true
              },
              "fromcurrent": true,
              "mode": "immediate",
              "transition": {
               "duration": 0,
               "easing": "linear"
              }
             }
            ],
            "label": "2024-06",
            "method": "animate"
           },
           {
            "args": [
             [
              "2024-07"
             ],
             {
              "frame": {
               "duration": 0,
               "redraw": true
              },
              "fromcurrent": true,
              "mode": "immediate",
              "transition": {
               "duration": 0,
               "easing": "linear"
              }
             }
            ],
            "label": "2024-07",
            "method": "animate"
           },
           {
            "args": [
             [
              "2024-08"
             ],
             {
              "frame": {
               "duration": 0,
               "redraw": true
              },
              "fromcurrent": true,
              "mode": "immediate",
              "transition": {
               "duration": 0,
               "easing": "linear"
              }
             }
            ],
            "label": "2024-08",
            "method": "animate"
           },
           {
            "args": [
             [
              "2024-09"
             ],
             {
              "frame": {
               "duration": 0,
               "redraw": true
              },
              "fromcurrent": true,
              "mode": "immediate",
              "transition": {
               "duration": 0,
               "easing": "linear"
              }
             }
            ],
            "label": "2024-09",
            "method": "animate"
           },
           {
            "args": [
             [
              "2024-10"
             ],
             {
              "frame": {
               "duration": 0,
               "redraw": true
              },
              "fromcurrent": true,
              "mode": "immediate",
              "transition": {
               "duration": 0,
               "easing": "linear"
              }
             }
            ],
            "label": "2024-10",
            "method": "animate"
           },
           {
            "args": [
             [
              "2024-11"
             ],
             {
              "frame": {
               "duration": 0,
               "redraw": true
              },
              "fromcurrent": true,
              "mode": "immediate",
              "transition": {
               "duration": 0,
               "easing": "linear"
              }
             }
            ],
            "label": "2024-11",
            "method": "animate"
           },
           {
            "args": [
             [
              "2024-12"
             ],
             {
              "frame": {
               "duration": 0,
               "redraw": true
              },
              "fromcurrent": true,
              "mode": "immediate",
              "transition": {
               "duration": 0,
               "easing": "linear"
              }
             }
            ],
            "label": "2024-12",
            "method": "animate"
           },
           {
            "args": [
             [
              "2025-01"
             ],
             {
              "frame": {
               "duration": 0,
               "redraw": true
              },
              "fromcurrent": true,
              "mode": "immediate",
              "transition": {
               "duration": 0,
               "easing": "linear"
              }
             }
            ],
            "label": "2025-01",
            "method": "animate"
           },
           {
            "args": [
             [
              "2025-02"
             ],
             {
              "frame": {
               "duration": 0,
               "redraw": true
              },
              "fromcurrent": true,
              "mode": "immediate",
              "transition": {
               "duration": 0,
               "easing": "linear"
              }
             }
            ],
            "label": "2025-02",
            "method": "animate"
           },
           {
            "args": [
             [
              "2025-03"
             ],
             {
              "frame": {
               "duration": 0,
               "redraw": true
              },
              "fromcurrent": true,
              "mode": "immediate",
              "transition": {
               "duration": 0,
               "easing": "linear"
              }
             }
            ],
            "label": "2025-03",
            "method": "animate"
           },
           {
            "args": [
             [
              "2025-04"
             ],
             {
              "frame": {
               "duration": 0,
               "redraw": true
              },
              "fromcurrent": true,
              "mode": "immediate",
              "transition": {
               "duration": 0,
               "easing": "linear"
              }
             }
            ],
            "label": "2025-04",
            "method": "animate"
           },
           {
            "args": [
             [
              "2025-05"
             ],
             {
              "frame": {
               "duration": 0,
               "redraw": true
              },
              "fromcurrent": true,
              "mode": "immediate",
              "transition": {
               "duration": 0,
               "easing": "linear"
              }
             }
            ],
            "label": "2025-05",
            "method": "animate"
           },
           {
            "args": [
             [
              "2025-06"
             ],
             {
              "frame": {
               "duration": 0,
               "redraw": true
              },
              "fromcurrent": true,
              "mode": "immediate",
              "transition": {
               "duration": 0,
               "easing": "linear"
              }
             }
            ],
            "label": "2025-06",
            "method": "animate"
           },
           {
            "args": [
             [
              "2025-07"
             ],
             {
              "frame": {
               "duration": 0,
               "redraw": true
              },
              "fromcurrent": true,
              "mode": "immediate",
              "transition": {
               "duration": 0,
               "easing": "linear"
              }
             }
            ],
            "label": "2025-07",
            "method": "animate"
           }
          ],
          "x": 0.1,
          "xanchor": "left",
          "y": 0,
          "yanchor": "top"
         }
        ],
        "template": {
         "data": {
          "bar": [
           {
            "error_x": {
             "color": "#2a3f5f"
            },
            "error_y": {
             "color": "#2a3f5f"
            },
            "marker": {
             "line": {
              "color": "#E5ECF6",
              "width": 0.5
             },
             "pattern": {
              "fillmode": "overlay",
              "size": 10,
              "solidity": 0.2
             }
            },
            "type": "bar"
           }
          ],
          "barpolar": [
           {
            "marker": {
             "line": {
              "color": "#E5ECF6",
              "width": 0.5
             },
             "pattern": {
              "fillmode": "overlay",
              "size": 10,
              "solidity": 0.2
             }
            },
            "type": "barpolar"
           }
          ],
          "carpet": [
           {
            "aaxis": {
             "endlinecolor": "#2a3f5f",
             "gridcolor": "white",
             "linecolor": "white",
             "minorgridcolor": "white",
             "startlinecolor": "#2a3f5f"
            },
            "baxis": {
             "endlinecolor": "#2a3f5f",
             "gridcolor": "white",
             "linecolor": "white",
             "minorgridcolor": "white",
             "startlinecolor": "#2a3f5f"
            },
            "type": "carpet"
           }
          ],
          "choropleth": [
           {
            "colorbar": {
             "outlinewidth": 0,
             "ticks": ""
            },
            "type": "choropleth"
           }
          ],
          "contour": [
           {
            "colorbar": {
             "outlinewidth": 0,
             "ticks": ""
            },
            "colorscale": [
             [
              0,
              "#0d0887"
             ],
             [
              0.1111111111111111,
              "#46039f"
             ],
             [
              0.2222222222222222,
              "#7201a8"
             ],
             [
              0.3333333333333333,
              "#9c179e"
             ],
             [
              0.4444444444444444,
              "#bd3786"
             ],
             [
              0.5555555555555556,
              "#d8576b"
             ],
             [
              0.6666666666666666,
              "#ed7953"
             ],
             [
              0.7777777777777778,
              "#fb9f3a"
             ],
             [
              0.8888888888888888,
              "#fdca26"
             ],
             [
              1,
              "#f0f921"
             ]
            ],
            "type": "contour"
           }
          ],
          "contourcarpet": [
           {
            "colorbar": {
             "outlinewidth": 0,
             "ticks": ""
            },
            "type": "contourcarpet"
           }
          ],
          "heatmap": [
           {
            "colorbar": {
             "outlinewidth": 0,
             "ticks": ""
            },
            "colorscale": [
             [
              0,
              "#0d0887"
             ],
             [
              0.1111111111111111,
              "#46039f"
             ],
             [
              0.2222222222222222,
              "#7201a8"
             ],
             [
              0.3333333333333333,
              "#9c179e"
             ],
             [
              0.4444444444444444,
              "#bd3786"
             ],
             [
              0.5555555555555556,
              "#d8576b"
             ],
             [
              0.6666666666666666,
              "#ed7953"
             ],
             [
              0.7777777777777778,
              "#fb9f3a"
             ],
             [
              0.8888888888888888,
              "#fdca26"
             ],
             [
              1,
              "#f0f921"
             ]
            ],
            "type": "heatmap"
           }
          ],
          "histogram": [
           {
            "marker": {
             "pattern": {
              "fillmode": "overlay",
              "size": 10,
              "solidity": 0.2
             }
            },
            "type": "histogram"
           }
          ],
          "histogram2d": [
           {
            "colorbar": {
             "outlinewidth": 0,
             "ticks": ""
            },
            "colorscale": [
             [
              0,
              "#0d0887"
             ],
             [
              0.1111111111111111,
              "#46039f"
             ],
             [
              0.2222222222222222,
              "#7201a8"
             ],
             [
              0.3333333333333333,
              "#9c179e"
             ],
             [
              0.4444444444444444,
              "#bd3786"
             ],
             [
              0.5555555555555556,
              "#d8576b"
             ],
             [
              0.6666666666666666,
              "#ed7953"
             ],
             [
              0.7777777777777778,
              "#fb9f3a"
             ],
             [
              0.8888888888888888,
              "#fdca26"
             ],
             [
              1,
              "#f0f921"
             ]
            ],
            "type": "histogram2d"
           }
          ],
          "histogram2dcontour": [
           {
            "colorbar": {
             "outlinewidth": 0,
             "ticks": ""
            },
            "colorscale": [
             [
              0,
              "#0d0887"
             ],
             [
              0.1111111111111111,
              "#46039f"
             ],
             [
              0.2222222222222222,
              "#7201a8"
             ],
             [
              0.3333333333333333,
              "#9c179e"
             ],
             [
              0.4444444444444444,
              "#bd3786"
             ],
             [
              0.5555555555555556,
              "#d8576b"
             ],
             [
              0.6666666666666666,
              "#ed7953"
             ],
             [
              0.7777777777777778,
              "#fb9f3a"
             ],
             [
              0.8888888888888888,
              "#fdca26"
             ],
             [
              1,
              "#f0f921"
             ]
            ],
            "type": "histogram2dcontour"
           }
          ],
          "mesh3d": [
           {
            "colorbar": {
             "outlinewidth": 0,
             "ticks": ""
            },
            "type": "mesh3d"
           }
          ],
          "parcoords": [
           {
            "line": {
             "colorbar": {
              "outlinewidth": 0,
              "ticks": ""
             }
            },
            "type": "parcoords"
           }
          ],
          "pie": [
           {
            "automargin": true,
            "type": "pie"
           }
          ],
          "scatter": [
           {
            "fillpattern": {
             "fillmode": "overlay",
             "size": 10,
             "solidity": 0.2
            },
            "type": "scatter"
           }
          ],
          "scatter3d": [
           {
            "line": {
             "colorbar": {
              "outlinewidth": 0,
              "ticks": ""
             }
            },
            "marker": {
             "colorbar": {
              "outlinewidth": 0,
              "ticks": ""
             }
            },
            "type": "scatter3d"
           }
          ],
          "scattercarpet": [
           {
            "marker": {
             "colorbar": {
              "outlinewidth": 0,
              "ticks": ""
             }
            },
            "type": "scattercarpet"
           }
          ],
          "scattergeo": [
           {
            "marker": {
             "colorbar": {
              "outlinewidth": 0,
              "ticks": ""
             }
            },
            "type": "scattergeo"
           }
          ],
          "scattergl": [
           {
            "marker": {
             "colorbar": {
              "outlinewidth": 0,
              "ticks": ""
             }
            },
            "type": "scattergl"
           }
          ],
          "scattermap": [
           {
            "marker": {
             "colorbar": {
              "outlinewidth": 0,
              "ticks": ""
             }
            },
            "type": "scattermap"
           }
          ],
          "scattermapbox": [
           {
            "marker": {
             "colorbar": {
              "outlinewidth": 0,
              "ticks": ""
             }
            },
            "type": "scattermapbox"
           }
          ],
          "scatterpolar": [
           {
            "marker": {
             "colorbar": {
              "outlinewidth": 0,
              "ticks": ""
             }
            },
            "type": "scatterpolar"
           }
          ],
          "scatterpolargl": [
           {
            "marker": {
             "colorbar": {
              "outlinewidth": 0,
              "ticks": ""
             }
            },
            "type": "scatterpolargl"
           }
          ],
          "scatterternary": [
           {
            "marker": {
             "colorbar": {
              "outlinewidth": 0,
              "ticks": ""
             }
            },
            "type": "scatterternary"
           }
          ],
          "surface": [
           {
            "colorbar": {
             "outlinewidth": 0,
             "ticks": ""
            },
            "colorscale": [
             [
              0,
              "#0d0887"
             ],
             [
              0.1111111111111111,
              "#46039f"
             ],
             [
              0.2222222222222222,
              "#7201a8"
             ],
             [
              0.3333333333333333,
              "#9c179e"
             ],
             [
              0.4444444444444444,
              "#bd3786"
             ],
             [
              0.5555555555555556,
              "#d8576b"
             ],
             [
              0.6666666666666666,
              "#ed7953"
             ],
             [
              0.7777777777777778,
              "#fb9f3a"
             ],
             [
              0.8888888888888888,
              "#fdca26"
             ],
             [
              1,
              "#f0f921"
             ]
            ],
            "type": "surface"
           }
          ],
          "table": [
           {
            "cells": {
             "fill": {
              "color": "#EBF0F8"
             },
             "line": {
              "color": "white"
             }
            },
            "header": {
             "fill": {
              "color": "#C8D4E3"
             },
             "line": {
              "color": "white"
             }
            },
            "type": "table"
           }
          ]
         },
         "layout": {
          "annotationdefaults": {
           "arrowcolor": "#2a3f5f",
           "arrowhead": 0,
           "arrowwidth": 1
          },
          "autotypenumbers": "strict",
          "coloraxis": {
           "colorbar": {
            "outlinewidth": 0,
            "ticks": ""
           }
          },
          "colorscale": {
           "diverging": [
            [
             0,
             "#8e0152"
            ],
            [
             0.1,
             "#c51b7d"
            ],
            [
             0.2,
             "#de77ae"
            ],
            [
             0.3,
             "#f1b6da"
            ],
            [
             0.4,
             "#fde0ef"
            ],
            [
             0.5,
             "#f7f7f7"
            ],
            [
             0.6,
             "#e6f5d0"
            ],
            [
             0.7,
             "#b8e186"
            ],
            [
             0.8,
             "#7fbc41"
            ],
            [
             0.9,
             "#4d9221"
            ],
            [
             1,
             "#276419"
            ]
           ],
           "sequential": [
            [
             0,
             "#0d0887"
            ],
            [
             0.1111111111111111,
             "#46039f"
            ],
            [
             0.2222222222222222,
             "#7201a8"
            ],
            [
             0.3333333333333333,
             "#9c179e"
            ],
            [
             0.4444444444444444,
             "#bd3786"
            ],
            [
             0.5555555555555556,
             "#d8576b"
            ],
            [
             0.6666666666666666,
             "#ed7953"
            ],
            [
             0.7777777777777778,
             "#fb9f3a"
            ],
            [
             0.8888888888888888,
             "#fdca26"
            ],
            [
             1,
             "#f0f921"
            ]
           ],
           "sequentialminus": [
            [
             0,
             "#0d0887"
            ],
            [
             0.1111111111111111,
             "#46039f"
            ],
            [
             0.2222222222222222,
             "#7201a8"
            ],
            [
             0.3333333333333333,
             "#9c179e"
            ],
            [
             0.4444444444444444,
             "#bd3786"
            ],
            [
             0.5555555555555556,
             "#d8576b"
            ],
            [
             0.6666666666666666,
             "#ed7953"
            ],
            [
             0.7777777777777778,
             "#fb9f3a"
            ],
            [
             0.8888888888888888,
             "#fdca26"
            ],
            [
             1,
             "#f0f921"
            ]
           ]
          },
          "colorway": [
           "#636efa",
           "#EF553B",
           "#00cc96",
           "#ab63fa",
           "#FFA15A",
           "#19d3f3",
           "#FF6692",
           "#B6E880",
           "#FF97FF",
           "#FECB52"
          ],
          "font": {
           "color": "#2a3f5f"
          },
          "geo": {
           "bgcolor": "white",
           "lakecolor": "white",
           "landcolor": "#E5ECF6",
           "showlakes": true,
           "showland": true,
           "subunitcolor": "white"
          },
          "hoverlabel": {
           "align": "left"
          },
          "hovermode": "closest",
          "mapbox": {
           "style": "light"
          },
          "paper_bgcolor": "white",
          "plot_bgcolor": "#E5ECF6",
          "polar": {
           "angularaxis": {
            "gridcolor": "white",
            "linecolor": "white",
            "ticks": ""
           },
           "bgcolor": "#E5ECF6",
           "radialaxis": {
            "gridcolor": "white",
            "linecolor": "white",
            "ticks": ""
           }
          },
          "scene": {
           "xaxis": {
            "backgroundcolor": "#E5ECF6",
            "gridcolor": "white",
            "gridwidth": 2,
            "linecolor": "white",
            "showbackground": true,
            "ticks": "",
            "zerolinecolor": "white"
           },
           "yaxis": {
            "backgroundcolor": "#E5ECF6",
            "gridcolor": "white",
            "gridwidth": 2,
            "linecolor": "white",
            "showbackground": true,
            "ticks": "",
            "zerolinecolor": "white"
           },
           "zaxis": {
            "backgroundcolor": "#E5ECF6",
            "gridcolor": "white",
            "gridwidth": 2,
            "linecolor": "white",
            "showbackground": true,
            "ticks": "",
            "zerolinecolor": "white"
           }
          },
          "shapedefaults": {
           "line": {
            "color": "#2a3f5f"
           }
          },
          "ternary": {
           "aaxis": {
            "gridcolor": "white",
            "linecolor": "white",
            "ticks": ""
           },
           "baxis": {
            "gridcolor": "white",
            "linecolor": "white",
            "ticks": ""
           },
           "bgcolor": "#E5ECF6",
           "caxis": {
            "gridcolor": "white",
            "linecolor": "white",
            "ticks": ""
           }
          },
          "title": {
           "x": 0.05
          },
          "xaxis": {
           "automargin": true,
           "gridcolor": "white",
           "linecolor": "white",
           "ticks": "",
           "title": {
            "standoff": 15
           },
           "zerolinecolor": "white",
           "zerolinewidth": 2
          },
          "yaxis": {
           "automargin": true,
           "gridcolor": "white",
           "linecolor": "white",
           "ticks": "",
           "title": {
            "standoff": 15
           },
           "zerolinecolor": "white",
           "zerolinewidth": 2
          }
         }
        },
        "title": {
         "text": "Monthly Mean Snow Depth (m) in Isère"
        },
        "updatemenus": [
         {
          "buttons": [
           {
            "args": [
             null,
             {
              "frame": {
               "duration": 500,
               "redraw": true
              },
              "fromcurrent": true,
              "mode": "immediate",
              "transition": {
               "duration": 500,
               "easing": "linear"
              }
             }
            ],
            "label": "&#9654;",
            "method": "animate"
           },
           {
            "args": [
             [
              null
             ],
             {
              "frame": {
               "duration": 0,
               "redraw": true
              },
              "fromcurrent": true,
              "mode": "immediate",
              "transition": {
               "duration": 0,
               "easing": "linear"
              }
             }
            ],
            "label": "&#9724;",
            "method": "animate"
           }
          ],
          "direction": "left",
          "pad": {
           "r": 10,
           "t": 70
          },
          "showactive": false,
          "type": "buttons",
          "x": 0.1,
          "xanchor": "right",
          "y": 0,
          "yanchor": "top"
         }
        ]
       }
      }
     },
     "metadata": {},
     "output_type": "display_data"
    }
   ],
   "source": [
    "import plotly.express as px\n",
    "import json\n",
    "import urllib.request\n",
    "\n",
    "# Create the map with scatter_map\n",
    "fig = px.scatter_map(\n",
    "    monthly,\n",
    "    lat=\"lat\",\n",
    "    lon=\"lon\",\n",
    "    size=\"HTEURNEIGE_Q\",\n",
    "    color=\"HTEURNEIGE_Q\",\n",
    "    animation_frame=\"month\",\n",
    "    size_max=20,\n",
    "    color_continuous_scale=\"Blues\",  # More vibrant than 'Blues'\n",
    "    range_color=[-0.2, 1],\n",
    "    title=\"Monthly Mean Snow Depth (m) in Isère\",\n",
    "    zoom=7,\n",
    "    center={\"lat\": 45.3, \"lon\": 5.6},\n",
    "    map_style=\"carto-positron\"  # Same style, works with MapLibre\n",
    "    \n",
    ")\n",
    "fig.update_layout(height=700, margin={\"r\":0,\"t\":50,\"l\":0,\"b\":0})\n",
    "\n",
    "# Set marker symbol to squares\n",
    "# fig.update_traces(marker=dict(symbol=\"square\"))\n",
    "\n",
    "# Add Isère boundary using GeoJSON\n",
    "url = \"https://france-geojson.gregoiredavid.fr/repo/departements.geojson\"\n",
    "with urllib.request.urlopen(url) as response:\n",
    "    isere_geojson = json.load(response)\n",
    "\n",
    "isere_feature = [f for f in isere_geojson[\"features\"] if f[\"properties\"][\"code\"] == \"38\"]\n",
    "isere_geojson = {\"type\": \"FeatureCollection\", \"features\": isere_feature}\n",
    "\n",
    "# Add the boundary as a layer\n",
    "fig.update_layout(\n",
    "    map_layers=[\n",
    "        {\n",
    "            \"source\": isere_geojson,\n",
    "            \"type\": \"line\",\n",
    "            \"color\": \"black\",\n",
    "            \"line\": {\"width\": 1.5}\n",
    "        }\n",
    "    ]\n",
    ")\n",
    "\n",
    "fig.show()"
   ]
  },
  {
   "cell_type": "code",
   "execution_count": null,
   "id": "75d44707",
   "metadata": {},
   "outputs": [],
   "source": []
  }
 ],
 "metadata": {
  "kernelspec": {
   "display_name": "snowcast",
   "language": "python",
   "name": "python3"
  },
  "language_info": {
   "codemirror_mode": {
    "name": "ipython",
    "version": 3
   },
   "file_extension": ".py",
   "mimetype": "text/x-python",
   "name": "python",
   "nbconvert_exporter": "python",
   "pygments_lexer": "ipython3",
   "version": "3.12.0"
  }
 },
 "nbformat": 4,
 "nbformat_minor": 5
}
