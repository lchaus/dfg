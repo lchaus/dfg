{
 "cells": [
  {
   "cell_type": "code",
   "execution_count": 1,
   "id": "0d665673",
   "metadata": {},
   "outputs": [],
   "source": [
    "import dask.dataframe as dd\n",
    "from dask.distributed import Client"
   ]
  },
  {
   "cell_type": "code",
   "execution_count": 2,
   "id": "e43a245a",
   "metadata": {},
   "outputs": [
    {
     "name": "stderr",
     "output_type": "stream",
     "text": [
      "c:\\Users\\dmitrii.druzhbin\\AppData\\Local\\miniconda3\\envs\\snowcast\\Lib\\site-packages\\distributed\\node.py:187: UserWarning: Port 8787 is already in use.\n",
      "Perhaps you already have a cluster running?\n",
      "Hosting the HTTP server on port 65309 instead\n",
      "  warnings.warn(\n"
     ]
    }
   ],
   "source": [
    "client = Client(\n",
    "    n_workers=4,\n",
    "    threads_per_worker=2,\n",
    "    memory_limit='16GB'\n",
    ")"
   ]
  },
  {
   "cell_type": "code",
   "execution_count": 5,
   "id": "04df056c",
   "metadata": {},
   "outputs": [],
   "source": [
    "data_repo = \"../data/raw/QUOT_SIM2_previous-2020-202507.csv.gz\""
   ]
  },
  {
   "cell_type": "code",
   "execution_count": 10,
   "id": "02927fc5",
   "metadata": {},
   "outputs": [],
   "source": [
    "df = dd.read_csv(data_repo ,sep=\";\",  blocksize=None)"
   ]
  },
  {
   "cell_type": "code",
   "execution_count": 11,
   "id": "397da68e",
   "metadata": {},
   "outputs": [],
   "source": [
    "df[\"DATE\"] = dd.to_datetime(df[\"DATE\"], format=\"%Y%m%d\", errors=\"coerce\")"
   ]
  },
  {
   "cell_type": "code",
   "execution_count": 12,
   "id": "73621160",
   "metadata": {},
   "outputs": [],
   "source": [
    "df_chamrousse = df[\n",
    "    (df[\"LAMBX\"] >= 8700) & (df[\"LAMBX\"] <= 8800) &\n",
    "    (df[\"LAMBY\"] >= 20150) & (df[\"LAMBY\"] <= 20250)\n",
    "]"
   ]
  },
  {
   "cell_type": "code",
   "execution_count": 13,
   "id": "cf9edc3a",
   "metadata": {},
   "outputs": [
    {
     "data": {
      "text/plain": [
       "['c:\\\\Users\\\\dmitrii.druzhbin\\\\Documents\\\\climatest\\\\dfg\\\\chamrousse_filtered_2020-2025.csv']"
      ]
     },
     "execution_count": 13,
     "metadata": {},
     "output_type": "execute_result"
    }
   ],
   "source": [
    "df_chamrousse.to_csv(\"chamrousse_filtered_2020-2025.csv\",single_file=True, index=False)"
   ]
  },
  {
   "cell_type": "code",
   "execution_count": null,
   "id": "9f223744",
   "metadata": {},
   "outputs": [],
   "source": []
  }
 ],
 "metadata": {
  "kernelspec": {
   "display_name": "snowcast",
   "language": "python",
   "name": "python3"
  },
  "language_info": {
   "codemirror_mode": {
    "name": "ipython",
    "version": 3
   },
   "file_extension": ".py",
   "mimetype": "text/x-python",
   "name": "python",
   "nbconvert_exporter": "python",
   "pygments_lexer": "ipython3",
   "version": "3.12.0"
  }
 },
 "nbformat": 4,
 "nbformat_minor": 5
}
